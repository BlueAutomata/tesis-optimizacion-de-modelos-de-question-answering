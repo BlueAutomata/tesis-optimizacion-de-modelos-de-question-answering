{
  "cells": [
    {
      "metadata": {
        "id": "2209be4c53837b4c"
      },
      "cell_type": "markdown",
      "source": [
        "# Entrenamiento con Simple Transformers del model BERT"
      ],
      "id": "2209be4c53837b4c"
    },
    {
      "metadata": {
        "id": "66f78a3b9df35bbf"
      },
      "cell_type": "markdown",
      "source": [
        "## Paso 1: Cargar datos en Google Colab"
      ],
      "id": "66f78a3b9df35bbf"
    },
    {
      "cell_type": "code",
      "execution_count": null,
      "id": "initial_id",
      "metadata": {
        "collapsed": true,
        "id": "initial_id"
      },
      "outputs": [],
      "source": []
    },
    {
      "metadata": {
        "id": "1d75cf920abeb18"
      },
      "cell_type": "markdown",
      "source": [
        "## Paso 2: Instalar librerías"
      ],
      "id": "1d75cf920abeb18"
    },
    {
      "metadata": {
        "colab": {
          "base_uri": "https://localhost:8080/"
        },
        "id": "c4fe7288016b0b1d",
        "outputId": "1bbf2afb-0b16-4dd6-d758-9d07ec1e7753"
      },
      "cell_type": "code",
      "outputs": [
        {
          "output_type": "stream",
          "name": "stdout",
          "text": [
            "Requirement already satisfied: simpletransformers in /usr/local/lib/python3.12/dist-packages (0.70.5)\n",
            "Requirement already satisfied: transformers in /usr/local/lib/python3.12/dist-packages (4.57.1)\n",
            "Requirement already satisfied: datasets in /usr/local/lib/python3.12/dist-packages (4.0.0)\n",
            "Requirement already satisfied: huggingface_hub in /usr/local/lib/python3.12/dist-packages (0.35.3)\n",
            "Requirement already satisfied: scikit-learn in /usr/local/lib/python3.12/dist-packages (1.6.1)\n",
            "Requirement already satisfied: numpy in /usr/local/lib/python3.12/dist-packages (from simpletransformers) (2.0.2)\n",
            "Requirement already satisfied: requests in /usr/local/lib/python3.12/dist-packages (from simpletransformers) (2.32.4)\n",
            "Requirement already satisfied: tqdm>=4.47.0 in /usr/local/lib/python3.12/dist-packages (from simpletransformers) (4.67.1)\n",
            "Requirement already satisfied: regex in /usr/local/lib/python3.12/dist-packages (from simpletransformers) (2024.11.6)\n",
            "Requirement already satisfied: scipy in /usr/local/lib/python3.12/dist-packages (from simpletransformers) (1.16.2)\n",
            "Requirement already satisfied: seqeval in /usr/local/lib/python3.12/dist-packages (from simpletransformers) (1.2.2)\n",
            "Requirement already satisfied: tensorboard in /usr/local/lib/python3.12/dist-packages (from simpletransformers) (2.19.0)\n",
            "Requirement already satisfied: tensorboardx in /usr/local/lib/python3.12/dist-packages (from simpletransformers) (2.6.4)\n",
            "Requirement already satisfied: pandas in /usr/local/lib/python3.12/dist-packages (from simpletransformers) (2.2.2)\n",
            "Requirement already satisfied: tokenizers in /usr/local/lib/python3.12/dist-packages (from simpletransformers) (0.22.1)\n",
            "Requirement already satisfied: wandb>=0.10.32 in /usr/local/lib/python3.12/dist-packages (from simpletransformers) (0.22.2)\n",
            "Requirement already satisfied: streamlit in /usr/local/lib/python3.12/dist-packages (from simpletransformers) (1.50.0)\n",
            "Requirement already satisfied: sentencepiece in /usr/local/lib/python3.12/dist-packages (from simpletransformers) (0.2.1)\n",
            "Requirement already satisfied: filelock in /usr/local/lib/python3.12/dist-packages (from transformers) (3.20.0)\n",
            "Requirement already satisfied: packaging>=20.0 in /usr/local/lib/python3.12/dist-packages (from transformers) (25.0)\n",
            "Requirement already satisfied: pyyaml>=5.1 in /usr/local/lib/python3.12/dist-packages (from transformers) (6.0.3)\n",
            "Requirement already satisfied: safetensors>=0.4.3 in /usr/local/lib/python3.12/dist-packages (from transformers) (0.6.2)\n",
            "Requirement already satisfied: pyarrow>=15.0.0 in /usr/local/lib/python3.12/dist-packages (from datasets) (18.1.0)\n",
            "Requirement already satisfied: dill<0.3.9,>=0.3.0 in /usr/local/lib/python3.12/dist-packages (from datasets) (0.3.8)\n",
            "Requirement already satisfied: xxhash in /usr/local/lib/python3.12/dist-packages (from datasets) (3.6.0)\n",
            "Requirement already satisfied: multiprocess<0.70.17 in /usr/local/lib/python3.12/dist-packages (from datasets) (0.70.16)\n",
            "Requirement already satisfied: fsspec<=2025.3.0,>=2023.1.0 in /usr/local/lib/python3.12/dist-packages (from fsspec[http]<=2025.3.0,>=2023.1.0->datasets) (2025.3.0)\n",
            "Requirement already satisfied: typing-extensions>=3.7.4.3 in /usr/local/lib/python3.12/dist-packages (from huggingface_hub) (4.15.0)\n",
            "Requirement already satisfied: hf-xet<2.0.0,>=1.1.3 in /usr/local/lib/python3.12/dist-packages (from huggingface_hub) (1.1.10)\n",
            "Requirement already satisfied: joblib>=1.2.0 in /usr/local/lib/python3.12/dist-packages (from scikit-learn) (1.5.2)\n",
            "Requirement already satisfied: threadpoolctl>=3.1.0 in /usr/local/lib/python3.12/dist-packages (from scikit-learn) (3.6.0)\n",
            "Requirement already satisfied: aiohttp!=4.0.0a0,!=4.0.0a1 in /usr/local/lib/python3.12/dist-packages (from fsspec[http]<=2025.3.0,>=2023.1.0->datasets) (3.13.1)\n",
            "Requirement already satisfied: charset_normalizer<4,>=2 in /usr/local/lib/python3.12/dist-packages (from requests->simpletransformers) (3.4.4)\n",
            "Requirement already satisfied: idna<4,>=2.5 in /usr/local/lib/python3.12/dist-packages (from requests->simpletransformers) (3.11)\n",
            "Requirement already satisfied: urllib3<3,>=1.21.1 in /usr/local/lib/python3.12/dist-packages (from requests->simpletransformers) (2.5.0)\n",
            "Requirement already satisfied: certifi>=2017.4.17 in /usr/local/lib/python3.12/dist-packages (from requests->simpletransformers) (2025.10.5)\n",
            "Requirement already satisfied: click>=8.0.1 in /usr/local/lib/python3.12/dist-packages (from wandb>=0.10.32->simpletransformers) (8.3.0)\n",
            "Requirement already satisfied: gitpython!=3.1.29,>=1.0.0 in /usr/local/lib/python3.12/dist-packages (from wandb>=0.10.32->simpletransformers) (3.1.45)\n",
            "Requirement already satisfied: platformdirs in /usr/local/lib/python3.12/dist-packages (from wandb>=0.10.32->simpletransformers) (4.5.0)\n",
            "Requirement already satisfied: protobuf!=4.21.0,!=5.28.0,<7,>=3.19.0 in /usr/local/lib/python3.12/dist-packages (from wandb>=0.10.32->simpletransformers) (5.29.5)\n",
            "Requirement already satisfied: pydantic<3 in /usr/local/lib/python3.12/dist-packages (from wandb>=0.10.32->simpletransformers) (2.11.10)\n",
            "Requirement already satisfied: sentry-sdk>=2.0.0 in /usr/local/lib/python3.12/dist-packages (from wandb>=0.10.32->simpletransformers) (2.42.1)\n",
            "Requirement already satisfied: python-dateutil>=2.8.2 in /usr/local/lib/python3.12/dist-packages (from pandas->simpletransformers) (2.9.0.post0)\n",
            "Requirement already satisfied: pytz>=2020.1 in /usr/local/lib/python3.12/dist-packages (from pandas->simpletransformers) (2025.2)\n",
            "Requirement already satisfied: tzdata>=2022.7 in /usr/local/lib/python3.12/dist-packages (from pandas->simpletransformers) (2025.2)\n",
            "Requirement already satisfied: altair!=5.4.0,!=5.4.1,<6,>=4.0 in /usr/local/lib/python3.12/dist-packages (from streamlit->simpletransformers) (5.5.0)\n",
            "Requirement already satisfied: blinker<2,>=1.5.0 in /usr/local/lib/python3.12/dist-packages (from streamlit->simpletransformers) (1.9.0)\n",
            "Requirement already satisfied: cachetools<7,>=4.0 in /usr/local/lib/python3.12/dist-packages (from streamlit->simpletransformers) (5.5.2)\n",
            "Requirement already satisfied: pillow<12,>=7.1.0 in /usr/local/lib/python3.12/dist-packages (from streamlit->simpletransformers) (11.3.0)\n",
            "Requirement already satisfied: tenacity<10,>=8.1.0 in /usr/local/lib/python3.12/dist-packages (from streamlit->simpletransformers) (8.5.0)\n",
            "Requirement already satisfied: toml<2,>=0.10.1 in /usr/local/lib/python3.12/dist-packages (from streamlit->simpletransformers) (0.10.2)\n",
            "Requirement already satisfied: watchdog<7,>=2.1.5 in /usr/local/lib/python3.12/dist-packages (from streamlit->simpletransformers) (6.0.0)\n",
            "Requirement already satisfied: pydeck<1,>=0.8.0b4 in /usr/local/lib/python3.12/dist-packages (from streamlit->simpletransformers) (0.9.1)\n",
            "Requirement already satisfied: tornado!=6.5.0,<7,>=6.0.3 in /usr/local/lib/python3.12/dist-packages (from streamlit->simpletransformers) (6.5.1)\n",
            "Requirement already satisfied: absl-py>=0.4 in /usr/local/lib/python3.12/dist-packages (from tensorboard->simpletransformers) (1.4.0)\n",
            "Requirement already satisfied: grpcio>=1.48.2 in /usr/local/lib/python3.12/dist-packages (from tensorboard->simpletransformers) (1.75.1)\n",
            "Requirement already satisfied: markdown>=2.6.8 in /usr/local/lib/python3.12/dist-packages (from tensorboard->simpletransformers) (3.9)\n",
            "Requirement already satisfied: setuptools>=41.0.0 in /usr/local/lib/python3.12/dist-packages (from tensorboard->simpletransformers) (75.2.0)\n",
            "Requirement already satisfied: six>1.9 in /usr/local/lib/python3.12/dist-packages (from tensorboard->simpletransformers) (1.17.0)\n",
            "Requirement already satisfied: tensorboard-data-server<0.8.0,>=0.7.0 in /usr/local/lib/python3.12/dist-packages (from tensorboard->simpletransformers) (0.7.2)\n",
            "Requirement already satisfied: werkzeug>=1.0.1 in /usr/local/lib/python3.12/dist-packages (from tensorboard->simpletransformers) (3.1.3)\n",
            "Requirement already satisfied: aiohappyeyeballs>=2.5.0 in /usr/local/lib/python3.12/dist-packages (from aiohttp!=4.0.0a0,!=4.0.0a1->fsspec[http]<=2025.3.0,>=2023.1.0->datasets) (2.6.1)\n",
            "Requirement already satisfied: aiosignal>=1.4.0 in /usr/local/lib/python3.12/dist-packages (from aiohttp!=4.0.0a0,!=4.0.0a1->fsspec[http]<=2025.3.0,>=2023.1.0->datasets) (1.4.0)\n",
            "Requirement already satisfied: attrs>=17.3.0 in /usr/local/lib/python3.12/dist-packages (from aiohttp!=4.0.0a0,!=4.0.0a1->fsspec[http]<=2025.3.0,>=2023.1.0->datasets) (25.4.0)\n",
            "Requirement already satisfied: frozenlist>=1.1.1 in /usr/local/lib/python3.12/dist-packages (from aiohttp!=4.0.0a0,!=4.0.0a1->fsspec[http]<=2025.3.0,>=2023.1.0->datasets) (1.8.0)\n",
            "Requirement already satisfied: multidict<7.0,>=4.5 in /usr/local/lib/python3.12/dist-packages (from aiohttp!=4.0.0a0,!=4.0.0a1->fsspec[http]<=2025.3.0,>=2023.1.0->datasets) (6.7.0)\n",
            "Requirement already satisfied: propcache>=0.2.0 in /usr/local/lib/python3.12/dist-packages (from aiohttp!=4.0.0a0,!=4.0.0a1->fsspec[http]<=2025.3.0,>=2023.1.0->datasets) (0.4.1)\n",
            "Requirement already satisfied: yarl<2.0,>=1.17.0 in /usr/local/lib/python3.12/dist-packages (from aiohttp!=4.0.0a0,!=4.0.0a1->fsspec[http]<=2025.3.0,>=2023.1.0->datasets) (1.22.0)\n",
            "Requirement already satisfied: jinja2 in /usr/local/lib/python3.12/dist-packages (from altair!=5.4.0,!=5.4.1,<6,>=4.0->streamlit->simpletransformers) (3.1.6)\n",
            "Requirement already satisfied: jsonschema>=3.0 in /usr/local/lib/python3.12/dist-packages (from altair!=5.4.0,!=5.4.1,<6,>=4.0->streamlit->simpletransformers) (4.25.1)\n",
            "Requirement already satisfied: narwhals>=1.14.2 in /usr/local/lib/python3.12/dist-packages (from altair!=5.4.0,!=5.4.1,<6,>=4.0->streamlit->simpletransformers) (2.9.0)\n",
            "Requirement already satisfied: gitdb<5,>=4.0.1 in /usr/local/lib/python3.12/dist-packages (from gitpython!=3.1.29,>=1.0.0->wandb>=0.10.32->simpletransformers) (4.0.12)\n",
            "Requirement already satisfied: annotated-types>=0.6.0 in /usr/local/lib/python3.12/dist-packages (from pydantic<3->wandb>=0.10.32->simpletransformers) (0.7.0)\n",
            "Requirement already satisfied: pydantic-core==2.33.2 in /usr/local/lib/python3.12/dist-packages (from pydantic<3->wandb>=0.10.32->simpletransformers) (2.33.2)\n",
            "Requirement already satisfied: typing-inspection>=0.4.0 in /usr/local/lib/python3.12/dist-packages (from pydantic<3->wandb>=0.10.32->simpletransformers) (0.4.2)\n",
            "Requirement already satisfied: MarkupSafe>=2.1.1 in /usr/local/lib/python3.12/dist-packages (from werkzeug>=1.0.1->tensorboard->simpletransformers) (3.0.3)\n",
            "Requirement already satisfied: smmap<6,>=3.0.1 in /usr/local/lib/python3.12/dist-packages (from gitdb<5,>=4.0.1->gitpython!=3.1.29,>=1.0.0->wandb>=0.10.32->simpletransformers) (5.0.2)\n",
            "Requirement already satisfied: jsonschema-specifications>=2023.03.6 in /usr/local/lib/python3.12/dist-packages (from jsonschema>=3.0->altair!=5.4.0,!=5.4.1,<6,>=4.0->streamlit->simpletransformers) (2025.9.1)\n",
            "Requirement already satisfied: referencing>=0.28.4 in /usr/local/lib/python3.12/dist-packages (from jsonschema>=3.0->altair!=5.4.0,!=5.4.1,<6,>=4.0->streamlit->simpletransformers) (0.37.0)\n",
            "Requirement already satisfied: rpds-py>=0.7.1 in /usr/local/lib/python3.12/dist-packages (from jsonschema>=3.0->altair!=5.4.0,!=5.4.1,<6,>=4.0->streamlit->simpletransformers) (0.27.1)\n"
          ]
        }
      ],
      "execution_count": 1,
      "source": [
        "!pip install transformers evaluate torch --quiet\n",
        "!pip install simpletransformers transformers datasets huggingface_hub scikit-learn\n",
        "!pip install evaluate --quiet"
      ],
      "id": "c4fe7288016b0b1d"
    },
    {
      "metadata": {
        "id": "62c7c7e47382766d"
      },
      "cell_type": "markdown",
      "source": [
        "## Paso 3: Cargar librerías"
      ],
      "id": "62c7c7e47382766d"
    },
    {
      "metadata": {
        "id": "250093ac02bf1302"
      },
      "cell_type": "code",
      "outputs": [],
      "execution_count": 2,
      "source": [
        "from transformers import pipeline, AutoTokenizer, AutoModelForQuestionAnswering\n",
        "import evaluate\n",
        "import json\n",
        "import os\n",
        "import shutil\n",
        "import requests\n",
        "\n",
        "\n",
        "from tqdm import tqdm\n",
        "from simpletransformers.question_answering import QuestionAnsweringModel, QuestionAnsweringArgs\n",
        "from sklearn.model_selection import train_test_split\n",
        "from google.colab import files"
      ],
      "id": "250093ac02bf1302"
    },
    {
      "metadata": {
        "id": "32fb838b5c5bea80"
      },
      "cell_type": "code",
      "outputs": [],
      "execution_count": 3,
      "source": [
        "import logging\n",
        "logging.getLogger(\"transformers.modeling_utils\").setLevel(logging.ERROR)"
      ],
      "id": "32fb838b5c5bea80"
    },
    {
      "metadata": {
        "colab": {
          "base_uri": "https://localhost:8080/"
        },
        "id": "5680ff0c1ec2b312",
        "outputId": "63094ded-b94e-4d1c-94c2-881ee241a7b5"
      },
      "cell_type": "code",
      "outputs": [
        {
          "output_type": "stream",
          "name": "stdout",
          "text": [
            "GPU available: True\n",
            "GPU name: NVIDIA A100-SXM4-80GB\n"
          ]
        }
      ],
      "execution_count": 4,
      "source": [
        "import torch\n",
        "print(\"GPU available:\", torch.cuda.is_available())\n",
        "if torch.cuda.is_available():\n",
        "    print(\"GPU name:\", torch.cuda.get_device_name(0))"
      ],
      "id": "5680ff0c1ec2b312"
    },
    {
      "metadata": {
        "id": "7db15c832d85ba11"
      },
      "cell_type": "markdown",
      "source": [
        "## Paso 4: Cargar datos"
      ],
      "id": "7db15c832d85ba11"
    },
    {
      "cell_type": "code",
      "source": [
        "# URLs of the files\n",
        "urls = {\n",
        "    \"eval_colombia_mexico_dataset.json\": \"https://github.com/BlueAutomata/tesis-optimizacion-de-modelos-de-question-answering/raw/refs/heads/master/src/datasets/exploration_datasets/gold/eval_colombia_mexico_dataset.json\",\n",
        "    \"train_colombia_mexico_dataset.json\": \"https://github.com/BlueAutomata/tesis-optimizacion-de-modelos-de-question-answering/raw/refs/heads/master/src/datasets/exploration_datasets/gold/train_colombia_mexico_dataset.json\"\n",
        "}\n",
        "\n",
        "# Dictionary to store the loaded JSON data\n",
        "datasets = {}\n",
        "\n",
        "for filename, url in urls.items():\n",
        "    # Download the file\n",
        "    response = requests.get(url)\n",
        "    if response.status_code == 200:\n",
        "        # Save locally\n",
        "        with open(filename, \"wb\") as f:\n",
        "            f.write(response.content)\n",
        "        # Load JSON into Python\n",
        "        datasets[filename] = response.json()\n",
        "        print(f\"{filename} downloaded and loaded successfully!\")\n",
        "    else:\n",
        "        print(f\"Failed to download {filename}. Status code: {response.status_code}\")"
      ],
      "metadata": {
        "id": "sD3gtI1yqVWK",
        "outputId": "a063978b-6113-4d53-8eb0-10662c7a0974",
        "colab": {
          "base_uri": "https://localhost:8080/"
        }
      },
      "id": "sD3gtI1yqVWK",
      "execution_count": 6,
      "outputs": [
        {
          "output_type": "stream",
          "name": "stdout",
          "text": [
            "eval_colombia_mexico_dataset.json downloaded and loaded successfully!\n",
            "train_colombia_mexico_dataset.json downloaded and loaded successfully!\n"
          ]
        }
      ]
    },
    {
      "metadata": {
        "colab": {
          "base_uri": "https://localhost:8080/",
          "height": 193
        },
        "id": "a8ea89b235ef968d",
        "outputId": "8a4131c7-5b4c-435f-d616-d9b9ac574705"
      },
      "cell_type": "code",
      "outputs": [
        {
          "output_type": "error",
          "ename": "FileNotFoundError",
          "evalue": "[Errno 2] No such file or directory: 'train_colombia_mexico_dataset.json'",
          "traceback": [
            "\u001b[0;31m---------------------------------------------------------------------------\u001b[0m",
            "\u001b[0;31mFileNotFoundError\u001b[0m                         Traceback (most recent call last)",
            "\u001b[0;32m/tmp/ipython-input-570604654.py\u001b[0m in \u001b[0;36m<cell line: 0>\u001b[0;34m()\u001b[0m\n\u001b[0;32m----> 1\u001b[0;31m \u001b[0;32mwith\u001b[0m \u001b[0mopen\u001b[0m\u001b[0;34m(\u001b[0m\u001b[0;34m\"train_colombia_mexico_dataset.json\"\u001b[0m\u001b[0;34m,\u001b[0m \u001b[0;34m\"r\"\u001b[0m\u001b[0;34m,\u001b[0m \u001b[0mencoding\u001b[0m\u001b[0;34m=\u001b[0m\u001b[0;34m\"utf-8\"\u001b[0m\u001b[0;34m)\u001b[0m \u001b[0;32mas\u001b[0m \u001b[0mf\u001b[0m\u001b[0;34m:\u001b[0m\u001b[0;34m\u001b[0m\u001b[0;34m\u001b[0m\u001b[0m\n\u001b[0m\u001b[1;32m      2\u001b[0m     \u001b[0mtrain_dataset\u001b[0m \u001b[0;34m=\u001b[0m \u001b[0mjson\u001b[0m\u001b[0;34m.\u001b[0m\u001b[0mload\u001b[0m\u001b[0;34m(\u001b[0m\u001b[0mf\u001b[0m\u001b[0;34m)\u001b[0m\u001b[0;34m\u001b[0m\u001b[0;34m\u001b[0m\u001b[0m\n\u001b[1;32m      3\u001b[0m \u001b[0;34m\u001b[0m\u001b[0m\n\u001b[1;32m      4\u001b[0m \u001b[0mprint\u001b[0m\u001b[0;34m(\u001b[0m\u001b[0;34mf\"✅ Loaded {len(train_dataset)} records successfully!\"\u001b[0m\u001b[0;34m)\u001b[0m\u001b[0;34m\u001b[0m\u001b[0;34m\u001b[0m\u001b[0m\n",
            "\u001b[0;31mFileNotFoundError\u001b[0m: [Errno 2] No such file or directory: 'train_colombia_mexico_dataset.json'"
          ]
        }
      ],
      "execution_count": 5,
      "source": [
        "with open(\"train_colombia_mexico_dataset.json\", \"r\", encoding=\"utf-8\") as f:\n",
        "    train_dataset = json.load(f)\n",
        "\n",
        "print(f\"✅ Loaded {len(train_dataset)} records successfully!\")"
      ],
      "id": "a8ea89b235ef968d"
    },
    {
      "cell_type": "code",
      "source": [
        "with open(\"eval_colombia_mexico_dataset.json\", \"r\", encoding=\"utf-8\") as f:\n",
        "    eval_dataset = json.load(f)\n",
        "\n",
        "print(f\"✅ Loaded {len(eval_dataset)} records successfully!\")"
      ],
      "metadata": {
        "id": "3qb2Xva9A3I0"
      },
      "id": "3qb2Xva9A3I0",
      "execution_count": null,
      "outputs": []
    },
    {
      "metadata": {
        "id": "736767fa21654867"
      },
      "cell_type": "code",
      "outputs": [],
      "execution_count": null,
      "source": [
        "train_dataset = train_dataset[\"data\"]"
      ],
      "id": "736767fa21654867"
    },
    {
      "cell_type": "code",
      "source": [
        "eval_dataset = eval_dataset[\"data\"]"
      ],
      "metadata": {
        "id": "ukSkvCPiBCar"
      },
      "id": "ukSkvCPiBCar",
      "execution_count": null,
      "outputs": []
    },
    {
      "metadata": {
        "id": "19cae72da45da52f"
      },
      "cell_type": "code",
      "outputs": [],
      "execution_count": null,
      "source": [
        "# 🔧 1️⃣ Flatten your dataset so each row has 'context' and 'qas'\n",
        "def flatten_squad(dataset):\n",
        "    new_data = []\n",
        "    for article in dataset:\n",
        "        for para in article[\"paragraphs\"]:\n",
        "            new_data.append({\n",
        "                \"context\": para[\"context\"],\n",
        "                \"qas\": para[\"qas\"]\n",
        "            })\n",
        "    return new_data"
      ],
      "id": "19cae72da45da52f"
    },
    {
      "cell_type": "code",
      "source": [
        "train_data = flatten_squad(train_dataset)"
      ],
      "metadata": {
        "id": "aKff4ppPBGg4"
      },
      "id": "aKff4ppPBGg4",
      "execution_count": null,
      "outputs": []
    },
    {
      "cell_type": "code",
      "source": [
        "eval_data = flatten_squad(eval_dataset)"
      ],
      "metadata": {
        "id": "mGF_m4MwBWIH"
      },
      "id": "mGF_m4MwBWIH",
      "execution_count": null,
      "outputs": []
    },
    {
      "metadata": {
        "id": "2a61be1f8f4e833"
      },
      "cell_type": "code",
      "outputs": [],
      "execution_count": null,
      "source": [
        "print(f\"✅ Training samples: {len(train_data)}\")\n",
        "print(f\"✅ Eval samples: {len(eval_data)}\")"
      ],
      "id": "2a61be1f8f4e833"
    },
    {
      "metadata": {
        "id": "7ea09c6d399e1dad"
      },
      "cell_type": "markdown",
      "source": [
        "## Paso 5: Definir hiperparámetros"
      ],
      "id": "7ea09c6d399e1dad"
    },
    {
      "metadata": {
        "id": "d7eba23510ae2b00"
      },
      "cell_type": "code",
      "outputs": [],
      "execution_count": null,
      "source": [
        "model_args = QuestionAnsweringArgs()\n",
        "\n",
        "# Training behavior\n",
        "model_args.train_batch_size = 8\n",
        "model_args.eval_batch_size = 8\n",
        "model_args.num_train_epochs = 2\n",
        "model_args.learning_rate = 2e-5\n",
        "model_args.gradient_accumulation_steps = 1\n",
        "model_args.overwrite_output_dir = True\n",
        "model_args.evaluate_during_training = True\n",
        "model_args.evaluate_during_training_steps = 500\n",
        "model_args.save_eval_checkpoints = False\n",
        "model_args.save_model_every_epoch = False\n",
        "model_args.save_steps = -1\n",
        "model_args.best_model_dir = \"./outputs/best_model/\"\n",
        "model_args.output_dir = \"./outputs/\"\n",
        "\n",
        "# Optimization\n",
        "model_args.max_seq_length = 384\n",
        "model_args.doc_stride = 128\n",
        "model_args.warmup_ratio = 0.1\n",
        "model_args.max_answer_length = 30\n",
        "\n",
        "# Logging\n",
        "model_args.logging_steps = 100\n",
        "model_args.evaluate_during_training_verbose = True\n",
        "model_args.manual_seed = 42\n",
        "\n",
        "# Resource handling\n",
        "model_args.use_multiprocessing = False  # safer for notebooks\n",
        "model_args.fp16 = torch.cuda.is_available()  # use mixed precision if CUDA available"
      ],
      "id": "d7eba23510ae2b00"
    },
    {
      "metadata": {
        "id": "3daa0e8809603c08"
      },
      "cell_type": "markdown",
      "source": [
        "## Paso 6: Cargar el modelo"
      ],
      "id": "3daa0e8809603c08"
    },
    {
      "metadata": {
        "id": "bf12bf8632845930"
      },
      "cell_type": "code",
      "outputs": [],
      "execution_count": null,
      "source": [
        "model_original = QuestionAnsweringModel(\n",
        "    model_type=\"bert\",\n",
        "    model_name=\"mrm8488/bert-base-spanish-wwm-cased-finetuned-spa-squad2-es\",  # BETO distilled\n",
        "    args=model_args,\n",
        "    use_cuda=torch.cuda.is_available()\n",
        ")"
      ],
      "id": "bf12bf8632845930"
    },
    {
      "metadata": {
        "id": "7d8035f05d9ad114"
      },
      "cell_type": "code",
      "outputs": [],
      "execution_count": null,
      "source": [
        "model = QuestionAnsweringModel(\n",
        "    model_type=\"bert\",\n",
        "    model_name=\"mrm8488/bert-base-spanish-wwm-cased-finetuned-spa-squad2-es\",  # BETO\n",
        "    args=model_args,\n",
        "    use_cuda=torch.cuda.is_available()\n",
        ")"
      ],
      "id": "7d8035f05d9ad114"
    },
    {
      "metadata": {
        "id": "aa6b1974297a336a"
      },
      "cell_type": "markdown",
      "source": [
        "## Paso 7: Entrenamiento del modelo"
      ],
      "id": "aa6b1974297a336a"
    },
    {
      "metadata": {
        "id": "a1d1cd78dd95ddab"
      },
      "cell_type": "code",
      "outputs": [],
      "execution_count": null,
      "source": [
        "model.train_model(train_data, eval_data=eval_data)"
      ],
      "id": "a1d1cd78dd95ddab"
    },
    {
      "metadata": {
        "id": "4cade4fb1f581e45"
      },
      "cell_type": "markdown",
      "source": [
        "## Paso 8: Evaluación de los resultados"
      ],
      "id": "4cade4fb1f581e45"
    },
    {
      "metadata": {
        "id": "7b19ef6adb90f652"
      },
      "cell_type": "code",
      "outputs": [],
      "execution_count": null,
      "source": [
        "result_original, texts_original = model_original.eval_model(eval_data)\n",
        "print(\"📊 Evaluation results:\")\n",
        "print(result_original)"
      ],
      "id": "7b19ef6adb90f652"
    },
    {
      "metadata": {
        "id": "10c67c7f75ae455a"
      },
      "cell_type": "code",
      "outputs": [],
      "execution_count": null,
      "source": [
        "result, texts = model.eval_model(eval_data)\n",
        "print(\"📊 Evaluation results:\")\n",
        "print(result)"
      ],
      "id": "10c67c7f75ae455a"
    },
    {
      "metadata": {
        "id": "7981c8b7e491097d"
      },
      "cell_type": "code",
      "outputs": [],
      "execution_count": null,
      "source": [
        "correct = result['correct']\n",
        "similar = result['similar']\n",
        "incorrect = result['incorrect']\n",
        "total = correct + similar + incorrect\n",
        "\n",
        "# 1️⃣ Exact Match Accuracy\n",
        "exact_match = correct / total\n",
        "\n",
        "# 2️⃣ Weighted Accuracy (partial credit for 'similar')\n",
        "weighted_accuracy = (correct + 0.5 * similar) / total\n",
        "\n",
        "# 3️⃣ F1 Score approximation\n",
        "TP = correct + 0.5 * similar\n",
        "FN = 0.5 * similar + incorrect\n",
        "# Assuming FP = 0 (as Simple Transformers counts predictions, not negatives)\n",
        "precision = TP / TP\n",
        "recall = TP / (TP + FN)\n",
        "f1_score = 2 * (precision * recall) / (precision + recall)\n",
        "\n",
        "# Print results\n",
        "print(f\"Exact Match (EM): {exact_match:.4f} → {exact_match*100:.2f}%\")\n",
        "print(f\"Weighted Accuracy: {weighted_accuracy:.4f} → {weighted_accuracy*100:.2f}%\")\n",
        "print(f\"F1 Score: {f1_score:.4f} → {f1_score*100:.2f}%\")"
      ],
      "id": "7981c8b7e491097d"
    },
    {
      "metadata": {
        "id": "ecce034275986ca7"
      },
      "cell_type": "markdown",
      "source": [
        "## Paso 9: Guardar los resultados"
      ],
      "id": "ecce034275986ca7"
    },
    {
      "metadata": {
        "id": "1179d0048a4bc319"
      },
      "cell_type": "code",
      "outputs": [],
      "execution_count": null,
      "source": [
        "# Folder to save\n",
        "local_path = \"./QA_model_bert\"\n",
        "os.makedirs(local_path, exist_ok=True)\n",
        "\n",
        "# Save the Hugging Face model & tokenizer directly\n",
        "model.model.save_pretrained(local_path)       # Saves weights + config\n",
        "model.tokenizer.save_pretrained(local_path)   # Saves vocab + tokenizer config\n",
        "\n",
        "# Check files\n",
        "!ls -l ./QA_model"
      ],
      "id": "1179d0048a4bc319"
    },
    {
      "metadata": {
        "id": "81d9811781ee7cc8"
      },
      "cell_type": "code",
      "outputs": [],
      "execution_count": null,
      "source": [
        "shutil.make_archive(\"QA_model_bert\", 'zip', local_path)\n",
        "print(\"✅ Zipped model\")\n",
        "!ls -lh QA_model.zip"
      ],
      "id": "81d9811781ee7cc8"
    },
    {
      "metadata": {
        "id": "958bc406e89d451d"
      },
      "cell_type": "code",
      "outputs": [],
      "execution_count": null,
      "source": [
        "files.download(\"QA_model_bert.zip\")"
      ],
      "id": "958bc406e89d451d"
    },
    {
      "metadata": {
        "id": "cdbed63318caf13b"
      },
      "cell_type": "code",
      "outputs": [],
      "execution_count": null,
      "source": [
        "\n",
        "shutil.move(\"QA_model_bert.zip\", \"/content/drive/MyDrive/Thesis_QA_Optimization/Model\")"
      ],
      "id": "cdbed63318caf13b"
    },
    {
      "metadata": {
        "id": "5e91adaaaa9c186c"
      },
      "cell_type": "code",
      "outputs": [],
      "execution_count": null,
      "source": [
        "# Path to the folder containing the saved model\n",
        "model_path = \"./QA_model\"  # change if different\n",
        "\n",
        "# Reload the model\n",
        "my_model = QuestionAnsweringModel(\n",
        "    \"bert\",\n",
        "    model_path,\n",
        "    use_cuda=True  # set to False if no GPU\n",
        ")"
      ],
      "id": "5e91adaaaa9c186c"
    },
    {
      "metadata": {
        "id": "b4a60fd09a01a6c1"
      },
      "cell_type": "code",
      "outputs": [],
      "execution_count": null,
      "source": [
        "# Context & question\n",
        "context = \"Ciudad de México. El capitán de la Secretaría de Marina, Abraham Jeremías Pérez Ramírez, fue hallado muerto en Tamaulipas.\"\n",
        "question = \"¿Quién fue hallado muerto en Tamaulipas?\"\n",
        "\n",
        "# Prepare input in SimpleTransformers format\n",
        "to_predict = [\n",
        "    {\n",
        "        \"context\": context,\n",
        "        \"qas\": [\n",
        "            {\n",
        "                \"id\": \"0\",\n",
        "                \"question\": question,\n",
        "                \"answers\": [{\"text\": \" \", \"answer_start\": 0}],\n",
        "                \"is_impossible\": False\n",
        "            }\n",
        "        ]\n",
        "    }\n",
        "]\n",
        "\n",
        "# Run prediction\n",
        "answers = my_model.predict(to_predict)\n",
        "print(answers)"
      ],
      "id": "b4a60fd09a01a6c1"
    }
  ],
  "metadata": {
    "kernelspec": {
      "display_name": "Python 3",
      "name": "python3"
    },
    "language_info": {
      "codemirror_mode": {
        "name": "ipython",
        "version": 2
      },
      "file_extension": ".py",
      "mimetype": "text/x-python",
      "name": "python",
      "nbconvert_exporter": "python",
      "pygments_lexer": "ipython2",
      "version": "2.7.6"
    },
    "colab": {
      "provenance": [],
      "machine_shape": "hm",
      "gpuType": "A100"
    },
    "accelerator": "GPU"
  },
  "nbformat": 4,
  "nbformat_minor": 5
}