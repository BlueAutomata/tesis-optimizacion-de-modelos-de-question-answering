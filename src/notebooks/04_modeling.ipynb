{
  "cells": [
    {
      "cell_type": "markdown",
      "source": [
        "Test"
      ],
      "metadata": {
        "id": "sbDoLYXwwgPc"
      },
      "id": "sbDoLYXwwgPc"
    },
    {
      "cell_type": "code",
      "source": [],
      "metadata": {
        "id": "MIa00jbu9nXl"
      },
      "id": "MIa00jbu9nXl",
      "execution_count": null,
      "outputs": []
    },
    {
      "cell_type": "code",
      "execution_count": 23,
      "id": "initial_id",
      "metadata": {
        "collapsed": true,
        "id": "initial_id",
        "outputId": "60eeff84-a286-4839-a23b-c8c084312a34",
        "colab": {
          "base_uri": "https://localhost:8080/"
        }
      },
      "outputs": [
        {
          "output_type": "stream",
          "name": "stdout",
          "text": [
            "--2025-10-24 02:02:14--  https://raw.githubusercontent.com/BlueAutomata/tesis-optimizacion-de-modelos-de-question-answering/master/src/datasets/exploration_datasets/gold/qa_dataset_col_mex_news_squad2.json\n",
            "Resolving raw.githubusercontent.com (raw.githubusercontent.com)... 185.199.108.133, 185.199.109.133, 185.199.110.133, ...\n",
            "Connecting to raw.githubusercontent.com (raw.githubusercontent.com)|185.199.108.133|:443... connected.\n",
            "HTTP request sent, awaiting response... 200 OK\n",
            "Length: 133 [text/plain]\n",
            "Saving to: ‘qa_dataset_col_mex_news_squad2.json’\n",
            "\n",
            "\r          qa_datase   0%[                    ]       0  --.-KB/s               \rqa_dataset_col_mex_ 100%[===================>]     133  --.-KB/s    in 0s      \n",
            "\n",
            "2025-10-24 02:02:14 (3.06 MB/s) - ‘qa_dataset_col_mex_news_squad2.json’ saved [133/133]\n",
            "\n"
          ]
        }
      ],
      "source": [
        "!wget \"https://raw.githubusercontent.com/BlueAutomata/tesis-optimizacion-de-modelos-de-question-answering/master/src/datasets/exploration_datasets/gold/qa_dataset_col_mex_news_squad2.json\" -O \"qa_dataset_col_mex_news_squad2.json\""
      ]
    },
    {
      "cell_type": "code",
      "source": [
        "!ls -lh \"/content/drive/MyDrive/qa_dataset_col_mex_news_squad2.json\"\n",
        "!head -n 10 \"/content/drive/MyDrive/qa_dataset_col_mex_news_squad2.json\""
      ],
      "metadata": {
        "id": "RgeJbbA58vot",
        "outputId": "ad468009-a231-48da-d13c-dbc5a0111588",
        "colab": {
          "base_uri": "https://localhost:8080/"
        }
      },
      "id": "RgeJbbA58vot",
      "execution_count": 28,
      "outputs": [
        {
          "output_type": "stream",
          "name": "stdout",
          "text": [
            "-rw------- 1 root root 133 Oct 24 02:01 /content/drive/MyDrive/qa_dataset_col_mex_news_squad2.json\n",
            "version https://git-lfs.github.com/spec/v1\n",
            "oid sha256:7103b65b3b45ee4d63d57681fceae6df1123a839f483467f74a63583f3b6e14e\n",
            "size 20171386\n"
          ]
        }
      ]
    },
    {
      "cell_type": "code",
      "source": [
        "!pip install transformers evaluate torch --quiet"
      ],
      "metadata": {
        "id": "CbgPOMNV9pZD",
        "outputId": "617c2bd9-b029-4cb0-c6f9-5d17376f587d",
        "colab": {
          "base_uri": "https://localhost:8080/"
        }
      },
      "id": "CbgPOMNV9pZD",
      "execution_count": 30,
      "outputs": [
        {
          "output_type": "stream",
          "name": "stdout",
          "text": [
            "\u001b[?25l   \u001b[90m━━━━━━━━━━━━━━━━━━━━━━━━━━━━━━━━━━━━━━━━\u001b[0m \u001b[32m0.0/84.1 kB\u001b[0m \u001b[31m?\u001b[0m eta \u001b[36m-:--:--\u001b[0m\r\u001b[2K   \u001b[90m━━━━━━━━━━━━━━━━━━━━━━━━━━━━━━━━━━━━━━━━\u001b[0m \u001b[32m84.1/84.1 kB\u001b[0m \u001b[31m6.1 MB/s\u001b[0m eta \u001b[36m0:00:00\u001b[0m\n",
            "\u001b[?25h"
          ]
        }
      ]
    },
    {
      "cell_type": "code",
      "source": [
        "from transformers import pipeline, AutoTokenizer, AutoModelForQuestionAnswering\n",
        "import evaluate\n",
        "import json\n",
        "from tqdm import tqdm"
      ],
      "metadata": {
        "id": "DvdaLRjZ9rf8"
      },
      "id": "DvdaLRjZ9rf8",
      "execution_count": 31,
      "outputs": []
    },
    {
      "cell_type": "code",
      "source": [
        "import torch\n",
        "print(\"GPU available:\", torch.cuda.is_available())\n",
        "if torch.cuda.is_available():\n",
        "    print(\"GPU name:\", torch.cuda.get_device_name(0))"
      ],
      "metadata": {
        "id": "Ep83vbLy995Q",
        "outputId": "9874838d-48cd-46c6-8a7e-ee2aa88319bc",
        "colab": {
          "base_uri": "https://localhost:8080/"
        }
      },
      "id": "Ep83vbLy995Q",
      "execution_count": 32,
      "outputs": [
        {
          "output_type": "stream",
          "name": "stdout",
          "text": [
            "GPU available: False\n"
          ]
        }
      ]
    },
    {
      "cell_type": "code",
      "source": [
        "import json\n",
        "\n",
        "with open(\"/content/qa_dataset_col_mex_news_squad2.json\", \"r\", encoding=\"utf-8\") as f:\n",
        "    data = json.load(f)\n",
        "\n",
        "print(f\"✅ Loaded {len(data)} records successfully!\")\n"
      ],
      "metadata": {
        "id": "ZFgQZxvT81Yp",
        "outputId": "1637ac2c-e364-444d-ccdb-49a8bba25c2f",
        "colab": {
          "base_uri": "https://localhost:8080/"
        }
      },
      "id": "ZFgQZxvT81Yp",
      "execution_count": 27,
      "outputs": [
        {
          "output_type": "stream",
          "name": "stdout",
          "text": [
            "✅ Loaded 1 records successfully!\n"
          ]
        }
      ]
    },
    {
      "cell_type": "code",
      "source": [
        "model_name = \"mrm8488/bert-base-spanish-wwm-cased-finetuned-spa-squad2-es\"\n",
        "\n",
        "qa_pipeline = pipeline(\n",
        "    \"question-answering\",\n",
        "    model=model_name,\n",
        "    tokenizer=model_name\n",
        ")"
      ],
      "metadata": {
        "id": "xEQRQUr19wco"
      },
      "id": "xEQRQUr19wco",
      "execution_count": null,
      "outputs": []
    }
  ],
  "metadata": {
    "kernelspec": {
      "display_name": "Python 3",
      "language": "python",
      "name": "python3"
    },
    "language_info": {
      "codemirror_mode": {
        "name": "ipython",
        "version": 2
      },
      "file_extension": ".py",
      "mimetype": "text/x-python",
      "name": "python",
      "nbconvert_exporter": "python",
      "pygments_lexer": "ipython2",
      "version": "2.7.6"
    },
    "colab": {
      "provenance": []
    }
  },
  "nbformat": 4,
  "nbformat_minor": 5
}