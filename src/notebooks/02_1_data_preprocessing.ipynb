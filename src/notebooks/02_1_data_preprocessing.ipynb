{
 "cells": [
  {
   "metadata": {},
   "cell_type": "markdown",
   "source": "# 1. Descripción general",
   "id": "6b3cba9b959d95ce"
  },
  {
   "metadata": {},
   "cell_type": "markdown",
   "source": "# 2. Configuración",
   "id": "9246e724842aaf99"
  },
  {
   "metadata": {},
   "cell_type": "markdown",
   "source": "## 2.1 Importar librerías",
   "id": "90726760f1c1e5ee"
  },
  {
   "metadata": {
    "ExecuteTime": {
     "end_time": "2025-10-19T21:30:06.853176Z",
     "start_time": "2025-10-19T21:29:39.814577Z"
    }
   },
   "cell_type": "code",
   "source": "!python -m spacy download es_core_news_sm",
   "id": "812a4bb05040bdd8",
   "outputs": [
    {
     "name": "stdout",
     "output_type": "stream",
     "text": [
      "Collecting es-core-news-sm==3.8.0\n",
      "  Downloading https://github.com/explosion/spacy-models/releases/download/es_core_news_sm-3.8.0/es_core_news_sm-3.8.0-py3-none-any.whl (12.9 MB)\n",
      "     ---------------------------------------- 0.0/12.9 MB ? eta -:--:--\n",
      "     ---------------------------------------- 0.0/12.9 MB ? eta -:--:--\n",
      "     - -------------------------------------- 0.5/12.9 MB 2.4 MB/s eta 0:00:06\n",
      "     ---- ----------------------------------- 1.3/12.9 MB 2.7 MB/s eta 0:00:05\n",
      "     ----- ---------------------------------- 1.8/12.9 MB 3.0 MB/s eta 0:00:04\n",
      "     ------- -------------------------------- 2.4/12.9 MB 2.9 MB/s eta 0:00:04\n",
      "     -------- ------------------------------- 2.9/12.9 MB 2.5 MB/s eta 0:00:05\n",
      "     -------- ------------------------------- 2.9/12.9 MB 2.5 MB/s eta 0:00:05\n",
      "     -------- ------------------------------- 2.9/12.9 MB 2.5 MB/s eta 0:00:05\n",
      "     -------- ------------------------------- 2.9/12.9 MB 2.5 MB/s eta 0:00:05\n",
      "     --------- ------------------------------ 3.1/12.9 MB 1.6 MB/s eta 0:00:07\n",
      "     --------- ------------------------------ 3.1/12.9 MB 1.6 MB/s eta 0:00:07\n",
      "     ---------- ----------------------------- 3.4/12.9 MB 1.4 MB/s eta 0:00:07\n",
      "     ---------- ----------------------------- 3.4/12.9 MB 1.4 MB/s eta 0:00:07\n",
      "     ----------- ---------------------------- 3.7/12.9 MB 1.3 MB/s eta 0:00:08\n",
      "     ----------- ---------------------------- 3.7/12.9 MB 1.3 MB/s eta 0:00:08\n",
      "     ------------ --------------------------- 3.9/12.9 MB 1.2 MB/s eta 0:00:08\n",
      "     ------------- -------------------------- 4.2/12.9 MB 1.2 MB/s eta 0:00:08\n",
      "     ------------- -------------------------- 4.5/12.9 MB 1.2 MB/s eta 0:00:07\n",
      "     --------------- ------------------------ 5.0/12.9 MB 1.3 MB/s eta 0:00:07\n",
      "     --------------- ------------------------ 5.0/12.9 MB 1.3 MB/s eta 0:00:07\n",
      "     --------------- ------------------------ 5.0/12.9 MB 1.3 MB/s eta 0:00:07\n",
      "     ---------------- ----------------------- 5.2/12.9 MB 1.2 MB/s eta 0:00:07\n",
      "     ---------------- ----------------------- 5.2/12.9 MB 1.2 MB/s eta 0:00:07\n",
      "     ----------------- ---------------------- 5.5/12.9 MB 1.1 MB/s eta 0:00:07\n",
      "     ----------------- ---------------------- 5.8/12.9 MB 1.1 MB/s eta 0:00:07\n",
      "     ------------------ --------------------- 6.0/12.9 MB 1.1 MB/s eta 0:00:07\n",
      "     ------------------- -------------------- 6.3/12.9 MB 1.1 MB/s eta 0:00:06\n",
      "     ------------------- -------------------- 6.3/12.9 MB 1.1 MB/s eta 0:00:06\n",
      "     -------------------- ------------------- 6.6/12.9 MB 1.1 MB/s eta 0:00:06\n",
      "     -------------------- ------------------- 6.6/12.9 MB 1.1 MB/s eta 0:00:06\n",
      "     --------------------- ------------------ 6.8/12.9 MB 1.1 MB/s eta 0:00:06\n",
      "     --------------------- ------------------ 7.1/12.9 MB 1.1 MB/s eta 0:00:06\n",
      "     ---------------------- ----------------- 7.3/12.9 MB 1.1 MB/s eta 0:00:06\n",
      "     ----------------------- ---------------- 7.6/12.9 MB 1.1 MB/s eta 0:00:05\n",
      "     ----------------------- ---------------- 7.6/12.9 MB 1.1 MB/s eta 0:00:05\n",
      "     ------------------------ --------------- 7.9/12.9 MB 1.1 MB/s eta 0:00:05\n",
      "     ------------------------- -------------- 8.1/12.9 MB 1.0 MB/s eta 0:00:05\n",
      "     ------------------------- -------------- 8.1/12.9 MB 1.0 MB/s eta 0:00:05\n",
      "     -------------------------- ------------- 8.4/12.9 MB 1.0 MB/s eta 0:00:05\n",
      "     -------------------------- ------------- 8.7/12.9 MB 1.1 MB/s eta 0:00:05\n",
      "     ---------------------------- ----------- 9.2/12.9 MB 1.1 MB/s eta 0:00:04\n",
      "     ---------------------------- ----------- 9.2/12.9 MB 1.1 MB/s eta 0:00:04\n",
      "     ------------------------------ --------- 9.7/12.9 MB 1.1 MB/s eta 0:00:03\n",
      "     ------------------------------ --------- 10.0/12.9 MB 1.1 MB/s eta 0:00:03\n",
      "     ------------------------------- -------- 10.2/12.9 MB 1.1 MB/s eta 0:00:03\n",
      "     -------------------------------- ------- 10.5/12.9 MB 1.1 MB/s eta 0:00:03\n",
      "     --------------------------------- ------ 10.7/12.9 MB 1.1 MB/s eta 0:00:02\n",
      "     ---------------------------------- ----- 11.0/12.9 MB 1.1 MB/s eta 0:00:02\n",
      "     ---------------------------------- ----- 11.3/12.9 MB 1.1 MB/s eta 0:00:02\n",
      "     ----------------------------------- ---- 11.5/12.9 MB 1.1 MB/s eta 0:00:02\n",
      "     ------------------------------------ --- 11.8/12.9 MB 1.1 MB/s eta 0:00:01\n",
      "     ------------------------------------ --- 11.8/12.9 MB 1.1 MB/s eta 0:00:01\n",
      "     ------------------------------------- -- 12.1/12.9 MB 1.1 MB/s eta 0:00:01\n",
      "     ------------------------------------- -- 12.1/12.9 MB 1.1 MB/s eta 0:00:01\n",
      "     -------------------------------------- - 12.3/12.9 MB 1.1 MB/s eta 0:00:01\n",
      "     ---------------------------------------  12.6/12.9 MB 1.1 MB/s eta 0:00:01\n",
      "     ---------------------------------------  12.6/12.9 MB 1.1 MB/s eta 0:00:01\n",
      "     ---------------------------------------- 12.9/12.9 MB 1.1 MB/s eta 0:00:00\n",
      "\u001B[38;5;2m✔ Download and installation successful\u001B[0m\n",
      "You can now load the package via spacy.load('es_core_news_sm')\n"
     ]
    },
    {
     "name": "stderr",
     "output_type": "stream",
     "text": [
      "\n",
      "[notice] A new release of pip is available: 25.1 -> 25.2\n",
      "[notice] To update, run: python.exe -m pip install --upgrade pip\n"
     ]
    }
   ],
   "execution_count": 1
  },
  {
   "cell_type": "code",
   "id": "initial_id",
   "metadata": {
    "collapsed": true,
    "ExecuteTime": {
     "end_time": "2025-10-21T05:27:07.945869Z",
     "start_time": "2025-10-21T05:27:00.933192Z"
    }
   },
   "source": [
    "import pandas as pd\n",
    "import numpy as np\n",
    "import seaborn as sns\n",
    "import matplotlib.pyplot as plt\n",
    "import os\n",
    "import nltk\n",
    "import spacy\n",
    "import re\n",
    "import unicodedata\n",
    "import string\n",
    "\n",
    "from nltk.tokenize import word_tokenize, sent_tokenize\n",
    "from nltk.corpus import stopwords\n",
    "\n",
    "from flair.data import Sentence\n",
    "from flair.models import SequenceTagger\n",
    "from collections import Counter"
   ],
   "outputs": [],
   "execution_count": 2
  },
  {
   "metadata": {
    "ExecuteTime": {
     "end_time": "2025-10-19T21:30:28.406862Z",
     "start_time": "2025-10-19T21:30:28.251542Z"
    }
   },
   "cell_type": "code",
   "source": [
    "nltk.download('punkt')\n",
    "nltk.download('punkt_tab')\n",
    "nltk.download('stopwords')"
   ],
   "id": "8ea201ebc17af48",
   "outputs": [
    {
     "name": "stderr",
     "output_type": "stream",
     "text": [
      "[nltk_data] Downloading package punkt to\n",
      "[nltk_data]     C:\\Users\\guill\\AppData\\Roaming\\nltk_data...\n",
      "[nltk_data]   Package punkt is already up-to-date!\n",
      "[nltk_data] Downloading package punkt_tab to\n",
      "[nltk_data]     C:\\Users\\guill\\AppData\\Roaming\\nltk_data...\n",
      "[nltk_data]   Package punkt_tab is already up-to-date!\n",
      "[nltk_data] Downloading package stopwords to\n",
      "[nltk_data]     C:\\Users\\guill\\AppData\\Roaming\\nltk_data...\n",
      "[nltk_data]   Package stopwords is already up-to-date!\n"
     ]
    },
    {
     "data": {
      "text/plain": [
       "True"
      ]
     },
     "execution_count": 3,
     "metadata": {},
     "output_type": "execute_result"
    }
   ],
   "execution_count": 3
  },
  {
   "metadata": {},
   "cell_type": "markdown",
   "source": "## 2.2 Rutas de datos",
   "id": "a0981e7a6659f090"
  },
  {
   "metadata": {
    "ExecuteTime": {
     "end_time": "2025-10-21T05:32:42.866351Z",
     "start_time": "2025-10-21T05:32:42.862893Z"
    }
   },
   "cell_type": "code",
   "source": [
    "BRONZE_PATH = \"../datasets/exploration_datasets/bronze/\"\n",
    "SILVER_PATH = \"../datasets/exploration_datasets/silver/\"\n",
    "GOLD_PATH   = \"../datasets/exploration_datasets/gold/\""
   ],
   "id": "65588ecb59889644",
   "outputs": [],
   "execution_count": 22
  },
  {
   "metadata": {},
   "cell_type": "markdown",
   "source": "# 3. Bronze",
   "id": "33865dabb599b47e"
  },
  {
   "metadata": {},
   "cell_type": "markdown",
   "source": "## 3.1. Cargar los datos",
   "id": "a7fc49e1e5cdc332"
  },
  {
   "metadata": {},
   "cell_type": "markdown",
   "source": "### 3.1.1 Cargar los datos de Animal Político",
   "id": "efe990f1af414f7e"
  },
  {
   "metadata": {
    "ExecuteTime": {
     "end_time": "2025-10-19T21:30:28.472923Z",
     "start_time": "2025-10-19T21:30:28.425535Z"
    }
   },
   "cell_type": "code",
   "source": "bronze_df_animal_politico_internacional = pd.read_json(BRONZE_PATH + \"animal_politico_url_internacional.json\")",
   "id": "ba546f215dc432e",
   "outputs": [],
   "execution_count": 5
  },
  {
   "metadata": {
    "ExecuteTime": {
     "end_time": "2025-10-19T21:30:28.498501Z",
     "start_time": "2025-10-19T21:30:28.478233Z"
    }
   },
   "cell_type": "code",
   "source": "bronze_df_animal_politico_politica = pd.read_json(BRONZE_PATH + \"animal_politico_url_politica.json\")",
   "id": "8b24bb1ff3c13d0e",
   "outputs": [],
   "execution_count": 6
  },
  {
   "metadata": {
    "ExecuteTime": {
     "end_time": "2025-10-19T21:30:28.517458Z",
     "start_time": "2025-10-19T21:30:28.503507Z"
    }
   },
   "cell_type": "code",
   "source": "bronze_df_animal_politico_salud = pd.read_json(BRONZE_PATH + \"animal_politico_url_salud.json\")",
   "id": "9f92601e786c99aa",
   "outputs": [],
   "execution_count": 7
  },
  {
   "metadata": {
    "ExecuteTime": {
     "end_time": "2025-10-19T21:30:28.567403Z",
     "start_time": "2025-10-19T21:30:28.521782Z"
    }
   },
   "cell_type": "code",
   "source": "bronze_df_animal_politico_seguridad = pd.read_json(BRONZE_PATH + \"animal_politico_url_seguridad.json\")",
   "id": "1dfe18489f927bc9",
   "outputs": [],
   "execution_count": 8
  },
  {
   "metadata": {},
   "cell_type": "markdown",
   "source": "### 3.1.2 Cargar los datos de El Excélsior",
   "id": "80f2d7e81695ef04"
  },
  {
   "metadata": {
    "ExecuteTime": {
     "end_time": "2025-10-19T21:30:28.593947Z",
     "start_time": "2025-10-19T21:30:28.572922Z"
    }
   },
   "cell_type": "code",
   "source": "bronze_df_el_excelsior = pd.read_json(BRONZE_PATH + \"el_espectador.json\")",
   "id": "bd46d45cab79ca0b",
   "outputs": [],
   "execution_count": 9
  },
  {
   "metadata": {
    "ExecuteTime": {
     "end_time": "2025-10-19T21:30:28.620332Z",
     "start_time": "2025-10-19T21:30:28.600295Z"
    }
   },
   "cell_type": "code",
   "source": "bronze_df_el_excelsior.head()",
   "id": "1bda408a0056b29c",
   "outputs": [
    {
     "data": {
      "text/plain": [
       "   category         sub_category   subcription  \\\n",
       "0  politica      Elecciones 2026          None   \n",
       "1  politica      Elecciones 2026  Suscriptores   \n",
       "2  politica             Política          None   \n",
       "3  politica      Elecciones 2026          None   \n",
       "4  politica  El Magazín Cultural  Suscriptores   \n",
       "\n",
       "                                                 url     date_raw date_parsed  \\\n",
       "0  https://www.elespectador.com/politica/eleccion...   06-10-2025  06-10-2025   \n",
       "1  https://www.elespectador.com/politica/eleccion...   06-10-2025  06-10-2025   \n",
       "2  https://www.elespectador.com/politica/reforma-...  08:10 a. m.  06-10-2025   \n",
       "3  https://www.elespectador.com/politica/eleccion...  09:28 a. m.  06-10-2025   \n",
       "4  https://www.elespectador.com/el-magazin-cultur...  10:00 a. m.  06-10-2025   \n",
       "\n",
       "                                              author  \\\n",
       "0                                 Redacción Política   \n",
       "1                                 Redacción Política   \n",
       "2                                 Redacción Política   \n",
       "3                                 Redacción Política   \n",
       "4  Santiago Muñoz Machado * / Especial para El Es...   \n",
       "\n",
       "                                               title  \\\n",
       "0  Grupo de exmandatarios regionales convocó a pr...   \n",
       "1  De la Espriella sacude campaña de la derecha y...   \n",
       "2  ¿Consulta 2.0? Gobierno Petro analiza vías par...   \n",
       "3  Galán, Peñalosa, Oviedo y Luna continúan acerc...   \n",
       "4  “Se ha puesto de moda renegar de la democracia...   \n",
       "\n",
       "                                      article_header  \\\n",
       "0  Los integrantes de Fuerza de las Regiones envi...   \n",
       "1  El precandidato Abelardo De la Espriella busca...   \n",
       "2  El ministro del Interior, Armando Benedetti, a...   \n",
       "3  Los precandidatos “independientes” se encontra...   \n",
       "4  Fragmento de “De la democracia en Hispanoaméri...   \n",
       "\n",
       "                                             content  \n",
       "0  El grupo de exmandatarios regionales conocido ...  \n",
       "1  En medio de las divisiones de la derecha por e...  \n",
       "2  Audio generado con IA de Google\\n0:00\\n/\\n0:00...  \n",
       "3  Audio generado con IA de Google\\n0:00\\n/\\n0:00...  \n",
       "4  PRÓLOGO\\nLa democracia es una forma de gobiern...  "
      ],
      "text/html": [
       "<div>\n",
       "<style scoped>\n",
       "    .dataframe tbody tr th:only-of-type {\n",
       "        vertical-align: middle;\n",
       "    }\n",
       "\n",
       "    .dataframe tbody tr th {\n",
       "        vertical-align: top;\n",
       "    }\n",
       "\n",
       "    .dataframe thead th {\n",
       "        text-align: right;\n",
       "    }\n",
       "</style>\n",
       "<table border=\"1\" class=\"dataframe\">\n",
       "  <thead>\n",
       "    <tr style=\"text-align: right;\">\n",
       "      <th></th>\n",
       "      <th>category</th>\n",
       "      <th>sub_category</th>\n",
       "      <th>subcription</th>\n",
       "      <th>url</th>\n",
       "      <th>date_raw</th>\n",
       "      <th>date_parsed</th>\n",
       "      <th>author</th>\n",
       "      <th>title</th>\n",
       "      <th>article_header</th>\n",
       "      <th>content</th>\n",
       "    </tr>\n",
       "  </thead>\n",
       "  <tbody>\n",
       "    <tr>\n",
       "      <th>0</th>\n",
       "      <td>politica</td>\n",
       "      <td>Elecciones 2026</td>\n",
       "      <td>None</td>\n",
       "      <td>https://www.elespectador.com/politica/eleccion...</td>\n",
       "      <td>06-10-2025</td>\n",
       "      <td>06-10-2025</td>\n",
       "      <td>Redacción Política</td>\n",
       "      <td>Grupo de exmandatarios regionales convocó a pr...</td>\n",
       "      <td>Los integrantes de Fuerza de las Regiones envi...</td>\n",
       "      <td>El grupo de exmandatarios regionales conocido ...</td>\n",
       "    </tr>\n",
       "    <tr>\n",
       "      <th>1</th>\n",
       "      <td>politica</td>\n",
       "      <td>Elecciones 2026</td>\n",
       "      <td>Suscriptores</td>\n",
       "      <td>https://www.elespectador.com/politica/eleccion...</td>\n",
       "      <td>06-10-2025</td>\n",
       "      <td>06-10-2025</td>\n",
       "      <td>Redacción Política</td>\n",
       "      <td>De la Espriella sacude campaña de la derecha y...</td>\n",
       "      <td>El precandidato Abelardo De la Espriella busca...</td>\n",
       "      <td>En medio de las divisiones de la derecha por e...</td>\n",
       "    </tr>\n",
       "    <tr>\n",
       "      <th>2</th>\n",
       "      <td>politica</td>\n",
       "      <td>Política</td>\n",
       "      <td>None</td>\n",
       "      <td>https://www.elespectador.com/politica/reforma-...</td>\n",
       "      <td>08:10 a. m.</td>\n",
       "      <td>06-10-2025</td>\n",
       "      <td>Redacción Política</td>\n",
       "      <td>¿Consulta 2.0? Gobierno Petro analiza vías par...</td>\n",
       "      <td>El ministro del Interior, Armando Benedetti, a...</td>\n",
       "      <td>Audio generado con IA de Google\\n0:00\\n/\\n0:00...</td>\n",
       "    </tr>\n",
       "    <tr>\n",
       "      <th>3</th>\n",
       "      <td>politica</td>\n",
       "      <td>Elecciones 2026</td>\n",
       "      <td>None</td>\n",
       "      <td>https://www.elespectador.com/politica/eleccion...</td>\n",
       "      <td>09:28 a. m.</td>\n",
       "      <td>06-10-2025</td>\n",
       "      <td>Redacción Política</td>\n",
       "      <td>Galán, Peñalosa, Oviedo y Luna continúan acerc...</td>\n",
       "      <td>Los precandidatos “independientes” se encontra...</td>\n",
       "      <td>Audio generado con IA de Google\\n0:00\\n/\\n0:00...</td>\n",
       "    </tr>\n",
       "    <tr>\n",
       "      <th>4</th>\n",
       "      <td>politica</td>\n",
       "      <td>El Magazín Cultural</td>\n",
       "      <td>Suscriptores</td>\n",
       "      <td>https://www.elespectador.com/el-magazin-cultur...</td>\n",
       "      <td>10:00 a. m.</td>\n",
       "      <td>06-10-2025</td>\n",
       "      <td>Santiago Muñoz Machado * / Especial para El Es...</td>\n",
       "      <td>“Se ha puesto de moda renegar de la democracia...</td>\n",
       "      <td>Fragmento de “De la democracia en Hispanoaméri...</td>\n",
       "      <td>PRÓLOGO\\nLa democracia es una forma de gobiern...</td>\n",
       "    </tr>\n",
       "  </tbody>\n",
       "</table>\n",
       "</div>"
      ]
     },
     "execution_count": 10,
     "metadata": {},
     "output_type": "execute_result"
    }
   ],
   "execution_count": 10
  },
  {
   "metadata": {},
   "cell_type": "markdown",
   "source": "### 3.1.3 Cargar los datos de La Jornada",
   "id": "f7f864d335e7f43b"
  },
  {
   "metadata": {
    "ExecuteTime": {
     "end_time": "2025-10-19T21:30:28.653367Z",
     "start_time": "2025-10-19T21:30:28.626663Z"
    }
   },
   "cell_type": "code",
   "source": "bronze_df_la_jornada = pd.read_json(BRONZE_PATH + \"la_jornada.json\")",
   "id": "8c5488ec30bc0e65",
   "outputs": [],
   "execution_count": 11
  },
  {
   "metadata": {},
   "cell_type": "markdown",
   "source": "### 3.1.4 Cargar los datos de El Colombiano",
   "id": "5c2dce046d135948"
  },
  {
   "metadata": {
    "ExecuteTime": {
     "end_time": "2025-10-19T21:30:28.707965Z",
     "start_time": "2025-10-19T21:30:28.659486Z"
    }
   },
   "cell_type": "code",
   "source": "bronze_df_el_colombiano = pd.read_json(BRONZE_PATH + \"el_colombiano.json\")",
   "id": "60c9d1bf7e60dacf",
   "outputs": [],
   "execution_count": 12
  },
  {
   "metadata": {},
   "cell_type": "markdown",
   "source": "### 3.1.5 Cargar los datos de El Espectador",
   "id": "61322d46410e87f8"
  },
  {
   "metadata": {
    "ExecuteTime": {
     "end_time": "2025-10-19T21:30:28.732633Z",
     "start_time": "2025-10-19T21:30:28.714027Z"
    }
   },
   "cell_type": "code",
   "source": "bronze_df_el_espectador= pd.read_json(BRONZE_PATH + \"el_espectador.json\")",
   "id": "b8f2e3426e285c3",
   "outputs": [],
   "execution_count": 13
  },
  {
   "metadata": {},
   "cell_type": "markdown",
   "source": "### 3.1.6 Cargar los datos de El Tiempo",
   "id": "3be69426f0a3c9d2"
  },
  {
   "metadata": {
    "ExecuteTime": {
     "end_time": "2025-10-19T21:30:28.759952Z",
     "start_time": "2025-10-19T21:30:28.737146Z"
    }
   },
   "cell_type": "code",
   "source": "bronze_df_el_tiempo = pd.read_json(BRONZE_PATH + \"el_tiempo.json\")",
   "id": "c12deb4a71db099",
   "outputs": [],
   "execution_count": 14
  },
  {
   "metadata": {},
   "cell_type": "markdown",
   "source": "### 3.1.7 Cargar los datos de Semana",
   "id": "91832bdb19290853"
  },
  {
   "metadata": {
    "ExecuteTime": {
     "end_time": "2025-10-19T21:30:28.852566Z",
     "start_time": "2025-10-19T21:30:28.764962Z"
    }
   },
   "cell_type": "code",
   "source": "bronze_df_semana = pd.read_json(BRONZE_PATH + \"semana_general.json\")",
   "id": "3e7b73dc9dc91a62",
   "outputs": [],
   "execution_count": 15
  },
  {
   "metadata": {},
   "cell_type": "markdown",
   "source": "### 3.1.8 Cargar los datos de The Media Framing Dataset",
   "id": "7c354c08a0040460"
  },
  {
   "metadata": {
    "ExecuteTime": {
     "end_time": "2025-10-19T21:30:28.864078Z",
     "start_time": "2025-10-19T21:30:28.857100Z"
    }
   },
   "cell_type": "code",
   "source": "bronze_df_media_framing = pd.read_csv(BRONZE_PATH + \"the_media_framing_dataset/labels.csv\")",
   "id": "4310681686f45be2",
   "outputs": [],
   "execution_count": 16
  },
  {
   "metadata": {
    "ExecuteTime": {
     "end_time": "2025-10-19T21:30:28.880076Z",
     "start_time": "2025-10-19T21:30:28.869599Z"
    }
   },
   "cell_type": "code",
   "source": [
    "# Extrae la primera secuencia de dígitos del id y la convierte a número (NaN si no hay dígitos)\n",
    "bronze_df_media_framing['id_num'] = pd.to_numeric(\n",
    "    bronze_df_media_framing['id'].str.extract(r'(\\d+)', expand=False),\n",
    "    errors='coerce'\n",
    ")\n",
    "\n",
    "# Ordena por el número y reinicia el índice\n",
    "bronze_df_media_framing = bronze_df_media_framing.sort_values(by='id_num', ascending=True).reset_index(drop=True)\n",
    "\n",
    "# Elimina la columna auxiliar si no la quieres conservar\n",
    "bronze_df_media_framing.drop(columns='id_num', inplace=True)"
   ],
   "id": "3452e63cdfca572d",
   "outputs": [],
   "execution_count": 17
  },
  {
   "metadata": {
    "ExecuteTime": {
     "end_time": "2025-10-19T21:30:28.897128Z",
     "start_time": "2025-10-19T21:30:28.887084Z"
    }
   },
   "cell_type": "code",
   "source": "bronze_df_media_framing",
   "id": "28cecf5ef95cd261",
   "outputs": [
    {
     "data": {
      "text/plain": [
       "                  id                                             frames  \\\n",
       "0      Noticia_1.txt  ['external_regulation_and_reputation', 'legali...   \n",
       "1      Noticia_2.txt  ['policy_prescription_and_evaluation', 'politi...   \n",
       "2      Noticia_3.txt  ['crime_and_punishment', 'legality_constitutio...   \n",
       "3      Noticia_4.txt  ['political', 'legality_constitutionality_and_...   \n",
       "4      Noticia_5.txt  ['crime_and_punishment', 'security_and_defense...   \n",
       "..               ...                                                ...   \n",
       "135  Noticia_150.txt  ['public_opinion', 'morality', 'legality_const...   \n",
       "136  Noticia_151.txt                    ['political', 'public_opinion']   \n",
       "137  Noticia_152.txt  ['health_and_safety', 'legality_constitutional...   \n",
       "138  Noticia_153.txt  ['legality_constitutionality_and_jurisprudence...   \n",
       "139  Noticia_154.txt  ['policy_prescription_and_evaluation', 'health...   \n",
       "\n",
       "         tone                              principal_frames  economic  \\\n",
       "0     neutral  legality_constitutionality_and_jurisprudence         0   \n",
       "1     neutral                                     political         1   \n",
       "2    negative            external_regulation_and_reputation         1   \n",
       "3     neutral                                     political         0   \n",
       "4    positive            external_regulation_and_reputation         0   \n",
       "..        ...                                           ...       ...   \n",
       "135  negative  legality_constitutionality_and_jurisprudence         0   \n",
       "136   neutral                                     political         0   \n",
       "137  negative                                public_opinion         0   \n",
       "138   neutral  legality_constitutionality_and_jurisprudence         0   \n",
       "139  negative                             health_and_safety         0   \n",
       "\n",
       "     capacity_and_resources  morality  fairness_and_equality  \\\n",
       "0                         0         0                      0   \n",
       "1                         0         1                      0   \n",
       "2                         0         0                      1   \n",
       "3                         0         0                      0   \n",
       "4                         0         0                      0   \n",
       "..                      ...       ...                    ...   \n",
       "135                       0         1                      0   \n",
       "136                       0         0                      0   \n",
       "137                       0         0                      0   \n",
       "138                       0         0                      0   \n",
       "139                       0         0                      0   \n",
       "\n",
       "     legality_constitutionality_and_jurisprudence  \\\n",
       "0                                               1   \n",
       "1                                               0   \n",
       "2                                               1   \n",
       "3                                               1   \n",
       "4                                               0   \n",
       "..                                            ...   \n",
       "135                                             1   \n",
       "136                                             0   \n",
       "137                                             1   \n",
       "138                                             1   \n",
       "139                                             0   \n",
       "\n",
       "     policy_prescription_and_evaluation  crime_and_punishment  \\\n",
       "0                                     1                     1   \n",
       "1                                     1                     0   \n",
       "2                                     0                     1   \n",
       "3                                     0                     0   \n",
       "4                                     0                     1   \n",
       "..                                  ...                   ...   \n",
       "135                                   1                     0   \n",
       "136                                   0                     0   \n",
       "137                                   0                     0   \n",
       "138                                   1                     0   \n",
       "139                                   1                     0   \n",
       "\n",
       "     security_and_defense  health_and_safety  quality_of_life  \\\n",
       "0                       0                  0                0   \n",
       "1                       0                  0                0   \n",
       "2                       0                  0                0   \n",
       "3                       0                  0                0   \n",
       "4                       1                  0                1   \n",
       "..                    ...                ...              ...   \n",
       "135                     0                  1                0   \n",
       "136                     0                  0                0   \n",
       "137                     0                  1                0   \n",
       "138                     0                  1                0   \n",
       "139                     0                  1                0   \n",
       "\n",
       "     cultural_identity  public_opinion  political  \\\n",
       "0                    0               0          0   \n",
       "1                    0               1          1   \n",
       "2                    0               1          0   \n",
       "3                    0               0          1   \n",
       "4                    0               1          0   \n",
       "..                 ...             ...        ...   \n",
       "135                  0               1          0   \n",
       "136                  0               1          1   \n",
       "137                  0               1          0   \n",
       "138                  0               1          1   \n",
       "139                  0               0          1   \n",
       "\n",
       "     external_regulation_and_reputation  \n",
       "0                                     1  \n",
       "1                                     1  \n",
       "2                                     1  \n",
       "3                                     0  \n",
       "4                                     1  \n",
       "..                                  ...  \n",
       "135                                   0  \n",
       "136                                   0  \n",
       "137                                   0  \n",
       "138                                   0  \n",
       "139                                   0  \n",
       "\n",
       "[140 rows x 18 columns]"
      ],
      "text/html": [
       "<div>\n",
       "<style scoped>\n",
       "    .dataframe tbody tr th:only-of-type {\n",
       "        vertical-align: middle;\n",
       "    }\n",
       "\n",
       "    .dataframe tbody tr th {\n",
       "        vertical-align: top;\n",
       "    }\n",
       "\n",
       "    .dataframe thead th {\n",
       "        text-align: right;\n",
       "    }\n",
       "</style>\n",
       "<table border=\"1\" class=\"dataframe\">\n",
       "  <thead>\n",
       "    <tr style=\"text-align: right;\">\n",
       "      <th></th>\n",
       "      <th>id</th>\n",
       "      <th>frames</th>\n",
       "      <th>tone</th>\n",
       "      <th>principal_frames</th>\n",
       "      <th>economic</th>\n",
       "      <th>capacity_and_resources</th>\n",
       "      <th>morality</th>\n",
       "      <th>fairness_and_equality</th>\n",
       "      <th>legality_constitutionality_and_jurisprudence</th>\n",
       "      <th>policy_prescription_and_evaluation</th>\n",
       "      <th>crime_and_punishment</th>\n",
       "      <th>security_and_defense</th>\n",
       "      <th>health_and_safety</th>\n",
       "      <th>quality_of_life</th>\n",
       "      <th>cultural_identity</th>\n",
       "      <th>public_opinion</th>\n",
       "      <th>political</th>\n",
       "      <th>external_regulation_and_reputation</th>\n",
       "    </tr>\n",
       "  </thead>\n",
       "  <tbody>\n",
       "    <tr>\n",
       "      <th>0</th>\n",
       "      <td>Noticia_1.txt</td>\n",
       "      <td>['external_regulation_and_reputation', 'legali...</td>\n",
       "      <td>neutral</td>\n",
       "      <td>legality_constitutionality_and_jurisprudence</td>\n",
       "      <td>0</td>\n",
       "      <td>0</td>\n",
       "      <td>0</td>\n",
       "      <td>0</td>\n",
       "      <td>1</td>\n",
       "      <td>1</td>\n",
       "      <td>1</td>\n",
       "      <td>0</td>\n",
       "      <td>0</td>\n",
       "      <td>0</td>\n",
       "      <td>0</td>\n",
       "      <td>0</td>\n",
       "      <td>0</td>\n",
       "      <td>1</td>\n",
       "    </tr>\n",
       "    <tr>\n",
       "      <th>1</th>\n",
       "      <td>Noticia_2.txt</td>\n",
       "      <td>['policy_prescription_and_evaluation', 'politi...</td>\n",
       "      <td>neutral</td>\n",
       "      <td>political</td>\n",
       "      <td>1</td>\n",
       "      <td>0</td>\n",
       "      <td>1</td>\n",
       "      <td>0</td>\n",
       "      <td>0</td>\n",
       "      <td>1</td>\n",
       "      <td>0</td>\n",
       "      <td>0</td>\n",
       "      <td>0</td>\n",
       "      <td>0</td>\n",
       "      <td>0</td>\n",
       "      <td>1</td>\n",
       "      <td>1</td>\n",
       "      <td>1</td>\n",
       "    </tr>\n",
       "    <tr>\n",
       "      <th>2</th>\n",
       "      <td>Noticia_3.txt</td>\n",
       "      <td>['crime_and_punishment', 'legality_constitutio...</td>\n",
       "      <td>negative</td>\n",
       "      <td>external_regulation_and_reputation</td>\n",
       "      <td>1</td>\n",
       "      <td>0</td>\n",
       "      <td>0</td>\n",
       "      <td>1</td>\n",
       "      <td>1</td>\n",
       "      <td>0</td>\n",
       "      <td>1</td>\n",
       "      <td>0</td>\n",
       "      <td>0</td>\n",
       "      <td>0</td>\n",
       "      <td>0</td>\n",
       "      <td>1</td>\n",
       "      <td>0</td>\n",
       "      <td>1</td>\n",
       "    </tr>\n",
       "    <tr>\n",
       "      <th>3</th>\n",
       "      <td>Noticia_4.txt</td>\n",
       "      <td>['political', 'legality_constitutionality_and_...</td>\n",
       "      <td>neutral</td>\n",
       "      <td>political</td>\n",
       "      <td>0</td>\n",
       "      <td>0</td>\n",
       "      <td>0</td>\n",
       "      <td>0</td>\n",
       "      <td>1</td>\n",
       "      <td>0</td>\n",
       "      <td>0</td>\n",
       "      <td>0</td>\n",
       "      <td>0</td>\n",
       "      <td>0</td>\n",
       "      <td>0</td>\n",
       "      <td>0</td>\n",
       "      <td>1</td>\n",
       "      <td>0</td>\n",
       "    </tr>\n",
       "    <tr>\n",
       "      <th>4</th>\n",
       "      <td>Noticia_5.txt</td>\n",
       "      <td>['crime_and_punishment', 'security_and_defense...</td>\n",
       "      <td>positive</td>\n",
       "      <td>external_regulation_and_reputation</td>\n",
       "      <td>0</td>\n",
       "      <td>0</td>\n",
       "      <td>0</td>\n",
       "      <td>0</td>\n",
       "      <td>0</td>\n",
       "      <td>0</td>\n",
       "      <td>1</td>\n",
       "      <td>1</td>\n",
       "      <td>0</td>\n",
       "      <td>1</td>\n",
       "      <td>0</td>\n",
       "      <td>1</td>\n",
       "      <td>0</td>\n",
       "      <td>1</td>\n",
       "    </tr>\n",
       "    <tr>\n",
       "      <th>...</th>\n",
       "      <td>...</td>\n",
       "      <td>...</td>\n",
       "      <td>...</td>\n",
       "      <td>...</td>\n",
       "      <td>...</td>\n",
       "      <td>...</td>\n",
       "      <td>...</td>\n",
       "      <td>...</td>\n",
       "      <td>...</td>\n",
       "      <td>...</td>\n",
       "      <td>...</td>\n",
       "      <td>...</td>\n",
       "      <td>...</td>\n",
       "      <td>...</td>\n",
       "      <td>...</td>\n",
       "      <td>...</td>\n",
       "      <td>...</td>\n",
       "      <td>...</td>\n",
       "    </tr>\n",
       "    <tr>\n",
       "      <th>135</th>\n",
       "      <td>Noticia_150.txt</td>\n",
       "      <td>['public_opinion', 'morality', 'legality_const...</td>\n",
       "      <td>negative</td>\n",
       "      <td>legality_constitutionality_and_jurisprudence</td>\n",
       "      <td>0</td>\n",
       "      <td>0</td>\n",
       "      <td>1</td>\n",
       "      <td>0</td>\n",
       "      <td>1</td>\n",
       "      <td>1</td>\n",
       "      <td>0</td>\n",
       "      <td>0</td>\n",
       "      <td>1</td>\n",
       "      <td>0</td>\n",
       "      <td>0</td>\n",
       "      <td>1</td>\n",
       "      <td>0</td>\n",
       "      <td>0</td>\n",
       "    </tr>\n",
       "    <tr>\n",
       "      <th>136</th>\n",
       "      <td>Noticia_151.txt</td>\n",
       "      <td>['political', 'public_opinion']</td>\n",
       "      <td>neutral</td>\n",
       "      <td>political</td>\n",
       "      <td>0</td>\n",
       "      <td>0</td>\n",
       "      <td>0</td>\n",
       "      <td>0</td>\n",
       "      <td>0</td>\n",
       "      <td>0</td>\n",
       "      <td>0</td>\n",
       "      <td>0</td>\n",
       "      <td>0</td>\n",
       "      <td>0</td>\n",
       "      <td>0</td>\n",
       "      <td>1</td>\n",
       "      <td>1</td>\n",
       "      <td>0</td>\n",
       "    </tr>\n",
       "    <tr>\n",
       "      <th>137</th>\n",
       "      <td>Noticia_152.txt</td>\n",
       "      <td>['health_and_safety', 'legality_constitutional...</td>\n",
       "      <td>negative</td>\n",
       "      <td>public_opinion</td>\n",
       "      <td>0</td>\n",
       "      <td>0</td>\n",
       "      <td>0</td>\n",
       "      <td>0</td>\n",
       "      <td>1</td>\n",
       "      <td>0</td>\n",
       "      <td>0</td>\n",
       "      <td>0</td>\n",
       "      <td>1</td>\n",
       "      <td>0</td>\n",
       "      <td>0</td>\n",
       "      <td>1</td>\n",
       "      <td>0</td>\n",
       "      <td>0</td>\n",
       "    </tr>\n",
       "    <tr>\n",
       "      <th>138</th>\n",
       "      <td>Noticia_153.txt</td>\n",
       "      <td>['legality_constitutionality_and_jurisprudence...</td>\n",
       "      <td>neutral</td>\n",
       "      <td>legality_constitutionality_and_jurisprudence</td>\n",
       "      <td>0</td>\n",
       "      <td>0</td>\n",
       "      <td>0</td>\n",
       "      <td>0</td>\n",
       "      <td>1</td>\n",
       "      <td>1</td>\n",
       "      <td>0</td>\n",
       "      <td>0</td>\n",
       "      <td>1</td>\n",
       "      <td>0</td>\n",
       "      <td>0</td>\n",
       "      <td>1</td>\n",
       "      <td>1</td>\n",
       "      <td>0</td>\n",
       "    </tr>\n",
       "    <tr>\n",
       "      <th>139</th>\n",
       "      <td>Noticia_154.txt</td>\n",
       "      <td>['policy_prescription_and_evaluation', 'health...</td>\n",
       "      <td>negative</td>\n",
       "      <td>health_and_safety</td>\n",
       "      <td>0</td>\n",
       "      <td>0</td>\n",
       "      <td>0</td>\n",
       "      <td>0</td>\n",
       "      <td>0</td>\n",
       "      <td>1</td>\n",
       "      <td>0</td>\n",
       "      <td>0</td>\n",
       "      <td>1</td>\n",
       "      <td>0</td>\n",
       "      <td>0</td>\n",
       "      <td>0</td>\n",
       "      <td>1</td>\n",
       "      <td>0</td>\n",
       "    </tr>\n",
       "  </tbody>\n",
       "</table>\n",
       "<p>140 rows × 18 columns</p>\n",
       "</div>"
      ]
     },
     "execution_count": 18,
     "metadata": {},
     "output_type": "execute_result"
    }
   ],
   "execution_count": 18
  },
  {
   "metadata": {
    "ExecuteTime": {
     "end_time": "2025-10-19T21:30:28.906568Z",
     "start_time": "2025-10-19T21:30:28.903180Z"
    }
   },
   "cell_type": "code",
   "source": "media_framing_folder_path = BRONZE_PATH + \"the_media_framing_dataset/articles/\"",
   "id": "9b59cdc726f38141",
   "outputs": [],
   "execution_count": 19
  },
  {
   "metadata": {
    "ExecuteTime": {
     "end_time": "2025-10-19T21:30:28.919111Z",
     "start_time": "2025-10-19T21:30:28.914086Z"
    }
   },
   "cell_type": "code",
   "source": "media_framing_files = [f for f in os.listdir(media_framing_folder_path) if f.endswith(\".txt\")]",
   "id": "2f9ca5636e54dd14",
   "outputs": [],
   "execution_count": 20
  },
  {
   "metadata": {
    "ExecuteTime": {
     "end_time": "2025-10-19T21:30:28.929133Z",
     "start_time": "2025-10-19T21:30:28.924626Z"
    }
   },
   "cell_type": "code",
   "source": [
    "media_framing_files = sorted(\n",
    "    media_framing_files,\n",
    "    key=lambda x: int(''.join(filter(str.isdigit, x)))  # extrae el número del texto\n",
    ")\n"
   ],
   "id": "ab7c870e6c2a259c",
   "outputs": [],
   "execution_count": 21
  },
  {
   "metadata": {
    "ExecuteTime": {
     "end_time": "2025-10-19T21:30:28.939499Z",
     "start_time": "2025-10-19T21:30:28.934138Z"
    }
   },
   "cell_type": "code",
   "source": "media_framing_files",
   "id": "8950c0cafa70c8e5",
   "outputs": [
    {
     "data": {
      "text/plain": [
       "['Noticia_1.txt',\n",
       " 'Noticia_2.txt',\n",
       " 'Noticia_3.txt',\n",
       " 'Noticia_4.txt',\n",
       " 'Noticia_5.txt',\n",
       " 'Noticia_6.txt',\n",
       " 'Noticia_7.txt',\n",
       " 'Noticia_8.txt',\n",
       " 'Noticia_9.txt',\n",
       " 'Noticia_10.txt',\n",
       " 'Noticia_11.txt',\n",
       " 'Noticia_12.txt',\n",
       " 'Noticia_13.txt',\n",
       " 'Noticia_14.txt',\n",
       " 'Noticia_15.txt',\n",
       " 'Noticia_16.txt',\n",
       " 'Noticia_17.txt',\n",
       " 'Noticia_18.txt',\n",
       " 'Noticia_19.txt',\n",
       " 'Noticia_20.txt',\n",
       " 'Noticia_21.txt',\n",
       " 'Noticia_22.txt',\n",
       " 'Noticia_23.txt',\n",
       " 'Noticia_24.txt',\n",
       " 'Noticia_25.txt',\n",
       " 'Noticia_26.txt',\n",
       " 'Noticia_27.txt',\n",
       " 'Noticia_28.txt',\n",
       " 'Noticia_29.txt',\n",
       " 'Noticia_30.txt',\n",
       " 'Noticia_31.txt',\n",
       " 'Noticia_32.txt',\n",
       " 'Noticia_33.txt',\n",
       " 'Noticia_34.txt',\n",
       " 'Noticia_35.txt',\n",
       " 'Noticia_36.txt',\n",
       " 'Noticia_37.txt',\n",
       " 'Noticia_38.txt',\n",
       " 'Noticia_39.txt',\n",
       " 'Noticia_40.txt',\n",
       " 'Noticia_41.txt',\n",
       " 'Noticia_42.txt',\n",
       " 'Noticia_43.txt',\n",
       " 'Noticia_44.txt',\n",
       " 'Noticia_45.txt',\n",
       " 'Noticia_46.txt',\n",
       " 'Noticia_47.txt',\n",
       " 'Noticia_48.txt',\n",
       " 'Noticia_49.txt',\n",
       " 'Noticia_50.txt',\n",
       " 'Noticia_51.txt',\n",
       " 'Noticia_52.txt',\n",
       " 'Noticia_53.txt',\n",
       " 'Noticia_54.txt',\n",
       " 'Noticia_55.txt',\n",
       " 'Noticia_56.txt',\n",
       " 'Noticia_57.txt',\n",
       " 'Noticia_58.txt',\n",
       " 'Noticia_59.txt',\n",
       " 'Noticia_60.txt',\n",
       " 'Noticia_61.txt',\n",
       " 'Noticia_62.txt',\n",
       " 'Noticia_63.txt',\n",
       " 'Noticia_64.txt',\n",
       " 'Noticia_65.txt',\n",
       " 'Noticia_66.txt',\n",
       " 'Noticia_67.txt',\n",
       " 'Noticia_68.txt',\n",
       " 'Noticia_69.txt',\n",
       " 'Noticia_70.txt',\n",
       " 'Noticia_71.txt',\n",
       " 'Noticia_72.txt',\n",
       " 'Noticia_87.txt',\n",
       " 'Noticia_88.txt',\n",
       " 'Noticia_89.txt',\n",
       " 'Noticia_90.txt',\n",
       " 'Noticia_91.txt',\n",
       " 'Noticia_92.txt',\n",
       " 'Noticia_93.txt',\n",
       " 'Noticia_94.txt',\n",
       " 'Noticia_95.txt',\n",
       " 'Noticia_96.txt',\n",
       " 'Noticia_97.txt',\n",
       " 'Noticia_98.txt',\n",
       " 'Noticia_99.txt',\n",
       " 'Noticia_100.txt',\n",
       " 'Noticia_101.txt',\n",
       " 'Noticia_102.txt',\n",
       " 'Noticia_103.txt',\n",
       " 'Noticia_104.txt',\n",
       " 'Noticia_105.txt',\n",
       " 'Noticia_106.txt',\n",
       " 'Noticia_107.txt',\n",
       " 'Noticia_108.txt',\n",
       " 'Noticia_109.txt',\n",
       " 'Noticia_110.txt',\n",
       " 'Noticia_111.txt',\n",
       " 'Noticia_112.txt',\n",
       " 'Noticia_113.txt',\n",
       " 'Noticia_114.txt',\n",
       " 'Noticia_115.txt',\n",
       " 'Noticia_116.txt',\n",
       " 'Noticia_117.txt',\n",
       " 'Noticia_118.txt',\n",
       " 'Noticia_119.txt',\n",
       " 'Noticia_120.txt',\n",
       " 'Noticia_121.txt',\n",
       " 'Noticia_122.txt',\n",
       " 'Noticia_123.txt',\n",
       " 'Noticia_124.txt',\n",
       " 'Noticia_125.txt',\n",
       " 'Noticia_126.txt',\n",
       " 'Noticia_127.txt',\n",
       " 'Noticia_128.txt',\n",
       " 'Noticia_129.txt',\n",
       " 'Noticia_130.txt',\n",
       " 'Noticia_131.txt',\n",
       " 'Noticia_132.txt',\n",
       " 'Noticia_133.txt',\n",
       " 'Noticia_134.txt',\n",
       " 'Noticia_135.txt',\n",
       " 'Noticia_136.txt',\n",
       " 'Noticia_137.txt',\n",
       " 'Noticia_138.txt',\n",
       " 'Noticia_139.txt',\n",
       " 'Noticia_140.txt',\n",
       " 'Noticia_141.txt',\n",
       " 'Noticia_142.txt',\n",
       " 'Noticia_143.txt',\n",
       " 'Noticia_144.txt',\n",
       " 'Noticia_145.txt',\n",
       " 'Noticia_146.txt',\n",
       " 'Noticia_147.txt',\n",
       " 'Noticia_148.txt',\n",
       " 'Noticia_149.txt',\n",
       " 'Noticia_150.txt',\n",
       " 'Noticia_151.txt',\n",
       " 'Noticia_152.txt',\n",
       " 'Noticia_153.txt',\n",
       " 'Noticia_154.txt']"
      ]
     },
     "execution_count": 22,
     "metadata": {},
     "output_type": "execute_result"
    }
   ],
   "execution_count": 22
  },
  {
   "metadata": {
    "ExecuteTime": {
     "end_time": "2025-10-19T21:30:29.007863Z",
     "start_time": "2025-10-19T21:30:28.946507Z"
    }
   },
   "cell_type": "code",
   "source": [
    "media_framing_article_data = []\n",
    "for file in media_framing_files:\n",
    "    with open(os.path.join(media_framing_folder_path, file), \"r\", encoding=\"utf-8\") as f:\n",
    "        content = f.read()\n",
    "        media_framing_article_data.append(content)"
   ],
   "id": "fef83563e5f495fc",
   "outputs": [],
   "execution_count": 23
  },
  {
   "metadata": {
    "ExecuteTime": {
     "end_time": "2025-10-19T21:30:29.017319Z",
     "start_time": "2025-10-19T21:30:29.013387Z"
    }
   },
   "cell_type": "code",
   "source": "bronze_df_media_framing.insert(1, \"news\", media_framing_article_data)",
   "id": "6a30f24de8a6e386",
   "outputs": [],
   "execution_count": 24
  },
  {
   "metadata": {
    "ExecuteTime": {
     "end_time": "2025-10-19T21:30:29.028048Z",
     "start_time": "2025-10-19T21:30:29.022840Z"
    }
   },
   "cell_type": "code",
   "source": [
    "bronze_df_media_framing[\"country\"] = \"Mexico\"\n",
    "bronze_df_media_framing.loc[:71, \"country\"] = \"Colombia\""
   ],
   "id": "5043874c224ec579",
   "outputs": [],
   "execution_count": 25
  },
  {
   "metadata": {
    "ExecuteTime": {
     "end_time": "2025-10-19T21:30:29.037547Z",
     "start_time": "2025-10-19T21:30:29.033565Z"
    }
   },
   "cell_type": "code",
   "source": [
    "bronze_df_media_framing[\"newspaper\"] = \"El Universal\"\n",
    "bronze_df_media_framing.loc[:71, \"newspaper\"] = \"El Tiempo\""
   ],
   "id": "87952d123e9f4ea9",
   "outputs": [],
   "execution_count": 26
  },
  {
   "metadata": {
    "ExecuteTime": {
     "end_time": "2025-10-19T21:30:29.068627Z",
     "start_time": "2025-10-19T21:30:29.064119Z"
    }
   },
   "cell_type": "code",
   "source": "bronze_df_media_framing.loc[bronze_df_media_framing[\"principal_frames\"] == \"other\", \"principal_frames\"] = \"public_opinion\"",
   "id": "a2f508acf34f5a67",
   "outputs": [],
   "execution_count": 27
  },
  {
   "metadata": {
    "ExecuteTime": {
     "end_time": "2025-10-19T21:30:29.121284Z",
     "start_time": "2025-10-19T21:30:29.108271Z"
    }
   },
   "cell_type": "code",
   "source": "bronze_df_media_framing.head()",
   "id": "1b55b7f5e1bf9624",
   "outputs": [
    {
     "data": {
      "text/plain": [
       "              id                                               news  \\\n",
       "0  Noticia_1.txt  ¿Cuánto tiempo estoy autorizado a permanecer e...   \n",
       "1  Noticia_2.txt  Presidente Petro catalogó de 'invasión imperia...   \n",
       "2  Noticia_3.txt  La dura ley antiinmigración que adoptó Reino U...   \n",
       "3  Noticia_4.txt  ¿Qué le falta a Ron DeSantis para cumplir las ...   \n",
       "4  Noticia_5.txt  México: así ataja el flujo de migrantes en la ...   \n",
       "\n",
       "                                              frames      tone  \\\n",
       "0  ['external_regulation_and_reputation', 'legali...   neutral   \n",
       "1  ['policy_prescription_and_evaluation', 'politi...   neutral   \n",
       "2  ['crime_and_punishment', 'legality_constitutio...  negative   \n",
       "3  ['political', 'legality_constitutionality_and_...   neutral   \n",
       "4  ['crime_and_punishment', 'security_and_defense...  positive   \n",
       "\n",
       "                               principal_frames  economic  \\\n",
       "0  legality_constitutionality_and_jurisprudence         0   \n",
       "1                                     political         1   \n",
       "2            external_regulation_and_reputation         1   \n",
       "3                                     political         0   \n",
       "4            external_regulation_and_reputation         0   \n",
       "\n",
       "   capacity_and_resources  morality  fairness_and_equality  \\\n",
       "0                       0         0                      0   \n",
       "1                       0         1                      0   \n",
       "2                       0         0                      1   \n",
       "3                       0         0                      0   \n",
       "4                       0         0                      0   \n",
       "\n",
       "   legality_constitutionality_and_jurisprudence  ...  crime_and_punishment  \\\n",
       "0                                             1  ...                     1   \n",
       "1                                             0  ...                     0   \n",
       "2                                             1  ...                     1   \n",
       "3                                             1  ...                     0   \n",
       "4                                             0  ...                     1   \n",
       "\n",
       "   security_and_defense  health_and_safety  quality_of_life  \\\n",
       "0                     0                  0                0   \n",
       "1                     0                  0                0   \n",
       "2                     0                  0                0   \n",
       "3                     0                  0                0   \n",
       "4                     1                  0                1   \n",
       "\n",
       "   cultural_identity  public_opinion  political  \\\n",
       "0                  0               0          0   \n",
       "1                  0               1          1   \n",
       "2                  0               1          0   \n",
       "3                  0               0          1   \n",
       "4                  0               1          0   \n",
       "\n",
       "   external_regulation_and_reputation   country  newspaper  \n",
       "0                                   1  Colombia  El Tiempo  \n",
       "1                                   1  Colombia  El Tiempo  \n",
       "2                                   1  Colombia  El Tiempo  \n",
       "3                                   0  Colombia  El Tiempo  \n",
       "4                                   1  Colombia  El Tiempo  \n",
       "\n",
       "[5 rows x 21 columns]"
      ],
      "text/html": [
       "<div>\n",
       "<style scoped>\n",
       "    .dataframe tbody tr th:only-of-type {\n",
       "        vertical-align: middle;\n",
       "    }\n",
       "\n",
       "    .dataframe tbody tr th {\n",
       "        vertical-align: top;\n",
       "    }\n",
       "\n",
       "    .dataframe thead th {\n",
       "        text-align: right;\n",
       "    }\n",
       "</style>\n",
       "<table border=\"1\" class=\"dataframe\">\n",
       "  <thead>\n",
       "    <tr style=\"text-align: right;\">\n",
       "      <th></th>\n",
       "      <th>id</th>\n",
       "      <th>news</th>\n",
       "      <th>frames</th>\n",
       "      <th>tone</th>\n",
       "      <th>principal_frames</th>\n",
       "      <th>economic</th>\n",
       "      <th>capacity_and_resources</th>\n",
       "      <th>morality</th>\n",
       "      <th>fairness_and_equality</th>\n",
       "      <th>legality_constitutionality_and_jurisprudence</th>\n",
       "      <th>...</th>\n",
       "      <th>crime_and_punishment</th>\n",
       "      <th>security_and_defense</th>\n",
       "      <th>health_and_safety</th>\n",
       "      <th>quality_of_life</th>\n",
       "      <th>cultural_identity</th>\n",
       "      <th>public_opinion</th>\n",
       "      <th>political</th>\n",
       "      <th>external_regulation_and_reputation</th>\n",
       "      <th>country</th>\n",
       "      <th>newspaper</th>\n",
       "    </tr>\n",
       "  </thead>\n",
       "  <tbody>\n",
       "    <tr>\n",
       "      <th>0</th>\n",
       "      <td>Noticia_1.txt</td>\n",
       "      <td>¿Cuánto tiempo estoy autorizado a permanecer e...</td>\n",
       "      <td>['external_regulation_and_reputation', 'legali...</td>\n",
       "      <td>neutral</td>\n",
       "      <td>legality_constitutionality_and_jurisprudence</td>\n",
       "      <td>0</td>\n",
       "      <td>0</td>\n",
       "      <td>0</td>\n",
       "      <td>0</td>\n",
       "      <td>1</td>\n",
       "      <td>...</td>\n",
       "      <td>1</td>\n",
       "      <td>0</td>\n",
       "      <td>0</td>\n",
       "      <td>0</td>\n",
       "      <td>0</td>\n",
       "      <td>0</td>\n",
       "      <td>0</td>\n",
       "      <td>1</td>\n",
       "      <td>Colombia</td>\n",
       "      <td>El Tiempo</td>\n",
       "    </tr>\n",
       "    <tr>\n",
       "      <th>1</th>\n",
       "      <td>Noticia_2.txt</td>\n",
       "      <td>Presidente Petro catalogó de 'invasión imperia...</td>\n",
       "      <td>['policy_prescription_and_evaluation', 'politi...</td>\n",
       "      <td>neutral</td>\n",
       "      <td>political</td>\n",
       "      <td>1</td>\n",
       "      <td>0</td>\n",
       "      <td>1</td>\n",
       "      <td>0</td>\n",
       "      <td>0</td>\n",
       "      <td>...</td>\n",
       "      <td>0</td>\n",
       "      <td>0</td>\n",
       "      <td>0</td>\n",
       "      <td>0</td>\n",
       "      <td>0</td>\n",
       "      <td>1</td>\n",
       "      <td>1</td>\n",
       "      <td>1</td>\n",
       "      <td>Colombia</td>\n",
       "      <td>El Tiempo</td>\n",
       "    </tr>\n",
       "    <tr>\n",
       "      <th>2</th>\n",
       "      <td>Noticia_3.txt</td>\n",
       "      <td>La dura ley antiinmigración que adoptó Reino U...</td>\n",
       "      <td>['crime_and_punishment', 'legality_constitutio...</td>\n",
       "      <td>negative</td>\n",
       "      <td>external_regulation_and_reputation</td>\n",
       "      <td>1</td>\n",
       "      <td>0</td>\n",
       "      <td>0</td>\n",
       "      <td>1</td>\n",
       "      <td>1</td>\n",
       "      <td>...</td>\n",
       "      <td>1</td>\n",
       "      <td>0</td>\n",
       "      <td>0</td>\n",
       "      <td>0</td>\n",
       "      <td>0</td>\n",
       "      <td>1</td>\n",
       "      <td>0</td>\n",
       "      <td>1</td>\n",
       "      <td>Colombia</td>\n",
       "      <td>El Tiempo</td>\n",
       "    </tr>\n",
       "    <tr>\n",
       "      <th>3</th>\n",
       "      <td>Noticia_4.txt</td>\n",
       "      <td>¿Qué le falta a Ron DeSantis para cumplir las ...</td>\n",
       "      <td>['political', 'legality_constitutionality_and_...</td>\n",
       "      <td>neutral</td>\n",
       "      <td>political</td>\n",
       "      <td>0</td>\n",
       "      <td>0</td>\n",
       "      <td>0</td>\n",
       "      <td>0</td>\n",
       "      <td>1</td>\n",
       "      <td>...</td>\n",
       "      <td>0</td>\n",
       "      <td>0</td>\n",
       "      <td>0</td>\n",
       "      <td>0</td>\n",
       "      <td>0</td>\n",
       "      <td>0</td>\n",
       "      <td>1</td>\n",
       "      <td>0</td>\n",
       "      <td>Colombia</td>\n",
       "      <td>El Tiempo</td>\n",
       "    </tr>\n",
       "    <tr>\n",
       "      <th>4</th>\n",
       "      <td>Noticia_5.txt</td>\n",
       "      <td>México: así ataja el flujo de migrantes en la ...</td>\n",
       "      <td>['crime_and_punishment', 'security_and_defense...</td>\n",
       "      <td>positive</td>\n",
       "      <td>external_regulation_and_reputation</td>\n",
       "      <td>0</td>\n",
       "      <td>0</td>\n",
       "      <td>0</td>\n",
       "      <td>0</td>\n",
       "      <td>0</td>\n",
       "      <td>...</td>\n",
       "      <td>1</td>\n",
       "      <td>1</td>\n",
       "      <td>0</td>\n",
       "      <td>1</td>\n",
       "      <td>0</td>\n",
       "      <td>1</td>\n",
       "      <td>0</td>\n",
       "      <td>1</td>\n",
       "      <td>Colombia</td>\n",
       "      <td>El Tiempo</td>\n",
       "    </tr>\n",
       "  </tbody>\n",
       "</table>\n",
       "<p>5 rows × 21 columns</p>\n",
       "</div>"
      ]
     },
     "execution_count": 28,
     "metadata": {},
     "output_type": "execute_result"
    }
   ],
   "execution_count": 28
  },
  {
   "metadata": {},
   "cell_type": "markdown",
   "source": "## 3.2 Inspeccionar la estructura básica de los datos",
   "id": "669b9f8549b1b55a"
  },
  {
   "metadata": {},
   "cell_type": "markdown",
   "source": "### 3.2.1 Inspeccionar Animal Político",
   "id": "1945ee6fae152d3"
  },
  {
   "metadata": {},
   "cell_type": "markdown",
   "source": "#### 3.2.1.1 Inspeccionar Animal Político Internacional",
   "id": "5e297d66868b3e1c"
  },
  {
   "metadata": {
    "ExecuteTime": {
     "end_time": "2025-10-19T21:30:29.159903Z",
     "start_time": "2025-10-19T21:30:29.150878Z"
    }
   },
   "cell_type": "code",
   "source": "bronze_df_animal_politico_internacional.head()",
   "id": "be2aa92cec435977",
   "outputs": [
    {
     "data": {
      "text/plain": [
       "        category sub_category subcription  \\\n",
       "0  internacional                            \n",
       "1  internacional                            \n",
       "2  internacional                            \n",
       "3  internacional                            \n",
       "4  internacional                            \n",
       "\n",
       "                                                 url             date_raw  \\\n",
       "0  https://www.animalpolitico.com/internacional/h...  05 de octubre, 2025   \n",
       "1  https://www.animalpolitico.com/internacional/u...  05 de octubre, 2025   \n",
       "2  https://www.animalpolitico.com/internacional/c...  04 de octubre, 2025   \n",
       "3  https://www.animalpolitico.com/internacional/a...  04 de octubre, 2025   \n",
       "4  https://www.animalpolitico.com/internacional/t...  03 de octubre, 2025   \n",
       "\n",
       "  date_parsed                     author  \\\n",
       "0  2025-10-06                        AFP   \n",
       "1  2025-10-06                        AFP   \n",
       "2  2025-10-06  Redacción Animal Político   \n",
       "3  2025-10-06                        AFP   \n",
       "4  2025-10-06  Redacción Animal Político   \n",
       "\n",
       "                                               title  \\\n",
       "0  Hamás pide un intercambio “inmediato” de rehen...   \n",
       "1  Ali Akbar, el último vendedor de periódicos am...   \n",
       "2  Cancillería revisa rutas para el “retorno segu...   \n",
       "3  “Nos trataron como animales”, activistas depor...   \n",
       "4  “Estamos más cerca que nunca de una paz durade...   \n",
       "\n",
       "                                      article_header  \\\n",
       "0  Israel continúa con intensos bombardeos en con...   \n",
       "1  \"¡Mientras tenga energía, seguiré, trabajaré h...   \n",
       "2  La Embajada de México en Israel se mantiene en...   \n",
       "3  Israel detuvo a más de 400 personas y deportó ...   \n",
       "4  La propuesta de paz de Trump contempla, entre ...   \n",
       "\n",
       "                                             content  \n",
       "0  Hamás  pidió este domingo un  acuerdo “inmedia...  \n",
       "1  Todo el mundo lo conoce y él conoce a todo el ...  \n",
       "2  La Secretaría de Relaciones Exteriores mantien...  \n",
       "3  Activistas internacionales que fueron deportad...  \n",
       "4  El presidente de Estados Unidos,  Donald Trump...  "
      ],
      "text/html": [
       "<div>\n",
       "<style scoped>\n",
       "    .dataframe tbody tr th:only-of-type {\n",
       "        vertical-align: middle;\n",
       "    }\n",
       "\n",
       "    .dataframe tbody tr th {\n",
       "        vertical-align: top;\n",
       "    }\n",
       "\n",
       "    .dataframe thead th {\n",
       "        text-align: right;\n",
       "    }\n",
       "</style>\n",
       "<table border=\"1\" class=\"dataframe\">\n",
       "  <thead>\n",
       "    <tr style=\"text-align: right;\">\n",
       "      <th></th>\n",
       "      <th>category</th>\n",
       "      <th>sub_category</th>\n",
       "      <th>subcription</th>\n",
       "      <th>url</th>\n",
       "      <th>date_raw</th>\n",
       "      <th>date_parsed</th>\n",
       "      <th>author</th>\n",
       "      <th>title</th>\n",
       "      <th>article_header</th>\n",
       "      <th>content</th>\n",
       "    </tr>\n",
       "  </thead>\n",
       "  <tbody>\n",
       "    <tr>\n",
       "      <th>0</th>\n",
       "      <td>internacional</td>\n",
       "      <td></td>\n",
       "      <td></td>\n",
       "      <td>https://www.animalpolitico.com/internacional/h...</td>\n",
       "      <td>05 de octubre, 2025</td>\n",
       "      <td>2025-10-06</td>\n",
       "      <td>AFP</td>\n",
       "      <td>Hamás pide un intercambio “inmediato” de rehen...</td>\n",
       "      <td>Israel continúa con intensos bombardeos en con...</td>\n",
       "      <td>Hamás  pidió este domingo un  acuerdo “inmedia...</td>\n",
       "    </tr>\n",
       "    <tr>\n",
       "      <th>1</th>\n",
       "      <td>internacional</td>\n",
       "      <td></td>\n",
       "      <td></td>\n",
       "      <td>https://www.animalpolitico.com/internacional/u...</td>\n",
       "      <td>05 de octubre, 2025</td>\n",
       "      <td>2025-10-06</td>\n",
       "      <td>AFP</td>\n",
       "      <td>Ali Akbar, el último vendedor de periódicos am...</td>\n",
       "      <td>\"¡Mientras tenga energía, seguiré, trabajaré h...</td>\n",
       "      <td>Todo el mundo lo conoce y él conoce a todo el ...</td>\n",
       "    </tr>\n",
       "    <tr>\n",
       "      <th>2</th>\n",
       "      <td>internacional</td>\n",
       "      <td></td>\n",
       "      <td></td>\n",
       "      <td>https://www.animalpolitico.com/internacional/c...</td>\n",
       "      <td>04 de octubre, 2025</td>\n",
       "      <td>2025-10-06</td>\n",
       "      <td>Redacción Animal Político</td>\n",
       "      <td>Cancillería revisa rutas para el “retorno segu...</td>\n",
       "      <td>La Embajada de México en Israel se mantiene en...</td>\n",
       "      <td>La Secretaría de Relaciones Exteriores mantien...</td>\n",
       "    </tr>\n",
       "    <tr>\n",
       "      <th>3</th>\n",
       "      <td>internacional</td>\n",
       "      <td></td>\n",
       "      <td></td>\n",
       "      <td>https://www.animalpolitico.com/internacional/a...</td>\n",
       "      <td>04 de octubre, 2025</td>\n",
       "      <td>2025-10-06</td>\n",
       "      <td>AFP</td>\n",
       "      <td>“Nos trataron como animales”, activistas depor...</td>\n",
       "      <td>Israel detuvo a más de 400 personas y deportó ...</td>\n",
       "      <td>Activistas internacionales que fueron deportad...</td>\n",
       "    </tr>\n",
       "    <tr>\n",
       "      <th>4</th>\n",
       "      <td>internacional</td>\n",
       "      <td></td>\n",
       "      <td></td>\n",
       "      <td>https://www.animalpolitico.com/internacional/t...</td>\n",
       "      <td>03 de octubre, 2025</td>\n",
       "      <td>2025-10-06</td>\n",
       "      <td>Redacción Animal Político</td>\n",
       "      <td>“Estamos más cerca que nunca de una paz durade...</td>\n",
       "      <td>La propuesta de paz de Trump contempla, entre ...</td>\n",
       "      <td>El presidente de Estados Unidos,  Donald Trump...</td>\n",
       "    </tr>\n",
       "  </tbody>\n",
       "</table>\n",
       "</div>"
      ]
     },
     "execution_count": 29,
     "metadata": {},
     "output_type": "execute_result"
    }
   ],
   "execution_count": 29
  },
  {
   "metadata": {
    "ExecuteTime": {
     "end_time": "2025-10-19T21:30:29.213535Z",
     "start_time": "2025-10-19T21:30:29.203017Z"
    }
   },
   "cell_type": "code",
   "source": "bronze_df_animal_politico_internacional.tail()",
   "id": "ef85defcc7e7b644",
   "outputs": [
    {
     "data": {
      "text/plain": [
       "          category sub_category subcription  \\\n",
       "255  internacional                            \n",
       "256  internacional                            \n",
       "257  internacional                            \n",
       "258  internacional                            \n",
       "259  internacional                            \n",
       "\n",
       "                                                   url           date_raw  \\\n",
       "255  https://www.animalpolitico.com/internacional/d...  03 de julio, 2025   \n",
       "256  https://www.animalpolitico.com/internacional/a...  03 de julio, 2025   \n",
       "257  https://www.animalpolitico.com/internacional/p...  03 de julio, 2025   \n",
       "258  https://www.animalpolitico.com/internacional/e...  02 de julio, 2025   \n",
       "259  https://www.animalpolitico.com/internacional/a...  02 de julio, 2025   \n",
       "\n",
       "    date_parsed                            author  \\\n",
       "255  2025-10-06  AFP / Redacción Animal Político    \n",
       "256  2025-10-06                               AFP   \n",
       "257  2025-10-06                               AFP   \n",
       "258  2025-10-06            Con información de AFP   \n",
       "259  2025-10-06         Redacción Animal Político   \n",
       "\n",
       "                                                 title  \\\n",
       "255  Detienen en EU al boxeador Julio César Chávez ...   \n",
       "256  Cámara Baja de EU aprueba el plan fiscal de Tr...   \n",
       "257  Putin le dijo a Trump que Rusia “no renunciará...   \n",
       "258  EU registra nuevo “mínimo histórico” de cruces...   \n",
       "259  Juez bloquea orden de Trump que restringe asil...   \n",
       "\n",
       "                                        article_header  \\\n",
       "255  Julio César Chávez Jr. será deportado a México...   \n",
       "256  El paquete cumple muchas de las promesas de ca...   \n",
       "257  Según el asesor diplomático ruso, Yuri Ushakov...   \n",
       "258  Durante el mes de junio, el Departamento de Se...   \n",
       "259  Un juez de distrito acusó al presidente Donald...   \n",
       "\n",
       "                                               content  \n",
       "255  El boxeador mexicano  Julio César Chávez Jr. f...  \n",
       "256  El presidente de Estados Unidos,  Donald Trump...  \n",
       "257  El presidente ruso Vladimir Putin dijo el juev...  \n",
       "258  El número de migrantes interceptados en la fro...  \n",
       "259  Un juez federal bloqueó este miércoles la deci...  "
      ],
      "text/html": [
       "<div>\n",
       "<style scoped>\n",
       "    .dataframe tbody tr th:only-of-type {\n",
       "        vertical-align: middle;\n",
       "    }\n",
       "\n",
       "    .dataframe tbody tr th {\n",
       "        vertical-align: top;\n",
       "    }\n",
       "\n",
       "    .dataframe thead th {\n",
       "        text-align: right;\n",
       "    }\n",
       "</style>\n",
       "<table border=\"1\" class=\"dataframe\">\n",
       "  <thead>\n",
       "    <tr style=\"text-align: right;\">\n",
       "      <th></th>\n",
       "      <th>category</th>\n",
       "      <th>sub_category</th>\n",
       "      <th>subcription</th>\n",
       "      <th>url</th>\n",
       "      <th>date_raw</th>\n",
       "      <th>date_parsed</th>\n",
       "      <th>author</th>\n",
       "      <th>title</th>\n",
       "      <th>article_header</th>\n",
       "      <th>content</th>\n",
       "    </tr>\n",
       "  </thead>\n",
       "  <tbody>\n",
       "    <tr>\n",
       "      <th>255</th>\n",
       "      <td>internacional</td>\n",
       "      <td></td>\n",
       "      <td></td>\n",
       "      <td>https://www.animalpolitico.com/internacional/d...</td>\n",
       "      <td>03 de julio, 2025</td>\n",
       "      <td>2025-10-06</td>\n",
       "      <td>AFP / Redacción Animal Político</td>\n",
       "      <td>Detienen en EU al boxeador Julio César Chávez ...</td>\n",
       "      <td>Julio César Chávez Jr. será deportado a México...</td>\n",
       "      <td>El boxeador mexicano  Julio César Chávez Jr. f...</td>\n",
       "    </tr>\n",
       "    <tr>\n",
       "      <th>256</th>\n",
       "      <td>internacional</td>\n",
       "      <td></td>\n",
       "      <td></td>\n",
       "      <td>https://www.animalpolitico.com/internacional/a...</td>\n",
       "      <td>03 de julio, 2025</td>\n",
       "      <td>2025-10-06</td>\n",
       "      <td>AFP</td>\n",
       "      <td>Cámara Baja de EU aprueba el plan fiscal de Tr...</td>\n",
       "      <td>El paquete cumple muchas de las promesas de ca...</td>\n",
       "      <td>El presidente de Estados Unidos,  Donald Trump...</td>\n",
       "    </tr>\n",
       "    <tr>\n",
       "      <th>257</th>\n",
       "      <td>internacional</td>\n",
       "      <td></td>\n",
       "      <td></td>\n",
       "      <td>https://www.animalpolitico.com/internacional/p...</td>\n",
       "      <td>03 de julio, 2025</td>\n",
       "      <td>2025-10-06</td>\n",
       "      <td>AFP</td>\n",
       "      <td>Putin le dijo a Trump que Rusia “no renunciará...</td>\n",
       "      <td>Según el asesor diplomático ruso, Yuri Ushakov...</td>\n",
       "      <td>El presidente ruso Vladimir Putin dijo el juev...</td>\n",
       "    </tr>\n",
       "    <tr>\n",
       "      <th>258</th>\n",
       "      <td>internacional</td>\n",
       "      <td></td>\n",
       "      <td></td>\n",
       "      <td>https://www.animalpolitico.com/internacional/e...</td>\n",
       "      <td>02 de julio, 2025</td>\n",
       "      <td>2025-10-06</td>\n",
       "      <td>Con información de AFP</td>\n",
       "      <td>EU registra nuevo “mínimo histórico” de cruces...</td>\n",
       "      <td>Durante el mes de junio, el Departamento de Se...</td>\n",
       "      <td>El número de migrantes interceptados en la fro...</td>\n",
       "    </tr>\n",
       "    <tr>\n",
       "      <th>259</th>\n",
       "      <td>internacional</td>\n",
       "      <td></td>\n",
       "      <td></td>\n",
       "      <td>https://www.animalpolitico.com/internacional/a...</td>\n",
       "      <td>02 de julio, 2025</td>\n",
       "      <td>2025-10-06</td>\n",
       "      <td>Redacción Animal Político</td>\n",
       "      <td>Juez bloquea orden de Trump que restringe asil...</td>\n",
       "      <td>Un juez de distrito acusó al presidente Donald...</td>\n",
       "      <td>Un juez federal bloqueó este miércoles la deci...</td>\n",
       "    </tr>\n",
       "  </tbody>\n",
       "</table>\n",
       "</div>"
      ]
     },
     "execution_count": 30,
     "metadata": {},
     "output_type": "execute_result"
    }
   ],
   "execution_count": 30
  },
  {
   "metadata": {
    "ExecuteTime": {
     "end_time": "2025-10-19T21:30:29.247116Z",
     "start_time": "2025-10-19T21:30:29.240605Z"
    }
   },
   "cell_type": "code",
   "source": "bronze_df_animal_politico_internacional.dtypes",
   "id": "3b7cc688cf51b36f",
   "outputs": [
    {
     "data": {
      "text/plain": [
       "category          object\n",
       "sub_category      object\n",
       "subcription       object\n",
       "url               object\n",
       "date_raw          object\n",
       "date_parsed       object\n",
       "author            object\n",
       "title             object\n",
       "article_header    object\n",
       "content           object\n",
       "dtype: object"
      ]
     },
     "execution_count": 31,
     "metadata": {},
     "output_type": "execute_result"
    }
   ],
   "execution_count": 31
  },
  {
   "metadata": {
    "ExecuteTime": {
     "end_time": "2025-10-19T21:30:29.274890Z",
     "start_time": "2025-10-19T21:30:29.270674Z"
    }
   },
   "cell_type": "code",
   "source": "bronze_df_animal_politico_internacional.shape",
   "id": "2bc2537cd2486063",
   "outputs": [
    {
     "data": {
      "text/plain": [
       "(260, 10)"
      ]
     },
     "execution_count": 32,
     "metadata": {},
     "output_type": "execute_result"
    }
   ],
   "execution_count": 32
  },
  {
   "metadata": {},
   "cell_type": "markdown",
   "source": "#### 3.2.1.2 Inspeccionar Animal Político Politica",
   "id": "4dac2ee9fc03e525"
  },
  {
   "metadata": {
    "ExecuteTime": {
     "end_time": "2025-10-19T21:30:29.291507Z",
     "start_time": "2025-10-19T21:30:29.282927Z"
    }
   },
   "cell_type": "code",
   "source": "bronze_df_animal_politico_politica.head()",
   "id": "9261b2c290fbb34a",
   "outputs": [
    {
     "data": {
      "text/plain": [
       "   category sub_category subcription  \\\n",
       "0  politica                            \n",
       "1  politica                            \n",
       "2  politica                            \n",
       "3  politica                            \n",
       "4  politica                            \n",
       "\n",
       "                                                 url                date_raw  \\\n",
       "0  https://www.animalpolitico.com/politica/congre...  25 de septiembre, 2025   \n",
       "1  https://www.animalpolitico.com/politica/organo...  25 de septiembre, 2025   \n",
       "2  https://www.animalpolitico.com/politica/salina...  25 de septiembre, 2025   \n",
       "3  https://www.animalpolitico.com/politica/congre...  25 de septiembre, 2025   \n",
       "4  https://www.animalpolitico.com/politica/sat-re...  25 de septiembre, 2025   \n",
       "\n",
       "  date_parsed                     author  \\\n",
       "0  2025-09-26               Alexis Ortiz   \n",
       "1  2025-09-26               Alfredo Maza   \n",
       "2  2025-09-26  Redacción Animal Político   \n",
       "3  2025-09-26  Redacción Animal Político   \n",
       "4  2025-09-26  Redacción Animal Político   \n",
       "\n",
       "                                               title  \\\n",
       "0  Congreso recibe reforma de Sheinbaum: sanciona...   \n",
       "1  Órgano de Administración Judicial informa que ...   \n",
       "2  Salinas Pliego pide mesa de negociación con Sh...   \n",
       "3  Cinco congresos estatales aprueban reforma par...   \n",
       "4  SAT reconoce 109 expedientes de corrupción en ...   \n",
       "\n",
       "                                      article_header  \\\n",
       "0  La presidenta Claudia Sheinbaum envió a la Cám...   \n",
       "1  El Órgano de Administración Judicial detalló q...   \n",
       "2  Ricardo Salinas Pliego dijo que en la mesa de ...   \n",
       "3  Hasta el momento, los congresos del estado de ...   \n",
       "4  Autoridades del Servicio de Administración Tri...   \n",
       "\n",
       "                                             content  \n",
       "0  La Cámara de Diputados recibió una iniciativa ...  \n",
       "1  El nuevo Órgano de Administración Judicial (OA...  \n",
       "2  El empresario  Ricardo Salinas Pliego pidió a ...  \n",
       "3  El Senado concretó la reforma constitucional q...  \n",
       "4  Existen  109 expedientes de casos de corrupció...  "
      ],
      "text/html": [
       "<div>\n",
       "<style scoped>\n",
       "    .dataframe tbody tr th:only-of-type {\n",
       "        vertical-align: middle;\n",
       "    }\n",
       "\n",
       "    .dataframe tbody tr th {\n",
       "        vertical-align: top;\n",
       "    }\n",
       "\n",
       "    .dataframe thead th {\n",
       "        text-align: right;\n",
       "    }\n",
       "</style>\n",
       "<table border=\"1\" class=\"dataframe\">\n",
       "  <thead>\n",
       "    <tr style=\"text-align: right;\">\n",
       "      <th></th>\n",
       "      <th>category</th>\n",
       "      <th>sub_category</th>\n",
       "      <th>subcription</th>\n",
       "      <th>url</th>\n",
       "      <th>date_raw</th>\n",
       "      <th>date_parsed</th>\n",
       "      <th>author</th>\n",
       "      <th>title</th>\n",
       "      <th>article_header</th>\n",
       "      <th>content</th>\n",
       "    </tr>\n",
       "  </thead>\n",
       "  <tbody>\n",
       "    <tr>\n",
       "      <th>0</th>\n",
       "      <td>politica</td>\n",
       "      <td></td>\n",
       "      <td></td>\n",
       "      <td>https://www.animalpolitico.com/politica/congre...</td>\n",
       "      <td>25 de septiembre, 2025</td>\n",
       "      <td>2025-09-26</td>\n",
       "      <td>Alexis Ortiz</td>\n",
       "      <td>Congreso recibe reforma de Sheinbaum: sanciona...</td>\n",
       "      <td>La presidenta Claudia Sheinbaum envió a la Cám...</td>\n",
       "      <td>La Cámara de Diputados recibió una iniciativa ...</td>\n",
       "    </tr>\n",
       "    <tr>\n",
       "      <th>1</th>\n",
       "      <td>politica</td>\n",
       "      <td></td>\n",
       "      <td></td>\n",
       "      <td>https://www.animalpolitico.com/politica/organo...</td>\n",
       "      <td>25 de septiembre, 2025</td>\n",
       "      <td>2025-09-26</td>\n",
       "      <td>Alfredo Maza</td>\n",
       "      <td>Órgano de Administración Judicial informa que ...</td>\n",
       "      <td>El Órgano de Administración Judicial detalló q...</td>\n",
       "      <td>El nuevo Órgano de Administración Judicial (OA...</td>\n",
       "    </tr>\n",
       "    <tr>\n",
       "      <th>2</th>\n",
       "      <td>politica</td>\n",
       "      <td></td>\n",
       "      <td></td>\n",
       "      <td>https://www.animalpolitico.com/politica/salina...</td>\n",
       "      <td>25 de septiembre, 2025</td>\n",
       "      <td>2025-09-26</td>\n",
       "      <td>Redacción Animal Político</td>\n",
       "      <td>Salinas Pliego pide mesa de negociación con Sh...</td>\n",
       "      <td>Ricardo Salinas Pliego dijo que en la mesa de ...</td>\n",
       "      <td>El empresario  Ricardo Salinas Pliego pidió a ...</td>\n",
       "    </tr>\n",
       "    <tr>\n",
       "      <th>3</th>\n",
       "      <td>politica</td>\n",
       "      <td></td>\n",
       "      <td></td>\n",
       "      <td>https://www.animalpolitico.com/politica/congre...</td>\n",
       "      <td>25 de septiembre, 2025</td>\n",
       "      <td>2025-09-26</td>\n",
       "      <td>Redacción Animal Político</td>\n",
       "      <td>Cinco congresos estatales aprueban reforma par...</td>\n",
       "      <td>Hasta el momento, los congresos del estado de ...</td>\n",
       "      <td>El Senado concretó la reforma constitucional q...</td>\n",
       "    </tr>\n",
       "    <tr>\n",
       "      <th>4</th>\n",
       "      <td>politica</td>\n",
       "      <td></td>\n",
       "      <td></td>\n",
       "      <td>https://www.animalpolitico.com/politica/sat-re...</td>\n",
       "      <td>25 de septiembre, 2025</td>\n",
       "      <td>2025-09-26</td>\n",
       "      <td>Redacción Animal Político</td>\n",
       "      <td>SAT reconoce 109 expedientes de corrupción en ...</td>\n",
       "      <td>Autoridades del Servicio de Administración Tri...</td>\n",
       "      <td>Existen  109 expedientes de casos de corrupció...</td>\n",
       "    </tr>\n",
       "  </tbody>\n",
       "</table>\n",
       "</div>"
      ]
     },
     "execution_count": 33,
     "metadata": {},
     "output_type": "execute_result"
    }
   ],
   "execution_count": 33
  },
  {
   "metadata": {
    "ExecuteTime": {
     "end_time": "2025-10-19T21:30:29.305974Z",
     "start_time": "2025-10-19T21:30:29.297023Z"
    }
   },
   "cell_type": "code",
   "source": "bronze_df_animal_politico_politica.tail()",
   "id": "5bc122a9709cdee3",
   "outputs": [
    {
     "data": {
      "text/plain": [
       "     category sub_category subcription  \\\n",
       "255  politica                            \n",
       "256  politica                            \n",
       "257  politica                            \n",
       "258  politica                            \n",
       "259  politica                            \n",
       "\n",
       "                                                   url            date_raw  \\\n",
       "255  https://www.animalpolitico.com/politica/reform...  25 de agosto, 2025   \n",
       "256  https://www.animalpolitico.com/politica/aristi...  23 de agosto, 2025   \n",
       "257  https://www.animalpolitico.com/politica/marina...  23 de agosto, 2025   \n",
       "258  https://www.animalpolitico.com/politica/econom...  23 de agosto, 2025   \n",
       "259  https://www.animalpolitico.com/politica/design...  23 de agosto, 2025   \n",
       "\n",
       "    date_parsed                     author  \\\n",
       "255  2025-09-26  Redacción Animal Político   \n",
       "256  2025-09-26  Redacción Animal Político   \n",
       "257  2025-09-26  Redacción Animal Político   \n",
       "258  2025-09-26  Redacción Animal Político   \n",
       "259  2025-09-26  Redacción Animal Político   \n",
       "\n",
       "                                                 title  \\\n",
       "255  Reforma electoral de Sheinbaum: expresidentes ...   \n",
       "256  Ministro electo Arístides Guerrero sufre accid...   \n",
       "257  Marinabús: así operará el nuevo sistema de tra...   \n",
       "258  Secretaría de Economía descarta cupos de impor...   \n",
       "259  Conoce al nuevo presidente de la Comisión Naci...   \n",
       "\n",
       "                                        article_header  \\\n",
       "255  Expresidentes del INE, como José Woldenberg y ...   \n",
       "256  El choque ocurrió sobre Río Churubusco en la C...   \n",
       "257  El barco, de tipo catamarán, nombrado Marinabú...   \n",
       "258  La Secretaría de Economía aseguró que mantiene...   \n",
       "259  De acuerdo con la Secretaría de Hacienda y Cré...   \n",
       "\n",
       "                                               content  \n",
       "255  Expresidentes del Instituto Nacional Electoral...  \n",
       "256  El  ministro electo Aristides Guerrero  se enc...  \n",
       "257  La presidenta  Claudia Sheinbaum  inauguró el ...  \n",
       "258  La Secretaría de Economía informó que no exist...  \n",
       "259  La Secretaría de Hacienda y Crédito Público in...  "
      ],
      "text/html": [
       "<div>\n",
       "<style scoped>\n",
       "    .dataframe tbody tr th:only-of-type {\n",
       "        vertical-align: middle;\n",
       "    }\n",
       "\n",
       "    .dataframe tbody tr th {\n",
       "        vertical-align: top;\n",
       "    }\n",
       "\n",
       "    .dataframe thead th {\n",
       "        text-align: right;\n",
       "    }\n",
       "</style>\n",
       "<table border=\"1\" class=\"dataframe\">\n",
       "  <thead>\n",
       "    <tr style=\"text-align: right;\">\n",
       "      <th></th>\n",
       "      <th>category</th>\n",
       "      <th>sub_category</th>\n",
       "      <th>subcription</th>\n",
       "      <th>url</th>\n",
       "      <th>date_raw</th>\n",
       "      <th>date_parsed</th>\n",
       "      <th>author</th>\n",
       "      <th>title</th>\n",
       "      <th>article_header</th>\n",
       "      <th>content</th>\n",
       "    </tr>\n",
       "  </thead>\n",
       "  <tbody>\n",
       "    <tr>\n",
       "      <th>255</th>\n",
       "      <td>politica</td>\n",
       "      <td></td>\n",
       "      <td></td>\n",
       "      <td>https://www.animalpolitico.com/politica/reform...</td>\n",
       "      <td>25 de agosto, 2025</td>\n",
       "      <td>2025-09-26</td>\n",
       "      <td>Redacción Animal Político</td>\n",
       "      <td>Reforma electoral de Sheinbaum: expresidentes ...</td>\n",
       "      <td>Expresidentes del INE, como José Woldenberg y ...</td>\n",
       "      <td>Expresidentes del Instituto Nacional Electoral...</td>\n",
       "    </tr>\n",
       "    <tr>\n",
       "      <th>256</th>\n",
       "      <td>politica</td>\n",
       "      <td></td>\n",
       "      <td></td>\n",
       "      <td>https://www.animalpolitico.com/politica/aristi...</td>\n",
       "      <td>23 de agosto, 2025</td>\n",
       "      <td>2025-09-26</td>\n",
       "      <td>Redacción Animal Político</td>\n",
       "      <td>Ministro electo Arístides Guerrero sufre accid...</td>\n",
       "      <td>El choque ocurrió sobre Río Churubusco en la C...</td>\n",
       "      <td>El  ministro electo Aristides Guerrero  se enc...</td>\n",
       "    </tr>\n",
       "    <tr>\n",
       "      <th>257</th>\n",
       "      <td>politica</td>\n",
       "      <td></td>\n",
       "      <td></td>\n",
       "      <td>https://www.animalpolitico.com/politica/marina...</td>\n",
       "      <td>23 de agosto, 2025</td>\n",
       "      <td>2025-09-26</td>\n",
       "      <td>Redacción Animal Político</td>\n",
       "      <td>Marinabús: así operará el nuevo sistema de tra...</td>\n",
       "      <td>El barco, de tipo catamarán, nombrado Marinabú...</td>\n",
       "      <td>La presidenta  Claudia Sheinbaum  inauguró el ...</td>\n",
       "    </tr>\n",
       "    <tr>\n",
       "      <th>258</th>\n",
       "      <td>politica</td>\n",
       "      <td></td>\n",
       "      <td></td>\n",
       "      <td>https://www.animalpolitico.com/politica/econom...</td>\n",
       "      <td>23 de agosto, 2025</td>\n",
       "      <td>2025-09-26</td>\n",
       "      <td>Redacción Animal Político</td>\n",
       "      <td>Secretaría de Economía descarta cupos de impor...</td>\n",
       "      <td>La Secretaría de Economía aseguró que mantiene...</td>\n",
       "      <td>La Secretaría de Economía informó que no exist...</td>\n",
       "    </tr>\n",
       "    <tr>\n",
       "      <th>259</th>\n",
       "      <td>politica</td>\n",
       "      <td></td>\n",
       "      <td></td>\n",
       "      <td>https://www.animalpolitico.com/politica/design...</td>\n",
       "      <td>23 de agosto, 2025</td>\n",
       "      <td>2025-09-26</td>\n",
       "      <td>Redacción Animal Político</td>\n",
       "      <td>Conoce al nuevo presidente de la Comisión Naci...</td>\n",
       "      <td>De acuerdo con la Secretaría de Hacienda y Cré...</td>\n",
       "      <td>La Secretaría de Hacienda y Crédito Público in...</td>\n",
       "    </tr>\n",
       "  </tbody>\n",
       "</table>\n",
       "</div>"
      ]
     },
     "execution_count": 34,
     "metadata": {},
     "output_type": "execute_result"
    }
   ],
   "execution_count": 34
  },
  {
   "metadata": {
    "ExecuteTime": {
     "end_time": "2025-10-19T21:30:29.318534Z",
     "start_time": "2025-10-19T21:30:29.312026Z"
    }
   },
   "cell_type": "code",
   "source": "bronze_df_animal_politico_politica.dtypes",
   "id": "8c2c4967519cfab3",
   "outputs": [
    {
     "data": {
      "text/plain": [
       "category          object\n",
       "sub_category      object\n",
       "subcription       object\n",
       "url               object\n",
       "date_raw          object\n",
       "date_parsed       object\n",
       "author            object\n",
       "title             object\n",
       "article_header    object\n",
       "content           object\n",
       "dtype: object"
      ]
     },
     "execution_count": 35,
     "metadata": {},
     "output_type": "execute_result"
    }
   ],
   "execution_count": 35
  },
  {
   "metadata": {
    "ExecuteTime": {
     "end_time": "2025-10-19T21:30:29.331052Z",
     "start_time": "2025-10-19T21:30:29.326538Z"
    }
   },
   "cell_type": "code",
   "source": "bronze_df_animal_politico_politica.shape",
   "id": "b48c676c804fee5d",
   "outputs": [
    {
     "data": {
      "text/plain": [
       "(260, 10)"
      ]
     },
     "execution_count": 36,
     "metadata": {},
     "output_type": "execute_result"
    }
   ],
   "execution_count": 36
  },
  {
   "metadata": {},
   "cell_type": "markdown",
   "source": "#### 3.2.1.3 Inspeccionar Animal Político Salud",
   "id": "589b2be654de3cab"
  },
  {
   "metadata": {
    "ExecuteTime": {
     "end_time": "2025-10-19T21:30:29.347042Z",
     "start_time": "2025-10-19T21:30:29.338301Z"
    }
   },
   "cell_type": "code",
   "source": "bronze_df_animal_politico_salud.head()",
   "id": "fecc1c966d1dfd94",
   "outputs": [
    {
     "data": {
      "text/plain": [
       "  category sub_category subcription  \\\n",
       "0    salud                            \n",
       "1    salud                            \n",
       "2    salud                            \n",
       "3    salud                            \n",
       "4    salud                            \n",
       "\n",
       "                                                 url                date_raw  \\\n",
       "0  https://www.animalpolitico.com/salud/vacunacio...  23 de septiembre, 2025   \n",
       "1  https://www.animalpolitico.com/salud/secretari...  18 de septiembre, 2025   \n",
       "2  https://www.animalpolitico.com/salud/alertan-f...  16 de septiembre, 2025   \n",
       "3  https://www.animalpolitico.com/salud/presupues...  15 de septiembre, 2025   \n",
       "4  https://www.animalpolitico.com/salud/impuesto-...  11 de septiembre, 2025   \n",
       "\n",
       "  date_parsed                           author  \\\n",
       "0  2025-09-25        Redacción Animal Político   \n",
       "1  2025-09-25  Frasua Esquerra y Nayeli Roldán   \n",
       "2  2025-09-25        Redacción Animal Político   \n",
       "3  2025-09-25               Marcela Nochebuena   \n",
       "4  2025-09-25        Redacción Animal Político   \n",
       "\n",
       "                                               title  \\\n",
       "0  Vacunación contra sarampión bajó por pandemia ...   \n",
       "1  Secretaría de Salud CDMX, con recorte de 13% e...   \n",
       "2  Sindicato de Trabajadores de la Salud en Morel...   \n",
       "3  Presupuesto 2026 prevé recorte a salud; arbitr...   \n",
       "4  Impuesto al refresco: buscan reducción del 7 %...   \n",
       "\n",
       "                                      article_header  \\\n",
       "0  El secretario de Salud dijo que se ha logrado ...   \n",
       "1  Tres de los hospitales donde se atendió a víct...   \n",
       "2  El sindicato alertó que se retiró el personal ...   \n",
       "3  El proyecto de Presupuesto de Egresos de la Fe...   \n",
       "4  El subsecretario Eduardo Clark afirmó que con ...   \n",
       "\n",
       "                                             content  \n",
       "0  La Secretaría de Salud atribuyó la baja en la ...  \n",
       "1  Entre los hospitales que han atendido a  herid...  \n",
       "2  El Sindicato Nacional de los Trabajadores de l...  \n",
       "3  El  proyecto de Presupuesto de Egresos de la F...  \n",
       "4  El subsecretario de Integración y Desarrollo d...  "
      ],
      "text/html": [
       "<div>\n",
       "<style scoped>\n",
       "    .dataframe tbody tr th:only-of-type {\n",
       "        vertical-align: middle;\n",
       "    }\n",
       "\n",
       "    .dataframe tbody tr th {\n",
       "        vertical-align: top;\n",
       "    }\n",
       "\n",
       "    .dataframe thead th {\n",
       "        text-align: right;\n",
       "    }\n",
       "</style>\n",
       "<table border=\"1\" class=\"dataframe\">\n",
       "  <thead>\n",
       "    <tr style=\"text-align: right;\">\n",
       "      <th></th>\n",
       "      <th>category</th>\n",
       "      <th>sub_category</th>\n",
       "      <th>subcription</th>\n",
       "      <th>url</th>\n",
       "      <th>date_raw</th>\n",
       "      <th>date_parsed</th>\n",
       "      <th>author</th>\n",
       "      <th>title</th>\n",
       "      <th>article_header</th>\n",
       "      <th>content</th>\n",
       "    </tr>\n",
       "  </thead>\n",
       "  <tbody>\n",
       "    <tr>\n",
       "      <th>0</th>\n",
       "      <td>salud</td>\n",
       "      <td></td>\n",
       "      <td></td>\n",
       "      <td>https://www.animalpolitico.com/salud/vacunacio...</td>\n",
       "      <td>23 de septiembre, 2025</td>\n",
       "      <td>2025-09-25</td>\n",
       "      <td>Redacción Animal Político</td>\n",
       "      <td>Vacunación contra sarampión bajó por pandemia ...</td>\n",
       "      <td>El secretario de Salud dijo que se ha logrado ...</td>\n",
       "      <td>La Secretaría de Salud atribuyó la baja en la ...</td>\n",
       "    </tr>\n",
       "    <tr>\n",
       "      <th>1</th>\n",
       "      <td>salud</td>\n",
       "      <td></td>\n",
       "      <td></td>\n",
       "      <td>https://www.animalpolitico.com/salud/secretari...</td>\n",
       "      <td>18 de septiembre, 2025</td>\n",
       "      <td>2025-09-25</td>\n",
       "      <td>Frasua Esquerra y Nayeli Roldán</td>\n",
       "      <td>Secretaría de Salud CDMX, con recorte de 13% e...</td>\n",
       "      <td>Tres de los hospitales donde se atendió a víct...</td>\n",
       "      <td>Entre los hospitales que han atendido a  herid...</td>\n",
       "    </tr>\n",
       "    <tr>\n",
       "      <th>2</th>\n",
       "      <td>salud</td>\n",
       "      <td></td>\n",
       "      <td></td>\n",
       "      <td>https://www.animalpolitico.com/salud/alertan-f...</td>\n",
       "      <td>16 de septiembre, 2025</td>\n",
       "      <td>2025-09-25</td>\n",
       "      <td>Redacción Animal Político</td>\n",
       "      <td>Sindicato de Trabajadores de la Salud en Morel...</td>\n",
       "      <td>El sindicato alertó que se retiró el personal ...</td>\n",
       "      <td>El Sindicato Nacional de los Trabajadores de l...</td>\n",
       "    </tr>\n",
       "    <tr>\n",
       "      <th>3</th>\n",
       "      <td>salud</td>\n",
       "      <td></td>\n",
       "      <td></td>\n",
       "      <td>https://www.animalpolitico.com/salud/presupues...</td>\n",
       "      <td>15 de septiembre, 2025</td>\n",
       "      <td>2025-09-25</td>\n",
       "      <td>Marcela Nochebuena</td>\n",
       "      <td>Presupuesto 2026 prevé recorte a salud; arbitr...</td>\n",
       "      <td>El proyecto de Presupuesto de Egresos de la Fe...</td>\n",
       "      <td>El  proyecto de Presupuesto de Egresos de la F...</td>\n",
       "    </tr>\n",
       "    <tr>\n",
       "      <th>4</th>\n",
       "      <td>salud</td>\n",
       "      <td></td>\n",
       "      <td></td>\n",
       "      <td>https://www.animalpolitico.com/salud/impuesto-...</td>\n",
       "      <td>11 de septiembre, 2025</td>\n",
       "      <td>2025-09-25</td>\n",
       "      <td>Redacción Animal Político</td>\n",
       "      <td>Impuesto al refresco: buscan reducción del 7 %...</td>\n",
       "      <td>El subsecretario Eduardo Clark afirmó que con ...</td>\n",
       "      <td>El subsecretario de Integración y Desarrollo d...</td>\n",
       "    </tr>\n",
       "  </tbody>\n",
       "</table>\n",
       "</div>"
      ]
     },
     "execution_count": 37,
     "metadata": {},
     "output_type": "execute_result"
    }
   ],
   "execution_count": 37
  },
  {
   "metadata": {
    "ExecuteTime": {
     "end_time": "2025-10-19T21:30:29.363731Z",
     "start_time": "2025-10-19T21:30:29.354618Z"
    }
   },
   "cell_type": "code",
   "source": "bronze_df_animal_politico_salud.tail()",
   "id": "1c2a1a660de1e043",
   "outputs": [
    {
     "data": {
      "text/plain": [
       "    category sub_category subcription  \\\n",
       "245    salud                            \n",
       "246    salud                            \n",
       "247    salud                            \n",
       "248    salud                            \n",
       "249    salud                            \n",
       "\n",
       "                                                   url           date_raw  \\\n",
       "245  https://www.animalpolitico.com/salud/imss-nieg...  25 de julio, 2025   \n",
       "246  https://www.animalpolitico.com/salud/secretari...               None   \n",
       "247  https://www.animalpolitico.com/salud/sarampion...  29 de julio, 2025   \n",
       "248  https://www.animalpolitico.com/salud/cofepris-...               None   \n",
       "249  https://www.animalpolitico.com/salud/pacientes...               None   \n",
       "\n",
       "    date_parsed                     author  \\\n",
       "245  2025-09-25         Marcela Nochebuena   \n",
       "246  2025-09-25                       None   \n",
       "247  2025-09-25  Redacción Animal Político   \n",
       "248  2025-09-25                       None   \n",
       "249  2025-09-25                       None   \n",
       "\n",
       "                                                 title  \\\n",
       "245  Pese a sentencia, IMSS ha negado durante 5 año...   \n",
       "246                                               None   \n",
       "247  Sarampión “se está conteniendo bastante bien”,...   \n",
       "248                                               None   \n",
       "249                                               None   \n",
       "\n",
       "                                        article_header  \\\n",
       "245  Andy fue diagnosticada a los dos años de edad ...   \n",
       "246                                               None   \n",
       "247  Chihuahua lidera los casos de sarampión en el ...   \n",
       "248                                               None   \n",
       "249                                               None   \n",
       "\n",
       "                                               content  \n",
       "245  Andy  es una niña de 8 años, que ha aprendido ...  \n",
       "246                                                     \n",
       "247  El secretario de Salud, David Kershenobich Sta...  \n",
       "248                                                     \n",
       "249                                                     "
      ],
      "text/html": [
       "<div>\n",
       "<style scoped>\n",
       "    .dataframe tbody tr th:only-of-type {\n",
       "        vertical-align: middle;\n",
       "    }\n",
       "\n",
       "    .dataframe tbody tr th {\n",
       "        vertical-align: top;\n",
       "    }\n",
       "\n",
       "    .dataframe thead th {\n",
       "        text-align: right;\n",
       "    }\n",
       "</style>\n",
       "<table border=\"1\" class=\"dataframe\">\n",
       "  <thead>\n",
       "    <tr style=\"text-align: right;\">\n",
       "      <th></th>\n",
       "      <th>category</th>\n",
       "      <th>sub_category</th>\n",
       "      <th>subcription</th>\n",
       "      <th>url</th>\n",
       "      <th>date_raw</th>\n",
       "      <th>date_parsed</th>\n",
       "      <th>author</th>\n",
       "      <th>title</th>\n",
       "      <th>article_header</th>\n",
       "      <th>content</th>\n",
       "    </tr>\n",
       "  </thead>\n",
       "  <tbody>\n",
       "    <tr>\n",
       "      <th>245</th>\n",
       "      <td>salud</td>\n",
       "      <td></td>\n",
       "      <td></td>\n",
       "      <td>https://www.animalpolitico.com/salud/imss-nieg...</td>\n",
       "      <td>25 de julio, 2025</td>\n",
       "      <td>2025-09-25</td>\n",
       "      <td>Marcela Nochebuena</td>\n",
       "      <td>Pese a sentencia, IMSS ha negado durante 5 año...</td>\n",
       "      <td>Andy fue diagnosticada a los dos años de edad ...</td>\n",
       "      <td>Andy  es una niña de 8 años, que ha aprendido ...</td>\n",
       "    </tr>\n",
       "    <tr>\n",
       "      <th>246</th>\n",
       "      <td>salud</td>\n",
       "      <td></td>\n",
       "      <td></td>\n",
       "      <td>https://www.animalpolitico.com/salud/secretari...</td>\n",
       "      <td>None</td>\n",
       "      <td>2025-09-25</td>\n",
       "      <td>None</td>\n",
       "      <td>None</td>\n",
       "      <td>None</td>\n",
       "      <td></td>\n",
       "    </tr>\n",
       "    <tr>\n",
       "      <th>247</th>\n",
       "      <td>salud</td>\n",
       "      <td></td>\n",
       "      <td></td>\n",
       "      <td>https://www.animalpolitico.com/salud/sarampion...</td>\n",
       "      <td>29 de julio, 2025</td>\n",
       "      <td>2025-09-25</td>\n",
       "      <td>Redacción Animal Político</td>\n",
       "      <td>Sarampión “se está conteniendo bastante bien”,...</td>\n",
       "      <td>Chihuahua lidera los casos de sarampión en el ...</td>\n",
       "      <td>El secretario de Salud, David Kershenobich Sta...</td>\n",
       "    </tr>\n",
       "    <tr>\n",
       "      <th>248</th>\n",
       "      <td>salud</td>\n",
       "      <td></td>\n",
       "      <td></td>\n",
       "      <td>https://www.animalpolitico.com/salud/cofepris-...</td>\n",
       "      <td>None</td>\n",
       "      <td>2025-09-25</td>\n",
       "      <td>None</td>\n",
       "      <td>None</td>\n",
       "      <td>None</td>\n",
       "      <td></td>\n",
       "    </tr>\n",
       "    <tr>\n",
       "      <th>249</th>\n",
       "      <td>salud</td>\n",
       "      <td></td>\n",
       "      <td></td>\n",
       "      <td>https://www.animalpolitico.com/salud/pacientes...</td>\n",
       "      <td>None</td>\n",
       "      <td>2025-09-25</td>\n",
       "      <td>None</td>\n",
       "      <td>None</td>\n",
       "      <td>None</td>\n",
       "      <td></td>\n",
       "    </tr>\n",
       "  </tbody>\n",
       "</table>\n",
       "</div>"
      ]
     },
     "execution_count": 38,
     "metadata": {},
     "output_type": "execute_result"
    }
   ],
   "execution_count": 38
  },
  {
   "metadata": {
    "ExecuteTime": {
     "end_time": "2025-10-19T21:30:29.377160Z",
     "start_time": "2025-10-19T21:30:29.371885Z"
    }
   },
   "cell_type": "code",
   "source": "bronze_df_animal_politico_salud.dtypes",
   "id": "cc0f67fc37db04e",
   "outputs": [
    {
     "data": {
      "text/plain": [
       "category          object\n",
       "sub_category      object\n",
       "subcription       object\n",
       "url               object\n",
       "date_raw          object\n",
       "date_parsed       object\n",
       "author            object\n",
       "title             object\n",
       "article_header    object\n",
       "content           object\n",
       "dtype: object"
      ]
     },
     "execution_count": 39,
     "metadata": {},
     "output_type": "execute_result"
    }
   ],
   "execution_count": 39
  },
  {
   "metadata": {
    "ExecuteTime": {
     "end_time": "2025-10-19T21:30:29.390341Z",
     "start_time": "2025-10-19T21:30:29.385692Z"
    }
   },
   "cell_type": "code",
   "source": "bronze_df_animal_politico_salud.shape",
   "id": "79da165a5a0431cb",
   "outputs": [
    {
     "data": {
      "text/plain": [
       "(250, 10)"
      ]
     },
     "execution_count": 40,
     "metadata": {},
     "output_type": "execute_result"
    }
   ],
   "execution_count": 40
  },
  {
   "metadata": {},
   "cell_type": "markdown",
   "source": "#### 3.2.1.4 Inspeccionar Animal Político Seguridad",
   "id": "e1c2ca55c4b2b49e"
  },
  {
   "metadata": {
    "ExecuteTime": {
     "end_time": "2025-10-19T21:30:29.411643Z",
     "start_time": "2025-10-19T21:30:29.402294Z"
    }
   },
   "cell_type": "code",
   "source": "bronze_df_animal_politico_seguridad.head()",
   "id": "b717947c742393ab",
   "outputs": [
    {
     "data": {
      "text/plain": [
       "    category sub_category subcription  \\\n",
       "0  seguridad                            \n",
       "1  seguridad                            \n",
       "2  seguridad                            \n",
       "3  seguridad                            \n",
       "4  seguridad                            \n",
       "\n",
       "                                                 url                date_raw  \\\n",
       "0  https://www.animalpolitico.com/seguridad/detie...  24 de septiembre, 2025   \n",
       "1  https://www.animalpolitico.com/seguridad/mayo-...  24 de septiembre, 2025   \n",
       "2  https://www.animalpolitico.com/seguridad/huach...  24 de septiembre, 2025   \n",
       "3  https://www.animalpolitico.com/seguridad/vincu...  23 de septiembre, 2025   \n",
       "4  https://www.animalpolitico.com/seguridad/no-de...  23 de septiembre, 2025   \n",
       "\n",
       "  date_parsed                     author  \\\n",
       "0  2025-09-25  Redacción Animal Político   \n",
       "1  2025-09-25                   Noroeste   \n",
       "2  2025-09-25              Nayeli Roldán   \n",
       "3  2025-09-25  Redacción Animal Político   \n",
       "4  2025-09-25  Redacción Animal Político   \n",
       "\n",
       "                                               title  \\\n",
       "0  Detienen a “El Silencio” en Guanajuato, relaci...   \n",
       "1  “El Mayo” Zambada quiere morir en México; le d...   \n",
       "2  Ecocarburante, acusada de huachicol fiscal, ob...   \n",
       "3  Vinculan a proceso a Hernán Bermúdez, exsecret...   \n",
       "4  “No voy a debatir con Petro”: Sheinbaum pide i...   \n",
       "\n",
       "                                      article_header  \\\n",
       "0  A Genaro \"N\" , alias \"El Silencio\",  se le vin...   \n",
       "1  El abogado del \"Mayo\" señaló a Milenio que las...   \n",
       "2  Constituida en 2017, Ecocarburante obtuvo un p...   \n",
       "3  Un juez determinó un plazo de 3 meses para el ...   \n",
       "4  El gabinete de Seguridad informó que colabora ...   \n",
       "\n",
       "                                             content  \n",
       "0  Fue detenido Genaro “N”, alias “El Silencio”, ...  \n",
       "1  El capo sinaloense  Ismael “El Mayo” Zambada ,...  \n",
       "2  Ecocarburante, S. A. de C. V., una de las empr...  \n",
       "3  El exsecretario de Seguridad Pública de Tabasc...  \n",
       "4  La presidenta de México, Claudia Sheinbaum, di...  "
      ],
      "text/html": [
       "<div>\n",
       "<style scoped>\n",
       "    .dataframe tbody tr th:only-of-type {\n",
       "        vertical-align: middle;\n",
       "    }\n",
       "\n",
       "    .dataframe tbody tr th {\n",
       "        vertical-align: top;\n",
       "    }\n",
       "\n",
       "    .dataframe thead th {\n",
       "        text-align: right;\n",
       "    }\n",
       "</style>\n",
       "<table border=\"1\" class=\"dataframe\">\n",
       "  <thead>\n",
       "    <tr style=\"text-align: right;\">\n",
       "      <th></th>\n",
       "      <th>category</th>\n",
       "      <th>sub_category</th>\n",
       "      <th>subcription</th>\n",
       "      <th>url</th>\n",
       "      <th>date_raw</th>\n",
       "      <th>date_parsed</th>\n",
       "      <th>author</th>\n",
       "      <th>title</th>\n",
       "      <th>article_header</th>\n",
       "      <th>content</th>\n",
       "    </tr>\n",
       "  </thead>\n",
       "  <tbody>\n",
       "    <tr>\n",
       "      <th>0</th>\n",
       "      <td>seguridad</td>\n",
       "      <td></td>\n",
       "      <td></td>\n",
       "      <td>https://www.animalpolitico.com/seguridad/detie...</td>\n",
       "      <td>24 de septiembre, 2025</td>\n",
       "      <td>2025-09-25</td>\n",
       "      <td>Redacción Animal Político</td>\n",
       "      <td>Detienen a “El Silencio” en Guanajuato, relaci...</td>\n",
       "      <td>A Genaro \"N\" , alias \"El Silencio\",  se le vin...</td>\n",
       "      <td>Fue detenido Genaro “N”, alias “El Silencio”, ...</td>\n",
       "    </tr>\n",
       "    <tr>\n",
       "      <th>1</th>\n",
       "      <td>seguridad</td>\n",
       "      <td></td>\n",
       "      <td></td>\n",
       "      <td>https://www.animalpolitico.com/seguridad/mayo-...</td>\n",
       "      <td>24 de septiembre, 2025</td>\n",
       "      <td>2025-09-25</td>\n",
       "      <td>Noroeste</td>\n",
       "      <td>“El Mayo” Zambada quiere morir en México; le d...</td>\n",
       "      <td>El abogado del \"Mayo\" señaló a Milenio que las...</td>\n",
       "      <td>El capo sinaloense  Ismael “El Mayo” Zambada ,...</td>\n",
       "    </tr>\n",
       "    <tr>\n",
       "      <th>2</th>\n",
       "      <td>seguridad</td>\n",
       "      <td></td>\n",
       "      <td></td>\n",
       "      <td>https://www.animalpolitico.com/seguridad/huach...</td>\n",
       "      <td>24 de septiembre, 2025</td>\n",
       "      <td>2025-09-25</td>\n",
       "      <td>Nayeli Roldán</td>\n",
       "      <td>Ecocarburante, acusada de huachicol fiscal, ob...</td>\n",
       "      <td>Constituida en 2017, Ecocarburante obtuvo un p...</td>\n",
       "      <td>Ecocarburante, S. A. de C. V., una de las empr...</td>\n",
       "    </tr>\n",
       "    <tr>\n",
       "      <th>3</th>\n",
       "      <td>seguridad</td>\n",
       "      <td></td>\n",
       "      <td></td>\n",
       "      <td>https://www.animalpolitico.com/seguridad/vincu...</td>\n",
       "      <td>23 de septiembre, 2025</td>\n",
       "      <td>2025-09-25</td>\n",
       "      <td>Redacción Animal Político</td>\n",
       "      <td>Vinculan a proceso a Hernán Bermúdez, exsecret...</td>\n",
       "      <td>Un juez determinó un plazo de 3 meses para el ...</td>\n",
       "      <td>El exsecretario de Seguridad Pública de Tabasc...</td>\n",
       "    </tr>\n",
       "    <tr>\n",
       "      <th>4</th>\n",
       "      <td>seguridad</td>\n",
       "      <td></td>\n",
       "      <td></td>\n",
       "      <td>https://www.animalpolitico.com/seguridad/no-de...</td>\n",
       "      <td>23 de septiembre, 2025</td>\n",
       "      <td>2025-09-25</td>\n",
       "      <td>Redacción Animal Político</td>\n",
       "      <td>“No voy a debatir con Petro”: Sheinbaum pide i...</td>\n",
       "      <td>El gabinete de Seguridad informó que colabora ...</td>\n",
       "      <td>La presidenta de México, Claudia Sheinbaum, di...</td>\n",
       "    </tr>\n",
       "  </tbody>\n",
       "</table>\n",
       "</div>"
      ]
     },
     "execution_count": 41,
     "metadata": {},
     "output_type": "execute_result"
    }
   ],
   "execution_count": 41
  },
  {
   "metadata": {
    "ExecuteTime": {
     "end_time": "2025-10-19T21:30:29.438731Z",
     "start_time": "2025-10-19T21:30:29.430167Z"
    }
   },
   "cell_type": "code",
   "source": "bronze_df_animal_politico_seguridad.tail()",
   "id": "f9e14193fa20dbb5",
   "outputs": [
    {
     "data": {
      "text/plain": [
       "      category sub_category subcription  \\\n",
       "260  seguridad                            \n",
       "261  seguridad                            \n",
       "262  seguridad                            \n",
       "263  seguridad                            \n",
       "264  seguridad                            \n",
       "\n",
       "                                                   url  \\\n",
       "260  https://www.animalpolitico.com/seguridad/eu-ma...   \n",
       "261  https://www.animalpolitico.com/seguridad/herna...   \n",
       "262  https://www.animalpolitico.com/seguridad/fbi-r...   \n",
       "263  https://www.animalpolitico.com/seguridad/quien...   \n",
       "264  https://www.animalpolitico.com/seguridad/detie...   \n",
       "\n",
       "                   date_raw date_parsed                      author  \\\n",
       "260  18 de septiembre, 2025  2025-09-26  Redacción Animal Político    \n",
       "261  17 de septiembre, 2025  2025-09-26   Redacción Animal Político   \n",
       "262  16 de septiembre, 2025  2025-09-26   Redacción Animal Político   \n",
       "263  12 de septiembre, 2025  2025-09-26   Redacción Animal Político   \n",
       "264  12 de septiembre, 2025  2025-09-26   Redacción Animal Político   \n",
       "\n",
       "                                                 title  \\\n",
       "260  EU sanciona a Los Mayos y a “El Ruso”, líder d...   \n",
       "261  Hernán Bermúdez, exsecretario de Seguridad de ...   \n",
       "262  EU ofrece recompensa de 5 millones de dólares ...   \n",
       "263  Quién es Hernán Bermúdez, el exsecretario de S...   \n",
       "264  Detienen a Hernán Bermúdez, exsecretario de Se...   \n",
       "\n",
       "                                        article_header  \\\n",
       "260  El Departamento del Tesoro de Estados Unidos s...   \n",
       "261  El exsecretario de Seguridad de Tabasco, quien...   \n",
       "262  El FBI señala a Juan José Ponce Félix de ser f...   \n",
       "263  El coordinador de la bancada de Morena en el S...   \n",
       "264  Hernán Bermúdez fue secretario de Seguridad de...   \n",
       "\n",
       "                                               content  \n",
       "260  El Departamento del Tesoro sancionó a una red ...  \n",
       "261  Hernán Bermúdez, exsecretario de Seguridad de ...  \n",
       "262  Autoridades de Estados Unidos anunciaron este ...  \n",
       "263  Hernán Bermúdez Requena   fue exsecretario de ...  \n",
       "264  Hernán Bermúdez Requena , exsecretario de Segu...  "
      ],
      "text/html": [
       "<div>\n",
       "<style scoped>\n",
       "    .dataframe tbody tr th:only-of-type {\n",
       "        vertical-align: middle;\n",
       "    }\n",
       "\n",
       "    .dataframe tbody tr th {\n",
       "        vertical-align: top;\n",
       "    }\n",
       "\n",
       "    .dataframe thead th {\n",
       "        text-align: right;\n",
       "    }\n",
       "</style>\n",
       "<table border=\"1\" class=\"dataframe\">\n",
       "  <thead>\n",
       "    <tr style=\"text-align: right;\">\n",
       "      <th></th>\n",
       "      <th>category</th>\n",
       "      <th>sub_category</th>\n",
       "      <th>subcription</th>\n",
       "      <th>url</th>\n",
       "      <th>date_raw</th>\n",
       "      <th>date_parsed</th>\n",
       "      <th>author</th>\n",
       "      <th>title</th>\n",
       "      <th>article_header</th>\n",
       "      <th>content</th>\n",
       "    </tr>\n",
       "  </thead>\n",
       "  <tbody>\n",
       "    <tr>\n",
       "      <th>260</th>\n",
       "      <td>seguridad</td>\n",
       "      <td></td>\n",
       "      <td></td>\n",
       "      <td>https://www.animalpolitico.com/seguridad/eu-ma...</td>\n",
       "      <td>18 de septiembre, 2025</td>\n",
       "      <td>2025-09-26</td>\n",
       "      <td>Redacción Animal Político</td>\n",
       "      <td>EU sanciona a Los Mayos y a “El Ruso”, líder d...</td>\n",
       "      <td>El Departamento del Tesoro de Estados Unidos s...</td>\n",
       "      <td>El Departamento del Tesoro sancionó a una red ...</td>\n",
       "    </tr>\n",
       "    <tr>\n",
       "      <th>261</th>\n",
       "      <td>seguridad</td>\n",
       "      <td></td>\n",
       "      <td></td>\n",
       "      <td>https://www.animalpolitico.com/seguridad/herna...</td>\n",
       "      <td>17 de septiembre, 2025</td>\n",
       "      <td>2025-09-26</td>\n",
       "      <td>Redacción Animal Político</td>\n",
       "      <td>Hernán Bermúdez, exsecretario de Seguridad de ...</td>\n",
       "      <td>El exsecretario de Seguridad de Tabasco, quien...</td>\n",
       "      <td>Hernán Bermúdez, exsecretario de Seguridad de ...</td>\n",
       "    </tr>\n",
       "    <tr>\n",
       "      <th>262</th>\n",
       "      <td>seguridad</td>\n",
       "      <td></td>\n",
       "      <td></td>\n",
       "      <td>https://www.animalpolitico.com/seguridad/fbi-r...</td>\n",
       "      <td>16 de septiembre, 2025</td>\n",
       "      <td>2025-09-26</td>\n",
       "      <td>Redacción Animal Político</td>\n",
       "      <td>EU ofrece recompensa de 5 millones de dólares ...</td>\n",
       "      <td>El FBI señala a Juan José Ponce Félix de ser f...</td>\n",
       "      <td>Autoridades de Estados Unidos anunciaron este ...</td>\n",
       "    </tr>\n",
       "    <tr>\n",
       "      <th>263</th>\n",
       "      <td>seguridad</td>\n",
       "      <td></td>\n",
       "      <td></td>\n",
       "      <td>https://www.animalpolitico.com/seguridad/quien...</td>\n",
       "      <td>12 de septiembre, 2025</td>\n",
       "      <td>2025-09-26</td>\n",
       "      <td>Redacción Animal Político</td>\n",
       "      <td>Quién es Hernán Bermúdez, el exsecretario de S...</td>\n",
       "      <td>El coordinador de la bancada de Morena en el S...</td>\n",
       "      <td>Hernán Bermúdez Requena   fue exsecretario de ...</td>\n",
       "    </tr>\n",
       "    <tr>\n",
       "      <th>264</th>\n",
       "      <td>seguridad</td>\n",
       "      <td></td>\n",
       "      <td></td>\n",
       "      <td>https://www.animalpolitico.com/seguridad/detie...</td>\n",
       "      <td>12 de septiembre, 2025</td>\n",
       "      <td>2025-09-26</td>\n",
       "      <td>Redacción Animal Político</td>\n",
       "      <td>Detienen a Hernán Bermúdez, exsecretario de Se...</td>\n",
       "      <td>Hernán Bermúdez fue secretario de Seguridad de...</td>\n",
       "      <td>Hernán Bermúdez Requena , exsecretario de Segu...</td>\n",
       "    </tr>\n",
       "  </tbody>\n",
       "</table>\n",
       "</div>"
      ]
     },
     "execution_count": 42,
     "metadata": {},
     "output_type": "execute_result"
    }
   ],
   "execution_count": 42
  },
  {
   "metadata": {
    "ExecuteTime": {
     "end_time": "2025-10-19T21:30:29.450378Z",
     "start_time": "2025-10-19T21:30:29.444248Z"
    }
   },
   "cell_type": "code",
   "source": "bronze_df_animal_politico_seguridad.dtypes",
   "id": "8f19f53e06dad0c7",
   "outputs": [
    {
     "data": {
      "text/plain": [
       "category          object\n",
       "sub_category      object\n",
       "subcription       object\n",
       "url               object\n",
       "date_raw          object\n",
       "date_parsed       object\n",
       "author            object\n",
       "title             object\n",
       "article_header    object\n",
       "content           object\n",
       "dtype: object"
      ]
     },
     "execution_count": 43,
     "metadata": {},
     "output_type": "execute_result"
    }
   ],
   "execution_count": 43
  },
  {
   "metadata": {
    "ExecuteTime": {
     "end_time": "2025-10-19T21:30:29.462511Z",
     "start_time": "2025-10-19T21:30:29.457002Z"
    }
   },
   "cell_type": "code",
   "source": "bronze_df_animal_politico_seguridad.shape",
   "id": "a8d70d0e1d67659f",
   "outputs": [
    {
     "data": {
      "text/plain": [
       "(265, 10)"
      ]
     },
     "execution_count": 44,
     "metadata": {},
     "output_type": "execute_result"
    }
   ],
   "execution_count": 44
  },
  {
   "metadata": {},
   "cell_type": "markdown",
   "source": "### 3.2.2 Inspeccionar el excelsior",
   "id": "e8f8c01db95af1e9"
  },
  {
   "metadata": {
    "ExecuteTime": {
     "end_time": "2025-10-19T21:30:29.478045Z",
     "start_time": "2025-10-19T21:30:29.469539Z"
    }
   },
   "cell_type": "code",
   "source": "bronze_df_el_excelsior.head()",
   "id": "8818865a406d9d6a",
   "outputs": [
    {
     "data": {
      "text/plain": [
       "   category         sub_category   subcription  \\\n",
       "0  politica      Elecciones 2026          None   \n",
       "1  politica      Elecciones 2026  Suscriptores   \n",
       "2  politica             Política          None   \n",
       "3  politica      Elecciones 2026          None   \n",
       "4  politica  El Magazín Cultural  Suscriptores   \n",
       "\n",
       "                                                 url     date_raw date_parsed  \\\n",
       "0  https://www.elespectador.com/politica/eleccion...   06-10-2025  06-10-2025   \n",
       "1  https://www.elespectador.com/politica/eleccion...   06-10-2025  06-10-2025   \n",
       "2  https://www.elespectador.com/politica/reforma-...  08:10 a. m.  06-10-2025   \n",
       "3  https://www.elespectador.com/politica/eleccion...  09:28 a. m.  06-10-2025   \n",
       "4  https://www.elespectador.com/el-magazin-cultur...  10:00 a. m.  06-10-2025   \n",
       "\n",
       "                                              author  \\\n",
       "0                                 Redacción Política   \n",
       "1                                 Redacción Política   \n",
       "2                                 Redacción Política   \n",
       "3                                 Redacción Política   \n",
       "4  Santiago Muñoz Machado * / Especial para El Es...   \n",
       "\n",
       "                                               title  \\\n",
       "0  Grupo de exmandatarios regionales convocó a pr...   \n",
       "1  De la Espriella sacude campaña de la derecha y...   \n",
       "2  ¿Consulta 2.0? Gobierno Petro analiza vías par...   \n",
       "3  Galán, Peñalosa, Oviedo y Luna continúan acerc...   \n",
       "4  “Se ha puesto de moda renegar de la democracia...   \n",
       "\n",
       "                                      article_header  \\\n",
       "0  Los integrantes de Fuerza de las Regiones envi...   \n",
       "1  El precandidato Abelardo De la Espriella busca...   \n",
       "2  El ministro del Interior, Armando Benedetti, a...   \n",
       "3  Los precandidatos “independientes” se encontra...   \n",
       "4  Fragmento de “De la democracia en Hispanoaméri...   \n",
       "\n",
       "                                             content  \n",
       "0  El grupo de exmandatarios regionales conocido ...  \n",
       "1  En medio de las divisiones de la derecha por e...  \n",
       "2  Audio generado con IA de Google\\n0:00\\n/\\n0:00...  \n",
       "3  Audio generado con IA de Google\\n0:00\\n/\\n0:00...  \n",
       "4  PRÓLOGO\\nLa democracia es una forma de gobiern...  "
      ],
      "text/html": [
       "<div>\n",
       "<style scoped>\n",
       "    .dataframe tbody tr th:only-of-type {\n",
       "        vertical-align: middle;\n",
       "    }\n",
       "\n",
       "    .dataframe tbody tr th {\n",
       "        vertical-align: top;\n",
       "    }\n",
       "\n",
       "    .dataframe thead th {\n",
       "        text-align: right;\n",
       "    }\n",
       "</style>\n",
       "<table border=\"1\" class=\"dataframe\">\n",
       "  <thead>\n",
       "    <tr style=\"text-align: right;\">\n",
       "      <th></th>\n",
       "      <th>category</th>\n",
       "      <th>sub_category</th>\n",
       "      <th>subcription</th>\n",
       "      <th>url</th>\n",
       "      <th>date_raw</th>\n",
       "      <th>date_parsed</th>\n",
       "      <th>author</th>\n",
       "      <th>title</th>\n",
       "      <th>article_header</th>\n",
       "      <th>content</th>\n",
       "    </tr>\n",
       "  </thead>\n",
       "  <tbody>\n",
       "    <tr>\n",
       "      <th>0</th>\n",
       "      <td>politica</td>\n",
       "      <td>Elecciones 2026</td>\n",
       "      <td>None</td>\n",
       "      <td>https://www.elespectador.com/politica/eleccion...</td>\n",
       "      <td>06-10-2025</td>\n",
       "      <td>06-10-2025</td>\n",
       "      <td>Redacción Política</td>\n",
       "      <td>Grupo de exmandatarios regionales convocó a pr...</td>\n",
       "      <td>Los integrantes de Fuerza de las Regiones envi...</td>\n",
       "      <td>El grupo de exmandatarios regionales conocido ...</td>\n",
       "    </tr>\n",
       "    <tr>\n",
       "      <th>1</th>\n",
       "      <td>politica</td>\n",
       "      <td>Elecciones 2026</td>\n",
       "      <td>Suscriptores</td>\n",
       "      <td>https://www.elespectador.com/politica/eleccion...</td>\n",
       "      <td>06-10-2025</td>\n",
       "      <td>06-10-2025</td>\n",
       "      <td>Redacción Política</td>\n",
       "      <td>De la Espriella sacude campaña de la derecha y...</td>\n",
       "      <td>El precandidato Abelardo De la Espriella busca...</td>\n",
       "      <td>En medio de las divisiones de la derecha por e...</td>\n",
       "    </tr>\n",
       "    <tr>\n",
       "      <th>2</th>\n",
       "      <td>politica</td>\n",
       "      <td>Política</td>\n",
       "      <td>None</td>\n",
       "      <td>https://www.elespectador.com/politica/reforma-...</td>\n",
       "      <td>08:10 a. m.</td>\n",
       "      <td>06-10-2025</td>\n",
       "      <td>Redacción Política</td>\n",
       "      <td>¿Consulta 2.0? Gobierno Petro analiza vías par...</td>\n",
       "      <td>El ministro del Interior, Armando Benedetti, a...</td>\n",
       "      <td>Audio generado con IA de Google\\n0:00\\n/\\n0:00...</td>\n",
       "    </tr>\n",
       "    <tr>\n",
       "      <th>3</th>\n",
       "      <td>politica</td>\n",
       "      <td>Elecciones 2026</td>\n",
       "      <td>None</td>\n",
       "      <td>https://www.elespectador.com/politica/eleccion...</td>\n",
       "      <td>09:28 a. m.</td>\n",
       "      <td>06-10-2025</td>\n",
       "      <td>Redacción Política</td>\n",
       "      <td>Galán, Peñalosa, Oviedo y Luna continúan acerc...</td>\n",
       "      <td>Los precandidatos “independientes” se encontra...</td>\n",
       "      <td>Audio generado con IA de Google\\n0:00\\n/\\n0:00...</td>\n",
       "    </tr>\n",
       "    <tr>\n",
       "      <th>4</th>\n",
       "      <td>politica</td>\n",
       "      <td>El Magazín Cultural</td>\n",
       "      <td>Suscriptores</td>\n",
       "      <td>https://www.elespectador.com/el-magazin-cultur...</td>\n",
       "      <td>10:00 a. m.</td>\n",
       "      <td>06-10-2025</td>\n",
       "      <td>Santiago Muñoz Machado * / Especial para El Es...</td>\n",
       "      <td>“Se ha puesto de moda renegar de la democracia...</td>\n",
       "      <td>Fragmento de “De la democracia en Hispanoaméri...</td>\n",
       "      <td>PRÓLOGO\\nLa democracia es una forma de gobiern...</td>\n",
       "    </tr>\n",
       "  </tbody>\n",
       "</table>\n",
       "</div>"
      ]
     },
     "execution_count": 45,
     "metadata": {},
     "output_type": "execute_result"
    }
   ],
   "execution_count": 45
  },
  {
   "metadata": {
    "ExecuteTime": {
     "end_time": "2025-10-19T21:30:29.493478Z",
     "start_time": "2025-10-19T21:30:29.484571Z"
    }
   },
   "cell_type": "code",
   "source": "bronze_df_el_excelsior.tail()",
   "id": "15926459899287e4",
   "outputs": [
    {
     "data": {
      "text/plain": [
       "     category   sub_category subcription  \\\n",
       "762  economia       Economía        None   \n",
       "763  economia       Economía        None   \n",
       "764  economia       Economía        None   \n",
       "765  judicial       Judicial        None   \n",
       "766  judicial  Paz y Memoria        None   \n",
       "\n",
       "                                                   url     date_raw  \\\n",
       "762  https://www.elespectador.com/economia/como-mej...  11:10 a. m.   \n",
       "763  https://www.elespectador.com/economia/ecopetro...  11:13 a. m.   \n",
       "764  https://www.elespectador.com/economia/las-expo...  12:01 p. m.   \n",
       "765  https://www.elespectador.com/judicial/mindefen...  10:44 a. m.   \n",
       "766  https://www.elespectador.com/colombia-20/paz-y...  10:47 a. m.   \n",
       "\n",
       "    date_parsed                  author  \\\n",
       "762  06-10-2025             Diego Ojeda   \n",
       "763  06-10-2025      Redacción Economía   \n",
       "764  06-10-2025      Redacción Economía   \n",
       "765  06-10-2025      Redacción Judicial   \n",
       "766  06-10-2025  Redacción Colombia +20   \n",
       "\n",
       "                                                 title  \\\n",
       "762  Cómo mejorar su puntaje crediticio: siga estas...   \n",
       "763  Ecopetrol recibió permiso clave para importar ...   \n",
       "764  Las exportaciones colombianas cayeron ligerame...   \n",
       "765  Mindefensa ofrece COP 200 millones de recompen...   \n",
       "766  ELN ataca otra vez a Arauca, pese a su propues...   \n",
       "\n",
       "                                        article_header  \\\n",
       "762  Tener un buen score no solo aumenta las posibi...   \n",
       "763  La empresa destacó que usar la infraestructura...   \n",
       "764  Solo las ventas externas de productos agropecu...   \n",
       "765  El hecho ocurrió el pasado 5 de octubre y cobr...   \n",
       "766  El atentado con explosivos que dejó un soldado...   \n",
       "\n",
       "                                               content  \n",
       "762  Mucho es lo que se dice del puntaje crediticio...  \n",
       "763  El presidente de Ecopetrol, Ricardo Roa, anunc...  \n",
       "764  Este lunes, el Departamento Administrativo Nac...  \n",
       "765  Tras el ataque con explosivos contra la base m...  \n",
       "766  Audio generado con IA de Google\\n0:00\\n/\\n0:00...  "
      ],
      "text/html": [
       "<div>\n",
       "<style scoped>\n",
       "    .dataframe tbody tr th:only-of-type {\n",
       "        vertical-align: middle;\n",
       "    }\n",
       "\n",
       "    .dataframe tbody tr th {\n",
       "        vertical-align: top;\n",
       "    }\n",
       "\n",
       "    .dataframe thead th {\n",
       "        text-align: right;\n",
       "    }\n",
       "</style>\n",
       "<table border=\"1\" class=\"dataframe\">\n",
       "  <thead>\n",
       "    <tr style=\"text-align: right;\">\n",
       "      <th></th>\n",
       "      <th>category</th>\n",
       "      <th>sub_category</th>\n",
       "      <th>subcription</th>\n",
       "      <th>url</th>\n",
       "      <th>date_raw</th>\n",
       "      <th>date_parsed</th>\n",
       "      <th>author</th>\n",
       "      <th>title</th>\n",
       "      <th>article_header</th>\n",
       "      <th>content</th>\n",
       "    </tr>\n",
       "  </thead>\n",
       "  <tbody>\n",
       "    <tr>\n",
       "      <th>762</th>\n",
       "      <td>economia</td>\n",
       "      <td>Economía</td>\n",
       "      <td>None</td>\n",
       "      <td>https://www.elespectador.com/economia/como-mej...</td>\n",
       "      <td>11:10 a. m.</td>\n",
       "      <td>06-10-2025</td>\n",
       "      <td>Diego Ojeda</td>\n",
       "      <td>Cómo mejorar su puntaje crediticio: siga estas...</td>\n",
       "      <td>Tener un buen score no solo aumenta las posibi...</td>\n",
       "      <td>Mucho es lo que se dice del puntaje crediticio...</td>\n",
       "    </tr>\n",
       "    <tr>\n",
       "      <th>763</th>\n",
       "      <td>economia</td>\n",
       "      <td>Economía</td>\n",
       "      <td>None</td>\n",
       "      <td>https://www.elespectador.com/economia/ecopetro...</td>\n",
       "      <td>11:13 a. m.</td>\n",
       "      <td>06-10-2025</td>\n",
       "      <td>Redacción Economía</td>\n",
       "      <td>Ecopetrol recibió permiso clave para importar ...</td>\n",
       "      <td>La empresa destacó que usar la infraestructura...</td>\n",
       "      <td>El presidente de Ecopetrol, Ricardo Roa, anunc...</td>\n",
       "    </tr>\n",
       "    <tr>\n",
       "      <th>764</th>\n",
       "      <td>economia</td>\n",
       "      <td>Economía</td>\n",
       "      <td>None</td>\n",
       "      <td>https://www.elespectador.com/economia/las-expo...</td>\n",
       "      <td>12:01 p. m.</td>\n",
       "      <td>06-10-2025</td>\n",
       "      <td>Redacción Economía</td>\n",
       "      <td>Las exportaciones colombianas cayeron ligerame...</td>\n",
       "      <td>Solo las ventas externas de productos agropecu...</td>\n",
       "      <td>Este lunes, el Departamento Administrativo Nac...</td>\n",
       "    </tr>\n",
       "    <tr>\n",
       "      <th>765</th>\n",
       "      <td>judicial</td>\n",
       "      <td>Judicial</td>\n",
       "      <td>None</td>\n",
       "      <td>https://www.elespectador.com/judicial/mindefen...</td>\n",
       "      <td>10:44 a. m.</td>\n",
       "      <td>06-10-2025</td>\n",
       "      <td>Redacción Judicial</td>\n",
       "      <td>Mindefensa ofrece COP 200 millones de recompen...</td>\n",
       "      <td>El hecho ocurrió el pasado 5 de octubre y cobr...</td>\n",
       "      <td>Tras el ataque con explosivos contra la base m...</td>\n",
       "    </tr>\n",
       "    <tr>\n",
       "      <th>766</th>\n",
       "      <td>judicial</td>\n",
       "      <td>Paz y Memoria</td>\n",
       "      <td>None</td>\n",
       "      <td>https://www.elespectador.com/colombia-20/paz-y...</td>\n",
       "      <td>10:47 a. m.</td>\n",
       "      <td>06-10-2025</td>\n",
       "      <td>Redacción Colombia +20</td>\n",
       "      <td>ELN ataca otra vez a Arauca, pese a su propues...</td>\n",
       "      <td>El atentado con explosivos que dejó un soldado...</td>\n",
       "      <td>Audio generado con IA de Google\\n0:00\\n/\\n0:00...</td>\n",
       "    </tr>\n",
       "  </tbody>\n",
       "</table>\n",
       "</div>"
      ]
     },
     "execution_count": 46,
     "metadata": {},
     "output_type": "execute_result"
    }
   ],
   "execution_count": 46
  },
  {
   "metadata": {},
   "cell_type": "markdown",
   "source": "### 3.2.3 Inspeccionar la jornada",
   "id": "804dad0b073018ae"
  },
  {
   "metadata": {
    "ExecuteTime": {
     "end_time": "2025-10-19T21:30:29.512035Z",
     "start_time": "2025-10-19T21:30:29.500531Z"
    }
   },
   "cell_type": "code",
   "source": "bronze_df_la_jornada.head()",
   "id": "a5e9276875e57232",
   "outputs": [
    {
     "data": {
      "text/plain": [
       "   category sub_category subcription  \\\n",
       "0  politica     Política               \n",
       "1  politica     Política               \n",
       "2  politica     Política               \n",
       "3  politica     Política               \n",
       "4  politica     Política               \n",
       "\n",
       "                                                 url  \\\n",
       "0  https://www.jornada.com.mx/noticia/2025/09/03/...   \n",
       "1  https://www.jornada.com.mx/noticia/2025/04/27/...   \n",
       "2  https://www.jornada.com.mx/noticia/2025/05/14/...   \n",
       "3  https://www.jornada.com.mx/noticia/2025/05/21/...   \n",
       "4  https://www.jornada.com.mx/noticia/2025/05/02/...   \n",
       "\n",
       "                         date_raw date_parsed  \\\n",
       "0  03 de septiembre de 2025 11:37  2025-10-06   \n",
       "1       27 de abril de 2025 12:01  2025-10-06   \n",
       "2        14 de mayo de 2025 08:17  2025-10-06   \n",
       "3        21 de mayo de 2025 16:51  2025-10-06   \n",
       "4        02 de mayo de 2025 07:21  2025-10-06   \n",
       "\n",
       "                                          author  \\\n",
       "0  Emir Olivares, Alonso Urrutia y Alma E. Muñoz   \n",
       "1                  Emir Olivares Alonso, enviado   \n",
       "2                    Alonso Urrutia y Alma Muñoz   \n",
       "3                            Iván Evair Saldaña    \n",
       "4                                Dora Villanueva   \n",
       "\n",
       "                                               title article_header  \\\n",
       "0  Acuerdo en seguridad y migración con respeto a...                  \n",
       "1  “México no es piñata de nadie”, dice Sheinbaum...                  \n",
       "2  Culpa Berdegué a EU de que el gusano barrenado...                  \n",
       "3  \"Sandra, justicia para ti\": familiares tras \"f...                  \n",
       "4  México vuelve a endeudarse para pagar \"error\" ...                  \n",
       "\n",
       "                                             content  \n",
       "0  Ciudad de México.  Tras la reunión que esta ma...  \n",
       "1  Campeche, Campeche . “México no es piñata de n...  \n",
       "2  México ha cumplido al 100 por ciento con las a...  \n",
       "3  Ciudad de México.  ”Lo logramos, Sandra. Justi...  \n",
       "4  Ciudad de México.  Cada año, el gobierno feder...  "
      ],
      "text/html": [
       "<div>\n",
       "<style scoped>\n",
       "    .dataframe tbody tr th:only-of-type {\n",
       "        vertical-align: middle;\n",
       "    }\n",
       "\n",
       "    .dataframe tbody tr th {\n",
       "        vertical-align: top;\n",
       "    }\n",
       "\n",
       "    .dataframe thead th {\n",
       "        text-align: right;\n",
       "    }\n",
       "</style>\n",
       "<table border=\"1\" class=\"dataframe\">\n",
       "  <thead>\n",
       "    <tr style=\"text-align: right;\">\n",
       "      <th></th>\n",
       "      <th>category</th>\n",
       "      <th>sub_category</th>\n",
       "      <th>subcription</th>\n",
       "      <th>url</th>\n",
       "      <th>date_raw</th>\n",
       "      <th>date_parsed</th>\n",
       "      <th>author</th>\n",
       "      <th>title</th>\n",
       "      <th>article_header</th>\n",
       "      <th>content</th>\n",
       "    </tr>\n",
       "  </thead>\n",
       "  <tbody>\n",
       "    <tr>\n",
       "      <th>0</th>\n",
       "      <td>politica</td>\n",
       "      <td>Política</td>\n",
       "      <td></td>\n",
       "      <td>https://www.jornada.com.mx/noticia/2025/09/03/...</td>\n",
       "      <td>03 de septiembre de 2025 11:37</td>\n",
       "      <td>2025-10-06</td>\n",
       "      <td>Emir Olivares, Alonso Urrutia y Alma E. Muñoz</td>\n",
       "      <td>Acuerdo en seguridad y migración con respeto a...</td>\n",
       "      <td></td>\n",
       "      <td>Ciudad de México.  Tras la reunión que esta ma...</td>\n",
       "    </tr>\n",
       "    <tr>\n",
       "      <th>1</th>\n",
       "      <td>politica</td>\n",
       "      <td>Política</td>\n",
       "      <td></td>\n",
       "      <td>https://www.jornada.com.mx/noticia/2025/04/27/...</td>\n",
       "      <td>27 de abril de 2025 12:01</td>\n",
       "      <td>2025-10-06</td>\n",
       "      <td>Emir Olivares Alonso, enviado</td>\n",
       "      <td>“México no es piñata de nadie”, dice Sheinbaum...</td>\n",
       "      <td></td>\n",
       "      <td>Campeche, Campeche . “México no es piñata de n...</td>\n",
       "    </tr>\n",
       "    <tr>\n",
       "      <th>2</th>\n",
       "      <td>politica</td>\n",
       "      <td>Política</td>\n",
       "      <td></td>\n",
       "      <td>https://www.jornada.com.mx/noticia/2025/05/14/...</td>\n",
       "      <td>14 de mayo de 2025 08:17</td>\n",
       "      <td>2025-10-06</td>\n",
       "      <td>Alonso Urrutia y Alma Muñoz</td>\n",
       "      <td>Culpa Berdegué a EU de que el gusano barrenado...</td>\n",
       "      <td></td>\n",
       "      <td>México ha cumplido al 100 por ciento con las a...</td>\n",
       "    </tr>\n",
       "    <tr>\n",
       "      <th>3</th>\n",
       "      <td>politica</td>\n",
       "      <td>Política</td>\n",
       "      <td></td>\n",
       "      <td>https://www.jornada.com.mx/noticia/2025/05/21/...</td>\n",
       "      <td>21 de mayo de 2025 16:51</td>\n",
       "      <td>2025-10-06</td>\n",
       "      <td>Iván Evair Saldaña</td>\n",
       "      <td>\"Sandra, justicia para ti\": familiares tras \"f...</td>\n",
       "      <td></td>\n",
       "      <td>Ciudad de México.  ”Lo logramos, Sandra. Justi...</td>\n",
       "    </tr>\n",
       "    <tr>\n",
       "      <th>4</th>\n",
       "      <td>politica</td>\n",
       "      <td>Política</td>\n",
       "      <td></td>\n",
       "      <td>https://www.jornada.com.mx/noticia/2025/05/02/...</td>\n",
       "      <td>02 de mayo de 2025 07:21</td>\n",
       "      <td>2025-10-06</td>\n",
       "      <td>Dora Villanueva</td>\n",
       "      <td>México vuelve a endeudarse para pagar \"error\" ...</td>\n",
       "      <td></td>\n",
       "      <td>Ciudad de México.  Cada año, el gobierno feder...</td>\n",
       "    </tr>\n",
       "  </tbody>\n",
       "</table>\n",
       "</div>"
      ]
     },
     "execution_count": 47,
     "metadata": {},
     "output_type": "execute_result"
    }
   ],
   "execution_count": 47
  },
  {
   "metadata": {
    "ExecuteTime": {
     "end_time": "2025-10-19T21:30:29.527692Z",
     "start_time": "2025-10-19T21:30:29.518334Z"
    }
   },
   "cell_type": "code",
   "source": "bronze_df_la_jornada.tail()",
   "id": "1fbb422e6892e616",
   "outputs": [
    {
     "data": {
      "text/plain": [
       "    category sub_category subcription  \\\n",
       "387    mundo        Mundo               \n",
       "388    mundo        Mundo               \n",
       "389    mundo     Economía               \n",
       "390    mundo        Mundo               \n",
       "391    mundo        Mundo               \n",
       "\n",
       "                                                   url  \\\n",
       "387  https://www.jornada.com.mx/noticia/2025/06/13/...   \n",
       "388  https://www.jornada.com.mx/noticia/2025/02/16/...   \n",
       "389  https://www.jornada.com.mx/noticia/2023/12/20/...   \n",
       "390  https://www.jornada.com.mx/noticia/2025/07/12/...   \n",
       "391  https://www.jornada.com.mx/noticia/2025/02/19/...   \n",
       "\n",
       "                          date_raw date_parsed  \\\n",
       "387      13 de junio de 2025 22:08  2025-10-06   \n",
       "388    16 de febrero de 2025 08:11  2025-10-06   \n",
       "389  20 de diciembre de 2023 07:53  2025-10-06   \n",
       "390      12 de julio de 2025 08:05  2025-10-06   \n",
       "391    19 de febrero de 2025 19:11  2025-10-06   \n",
       "\n",
       "                                  author  \\\n",
       "387                         La Redacción   \n",
       "388                        la redacción    \n",
       "389  Clara Zepeda, Redacción y agencias    \n",
       "390                                   Ap   \n",
       "391   La Redacción y La Jornada en Línea   \n",
       "\n",
       "                                                 title article_header  \\\n",
       "387  Ordena Trump pausar redadas en campos, restaur...                  \n",
       "388  Despide Trump a altos mandos de migración por ...                  \n",
       "389          México, la economía número 12 en el mundo                  \n",
       "390  Un migrante muerto tras redadas en granjas de ...                  \n",
       "391  Agradece Trump a Sheinbaum por idea de campaña...                  \n",
       "\n",
       "                                               content  \n",
       "387  El gobierno del presidente de Estados Unidos, ...  \n",
       "388  Al respecto, Jason Houser, quien fue jefe de g...  \n",
       "389                                                     \n",
       "390  Los Ángeles., Tras las redadas realizadas en C...  \n",
       "391  El presidente de Estados Unidos, Donald Trump,...  "
      ],
      "text/html": [
       "<div>\n",
       "<style scoped>\n",
       "    .dataframe tbody tr th:only-of-type {\n",
       "        vertical-align: middle;\n",
       "    }\n",
       "\n",
       "    .dataframe tbody tr th {\n",
       "        vertical-align: top;\n",
       "    }\n",
       "\n",
       "    .dataframe thead th {\n",
       "        text-align: right;\n",
       "    }\n",
       "</style>\n",
       "<table border=\"1\" class=\"dataframe\">\n",
       "  <thead>\n",
       "    <tr style=\"text-align: right;\">\n",
       "      <th></th>\n",
       "      <th>category</th>\n",
       "      <th>sub_category</th>\n",
       "      <th>subcription</th>\n",
       "      <th>url</th>\n",
       "      <th>date_raw</th>\n",
       "      <th>date_parsed</th>\n",
       "      <th>author</th>\n",
       "      <th>title</th>\n",
       "      <th>article_header</th>\n",
       "      <th>content</th>\n",
       "    </tr>\n",
       "  </thead>\n",
       "  <tbody>\n",
       "    <tr>\n",
       "      <th>387</th>\n",
       "      <td>mundo</td>\n",
       "      <td>Mundo</td>\n",
       "      <td></td>\n",
       "      <td>https://www.jornada.com.mx/noticia/2025/06/13/...</td>\n",
       "      <td>13 de junio de 2025 22:08</td>\n",
       "      <td>2025-10-06</td>\n",
       "      <td>La Redacción</td>\n",
       "      <td>Ordena Trump pausar redadas en campos, restaur...</td>\n",
       "      <td></td>\n",
       "      <td>El gobierno del presidente de Estados Unidos, ...</td>\n",
       "    </tr>\n",
       "    <tr>\n",
       "      <th>388</th>\n",
       "      <td>mundo</td>\n",
       "      <td>Mundo</td>\n",
       "      <td></td>\n",
       "      <td>https://www.jornada.com.mx/noticia/2025/02/16/...</td>\n",
       "      <td>16 de febrero de 2025 08:11</td>\n",
       "      <td>2025-10-06</td>\n",
       "      <td>la redacción</td>\n",
       "      <td>Despide Trump a altos mandos de migración por ...</td>\n",
       "      <td></td>\n",
       "      <td>Al respecto, Jason Houser, quien fue jefe de g...</td>\n",
       "    </tr>\n",
       "    <tr>\n",
       "      <th>389</th>\n",
       "      <td>mundo</td>\n",
       "      <td>Economía</td>\n",
       "      <td></td>\n",
       "      <td>https://www.jornada.com.mx/noticia/2023/12/20/...</td>\n",
       "      <td>20 de diciembre de 2023 07:53</td>\n",
       "      <td>2025-10-06</td>\n",
       "      <td>Clara Zepeda, Redacción y agencias</td>\n",
       "      <td>México, la economía número 12 en el mundo</td>\n",
       "      <td></td>\n",
       "      <td></td>\n",
       "    </tr>\n",
       "    <tr>\n",
       "      <th>390</th>\n",
       "      <td>mundo</td>\n",
       "      <td>Mundo</td>\n",
       "      <td></td>\n",
       "      <td>https://www.jornada.com.mx/noticia/2025/07/12/...</td>\n",
       "      <td>12 de julio de 2025 08:05</td>\n",
       "      <td>2025-10-06</td>\n",
       "      <td>Ap</td>\n",
       "      <td>Un migrante muerto tras redadas en granjas de ...</td>\n",
       "      <td></td>\n",
       "      <td>Los Ángeles., Tras las redadas realizadas en C...</td>\n",
       "    </tr>\n",
       "    <tr>\n",
       "      <th>391</th>\n",
       "      <td>mundo</td>\n",
       "      <td>Mundo</td>\n",
       "      <td></td>\n",
       "      <td>https://www.jornada.com.mx/noticia/2025/02/19/...</td>\n",
       "      <td>19 de febrero de 2025 19:11</td>\n",
       "      <td>2025-10-06</td>\n",
       "      <td>La Redacción y La Jornada en Línea</td>\n",
       "      <td>Agradece Trump a Sheinbaum por idea de campaña...</td>\n",
       "      <td></td>\n",
       "      <td>El presidente de Estados Unidos, Donald Trump,...</td>\n",
       "    </tr>\n",
       "  </tbody>\n",
       "</table>\n",
       "</div>"
      ]
     },
     "execution_count": 48,
     "metadata": {},
     "output_type": "execute_result"
    }
   ],
   "execution_count": 48
  },
  {
   "metadata": {
    "ExecuteTime": {
     "end_time": "2025-10-19T21:30:29.540264Z",
     "start_time": "2025-10-19T21:30:29.535219Z"
    }
   },
   "cell_type": "code",
   "source": "bronze_df_la_jornada.dtypes",
   "id": "a74ccafd44555106",
   "outputs": [
    {
     "data": {
      "text/plain": [
       "category          object\n",
       "sub_category      object\n",
       "subcription       object\n",
       "url               object\n",
       "date_raw          object\n",
       "date_parsed       object\n",
       "author            object\n",
       "title             object\n",
       "article_header    object\n",
       "content           object\n",
       "dtype: object"
      ]
     },
     "execution_count": 49,
     "metadata": {},
     "output_type": "execute_result"
    }
   ],
   "execution_count": 49
  },
  {
   "metadata": {
    "ExecuteTime": {
     "end_time": "2025-10-19T21:30:29.553317Z",
     "start_time": "2025-10-19T21:30:29.548284Z"
    }
   },
   "cell_type": "code",
   "source": "bronze_df_la_jornada.shape",
   "id": "be526426bfb89bf",
   "outputs": [
    {
     "data": {
      "text/plain": [
       "(392, 10)"
      ]
     },
     "execution_count": 50,
     "metadata": {},
     "output_type": "execute_result"
    }
   ],
   "execution_count": 50
  },
  {
   "metadata": {},
   "cell_type": "markdown",
   "source": "### 3.2.4 Inspeccionar el colombiano",
   "id": "cd217897f2cfec1c"
  },
  {
   "metadata": {
    "ExecuteTime": {
     "end_time": "2025-10-19T21:30:29.570004Z",
     "start_time": "2025-10-19T21:30:29.560476Z"
    }
   },
   "cell_type": "code",
   "source": "bronze_df_el_colombiano.head()",
   "id": "2675dbd83c9dfa57",
   "outputs": [
    {
     "data": {
      "text/plain": [
       "         category sub_category subcription  \\\n",
       "0        Colombia     politica               \n",
       "1        Colombia     politica               \n",
       "2        Colombia     politica               \n",
       "3        Colombia     politica               \n",
       "4  Estados Unidos        salud               \n",
       "\n",
       "                                                 url  \\\n",
       "0  https://www.elcolombiano.com/colombia/campana-...   \n",
       "1  https://www.elcolombiano.com/colombia/gloria-f...   \n",
       "2  https://www.elcolombiano.com/colombia/centro-d...   \n",
       "3  https://www.elcolombiano.com/colombia/datos-fa...   \n",
       "4  https://www.elcolombiano.com/internacional/eeu...   \n",
       "\n",
       "                     date_raw date_parsed  \\\n",
       "0      01 de octubre de 2025   2025-10-06   \n",
       "1      01 de octubre de 2025   2025-10-06   \n",
       "2      01 de octubre de 2025   2025-10-06   \n",
       "3   19 de septiembre de 2025   2025-10-06   \n",
       "4        21 de julio de 2025   2025-10-06   \n",
       "\n",
       "                                           author  \\\n",
       "0            El Colombiano\\n                        \n",
       "1            El Colombiano\\n                        \n",
       "2            El Colombiano\\n                        \n",
       "3   Nicolás Rivera Guevara\\n                        \n",
       "4              Agencia AFP\\n                        \n",
       "\n",
       "                                               title  \\\n",
       "0  Vuelve y juega: CNE pospone discusión sobre pr...   \n",
       "1  Gloria Flórez, senadora y presidenta de Colomb...   \n",
       "2  Centro Democrático interpondrá acción popular ...   \n",
       "3  Fact check: los datos falsos de Petro contra T...   \n",
       "4  EE. UU. rechaza los cambios que hizo la OMS pa...   \n",
       "\n",
       "                                      article_header  \\\n",
       "0  La Sala Plena volvió a aplazar la votación sob...   \n",
       "1  La congresista era precandidato presidencial, ...   \n",
       "2  El objetivo de esta acción, según el partido p...   \n",
       "3  Petro se demoró dos días para responderle a EE...   \n",
       "4  El presidente Donald Trump hizo campaña en 202...   \n",
       "\n",
       "                                             content  \n",
       "0  Si bien este miércoles se tenía previsto que l...  \n",
       "1  La senadora Gloria Flórez,  quien es president...  \n",
       "2  El partido Centro Democrático anunció este mié...  \n",
       "3  Aunque era previsible, según análisis y expert...  \n",
       "4  El gobierno del presidente Donald Trump inform...  "
      ],
      "text/html": [
       "<div>\n",
       "<style scoped>\n",
       "    .dataframe tbody tr th:only-of-type {\n",
       "        vertical-align: middle;\n",
       "    }\n",
       "\n",
       "    .dataframe tbody tr th {\n",
       "        vertical-align: top;\n",
       "    }\n",
       "\n",
       "    .dataframe thead th {\n",
       "        text-align: right;\n",
       "    }\n",
       "</style>\n",
       "<table border=\"1\" class=\"dataframe\">\n",
       "  <thead>\n",
       "    <tr style=\"text-align: right;\">\n",
       "      <th></th>\n",
       "      <th>category</th>\n",
       "      <th>sub_category</th>\n",
       "      <th>subcription</th>\n",
       "      <th>url</th>\n",
       "      <th>date_raw</th>\n",
       "      <th>date_parsed</th>\n",
       "      <th>author</th>\n",
       "      <th>title</th>\n",
       "      <th>article_header</th>\n",
       "      <th>content</th>\n",
       "    </tr>\n",
       "  </thead>\n",
       "  <tbody>\n",
       "    <tr>\n",
       "      <th>0</th>\n",
       "      <td>Colombia</td>\n",
       "      <td>politica</td>\n",
       "      <td></td>\n",
       "      <td>https://www.elcolombiano.com/colombia/campana-...</td>\n",
       "      <td>01 de octubre de 2025</td>\n",
       "      <td>2025-10-06</td>\n",
       "      <td>El Colombiano\\n</td>\n",
       "      <td>Vuelve y juega: CNE pospone discusión sobre pr...</td>\n",
       "      <td>La Sala Plena volvió a aplazar la votación sob...</td>\n",
       "      <td>Si bien este miércoles se tenía previsto que l...</td>\n",
       "    </tr>\n",
       "    <tr>\n",
       "      <th>1</th>\n",
       "      <td>Colombia</td>\n",
       "      <td>politica</td>\n",
       "      <td></td>\n",
       "      <td>https://www.elcolombiano.com/colombia/gloria-f...</td>\n",
       "      <td>01 de octubre de 2025</td>\n",
       "      <td>2025-10-06</td>\n",
       "      <td>El Colombiano\\n</td>\n",
       "      <td>Gloria Flórez, senadora y presidenta de Colomb...</td>\n",
       "      <td>La congresista era precandidato presidencial, ...</td>\n",
       "      <td>La senadora Gloria Flórez,  quien es president...</td>\n",
       "    </tr>\n",
       "    <tr>\n",
       "      <th>2</th>\n",
       "      <td>Colombia</td>\n",
       "      <td>politica</td>\n",
       "      <td></td>\n",
       "      <td>https://www.elcolombiano.com/colombia/centro-d...</td>\n",
       "      <td>01 de octubre de 2025</td>\n",
       "      <td>2025-10-06</td>\n",
       "      <td>El Colombiano\\n</td>\n",
       "      <td>Centro Democrático interpondrá acción popular ...</td>\n",
       "      <td>El objetivo de esta acción, según el partido p...</td>\n",
       "      <td>El partido Centro Democrático anunció este mié...</td>\n",
       "    </tr>\n",
       "    <tr>\n",
       "      <th>3</th>\n",
       "      <td>Colombia</td>\n",
       "      <td>politica</td>\n",
       "      <td></td>\n",
       "      <td>https://www.elcolombiano.com/colombia/datos-fa...</td>\n",
       "      <td>19 de septiembre de 2025</td>\n",
       "      <td>2025-10-06</td>\n",
       "      <td>Nicolás Rivera Guevara\\n</td>\n",
       "      <td>Fact check: los datos falsos de Petro contra T...</td>\n",
       "      <td>Petro se demoró dos días para responderle a EE...</td>\n",
       "      <td>Aunque era previsible, según análisis y expert...</td>\n",
       "    </tr>\n",
       "    <tr>\n",
       "      <th>4</th>\n",
       "      <td>Estados Unidos</td>\n",
       "      <td>salud</td>\n",
       "      <td></td>\n",
       "      <td>https://www.elcolombiano.com/internacional/eeu...</td>\n",
       "      <td>21 de julio de 2025</td>\n",
       "      <td>2025-10-06</td>\n",
       "      <td>Agencia AFP\\n</td>\n",
       "      <td>EE. UU. rechaza los cambios que hizo la OMS pa...</td>\n",
       "      <td>El presidente Donald Trump hizo campaña en 202...</td>\n",
       "      <td>El gobierno del presidente Donald Trump inform...</td>\n",
       "    </tr>\n",
       "  </tbody>\n",
       "</table>\n",
       "</div>"
      ]
     },
     "execution_count": 51,
     "metadata": {},
     "output_type": "execute_result"
    }
   ],
   "execution_count": 51
  },
  {
   "metadata": {
    "ExecuteTime": {
     "end_time": "2025-10-19T21:30:29.584517Z",
     "start_time": "2025-10-19T21:30:29.576010Z"
    }
   },
   "cell_type": "code",
   "source": "bronze_df_el_colombiano.tail()",
   "id": "8ca025ec90d489f0",
   "outputs": [
    {
     "data": {
      "text/plain": [
       "      category sub_category subcription  \\\n",
       "1078  Colombia     politica               \n",
       "1079  Colombia     politica               \n",
       "1080  Colombia     politica               \n",
       "1081  Colombia     politica               \n",
       "1082  Colombia     politica               \n",
       "\n",
       "                                                    url  \\\n",
       "1078  https://www.elcolombiano.com/colombia/francisc...   \n",
       "1079  https://www.elcolombiano.com/colombia/petro-pa...   \n",
       "1080  https://www.elcolombiano.com/colombia/eleccion...   \n",
       "1081  https://www.elcolombiano.com/colombia/crisis-g...   \n",
       "1082  https://www.elcolombiano.com/colombia/petro-tr...   \n",
       "\n",
       "                     date_raw date_parsed  \\\n",
       "1078   05 de octubre de 2025   2025-10-06   \n",
       "1079   05 de octubre de 2025   2025-10-06   \n",
       "1080   05 de octubre de 2025   2025-10-06   \n",
       "1081            hace 5 horas   2025-10-06   \n",
       "1082            hace 4 horas   2025-10-06   \n",
       "\n",
       "                                               author  \\\n",
       "1078             El Colombiano\\n                        \n",
       "1079       Daniel Rivera Marín\\n                        \n",
       "1080   Javier González Penagos\\n                        \n",
       "1081             El Colombiano\\n                        \n",
       "1082             El Colombiano\\n                        \n",
       "\n",
       "                                                  title  \\\n",
       "1078  Exfiscal Francisco Barbosa renunció a su preca...   \n",
       "1079  ¿Petro pacifista o Petro que llama a la guerra...   \n",
       "1080  Así se reacomoda el clan Torres pensando en 20...   \n",
       "1081  ¿Un café para la paz? Benedetti y Montealegre ...   \n",
       "1082  Presidente noctámbulo: Petro madrugó a lanzar ...   \n",
       "\n",
       "                                         article_header  \\\n",
       "1078  El exfiscal adujo su renuncia a razones de seg...   \n",
       "1079  El presidente Gustavo Petro ondea una contradi...   \n",
       "1080  El poderoso clan político y empresarial de Euc...   \n",
       "1081  Los ministros se reunirán, por mediación del e...   \n",
       "1082  En una serie de trinos publicados entre la med...   \n",
       "\n",
       "                                                content  \n",
       "1078  El exfiscal General del a Nación, Francisco Ba...  \n",
       "1079  Fue el congresista Daniel Carvalho quien advir...  \n",
       "1080  Echando mano del sigilo y el bajo perfil que l...  \n",
       "1081  El próximo  miércoles 8 de octubre,  un gasto ...  \n",
       "1082  Asamblea Nacional Constituyente,  pullas a  Br...  "
      ],
      "text/html": [
       "<div>\n",
       "<style scoped>\n",
       "    .dataframe tbody tr th:only-of-type {\n",
       "        vertical-align: middle;\n",
       "    }\n",
       "\n",
       "    .dataframe tbody tr th {\n",
       "        vertical-align: top;\n",
       "    }\n",
       "\n",
       "    .dataframe thead th {\n",
       "        text-align: right;\n",
       "    }\n",
       "</style>\n",
       "<table border=\"1\" class=\"dataframe\">\n",
       "  <thead>\n",
       "    <tr style=\"text-align: right;\">\n",
       "      <th></th>\n",
       "      <th>category</th>\n",
       "      <th>sub_category</th>\n",
       "      <th>subcription</th>\n",
       "      <th>url</th>\n",
       "      <th>date_raw</th>\n",
       "      <th>date_parsed</th>\n",
       "      <th>author</th>\n",
       "      <th>title</th>\n",
       "      <th>article_header</th>\n",
       "      <th>content</th>\n",
       "    </tr>\n",
       "  </thead>\n",
       "  <tbody>\n",
       "    <tr>\n",
       "      <th>1078</th>\n",
       "      <td>Colombia</td>\n",
       "      <td>politica</td>\n",
       "      <td></td>\n",
       "      <td>https://www.elcolombiano.com/colombia/francisc...</td>\n",
       "      <td>05 de octubre de 2025</td>\n",
       "      <td>2025-10-06</td>\n",
       "      <td>El Colombiano\\n</td>\n",
       "      <td>Exfiscal Francisco Barbosa renunció a su preca...</td>\n",
       "      <td>El exfiscal adujo su renuncia a razones de seg...</td>\n",
       "      <td>El exfiscal General del a Nación, Francisco Ba...</td>\n",
       "    </tr>\n",
       "    <tr>\n",
       "      <th>1079</th>\n",
       "      <td>Colombia</td>\n",
       "      <td>politica</td>\n",
       "      <td></td>\n",
       "      <td>https://www.elcolombiano.com/colombia/petro-pa...</td>\n",
       "      <td>05 de octubre de 2025</td>\n",
       "      <td>2025-10-06</td>\n",
       "      <td>Daniel Rivera Marín\\n</td>\n",
       "      <td>¿Petro pacifista o Petro que llama a la guerra...</td>\n",
       "      <td>El presidente Gustavo Petro ondea una contradi...</td>\n",
       "      <td>Fue el congresista Daniel Carvalho quien advir...</td>\n",
       "    </tr>\n",
       "    <tr>\n",
       "      <th>1080</th>\n",
       "      <td>Colombia</td>\n",
       "      <td>politica</td>\n",
       "      <td></td>\n",
       "      <td>https://www.elcolombiano.com/colombia/eleccion...</td>\n",
       "      <td>05 de octubre de 2025</td>\n",
       "      <td>2025-10-06</td>\n",
       "      <td>Javier González Penagos\\n</td>\n",
       "      <td>Así se reacomoda el clan Torres pensando en 20...</td>\n",
       "      <td>El poderoso clan político y empresarial de Euc...</td>\n",
       "      <td>Echando mano del sigilo y el bajo perfil que l...</td>\n",
       "    </tr>\n",
       "    <tr>\n",
       "      <th>1081</th>\n",
       "      <td>Colombia</td>\n",
       "      <td>politica</td>\n",
       "      <td></td>\n",
       "      <td>https://www.elcolombiano.com/colombia/crisis-g...</td>\n",
       "      <td>hace 5 horas</td>\n",
       "      <td>2025-10-06</td>\n",
       "      <td>El Colombiano\\n</td>\n",
       "      <td>¿Un café para la paz? Benedetti y Montealegre ...</td>\n",
       "      <td>Los ministros se reunirán, por mediación del e...</td>\n",
       "      <td>El próximo  miércoles 8 de octubre,  un gasto ...</td>\n",
       "    </tr>\n",
       "    <tr>\n",
       "      <th>1082</th>\n",
       "      <td>Colombia</td>\n",
       "      <td>politica</td>\n",
       "      <td></td>\n",
       "      <td>https://www.elcolombiano.com/colombia/petro-tr...</td>\n",
       "      <td>hace 4 horas</td>\n",
       "      <td>2025-10-06</td>\n",
       "      <td>El Colombiano\\n</td>\n",
       "      <td>Presidente noctámbulo: Petro madrugó a lanzar ...</td>\n",
       "      <td>En una serie de trinos publicados entre la med...</td>\n",
       "      <td>Asamblea Nacional Constituyente,  pullas a  Br...</td>\n",
       "    </tr>\n",
       "  </tbody>\n",
       "</table>\n",
       "</div>"
      ]
     },
     "execution_count": 52,
     "metadata": {},
     "output_type": "execute_result"
    }
   ],
   "execution_count": 52
  },
  {
   "metadata": {
    "ExecuteTime": {
     "end_time": "2025-10-19T21:30:29.598681Z",
     "start_time": "2025-10-19T21:30:29.592671Z"
    }
   },
   "cell_type": "code",
   "source": "bronze_df_el_colombiano.dtypes",
   "id": "53df91fb1c290e8",
   "outputs": [
    {
     "data": {
      "text/plain": [
       "category          object\n",
       "sub_category      object\n",
       "subcription       object\n",
       "url               object\n",
       "date_raw          object\n",
       "date_parsed       object\n",
       "author            object\n",
       "title             object\n",
       "article_header    object\n",
       "content           object\n",
       "dtype: object"
      ]
     },
     "execution_count": 53,
     "metadata": {},
     "output_type": "execute_result"
    }
   ],
   "execution_count": 53
  },
  {
   "metadata": {
    "ExecuteTime": {
     "end_time": "2025-10-19T21:30:29.613202Z",
     "start_time": "2025-10-19T21:30:29.609206Z"
    }
   },
   "cell_type": "code",
   "source": "bronze_df_el_colombiano.shape",
   "id": "845df6cadb41afdf",
   "outputs": [
    {
     "data": {
      "text/plain": [
       "(1083, 10)"
      ]
     },
     "execution_count": 54,
     "metadata": {},
     "output_type": "execute_result"
    }
   ],
   "execution_count": 54
  },
  {
   "metadata": {},
   "cell_type": "markdown",
   "source": "### 3.2.5 Inspeccionar el tiempo",
   "id": "e4a95b3699ae5d79"
  },
  {
   "metadata": {
    "ExecuteTime": {
     "end_time": "2025-10-19T21:30:29.629426Z",
     "start_time": "2025-10-19T21:30:29.620848Z"
    }
   },
   "cell_type": "code",
   "source": "bronze_df_el_tiempo.head()",
   "id": "48432f99a2e06328",
   "outputs": [
    {
     "data": {
      "text/plain": [
       "   category sub_category               subcription  \\\n",
       "0  politica                                   None   \n",
       "1  politica                                   None   \n",
       "2  politica                Exclusivo suscriptores    \n",
       "3  politica                                   None   \n",
       "4  politica                                   None   \n",
       "\n",
       "                                                 url           date_raw  \\\n",
       "0  https://www.eltiempo.com/politica/gobierno/itr...  06.10.2025 13:36    \n",
       "1  https://www.eltiempo.com/politica/partidos-pol...  06.10.2025 14:42    \n",
       "2  https://www.eltiempo.com/politica/gobierno/pre...  06.10.2025 14:53    \n",
       "3  https://www.eltiempo.com/politica/gobierno/tra...  06.10.2025 15:15    \n",
       "4  https://www.eltiempo.com/politica/elecciones-c...  06.10.2025 16:04    \n",
       "\n",
       "  date_parsed                        author  \\\n",
       "0  2025-10-06  Laura Daniela Alarcón Vargas   \n",
       "1  2025-10-06  Laura Daniela Alarcón Vargas   \n",
       "2  2025-10-06  Juan Sebastián Lombo Delgado   \n",
       "3  2025-10-06    Juan Pablo Penagos Ramírez   \n",
       "4  2025-10-06    Juan Pablo Penagos Ramírez   \n",
       "\n",
       "                                               title  \\\n",
       "0  iTracking Digital de Guarumo en octubre: Abela...   \n",
       "1  Bruce Mac Master denuncia que 'continúa hostig...   \n",
       "2  ¿Presidente Gustavo Petro en campaña? El impac...   \n",
       "3  Tras descertificación, Cancillería refuerza po...   \n",
       "4  Críticas a Francisco Barbosa tras desaprobar c...   \n",
       "\n",
       "                                      article_header  \\\n",
       "0  Vicky Dávila y Claudia López crecen en seguido...   \n",
       "1  En una entrevista concedida a EL TIEMPO, el lí...   \n",
       "2  En distintos espacios, el mandatario ha hecho ...   \n",
       "3  La Canciller inauguró en Italia la exposición ...   \n",
       "4  El exfiscal, quien anunció en EL TIEMPO el ret...   \n",
       "\n",
       "                                             content  \n",
       "0  La firma  Guarumo Econoanalítica  publicó los ...  \n",
       "1  Tras los recientes hechos vandálicos contra se...  \n",
       "2  El evento del presidente Gustavo Petro en Ibag...  \n",
       "3  A casi un mes de la descertificación de Estado...  \n",
       "4  Luego de anunciar en entrevista con EL TIEMPO ...  "
      ],
      "text/html": [
       "<div>\n",
       "<style scoped>\n",
       "    .dataframe tbody tr th:only-of-type {\n",
       "        vertical-align: middle;\n",
       "    }\n",
       "\n",
       "    .dataframe tbody tr th {\n",
       "        vertical-align: top;\n",
       "    }\n",
       "\n",
       "    .dataframe thead th {\n",
       "        text-align: right;\n",
       "    }\n",
       "</style>\n",
       "<table border=\"1\" class=\"dataframe\">\n",
       "  <thead>\n",
       "    <tr style=\"text-align: right;\">\n",
       "      <th></th>\n",
       "      <th>category</th>\n",
       "      <th>sub_category</th>\n",
       "      <th>subcription</th>\n",
       "      <th>url</th>\n",
       "      <th>date_raw</th>\n",
       "      <th>date_parsed</th>\n",
       "      <th>author</th>\n",
       "      <th>title</th>\n",
       "      <th>article_header</th>\n",
       "      <th>content</th>\n",
       "    </tr>\n",
       "  </thead>\n",
       "  <tbody>\n",
       "    <tr>\n",
       "      <th>0</th>\n",
       "      <td>politica</td>\n",
       "      <td></td>\n",
       "      <td>None</td>\n",
       "      <td>https://www.eltiempo.com/politica/gobierno/itr...</td>\n",
       "      <td>06.10.2025 13:36</td>\n",
       "      <td>2025-10-06</td>\n",
       "      <td>Laura Daniela Alarcón Vargas</td>\n",
       "      <td>iTracking Digital de Guarumo en octubre: Abela...</td>\n",
       "      <td>Vicky Dávila y Claudia López crecen en seguido...</td>\n",
       "      <td>La firma  Guarumo Econoanalítica  publicó los ...</td>\n",
       "    </tr>\n",
       "    <tr>\n",
       "      <th>1</th>\n",
       "      <td>politica</td>\n",
       "      <td></td>\n",
       "      <td>None</td>\n",
       "      <td>https://www.eltiempo.com/politica/partidos-pol...</td>\n",
       "      <td>06.10.2025 14:42</td>\n",
       "      <td>2025-10-06</td>\n",
       "      <td>Laura Daniela Alarcón Vargas</td>\n",
       "      <td>Bruce Mac Master denuncia que 'continúa hostig...</td>\n",
       "      <td>En una entrevista concedida a EL TIEMPO, el lí...</td>\n",
       "      <td>Tras los recientes hechos vandálicos contra se...</td>\n",
       "    </tr>\n",
       "    <tr>\n",
       "      <th>2</th>\n",
       "      <td>politica</td>\n",
       "      <td></td>\n",
       "      <td>Exclusivo suscriptores</td>\n",
       "      <td>https://www.eltiempo.com/politica/gobierno/pre...</td>\n",
       "      <td>06.10.2025 14:53</td>\n",
       "      <td>2025-10-06</td>\n",
       "      <td>Juan Sebastián Lombo Delgado</td>\n",
       "      <td>¿Presidente Gustavo Petro en campaña? El impac...</td>\n",
       "      <td>En distintos espacios, el mandatario ha hecho ...</td>\n",
       "      <td>El evento del presidente Gustavo Petro en Ibag...</td>\n",
       "    </tr>\n",
       "    <tr>\n",
       "      <th>3</th>\n",
       "      <td>politica</td>\n",
       "      <td></td>\n",
       "      <td>None</td>\n",
       "      <td>https://www.eltiempo.com/politica/gobierno/tra...</td>\n",
       "      <td>06.10.2025 15:15</td>\n",
       "      <td>2025-10-06</td>\n",
       "      <td>Juan Pablo Penagos Ramírez</td>\n",
       "      <td>Tras descertificación, Cancillería refuerza po...</td>\n",
       "      <td>La Canciller inauguró en Italia la exposición ...</td>\n",
       "      <td>A casi un mes de la descertificación de Estado...</td>\n",
       "    </tr>\n",
       "    <tr>\n",
       "      <th>4</th>\n",
       "      <td>politica</td>\n",
       "      <td></td>\n",
       "      <td>None</td>\n",
       "      <td>https://www.eltiempo.com/politica/elecciones-c...</td>\n",
       "      <td>06.10.2025 16:04</td>\n",
       "      <td>2025-10-06</td>\n",
       "      <td>Juan Pablo Penagos Ramírez</td>\n",
       "      <td>Críticas a Francisco Barbosa tras desaprobar c...</td>\n",
       "      <td>El exfiscal, quien anunció en EL TIEMPO el ret...</td>\n",
       "      <td>Luego de anunciar en entrevista con EL TIEMPO ...</td>\n",
       "    </tr>\n",
       "  </tbody>\n",
       "</table>\n",
       "</div>"
      ]
     },
     "execution_count": 55,
     "metadata": {},
     "output_type": "execute_result"
    }
   ],
   "execution_count": 55
  },
  {
   "metadata": {
    "ExecuteTime": {
     "end_time": "2025-10-19T21:30:29.643969Z",
     "start_time": "2025-10-19T21:30:29.635433Z"
    }
   },
   "cell_type": "code",
   "source": "bronze_df_el_tiempo.tail()",
   "id": "7737ffb04ca9a073",
   "outputs": [
    {
     "data": {
      "text/plain": [
       "     category sub_category subcription  \\\n",
       "475  economia                     None   \n",
       "476  politica                     None   \n",
       "477  politica                     None   \n",
       "478  politica                     None   \n",
       "479  politica                     None   \n",
       "\n",
       "                                                   url           date_raw  \\\n",
       "475  https://www.eltiempo.com/economia/sector-finan...  06.10.2025 19:36    \n",
       "476  https://www.eltiempo.com/politica/gobierno/que...  06.10.2025 10:19    \n",
       "477  https://www.eltiempo.com/politica/partidos-pol...  06.10.2025 10:31    \n",
       "478  https://www.eltiempo.com/mundo/medio-oriente/c...  06.10.2025 12:21    \n",
       "479  https://www.eltiempo.com/politica/gobierno/min...  06.10.2025 12:43    \n",
       "\n",
       "    date_parsed                           author  \\\n",
       "475  2025-10-06     Carlos Arturo García Mahecha   \n",
       "476  2025-10-06       Maria Paula Rodriguez Rozo   \n",
       "477  2025-10-06     Laura Daniela Alarcón Vargas   \n",
       "478  2025-10-06        Angie Nataly Ruiz Hurtado   \n",
       "479  2025-10-06  María Alejandra González Duarte   \n",
       "\n",
       "                                                 title  \\\n",
       "475  Billeteras digitales impulsan la inclusión fin...   \n",
       "476  ¿Qué es un ‘arconte’? Así le llamó Gustavo Pet...   \n",
       "477  Jorge Enrique Robledo anuncia candidatura al S...   \n",
       "478  Colombianas detenidas en Israel serán liberada...   \n",
       "479  Ministro Armando Benedetti responde al llamado...   \n",
       "\n",
       "                                        article_header  \\\n",
       "475  El 97,7 % de los colombianos percibe que el fr...   \n",
       "476  El jefe de Estado también llamó así a exmandat...   \n",
       "477  El excongresista explicó que su decisión respo...   \n",
       "478  Manuela Bedoya y Luna Barreto hacían parte de ...   \n",
       "479  El ministro aseguró que el presidente Gustavo ...   \n",
       "\n",
       "                                               content  \n",
       "475  Con más de 54 millones de usuarios únicos, seg...  \n",
       "476  El  presidente Gustavo Petro  calificó en la m...  \n",
       "477  El exsenador  Jorge Enrique Robledo  confirmó ...  \n",
       "478  Las  activistas colombianas Manuela Bedoya y L...  \n",
       "479  El ministro del Interior,  Armando Benedetti, ...  "
      ],
      "text/html": [
       "<div>\n",
       "<style scoped>\n",
       "    .dataframe tbody tr th:only-of-type {\n",
       "        vertical-align: middle;\n",
       "    }\n",
       "\n",
       "    .dataframe tbody tr th {\n",
       "        vertical-align: top;\n",
       "    }\n",
       "\n",
       "    .dataframe thead th {\n",
       "        text-align: right;\n",
       "    }\n",
       "</style>\n",
       "<table border=\"1\" class=\"dataframe\">\n",
       "  <thead>\n",
       "    <tr style=\"text-align: right;\">\n",
       "      <th></th>\n",
       "      <th>category</th>\n",
       "      <th>sub_category</th>\n",
       "      <th>subcription</th>\n",
       "      <th>url</th>\n",
       "      <th>date_raw</th>\n",
       "      <th>date_parsed</th>\n",
       "      <th>author</th>\n",
       "      <th>title</th>\n",
       "      <th>article_header</th>\n",
       "      <th>content</th>\n",
       "    </tr>\n",
       "  </thead>\n",
       "  <tbody>\n",
       "    <tr>\n",
       "      <th>475</th>\n",
       "      <td>economia</td>\n",
       "      <td></td>\n",
       "      <td>None</td>\n",
       "      <td>https://www.eltiempo.com/economia/sector-finan...</td>\n",
       "      <td>06.10.2025 19:36</td>\n",
       "      <td>2025-10-06</td>\n",
       "      <td>Carlos Arturo García Mahecha</td>\n",
       "      <td>Billeteras digitales impulsan la inclusión fin...</td>\n",
       "      <td>El 97,7 % de los colombianos percibe que el fr...</td>\n",
       "      <td>Con más de 54 millones de usuarios únicos, seg...</td>\n",
       "    </tr>\n",
       "    <tr>\n",
       "      <th>476</th>\n",
       "      <td>politica</td>\n",
       "      <td></td>\n",
       "      <td>None</td>\n",
       "      <td>https://www.eltiempo.com/politica/gobierno/que...</td>\n",
       "      <td>06.10.2025 10:19</td>\n",
       "      <td>2025-10-06</td>\n",
       "      <td>Maria Paula Rodriguez Rozo</td>\n",
       "      <td>¿Qué es un ‘arconte’? Así le llamó Gustavo Pet...</td>\n",
       "      <td>El jefe de Estado también llamó así a exmandat...</td>\n",
       "      <td>El  presidente Gustavo Petro  calificó en la m...</td>\n",
       "    </tr>\n",
       "    <tr>\n",
       "      <th>477</th>\n",
       "      <td>politica</td>\n",
       "      <td></td>\n",
       "      <td>None</td>\n",
       "      <td>https://www.eltiempo.com/politica/partidos-pol...</td>\n",
       "      <td>06.10.2025 10:31</td>\n",
       "      <td>2025-10-06</td>\n",
       "      <td>Laura Daniela Alarcón Vargas</td>\n",
       "      <td>Jorge Enrique Robledo anuncia candidatura al S...</td>\n",
       "      <td>El excongresista explicó que su decisión respo...</td>\n",
       "      <td>El exsenador  Jorge Enrique Robledo  confirmó ...</td>\n",
       "    </tr>\n",
       "    <tr>\n",
       "      <th>478</th>\n",
       "      <td>politica</td>\n",
       "      <td></td>\n",
       "      <td>None</td>\n",
       "      <td>https://www.eltiempo.com/mundo/medio-oriente/c...</td>\n",
       "      <td>06.10.2025 12:21</td>\n",
       "      <td>2025-10-06</td>\n",
       "      <td>Angie Nataly Ruiz Hurtado</td>\n",
       "      <td>Colombianas detenidas en Israel serán liberada...</td>\n",
       "      <td>Manuela Bedoya y Luna Barreto hacían parte de ...</td>\n",
       "      <td>Las  activistas colombianas Manuela Bedoya y L...</td>\n",
       "    </tr>\n",
       "    <tr>\n",
       "      <th>479</th>\n",
       "      <td>politica</td>\n",
       "      <td></td>\n",
       "      <td>None</td>\n",
       "      <td>https://www.eltiempo.com/politica/gobierno/min...</td>\n",
       "      <td>06.10.2025 12:43</td>\n",
       "      <td>2025-10-06</td>\n",
       "      <td>María Alejandra González Duarte</td>\n",
       "      <td>Ministro Armando Benedetti responde al llamado...</td>\n",
       "      <td>El ministro aseguró que el presidente Gustavo ...</td>\n",
       "      <td>El ministro del Interior,  Armando Benedetti, ...</td>\n",
       "    </tr>\n",
       "  </tbody>\n",
       "</table>\n",
       "</div>"
      ]
     },
     "execution_count": 56,
     "metadata": {},
     "output_type": "execute_result"
    }
   ],
   "execution_count": 56
  },
  {
   "metadata": {
    "ExecuteTime": {
     "end_time": "2025-10-19T21:30:29.656836Z",
     "start_time": "2025-10-19T21:30:29.650484Z"
    }
   },
   "cell_type": "code",
   "source": "bronze_df_el_tiempo.dtypes",
   "id": "a9b06323f22379ed",
   "outputs": [
    {
     "data": {
      "text/plain": [
       "category          object\n",
       "sub_category      object\n",
       "subcription       object\n",
       "url               object\n",
       "date_raw          object\n",
       "date_parsed       object\n",
       "author            object\n",
       "title             object\n",
       "article_header    object\n",
       "content           object\n",
       "dtype: object"
      ]
     },
     "execution_count": 57,
     "metadata": {},
     "output_type": "execute_result"
    }
   ],
   "execution_count": 57
  },
  {
   "metadata": {
    "ExecuteTime": {
     "end_time": "2025-10-19T21:30:29.669480Z",
     "start_time": "2025-10-19T21:30:29.664353Z"
    }
   },
   "cell_type": "code",
   "source": "bronze_df_el_tiempo.shape",
   "id": "13fbe302a59cfb7f",
   "outputs": [
    {
     "data": {
      "text/plain": [
       "(480, 10)"
      ]
     },
     "execution_count": 58,
     "metadata": {},
     "output_type": "execute_result"
    }
   ],
   "execution_count": 58
  },
  {
   "metadata": {},
   "cell_type": "markdown",
   "source": "### 3.2.6 Inspeccionar semana",
   "id": "2922b72f7216f9e2"
  },
  {
   "metadata": {
    "ExecuteTime": {
     "end_time": "2025-10-19T21:30:29.686854Z",
     "start_time": "2025-10-19T21:30:29.676490Z"
    }
   },
   "cell_type": "code",
   "source": "bronze_df_semana.head()",
   "id": "f047944309e971dd",
   "outputs": [
    {
     "data": {
      "text/plain": [
       "   category  sub_category subcription  \\\n",
       "0  politica     Política                \n",
       "1  politica   Entrevista                \n",
       "2  politica    Denuncia                 \n",
       "3  politica  Elecciones                 \n",
       "4  politica     Política                \n",
       "\n",
       "                                                 url  \\\n",
       "0  https://www.semana.com/politica/articulo/una-c...   \n",
       "1  https://www.semana.com/politica/articulo/enriq...   \n",
       "2  https://www.semana.com/politica/articulo/denun...   \n",
       "3  https://www.semana.com/politica/articulo/coali...   \n",
       "4  https://www.semana.com/politica/articulo/danie...   \n",
       "\n",
       "                           date_raw date_parsed            author  \\\n",
       "0  6 de octubre de 2025, 5:30 p. m.  2025-10-06  Redacción Semana   \n",
       "1  4 de octubre de 2025, 2:22 a. m.  2025-10-06              None   \n",
       "2  4 de octubre de 2025, 2:24 a. m.  2025-10-06              None   \n",
       "3  4 de octubre de 2025, 2:26 a. m.  2025-10-06              None   \n",
       "4  4 de octubre de 2025, 2:57 a. m.  2025-10-06              None   \n",
       "\n",
       "                                               title  \\\n",
       "0  “Una compulsa miserable por una declaración fa...   \n",
       "1  Enrique Vargas Lleras quiere un candidato que ...   \n",
       "2  Denuncia: la Cancillería adquirió una sede par...   \n",
       "3  Coaliciones por supervivencia: el catálogo de ...   \n",
       "4  Daniel Quintero teje alianzas con políticos de...   \n",
       "\n",
       "                                      article_header  \\\n",
       "0  El expresidente rechazó la pesquisa que se abr...   \n",
       "1  El abogado califica al jefe de Estado como “ma...   \n",
       "2  Las instalaciones del consulado de Colombia en...   \n",
       "3  Con más de 30 partidos políticos en la contien...   \n",
       "4  Viene un fuerte pulso dentro del Pacto Históri...   \n",
       "\n",
       "                                             content  \n",
       "0  El expresidente Álvaro Uribe Vélez rechazó la ...  \n",
       "1  SEMANA: ¿Por qué el presidente Gustavo Petro l...  \n",
       "2  México es uno de los países que más requiere s...  \n",
       "3  Los partidos están trazando todo tipo de alian...  \n",
       "4  En la contienda del Pacto Histórico, el precan...  "
      ],
      "text/html": [
       "<div>\n",
       "<style scoped>\n",
       "    .dataframe tbody tr th:only-of-type {\n",
       "        vertical-align: middle;\n",
       "    }\n",
       "\n",
       "    .dataframe tbody tr th {\n",
       "        vertical-align: top;\n",
       "    }\n",
       "\n",
       "    .dataframe thead th {\n",
       "        text-align: right;\n",
       "    }\n",
       "</style>\n",
       "<table border=\"1\" class=\"dataframe\">\n",
       "  <thead>\n",
       "    <tr style=\"text-align: right;\">\n",
       "      <th></th>\n",
       "      <th>category</th>\n",
       "      <th>sub_category</th>\n",
       "      <th>subcription</th>\n",
       "      <th>url</th>\n",
       "      <th>date_raw</th>\n",
       "      <th>date_parsed</th>\n",
       "      <th>author</th>\n",
       "      <th>title</th>\n",
       "      <th>article_header</th>\n",
       "      <th>content</th>\n",
       "    </tr>\n",
       "  </thead>\n",
       "  <tbody>\n",
       "    <tr>\n",
       "      <th>0</th>\n",
       "      <td>politica</td>\n",
       "      <td>Política</td>\n",
       "      <td></td>\n",
       "      <td>https://www.semana.com/politica/articulo/una-c...</td>\n",
       "      <td>6 de octubre de 2025, 5:30 p. m.</td>\n",
       "      <td>2025-10-06</td>\n",
       "      <td>Redacción Semana</td>\n",
       "      <td>“Una compulsa miserable por una declaración fa...</td>\n",
       "      <td>El expresidente rechazó la pesquisa que se abr...</td>\n",
       "      <td>El expresidente Álvaro Uribe Vélez rechazó la ...</td>\n",
       "    </tr>\n",
       "    <tr>\n",
       "      <th>1</th>\n",
       "      <td>politica</td>\n",
       "      <td>Entrevista</td>\n",
       "      <td></td>\n",
       "      <td>https://www.semana.com/politica/articulo/enriq...</td>\n",
       "      <td>4 de octubre de 2025, 2:22 a. m.</td>\n",
       "      <td>2025-10-06</td>\n",
       "      <td>None</td>\n",
       "      <td>Enrique Vargas Lleras quiere un candidato que ...</td>\n",
       "      <td>El abogado califica al jefe de Estado como “ma...</td>\n",
       "      <td>SEMANA: ¿Por qué el presidente Gustavo Petro l...</td>\n",
       "    </tr>\n",
       "    <tr>\n",
       "      <th>2</th>\n",
       "      <td>politica</td>\n",
       "      <td>Denuncia</td>\n",
       "      <td></td>\n",
       "      <td>https://www.semana.com/politica/articulo/denun...</td>\n",
       "      <td>4 de octubre de 2025, 2:24 a. m.</td>\n",
       "      <td>2025-10-06</td>\n",
       "      <td>None</td>\n",
       "      <td>Denuncia: la Cancillería adquirió una sede par...</td>\n",
       "      <td>Las instalaciones del consulado de Colombia en...</td>\n",
       "      <td>México es uno de los países que más requiere s...</td>\n",
       "    </tr>\n",
       "    <tr>\n",
       "      <th>3</th>\n",
       "      <td>politica</td>\n",
       "      <td>Elecciones</td>\n",
       "      <td></td>\n",
       "      <td>https://www.semana.com/politica/articulo/coali...</td>\n",
       "      <td>4 de octubre de 2025, 2:26 a. m.</td>\n",
       "      <td>2025-10-06</td>\n",
       "      <td>None</td>\n",
       "      <td>Coaliciones por supervivencia: el catálogo de ...</td>\n",
       "      <td>Con más de 30 partidos políticos en la contien...</td>\n",
       "      <td>Los partidos están trazando todo tipo de alian...</td>\n",
       "    </tr>\n",
       "    <tr>\n",
       "      <th>4</th>\n",
       "      <td>politica</td>\n",
       "      <td>Política</td>\n",
       "      <td></td>\n",
       "      <td>https://www.semana.com/politica/articulo/danie...</td>\n",
       "      <td>4 de octubre de 2025, 2:57 a. m.</td>\n",
       "      <td>2025-10-06</td>\n",
       "      <td>None</td>\n",
       "      <td>Daniel Quintero teje alianzas con políticos de...</td>\n",
       "      <td>Viene un fuerte pulso dentro del Pacto Históri...</td>\n",
       "      <td>En la contienda del Pacto Histórico, el precan...</td>\n",
       "    </tr>\n",
       "  </tbody>\n",
       "</table>\n",
       "</div>"
      ]
     },
     "execution_count": 59,
     "metadata": {},
     "output_type": "execute_result"
    }
   ],
   "execution_count": 59
  },
  {
   "metadata": {
    "ExecuteTime": {
     "end_time": "2025-10-19T21:30:29.704916Z",
     "start_time": "2025-10-19T21:30:29.694893Z"
    }
   },
   "cell_type": "code",
   "source": "bronze_df_semana.tail()",
   "id": "f6226d0bf51dda94",
   "outputs": [
    {
     "data": {
      "text/plain": [
       "      category sub_category subcription  \\\n",
       "1605  politica    Política                \n",
       "1606  politica    Política                \n",
       "1607  politica    Política                \n",
       "1608  politica    Política                \n",
       "1609  politica   Política                 \n",
       "\n",
       "                                                    url  \\\n",
       "1605  https://www.semana.com/politica/articulo/la-de...   \n",
       "1606  https://www.semana.com/politica/articulo/expre...   \n",
       "1607  https://www.semana.com/politica/articulo/senor...   \n",
       "1608  https://www.semana.com/politica/articulo/gusta...   \n",
       "1609  https://www.semana.com/politica/articulo/el-me...   \n",
       "\n",
       "                              date_raw date_parsed            author  \\\n",
       "1605  6 de octubre de 2025, 3:07 p. m.  2025-10-07  Redacción Semana   \n",
       "1606  6 de octubre de 2025, 3:14 p. m.  2025-10-07  Redacción Semana   \n",
       "1607  6 de octubre de 2025, 3:56 p. m.  2025-10-07  Redacción Semana   \n",
       "1608  6 de octubre de 2025, 4:17 p. m.  2025-10-07  Redacción Semana   \n",
       "1609  6 de octubre de 2025, 5:29 p. m.  2025-10-07              None   \n",
       "\n",
       "                                                  title  \\\n",
       "1605  “La defensora se equivoca mucho, no conoce el ...   \n",
       "1606  Expresidente del Partido Conservador reconoció...   \n",
       "1607  “Señor Santos, usted no puede venir a hablarno...   \n",
       "1608  Gustavo Petro no asistió a importante pacto te...   \n",
       "1609  El mensaje que dio Efraín Cepeda un mes despué...   \n",
       "\n",
       "                                         article_header  \\\n",
       "1605  El ministro del Interior cuestionó el informe ...   \n",
       "1606  Omar Yepes habló con preocupación de 2026 y re...   \n",
       "1607  El líder del Centro Democrático le reclamó al ...   \n",
       "1608  La Casa de Nariño reveló por qué el presidente...   \n",
       "1609  Cepeda dejó ver con claridad los tres pilares ...   \n",
       "\n",
       "                                                content  \n",
       "1605  El ministro del Interior, Armando Benedetti, r...  \n",
       "1606  El expresidente del Partido Conservador, Omar ...  \n",
       "1607  El precandidato presidencial Miguel Uribe Lond...  \n",
       "1608  Pese a que estaba en la agenda oficial que env...  \n",
       "1609  Un mes después de confirmar el interés por la ...  "
      ],
      "text/html": [
       "<div>\n",
       "<style scoped>\n",
       "    .dataframe tbody tr th:only-of-type {\n",
       "        vertical-align: middle;\n",
       "    }\n",
       "\n",
       "    .dataframe tbody tr th {\n",
       "        vertical-align: top;\n",
       "    }\n",
       "\n",
       "    .dataframe thead th {\n",
       "        text-align: right;\n",
       "    }\n",
       "</style>\n",
       "<table border=\"1\" class=\"dataframe\">\n",
       "  <thead>\n",
       "    <tr style=\"text-align: right;\">\n",
       "      <th></th>\n",
       "      <th>category</th>\n",
       "      <th>sub_category</th>\n",
       "      <th>subcription</th>\n",
       "      <th>url</th>\n",
       "      <th>date_raw</th>\n",
       "      <th>date_parsed</th>\n",
       "      <th>author</th>\n",
       "      <th>title</th>\n",
       "      <th>article_header</th>\n",
       "      <th>content</th>\n",
       "    </tr>\n",
       "  </thead>\n",
       "  <tbody>\n",
       "    <tr>\n",
       "      <th>1605</th>\n",
       "      <td>politica</td>\n",
       "      <td>Política</td>\n",
       "      <td></td>\n",
       "      <td>https://www.semana.com/politica/articulo/la-de...</td>\n",
       "      <td>6 de octubre de 2025, 3:07 p. m.</td>\n",
       "      <td>2025-10-07</td>\n",
       "      <td>Redacción Semana</td>\n",
       "      <td>“La defensora se equivoca mucho, no conoce el ...</td>\n",
       "      <td>El ministro del Interior cuestionó el informe ...</td>\n",
       "      <td>El ministro del Interior, Armando Benedetti, r...</td>\n",
       "    </tr>\n",
       "    <tr>\n",
       "      <th>1606</th>\n",
       "      <td>politica</td>\n",
       "      <td>Política</td>\n",
       "      <td></td>\n",
       "      <td>https://www.semana.com/politica/articulo/expre...</td>\n",
       "      <td>6 de octubre de 2025, 3:14 p. m.</td>\n",
       "      <td>2025-10-07</td>\n",
       "      <td>Redacción Semana</td>\n",
       "      <td>Expresidente del Partido Conservador reconoció...</td>\n",
       "      <td>Omar Yepes habló con preocupación de 2026 y re...</td>\n",
       "      <td>El expresidente del Partido Conservador, Omar ...</td>\n",
       "    </tr>\n",
       "    <tr>\n",
       "      <th>1607</th>\n",
       "      <td>politica</td>\n",
       "      <td>Política</td>\n",
       "      <td></td>\n",
       "      <td>https://www.semana.com/politica/articulo/senor...</td>\n",
       "      <td>6 de octubre de 2025, 3:56 p. m.</td>\n",
       "      <td>2025-10-07</td>\n",
       "      <td>Redacción Semana</td>\n",
       "      <td>“Señor Santos, usted no puede venir a hablarno...</td>\n",
       "      <td>El líder del Centro Democrático le reclamó al ...</td>\n",
       "      <td>El precandidato presidencial Miguel Uribe Lond...</td>\n",
       "    </tr>\n",
       "    <tr>\n",
       "      <th>1608</th>\n",
       "      <td>politica</td>\n",
       "      <td>Política</td>\n",
       "      <td></td>\n",
       "      <td>https://www.semana.com/politica/articulo/gusta...</td>\n",
       "      <td>6 de octubre de 2025, 4:17 p. m.</td>\n",
       "      <td>2025-10-07</td>\n",
       "      <td>Redacción Semana</td>\n",
       "      <td>Gustavo Petro no asistió a importante pacto te...</td>\n",
       "      <td>La Casa de Nariño reveló por qué el presidente...</td>\n",
       "      <td>Pese a que estaba en la agenda oficial que env...</td>\n",
       "    </tr>\n",
       "    <tr>\n",
       "      <th>1609</th>\n",
       "      <td>politica</td>\n",
       "      <td>Política</td>\n",
       "      <td></td>\n",
       "      <td>https://www.semana.com/politica/articulo/el-me...</td>\n",
       "      <td>6 de octubre de 2025, 5:29 p. m.</td>\n",
       "      <td>2025-10-07</td>\n",
       "      <td>None</td>\n",
       "      <td>El mensaje que dio Efraín Cepeda un mes despué...</td>\n",
       "      <td>Cepeda dejó ver con claridad los tres pilares ...</td>\n",
       "      <td>Un mes después de confirmar el interés por la ...</td>\n",
       "    </tr>\n",
       "  </tbody>\n",
       "</table>\n",
       "</div>"
      ]
     },
     "execution_count": 60,
     "metadata": {},
     "output_type": "execute_result"
    }
   ],
   "execution_count": 60
  },
  {
   "metadata": {
    "ExecuteTime": {
     "end_time": "2025-10-19T21:30:29.715853Z",
     "start_time": "2025-10-19T21:30:29.711440Z"
    }
   },
   "cell_type": "code",
   "source": "bronze_df_semana.dtypes",
   "id": "6569479708f73d19",
   "outputs": [
    {
     "data": {
      "text/plain": [
       "category          object\n",
       "sub_category      object\n",
       "subcription       object\n",
       "url               object\n",
       "date_raw          object\n",
       "date_parsed       object\n",
       "author            object\n",
       "title             object\n",
       "article_header    object\n",
       "content           object\n",
       "dtype: object"
      ]
     },
     "execution_count": 61,
     "metadata": {},
     "output_type": "execute_result"
    }
   ],
   "execution_count": 61
  },
  {
   "metadata": {
    "ExecuteTime": {
     "end_time": "2025-10-19T21:30:29.740419Z",
     "start_time": "2025-10-19T21:30:29.733905Z"
    }
   },
   "cell_type": "code",
   "source": "bronze_df_semana.shape",
   "id": "3f2f3ad77bf7d62",
   "outputs": [
    {
     "data": {
      "text/plain": [
       "(1610, 10)"
      ]
     },
     "execution_count": 62,
     "metadata": {},
     "output_type": "execute_result"
    }
   ],
   "execution_count": 62
  },
  {
   "metadata": {},
   "cell_type": "markdown",
   "source": "### 3.2.7 Inspeccionar the media framing dataset",
   "id": "d3d3bb5ef4c645d"
  },
  {
   "metadata": {
    "ExecuteTime": {
     "end_time": "2025-10-19T21:30:29.763044Z",
     "start_time": "2025-10-19T21:30:29.750948Z"
    }
   },
   "cell_type": "code",
   "source": "bronze_df_media_framing.head()",
   "id": "e39109a394fd77b3",
   "outputs": [
    {
     "data": {
      "text/plain": [
       "              id                                               news  \\\n",
       "0  Noticia_1.txt  ¿Cuánto tiempo estoy autorizado a permanecer e...   \n",
       "1  Noticia_2.txt  Presidente Petro catalogó de 'invasión imperia...   \n",
       "2  Noticia_3.txt  La dura ley antiinmigración que adoptó Reino U...   \n",
       "3  Noticia_4.txt  ¿Qué le falta a Ron DeSantis para cumplir las ...   \n",
       "4  Noticia_5.txt  México: así ataja el flujo de migrantes en la ...   \n",
       "\n",
       "                                              frames      tone  \\\n",
       "0  ['external_regulation_and_reputation', 'legali...   neutral   \n",
       "1  ['policy_prescription_and_evaluation', 'politi...   neutral   \n",
       "2  ['crime_and_punishment', 'legality_constitutio...  negative   \n",
       "3  ['political', 'legality_constitutionality_and_...   neutral   \n",
       "4  ['crime_and_punishment', 'security_and_defense...  positive   \n",
       "\n",
       "                               principal_frames  economic  \\\n",
       "0  legality_constitutionality_and_jurisprudence         0   \n",
       "1                                     political         1   \n",
       "2            external_regulation_and_reputation         1   \n",
       "3                                     political         0   \n",
       "4            external_regulation_and_reputation         0   \n",
       "\n",
       "   capacity_and_resources  morality  fairness_and_equality  \\\n",
       "0                       0         0                      0   \n",
       "1                       0         1                      0   \n",
       "2                       0         0                      1   \n",
       "3                       0         0                      0   \n",
       "4                       0         0                      0   \n",
       "\n",
       "   legality_constitutionality_and_jurisprudence  ...  crime_and_punishment  \\\n",
       "0                                             1  ...                     1   \n",
       "1                                             0  ...                     0   \n",
       "2                                             1  ...                     1   \n",
       "3                                             1  ...                     0   \n",
       "4                                             0  ...                     1   \n",
       "\n",
       "   security_and_defense  health_and_safety  quality_of_life  \\\n",
       "0                     0                  0                0   \n",
       "1                     0                  0                0   \n",
       "2                     0                  0                0   \n",
       "3                     0                  0                0   \n",
       "4                     1                  0                1   \n",
       "\n",
       "   cultural_identity  public_opinion  political  \\\n",
       "0                  0               0          0   \n",
       "1                  0               1          1   \n",
       "2                  0               1          0   \n",
       "3                  0               0          1   \n",
       "4                  0               1          0   \n",
       "\n",
       "   external_regulation_and_reputation   country  newspaper  \n",
       "0                                   1  Colombia  El Tiempo  \n",
       "1                                   1  Colombia  El Tiempo  \n",
       "2                                   1  Colombia  El Tiempo  \n",
       "3                                   0  Colombia  El Tiempo  \n",
       "4                                   1  Colombia  El Tiempo  \n",
       "\n",
       "[5 rows x 21 columns]"
      ],
      "text/html": [
       "<div>\n",
       "<style scoped>\n",
       "    .dataframe tbody tr th:only-of-type {\n",
       "        vertical-align: middle;\n",
       "    }\n",
       "\n",
       "    .dataframe tbody tr th {\n",
       "        vertical-align: top;\n",
       "    }\n",
       "\n",
       "    .dataframe thead th {\n",
       "        text-align: right;\n",
       "    }\n",
       "</style>\n",
       "<table border=\"1\" class=\"dataframe\">\n",
       "  <thead>\n",
       "    <tr style=\"text-align: right;\">\n",
       "      <th></th>\n",
       "      <th>id</th>\n",
       "      <th>news</th>\n",
       "      <th>frames</th>\n",
       "      <th>tone</th>\n",
       "      <th>principal_frames</th>\n",
       "      <th>economic</th>\n",
       "      <th>capacity_and_resources</th>\n",
       "      <th>morality</th>\n",
       "      <th>fairness_and_equality</th>\n",
       "      <th>legality_constitutionality_and_jurisprudence</th>\n",
       "      <th>...</th>\n",
       "      <th>crime_and_punishment</th>\n",
       "      <th>security_and_defense</th>\n",
       "      <th>health_and_safety</th>\n",
       "      <th>quality_of_life</th>\n",
       "      <th>cultural_identity</th>\n",
       "      <th>public_opinion</th>\n",
       "      <th>political</th>\n",
       "      <th>external_regulation_and_reputation</th>\n",
       "      <th>country</th>\n",
       "      <th>newspaper</th>\n",
       "    </tr>\n",
       "  </thead>\n",
       "  <tbody>\n",
       "    <tr>\n",
       "      <th>0</th>\n",
       "      <td>Noticia_1.txt</td>\n",
       "      <td>¿Cuánto tiempo estoy autorizado a permanecer e...</td>\n",
       "      <td>['external_regulation_and_reputation', 'legali...</td>\n",
       "      <td>neutral</td>\n",
       "      <td>legality_constitutionality_and_jurisprudence</td>\n",
       "      <td>0</td>\n",
       "      <td>0</td>\n",
       "      <td>0</td>\n",
       "      <td>0</td>\n",
       "      <td>1</td>\n",
       "      <td>...</td>\n",
       "      <td>1</td>\n",
       "      <td>0</td>\n",
       "      <td>0</td>\n",
       "      <td>0</td>\n",
       "      <td>0</td>\n",
       "      <td>0</td>\n",
       "      <td>0</td>\n",
       "      <td>1</td>\n",
       "      <td>Colombia</td>\n",
       "      <td>El Tiempo</td>\n",
       "    </tr>\n",
       "    <tr>\n",
       "      <th>1</th>\n",
       "      <td>Noticia_2.txt</td>\n",
       "      <td>Presidente Petro catalogó de 'invasión imperia...</td>\n",
       "      <td>['policy_prescription_and_evaluation', 'politi...</td>\n",
       "      <td>neutral</td>\n",
       "      <td>political</td>\n",
       "      <td>1</td>\n",
       "      <td>0</td>\n",
       "      <td>1</td>\n",
       "      <td>0</td>\n",
       "      <td>0</td>\n",
       "      <td>...</td>\n",
       "      <td>0</td>\n",
       "      <td>0</td>\n",
       "      <td>0</td>\n",
       "      <td>0</td>\n",
       "      <td>0</td>\n",
       "      <td>1</td>\n",
       "      <td>1</td>\n",
       "      <td>1</td>\n",
       "      <td>Colombia</td>\n",
       "      <td>El Tiempo</td>\n",
       "    </tr>\n",
       "    <tr>\n",
       "      <th>2</th>\n",
       "      <td>Noticia_3.txt</td>\n",
       "      <td>La dura ley antiinmigración que adoptó Reino U...</td>\n",
       "      <td>['crime_and_punishment', 'legality_constitutio...</td>\n",
       "      <td>negative</td>\n",
       "      <td>external_regulation_and_reputation</td>\n",
       "      <td>1</td>\n",
       "      <td>0</td>\n",
       "      <td>0</td>\n",
       "      <td>1</td>\n",
       "      <td>1</td>\n",
       "      <td>...</td>\n",
       "      <td>1</td>\n",
       "      <td>0</td>\n",
       "      <td>0</td>\n",
       "      <td>0</td>\n",
       "      <td>0</td>\n",
       "      <td>1</td>\n",
       "      <td>0</td>\n",
       "      <td>1</td>\n",
       "      <td>Colombia</td>\n",
       "      <td>El Tiempo</td>\n",
       "    </tr>\n",
       "    <tr>\n",
       "      <th>3</th>\n",
       "      <td>Noticia_4.txt</td>\n",
       "      <td>¿Qué le falta a Ron DeSantis para cumplir las ...</td>\n",
       "      <td>['political', 'legality_constitutionality_and_...</td>\n",
       "      <td>neutral</td>\n",
       "      <td>political</td>\n",
       "      <td>0</td>\n",
       "      <td>0</td>\n",
       "      <td>0</td>\n",
       "      <td>0</td>\n",
       "      <td>1</td>\n",
       "      <td>...</td>\n",
       "      <td>0</td>\n",
       "      <td>0</td>\n",
       "      <td>0</td>\n",
       "      <td>0</td>\n",
       "      <td>0</td>\n",
       "      <td>0</td>\n",
       "      <td>1</td>\n",
       "      <td>0</td>\n",
       "      <td>Colombia</td>\n",
       "      <td>El Tiempo</td>\n",
       "    </tr>\n",
       "    <tr>\n",
       "      <th>4</th>\n",
       "      <td>Noticia_5.txt</td>\n",
       "      <td>México: así ataja el flujo de migrantes en la ...</td>\n",
       "      <td>['crime_and_punishment', 'security_and_defense...</td>\n",
       "      <td>positive</td>\n",
       "      <td>external_regulation_and_reputation</td>\n",
       "      <td>0</td>\n",
       "      <td>0</td>\n",
       "      <td>0</td>\n",
       "      <td>0</td>\n",
       "      <td>0</td>\n",
       "      <td>...</td>\n",
       "      <td>1</td>\n",
       "      <td>1</td>\n",
       "      <td>0</td>\n",
       "      <td>1</td>\n",
       "      <td>0</td>\n",
       "      <td>1</td>\n",
       "      <td>0</td>\n",
       "      <td>1</td>\n",
       "      <td>Colombia</td>\n",
       "      <td>El Tiempo</td>\n",
       "    </tr>\n",
       "  </tbody>\n",
       "</table>\n",
       "<p>5 rows × 21 columns</p>\n",
       "</div>"
      ]
     },
     "execution_count": 63,
     "metadata": {},
     "output_type": "execute_result"
    }
   ],
   "execution_count": 63
  },
  {
   "metadata": {
    "ExecuteTime": {
     "end_time": "2025-10-19T21:30:29.782110Z",
     "start_time": "2025-10-19T21:30:29.770569Z"
    }
   },
   "cell_type": "code",
   "source": "bronze_df_media_framing.tail()",
   "id": "293a3903ec8b1e17",
   "outputs": [
    {
     "data": {
      "text/plain": [
       "                  id                                               news  \\\n",
       "135  Noticia_150.txt  En debate en el Congreso, reparten culpas por ...   \n",
       "136  Noticia_151.txt  Gobernador de Oaxaca censura a la prensa; fue ...   \n",
       "137  Noticia_152.txt  López-Gatell justifica desaparición de 35 Norm...   \n",
       "138  Noticia_153.txt  Por eliminación de NOM, ministro en retiro Cos...   \n",
       "139  Noticia_154.txt  Desabasto y desaparición de las NOMs\\n\\nIrene ...   \n",
       "\n",
       "                                                frames      tone  \\\n",
       "135  ['public_opinion', 'morality', 'legality_const...  negative   \n",
       "136                    ['political', 'public_opinion']   neutral   \n",
       "137  ['health_and_safety', 'legality_constitutional...  negative   \n",
       "138  ['legality_constitutionality_and_jurisprudence...   neutral   \n",
       "139  ['policy_prescription_and_evaluation', 'health...  negative   \n",
       "\n",
       "                                 principal_frames  economic  \\\n",
       "135  legality_constitutionality_and_jurisprudence         0   \n",
       "136                                     political         0   \n",
       "137                                public_opinion         0   \n",
       "138  legality_constitutionality_and_jurisprudence         0   \n",
       "139                             health_and_safety         0   \n",
       "\n",
       "     capacity_and_resources  morality  fairness_and_equality  \\\n",
       "135                       0         1                      0   \n",
       "136                       0         0                      0   \n",
       "137                       0         0                      0   \n",
       "138                       0         0                      0   \n",
       "139                       0         0                      0   \n",
       "\n",
       "     legality_constitutionality_and_jurisprudence  ...  crime_and_punishment  \\\n",
       "135                                             1  ...                     0   \n",
       "136                                             0  ...                     0   \n",
       "137                                             1  ...                     0   \n",
       "138                                             1  ...                     0   \n",
       "139                                             0  ...                     0   \n",
       "\n",
       "     security_and_defense  health_and_safety  quality_of_life  \\\n",
       "135                     0                  1                0   \n",
       "136                     0                  0                0   \n",
       "137                     0                  1                0   \n",
       "138                     0                  1                0   \n",
       "139                     0                  1                0   \n",
       "\n",
       "     cultural_identity  public_opinion  political  \\\n",
       "135                  0               1          0   \n",
       "136                  0               1          1   \n",
       "137                  0               1          0   \n",
       "138                  0               1          1   \n",
       "139                  0               0          1   \n",
       "\n",
       "     external_regulation_and_reputation  country     newspaper  \n",
       "135                                   0   Mexico  El Universal  \n",
       "136                                   0   Mexico  El Universal  \n",
       "137                                   0   Mexico  El Universal  \n",
       "138                                   0   Mexico  El Universal  \n",
       "139                                   0   Mexico  El Universal  \n",
       "\n",
       "[5 rows x 21 columns]"
      ],
      "text/html": [
       "<div>\n",
       "<style scoped>\n",
       "    .dataframe tbody tr th:only-of-type {\n",
       "        vertical-align: middle;\n",
       "    }\n",
       "\n",
       "    .dataframe tbody tr th {\n",
       "        vertical-align: top;\n",
       "    }\n",
       "\n",
       "    .dataframe thead th {\n",
       "        text-align: right;\n",
       "    }\n",
       "</style>\n",
       "<table border=\"1\" class=\"dataframe\">\n",
       "  <thead>\n",
       "    <tr style=\"text-align: right;\">\n",
       "      <th></th>\n",
       "      <th>id</th>\n",
       "      <th>news</th>\n",
       "      <th>frames</th>\n",
       "      <th>tone</th>\n",
       "      <th>principal_frames</th>\n",
       "      <th>economic</th>\n",
       "      <th>capacity_and_resources</th>\n",
       "      <th>morality</th>\n",
       "      <th>fairness_and_equality</th>\n",
       "      <th>legality_constitutionality_and_jurisprudence</th>\n",
       "      <th>...</th>\n",
       "      <th>crime_and_punishment</th>\n",
       "      <th>security_and_defense</th>\n",
       "      <th>health_and_safety</th>\n",
       "      <th>quality_of_life</th>\n",
       "      <th>cultural_identity</th>\n",
       "      <th>public_opinion</th>\n",
       "      <th>political</th>\n",
       "      <th>external_regulation_and_reputation</th>\n",
       "      <th>country</th>\n",
       "      <th>newspaper</th>\n",
       "    </tr>\n",
       "  </thead>\n",
       "  <tbody>\n",
       "    <tr>\n",
       "      <th>135</th>\n",
       "      <td>Noticia_150.txt</td>\n",
       "      <td>En debate en el Congreso, reparten culpas por ...</td>\n",
       "      <td>['public_opinion', 'morality', 'legality_const...</td>\n",
       "      <td>negative</td>\n",
       "      <td>legality_constitutionality_and_jurisprudence</td>\n",
       "      <td>0</td>\n",
       "      <td>0</td>\n",
       "      <td>1</td>\n",
       "      <td>0</td>\n",
       "      <td>1</td>\n",
       "      <td>...</td>\n",
       "      <td>0</td>\n",
       "      <td>0</td>\n",
       "      <td>1</td>\n",
       "      <td>0</td>\n",
       "      <td>0</td>\n",
       "      <td>1</td>\n",
       "      <td>0</td>\n",
       "      <td>0</td>\n",
       "      <td>Mexico</td>\n",
       "      <td>El Universal</td>\n",
       "    </tr>\n",
       "    <tr>\n",
       "      <th>136</th>\n",
       "      <td>Noticia_151.txt</td>\n",
       "      <td>Gobernador de Oaxaca censura a la prensa; fue ...</td>\n",
       "      <td>['political', 'public_opinion']</td>\n",
       "      <td>neutral</td>\n",
       "      <td>political</td>\n",
       "      <td>0</td>\n",
       "      <td>0</td>\n",
       "      <td>0</td>\n",
       "      <td>0</td>\n",
       "      <td>0</td>\n",
       "      <td>...</td>\n",
       "      <td>0</td>\n",
       "      <td>0</td>\n",
       "      <td>0</td>\n",
       "      <td>0</td>\n",
       "      <td>0</td>\n",
       "      <td>1</td>\n",
       "      <td>1</td>\n",
       "      <td>0</td>\n",
       "      <td>Mexico</td>\n",
       "      <td>El Universal</td>\n",
       "    </tr>\n",
       "    <tr>\n",
       "      <th>137</th>\n",
       "      <td>Noticia_152.txt</td>\n",
       "      <td>López-Gatell justifica desaparición de 35 Norm...</td>\n",
       "      <td>['health_and_safety', 'legality_constitutional...</td>\n",
       "      <td>negative</td>\n",
       "      <td>public_opinion</td>\n",
       "      <td>0</td>\n",
       "      <td>0</td>\n",
       "      <td>0</td>\n",
       "      <td>0</td>\n",
       "      <td>1</td>\n",
       "      <td>...</td>\n",
       "      <td>0</td>\n",
       "      <td>0</td>\n",
       "      <td>1</td>\n",
       "      <td>0</td>\n",
       "      <td>0</td>\n",
       "      <td>1</td>\n",
       "      <td>0</td>\n",
       "      <td>0</td>\n",
       "      <td>Mexico</td>\n",
       "      <td>El Universal</td>\n",
       "    </tr>\n",
       "    <tr>\n",
       "      <th>138</th>\n",
       "      <td>Noticia_153.txt</td>\n",
       "      <td>Por eliminación de NOM, ministro en retiro Cos...</td>\n",
       "      <td>['legality_constitutionality_and_jurisprudence...</td>\n",
       "      <td>neutral</td>\n",
       "      <td>legality_constitutionality_and_jurisprudence</td>\n",
       "      <td>0</td>\n",
       "      <td>0</td>\n",
       "      <td>0</td>\n",
       "      <td>0</td>\n",
       "      <td>1</td>\n",
       "      <td>...</td>\n",
       "      <td>0</td>\n",
       "      <td>0</td>\n",
       "      <td>1</td>\n",
       "      <td>0</td>\n",
       "      <td>0</td>\n",
       "      <td>1</td>\n",
       "      <td>1</td>\n",
       "      <td>0</td>\n",
       "      <td>Mexico</td>\n",
       "      <td>El Universal</td>\n",
       "    </tr>\n",
       "    <tr>\n",
       "      <th>139</th>\n",
       "      <td>Noticia_154.txt</td>\n",
       "      <td>Desabasto y desaparición de las NOMs\\n\\nIrene ...</td>\n",
       "      <td>['policy_prescription_and_evaluation', 'health...</td>\n",
       "      <td>negative</td>\n",
       "      <td>health_and_safety</td>\n",
       "      <td>0</td>\n",
       "      <td>0</td>\n",
       "      <td>0</td>\n",
       "      <td>0</td>\n",
       "      <td>0</td>\n",
       "      <td>...</td>\n",
       "      <td>0</td>\n",
       "      <td>0</td>\n",
       "      <td>1</td>\n",
       "      <td>0</td>\n",
       "      <td>0</td>\n",
       "      <td>0</td>\n",
       "      <td>1</td>\n",
       "      <td>0</td>\n",
       "      <td>Mexico</td>\n",
       "      <td>El Universal</td>\n",
       "    </tr>\n",
       "  </tbody>\n",
       "</table>\n",
       "<p>5 rows × 21 columns</p>\n",
       "</div>"
      ]
     },
     "execution_count": 64,
     "metadata": {},
     "output_type": "execute_result"
    }
   ],
   "execution_count": 64
  },
  {
   "metadata": {
    "ExecuteTime": {
     "end_time": "2025-10-19T21:30:29.799146Z",
     "start_time": "2025-10-19T21:30:29.792644Z"
    }
   },
   "cell_type": "code",
   "source": "bronze_df_media_framing.dtypes",
   "id": "17e7d8bed19a4962",
   "outputs": [
    {
     "data": {
      "text/plain": [
       "id                                              object\n",
       "news                                            object\n",
       "frames                                          object\n",
       "tone                                            object\n",
       "principal_frames                                object\n",
       "economic                                         int64\n",
       "capacity_and_resources                           int64\n",
       "morality                                         int64\n",
       "fairness_and_equality                            int64\n",
       "legality_constitutionality_and_jurisprudence     int64\n",
       "policy_prescription_and_evaluation               int64\n",
       "crime_and_punishment                             int64\n",
       "security_and_defense                             int64\n",
       "health_and_safety                                int64\n",
       "quality_of_life                                  int64\n",
       "cultural_identity                                int64\n",
       "public_opinion                                   int64\n",
       "political                                        int64\n",
       "external_regulation_and_reputation               int64\n",
       "country                                         object\n",
       "newspaper                                       object\n",
       "dtype: object"
      ]
     },
     "execution_count": 65,
     "metadata": {},
     "output_type": "execute_result"
    }
   ],
   "execution_count": 65
  },
  {
   "metadata": {
    "ExecuteTime": {
     "end_time": "2025-10-19T21:30:29.814012Z",
     "start_time": "2025-10-19T21:30:29.808665Z"
    }
   },
   "cell_type": "code",
   "source": "bronze_df_media_framing.shape",
   "id": "97d4cfec74a1027c",
   "outputs": [
    {
     "data": {
      "text/plain": [
       "(140, 21)"
      ]
     },
     "execution_count": 66,
     "metadata": {},
     "output_type": "execute_result"
    }
   ],
   "execution_count": 66
  },
  {
   "metadata": {},
   "cell_type": "markdown",
   "source": "# 4. Silver",
   "id": "c38d81710a82e13f"
  },
  {
   "metadata": {},
   "cell_type": "markdown",
   "source": "## 4.1 Animal Político",
   "id": "b9af517e501d0dcb"
  },
  {
   "metadata": {},
   "cell_type": "markdown",
   "source": "### 4.1.1 Animal Político Unificar Datos",
   "id": "1dc2017b87737bd"
  },
  {
   "metadata": {
    "ExecuteTime": {
     "end_time": "2025-10-19T21:30:29.828563Z",
     "start_time": "2025-10-19T21:30:29.823047Z"
    }
   },
   "cell_type": "code",
   "source": [
    "bronze_df_animal_politico_all = pd.concat([\n",
    "    bronze_df_animal_politico_internacional,\n",
    "    bronze_df_animal_politico_politica,\n",
    "    bronze_df_animal_politico_salud,\n",
    "    bronze_df_animal_politico_seguridad\n",
    "], ignore_index=True)"
   ],
   "id": "c46685bad1dedff9",
   "outputs": [],
   "execution_count": 67
  },
  {
   "metadata": {
    "ExecuteTime": {
     "end_time": "2025-10-19T21:30:29.861044Z",
     "start_time": "2025-10-19T21:30:29.855171Z"
    }
   },
   "cell_type": "code",
   "source": "bronze_df_animal_politico_all.shape",
   "id": "9dc577ab39896ff8",
   "outputs": [
    {
     "data": {
      "text/plain": [
       "(1035, 10)"
      ]
     },
     "execution_count": 68,
     "metadata": {},
     "output_type": "execute_result"
    }
   ],
   "execution_count": 68
  },
  {
   "metadata": {},
   "cell_type": "markdown",
   "source": "### 4.1.2 Animal Político Identificar y Eliminar duplicados",
   "id": "29d065fb835bef57"
  },
  {
   "metadata": {
    "ExecuteTime": {
     "end_time": "2025-10-19T21:30:29.892475Z",
     "start_time": "2025-10-19T21:30:29.887576Z"
    }
   },
   "cell_type": "code",
   "source": [
    "column_name = \"url\"  # 👈 replace with your column name\n",
    "\n",
    "# Count how many rows are duplicated based on that column\n",
    "num_duplicates = bronze_df_animal_politico_all.duplicated(subset=[column_name]).sum()\n",
    "print(f\"Number of duplicate {column_name}: {num_duplicates}\")\n"
   ],
   "id": "54459bc3c0dc3bd8",
   "outputs": [
    {
     "name": "stdout",
     "output_type": "stream",
     "text": [
      "Number of duplicate url: 247\n"
     ]
    }
   ],
   "execution_count": 69
  },
  {
   "metadata": {
    "ExecuteTime": {
     "end_time": "2025-10-19T21:30:29.923093Z",
     "start_time": "2025-10-19T21:30:29.918642Z"
    }
   },
   "cell_type": "code",
   "source": [
    "bronze_df_animal_politico_all = bronze_df_animal_politico_all.drop_duplicates(\n",
    "    subset=[column_name],\n",
    "    keep=\"first\"\n",
    ").reset_index(drop=True)"
   ],
   "id": "fa28db2f8bb62c0f",
   "outputs": [],
   "execution_count": 70
  },
  {
   "metadata": {
    "ExecuteTime": {
     "end_time": "2025-10-19T21:30:29.951023Z",
     "start_time": "2025-10-19T21:30:29.945628Z"
    }
   },
   "cell_type": "code",
   "source": "bronze_df_animal_politico_all.shape",
   "id": "2306bde175d95b5f",
   "outputs": [
    {
     "data": {
      "text/plain": [
       "(788, 10)"
      ]
     },
     "execution_count": 71,
     "metadata": {},
     "output_type": "execute_result"
    }
   ],
   "execution_count": 71
  },
  {
   "metadata": {},
   "cell_type": "markdown",
   "source": "### 4.1.3 Animal Político Identificar valores faltantes",
   "id": "32899dbbf7c00e2b"
  },
  {
   "metadata": {
    "ExecuteTime": {
     "end_time": "2025-10-19T21:30:29.985825Z",
     "start_time": "2025-10-19T21:30:29.975056Z"
    }
   },
   "cell_type": "code",
   "source": "bronze_df_animal_politico_all.head()",
   "id": "eb899e1254b9e770",
   "outputs": [
    {
     "data": {
      "text/plain": [
       "        category sub_category subcription  \\\n",
       "0  internacional                            \n",
       "1  internacional                            \n",
       "2  internacional                            \n",
       "3  internacional                            \n",
       "4  internacional                            \n",
       "\n",
       "                                                 url             date_raw  \\\n",
       "0  https://www.animalpolitico.com/internacional/h...  05 de octubre, 2025   \n",
       "1  https://www.animalpolitico.com/internacional/u...  05 de octubre, 2025   \n",
       "2  https://www.animalpolitico.com/internacional/c...  04 de octubre, 2025   \n",
       "3  https://www.animalpolitico.com/internacional/a...  04 de octubre, 2025   \n",
       "4  https://www.animalpolitico.com/internacional/t...  03 de octubre, 2025   \n",
       "\n",
       "  date_parsed                     author  \\\n",
       "0  2025-10-06                        AFP   \n",
       "1  2025-10-06                        AFP   \n",
       "2  2025-10-06  Redacción Animal Político   \n",
       "3  2025-10-06                        AFP   \n",
       "4  2025-10-06  Redacción Animal Político   \n",
       "\n",
       "                                               title  \\\n",
       "0  Hamás pide un intercambio “inmediato” de rehen...   \n",
       "1  Ali Akbar, el último vendedor de periódicos am...   \n",
       "2  Cancillería revisa rutas para el “retorno segu...   \n",
       "3  “Nos trataron como animales”, activistas depor...   \n",
       "4  “Estamos más cerca que nunca de una paz durade...   \n",
       "\n",
       "                                      article_header  \\\n",
       "0  Israel continúa con intensos bombardeos en con...   \n",
       "1  \"¡Mientras tenga energía, seguiré, trabajaré h...   \n",
       "2  La Embajada de México en Israel se mantiene en...   \n",
       "3  Israel detuvo a más de 400 personas y deportó ...   \n",
       "4  La propuesta de paz de Trump contempla, entre ...   \n",
       "\n",
       "                                             content  \n",
       "0  Hamás  pidió este domingo un  acuerdo “inmedia...  \n",
       "1  Todo el mundo lo conoce y él conoce a todo el ...  \n",
       "2  La Secretaría de Relaciones Exteriores mantien...  \n",
       "3  Activistas internacionales que fueron deportad...  \n",
       "4  El presidente de Estados Unidos,  Donald Trump...  "
      ],
      "text/html": [
       "<div>\n",
       "<style scoped>\n",
       "    .dataframe tbody tr th:only-of-type {\n",
       "        vertical-align: middle;\n",
       "    }\n",
       "\n",
       "    .dataframe tbody tr th {\n",
       "        vertical-align: top;\n",
       "    }\n",
       "\n",
       "    .dataframe thead th {\n",
       "        text-align: right;\n",
       "    }\n",
       "</style>\n",
       "<table border=\"1\" class=\"dataframe\">\n",
       "  <thead>\n",
       "    <tr style=\"text-align: right;\">\n",
       "      <th></th>\n",
       "      <th>category</th>\n",
       "      <th>sub_category</th>\n",
       "      <th>subcription</th>\n",
       "      <th>url</th>\n",
       "      <th>date_raw</th>\n",
       "      <th>date_parsed</th>\n",
       "      <th>author</th>\n",
       "      <th>title</th>\n",
       "      <th>article_header</th>\n",
       "      <th>content</th>\n",
       "    </tr>\n",
       "  </thead>\n",
       "  <tbody>\n",
       "    <tr>\n",
       "      <th>0</th>\n",
       "      <td>internacional</td>\n",
       "      <td></td>\n",
       "      <td></td>\n",
       "      <td>https://www.animalpolitico.com/internacional/h...</td>\n",
       "      <td>05 de octubre, 2025</td>\n",
       "      <td>2025-10-06</td>\n",
       "      <td>AFP</td>\n",
       "      <td>Hamás pide un intercambio “inmediato” de rehen...</td>\n",
       "      <td>Israel continúa con intensos bombardeos en con...</td>\n",
       "      <td>Hamás  pidió este domingo un  acuerdo “inmedia...</td>\n",
       "    </tr>\n",
       "    <tr>\n",
       "      <th>1</th>\n",
       "      <td>internacional</td>\n",
       "      <td></td>\n",
       "      <td></td>\n",
       "      <td>https://www.animalpolitico.com/internacional/u...</td>\n",
       "      <td>05 de octubre, 2025</td>\n",
       "      <td>2025-10-06</td>\n",
       "      <td>AFP</td>\n",
       "      <td>Ali Akbar, el último vendedor de periódicos am...</td>\n",
       "      <td>\"¡Mientras tenga energía, seguiré, trabajaré h...</td>\n",
       "      <td>Todo el mundo lo conoce y él conoce a todo el ...</td>\n",
       "    </tr>\n",
       "    <tr>\n",
       "      <th>2</th>\n",
       "      <td>internacional</td>\n",
       "      <td></td>\n",
       "      <td></td>\n",
       "      <td>https://www.animalpolitico.com/internacional/c...</td>\n",
       "      <td>04 de octubre, 2025</td>\n",
       "      <td>2025-10-06</td>\n",
       "      <td>Redacción Animal Político</td>\n",
       "      <td>Cancillería revisa rutas para el “retorno segu...</td>\n",
       "      <td>La Embajada de México en Israel se mantiene en...</td>\n",
       "      <td>La Secretaría de Relaciones Exteriores mantien...</td>\n",
       "    </tr>\n",
       "    <tr>\n",
       "      <th>3</th>\n",
       "      <td>internacional</td>\n",
       "      <td></td>\n",
       "      <td></td>\n",
       "      <td>https://www.animalpolitico.com/internacional/a...</td>\n",
       "      <td>04 de octubre, 2025</td>\n",
       "      <td>2025-10-06</td>\n",
       "      <td>AFP</td>\n",
       "      <td>“Nos trataron como animales”, activistas depor...</td>\n",
       "      <td>Israel detuvo a más de 400 personas y deportó ...</td>\n",
       "      <td>Activistas internacionales que fueron deportad...</td>\n",
       "    </tr>\n",
       "    <tr>\n",
       "      <th>4</th>\n",
       "      <td>internacional</td>\n",
       "      <td></td>\n",
       "      <td></td>\n",
       "      <td>https://www.animalpolitico.com/internacional/t...</td>\n",
       "      <td>03 de octubre, 2025</td>\n",
       "      <td>2025-10-06</td>\n",
       "      <td>Redacción Animal Político</td>\n",
       "      <td>“Estamos más cerca que nunca de una paz durade...</td>\n",
       "      <td>La propuesta de paz de Trump contempla, entre ...</td>\n",
       "      <td>El presidente de Estados Unidos,  Donald Trump...</td>\n",
       "    </tr>\n",
       "  </tbody>\n",
       "</table>\n",
       "</div>"
      ]
     },
     "execution_count": 72,
     "metadata": {},
     "output_type": "execute_result"
    }
   ],
   "execution_count": 72
  },
  {
   "metadata": {
    "ExecuteTime": {
     "end_time": "2025-10-19T21:30:30.011417Z",
     "start_time": "2025-10-19T21:30:30.005889Z"
    }
   },
   "cell_type": "code",
   "source": [
    "# Verifica si hay algún valor faltante en el DataFrame\n",
    "has_missing = bronze_df_animal_politico_all.isnull().values.any()\n",
    "print(f\"¿Existen valores faltantes?: {has_missing}\")"
   ],
   "id": "ddf334e8ec2559fa",
   "outputs": [
    {
     "name": "stdout",
     "output_type": "stream",
     "text": [
      "¿Existen valores faltantes?: True\n"
     ]
    }
   ],
   "execution_count": 73
  },
  {
   "metadata": {
    "ExecuteTime": {
     "end_time": "2025-10-19T21:30:30.045213Z",
     "start_time": "2025-10-19T21:30:30.039211Z"
    }
   },
   "cell_type": "code",
   "source": [
    "# Conteo de valores faltantes por columna\n",
    "missing_values = bronze_df_animal_politico_all.isnull().sum()\n",
    "\n",
    "# Mostrar resultados ordenados\n",
    "missing_values = missing_values[missing_values > 0].sort_values(ascending=False)\n",
    "print(\"Valores faltantes por columna:\")\n",
    "print(missing_values)"
   ],
   "id": "8a1bc203fbb3f4e0",
   "outputs": [
    {
     "name": "stdout",
     "output_type": "stream",
     "text": [
      "Valores faltantes por columna:\n",
      "date_raw          214\n",
      "author            214\n",
      "title             214\n",
      "article_header    214\n",
      "dtype: int64\n"
     ]
    }
   ],
   "execution_count": 74
  },
  {
   "metadata": {
    "ExecuteTime": {
     "end_time": "2025-10-19T21:30:30.079285Z",
     "start_time": "2025-10-19T21:30:30.069777Z"
    }
   },
   "cell_type": "code",
   "source": [
    "missing_percentage = (bronze_df_animal_politico_all.isnull().sum() / len(bronze_df_animal_politico_all)) * 100\n",
    "missing_report = pd.DataFrame({\n",
    "    \"missing_count\": bronze_df_animal_politico_all.isnull().sum(),\n",
    "    \"missing_percent\": missing_percentage\n",
    "})\n",
    "\n",
    "# Mostrar solo las columnas con valores faltantes\n",
    "missing_report = missing_report[missing_report[\"missing_count\"] > 0].sort_values(\"missing_percent\", ascending=False)\n",
    "print(\"Resumen de valores faltantes:\")\n",
    "display(missing_report)"
   ],
   "id": "c0eca91ea51afa57",
   "outputs": [
    {
     "name": "stdout",
     "output_type": "stream",
     "text": [
      "Resumen de valores faltantes:\n"
     ]
    },
    {
     "data": {
      "text/plain": [
       "                missing_count  missing_percent\n",
       "date_raw                  214         27.15736\n",
       "author                    214         27.15736\n",
       "title                     214         27.15736\n",
       "article_header            214         27.15736"
      ],
      "text/html": [
       "<div>\n",
       "<style scoped>\n",
       "    .dataframe tbody tr th:only-of-type {\n",
       "        vertical-align: middle;\n",
       "    }\n",
       "\n",
       "    .dataframe tbody tr th {\n",
       "        vertical-align: top;\n",
       "    }\n",
       "\n",
       "    .dataframe thead th {\n",
       "        text-align: right;\n",
       "    }\n",
       "</style>\n",
       "<table border=\"1\" class=\"dataframe\">\n",
       "  <thead>\n",
       "    <tr style=\"text-align: right;\">\n",
       "      <th></th>\n",
       "      <th>missing_count</th>\n",
       "      <th>missing_percent</th>\n",
       "    </tr>\n",
       "  </thead>\n",
       "  <tbody>\n",
       "    <tr>\n",
       "      <th>date_raw</th>\n",
       "      <td>214</td>\n",
       "      <td>27.15736</td>\n",
       "    </tr>\n",
       "    <tr>\n",
       "      <th>author</th>\n",
       "      <td>214</td>\n",
       "      <td>27.15736</td>\n",
       "    </tr>\n",
       "    <tr>\n",
       "      <th>title</th>\n",
       "      <td>214</td>\n",
       "      <td>27.15736</td>\n",
       "    </tr>\n",
       "    <tr>\n",
       "      <th>article_header</th>\n",
       "      <td>214</td>\n",
       "      <td>27.15736</td>\n",
       "    </tr>\n",
       "  </tbody>\n",
       "</table>\n",
       "</div>"
      ]
     },
     "metadata": {},
     "output_type": "display_data"
    }
   ],
   "execution_count": 75
  },
  {
   "metadata": {
    "ExecuteTime": {
     "end_time": "2025-10-19T21:30:30.111618Z",
     "start_time": "2025-10-19T21:30:30.100816Z"
    }
   },
   "cell_type": "code",
   "source": [
    "# Filter rows that contain any null value\n",
    "rows_with_nulls = bronze_df_animal_politico_all[bronze_df_animal_politico_all.isnull().any(axis=1)]\n",
    "\n",
    "# Display them\n",
    "display(rows_with_nulls)"
   ],
   "id": "9f7e335c7c00d1cc",
   "outputs": [
    {
     "data": {
      "text/plain": [
       "    category sub_category subcription  \\\n",
       "528    salud                            \n",
       "530    salud                            \n",
       "531    salud                            \n",
       "535    salud                            \n",
       "536    salud                            \n",
       "..       ...          ...         ...   \n",
       "763    salud                            \n",
       "764    salud                            \n",
       "766    salud                            \n",
       "768    salud                            \n",
       "769    salud                            \n",
       "\n",
       "                                                   url date_raw date_parsed  \\\n",
       "528  https://www.animalpolitico.com/salud/bebe-fall...     None  2025-09-25   \n",
       "530  https://www.animalpolitico.com/salud/vacunacio...     None  2025-09-25   \n",
       "531  https://www.animalpolitico.com/salud/gusano-ba...     None  2025-09-25   \n",
       "535  https://www.animalpolitico.com/salud/poblacion...     None  2025-09-25   \n",
       "536  https://www.animalpolitico.com/salud/ejercito-...     None  2025-09-25   \n",
       "..                                                 ...      ...         ...   \n",
       "763  https://www.animalpolitico.com/salud/gobierno-...     None  2025-09-25   \n",
       "764  https://www.animalpolitico.com/salud/violencia...     None  2025-09-25   \n",
       "766  https://www.animalpolitico.com/salud/secretari...     None  2025-09-25   \n",
       "768  https://www.animalpolitico.com/salud/cofepris-...     None  2025-09-25   \n",
       "769  https://www.animalpolitico.com/salud/pacientes...     None  2025-09-25   \n",
       "\n",
       "    author title article_header content  \n",
       "528   None  None           None          \n",
       "530   None  None           None          \n",
       "531   None  None           None          \n",
       "535   None  None           None          \n",
       "536   None  None           None          \n",
       "..     ...   ...            ...     ...  \n",
       "763   None  None           None          \n",
       "764   None  None           None          \n",
       "766   None  None           None          \n",
       "768   None  None           None          \n",
       "769   None  None           None          \n",
       "\n",
       "[214 rows x 10 columns]"
      ],
      "text/html": [
       "<div>\n",
       "<style scoped>\n",
       "    .dataframe tbody tr th:only-of-type {\n",
       "        vertical-align: middle;\n",
       "    }\n",
       "\n",
       "    .dataframe tbody tr th {\n",
       "        vertical-align: top;\n",
       "    }\n",
       "\n",
       "    .dataframe thead th {\n",
       "        text-align: right;\n",
       "    }\n",
       "</style>\n",
       "<table border=\"1\" class=\"dataframe\">\n",
       "  <thead>\n",
       "    <tr style=\"text-align: right;\">\n",
       "      <th></th>\n",
       "      <th>category</th>\n",
       "      <th>sub_category</th>\n",
       "      <th>subcription</th>\n",
       "      <th>url</th>\n",
       "      <th>date_raw</th>\n",
       "      <th>date_parsed</th>\n",
       "      <th>author</th>\n",
       "      <th>title</th>\n",
       "      <th>article_header</th>\n",
       "      <th>content</th>\n",
       "    </tr>\n",
       "  </thead>\n",
       "  <tbody>\n",
       "    <tr>\n",
       "      <th>528</th>\n",
       "      <td>salud</td>\n",
       "      <td></td>\n",
       "      <td></td>\n",
       "      <td>https://www.animalpolitico.com/salud/bebe-fall...</td>\n",
       "      <td>None</td>\n",
       "      <td>2025-09-25</td>\n",
       "      <td>None</td>\n",
       "      <td>None</td>\n",
       "      <td>None</td>\n",
       "      <td></td>\n",
       "    </tr>\n",
       "    <tr>\n",
       "      <th>530</th>\n",
       "      <td>salud</td>\n",
       "      <td></td>\n",
       "      <td></td>\n",
       "      <td>https://www.animalpolitico.com/salud/vacunacio...</td>\n",
       "      <td>None</td>\n",
       "      <td>2025-09-25</td>\n",
       "      <td>None</td>\n",
       "      <td>None</td>\n",
       "      <td>None</td>\n",
       "      <td></td>\n",
       "    </tr>\n",
       "    <tr>\n",
       "      <th>531</th>\n",
       "      <td>salud</td>\n",
       "      <td></td>\n",
       "      <td></td>\n",
       "      <td>https://www.animalpolitico.com/salud/gusano-ba...</td>\n",
       "      <td>None</td>\n",
       "      <td>2025-09-25</td>\n",
       "      <td>None</td>\n",
       "      <td>None</td>\n",
       "      <td>None</td>\n",
       "      <td></td>\n",
       "    </tr>\n",
       "    <tr>\n",
       "      <th>535</th>\n",
       "      <td>salud</td>\n",
       "      <td></td>\n",
       "      <td></td>\n",
       "      <td>https://www.animalpolitico.com/salud/poblacion...</td>\n",
       "      <td>None</td>\n",
       "      <td>2025-09-25</td>\n",
       "      <td>None</td>\n",
       "      <td>None</td>\n",
       "      <td>None</td>\n",
       "      <td></td>\n",
       "    </tr>\n",
       "    <tr>\n",
       "      <th>536</th>\n",
       "      <td>salud</td>\n",
       "      <td></td>\n",
       "      <td></td>\n",
       "      <td>https://www.animalpolitico.com/salud/ejercito-...</td>\n",
       "      <td>None</td>\n",
       "      <td>2025-09-25</td>\n",
       "      <td>None</td>\n",
       "      <td>None</td>\n",
       "      <td>None</td>\n",
       "      <td></td>\n",
       "    </tr>\n",
       "    <tr>\n",
       "      <th>...</th>\n",
       "      <td>...</td>\n",
       "      <td>...</td>\n",
       "      <td>...</td>\n",
       "      <td>...</td>\n",
       "      <td>...</td>\n",
       "      <td>...</td>\n",
       "      <td>...</td>\n",
       "      <td>...</td>\n",
       "      <td>...</td>\n",
       "      <td>...</td>\n",
       "    </tr>\n",
       "    <tr>\n",
       "      <th>763</th>\n",
       "      <td>salud</td>\n",
       "      <td></td>\n",
       "      <td></td>\n",
       "      <td>https://www.animalpolitico.com/salud/gobierno-...</td>\n",
       "      <td>None</td>\n",
       "      <td>2025-09-25</td>\n",
       "      <td>None</td>\n",
       "      <td>None</td>\n",
       "      <td>None</td>\n",
       "      <td></td>\n",
       "    </tr>\n",
       "    <tr>\n",
       "      <th>764</th>\n",
       "      <td>salud</td>\n",
       "      <td></td>\n",
       "      <td></td>\n",
       "      <td>https://www.animalpolitico.com/salud/violencia...</td>\n",
       "      <td>None</td>\n",
       "      <td>2025-09-25</td>\n",
       "      <td>None</td>\n",
       "      <td>None</td>\n",
       "      <td>None</td>\n",
       "      <td></td>\n",
       "    </tr>\n",
       "    <tr>\n",
       "      <th>766</th>\n",
       "      <td>salud</td>\n",
       "      <td></td>\n",
       "      <td></td>\n",
       "      <td>https://www.animalpolitico.com/salud/secretari...</td>\n",
       "      <td>None</td>\n",
       "      <td>2025-09-25</td>\n",
       "      <td>None</td>\n",
       "      <td>None</td>\n",
       "      <td>None</td>\n",
       "      <td></td>\n",
       "    </tr>\n",
       "    <tr>\n",
       "      <th>768</th>\n",
       "      <td>salud</td>\n",
       "      <td></td>\n",
       "      <td></td>\n",
       "      <td>https://www.animalpolitico.com/salud/cofepris-...</td>\n",
       "      <td>None</td>\n",
       "      <td>2025-09-25</td>\n",
       "      <td>None</td>\n",
       "      <td>None</td>\n",
       "      <td>None</td>\n",
       "      <td></td>\n",
       "    </tr>\n",
       "    <tr>\n",
       "      <th>769</th>\n",
       "      <td>salud</td>\n",
       "      <td></td>\n",
       "      <td></td>\n",
       "      <td>https://www.animalpolitico.com/salud/pacientes...</td>\n",
       "      <td>None</td>\n",
       "      <td>2025-09-25</td>\n",
       "      <td>None</td>\n",
       "      <td>None</td>\n",
       "      <td>None</td>\n",
       "      <td></td>\n",
       "    </tr>\n",
       "  </tbody>\n",
       "</table>\n",
       "<p>214 rows × 10 columns</p>\n",
       "</div>"
      ]
     },
     "metadata": {},
     "output_type": "display_data"
    }
   ],
   "execution_count": 76
  },
  {
   "metadata": {
    "ExecuteTime": {
     "end_time": "2025-10-19T21:30:30.132256Z",
     "start_time": "2025-10-19T21:30:30.127132Z"
    }
   },
   "cell_type": "code",
   "source": "bronze_df_animal_politico_all = bronze_df_animal_politico_all.dropna().reset_index(drop=True)",
   "id": "2da8e5244586c304",
   "outputs": [],
   "execution_count": 77
  },
  {
   "metadata": {
    "ExecuteTime": {
     "end_time": "2025-10-19T21:30:30.143889Z",
     "start_time": "2025-10-19T21:30:30.138768Z"
    }
   },
   "cell_type": "code",
   "source": "bronze_df_animal_politico_all.shape",
   "id": "b868da4359194db6",
   "outputs": [
    {
     "data": {
      "text/plain": [
       "(574, 10)"
      ]
     },
     "execution_count": 78,
     "metadata": {},
     "output_type": "execute_result"
    }
   ],
   "execution_count": 78
  },
  {
   "metadata": {},
   "cell_type": "markdown",
   "source": "### 4.1.4 Animal Político Eliminar Columnas Innecesarias",
   "id": "7812791f6eeaa468"
  },
  {
   "metadata": {
    "ExecuteTime": {
     "end_time": "2025-10-19T21:30:30.154270Z",
     "start_time": "2025-10-19T21:30:30.150465Z"
    }
   },
   "cell_type": "code",
   "source": "columns_to_keep = ['title', 'article_header', 'category', 'content']",
   "id": "b74397689e550e4d",
   "outputs": [],
   "execution_count": 79
  },
  {
   "metadata": {
    "ExecuteTime": {
     "end_time": "2025-10-19T21:30:30.164101Z",
     "start_time": "2025-10-19T21:30:30.160212Z"
    }
   },
   "cell_type": "code",
   "source": "bronze_df_animal_politico_all = bronze_df_animal_politico_all[columns_to_keep]",
   "id": "208e1f71e048a182",
   "outputs": [],
   "execution_count": 80
  },
  {
   "metadata": {
    "ExecuteTime": {
     "end_time": "2025-10-19T21:30:30.179131Z",
     "start_time": "2025-10-19T21:30:30.171626Z"
    }
   },
   "cell_type": "code",
   "source": "bronze_df_animal_politico_all.head()",
   "id": "5fd270a8f4838846",
   "outputs": [
    {
     "data": {
      "text/plain": [
       "                                               title  \\\n",
       "0  Hamás pide un intercambio “inmediato” de rehen...   \n",
       "1  Ali Akbar, el último vendedor de periódicos am...   \n",
       "2  Cancillería revisa rutas para el “retorno segu...   \n",
       "3  “Nos trataron como animales”, activistas depor...   \n",
       "4  “Estamos más cerca que nunca de una paz durade...   \n",
       "\n",
       "                                      article_header       category  \\\n",
       "0  Israel continúa con intensos bombardeos en con...  internacional   \n",
       "1  \"¡Mientras tenga energía, seguiré, trabajaré h...  internacional   \n",
       "2  La Embajada de México en Israel se mantiene en...  internacional   \n",
       "3  Israel detuvo a más de 400 personas y deportó ...  internacional   \n",
       "4  La propuesta de paz de Trump contempla, entre ...  internacional   \n",
       "\n",
       "                                             content  \n",
       "0  Hamás  pidió este domingo un  acuerdo “inmedia...  \n",
       "1  Todo el mundo lo conoce y él conoce a todo el ...  \n",
       "2  La Secretaría de Relaciones Exteriores mantien...  \n",
       "3  Activistas internacionales que fueron deportad...  \n",
       "4  El presidente de Estados Unidos,  Donald Trump...  "
      ],
      "text/html": [
       "<div>\n",
       "<style scoped>\n",
       "    .dataframe tbody tr th:only-of-type {\n",
       "        vertical-align: middle;\n",
       "    }\n",
       "\n",
       "    .dataframe tbody tr th {\n",
       "        vertical-align: top;\n",
       "    }\n",
       "\n",
       "    .dataframe thead th {\n",
       "        text-align: right;\n",
       "    }\n",
       "</style>\n",
       "<table border=\"1\" class=\"dataframe\">\n",
       "  <thead>\n",
       "    <tr style=\"text-align: right;\">\n",
       "      <th></th>\n",
       "      <th>title</th>\n",
       "      <th>article_header</th>\n",
       "      <th>category</th>\n",
       "      <th>content</th>\n",
       "    </tr>\n",
       "  </thead>\n",
       "  <tbody>\n",
       "    <tr>\n",
       "      <th>0</th>\n",
       "      <td>Hamás pide un intercambio “inmediato” de rehen...</td>\n",
       "      <td>Israel continúa con intensos bombardeos en con...</td>\n",
       "      <td>internacional</td>\n",
       "      <td>Hamás  pidió este domingo un  acuerdo “inmedia...</td>\n",
       "    </tr>\n",
       "    <tr>\n",
       "      <th>1</th>\n",
       "      <td>Ali Akbar, el último vendedor de periódicos am...</td>\n",
       "      <td>\"¡Mientras tenga energía, seguiré, trabajaré h...</td>\n",
       "      <td>internacional</td>\n",
       "      <td>Todo el mundo lo conoce y él conoce a todo el ...</td>\n",
       "    </tr>\n",
       "    <tr>\n",
       "      <th>2</th>\n",
       "      <td>Cancillería revisa rutas para el “retorno segu...</td>\n",
       "      <td>La Embajada de México en Israel se mantiene en...</td>\n",
       "      <td>internacional</td>\n",
       "      <td>La Secretaría de Relaciones Exteriores mantien...</td>\n",
       "    </tr>\n",
       "    <tr>\n",
       "      <th>3</th>\n",
       "      <td>“Nos trataron como animales”, activistas depor...</td>\n",
       "      <td>Israel detuvo a más de 400 personas y deportó ...</td>\n",
       "      <td>internacional</td>\n",
       "      <td>Activistas internacionales que fueron deportad...</td>\n",
       "    </tr>\n",
       "    <tr>\n",
       "      <th>4</th>\n",
       "      <td>“Estamos más cerca que nunca de una paz durade...</td>\n",
       "      <td>La propuesta de paz de Trump contempla, entre ...</td>\n",
       "      <td>internacional</td>\n",
       "      <td>El presidente de Estados Unidos,  Donald Trump...</td>\n",
       "    </tr>\n",
       "  </tbody>\n",
       "</table>\n",
       "</div>"
      ]
     },
     "execution_count": 81,
     "metadata": {},
     "output_type": "execute_result"
    }
   ],
   "execution_count": 81
  },
  {
   "metadata": {
    "ExecuteTime": {
     "end_time": "2025-10-19T21:30:30.190114Z",
     "start_time": "2025-10-19T21:30:30.186139Z"
    }
   },
   "cell_type": "code",
   "source": "bronze_df_animal_politico_all.shape",
   "id": "8a28e4a05d0315ea",
   "outputs": [
    {
     "data": {
      "text/plain": [
       "(574, 4)"
      ]
     },
     "execution_count": 82,
     "metadata": {},
     "output_type": "execute_result"
    }
   ],
   "execution_count": 82
  },
  {
   "metadata": {},
   "cell_type": "markdown",
   "source": "### 4.1.5 Animal Político Ingeniería de Características",
   "id": "4a837f0da3764eb0"
  },
  {
   "metadata": {
    "ExecuteTime": {
     "end_time": "2025-10-19T21:30:30.200173Z",
     "start_time": "2025-10-19T21:30:30.196634Z"
    }
   },
   "cell_type": "code",
   "source": "bronze_df_animal_politico_all[\"country\"] = \"Mexico\"",
   "id": "5dc4716bc775c2db",
   "outputs": [],
   "execution_count": 83
  },
  {
   "metadata": {
    "ExecuteTime": {
     "end_time": "2025-10-19T21:30:30.209199Z",
     "start_time": "2025-10-19T21:30:30.205693Z"
    }
   },
   "cell_type": "code",
   "source": "bronze_df_animal_politico_all[\"newspaper\"] = \"Animal Politico\"",
   "id": "4b4b3d9634daafa4",
   "outputs": [],
   "execution_count": 84
  },
  {
   "metadata": {
    "ExecuteTime": {
     "end_time": "2025-10-19T21:30:30.221931Z",
     "start_time": "2025-10-19T21:30:30.216583Z"
    }
   },
   "cell_type": "code",
   "source": "bronze_df_animal_politico_all[\"content\"][0]",
   "id": "74fe78101fa5912f",
   "outputs": [
    {
     "data": {
      "text/plain": [
       "'Hamás  pidió este domingo un  acuerdo “inmediato” de intercambio de rehenes por prisioneros  antes de que empiecen en Egipto las negociaciones indirectas sobre el plan de Trump para poner fin a la  guerra en Gaza.\\nCuando faltan dos días para el segundo aniversario del ataque sin precedentes del movimiento islamista palestino contra Israel, el 7 de octubre de 2023, que desencadenó la guerra, el  ejército israelí prosiguió sus bombardeos  en Ciudad de Gaza.\\nAl menos cinco personas murieron durante la jornada, según la Defensa Civil, un servicio de socorro que opera bajo la autoridad de Hamás.\\nLas negociaciones en Egipto partirán del plan del presidente estadounidense Donald Trump, que envió a su enviado Steve Witkoff y a su yerno Jared Kushner. El objetivo es cerrar los detalles sobre las  condiciones de liberación de los rehenes  secuestrados durante el ataque del 7 de octubre.\\nEl sábado, Trump advirtió a Hamás que no “toleraría ningún retraso” en la aplicación de su plan, que prevé un alto el fuego, la liberación de los rehenes en 72 horas, la  retirada por etapas del ejército israelí de Gaza  y el desarme del movimiento islamista.\\nLee más |  “Nos trataron como animales”, activistas deportados de la flotilla para Gaza denunciaron insultos y amenazas\\n(Foto: AFP).\\nPor su parte el primer ministro israelí,  Benjamin Netanyahu , aliado de Trump, anunció el sábado el  envío de sus negociadores a Egipto  con la esperanza de que todos los rehenes puedan volver a sus casas en “los próximos días”.\\nSegún un responsable de Hamás, las conversaciones se celebrarán en la ciudad de Sharm el Sheij, donde los negociadores del movimiento deberían llegar el domingo procedentes de Doha.\\n“Hamás está muy interesado en alcanzar un acuerdo para poner fin a la guerra e iniciar inmediatamente el proceso de intercambio de prisioneros”, es decir de rehenes por detenidos palestinos, dijo este responsable a la  AFP  bajo condición de anonimato.\\nEl equipo de negociadores israelíes “partirá esta noche (del domingo) con el programa de iniciar las negociaciones mañana” lunes, declaró una portavoz de Netanyahu, precisando que se trata de  “negociaciones técnicas”.\\nHamás pide ante mediadores que Israel suspenda las operaciones militares\\nHamás subrayó ante los mediadores “la necesidad de que  Israel suspenda todas las operaciones militares  en el conjunto de la  Franja de Gaza , cese todas las actividades aéreas, de reconocimiento y los sobrevuelos de drones y se retire del interior de Ciudad de Gaza”.\\nAl mismo tiempo, “Hamás y las facciones de la resistencia  pondrán fin a sus operaciones  militares”.\\nEn caso de acuerdo,  los bombardeos israelíes deberán “cesar” , declaró el jefe de la diplomacia estadounidense  Marco Rubio.\\nEl viernes, Hamás se declaró dispuesto a liberar a todos los rehenes en el marco del plan de Trump, anunciado el 29 de septiembre, y a iniciar negociaciones inmediatas para ultimar los detalles.\\nTrump llamó entonces a Israel a detener “inmediatamente” sus bombardeos en Gaza, pero  el ejército israelí prosiguió sus ataques , causando el sábado cerca de 60 muertos, según la Defensa Civil local.\\n“Ha habido una clara disminución en el número de bombardeos aéreos (desde la noche del sábado). Los tanques y vehículos militares se han retirado un poco, pero creo que se trata de una maniobra táctica y no de una retirada”, dijo a la  AFP  Muin Abu Rajab, un habitante de Gaza.\\n(Foto: AFP).\\nNetanyahu  afirma apoyar el plan de Trump, aunque aseguró que  su ejército se mantendrá en la mayor parte de la Franja de Gaza , que controla en un 75 % aproximadamente.\\nTambién lee |  “La neutralidad es complicidad”: piden que México rompa relaciones con Israel tras interceptar flotilla que llevaba ayuda a Gaza\\nEl presidente estadounidense afirmó el sábado que Israel había aceptado una primera “línea de retirada” a una distancia de 1.5 a 3.5 km dentro del territorio palestino. En cuanto Hamás la acepte, un alto el fuego “entrará inmediatamente en vigor”, aseguró.\\nEl ataque del 7 de octubre provocó la muerte de mil 219 personas del lado israelí, en su mayoría civiles, según un balance elaborado por la  AFP  a partir de datos oficiales.\\nDe las 251 personas secuestradas ese día,  47 siguen siendo rehenes en Gaza , de las cuales 25 han muerto, según el ejército.\\nLa ofensiva de represalia israelí ha causado al menos  67 mil 139 muertos en Gaza, en su mayoría civiles , según las cifras del Ministerio de Salud de Hamás, consideradas fiables por la ONU.\\nLa ONU ha declarado la  hambruna en una parte de Gaza  y sus investigadores afirman que  Israel comete un genocidio  en el territorio palestino, acusaciones rechazadas por Israel.\\nEquivalente a un huracán de categoría cinco, Ragasa es la tormenta más fuerte del mundo este año y ha cruzado el Mar de China Meridional, tras azotar Filipinas y Taiwán. Al menos 17 personas han muerto en el este de Taiwán tras el desbordamiento de un lago de montaña, según informaron las autoridades. El lago-barrera Matai’an se desbordó tras las fuertes lluvias del tifón Ragasa, liberando millones de toneladas de agua. El gobierno afirmó que el desbordamiento del lago barrera liberó alrededor de 60 millones de toneladas de agua de un estimado de 91 millones, suficiente para llenar unas 36.000 piscinas olímpicas. \\n Getty Images Las imágenes publicadas por el cuerpo de bomberos mostraron calles inundadas, vehículos semisumergidos y árboles arrancados de raíz. \\n Getty Images Los científicos advierten que las tormentas se están volviendo más poderosas debido a los efectos del cambio climático. \\n Getty Images Las autoridades de China continental ordenaron el cierre de negocios y escuelas en al menos 10 ciudades del sur del país, lo que afectó a decenas de millones de personas. Después de Taiwán, el tifón pasó muy cerca de Hong Kong dejando a su paso fuertes olas, inundando las zonas costeras y a más de 60 personas heridas. Las autoridades de Hong Kong informaron que, hasta el mediodía del miércoles, 82 personas habían sido atendidas en hospitales públicos por lesiones sufridas durante el período del tifón. Más de 860 personas buscaron refugio en los 50 albergues temporales de la ciudad. Su paso por China En su trayectoria Ragasa entró en tierra firme por la costa sur de China, donde tocó tierra a las 17:00 hora local. El tradicional sonido de la hora pico en la ciudad de Zhuhai, desde donde reportea la corresponsal de BBC Laura Bicker, fue reemplazado por vientos y lluvias torrenciales. Se espera que llueva el equivalente a un mes de lluvias en esa ciudad. Conforme se acercaba el tifón, empezaron a volar escombros y ramas de árboles caídos. Vehículos policiales patrullaban las calles con megáfonos, instando a la gente a permanecer en sus casas, pese a la dificultad de oírlos bajo ráfagas de viento de 160 km/h. “Aun así, el cielo tormentoso y una Zhuhai empapada son suficiente advertencia: con la excepción de algún ciclista ocasional, decidido a ir a trabajar, la mayoría de la gente siguió el consejo, paralizando esta ciudad de casi tres millones de habitantes”, contó Bicker. \\n Getty Images Ante la llegada, los ciudadanos hicieron acopio de alimentos. \\n Getty Images Se registran vientos máximos de hasta 241 km/h. Casi dos millones de personas en la densamente poblada provincia de Guangdong, donde se encuentra Zhuhai, fueron evacuadas. Las autoridades también emitieron una alerta roja por mareas altas y marejadas costeras. A medida que el ojo de la tormenta se acercaba a tierra firme, la lluvia azotó los edificios más altos de la ciudad. “El viento hacía casi imposible mantenerse en pie. Incluso observando desde dentro, las ventanas de nuestro nuevo hotel crujían por la tensión”, dijo la corresponsal de BBC. Grandes preparativos Zhuhai es un popular destino turístico, con campos de golf y parques temáticos. Ubicado en un delta donde el Río de la Perla se encuentra con el Mar de China Meridional, está acostumbrado a los tifones. Ragasa se ha debilitado de un estado de tifón súper severo a uno severo, pero sigue siendo altamente destructivo con vientos máximos de 241 km/h. \\n Getty Images Ragasa se ha debilitado pero sigue siendo altamente destructivo. Los propietarios han estado sellando sus ventanas con cinta adhesiva, mientras que los negocios recibieron sacos de arena para colocar en sus puertas y evitar que las mareas costeras se filtren en sus propiedades. Agentes de vigilancia vecinal habían ido puerta por puerta a verificar el estado de los residentes y los comercios locales para asegurarse de que cumplieran con las órdenes de evacuación. BBC solo encontró a unos pocos descontentos que no querían cerrar su restaurante demasiado pronto y perder más horas de negocio. \\n Getty Images Equivalente a un huracán de categoría cinco, Ragasa es la tormenta más fuerte del mundo este año. \\n Getty Images El tifón no tocó tierra en Hong Kong, pero dejó 62 personas heridas después de bordear la costa, desatando poderosos vientos y fuertes lluvias Las patrullas policiales también comenzaron temprano, con agentes apostados en las esquinas y zonas de playa para evitar que los curiosos se acercaran demasiado a las olas. Se envió rápidamente a trabajadores locales a cortar ramas sueltas de los árboles. Las autoridades chinas tienen mucha práctica en la preparación para desastres. Se toman las advertencias muy en serio. Temen las críticas, como ha ocurrido en desastres naturales anteriores, por no haber hecho lo suficiente para mantener a la gente a salvo. \\n Getty Images Casi dos millones de personas fueron evacuadas en la provincia de Guangdong antes de la llegada de la tormenta. En Yangjiang, a lo largo de la trayectoria del tifón, fuertes vientos arrancaron letreros de edificios, árboles y destruyeron vallas, informaron periodistas de la agencia de noticias AFP. Durante varias horas, los vientos generados por Ragasa sacudieron edificios y cayeron intensas lluvias en la ciudad de más de dos millones de habitantes. \\n Getty Images Muchos edificios altos se balancearon y vibraron con los fuertes vientos. Durante el fin de semana, incluso antes de que Ragasa azotara Filipinas, el departamento meteorológico de Guangdong, un centro de fabricación china, comenzó a advertir a los habitantes de la provincia que se prepararan para un “desastre catastrófico”. Los medios estatales chinos describieron esta advertencia como inusual. Las autoridades saben que habrá más casos similares. Los meteorólogos del país ya han advertido que los tifones se están intensificando en China. Pero no se trata solo de tifones. Este ha sido un año de condiciones climáticas extremas para el país: olas de calor, tormentas, sequías, inundaciones y cosechas arruinadas. El tifón Ragasa ha puesto a prueba la preparación de China. Y aún no ha terminado. Continúan las alertas de fuertes lluvias en los próximos días y se advierte de deslizamientos de tierra en zonas montañosas. \\n Getty Images Los residentes locales están acostumbrados a las tormentas severas. \\n Getty Images Los daños materiales fueron cuantiosos por donde pasó el tifón. \\n BBC \\n Haz clic aquí  para leer más historias de BBC News Mundo. Suscríbete aquí  a nuestro nuevo newsletter para recibir cada viernes una selección de nuestro mejor contenido de la semana. También puedes seguirnos en  YouTube ,  Instagram ,  TikTok ,  X ,  Facebook  y en nuestro  canal de WhatsApp . Y recuerda que puedes recibir notificaciones en nuestra app. Descarga la última versión y actívalas. \\n 3 críticas de líderes de América Latina a Trump en la ONU (y el guiño sorpresivo del presidente de EE.UU. a Lula) \\n “Sus países se están yendo al infierno”: el incendiario discurso de Trump ante la Asamblea General de la ONU que dejó en silencio a los asistentes \\n El inédito respaldo que el gobierno de Trump le ofrece a Milei en medio del deterioro de la economía argentina'"
      ]
     },
     "execution_count": 85,
     "metadata": {},
     "output_type": "execute_result"
    }
   ],
   "execution_count": 85
  },
  {
   "metadata": {
    "ExecuteTime": {
     "end_time": "2025-10-19T21:30:30.239495Z",
     "start_time": "2025-10-19T21:30:30.230448Z"
    }
   },
   "cell_type": "code",
   "source": "bronze_df_animal_politico_all.head()",
   "id": "616b679d6209bc30",
   "outputs": [
    {
     "data": {
      "text/plain": [
       "                                               title  \\\n",
       "0  Hamás pide un intercambio “inmediato” de rehen...   \n",
       "1  Ali Akbar, el último vendedor de periódicos am...   \n",
       "2  Cancillería revisa rutas para el “retorno segu...   \n",
       "3  “Nos trataron como animales”, activistas depor...   \n",
       "4  “Estamos más cerca que nunca de una paz durade...   \n",
       "\n",
       "                                      article_header       category  \\\n",
       "0  Israel continúa con intensos bombardeos en con...  internacional   \n",
       "1  \"¡Mientras tenga energía, seguiré, trabajaré h...  internacional   \n",
       "2  La Embajada de México en Israel se mantiene en...  internacional   \n",
       "3  Israel detuvo a más de 400 personas y deportó ...  internacional   \n",
       "4  La propuesta de paz de Trump contempla, entre ...  internacional   \n",
       "\n",
       "                                             content country        newspaper  \n",
       "0  Hamás  pidió este domingo un  acuerdo “inmedia...  Mexico  Animal Politico  \n",
       "1  Todo el mundo lo conoce y él conoce a todo el ...  Mexico  Animal Politico  \n",
       "2  La Secretaría de Relaciones Exteriores mantien...  Mexico  Animal Politico  \n",
       "3  Activistas internacionales que fueron deportad...  Mexico  Animal Politico  \n",
       "4  El presidente de Estados Unidos,  Donald Trump...  Mexico  Animal Politico  "
      ],
      "text/html": [
       "<div>\n",
       "<style scoped>\n",
       "    .dataframe tbody tr th:only-of-type {\n",
       "        vertical-align: middle;\n",
       "    }\n",
       "\n",
       "    .dataframe tbody tr th {\n",
       "        vertical-align: top;\n",
       "    }\n",
       "\n",
       "    .dataframe thead th {\n",
       "        text-align: right;\n",
       "    }\n",
       "</style>\n",
       "<table border=\"1\" class=\"dataframe\">\n",
       "  <thead>\n",
       "    <tr style=\"text-align: right;\">\n",
       "      <th></th>\n",
       "      <th>title</th>\n",
       "      <th>article_header</th>\n",
       "      <th>category</th>\n",
       "      <th>content</th>\n",
       "      <th>country</th>\n",
       "      <th>newspaper</th>\n",
       "    </tr>\n",
       "  </thead>\n",
       "  <tbody>\n",
       "    <tr>\n",
       "      <th>0</th>\n",
       "      <td>Hamás pide un intercambio “inmediato” de rehen...</td>\n",
       "      <td>Israel continúa con intensos bombardeos en con...</td>\n",
       "      <td>internacional</td>\n",
       "      <td>Hamás  pidió este domingo un  acuerdo “inmedia...</td>\n",
       "      <td>Mexico</td>\n",
       "      <td>Animal Politico</td>\n",
       "    </tr>\n",
       "    <tr>\n",
       "      <th>1</th>\n",
       "      <td>Ali Akbar, el último vendedor de periódicos am...</td>\n",
       "      <td>\"¡Mientras tenga energía, seguiré, trabajaré h...</td>\n",
       "      <td>internacional</td>\n",
       "      <td>Todo el mundo lo conoce y él conoce a todo el ...</td>\n",
       "      <td>Mexico</td>\n",
       "      <td>Animal Politico</td>\n",
       "    </tr>\n",
       "    <tr>\n",
       "      <th>2</th>\n",
       "      <td>Cancillería revisa rutas para el “retorno segu...</td>\n",
       "      <td>La Embajada de México en Israel se mantiene en...</td>\n",
       "      <td>internacional</td>\n",
       "      <td>La Secretaría de Relaciones Exteriores mantien...</td>\n",
       "      <td>Mexico</td>\n",
       "      <td>Animal Politico</td>\n",
       "    </tr>\n",
       "    <tr>\n",
       "      <th>3</th>\n",
       "      <td>“Nos trataron como animales”, activistas depor...</td>\n",
       "      <td>Israel detuvo a más de 400 personas y deportó ...</td>\n",
       "      <td>internacional</td>\n",
       "      <td>Activistas internacionales que fueron deportad...</td>\n",
       "      <td>Mexico</td>\n",
       "      <td>Animal Politico</td>\n",
       "    </tr>\n",
       "    <tr>\n",
       "      <th>4</th>\n",
       "      <td>“Estamos más cerca que nunca de una paz durade...</td>\n",
       "      <td>La propuesta de paz de Trump contempla, entre ...</td>\n",
       "      <td>internacional</td>\n",
       "      <td>El presidente de Estados Unidos,  Donald Trump...</td>\n",
       "      <td>Mexico</td>\n",
       "      <td>Animal Politico</td>\n",
       "    </tr>\n",
       "  </tbody>\n",
       "</table>\n",
       "</div>"
      ]
     },
     "execution_count": 86,
     "metadata": {},
     "output_type": "execute_result"
    }
   ],
   "execution_count": 86
  },
  {
   "metadata": {
    "ExecuteTime": {
     "end_time": "2025-10-19T21:30:30.257596Z",
     "start_time": "2025-10-19T21:30:30.245534Z"
    }
   },
   "cell_type": "code",
   "source": [
    "bronze_df_animal_politico_all[\"content\"] = (\n",
    "    bronze_df_animal_politico_all[\"article_header\"].fillna('') + \". \" +\n",
    "    bronze_df_animal_politico_all[\"content\"].fillna('')\n",
    ")"
   ],
   "id": "ced0988fe0f67c4a",
   "outputs": [],
   "execution_count": 87
  },
  {
   "metadata": {
    "ExecuteTime": {
     "end_time": "2025-10-19T21:30:30.270143Z",
     "start_time": "2025-10-19T21:30:30.264121Z"
    }
   },
   "cell_type": "code",
   "source": "bronze_df_animal_politico_all[\"content\"][0]",
   "id": "f23f9515cc5401ef",
   "outputs": [
    {
     "data": {
      "text/plain": [
       "'Israel continúa con intensos bombardeos en contra de civiles en la Franja de Gaza. Hamás pide que paren las operaciones militares. . Hamás  pidió este domingo un  acuerdo “inmediato” de intercambio de rehenes por prisioneros  antes de que empiecen en Egipto las negociaciones indirectas sobre el plan de Trump para poner fin a la  guerra en Gaza.\\nCuando faltan dos días para el segundo aniversario del ataque sin precedentes del movimiento islamista palestino contra Israel, el 7 de octubre de 2023, que desencadenó la guerra, el  ejército israelí prosiguió sus bombardeos  en Ciudad de Gaza.\\nAl menos cinco personas murieron durante la jornada, según la Defensa Civil, un servicio de socorro que opera bajo la autoridad de Hamás.\\nLas negociaciones en Egipto partirán del plan del presidente estadounidense Donald Trump, que envió a su enviado Steve Witkoff y a su yerno Jared Kushner. El objetivo es cerrar los detalles sobre las  condiciones de liberación de los rehenes  secuestrados durante el ataque del 7 de octubre.\\nEl sábado, Trump advirtió a Hamás que no “toleraría ningún retraso” en la aplicación de su plan, que prevé un alto el fuego, la liberación de los rehenes en 72 horas, la  retirada por etapas del ejército israelí de Gaza  y el desarme del movimiento islamista.\\nLee más |  “Nos trataron como animales”, activistas deportados de la flotilla para Gaza denunciaron insultos y amenazas\\n(Foto: AFP).\\nPor su parte el primer ministro israelí,  Benjamin Netanyahu , aliado de Trump, anunció el sábado el  envío de sus negociadores a Egipto  con la esperanza de que todos los rehenes puedan volver a sus casas en “los próximos días”.\\nSegún un responsable de Hamás, las conversaciones se celebrarán en la ciudad de Sharm el Sheij, donde los negociadores del movimiento deberían llegar el domingo procedentes de Doha.\\n“Hamás está muy interesado en alcanzar un acuerdo para poner fin a la guerra e iniciar inmediatamente el proceso de intercambio de prisioneros”, es decir de rehenes por detenidos palestinos, dijo este responsable a la  AFP  bajo condición de anonimato.\\nEl equipo de negociadores israelíes “partirá esta noche (del domingo) con el programa de iniciar las negociaciones mañana” lunes, declaró una portavoz de Netanyahu, precisando que se trata de  “negociaciones técnicas”.\\nHamás pide ante mediadores que Israel suspenda las operaciones militares\\nHamás subrayó ante los mediadores “la necesidad de que  Israel suspenda todas las operaciones militares  en el conjunto de la  Franja de Gaza , cese todas las actividades aéreas, de reconocimiento y los sobrevuelos de drones y se retire del interior de Ciudad de Gaza”.\\nAl mismo tiempo, “Hamás y las facciones de la resistencia  pondrán fin a sus operaciones  militares”.\\nEn caso de acuerdo,  los bombardeos israelíes deberán “cesar” , declaró el jefe de la diplomacia estadounidense  Marco Rubio.\\nEl viernes, Hamás se declaró dispuesto a liberar a todos los rehenes en el marco del plan de Trump, anunciado el 29 de septiembre, y a iniciar negociaciones inmediatas para ultimar los detalles.\\nTrump llamó entonces a Israel a detener “inmediatamente” sus bombardeos en Gaza, pero  el ejército israelí prosiguió sus ataques , causando el sábado cerca de 60 muertos, según la Defensa Civil local.\\n“Ha habido una clara disminución en el número de bombardeos aéreos (desde la noche del sábado). Los tanques y vehículos militares se han retirado un poco, pero creo que se trata de una maniobra táctica y no de una retirada”, dijo a la  AFP  Muin Abu Rajab, un habitante de Gaza.\\n(Foto: AFP).\\nNetanyahu  afirma apoyar el plan de Trump, aunque aseguró que  su ejército se mantendrá en la mayor parte de la Franja de Gaza , que controla en un 75 % aproximadamente.\\nTambién lee |  “La neutralidad es complicidad”: piden que México rompa relaciones con Israel tras interceptar flotilla que llevaba ayuda a Gaza\\nEl presidente estadounidense afirmó el sábado que Israel había aceptado una primera “línea de retirada” a una distancia de 1.5 a 3.5 km dentro del territorio palestino. En cuanto Hamás la acepte, un alto el fuego “entrará inmediatamente en vigor”, aseguró.\\nEl ataque del 7 de octubre provocó la muerte de mil 219 personas del lado israelí, en su mayoría civiles, según un balance elaborado por la  AFP  a partir de datos oficiales.\\nDe las 251 personas secuestradas ese día,  47 siguen siendo rehenes en Gaza , de las cuales 25 han muerto, según el ejército.\\nLa ofensiva de represalia israelí ha causado al menos  67 mil 139 muertos en Gaza, en su mayoría civiles , según las cifras del Ministerio de Salud de Hamás, consideradas fiables por la ONU.\\nLa ONU ha declarado la  hambruna en una parte de Gaza  y sus investigadores afirman que  Israel comete un genocidio  en el territorio palestino, acusaciones rechazadas por Israel.\\nEquivalente a un huracán de categoría cinco, Ragasa es la tormenta más fuerte del mundo este año y ha cruzado el Mar de China Meridional, tras azotar Filipinas y Taiwán. Al menos 17 personas han muerto en el este de Taiwán tras el desbordamiento de un lago de montaña, según informaron las autoridades. El lago-barrera Matai’an se desbordó tras las fuertes lluvias del tifón Ragasa, liberando millones de toneladas de agua. El gobierno afirmó que el desbordamiento del lago barrera liberó alrededor de 60 millones de toneladas de agua de un estimado de 91 millones, suficiente para llenar unas 36.000 piscinas olímpicas. \\n Getty Images Las imágenes publicadas por el cuerpo de bomberos mostraron calles inundadas, vehículos semisumergidos y árboles arrancados de raíz. \\n Getty Images Los científicos advierten que las tormentas se están volviendo más poderosas debido a los efectos del cambio climático. \\n Getty Images Las autoridades de China continental ordenaron el cierre de negocios y escuelas en al menos 10 ciudades del sur del país, lo que afectó a decenas de millones de personas. Después de Taiwán, el tifón pasó muy cerca de Hong Kong dejando a su paso fuertes olas, inundando las zonas costeras y a más de 60 personas heridas. Las autoridades de Hong Kong informaron que, hasta el mediodía del miércoles, 82 personas habían sido atendidas en hospitales públicos por lesiones sufridas durante el período del tifón. Más de 860 personas buscaron refugio en los 50 albergues temporales de la ciudad. Su paso por China En su trayectoria Ragasa entró en tierra firme por la costa sur de China, donde tocó tierra a las 17:00 hora local. El tradicional sonido de la hora pico en la ciudad de Zhuhai, desde donde reportea la corresponsal de BBC Laura Bicker, fue reemplazado por vientos y lluvias torrenciales. Se espera que llueva el equivalente a un mes de lluvias en esa ciudad. Conforme se acercaba el tifón, empezaron a volar escombros y ramas de árboles caídos. Vehículos policiales patrullaban las calles con megáfonos, instando a la gente a permanecer en sus casas, pese a la dificultad de oírlos bajo ráfagas de viento de 160 km/h. “Aun así, el cielo tormentoso y una Zhuhai empapada son suficiente advertencia: con la excepción de algún ciclista ocasional, decidido a ir a trabajar, la mayoría de la gente siguió el consejo, paralizando esta ciudad de casi tres millones de habitantes”, contó Bicker. \\n Getty Images Ante la llegada, los ciudadanos hicieron acopio de alimentos. \\n Getty Images Se registran vientos máximos de hasta 241 km/h. Casi dos millones de personas en la densamente poblada provincia de Guangdong, donde se encuentra Zhuhai, fueron evacuadas. Las autoridades también emitieron una alerta roja por mareas altas y marejadas costeras. A medida que el ojo de la tormenta se acercaba a tierra firme, la lluvia azotó los edificios más altos de la ciudad. “El viento hacía casi imposible mantenerse en pie. Incluso observando desde dentro, las ventanas de nuestro nuevo hotel crujían por la tensión”, dijo la corresponsal de BBC. Grandes preparativos Zhuhai es un popular destino turístico, con campos de golf y parques temáticos. Ubicado en un delta donde el Río de la Perla se encuentra con el Mar de China Meridional, está acostumbrado a los tifones. Ragasa se ha debilitado de un estado de tifón súper severo a uno severo, pero sigue siendo altamente destructivo con vientos máximos de 241 km/h. \\n Getty Images Ragasa se ha debilitado pero sigue siendo altamente destructivo. Los propietarios han estado sellando sus ventanas con cinta adhesiva, mientras que los negocios recibieron sacos de arena para colocar en sus puertas y evitar que las mareas costeras se filtren en sus propiedades. Agentes de vigilancia vecinal habían ido puerta por puerta a verificar el estado de los residentes y los comercios locales para asegurarse de que cumplieran con las órdenes de evacuación. BBC solo encontró a unos pocos descontentos que no querían cerrar su restaurante demasiado pronto y perder más horas de negocio. \\n Getty Images Equivalente a un huracán de categoría cinco, Ragasa es la tormenta más fuerte del mundo este año. \\n Getty Images El tifón no tocó tierra en Hong Kong, pero dejó 62 personas heridas después de bordear la costa, desatando poderosos vientos y fuertes lluvias Las patrullas policiales también comenzaron temprano, con agentes apostados en las esquinas y zonas de playa para evitar que los curiosos se acercaran demasiado a las olas. Se envió rápidamente a trabajadores locales a cortar ramas sueltas de los árboles. Las autoridades chinas tienen mucha práctica en la preparación para desastres. Se toman las advertencias muy en serio. Temen las críticas, como ha ocurrido en desastres naturales anteriores, por no haber hecho lo suficiente para mantener a la gente a salvo. \\n Getty Images Casi dos millones de personas fueron evacuadas en la provincia de Guangdong antes de la llegada de la tormenta. En Yangjiang, a lo largo de la trayectoria del tifón, fuertes vientos arrancaron letreros de edificios, árboles y destruyeron vallas, informaron periodistas de la agencia de noticias AFP. Durante varias horas, los vientos generados por Ragasa sacudieron edificios y cayeron intensas lluvias en la ciudad de más de dos millones de habitantes. \\n Getty Images Muchos edificios altos se balancearon y vibraron con los fuertes vientos. Durante el fin de semana, incluso antes de que Ragasa azotara Filipinas, el departamento meteorológico de Guangdong, un centro de fabricación china, comenzó a advertir a los habitantes de la provincia que se prepararan para un “desastre catastrófico”. Los medios estatales chinos describieron esta advertencia como inusual. Las autoridades saben que habrá más casos similares. Los meteorólogos del país ya han advertido que los tifones se están intensificando en China. Pero no se trata solo de tifones. Este ha sido un año de condiciones climáticas extremas para el país: olas de calor, tormentas, sequías, inundaciones y cosechas arruinadas. El tifón Ragasa ha puesto a prueba la preparación de China. Y aún no ha terminado. Continúan las alertas de fuertes lluvias en los próximos días y se advierte de deslizamientos de tierra en zonas montañosas. \\n Getty Images Los residentes locales están acostumbrados a las tormentas severas. \\n Getty Images Los daños materiales fueron cuantiosos por donde pasó el tifón. \\n BBC \\n Haz clic aquí  para leer más historias de BBC News Mundo. Suscríbete aquí  a nuestro nuevo newsletter para recibir cada viernes una selección de nuestro mejor contenido de la semana. También puedes seguirnos en  YouTube ,  Instagram ,  TikTok ,  X ,  Facebook  y en nuestro  canal de WhatsApp . Y recuerda que puedes recibir notificaciones en nuestra app. Descarga la última versión y actívalas. \\n 3 críticas de líderes de América Latina a Trump en la ONU (y el guiño sorpresivo del presidente de EE.UU. a Lula) \\n “Sus países se están yendo al infierno”: el incendiario discurso de Trump ante la Asamblea General de la ONU que dejó en silencio a los asistentes \\n El inédito respaldo que el gobierno de Trump le ofrece a Milei en medio del deterioro de la economía argentina'"
      ]
     },
     "execution_count": 88,
     "metadata": {},
     "output_type": "execute_result"
    }
   ],
   "execution_count": 88
  },
  {
   "metadata": {
    "ExecuteTime": {
     "end_time": "2025-10-19T21:30:30.301704Z",
     "start_time": "2025-10-19T21:30:30.297693Z"
    }
   },
   "cell_type": "code",
   "source": "bronze_df_animal_politico_all.drop(columns=[\"article_header\"], inplace=True)",
   "id": "26197ec1d83b40a9",
   "outputs": [],
   "execution_count": 89
  },
  {
   "metadata": {
    "ExecuteTime": {
     "end_time": "2025-10-19T21:30:30.331239Z",
     "start_time": "2025-10-19T21:30:30.321772Z"
    }
   },
   "cell_type": "code",
   "source": "bronze_df_animal_politico_all.head()",
   "id": "3b000a65c8a988a3",
   "outputs": [
    {
     "data": {
      "text/plain": [
       "                                               title       category  \\\n",
       "0  Hamás pide un intercambio “inmediato” de rehen...  internacional   \n",
       "1  Ali Akbar, el último vendedor de periódicos am...  internacional   \n",
       "2  Cancillería revisa rutas para el “retorno segu...  internacional   \n",
       "3  “Nos trataron como animales”, activistas depor...  internacional   \n",
       "4  “Estamos más cerca que nunca de una paz durade...  internacional   \n",
       "\n",
       "                                             content country        newspaper  \n",
       "0  Israel continúa con intensos bombardeos en con...  Mexico  Animal Politico  \n",
       "1  \"¡Mientras tenga energía, seguiré, trabajaré h...  Mexico  Animal Politico  \n",
       "2  La Embajada de México en Israel se mantiene en...  Mexico  Animal Politico  \n",
       "3  Israel detuvo a más de 400 personas y deportó ...  Mexico  Animal Politico  \n",
       "4  La propuesta de paz de Trump contempla, entre ...  Mexico  Animal Politico  "
      ],
      "text/html": [
       "<div>\n",
       "<style scoped>\n",
       "    .dataframe tbody tr th:only-of-type {\n",
       "        vertical-align: middle;\n",
       "    }\n",
       "\n",
       "    .dataframe tbody tr th {\n",
       "        vertical-align: top;\n",
       "    }\n",
       "\n",
       "    .dataframe thead th {\n",
       "        text-align: right;\n",
       "    }\n",
       "</style>\n",
       "<table border=\"1\" class=\"dataframe\">\n",
       "  <thead>\n",
       "    <tr style=\"text-align: right;\">\n",
       "      <th></th>\n",
       "      <th>title</th>\n",
       "      <th>category</th>\n",
       "      <th>content</th>\n",
       "      <th>country</th>\n",
       "      <th>newspaper</th>\n",
       "    </tr>\n",
       "  </thead>\n",
       "  <tbody>\n",
       "    <tr>\n",
       "      <th>0</th>\n",
       "      <td>Hamás pide un intercambio “inmediato” de rehen...</td>\n",
       "      <td>internacional</td>\n",
       "      <td>Israel continúa con intensos bombardeos en con...</td>\n",
       "      <td>Mexico</td>\n",
       "      <td>Animal Politico</td>\n",
       "    </tr>\n",
       "    <tr>\n",
       "      <th>1</th>\n",
       "      <td>Ali Akbar, el último vendedor de periódicos am...</td>\n",
       "      <td>internacional</td>\n",
       "      <td>\"¡Mientras tenga energía, seguiré, trabajaré h...</td>\n",
       "      <td>Mexico</td>\n",
       "      <td>Animal Politico</td>\n",
       "    </tr>\n",
       "    <tr>\n",
       "      <th>2</th>\n",
       "      <td>Cancillería revisa rutas para el “retorno segu...</td>\n",
       "      <td>internacional</td>\n",
       "      <td>La Embajada de México en Israel se mantiene en...</td>\n",
       "      <td>Mexico</td>\n",
       "      <td>Animal Politico</td>\n",
       "    </tr>\n",
       "    <tr>\n",
       "      <th>3</th>\n",
       "      <td>“Nos trataron como animales”, activistas depor...</td>\n",
       "      <td>internacional</td>\n",
       "      <td>Israel detuvo a más de 400 personas y deportó ...</td>\n",
       "      <td>Mexico</td>\n",
       "      <td>Animal Politico</td>\n",
       "    </tr>\n",
       "    <tr>\n",
       "      <th>4</th>\n",
       "      <td>“Estamos más cerca que nunca de una paz durade...</td>\n",
       "      <td>internacional</td>\n",
       "      <td>La propuesta de paz de Trump contempla, entre ...</td>\n",
       "      <td>Mexico</td>\n",
       "      <td>Animal Politico</td>\n",
       "    </tr>\n",
       "  </tbody>\n",
       "</table>\n",
       "</div>"
      ]
     },
     "execution_count": 90,
     "metadata": {},
     "output_type": "execute_result"
    }
   ],
   "execution_count": 90
  },
  {
   "metadata": {
    "ExecuteTime": {
     "end_time": "2025-10-19T21:30:30.355939Z",
     "start_time": "2025-10-19T21:30:30.352428Z"
    }
   },
   "cell_type": "code",
   "source": "bronze_df_animal_politico_standardized = bronze_df_animal_politico_all",
   "id": "6ea9ef69cc61309b",
   "outputs": [],
   "execution_count": 91
  },
  {
   "metadata": {},
   "cell_type": "markdown",
   "source": "## 4.2 El Excelsior",
   "id": "fe3dac32ccf759c2"
  },
  {
   "metadata": {},
   "cell_type": "markdown",
   "source": "### 4.2.1 El Excelsior Identificar y Eliminar duplicados",
   "id": "e6f18a3bf3f3d8fd"
  },
  {
   "metadata": {
    "ExecuteTime": {
     "end_time": "2025-10-19T21:30:30.404510Z",
     "start_time": "2025-10-19T21:30:30.395995Z"
    }
   },
   "cell_type": "code",
   "source": "bronze_df_el_excelsior.head()",
   "id": "622d770a2b8e78ad",
   "outputs": [
    {
     "data": {
      "text/plain": [
       "   category         sub_category   subcription  \\\n",
       "0  politica      Elecciones 2026          None   \n",
       "1  politica      Elecciones 2026  Suscriptores   \n",
       "2  politica             Política          None   \n",
       "3  politica      Elecciones 2026          None   \n",
       "4  politica  El Magazín Cultural  Suscriptores   \n",
       "\n",
       "                                                 url     date_raw date_parsed  \\\n",
       "0  https://www.elespectador.com/politica/eleccion...   06-10-2025  06-10-2025   \n",
       "1  https://www.elespectador.com/politica/eleccion...   06-10-2025  06-10-2025   \n",
       "2  https://www.elespectador.com/politica/reforma-...  08:10 a. m.  06-10-2025   \n",
       "3  https://www.elespectador.com/politica/eleccion...  09:28 a. m.  06-10-2025   \n",
       "4  https://www.elespectador.com/el-magazin-cultur...  10:00 a. m.  06-10-2025   \n",
       "\n",
       "                                              author  \\\n",
       "0                                 Redacción Política   \n",
       "1                                 Redacción Política   \n",
       "2                                 Redacción Política   \n",
       "3                                 Redacción Política   \n",
       "4  Santiago Muñoz Machado * / Especial para El Es...   \n",
       "\n",
       "                                               title  \\\n",
       "0  Grupo de exmandatarios regionales convocó a pr...   \n",
       "1  De la Espriella sacude campaña de la derecha y...   \n",
       "2  ¿Consulta 2.0? Gobierno Petro analiza vías par...   \n",
       "3  Galán, Peñalosa, Oviedo y Luna continúan acerc...   \n",
       "4  “Se ha puesto de moda renegar de la democracia...   \n",
       "\n",
       "                                      article_header  \\\n",
       "0  Los integrantes de Fuerza de las Regiones envi...   \n",
       "1  El precandidato Abelardo De la Espriella busca...   \n",
       "2  El ministro del Interior, Armando Benedetti, a...   \n",
       "3  Los precandidatos “independientes” se encontra...   \n",
       "4  Fragmento de “De la democracia en Hispanoaméri...   \n",
       "\n",
       "                                             content  \n",
       "0  El grupo de exmandatarios regionales conocido ...  \n",
       "1  En medio de las divisiones de la derecha por e...  \n",
       "2  Audio generado con IA de Google\\n0:00\\n/\\n0:00...  \n",
       "3  Audio generado con IA de Google\\n0:00\\n/\\n0:00...  \n",
       "4  PRÓLOGO\\nLa democracia es una forma de gobiern...  "
      ],
      "text/html": [
       "<div>\n",
       "<style scoped>\n",
       "    .dataframe tbody tr th:only-of-type {\n",
       "        vertical-align: middle;\n",
       "    }\n",
       "\n",
       "    .dataframe tbody tr th {\n",
       "        vertical-align: top;\n",
       "    }\n",
       "\n",
       "    .dataframe thead th {\n",
       "        text-align: right;\n",
       "    }\n",
       "</style>\n",
       "<table border=\"1\" class=\"dataframe\">\n",
       "  <thead>\n",
       "    <tr style=\"text-align: right;\">\n",
       "      <th></th>\n",
       "      <th>category</th>\n",
       "      <th>sub_category</th>\n",
       "      <th>subcription</th>\n",
       "      <th>url</th>\n",
       "      <th>date_raw</th>\n",
       "      <th>date_parsed</th>\n",
       "      <th>author</th>\n",
       "      <th>title</th>\n",
       "      <th>article_header</th>\n",
       "      <th>content</th>\n",
       "    </tr>\n",
       "  </thead>\n",
       "  <tbody>\n",
       "    <tr>\n",
       "      <th>0</th>\n",
       "      <td>politica</td>\n",
       "      <td>Elecciones 2026</td>\n",
       "      <td>None</td>\n",
       "      <td>https://www.elespectador.com/politica/eleccion...</td>\n",
       "      <td>06-10-2025</td>\n",
       "      <td>06-10-2025</td>\n",
       "      <td>Redacción Política</td>\n",
       "      <td>Grupo de exmandatarios regionales convocó a pr...</td>\n",
       "      <td>Los integrantes de Fuerza de las Regiones envi...</td>\n",
       "      <td>El grupo de exmandatarios regionales conocido ...</td>\n",
       "    </tr>\n",
       "    <tr>\n",
       "      <th>1</th>\n",
       "      <td>politica</td>\n",
       "      <td>Elecciones 2026</td>\n",
       "      <td>Suscriptores</td>\n",
       "      <td>https://www.elespectador.com/politica/eleccion...</td>\n",
       "      <td>06-10-2025</td>\n",
       "      <td>06-10-2025</td>\n",
       "      <td>Redacción Política</td>\n",
       "      <td>De la Espriella sacude campaña de la derecha y...</td>\n",
       "      <td>El precandidato Abelardo De la Espriella busca...</td>\n",
       "      <td>En medio de las divisiones de la derecha por e...</td>\n",
       "    </tr>\n",
       "    <tr>\n",
       "      <th>2</th>\n",
       "      <td>politica</td>\n",
       "      <td>Política</td>\n",
       "      <td>None</td>\n",
       "      <td>https://www.elespectador.com/politica/reforma-...</td>\n",
       "      <td>08:10 a. m.</td>\n",
       "      <td>06-10-2025</td>\n",
       "      <td>Redacción Política</td>\n",
       "      <td>¿Consulta 2.0? Gobierno Petro analiza vías par...</td>\n",
       "      <td>El ministro del Interior, Armando Benedetti, a...</td>\n",
       "      <td>Audio generado con IA de Google\\n0:00\\n/\\n0:00...</td>\n",
       "    </tr>\n",
       "    <tr>\n",
       "      <th>3</th>\n",
       "      <td>politica</td>\n",
       "      <td>Elecciones 2026</td>\n",
       "      <td>None</td>\n",
       "      <td>https://www.elespectador.com/politica/eleccion...</td>\n",
       "      <td>09:28 a. m.</td>\n",
       "      <td>06-10-2025</td>\n",
       "      <td>Redacción Política</td>\n",
       "      <td>Galán, Peñalosa, Oviedo y Luna continúan acerc...</td>\n",
       "      <td>Los precandidatos “independientes” se encontra...</td>\n",
       "      <td>Audio generado con IA de Google\\n0:00\\n/\\n0:00...</td>\n",
       "    </tr>\n",
       "    <tr>\n",
       "      <th>4</th>\n",
       "      <td>politica</td>\n",
       "      <td>El Magazín Cultural</td>\n",
       "      <td>Suscriptores</td>\n",
       "      <td>https://www.elespectador.com/el-magazin-cultur...</td>\n",
       "      <td>10:00 a. m.</td>\n",
       "      <td>06-10-2025</td>\n",
       "      <td>Santiago Muñoz Machado * / Especial para El Es...</td>\n",
       "      <td>“Se ha puesto de moda renegar de la democracia...</td>\n",
       "      <td>Fragmento de “De la democracia en Hispanoaméri...</td>\n",
       "      <td>PRÓLOGO\\nLa democracia es una forma de gobiern...</td>\n",
       "    </tr>\n",
       "  </tbody>\n",
       "</table>\n",
       "</div>"
      ]
     },
     "execution_count": 92,
     "metadata": {},
     "output_type": "execute_result"
    }
   ],
   "execution_count": 92
  },
  {
   "metadata": {
    "ExecuteTime": {
     "end_time": "2025-10-19T21:30:30.439057Z",
     "start_time": "2025-10-19T21:30:30.434558Z"
    }
   },
   "cell_type": "code",
   "source": [
    "column_name = \"url\"  # 👈 replace with your column name\n",
    "\n",
    "# Count how many rows are duplicated based on that column\n",
    "num_duplicates = bronze_df_el_excelsior.duplicated(subset=[column_name]).sum()\n",
    "print(f\"Number of duplicate {column_name}: {num_duplicates}\")"
   ],
   "id": "137f9169935c556e",
   "outputs": [
    {
     "name": "stdout",
     "output_type": "stream",
     "text": [
      "Number of duplicate url: 0\n"
     ]
    }
   ],
   "execution_count": 93
  },
  {
   "metadata": {
    "ExecuteTime": {
     "end_time": "2025-10-19T21:30:30.468740Z",
     "start_time": "2025-10-19T21:30:30.464234Z"
    }
   },
   "cell_type": "code",
   "source": [
    "bronze_df_el_excelsior = bronze_df_el_excelsior.drop_duplicates(\n",
    "    subset=[column_name],\n",
    "    keep=\"first\"\n",
    ").reset_index(drop=True)"
   ],
   "id": "19979ea7656e5b02",
   "outputs": [],
   "execution_count": 94
  },
  {
   "metadata": {
    "ExecuteTime": {
     "end_time": "2025-10-19T21:30:30.493771Z",
     "start_time": "2025-10-19T21:30:30.488759Z"
    }
   },
   "cell_type": "code",
   "source": "bronze_df_el_excelsior.shape",
   "id": "3b8eeae61fa55e18",
   "outputs": [
    {
     "data": {
      "text/plain": [
       "(767, 10)"
      ]
     },
     "execution_count": 95,
     "metadata": {},
     "output_type": "execute_result"
    }
   ],
   "execution_count": 95
  },
  {
   "metadata": {},
   "cell_type": "markdown",
   "source": "### 4.2.2 Excelsior Identificar Subcripciones",
   "id": "e74d4fabd541dd40"
  },
  {
   "metadata": {
    "ExecuteTime": {
     "end_time": "2025-10-19T21:30:30.526304Z",
     "start_time": "2025-10-19T21:30:30.518310Z"
    }
   },
   "cell_type": "code",
   "source": "bronze_df_el_excelsior.head()",
   "id": "177648686cbf83cc",
   "outputs": [
    {
     "data": {
      "text/plain": [
       "   category         sub_category   subcription  \\\n",
       "0  politica      Elecciones 2026          None   \n",
       "1  politica      Elecciones 2026  Suscriptores   \n",
       "2  politica             Política          None   \n",
       "3  politica      Elecciones 2026          None   \n",
       "4  politica  El Magazín Cultural  Suscriptores   \n",
       "\n",
       "                                                 url     date_raw date_parsed  \\\n",
       "0  https://www.elespectador.com/politica/eleccion...   06-10-2025  06-10-2025   \n",
       "1  https://www.elespectador.com/politica/eleccion...   06-10-2025  06-10-2025   \n",
       "2  https://www.elespectador.com/politica/reforma-...  08:10 a. m.  06-10-2025   \n",
       "3  https://www.elespectador.com/politica/eleccion...  09:28 a. m.  06-10-2025   \n",
       "4  https://www.elespectador.com/el-magazin-cultur...  10:00 a. m.  06-10-2025   \n",
       "\n",
       "                                              author  \\\n",
       "0                                 Redacción Política   \n",
       "1                                 Redacción Política   \n",
       "2                                 Redacción Política   \n",
       "3                                 Redacción Política   \n",
       "4  Santiago Muñoz Machado * / Especial para El Es...   \n",
       "\n",
       "                                               title  \\\n",
       "0  Grupo de exmandatarios regionales convocó a pr...   \n",
       "1  De la Espriella sacude campaña de la derecha y...   \n",
       "2  ¿Consulta 2.0? Gobierno Petro analiza vías par...   \n",
       "3  Galán, Peñalosa, Oviedo y Luna continúan acerc...   \n",
       "4  “Se ha puesto de moda renegar de la democracia...   \n",
       "\n",
       "                                      article_header  \\\n",
       "0  Los integrantes de Fuerza de las Regiones envi...   \n",
       "1  El precandidato Abelardo De la Espriella busca...   \n",
       "2  El ministro del Interior, Armando Benedetti, a...   \n",
       "3  Los precandidatos “independientes” se encontra...   \n",
       "4  Fragmento de “De la democracia en Hispanoaméri...   \n",
       "\n",
       "                                             content  \n",
       "0  El grupo de exmandatarios regionales conocido ...  \n",
       "1  En medio de las divisiones de la derecha por e...  \n",
       "2  Audio generado con IA de Google\\n0:00\\n/\\n0:00...  \n",
       "3  Audio generado con IA de Google\\n0:00\\n/\\n0:00...  \n",
       "4  PRÓLOGO\\nLa democracia es una forma de gobiern...  "
      ],
      "text/html": [
       "<div>\n",
       "<style scoped>\n",
       "    .dataframe tbody tr th:only-of-type {\n",
       "        vertical-align: middle;\n",
       "    }\n",
       "\n",
       "    .dataframe tbody tr th {\n",
       "        vertical-align: top;\n",
       "    }\n",
       "\n",
       "    .dataframe thead th {\n",
       "        text-align: right;\n",
       "    }\n",
       "</style>\n",
       "<table border=\"1\" class=\"dataframe\">\n",
       "  <thead>\n",
       "    <tr style=\"text-align: right;\">\n",
       "      <th></th>\n",
       "      <th>category</th>\n",
       "      <th>sub_category</th>\n",
       "      <th>subcription</th>\n",
       "      <th>url</th>\n",
       "      <th>date_raw</th>\n",
       "      <th>date_parsed</th>\n",
       "      <th>author</th>\n",
       "      <th>title</th>\n",
       "      <th>article_header</th>\n",
       "      <th>content</th>\n",
       "    </tr>\n",
       "  </thead>\n",
       "  <tbody>\n",
       "    <tr>\n",
       "      <th>0</th>\n",
       "      <td>politica</td>\n",
       "      <td>Elecciones 2026</td>\n",
       "      <td>None</td>\n",
       "      <td>https://www.elespectador.com/politica/eleccion...</td>\n",
       "      <td>06-10-2025</td>\n",
       "      <td>06-10-2025</td>\n",
       "      <td>Redacción Política</td>\n",
       "      <td>Grupo de exmandatarios regionales convocó a pr...</td>\n",
       "      <td>Los integrantes de Fuerza de las Regiones envi...</td>\n",
       "      <td>El grupo de exmandatarios regionales conocido ...</td>\n",
       "    </tr>\n",
       "    <tr>\n",
       "      <th>1</th>\n",
       "      <td>politica</td>\n",
       "      <td>Elecciones 2026</td>\n",
       "      <td>Suscriptores</td>\n",
       "      <td>https://www.elespectador.com/politica/eleccion...</td>\n",
       "      <td>06-10-2025</td>\n",
       "      <td>06-10-2025</td>\n",
       "      <td>Redacción Política</td>\n",
       "      <td>De la Espriella sacude campaña de la derecha y...</td>\n",
       "      <td>El precandidato Abelardo De la Espriella busca...</td>\n",
       "      <td>En medio de las divisiones de la derecha por e...</td>\n",
       "    </tr>\n",
       "    <tr>\n",
       "      <th>2</th>\n",
       "      <td>politica</td>\n",
       "      <td>Política</td>\n",
       "      <td>None</td>\n",
       "      <td>https://www.elespectador.com/politica/reforma-...</td>\n",
       "      <td>08:10 a. m.</td>\n",
       "      <td>06-10-2025</td>\n",
       "      <td>Redacción Política</td>\n",
       "      <td>¿Consulta 2.0? Gobierno Petro analiza vías par...</td>\n",
       "      <td>El ministro del Interior, Armando Benedetti, a...</td>\n",
       "      <td>Audio generado con IA de Google\\n0:00\\n/\\n0:00...</td>\n",
       "    </tr>\n",
       "    <tr>\n",
       "      <th>3</th>\n",
       "      <td>politica</td>\n",
       "      <td>Elecciones 2026</td>\n",
       "      <td>None</td>\n",
       "      <td>https://www.elespectador.com/politica/eleccion...</td>\n",
       "      <td>09:28 a. m.</td>\n",
       "      <td>06-10-2025</td>\n",
       "      <td>Redacción Política</td>\n",
       "      <td>Galán, Peñalosa, Oviedo y Luna continúan acerc...</td>\n",
       "      <td>Los precandidatos “independientes” se encontra...</td>\n",
       "      <td>Audio generado con IA de Google\\n0:00\\n/\\n0:00...</td>\n",
       "    </tr>\n",
       "    <tr>\n",
       "      <th>4</th>\n",
       "      <td>politica</td>\n",
       "      <td>El Magazín Cultural</td>\n",
       "      <td>Suscriptores</td>\n",
       "      <td>https://www.elespectador.com/el-magazin-cultur...</td>\n",
       "      <td>10:00 a. m.</td>\n",
       "      <td>06-10-2025</td>\n",
       "      <td>Santiago Muñoz Machado * / Especial para El Es...</td>\n",
       "      <td>“Se ha puesto de moda renegar de la democracia...</td>\n",
       "      <td>Fragmento de “De la democracia en Hispanoaméri...</td>\n",
       "      <td>PRÓLOGO\\nLa democracia es una forma de gobiern...</td>\n",
       "    </tr>\n",
       "  </tbody>\n",
       "</table>\n",
       "</div>"
      ]
     },
     "execution_count": 96,
     "metadata": {},
     "output_type": "execute_result"
    }
   ],
   "execution_count": 96
  },
  {
   "metadata": {
    "ExecuteTime": {
     "end_time": "2025-10-19T21:30:30.552856Z",
     "start_time": "2025-10-19T21:30:30.548336Z"
    }
   },
   "cell_type": "code",
   "source": "bronze_df_el_excelsior = bronze_df_el_excelsior[bronze_df_el_excelsior[\"subcription\"] != \"Suscriptores\"]",
   "id": "c062e299b6fd8952",
   "outputs": [],
   "execution_count": 97
  },
  {
   "metadata": {
    "ExecuteTime": {
     "end_time": "2025-10-19T21:30:30.575175Z",
     "start_time": "2025-10-19T21:30:30.571074Z"
    }
   },
   "cell_type": "code",
   "source": "bronze_df_el_excelsior = bronze_df_el_excelsior.drop(columns=[\"subcription\"])",
   "id": "fefc0be6c8361624",
   "outputs": [],
   "execution_count": 98
  },
  {
   "metadata": {
    "ExecuteTime": {
     "end_time": "2025-10-19T21:30:30.602740Z",
     "start_time": "2025-10-19T21:30:30.598727Z"
    }
   },
   "cell_type": "code",
   "source": "bronze_df_el_excelsior.shape",
   "id": "95e6d86585c99511",
   "outputs": [
    {
     "data": {
      "text/plain": [
       "(666, 9)"
      ]
     },
     "execution_count": 99,
     "metadata": {},
     "output_type": "execute_result"
    }
   ],
   "execution_count": 99
  },
  {
   "metadata": {},
   "cell_type": "markdown",
   "source": "### 4.2.3 Excelsior Identificar valores faltantes",
   "id": "61c5f419e3fedc6b"
  },
  {
   "metadata": {
    "ExecuteTime": {
     "end_time": "2025-10-19T21:30:30.635686Z",
     "start_time": "2025-10-19T21:30:30.626763Z"
    }
   },
   "cell_type": "code",
   "source": "bronze_df_el_excelsior.head()",
   "id": "55b6cf318fde35d8",
   "outputs": [
    {
     "data": {
      "text/plain": [
       "   category     sub_category  \\\n",
       "0  politica  Elecciones 2026   \n",
       "2  politica         Política   \n",
       "3  politica  Elecciones 2026   \n",
       "5  politica         Política   \n",
       "6  judicial         Judicial   \n",
       "\n",
       "                                                 url     date_raw date_parsed  \\\n",
       "0  https://www.elespectador.com/politica/eleccion...   06-10-2025  06-10-2025   \n",
       "2  https://www.elespectador.com/politica/reforma-...  08:10 a. m.  06-10-2025   \n",
       "3  https://www.elespectador.com/politica/eleccion...  09:28 a. m.  06-10-2025   \n",
       "5  https://www.elespectador.com/politica/semana-d...  11:44 a. m.  06-10-2025   \n",
       "6  https://www.elespectador.com/judicial/identifi...   05-10-2025  06-10-2025   \n",
       "\n",
       "               author                                              title  \\\n",
       "0  Redacción Política  Grupo de exmandatarios regionales convocó a pr...   \n",
       "2  Redacción Política  ¿Consulta 2.0? Gobierno Petro analiza vías par...   \n",
       "3  Redacción Política  Galán, Peñalosa, Oviedo y Luna continúan acerc...   \n",
       "5  Redacción Política  Senado no sesionará esta semana y Cámara manti...   \n",
       "6  Redacción Judicial  Identifican al soldado muerto en ataque del El...   \n",
       "\n",
       "                                      article_header  \\\n",
       "0  Los integrantes de Fuerza de las Regiones envi...   \n",
       "2  El ministro del Interior, Armando Benedetti, a...   \n",
       "3  Los precandidatos “independientes” se encontra...   \n",
       "5  Varios proyectos están pendientes de debate, e...   \n",
       "6  El hecho ocurrió en horas de la tarde de este ...   \n",
       "\n",
       "                                             content  \n",
       "0  El grupo de exmandatarios regionales conocido ...  \n",
       "2  Audio generado con IA de Google\\n0:00\\n/\\n0:00...  \n",
       "3  Audio generado con IA de Google\\n0:00\\n/\\n0:00...  \n",
       "5  Audio generado con IA de Google\\n0:00\\n/\\n0:00...  \n",
       "6  Audio generado con IA de Google\\n0:00\\n/\\n0:00...  "
      ],
      "text/html": [
       "<div>\n",
       "<style scoped>\n",
       "    .dataframe tbody tr th:only-of-type {\n",
       "        vertical-align: middle;\n",
       "    }\n",
       "\n",
       "    .dataframe tbody tr th {\n",
       "        vertical-align: top;\n",
       "    }\n",
       "\n",
       "    .dataframe thead th {\n",
       "        text-align: right;\n",
       "    }\n",
       "</style>\n",
       "<table border=\"1\" class=\"dataframe\">\n",
       "  <thead>\n",
       "    <tr style=\"text-align: right;\">\n",
       "      <th></th>\n",
       "      <th>category</th>\n",
       "      <th>sub_category</th>\n",
       "      <th>url</th>\n",
       "      <th>date_raw</th>\n",
       "      <th>date_parsed</th>\n",
       "      <th>author</th>\n",
       "      <th>title</th>\n",
       "      <th>article_header</th>\n",
       "      <th>content</th>\n",
       "    </tr>\n",
       "  </thead>\n",
       "  <tbody>\n",
       "    <tr>\n",
       "      <th>0</th>\n",
       "      <td>politica</td>\n",
       "      <td>Elecciones 2026</td>\n",
       "      <td>https://www.elespectador.com/politica/eleccion...</td>\n",
       "      <td>06-10-2025</td>\n",
       "      <td>06-10-2025</td>\n",
       "      <td>Redacción Política</td>\n",
       "      <td>Grupo de exmandatarios regionales convocó a pr...</td>\n",
       "      <td>Los integrantes de Fuerza de las Regiones envi...</td>\n",
       "      <td>El grupo de exmandatarios regionales conocido ...</td>\n",
       "    </tr>\n",
       "    <tr>\n",
       "      <th>2</th>\n",
       "      <td>politica</td>\n",
       "      <td>Política</td>\n",
       "      <td>https://www.elespectador.com/politica/reforma-...</td>\n",
       "      <td>08:10 a. m.</td>\n",
       "      <td>06-10-2025</td>\n",
       "      <td>Redacción Política</td>\n",
       "      <td>¿Consulta 2.0? Gobierno Petro analiza vías par...</td>\n",
       "      <td>El ministro del Interior, Armando Benedetti, a...</td>\n",
       "      <td>Audio generado con IA de Google\\n0:00\\n/\\n0:00...</td>\n",
       "    </tr>\n",
       "    <tr>\n",
       "      <th>3</th>\n",
       "      <td>politica</td>\n",
       "      <td>Elecciones 2026</td>\n",
       "      <td>https://www.elespectador.com/politica/eleccion...</td>\n",
       "      <td>09:28 a. m.</td>\n",
       "      <td>06-10-2025</td>\n",
       "      <td>Redacción Política</td>\n",
       "      <td>Galán, Peñalosa, Oviedo y Luna continúan acerc...</td>\n",
       "      <td>Los precandidatos “independientes” se encontra...</td>\n",
       "      <td>Audio generado con IA de Google\\n0:00\\n/\\n0:00...</td>\n",
       "    </tr>\n",
       "    <tr>\n",
       "      <th>5</th>\n",
       "      <td>politica</td>\n",
       "      <td>Política</td>\n",
       "      <td>https://www.elespectador.com/politica/semana-d...</td>\n",
       "      <td>11:44 a. m.</td>\n",
       "      <td>06-10-2025</td>\n",
       "      <td>Redacción Política</td>\n",
       "      <td>Senado no sesionará esta semana y Cámara manti...</td>\n",
       "      <td>Varios proyectos están pendientes de debate, e...</td>\n",
       "      <td>Audio generado con IA de Google\\n0:00\\n/\\n0:00...</td>\n",
       "    </tr>\n",
       "    <tr>\n",
       "      <th>6</th>\n",
       "      <td>judicial</td>\n",
       "      <td>Judicial</td>\n",
       "      <td>https://www.elespectador.com/judicial/identifi...</td>\n",
       "      <td>05-10-2025</td>\n",
       "      <td>06-10-2025</td>\n",
       "      <td>Redacción Judicial</td>\n",
       "      <td>Identifican al soldado muerto en ataque del El...</td>\n",
       "      <td>El hecho ocurrió en horas de la tarde de este ...</td>\n",
       "      <td>Audio generado con IA de Google\\n0:00\\n/\\n0:00...</td>\n",
       "    </tr>\n",
       "  </tbody>\n",
       "</table>\n",
       "</div>"
      ]
     },
     "execution_count": 100,
     "metadata": {},
     "output_type": "execute_result"
    }
   ],
   "execution_count": 100
  },
  {
   "metadata": {
    "ExecuteTime": {
     "end_time": "2025-10-19T21:30:30.661180Z",
     "start_time": "2025-10-19T21:30:30.656853Z"
    }
   },
   "cell_type": "code",
   "source": [
    "# Verifica si hay algún valor faltante en el DataFrame\n",
    "has_missing = bronze_df_el_excelsior.isnull().values.any()\n",
    "print(f\"¿Existen valores faltantes?: {has_missing}\")"
   ],
   "id": "6b6a8a7af9420a57",
   "outputs": [
    {
     "name": "stdout",
     "output_type": "stream",
     "text": [
      "¿Existen valores faltantes?: True\n"
     ]
    }
   ],
   "execution_count": 101
  },
  {
   "metadata": {
    "ExecuteTime": {
     "end_time": "2025-10-19T21:30:30.694232Z",
     "start_time": "2025-10-19T21:30:30.687200Z"
    }
   },
   "cell_type": "code",
   "source": [
    "# Conteo de valores faltantes por columna\n",
    "missing_values = bronze_df_el_excelsior.isnull().sum()\n",
    "\n",
    "# Mostrar resultados ordenados\n",
    "missing_values = missing_values[missing_values > 0].sort_values(ascending=False)\n",
    "print(\"Valores faltantes por columna:\")\n",
    "print(missing_values)"
   ],
   "id": "41d4e1a5174e6012",
   "outputs": [
    {
     "name": "stdout",
     "output_type": "stream",
     "text": [
      "Valores faltantes por columna:\n",
      "article_header    10\n",
      "title              3\n",
      "dtype: int64\n"
     ]
    }
   ],
   "execution_count": 102
  },
  {
   "metadata": {
    "ExecuteTime": {
     "end_time": "2025-10-19T21:30:30.726413Z",
     "start_time": "2025-10-19T21:30:30.718227Z"
    }
   },
   "cell_type": "code",
   "source": [
    "missing_percentage = (bronze_df_el_excelsior.isnull().sum() / len(bronze_df_el_excelsior)) * 100\n",
    "missing_report = pd.DataFrame({\n",
    "    \"missing_count\": bronze_df_el_excelsior.isnull().sum(),\n",
    "    \"missing_percent\": missing_percentage\n",
    "})\n",
    "\n",
    "# Mostrar solo las columnas con valores faltantes\n",
    "missing_report = missing_report[missing_report[\"missing_count\"] > 0].sort_values(\"missing_percent\", ascending=False)\n",
    "print(\"Resumen de valores faltantes:\")\n",
    "display(missing_report)"
   ],
   "id": "c2a923c488a30046",
   "outputs": [
    {
     "name": "stdout",
     "output_type": "stream",
     "text": [
      "Resumen de valores faltantes:\n"
     ]
    },
    {
     "data": {
      "text/plain": [
       "                missing_count  missing_percent\n",
       "article_header             10         1.501502\n",
       "title                       3         0.450450"
      ],
      "text/html": [
       "<div>\n",
       "<style scoped>\n",
       "    .dataframe tbody tr th:only-of-type {\n",
       "        vertical-align: middle;\n",
       "    }\n",
       "\n",
       "    .dataframe tbody tr th {\n",
       "        vertical-align: top;\n",
       "    }\n",
       "\n",
       "    .dataframe thead th {\n",
       "        text-align: right;\n",
       "    }\n",
       "</style>\n",
       "<table border=\"1\" class=\"dataframe\">\n",
       "  <thead>\n",
       "    <tr style=\"text-align: right;\">\n",
       "      <th></th>\n",
       "      <th>missing_count</th>\n",
       "      <th>missing_percent</th>\n",
       "    </tr>\n",
       "  </thead>\n",
       "  <tbody>\n",
       "    <tr>\n",
       "      <th>article_header</th>\n",
       "      <td>10</td>\n",
       "      <td>1.501502</td>\n",
       "    </tr>\n",
       "    <tr>\n",
       "      <th>title</th>\n",
       "      <td>3</td>\n",
       "      <td>0.450450</td>\n",
       "    </tr>\n",
       "  </tbody>\n",
       "</table>\n",
       "</div>"
      ]
     },
     "metadata": {},
     "output_type": "display_data"
    }
   ],
   "execution_count": 103
  },
  {
   "metadata": {
    "ExecuteTime": {
     "end_time": "2025-10-19T21:30:30.744054Z",
     "start_time": "2025-10-19T21:30:30.734473Z"
    }
   },
   "cell_type": "code",
   "source": [
    "# Filter rows that contain any null value\n",
    "rows_with_nulls = bronze_df_el_excelsior[bronze_df_el_excelsior.isnull().any(axis=1)]\n",
    "\n",
    "# Display them\n",
    "display(rows_with_nulls)"
   ],
   "id": "20dbc11c760ebf87",
   "outputs": [
    {
     "data": {
      "text/plain": [
       "                category        sub_category  \\\n",
       "32              politica            Política   \n",
       "152             politica            Política   \n",
       "181             politica            Política   \n",
       "212                mundo         Columnistas   \n",
       "289                salud               Salud   \n",
       "299                mundo         Columnistas   \n",
       "300                mundo         Columnistas   \n",
       "362                mundo         Columnistas   \n",
       "363                mundo         Columnistas   \n",
       "528  el-magazin-cultural  Punto de encuentro   \n",
       "\n",
       "                                                   url    date_raw  \\\n",
       "32   https://www.elespectador.com/politica/vichada-...  04-10-2025   \n",
       "152  https://www.elespectador.com/politica/cesar-ga...  29-09-2025   \n",
       "181  https://www.elespectador.com/politica/carcel-d...  27-09-2025   \n",
       "212  https://www.elespectador.com/opinion/columnist...  29-09-2025   \n",
       "289  https://www.elespectador.com/salud/parir-en-la...  13-09-2025   \n",
       "299  https://www.elespectador.com/opinion/columnist...  30-09-2025   \n",
       "300  https://www.elespectador.com/opinion/columnist...  30-09-2025   \n",
       "362  https://www.elespectador.com/opinion/columnist...  01-10-2025   \n",
       "363  https://www.elespectador.com/opinion/columnist...  01-10-2025   \n",
       "528  https://www.elespectador.com/punto-de-encuentr...  30-09-2025   \n",
       "\n",
       "    date_parsed                                       author  \\\n",
       "32   06-10-2025                          David Efrén Ortega    \n",
       "152  06-10-2025  César Gaviria - Especial para El Espectador   \n",
       "181  06-10-2025                  María José Barrios Figueroa   \n",
       "212  06-10-2025                                   César Niño   \n",
       "289  06-10-2025                        Luisa Fernanda Orozco   \n",
       "299  06-10-2025                                 Julio Borges   \n",
       "300  06-10-2025                              Beatriz Miranda   \n",
       "362  06-10-2025                                Marcos Peckel   \n",
       "363  06-10-2025                       Oscar Guardiola-Rivera   \n",
       "528  06-10-2025                                El Espectador   \n",
       "\n",
       "                                                 title article_header  \\\n",
       "32                                                None           None   \n",
       "152  “El terrorismo arrecia y se generaliza”: capit...           None   \n",
       "181                                               None           None   \n",
       "212                                       Ochenta años           None   \n",
       "289  Parir en la selva y el desierto: las parteras ...           None   \n",
       "299                     El abogado de Maduro en la ONU           None   \n",
       "300  ¿Amnistiar a Bolsonaro? Brasil define el rumbo...           None   \n",
       "362                                         El acuerdo           None   \n",
       "363                                     Una caricatura           None   \n",
       "528                                               None           None   \n",
       "\n",
       "                                               content  \n",
       "32                                                      \n",
       "152  El expresidente y jefe del Partido Liberal est...  \n",
       "181                                                     \n",
       "212  En un mundo policrítico, polipolar y en permac...  \n",
       "289  Cuando Fernando Martínez contestó su celular, ...  \n",
       "299  La reciente intervención de Gustavo Petro en l...  \n",
       "300  En las últimas semanas, Brasil volvió a vivir ...  \n",
       "362  Con el primer ministro de Israel a su lado, el...  \n",
       "363  La caricatura publicada en días pasados en la ...  \n",
       "528                                                     "
      ],
      "text/html": [
       "<div>\n",
       "<style scoped>\n",
       "    .dataframe tbody tr th:only-of-type {\n",
       "        vertical-align: middle;\n",
       "    }\n",
       "\n",
       "    .dataframe tbody tr th {\n",
       "        vertical-align: top;\n",
       "    }\n",
       "\n",
       "    .dataframe thead th {\n",
       "        text-align: right;\n",
       "    }\n",
       "</style>\n",
       "<table border=\"1\" class=\"dataframe\">\n",
       "  <thead>\n",
       "    <tr style=\"text-align: right;\">\n",
       "      <th></th>\n",
       "      <th>category</th>\n",
       "      <th>sub_category</th>\n",
       "      <th>url</th>\n",
       "      <th>date_raw</th>\n",
       "      <th>date_parsed</th>\n",
       "      <th>author</th>\n",
       "      <th>title</th>\n",
       "      <th>article_header</th>\n",
       "      <th>content</th>\n",
       "    </tr>\n",
       "  </thead>\n",
       "  <tbody>\n",
       "    <tr>\n",
       "      <th>32</th>\n",
       "      <td>politica</td>\n",
       "      <td>Política</td>\n",
       "      <td>https://www.elespectador.com/politica/vichada-...</td>\n",
       "      <td>04-10-2025</td>\n",
       "      <td>06-10-2025</td>\n",
       "      <td>David Efrén Ortega</td>\n",
       "      <td>None</td>\n",
       "      <td>None</td>\n",
       "      <td></td>\n",
       "    </tr>\n",
       "    <tr>\n",
       "      <th>152</th>\n",
       "      <td>politica</td>\n",
       "      <td>Política</td>\n",
       "      <td>https://www.elespectador.com/politica/cesar-ga...</td>\n",
       "      <td>29-09-2025</td>\n",
       "      <td>06-10-2025</td>\n",
       "      <td>César Gaviria - Especial para El Espectador</td>\n",
       "      <td>“El terrorismo arrecia y se generaliza”: capit...</td>\n",
       "      <td>None</td>\n",
       "      <td>El expresidente y jefe del Partido Liberal est...</td>\n",
       "    </tr>\n",
       "    <tr>\n",
       "      <th>181</th>\n",
       "      <td>politica</td>\n",
       "      <td>Política</td>\n",
       "      <td>https://www.elespectador.com/politica/carcel-d...</td>\n",
       "      <td>27-09-2025</td>\n",
       "      <td>06-10-2025</td>\n",
       "      <td>María José Barrios Figueroa</td>\n",
       "      <td>None</td>\n",
       "      <td>None</td>\n",
       "      <td></td>\n",
       "    </tr>\n",
       "    <tr>\n",
       "      <th>212</th>\n",
       "      <td>mundo</td>\n",
       "      <td>Columnistas</td>\n",
       "      <td>https://www.elespectador.com/opinion/columnist...</td>\n",
       "      <td>29-09-2025</td>\n",
       "      <td>06-10-2025</td>\n",
       "      <td>César Niño</td>\n",
       "      <td>Ochenta años</td>\n",
       "      <td>None</td>\n",
       "      <td>En un mundo policrítico, polipolar y en permac...</td>\n",
       "    </tr>\n",
       "    <tr>\n",
       "      <th>289</th>\n",
       "      <td>salud</td>\n",
       "      <td>Salud</td>\n",
       "      <td>https://www.elespectador.com/salud/parir-en-la...</td>\n",
       "      <td>13-09-2025</td>\n",
       "      <td>06-10-2025</td>\n",
       "      <td>Luisa Fernanda Orozco</td>\n",
       "      <td>Parir en la selva y el desierto: las parteras ...</td>\n",
       "      <td>None</td>\n",
       "      <td>Cuando Fernando Martínez contestó su celular, ...</td>\n",
       "    </tr>\n",
       "    <tr>\n",
       "      <th>299</th>\n",
       "      <td>mundo</td>\n",
       "      <td>Columnistas</td>\n",
       "      <td>https://www.elespectador.com/opinion/columnist...</td>\n",
       "      <td>30-09-2025</td>\n",
       "      <td>06-10-2025</td>\n",
       "      <td>Julio Borges</td>\n",
       "      <td>El abogado de Maduro en la ONU</td>\n",
       "      <td>None</td>\n",
       "      <td>La reciente intervención de Gustavo Petro en l...</td>\n",
       "    </tr>\n",
       "    <tr>\n",
       "      <th>300</th>\n",
       "      <td>mundo</td>\n",
       "      <td>Columnistas</td>\n",
       "      <td>https://www.elespectador.com/opinion/columnist...</td>\n",
       "      <td>30-09-2025</td>\n",
       "      <td>06-10-2025</td>\n",
       "      <td>Beatriz Miranda</td>\n",
       "      <td>¿Amnistiar a Bolsonaro? Brasil define el rumbo...</td>\n",
       "      <td>None</td>\n",
       "      <td>En las últimas semanas, Brasil volvió a vivir ...</td>\n",
       "    </tr>\n",
       "    <tr>\n",
       "      <th>362</th>\n",
       "      <td>mundo</td>\n",
       "      <td>Columnistas</td>\n",
       "      <td>https://www.elespectador.com/opinion/columnist...</td>\n",
       "      <td>01-10-2025</td>\n",
       "      <td>06-10-2025</td>\n",
       "      <td>Marcos Peckel</td>\n",
       "      <td>El acuerdo</td>\n",
       "      <td>None</td>\n",
       "      <td>Con el primer ministro de Israel a su lado, el...</td>\n",
       "    </tr>\n",
       "    <tr>\n",
       "      <th>363</th>\n",
       "      <td>mundo</td>\n",
       "      <td>Columnistas</td>\n",
       "      <td>https://www.elespectador.com/opinion/columnist...</td>\n",
       "      <td>01-10-2025</td>\n",
       "      <td>06-10-2025</td>\n",
       "      <td>Oscar Guardiola-Rivera</td>\n",
       "      <td>Una caricatura</td>\n",
       "      <td>None</td>\n",
       "      <td>La caricatura publicada en días pasados en la ...</td>\n",
       "    </tr>\n",
       "    <tr>\n",
       "      <th>528</th>\n",
       "      <td>el-magazin-cultural</td>\n",
       "      <td>Punto de encuentro</td>\n",
       "      <td>https://www.elespectador.com/punto-de-encuentr...</td>\n",
       "      <td>30-09-2025</td>\n",
       "      <td>06-10-2025</td>\n",
       "      <td>El Espectador</td>\n",
       "      <td>None</td>\n",
       "      <td>None</td>\n",
       "      <td></td>\n",
       "    </tr>\n",
       "  </tbody>\n",
       "</table>\n",
       "</div>"
      ]
     },
     "metadata": {},
     "output_type": "display_data"
    }
   ],
   "execution_count": 104
  },
  {
   "metadata": {
    "ExecuteTime": {
     "end_time": "2025-10-19T21:30:30.766622Z",
     "start_time": "2025-10-19T21:30:30.761624Z"
    }
   },
   "cell_type": "code",
   "source": "bronze_df_el_excelsior = bronze_df_el_excelsior.dropna().reset_index(drop=True)",
   "id": "89d1a50c57b512dd",
   "outputs": [],
   "execution_count": 105
  },
  {
   "metadata": {
    "ExecuteTime": {
     "end_time": "2025-10-19T21:30:30.779149Z",
     "start_time": "2025-10-19T21:30:30.773639Z"
    }
   },
   "cell_type": "code",
   "source": "bronze_df_el_excelsior.shape",
   "id": "61acd0ff67ec6278",
   "outputs": [
    {
     "data": {
      "text/plain": [
       "(656, 9)"
      ]
     },
     "execution_count": 106,
     "metadata": {},
     "output_type": "execute_result"
    }
   ],
   "execution_count": 106
  },
  {
   "metadata": {},
   "cell_type": "markdown",
   "source": "### 4.2.4 El Excelsior Eliminar Columnas Innecesarias",
   "id": "abcf99146e6b7df0"
  },
  {
   "metadata": {
    "ExecuteTime": {
     "end_time": "2025-10-19T21:30:30.788177Z",
     "start_time": "2025-10-19T21:30:30.784664Z"
    }
   },
   "cell_type": "code",
   "source": "columns_to_keep = ['title', 'article_header', 'category', 'content']",
   "id": "98239f5faab4850",
   "outputs": [],
   "execution_count": 107
  },
  {
   "metadata": {
    "ExecuteTime": {
     "end_time": "2025-10-19T21:30:30.799387Z",
     "start_time": "2025-10-19T21:30:30.794204Z"
    }
   },
   "cell_type": "code",
   "source": "bronze_df_el_excelsior = bronze_df_el_excelsior[columns_to_keep]",
   "id": "db00c3fb25da823a",
   "outputs": [],
   "execution_count": 108
  },
  {
   "metadata": {},
   "cell_type": "markdown",
   "source": "### 4.2.6 El Excelsior Ingeniería de Características",
   "id": "34f91b05b5e947f9"
  },
  {
   "metadata": {
    "ExecuteTime": {
     "end_time": "2025-10-19T21:30:30.807629Z",
     "start_time": "2025-10-19T21:30:30.803392Z"
    }
   },
   "cell_type": "code",
   "source": "bronze_df_el_excelsior[\"country\"] = \"Mexico\"",
   "id": "8d10195dfcf938a3",
   "outputs": [],
   "execution_count": 109
  },
  {
   "metadata": {
    "ExecuteTime": {
     "end_time": "2025-10-19T21:30:30.814969Z",
     "start_time": "2025-10-19T21:30:30.812141Z"
    }
   },
   "cell_type": "code",
   "source": "bronze_df_el_excelsior[\"newspaper\"] = \"El Excelsior\"",
   "id": "99eb288b009591b5",
   "outputs": [],
   "execution_count": 110
  },
  {
   "metadata": {
    "ExecuteTime": {
     "end_time": "2025-10-19T21:30:30.827054Z",
     "start_time": "2025-10-19T21:30:30.820649Z"
    }
   },
   "cell_type": "code",
   "source": "bronze_df_el_excelsior.head()",
   "id": "3ea5b59885fe7394",
   "outputs": [
    {
     "data": {
      "text/plain": [
       "                                               title  \\\n",
       "0  Grupo de exmandatarios regionales convocó a pr...   \n",
       "1  ¿Consulta 2.0? Gobierno Petro analiza vías par...   \n",
       "2  Galán, Peñalosa, Oviedo y Luna continúan acerc...   \n",
       "3  Senado no sesionará esta semana y Cámara manti...   \n",
       "4  Identifican al soldado muerto en ataque del El...   \n",
       "\n",
       "                                      article_header  category  \\\n",
       "0  Los integrantes de Fuerza de las Regiones envi...  politica   \n",
       "1  El ministro del Interior, Armando Benedetti, a...  politica   \n",
       "2  Los precandidatos “independientes” se encontra...  politica   \n",
       "3  Varios proyectos están pendientes de debate, e...  politica   \n",
       "4  El hecho ocurrió en horas de la tarde de este ...  judicial   \n",
       "\n",
       "                                             content country     newspaper  \n",
       "0  El grupo de exmandatarios regionales conocido ...  Mexico  El Excelsior  \n",
       "1  Audio generado con IA de Google\\n0:00\\n/\\n0:00...  Mexico  El Excelsior  \n",
       "2  Audio generado con IA de Google\\n0:00\\n/\\n0:00...  Mexico  El Excelsior  \n",
       "3  Audio generado con IA de Google\\n0:00\\n/\\n0:00...  Mexico  El Excelsior  \n",
       "4  Audio generado con IA de Google\\n0:00\\n/\\n0:00...  Mexico  El Excelsior  "
      ],
      "text/html": [
       "<div>\n",
       "<style scoped>\n",
       "    .dataframe tbody tr th:only-of-type {\n",
       "        vertical-align: middle;\n",
       "    }\n",
       "\n",
       "    .dataframe tbody tr th {\n",
       "        vertical-align: top;\n",
       "    }\n",
       "\n",
       "    .dataframe thead th {\n",
       "        text-align: right;\n",
       "    }\n",
       "</style>\n",
       "<table border=\"1\" class=\"dataframe\">\n",
       "  <thead>\n",
       "    <tr style=\"text-align: right;\">\n",
       "      <th></th>\n",
       "      <th>title</th>\n",
       "      <th>article_header</th>\n",
       "      <th>category</th>\n",
       "      <th>content</th>\n",
       "      <th>country</th>\n",
       "      <th>newspaper</th>\n",
       "    </tr>\n",
       "  </thead>\n",
       "  <tbody>\n",
       "    <tr>\n",
       "      <th>0</th>\n",
       "      <td>Grupo de exmandatarios regionales convocó a pr...</td>\n",
       "      <td>Los integrantes de Fuerza de las Regiones envi...</td>\n",
       "      <td>politica</td>\n",
       "      <td>El grupo de exmandatarios regionales conocido ...</td>\n",
       "      <td>Mexico</td>\n",
       "      <td>El Excelsior</td>\n",
       "    </tr>\n",
       "    <tr>\n",
       "      <th>1</th>\n",
       "      <td>¿Consulta 2.0? Gobierno Petro analiza vías par...</td>\n",
       "      <td>El ministro del Interior, Armando Benedetti, a...</td>\n",
       "      <td>politica</td>\n",
       "      <td>Audio generado con IA de Google\\n0:00\\n/\\n0:00...</td>\n",
       "      <td>Mexico</td>\n",
       "      <td>El Excelsior</td>\n",
       "    </tr>\n",
       "    <tr>\n",
       "      <th>2</th>\n",
       "      <td>Galán, Peñalosa, Oviedo y Luna continúan acerc...</td>\n",
       "      <td>Los precandidatos “independientes” se encontra...</td>\n",
       "      <td>politica</td>\n",
       "      <td>Audio generado con IA de Google\\n0:00\\n/\\n0:00...</td>\n",
       "      <td>Mexico</td>\n",
       "      <td>El Excelsior</td>\n",
       "    </tr>\n",
       "    <tr>\n",
       "      <th>3</th>\n",
       "      <td>Senado no sesionará esta semana y Cámara manti...</td>\n",
       "      <td>Varios proyectos están pendientes de debate, e...</td>\n",
       "      <td>politica</td>\n",
       "      <td>Audio generado con IA de Google\\n0:00\\n/\\n0:00...</td>\n",
       "      <td>Mexico</td>\n",
       "      <td>El Excelsior</td>\n",
       "    </tr>\n",
       "    <tr>\n",
       "      <th>4</th>\n",
       "      <td>Identifican al soldado muerto en ataque del El...</td>\n",
       "      <td>El hecho ocurrió en horas de la tarde de este ...</td>\n",
       "      <td>judicial</td>\n",
       "      <td>Audio generado con IA de Google\\n0:00\\n/\\n0:00...</td>\n",
       "      <td>Mexico</td>\n",
       "      <td>El Excelsior</td>\n",
       "    </tr>\n",
       "  </tbody>\n",
       "</table>\n",
       "</div>"
      ]
     },
     "execution_count": 111,
     "metadata": {},
     "output_type": "execute_result"
    }
   ],
   "execution_count": 111
  },
  {
   "metadata": {
    "ExecuteTime": {
     "end_time": "2025-10-19T21:30:30.837574Z",
     "start_time": "2025-10-19T21:30:30.833573Z"
    }
   },
   "cell_type": "code",
   "source": "bronze_df_el_excelsior[\"content\"][1]",
   "id": "cbbbaeec7418aaaa",
   "outputs": [
    {
     "data": {
      "text/plain": [
       "'Audio generado con IA de Google\\n0:00\\n/\\n0:00\\nEn la semana en la que no habrá, todavía, una decisión sobre la reforma a la salud del gobierno de Gustavo Petro en la Comisión Séptima del Senado, se está ventilando la posibilidad de una consulta popular 2.0. La idea no vendría de la Casa de Nariño, sino de proyectos políticos afines que quieren mover el articulado.\\nAsí lo ha dicho el ministro del Interior, Armando Benedetti, quien ha señalado que el proyecto lleva cinco meses sin votarse en esa célula legislativa. De acuerdo con él, “dos dirigentes políticos que no hacen parte del Gobierno, que no [le] han autorizado decir sus nombres, apoyarían una consulta popular y sería sobre la reforma a la salud\".\\nSugerimos: Grupo de exmandatarios regionales convocó a precandidatos “independientes” a una consulta\\n“Llevamos cinco meses en que la reforma llegó a la Comisión Séptima de Senado y no se ha debatido nada. La vez pasada hundieron de forma rápida y burda la laboral, y esta vez la estrategia es dilatar”, dijo en su cuenta de X.\\nLe puede interesar: Santos calificó paz total como “fracaso”: “No han hecho nada en implementación del Acuerdo”\\nAunque reconoció que es una idea que no se ha descartado, también aseguró que lo que sí se ha propuesto en reiteradas ocasiones desde el Ejecutivo es una constituyente. El mismo jefe de Estado ha dicho que no sería este Congreso el que votaría la convocatoria, que sería para “profundizar las reformas sociales”.\\nDesde la Casa de Nariño mantienen que no trata de una “amenaza” para el Legislativo, pues es el llamado a la población para decidir sobre los proyectos que impulsa el “Gobierno del cambio”. Eso sí, han enfatizado en que el Capitolio sigue bloqueando las iniciativas oficialistas.\\nLea también: Exfiscal Barbosa se aparta de la carrera presidencial, pero más nombres se sumaron\\nSe esperaba que el pasado miércoles la Comisión Séptima comenzara a tomar decisiones sobre la reforma, pero la sesión fue aplazada y no tiene fecha para retomar el debate. Son tres ponencias las que aguardan decisión: la negativa del Centro Democrático, la positiva del Pacto Histórico y la alternativa, presentada por la senadora Norma Hurtado (Partido de la U).\\n👁\\u200d🗨 Conozca cómo votan los senadores y representantes a la Cámara en ‘Congreso a la mano’.\\n👉 Lea más sobre el Congreso, el gobierno Petro y otras noticias del mundo político.\\n✉️ Si tiene interés en los temas políticos o información que considere oportuno compartirnos, por favor, escríbanos a cualquiera de estos correos: hvalero@elespectador.com; aosorio@elespectador.com; dortega@elespectador.com; dcristancho@elespectador.com; mbarrios@elespectador.com ; lbotero@elespectador.com o lperalta@elespectador.com.'"
      ]
     },
     "execution_count": 112,
     "metadata": {},
     "output_type": "execute_result"
    }
   ],
   "execution_count": 112
  },
  {
   "metadata": {
    "ExecuteTime": {
     "end_time": "2025-10-19T21:30:30.849618Z",
     "start_time": "2025-10-19T21:30:30.844588Z"
    }
   },
   "cell_type": "code",
   "source": "bronze_df_el_excelsior[\"content\"][2]",
   "id": "3d15f4298abb223b",
   "outputs": [
    {
     "data": {
      "text/plain": [
       "'Audio generado con IA de Google\\n0:00\\n/\\n0:00\\nEntre las reuniones que se están concretando desde varias orillas políticas para llegar unidos a las elecciones de 2026, habrá una este lunes entre quienes se definen como “independientes”. El encuentro reunirá a varios precandidatos que están recogiendo firmas, así como quienes ya contarían con el aval de un partido político.\\nAllí estarían el exalcalde de Bogotá Enrique Peñalosa, el exconcejal Juan Daniel Oviedo, el exministro Daniel Palacios y los exsenadores David Luna y Juan Manuel Galán, el único entre estos en tener el respaldo de un partido, el Nuevo Liberalismo. El resto están en el proceso de sumar apoyos para ratificar sus aspiraciones, algo que, según han dicho varias campañas, no ha sido nada fácil.\\nSugerimos: ¿Consulta 2.0? Gobierno Petro analiza vías para destrabar la reforma a la salud\\nEl encuentro ocurre, además, después de una invitación que llegó a varios de ellos por parte de Fuerza de las Regiones. La propuesta que se hizo desde el movimiento de exmandatarios regionales es la de una consulta conjunta el 8 de marzo entre candidatos independientes para lograr la unidad.\\nAsí, entre Aníbal Gaviria, Juan Guillermo Zuluaga, Héctor Olimpo Espinosa y Juan Carlos Cárdenas se escogería un precandidato antes del próximo 30 de noviembre para que compita contra el resto de aspirantes presidenciales.\\nLe puede interesar: Grupo de exmandatarios regionales convocó a precandidatos “independientes” a una consulta\\nDesde marzo se ha hablado de los acercamientos que tienen en curso Peñalosa, Oviedo, Luna y Galán, que ya se han reunido para construir una coalición que represente una alternativa política independiente para el país. Aunque todavía no se ha llegado a acuerdos definitivos, la idea sí fue, desde ese entonces, tener un candidato único.\\nEn todo caso, quienes están en proceso de recolección de firmas deberán presentarlas ante la Registraduría para el 17 de diciembre, cuando vence el plazo. A partir de esa fecha comenzará la “depuración” de la lista de precandidatos que ya superó las 100 personas.\\n👁\\u200d🗨 Conozca cómo votan los senadores y representantes a la Cámara en ‘Congreso a la mano’.\\n👉 Lea más sobre el Congreso, el gobierno Petro y otras noticias del mundo político.\\n✉️ Si tiene interés en los temas políticos o información que considere oportuno compartirnos, por favor, escríbanos a cualquiera de estos correos: hvalero@elespectador.com; aosorio@elespectador.com; dortega@elespectador.com; dcristancho@elespectador.com; mbarrios@elespectador.com ; lbotero@elespectador.com o lperalta@elespectador.com.'"
      ]
     },
     "execution_count": 113,
     "metadata": {},
     "output_type": "execute_result"
    }
   ],
   "execution_count": 113
  },
  {
   "metadata": {
    "ExecuteTime": {
     "end_time": "2025-10-19T21:30:30.866607Z",
     "start_time": "2025-10-19T21:30:30.861152Z"
    }
   },
   "cell_type": "code",
   "source": [
    "bronze_df_el_excelsior[\"content\"] = (\n",
    "    bronze_df_el_excelsior[\"article_header\"].fillna('') + \". \" +\n",
    "    bronze_df_el_excelsior[\"content\"].fillna('')\n",
    ")"
   ],
   "id": "8fec97f07472752c",
   "outputs": [],
   "execution_count": 114
  },
  {
   "metadata": {
    "ExecuteTime": {
     "end_time": "2025-10-19T21:30:30.888365Z",
     "start_time": "2025-10-19T21:30:30.883366Z"
    }
   },
   "cell_type": "code",
   "source": "bronze_df_el_excelsior[\"content\"][2]",
   "id": "8c820b29cc786bb5",
   "outputs": [
    {
     "data": {
      "text/plain": [
       "'Los precandidatos “independientes” se encontrarán para seguir analizando los caminos para llegar juntos a las elecciones presidenciales. Entre ellos, varios están recogiendo firmas y tendrán que presentarlas antes del 17 de diciembre ante la Registraduría.. Audio generado con IA de Google\\n0:00\\n/\\n0:00\\nEntre las reuniones que se están concretando desde varias orillas políticas para llegar unidos a las elecciones de 2026, habrá una este lunes entre quienes se definen como “independientes”. El encuentro reunirá a varios precandidatos que están recogiendo firmas, así como quienes ya contarían con el aval de un partido político.\\nAllí estarían el exalcalde de Bogotá Enrique Peñalosa, el exconcejal Juan Daniel Oviedo, el exministro Daniel Palacios y los exsenadores David Luna y Juan Manuel Galán, el único entre estos en tener el respaldo de un partido, el Nuevo Liberalismo. El resto están en el proceso de sumar apoyos para ratificar sus aspiraciones, algo que, según han dicho varias campañas, no ha sido nada fácil.\\nSugerimos: ¿Consulta 2.0? Gobierno Petro analiza vías para destrabar la reforma a la salud\\nEl encuentro ocurre, además, después de una invitación que llegó a varios de ellos por parte de Fuerza de las Regiones. La propuesta que se hizo desde el movimiento de exmandatarios regionales es la de una consulta conjunta el 8 de marzo entre candidatos independientes para lograr la unidad.\\nAsí, entre Aníbal Gaviria, Juan Guillermo Zuluaga, Héctor Olimpo Espinosa y Juan Carlos Cárdenas se escogería un precandidato antes del próximo 30 de noviembre para que compita contra el resto de aspirantes presidenciales.\\nLe puede interesar: Grupo de exmandatarios regionales convocó a precandidatos “independientes” a una consulta\\nDesde marzo se ha hablado de los acercamientos que tienen en curso Peñalosa, Oviedo, Luna y Galán, que ya se han reunido para construir una coalición que represente una alternativa política independiente para el país. Aunque todavía no se ha llegado a acuerdos definitivos, la idea sí fue, desde ese entonces, tener un candidato único.\\nEn todo caso, quienes están en proceso de recolección de firmas deberán presentarlas ante la Registraduría para el 17 de diciembre, cuando vence el plazo. A partir de esa fecha comenzará la “depuración” de la lista de precandidatos que ya superó las 100 personas.\\n👁\\u200d🗨 Conozca cómo votan los senadores y representantes a la Cámara en ‘Congreso a la mano’.\\n👉 Lea más sobre el Congreso, el gobierno Petro y otras noticias del mundo político.\\n✉️ Si tiene interés en los temas políticos o información que considere oportuno compartirnos, por favor, escríbanos a cualquiera de estos correos: hvalero@elespectador.com; aosorio@elespectador.com; dortega@elespectador.com; dcristancho@elespectador.com; mbarrios@elespectador.com ; lbotero@elespectador.com o lperalta@elespectador.com.'"
      ]
     },
     "execution_count": 115,
     "metadata": {},
     "output_type": "execute_result"
    }
   ],
   "execution_count": 115
  },
  {
   "metadata": {
    "ExecuteTime": {
     "end_time": "2025-10-19T21:30:30.897980Z",
     "start_time": "2025-10-19T21:30:30.893907Z"
    }
   },
   "cell_type": "code",
   "source": "bronze_df_el_excelsior_standardized = bronze_df_el_excelsior[[\"title\",\"category\",\"content\",\"country\", \"newspaper\"]]",
   "id": "4549a38bfaa1ad12",
   "outputs": [],
   "execution_count": 116
  },
  {
   "metadata": {
    "ExecuteTime": {
     "end_time": "2025-10-19T21:30:30.911609Z",
     "start_time": "2025-10-19T21:30:30.903085Z"
    }
   },
   "cell_type": "code",
   "source": [
    "def clean_bronze_dataframe(\n",
    "    df: pd.DataFrame,\n",
    "    unique_column: str,\n",
    "    subscription_column: str = \"subscription\",\n",
    "    columns_to_keep: list = None,\n",
    "    country_name: str = \"Mexico\",\n",
    "    newspaper_name: str = \"El Excelsior\",\n",
    "):\n",
    "    \"\"\"\n",
    "    Cleans a Bronze-level DataFrame with optimized order:\n",
    "    1. Removes subscription rows.\n",
    "    2. Keeps only relevant columns.\n",
    "    3. Removes duplicates.\n",
    "    4. Reports missing values.\n",
    "    5. Adds country column.\n",
    "    6. Combines article header and content.\n",
    "    7. Removes article_header and url columns at the end.\n",
    "\n",
    "    Parameters:\n",
    "        df (pd.DataFrame): Input DataFrame.\n",
    "        unique_column (str): Column used to identify duplicates.\n",
    "        subscription_column (str): Column used to filter subscription-related rows.\n",
    "        columns_to_keep (list): Columns to retain.\n",
    "        country_name (str): Country value to add.\n",
    "\n",
    "    Returns:\n",
    "        pd.DataFrame: Cleaned DataFrame ready for Silver layer.\n",
    "    \"\"\"\n",
    "\n",
    "    # --- 1️⃣ Handle subscription column early ---\n",
    "    if subscription_column in df.columns:\n",
    "        before_rows = len(df)\n",
    "        df = df[df[subscription_column].isnull()]\n",
    "        df = df.drop(columns=[subscription_column])\n",
    "        print(f\"Removed {before_rows - len(df)} rows with subscription data.\")\n",
    "        print(f\"Dropped '{subscription_column}' column.\")\n",
    "    else:\n",
    "        print(f\"No '{subscription_column}' column found — skipping step.\")\n",
    "\n",
    "    # --- 2️⃣ Keep only selected columns ---\n",
    "    if columns_to_keep is not None:\n",
    "        existing_cols = [col for col in columns_to_keep if col in df.columns]\n",
    "        missing_cols = set(columns_to_keep) - set(existing_cols)\n",
    "        if missing_cols:\n",
    "            print(f\"⚠️ Warning: Missing columns not found: {missing_cols}\")\n",
    "        df = df[existing_cols]\n",
    "        print(f\"Reduced DataFrame to {len(existing_cols)} columns.\")\n",
    "\n",
    "    # --- 3️⃣ Remove duplicates ---\n",
    "    if unique_column in df.columns:\n",
    "        num_duplicates = df.duplicated(subset=[unique_column]).sum()\n",
    "        print(f\"Number of duplicate '{unique_column}': {num_duplicates}\")\n",
    "        df = df.drop_duplicates(subset=[unique_column], keep=\"first\").reset_index(drop=True)\n",
    "    else:\n",
    "        print(f\"⚠️ '{unique_column}' column not found — skipping duplicate check.\")\n",
    "\n",
    "    # --- 4️⃣ Missing values report ---\n",
    "    has_missing = df.isnull().values.any()\n",
    "    print(f\"Missing values present?: {has_missing}\")\n",
    "\n",
    "    if has_missing:\n",
    "        missing_report = pd.DataFrame({\n",
    "            \"missing_count\": df.isnull().sum(),\n",
    "            \"missing_percent\": (df.isnull().sum() / len(df)) * 100\n",
    "        }).query(\"missing_count > 0\").sort_values(\"missing_percent\", ascending=False)\n",
    "\n",
    "        print(\"📊 Missing Values Summary:\")\n",
    "        display(missing_report)\n",
    "\n",
    "    # --- 5️⃣ Add country column ---\n",
    "    df[\"country\"] = country_name\n",
    "    df[\"newspaper\"] = newspaper_name\n",
    "\n",
    "    # --- 6️⃣ Combine article header + content ---\n",
    "    if \"article_header\" in df.columns and \"content\" in df.columns:\n",
    "        df[\"content\"] = (\n",
    "            df[\"article_header\"].fillna('') + \". \" + df[\"content\"].fillna('')\n",
    "        )\n",
    "\n",
    "    # --- 7️⃣ Remove article_header and url columns ---\n",
    "    for col in [\"article_header\", \"url\"]:\n",
    "        if col in df.columns:\n",
    "            df = df.drop(columns=[col])\n",
    "            print(f\"Dropped '{col}' column.\")\n",
    "\n",
    "    print(\"✅ DataFrame cleaning complete.\")\n",
    "    return df\n"
   ],
   "id": "476fd2380c66b497",
   "outputs": [],
   "execution_count": 117
  },
  {
   "metadata": {},
   "cell_type": "markdown",
   "source": "## 4.3 La Jornada",
   "id": "eb0760fa51d61768"
  },
  {
   "metadata": {
    "ExecuteTime": {
     "end_time": "2025-10-19T21:30:30.925806Z",
     "start_time": "2025-10-19T21:30:30.918656Z"
    }
   },
   "cell_type": "code",
   "source": [
    "columns_to_keep = ['url', 'title', 'article_header', 'category', 'content']\n",
    "\n",
    "bronze_df_la_jornada_standardized = clean_bronze_dataframe(\n",
    "    df=bronze_df_la_jornada,\n",
    "    unique_column=\"url\",\n",
    "    subscription_column=\"subscription\",\n",
    "    columns_to_keep=columns_to_keep,\n",
    "    country_name=\"Mexico\",\n",
    "    newspaper_name = \"La Jornada\"\n",
    ")"
   ],
   "id": "e9d11511dd1a487c",
   "outputs": [
    {
     "name": "stdout",
     "output_type": "stream",
     "text": [
      "No 'subscription' column found — skipping step.\n",
      "Reduced DataFrame to 5 columns.\n",
      "Number of duplicate 'url': 0\n",
      "Missing values present?: False\n",
      "Dropped 'article_header' column.\n",
      "Dropped 'url' column.\n",
      "✅ DataFrame cleaning complete.\n"
     ]
    }
   ],
   "execution_count": 118
  },
  {
   "metadata": {
    "ExecuteTime": {
     "end_time": "2025-10-19T21:30:30.938327Z",
     "start_time": "2025-10-19T21:30:30.933322Z"
    }
   },
   "cell_type": "code",
   "source": "bronze_df_la_jornada_standardized[\"content\"][1]",
   "id": "38a621e57d24e4f8",
   "outputs": [
    {
     "data": {
      "text/plain": [
       "\". Campeche, Campeche . “México no es piñata de nadie”, subrayó la presidenta Claudia Sheinbaum Pardo al referirse a los políticos estadunidenses que, con objetivos electoreros, hablan mal de nuestro país.\\xa0 Y, en línea con ese señalamiento, la mandataria rubricó: “Que se dediquen a hablar de su país, que bastantes problemas tiene. Que no utilicen a México para hacer la campaña, porque México les da muchas clases a los Estados Unidos en muchas cosas”. La jefa del Ejecutivo se refirió al tema durante el acto que encabezó en esta ciudad, donde puso en marcha el programa de vivienda en Campeche.\\xa0 “Hay que decir que en nuestra relación con los Estados Unidos, México no es piñata de nadie, que si quieren… porque no sé si saben, pero en Estados Unidos el próximo año va a haber elecciones para muchos gobiernos estatales.\\xa0 “Entonces, que se dediquen a hablar de su país, que bastantes problemas tiene. Que no utilicen a México para hacer la campaña, porque México les da muchas clases a los Estados Unidos en muchas cosas: en valores, en ética, en desarrollo, en muchas”, enfatizó.\\xa0 Ante decenas de personas —algunos de ellos se manifestaron porque la jornada de trabajo se reduzcámosla a 40 horas semanales—, Sheinbaum Pardo recordó que con una de las primeras comunicaciones telefónicas que tuvo con su par estadunidense, Donald Trump, hablaron de la crisis de consumo de drogas en el vecino del norte.\\xa0 “Él me preguntó: 'oiga, ¿y en México se consumen drogas?’. Y le dije: ‘bueno, sí tenemos un problema de adicciones, pero no del tamaño del que tiene Estados Unidos’. De hecho, él lo ha dicho públicamente: ‘Estados Unidos es un gran consumidor de drogas’.\\xa0 “Sí —siguió la presidenta— tenemos que atender y para eso estamos trabajando, pero allá pues tienen el problema mayor”. Narró que el magnate preguntó por qué en México no existía ese problema, a lo que Sheinbaum respondió: “Y le dije, es que las familias mexicanas tenemos muchos valores, nos cuidamos entre nosotros, nos protegemos. Y además, pues le platiqué de una campaña que inició con el presidente (Andrés Manuel) López Obrador y que ahora estamos desarrollando en contra del consumo de las drogas”. Frente a ello —y en el marco de la nueva geopolítica bilateral con la Casa Blanca—, la titular el Ejecutivo acentuó que los mexicanos deben sentirse orgullosos. “Porque además, hoy más que nunca, el pueblo de México con la cuarta transformación recuperó su dignidad y su fuerza. Y nadie nunca se la puede quitar”.\""
      ]
     },
     "execution_count": 119,
     "metadata": {},
     "output_type": "execute_result"
    }
   ],
   "execution_count": 119
  },
  {
   "metadata": {
    "ExecuteTime": {
     "end_time": "2025-10-19T21:30:30.952773Z",
     "start_time": "2025-10-19T21:30:30.946879Z"
    }
   },
   "cell_type": "code",
   "source": "bronze_df_la_jornada_standardized[\"category\"].value_counts()",
   "id": "187fb76888b7df54",
   "outputs": [
    {
     "data": {
      "text/plain": [
       "category\n",
       "politica    99\n",
       "economia    99\n",
       "cultura     97\n",
       "mundo       97\n",
       "Name: count, dtype: int64"
      ]
     },
     "execution_count": 120,
     "metadata": {},
     "output_type": "execute_result"
    }
   ],
   "execution_count": 120
  },
  {
   "metadata": {
    "ExecuteTime": {
     "end_time": "2025-10-19T21:30:30.963105Z",
     "start_time": "2025-10-19T21:30:30.958793Z"
    }
   },
   "cell_type": "code",
   "source": [
    "bronze_df_la_jornada_standardized[\"category\"] = bronze_df_la_jornada_standardized[\"category\"].replace({\n",
    "    \"politica\": \"Politica\",\n",
    "    \"economia\": \"Economica\",\n",
    "    \"mundo\": \"Internacional\",\n",
    "    \"cultura\": \"Cultura\"\n",
    "})"
   ],
   "id": "470506f414c26aa",
   "outputs": [],
   "execution_count": 121
  },
  {
   "metadata": {
    "ExecuteTime": {
     "end_time": "2025-10-19T21:30:30.975053Z",
     "start_time": "2025-10-19T21:30:30.969622Z"
    }
   },
   "cell_type": "code",
   "source": "bronze_df_la_jornada_standardized[\"category\"].value_counts()",
   "id": "35b2460478c1ebe4",
   "outputs": [
    {
     "data": {
      "text/plain": [
       "category\n",
       "Politica         99\n",
       "Economica        99\n",
       "Cultura          97\n",
       "Internacional    97\n",
       "Name: count, dtype: int64"
      ]
     },
     "execution_count": 122,
     "metadata": {},
     "output_type": "execute_result"
    }
   ],
   "execution_count": 122
  },
  {
   "metadata": {},
   "cell_type": "markdown",
   "source": "## 4.4 El Colombiano",
   "id": "80a738fb7f17f63c"
  },
  {
   "metadata": {
    "ExecuteTime": {
     "end_time": "2025-10-19T21:30:31.003608Z",
     "start_time": "2025-10-19T21:30:30.983575Z"
    }
   },
   "cell_type": "code",
   "source": [
    "columns_to_keep = ['url', 'title', 'article_header', 'category', 'sub_category', 'content']\n",
    "\n",
    "bronze_df_el_colombiano_standardized = clean_bronze_dataframe(\n",
    "    df=bronze_df_el_colombiano,\n",
    "    unique_column=\"url\",\n",
    "    subscription_column=\"subscription\",\n",
    "    columns_to_keep=columns_to_keep,\n",
    "    country_name=\"Colombia\",\n",
    "    newspaper_name = \"La El Colombiano\"\n",
    ")"
   ],
   "id": "2784882a8922e2ca",
   "outputs": [
    {
     "name": "stdout",
     "output_type": "stream",
     "text": [
      "No 'subscription' column found — skipping step.\n",
      "Reduced DataFrame to 6 columns.\n",
      "Number of duplicate 'url': 0\n",
      "Missing values present?: True\n",
      "📊 Missing Values Summary:\n"
     ]
    },
    {
     "data": {
      "text/plain": [
       "                missing_count  missing_percent\n",
       "article_header              5         0.461681"
      ],
      "text/html": [
       "<div>\n",
       "<style scoped>\n",
       "    .dataframe tbody tr th:only-of-type {\n",
       "        vertical-align: middle;\n",
       "    }\n",
       "\n",
       "    .dataframe tbody tr th {\n",
       "        vertical-align: top;\n",
       "    }\n",
       "\n",
       "    .dataframe thead th {\n",
       "        text-align: right;\n",
       "    }\n",
       "</style>\n",
       "<table border=\"1\" class=\"dataframe\">\n",
       "  <thead>\n",
       "    <tr style=\"text-align: right;\">\n",
       "      <th></th>\n",
       "      <th>missing_count</th>\n",
       "      <th>missing_percent</th>\n",
       "    </tr>\n",
       "  </thead>\n",
       "  <tbody>\n",
       "    <tr>\n",
       "      <th>article_header</th>\n",
       "      <td>5</td>\n",
       "      <td>0.461681</td>\n",
       "    </tr>\n",
       "  </tbody>\n",
       "</table>\n",
       "</div>"
      ]
     },
     "metadata": {},
     "output_type": "display_data"
    },
    {
     "name": "stdout",
     "output_type": "stream",
     "text": [
      "Dropped 'article_header' column.\n",
      "Dropped 'url' column.\n",
      "✅ DataFrame cleaning complete.\n"
     ]
    }
   ],
   "execution_count": 123
  },
  {
   "metadata": {
    "ExecuteTime": {
     "end_time": "2025-10-19T21:30:31.018550Z",
     "start_time": "2025-10-19T21:30:31.011048Z"
    }
   },
   "cell_type": "code",
   "source": "bronze_df_el_colombiano_standardized.head()",
   "id": "a39ee58fb26acccb",
   "outputs": [
    {
     "data": {
      "text/plain": [
       "                                               title        category  \\\n",
       "0  Vuelve y juega: CNE pospone discusión sobre pr...        Colombia   \n",
       "1  Gloria Flórez, senadora y presidenta de Colomb...        Colombia   \n",
       "2  Centro Democrático interpondrá acción popular ...        Colombia   \n",
       "3  Fact check: los datos falsos de Petro contra T...        Colombia   \n",
       "4  EE. UU. rechaza los cambios que hizo la OMS pa...  Estados Unidos   \n",
       "\n",
       "  sub_category                                            content   country  \\\n",
       "0     politica  La Sala Plena volvió a aplazar la votación sob...  Colombia   \n",
       "1     politica  La congresista era precandidato presidencial, ...  Colombia   \n",
       "2     politica  El objetivo de esta acción, según el partido p...  Colombia   \n",
       "3     politica  Petro se demoró dos días para responderle a EE...  Colombia   \n",
       "4        salud  El presidente Donald Trump hizo campaña en 202...  Colombia   \n",
       "\n",
       "          newspaper  \n",
       "0  La El Colombiano  \n",
       "1  La El Colombiano  \n",
       "2  La El Colombiano  \n",
       "3  La El Colombiano  \n",
       "4  La El Colombiano  "
      ],
      "text/html": [
       "<div>\n",
       "<style scoped>\n",
       "    .dataframe tbody tr th:only-of-type {\n",
       "        vertical-align: middle;\n",
       "    }\n",
       "\n",
       "    .dataframe tbody tr th {\n",
       "        vertical-align: top;\n",
       "    }\n",
       "\n",
       "    .dataframe thead th {\n",
       "        text-align: right;\n",
       "    }\n",
       "</style>\n",
       "<table border=\"1\" class=\"dataframe\">\n",
       "  <thead>\n",
       "    <tr style=\"text-align: right;\">\n",
       "      <th></th>\n",
       "      <th>title</th>\n",
       "      <th>category</th>\n",
       "      <th>sub_category</th>\n",
       "      <th>content</th>\n",
       "      <th>country</th>\n",
       "      <th>newspaper</th>\n",
       "    </tr>\n",
       "  </thead>\n",
       "  <tbody>\n",
       "    <tr>\n",
       "      <th>0</th>\n",
       "      <td>Vuelve y juega: CNE pospone discusión sobre pr...</td>\n",
       "      <td>Colombia</td>\n",
       "      <td>politica</td>\n",
       "      <td>La Sala Plena volvió a aplazar la votación sob...</td>\n",
       "      <td>Colombia</td>\n",
       "      <td>La El Colombiano</td>\n",
       "    </tr>\n",
       "    <tr>\n",
       "      <th>1</th>\n",
       "      <td>Gloria Flórez, senadora y presidenta de Colomb...</td>\n",
       "      <td>Colombia</td>\n",
       "      <td>politica</td>\n",
       "      <td>La congresista era precandidato presidencial, ...</td>\n",
       "      <td>Colombia</td>\n",
       "      <td>La El Colombiano</td>\n",
       "    </tr>\n",
       "    <tr>\n",
       "      <th>2</th>\n",
       "      <td>Centro Democrático interpondrá acción popular ...</td>\n",
       "      <td>Colombia</td>\n",
       "      <td>politica</td>\n",
       "      <td>El objetivo de esta acción, según el partido p...</td>\n",
       "      <td>Colombia</td>\n",
       "      <td>La El Colombiano</td>\n",
       "    </tr>\n",
       "    <tr>\n",
       "      <th>3</th>\n",
       "      <td>Fact check: los datos falsos de Petro contra T...</td>\n",
       "      <td>Colombia</td>\n",
       "      <td>politica</td>\n",
       "      <td>Petro se demoró dos días para responderle a EE...</td>\n",
       "      <td>Colombia</td>\n",
       "      <td>La El Colombiano</td>\n",
       "    </tr>\n",
       "    <tr>\n",
       "      <th>4</th>\n",
       "      <td>EE. UU. rechaza los cambios que hizo la OMS pa...</td>\n",
       "      <td>Estados Unidos</td>\n",
       "      <td>salud</td>\n",
       "      <td>El presidente Donald Trump hizo campaña en 202...</td>\n",
       "      <td>Colombia</td>\n",
       "      <td>La El Colombiano</td>\n",
       "    </tr>\n",
       "  </tbody>\n",
       "</table>\n",
       "</div>"
      ]
     },
     "execution_count": 124,
     "metadata": {},
     "output_type": "execute_result"
    }
   ],
   "execution_count": 124
  },
  {
   "metadata": {
    "ExecuteTime": {
     "end_time": "2025-10-19T21:30:31.031604Z",
     "start_time": "2025-10-19T21:30:31.025563Z"
    }
   },
   "cell_type": "code",
   "source": "bronze_df_el_colombiano_standardized[\"category\"].value_counts()",
   "id": "d7c93accbe422918",
   "outputs": [
    {
     "data": {
      "text/plain": [
       "category\n",
       "Mundo                    295\n",
       "Colombia                 149\n",
       "Economía                 138\n",
       "Empleos                  106\n",
       "Cultura                   74\n",
       "Cine                      65\n",
       "Salud                     57\n",
       "Literatura                54\n",
       "Finanzas                  25\n",
       "Agro                      23\n",
       "Educación                 22\n",
       "Política                  12\n",
       "Tendencias                10\n",
       "Estados Unidos             9\n",
       "Europa                     9\n",
       "Tecnología                 7\n",
       "Medio Oriente              5\n",
       "Venezuela                  4\n",
       "Fútbol                     4\n",
       "Empresas                   4\n",
       "Entretenimiento            3\n",
       "Medellín                   2\n",
       "Antioquia                  2\n",
       "Televisión                 1\n",
       "Deportes                   1\n",
       "Empleos El Colombiano      1\n",
       "Qué me funcionó            1\n",
       "Name: count, dtype: int64"
      ]
     },
     "execution_count": 125,
     "metadata": {},
     "output_type": "execute_result"
    }
   ],
   "execution_count": 125
  },
  {
   "metadata": {
    "ExecuteTime": {
     "end_time": "2025-10-19T21:30:31.045260Z",
     "start_time": "2025-10-19T21:30:31.040171Z"
    }
   },
   "cell_type": "code",
   "source": "bronze_df_el_colombiano_standardized[\"sub_category\"].value_counts()",
   "id": "3289abf1cc7831f5",
   "outputs": [
    {
     "data": {
      "text/plain": [
       "sub_category\n",
       "empresas         99\n",
       "literatura       99\n",
       "cine             99\n",
       "agro             97\n",
       "politica         96\n",
       "europa           93\n",
       "eeuu             92\n",
       "salud            92\n",
       "educacion        88\n",
       "medio-oriente    84\n",
       "venezuela        79\n",
       "finanzas         65\n",
       "Name: count, dtype: int64"
      ]
     },
     "execution_count": 126,
     "metadata": {},
     "output_type": "execute_result"
    }
   ],
   "execution_count": 126
  },
  {
   "metadata": {
    "ExecuteTime": {
     "end_time": "2025-10-19T21:30:31.057994Z",
     "start_time": "2025-10-19T21:30:31.051774Z"
    }
   },
   "cell_type": "code",
   "source": [
    "bronze_df_el_colombiano_standardized[\"sub_category\"] = bronze_df_el_colombiano_standardized[\"sub_category\"].replace({\n",
    "    \"politica\": \"Politica\",\n",
    "    \"empresas\": \"Economica\",\n",
    "    \"finanzas\": \"Economica\",\n",
    "    \"educacion\": \"Economica\",\n",
    "    \"agro\": \"Economica\",\n",
    "    \"europa\": \"Internacional\",\n",
    "    \"eeuu\": \"Internacional\",\n",
    "    \"medio-oriente\": \"Internacional\",\n",
    "    \"venezuela\": \"Internacional\",\n",
    "    \"salud\": \"Salud\",\n",
    "    \"cine\": \"Cultura\",\n",
    "    \"literatura\": \"Cultura\",\n",
    "})"
   ],
   "id": "ea2882cc97ca7c47",
   "outputs": [],
   "execution_count": 127
  },
  {
   "metadata": {
    "ExecuteTime": {
     "end_time": "2025-10-19T21:30:31.070250Z",
     "start_time": "2025-10-19T21:30:31.064509Z"
    }
   },
   "cell_type": "code",
   "source": "bronze_df_el_colombiano_standardized[\"sub_category\"].value_counts()",
   "id": "5195a5c037b502d8",
   "outputs": [
    {
     "data": {
      "text/plain": [
       "sub_category\n",
       "Economica        349\n",
       "Internacional    348\n",
       "Cultura          198\n",
       "Politica          96\n",
       "Salud             92\n",
       "Name: count, dtype: int64"
      ]
     },
     "execution_count": 128,
     "metadata": {},
     "output_type": "execute_result"
    }
   ],
   "execution_count": 128
  },
  {
   "metadata": {
    "ExecuteTime": {
     "end_time": "2025-10-19T21:30:31.079944Z",
     "start_time": "2025-10-19T21:30:31.076256Z"
    }
   },
   "cell_type": "code",
   "source": [
    "# Replace values in 'category' with those from 'sub_category'\n",
    "bronze_df_el_colombiano_standardized[\"category\"] = bronze_df_el_colombiano_standardized[\"sub_category\"]\n",
    "\n",
    "# Drop the 'sub_category' column\n",
    "bronze_df_el_colombiano_standardized = bronze_df_el_colombiano_standardized.drop(columns=[\"sub_category\"])"
   ],
   "id": "3d17efd765c73467",
   "outputs": [],
   "execution_count": 129
  },
  {
   "metadata": {
    "ExecuteTime": {
     "end_time": "2025-10-19T21:30:31.092280Z",
     "start_time": "2025-10-19T21:30:31.085949Z"
    }
   },
   "cell_type": "code",
   "source": "bronze_df_el_colombiano_standardized.head()",
   "id": "6314234925a7277f",
   "outputs": [
    {
     "data": {
      "text/plain": [
       "                                               title  category  \\\n",
       "0  Vuelve y juega: CNE pospone discusión sobre pr...  Politica   \n",
       "1  Gloria Flórez, senadora y presidenta de Colomb...  Politica   \n",
       "2  Centro Democrático interpondrá acción popular ...  Politica   \n",
       "3  Fact check: los datos falsos de Petro contra T...  Politica   \n",
       "4  EE. UU. rechaza los cambios que hizo la OMS pa...     Salud   \n",
       "\n",
       "                                             content   country  \\\n",
       "0  La Sala Plena volvió a aplazar la votación sob...  Colombia   \n",
       "1  La congresista era precandidato presidencial, ...  Colombia   \n",
       "2  El objetivo de esta acción, según el partido p...  Colombia   \n",
       "3  Petro se demoró dos días para responderle a EE...  Colombia   \n",
       "4  El presidente Donald Trump hizo campaña en 202...  Colombia   \n",
       "\n",
       "          newspaper  \n",
       "0  La El Colombiano  \n",
       "1  La El Colombiano  \n",
       "2  La El Colombiano  \n",
       "3  La El Colombiano  \n",
       "4  La El Colombiano  "
      ],
      "text/html": [
       "<div>\n",
       "<style scoped>\n",
       "    .dataframe tbody tr th:only-of-type {\n",
       "        vertical-align: middle;\n",
       "    }\n",
       "\n",
       "    .dataframe tbody tr th {\n",
       "        vertical-align: top;\n",
       "    }\n",
       "\n",
       "    .dataframe thead th {\n",
       "        text-align: right;\n",
       "    }\n",
       "</style>\n",
       "<table border=\"1\" class=\"dataframe\">\n",
       "  <thead>\n",
       "    <tr style=\"text-align: right;\">\n",
       "      <th></th>\n",
       "      <th>title</th>\n",
       "      <th>category</th>\n",
       "      <th>content</th>\n",
       "      <th>country</th>\n",
       "      <th>newspaper</th>\n",
       "    </tr>\n",
       "  </thead>\n",
       "  <tbody>\n",
       "    <tr>\n",
       "      <th>0</th>\n",
       "      <td>Vuelve y juega: CNE pospone discusión sobre pr...</td>\n",
       "      <td>Politica</td>\n",
       "      <td>La Sala Plena volvió a aplazar la votación sob...</td>\n",
       "      <td>Colombia</td>\n",
       "      <td>La El Colombiano</td>\n",
       "    </tr>\n",
       "    <tr>\n",
       "      <th>1</th>\n",
       "      <td>Gloria Flórez, senadora y presidenta de Colomb...</td>\n",
       "      <td>Politica</td>\n",
       "      <td>La congresista era precandidato presidencial, ...</td>\n",
       "      <td>Colombia</td>\n",
       "      <td>La El Colombiano</td>\n",
       "    </tr>\n",
       "    <tr>\n",
       "      <th>2</th>\n",
       "      <td>Centro Democrático interpondrá acción popular ...</td>\n",
       "      <td>Politica</td>\n",
       "      <td>El objetivo de esta acción, según el partido p...</td>\n",
       "      <td>Colombia</td>\n",
       "      <td>La El Colombiano</td>\n",
       "    </tr>\n",
       "    <tr>\n",
       "      <th>3</th>\n",
       "      <td>Fact check: los datos falsos de Petro contra T...</td>\n",
       "      <td>Politica</td>\n",
       "      <td>Petro se demoró dos días para responderle a EE...</td>\n",
       "      <td>Colombia</td>\n",
       "      <td>La El Colombiano</td>\n",
       "    </tr>\n",
       "    <tr>\n",
       "      <th>4</th>\n",
       "      <td>EE. UU. rechaza los cambios que hizo la OMS pa...</td>\n",
       "      <td>Salud</td>\n",
       "      <td>El presidente Donald Trump hizo campaña en 202...</td>\n",
       "      <td>Colombia</td>\n",
       "      <td>La El Colombiano</td>\n",
       "    </tr>\n",
       "  </tbody>\n",
       "</table>\n",
       "</div>"
      ]
     },
     "execution_count": 130,
     "metadata": {},
     "output_type": "execute_result"
    }
   ],
   "execution_count": 130
  },
  {
   "metadata": {},
   "cell_type": "markdown",
   "source": "## 4.5 El Espectador",
   "id": "19682c220215f6e6"
  },
  {
   "metadata": {
    "ExecuteTime": {
     "end_time": "2025-10-19T21:30:31.113833Z",
     "start_time": "2025-10-19T21:30:31.099302Z"
    }
   },
   "cell_type": "code",
   "source": [
    "columns_to_keep = ['url', 'title', 'article_header', 'category', 'content']\n",
    "\n",
    "bronze_df_el_espectador_standardized = clean_bronze_dataframe(\n",
    "    df=bronze_df_el_espectador,\n",
    "    unique_column=\"url\",\n",
    "    subscription_column=\"subscription\",\n",
    "    columns_to_keep=columns_to_keep,\n",
    "    country_name=\"Colombia\",\n",
    "    newspaper_name = \"La El Espectador\"\n",
    ")"
   ],
   "id": "1faf1572af76b373",
   "outputs": [
    {
     "name": "stdout",
     "output_type": "stream",
     "text": [
      "No 'subscription' column found — skipping step.\n",
      "Reduced DataFrame to 5 columns.\n",
      "Number of duplicate 'url': 0\n",
      "Missing values present?: True\n",
      "📊 Missing Values Summary:\n"
     ]
    },
    {
     "data": {
      "text/plain": [
       "                missing_count  missing_percent\n",
       "article_header             10         1.303781\n",
       "title                       3         0.391134"
      ],
      "text/html": [
       "<div>\n",
       "<style scoped>\n",
       "    .dataframe tbody tr th:only-of-type {\n",
       "        vertical-align: middle;\n",
       "    }\n",
       "\n",
       "    .dataframe tbody tr th {\n",
       "        vertical-align: top;\n",
       "    }\n",
       "\n",
       "    .dataframe thead th {\n",
       "        text-align: right;\n",
       "    }\n",
       "</style>\n",
       "<table border=\"1\" class=\"dataframe\">\n",
       "  <thead>\n",
       "    <tr style=\"text-align: right;\">\n",
       "      <th></th>\n",
       "      <th>missing_count</th>\n",
       "      <th>missing_percent</th>\n",
       "    </tr>\n",
       "  </thead>\n",
       "  <tbody>\n",
       "    <tr>\n",
       "      <th>article_header</th>\n",
       "      <td>10</td>\n",
       "      <td>1.303781</td>\n",
       "    </tr>\n",
       "    <tr>\n",
       "      <th>title</th>\n",
       "      <td>3</td>\n",
       "      <td>0.391134</td>\n",
       "    </tr>\n",
       "  </tbody>\n",
       "</table>\n",
       "</div>"
      ]
     },
     "metadata": {},
     "output_type": "display_data"
    },
    {
     "name": "stdout",
     "output_type": "stream",
     "text": [
      "Dropped 'article_header' column.\n",
      "Dropped 'url' column.\n",
      "✅ DataFrame cleaning complete.\n"
     ]
    }
   ],
   "execution_count": 131
  },
  {
   "metadata": {
    "ExecuteTime": {
     "end_time": "2025-10-19T21:30:31.129017Z",
     "start_time": "2025-10-19T21:30:31.121515Z"
    }
   },
   "cell_type": "code",
   "source": "bronze_df_el_espectador_standardized.head()",
   "id": "3706c2c2f5e08e0f",
   "outputs": [
    {
     "data": {
      "text/plain": [
       "                                               title  category  \\\n",
       "0  Grupo de exmandatarios regionales convocó a pr...  politica   \n",
       "1  De la Espriella sacude campaña de la derecha y...  politica   \n",
       "2  ¿Consulta 2.0? Gobierno Petro analiza vías par...  politica   \n",
       "3  Galán, Peñalosa, Oviedo y Luna continúan acerc...  politica   \n",
       "4  “Se ha puesto de moda renegar de la democracia...  politica   \n",
       "\n",
       "                                             content   country  \\\n",
       "0  Los integrantes de Fuerza de las Regiones envi...  Colombia   \n",
       "1  El precandidato Abelardo De la Espriella busca...  Colombia   \n",
       "2  El ministro del Interior, Armando Benedetti, a...  Colombia   \n",
       "3  Los precandidatos “independientes” se encontra...  Colombia   \n",
       "4  Fragmento de “De la democracia en Hispanoaméri...  Colombia   \n",
       "\n",
       "          newspaper  \n",
       "0  La El Espectador  \n",
       "1  La El Espectador  \n",
       "2  La El Espectador  \n",
       "3  La El Espectador  \n",
       "4  La El Espectador  "
      ],
      "text/html": [
       "<div>\n",
       "<style scoped>\n",
       "    .dataframe tbody tr th:only-of-type {\n",
       "        vertical-align: middle;\n",
       "    }\n",
       "\n",
       "    .dataframe tbody tr th {\n",
       "        vertical-align: top;\n",
       "    }\n",
       "\n",
       "    .dataframe thead th {\n",
       "        text-align: right;\n",
       "    }\n",
       "</style>\n",
       "<table border=\"1\" class=\"dataframe\">\n",
       "  <thead>\n",
       "    <tr style=\"text-align: right;\">\n",
       "      <th></th>\n",
       "      <th>title</th>\n",
       "      <th>category</th>\n",
       "      <th>content</th>\n",
       "      <th>country</th>\n",
       "      <th>newspaper</th>\n",
       "    </tr>\n",
       "  </thead>\n",
       "  <tbody>\n",
       "    <tr>\n",
       "      <th>0</th>\n",
       "      <td>Grupo de exmandatarios regionales convocó a pr...</td>\n",
       "      <td>politica</td>\n",
       "      <td>Los integrantes de Fuerza de las Regiones envi...</td>\n",
       "      <td>Colombia</td>\n",
       "      <td>La El Espectador</td>\n",
       "    </tr>\n",
       "    <tr>\n",
       "      <th>1</th>\n",
       "      <td>De la Espriella sacude campaña de la derecha y...</td>\n",
       "      <td>politica</td>\n",
       "      <td>El precandidato Abelardo De la Espriella busca...</td>\n",
       "      <td>Colombia</td>\n",
       "      <td>La El Espectador</td>\n",
       "    </tr>\n",
       "    <tr>\n",
       "      <th>2</th>\n",
       "      <td>¿Consulta 2.0? Gobierno Petro analiza vías par...</td>\n",
       "      <td>politica</td>\n",
       "      <td>El ministro del Interior, Armando Benedetti, a...</td>\n",
       "      <td>Colombia</td>\n",
       "      <td>La El Espectador</td>\n",
       "    </tr>\n",
       "    <tr>\n",
       "      <th>3</th>\n",
       "      <td>Galán, Peñalosa, Oviedo y Luna continúan acerc...</td>\n",
       "      <td>politica</td>\n",
       "      <td>Los precandidatos “independientes” se encontra...</td>\n",
       "      <td>Colombia</td>\n",
       "      <td>La El Espectador</td>\n",
       "    </tr>\n",
       "    <tr>\n",
       "      <th>4</th>\n",
       "      <td>“Se ha puesto de moda renegar de la democracia...</td>\n",
       "      <td>politica</td>\n",
       "      <td>Fragmento de “De la democracia en Hispanoaméri...</td>\n",
       "      <td>Colombia</td>\n",
       "      <td>La El Espectador</td>\n",
       "    </tr>\n",
       "  </tbody>\n",
       "</table>\n",
       "</div>"
      ]
     },
     "execution_count": 132,
     "metadata": {},
     "output_type": "execute_result"
    }
   ],
   "execution_count": 132
  },
  {
   "metadata": {
    "ExecuteTime": {
     "end_time": "2025-10-19T21:30:31.141544Z",
     "start_time": "2025-10-19T21:30:31.136024Z"
    }
   },
   "cell_type": "code",
   "source": "bronze_df_el_espectador_standardized[\"category\"].value_counts()",
   "id": "7439d93edb787696",
   "outputs": [
    {
     "data": {
      "text/plain": [
       "category\n",
       "salud                  114\n",
       "el-magazin-cultural    112\n",
       "judicial               112\n",
       "bogota                 110\n",
       "mundo                  110\n",
       "economia               107\n",
       "politica               102\n",
       "Name: count, dtype: int64"
      ]
     },
     "execution_count": 133,
     "metadata": {},
     "output_type": "execute_result"
    }
   ],
   "execution_count": 133
  },
  {
   "metadata": {
    "ExecuteTime": {
     "end_time": "2025-10-19T21:30:31.151806Z",
     "start_time": "2025-10-19T21:30:31.147549Z"
    }
   },
   "cell_type": "code",
   "source": [
    "bronze_df_el_espectador_standardized[\"category\"] = bronze_df_el_espectador_standardized[\"category\"].replace({\n",
    "    \"Politica\": \"Politica\",\n",
    "    \"Economica\": \"Economica\",\n",
    "    \"Internacional\": \"Internacional\",\n",
    "    \"Salud\": \"Salud\",\n",
    "    \"el-magazin-cultural\": \"Cultura\"\n",
    "})"
   ],
   "id": "e3ea2899456583c5",
   "outputs": [],
   "execution_count": 134
  },
  {
   "metadata": {
    "ExecuteTime": {
     "end_time": "2025-10-19T21:30:31.163830Z",
     "start_time": "2025-10-19T21:30:31.158829Z"
    }
   },
   "cell_type": "code",
   "source": "bronze_df_el_espectador_standardized[\"category\"].value_counts()",
   "id": "9f743c8a6c65111b",
   "outputs": [
    {
     "data": {
      "text/plain": [
       "category\n",
       "salud       114\n",
       "Cultura     112\n",
       "judicial    112\n",
       "bogota      110\n",
       "mundo       110\n",
       "economia    107\n",
       "politica    102\n",
       "Name: count, dtype: int64"
      ]
     },
     "execution_count": 135,
     "metadata": {},
     "output_type": "execute_result"
    }
   ],
   "execution_count": 135
  },
  {
   "metadata": {},
   "cell_type": "markdown",
   "source": "## 4.6 El Tiempo",
   "id": "fb083dd23a943a2a"
  },
  {
   "metadata": {
    "ExecuteTime": {
     "end_time": "2025-10-19T21:30:31.186615Z",
     "start_time": "2025-10-19T21:30:31.172059Z"
    }
   },
   "cell_type": "code",
   "source": [
    "columns_to_keep = ['url', 'title', 'article_header', 'category', 'content']\n",
    "\n",
    "bronze_df_el_tiempo_standardized = clean_bronze_dataframe(\n",
    "    df=bronze_df_el_tiempo,\n",
    "    unique_column=\"url\",\n",
    "    subscription_column=\"subscription\",\n",
    "    columns_to_keep=columns_to_keep,\n",
    "    country_name=\"Colombia\",\n",
    "    newspaper_name = \"El Tiempo\"\n",
    ")"
   ],
   "id": "3cfa6dd7e3a0e4c7",
   "outputs": [
    {
     "name": "stdout",
     "output_type": "stream",
     "text": [
      "No 'subscription' column found — skipping step.\n",
      "Reduced DataFrame to 5 columns.\n",
      "Number of duplicate 'url': 0\n",
      "Missing values present?: True\n",
      "📊 Missing Values Summary:\n"
     ]
    },
    {
     "data": {
      "text/plain": [
       "                missing_count  missing_percent\n",
       "title                       6             1.25\n",
       "article_header              6             1.25"
      ],
      "text/html": [
       "<div>\n",
       "<style scoped>\n",
       "    .dataframe tbody tr th:only-of-type {\n",
       "        vertical-align: middle;\n",
       "    }\n",
       "\n",
       "    .dataframe tbody tr th {\n",
       "        vertical-align: top;\n",
       "    }\n",
       "\n",
       "    .dataframe thead th {\n",
       "        text-align: right;\n",
       "    }\n",
       "</style>\n",
       "<table border=\"1\" class=\"dataframe\">\n",
       "  <thead>\n",
       "    <tr style=\"text-align: right;\">\n",
       "      <th></th>\n",
       "      <th>missing_count</th>\n",
       "      <th>missing_percent</th>\n",
       "    </tr>\n",
       "  </thead>\n",
       "  <tbody>\n",
       "    <tr>\n",
       "      <th>title</th>\n",
       "      <td>6</td>\n",
       "      <td>1.25</td>\n",
       "    </tr>\n",
       "    <tr>\n",
       "      <th>article_header</th>\n",
       "      <td>6</td>\n",
       "      <td>1.25</td>\n",
       "    </tr>\n",
       "  </tbody>\n",
       "</table>\n",
       "</div>"
      ]
     },
     "metadata": {},
     "output_type": "display_data"
    },
    {
     "name": "stdout",
     "output_type": "stream",
     "text": [
      "Dropped 'article_header' column.\n",
      "Dropped 'url' column.\n",
      "✅ DataFrame cleaning complete.\n"
     ]
    }
   ],
   "execution_count": 136
  },
  {
   "metadata": {
    "ExecuteTime": {
     "end_time": "2025-10-19T21:30:31.201503Z",
     "start_time": "2025-10-19T21:30:31.193943Z"
    }
   },
   "cell_type": "code",
   "source": "bronze_df_el_tiempo_standardized.head()",
   "id": "bea24e0523df3d60",
   "outputs": [
    {
     "data": {
      "text/plain": [
       "                                               title  category  \\\n",
       "0  iTracking Digital de Guarumo en octubre: Abela...  politica   \n",
       "1  Bruce Mac Master denuncia que 'continúa hostig...  politica   \n",
       "2  ¿Presidente Gustavo Petro en campaña? El impac...  politica   \n",
       "3  Tras descertificación, Cancillería refuerza po...  politica   \n",
       "4  Críticas a Francisco Barbosa tras desaprobar c...  politica   \n",
       "\n",
       "                                             content   country  newspaper  \n",
       "0  Vicky Dávila y Claudia López crecen en seguido...  Colombia  El Tiempo  \n",
       "1  En una entrevista concedida a EL TIEMPO, el lí...  Colombia  El Tiempo  \n",
       "2  En distintos espacios, el mandatario ha hecho ...  Colombia  El Tiempo  \n",
       "3  La Canciller inauguró en Italia la exposición ...  Colombia  El Tiempo  \n",
       "4  El exfiscal, quien anunció en EL TIEMPO el ret...  Colombia  El Tiempo  "
      ],
      "text/html": [
       "<div>\n",
       "<style scoped>\n",
       "    .dataframe tbody tr th:only-of-type {\n",
       "        vertical-align: middle;\n",
       "    }\n",
       "\n",
       "    .dataframe tbody tr th {\n",
       "        vertical-align: top;\n",
       "    }\n",
       "\n",
       "    .dataframe thead th {\n",
       "        text-align: right;\n",
       "    }\n",
       "</style>\n",
       "<table border=\"1\" class=\"dataframe\">\n",
       "  <thead>\n",
       "    <tr style=\"text-align: right;\">\n",
       "      <th></th>\n",
       "      <th>title</th>\n",
       "      <th>category</th>\n",
       "      <th>content</th>\n",
       "      <th>country</th>\n",
       "      <th>newspaper</th>\n",
       "    </tr>\n",
       "  </thead>\n",
       "  <tbody>\n",
       "    <tr>\n",
       "      <th>0</th>\n",
       "      <td>iTracking Digital de Guarumo en octubre: Abela...</td>\n",
       "      <td>politica</td>\n",
       "      <td>Vicky Dávila y Claudia López crecen en seguido...</td>\n",
       "      <td>Colombia</td>\n",
       "      <td>El Tiempo</td>\n",
       "    </tr>\n",
       "    <tr>\n",
       "      <th>1</th>\n",
       "      <td>Bruce Mac Master denuncia que 'continúa hostig...</td>\n",
       "      <td>politica</td>\n",
       "      <td>En una entrevista concedida a EL TIEMPO, el lí...</td>\n",
       "      <td>Colombia</td>\n",
       "      <td>El Tiempo</td>\n",
       "    </tr>\n",
       "    <tr>\n",
       "      <th>2</th>\n",
       "      <td>¿Presidente Gustavo Petro en campaña? El impac...</td>\n",
       "      <td>politica</td>\n",
       "      <td>En distintos espacios, el mandatario ha hecho ...</td>\n",
       "      <td>Colombia</td>\n",
       "      <td>El Tiempo</td>\n",
       "    </tr>\n",
       "    <tr>\n",
       "      <th>3</th>\n",
       "      <td>Tras descertificación, Cancillería refuerza po...</td>\n",
       "      <td>politica</td>\n",
       "      <td>La Canciller inauguró en Italia la exposición ...</td>\n",
       "      <td>Colombia</td>\n",
       "      <td>El Tiempo</td>\n",
       "    </tr>\n",
       "    <tr>\n",
       "      <th>4</th>\n",
       "      <td>Críticas a Francisco Barbosa tras desaprobar c...</td>\n",
       "      <td>politica</td>\n",
       "      <td>El exfiscal, quien anunció en EL TIEMPO el ret...</td>\n",
       "      <td>Colombia</td>\n",
       "      <td>El Tiempo</td>\n",
       "    </tr>\n",
       "  </tbody>\n",
       "</table>\n",
       "</div>"
      ]
     },
     "execution_count": 137,
     "metadata": {},
     "output_type": "execute_result"
    }
   ],
   "execution_count": 137
  },
  {
   "metadata": {
    "ExecuteTime": {
     "end_time": "2025-10-19T21:30:31.231927Z",
     "start_time": "2025-10-19T21:30:31.226015Z"
    }
   },
   "cell_type": "code",
   "source": "bronze_df_el_tiempo_standardized[\"category\"].value_counts()",
   "id": "7730ef1ee9b47c4c",
   "outputs": [
    {
     "data": {
      "text/plain": [
       "category\n",
       "salud       100\n",
       "mundo        98\n",
       "economia     98\n",
       "politica     92\n",
       "cultura      92\n",
       "Name: count, dtype: int64"
      ]
     },
     "execution_count": 138,
     "metadata": {},
     "output_type": "execute_result"
    }
   ],
   "execution_count": 138
  },
  {
   "metadata": {
    "ExecuteTime": {
     "end_time": "2025-10-19T21:30:31.264995Z",
     "start_time": "2025-10-19T21:30:31.259491Z"
    }
   },
   "cell_type": "code",
   "source": [
    "bronze_df_el_tiempo_standardized[\"category\"] = bronze_df_el_tiempo_standardized[\"category\"].replace({\n",
    "    \"politica\": \"Politica\",\n",
    "    \"economia\": \"Economica\",\n",
    "    \"mundo\": \"Internacional\",\n",
    "    \"salud\": \"Salud\",\n",
    "    \"cultura\": \"Cultura\"\n",
    "})"
   ],
   "id": "af9abd76f7bc12e7",
   "outputs": [],
   "execution_count": 139
  },
  {
   "metadata": {
    "ExecuteTime": {
     "end_time": "2025-10-19T21:30:31.300098Z",
     "start_time": "2025-10-19T21:30:31.294042Z"
    }
   },
   "cell_type": "code",
   "source": "bronze_df_el_tiempo_standardized[\"category\"].value_counts()",
   "id": "578dbb44f1cf4f91",
   "outputs": [
    {
     "data": {
      "text/plain": [
       "category\n",
       "Salud            100\n",
       "Internacional     98\n",
       "Economica         98\n",
       "Politica          92\n",
       "Cultura           92\n",
       "Name: count, dtype: int64"
      ]
     },
     "execution_count": 140,
     "metadata": {},
     "output_type": "execute_result"
    }
   ],
   "execution_count": 140
  },
  {
   "metadata": {},
   "cell_type": "markdown",
   "source": "## 4.7 Semana",
   "id": "cfa422e184bd1c89"
  },
  {
   "metadata": {
    "ExecuteTime": {
     "end_time": "2025-10-19T21:30:31.352731Z",
     "start_time": "2025-10-19T21:30:31.329269Z"
    }
   },
   "cell_type": "code",
   "source": [
    "columns_to_keep = ['url', 'title', 'article_header', 'category', 'content']\n",
    "\n",
    "bronze_df_semana_standardized = clean_bronze_dataframe(\n",
    "    df=bronze_df_semana,\n",
    "    unique_column=\"url\",\n",
    "    subscription_column=\"subscription\",\n",
    "    columns_to_keep=columns_to_keep,\n",
    "    country_name=\"Colombia\",\n",
    "    newspaper_name = \"Semana\"\n",
    ")"
   ],
   "id": "5047d6442fdb07c0",
   "outputs": [
    {
     "name": "stdout",
     "output_type": "stream",
     "text": [
      "No 'subscription' column found — skipping step.\n",
      "Reduced DataFrame to 5 columns.\n",
      "Number of duplicate 'url': 0\n",
      "Missing values present?: True\n",
      "📊 Missing Values Summary:\n"
     ]
    },
    {
     "data": {
      "text/plain": [
       "                missing_count  missing_percent\n",
       "article_header              6         0.372671"
      ],
      "text/html": [
       "<div>\n",
       "<style scoped>\n",
       "    .dataframe tbody tr th:only-of-type {\n",
       "        vertical-align: middle;\n",
       "    }\n",
       "\n",
       "    .dataframe tbody tr th {\n",
       "        vertical-align: top;\n",
       "    }\n",
       "\n",
       "    .dataframe thead th {\n",
       "        text-align: right;\n",
       "    }\n",
       "</style>\n",
       "<table border=\"1\" class=\"dataframe\">\n",
       "  <thead>\n",
       "    <tr style=\"text-align: right;\">\n",
       "      <th></th>\n",
       "      <th>missing_count</th>\n",
       "      <th>missing_percent</th>\n",
       "    </tr>\n",
       "  </thead>\n",
       "  <tbody>\n",
       "    <tr>\n",
       "      <th>article_header</th>\n",
       "      <td>6</td>\n",
       "      <td>0.372671</td>\n",
       "    </tr>\n",
       "  </tbody>\n",
       "</table>\n",
       "</div>"
      ]
     },
     "metadata": {},
     "output_type": "display_data"
    },
    {
     "name": "stdout",
     "output_type": "stream",
     "text": [
      "Dropped 'article_header' column.\n",
      "Dropped 'url' column.\n",
      "✅ DataFrame cleaning complete.\n"
     ]
    }
   ],
   "execution_count": 141
  },
  {
   "metadata": {
    "ExecuteTime": {
     "end_time": "2025-10-19T21:30:31.399603Z",
     "start_time": "2025-10-19T21:30:31.392377Z"
    }
   },
   "cell_type": "code",
   "source": "bronze_df_semana_standardized[\"category\"].value_counts()",
   "id": "29848665f4d73981",
   "outputs": [
    {
     "data": {
      "text/plain": [
       "category\n",
       "politica          150\n",
       "empresas          150\n",
       "macroeconomia     150\n",
       "libros            150\n",
       "emprendimiento    150\n",
       "cine              150\n",
       "musica            148\n",
       "salud             148\n",
       "nacion            147\n",
       "television        136\n",
       "arte              131\n",
       "Name: count, dtype: int64"
      ]
     },
     "execution_count": 142,
     "metadata": {},
     "output_type": "execute_result"
    }
   ],
   "execution_count": 142
  },
  {
   "metadata": {
    "ExecuteTime": {
     "end_time": "2025-10-19T21:30:31.435179Z",
     "start_time": "2025-10-19T21:30:31.429173Z"
    }
   },
   "cell_type": "code",
   "source": [
    "bronze_df_semana_standardized[\"category\"] = bronze_df_semana_standardized[\"category\"].replace({\n",
    "    \"politica\": \"Politica\",\n",
    "    \"nacion\": \"Politica\",\n",
    "    \"empresas\": \"Economica\",\n",
    "    \"macroeconomia\": \"Economica\",\n",
    "    \"emprendimiento\": \"Economica\",\n",
    "    \"economia\": \"Economica\",\n",
    "    \"salud\": \"Salud\",\n",
    "    \"libros\": \"Cultura\",\n",
    "    \"cine\": \"Cultura\",\n",
    "    \"musica\": \"Cultura\",\n",
    "    \"television\": \"Cultura\",\n",
    "    \"arte\": \"Cultura\"\n",
    "})"
   ],
   "id": "eeb117bde3d9c405",
   "outputs": [],
   "execution_count": 143
  },
  {
   "metadata": {
    "ExecuteTime": {
     "end_time": "2025-10-19T21:30:31.462976Z",
     "start_time": "2025-10-19T21:30:31.455742Z"
    }
   },
   "cell_type": "code",
   "source": "bronze_df_semana_standardized[\"category\"].value_counts()",
   "id": "e2e9f5fe79842d37",
   "outputs": [
    {
     "data": {
      "text/plain": [
       "category\n",
       "Cultura      715\n",
       "Economica    450\n",
       "Politica     297\n",
       "Salud        148\n",
       "Name: count, dtype: int64"
      ]
     },
     "execution_count": 144,
     "metadata": {},
     "output_type": "execute_result"
    }
   ],
   "execution_count": 144
  },
  {
   "metadata": {
    "ExecuteTime": {
     "end_time": "2025-10-19T21:32:46.271575Z",
     "start_time": "2025-10-19T21:32:46.264067Z"
    }
   },
   "cell_type": "code",
   "source": "bronze_df_semana_standardized.head()",
   "id": "4db7addbafce879b",
   "outputs": [
    {
     "data": {
      "text/plain": [
       "                                               title  category  \\\n",
       "0  “Una compulsa miserable por una declaración fa...  Politica   \n",
       "1  Enrique Vargas Lleras quiere un candidato que ...  Politica   \n",
       "2  Denuncia: la Cancillería adquirió una sede par...  Politica   \n",
       "3  Coaliciones por supervivencia: el catálogo de ...  Politica   \n",
       "4  Daniel Quintero teje alianzas con políticos de...  Politica   \n",
       "\n",
       "                                             content   country newspaper  \n",
       "0  El expresidente rechazó la pesquisa que se abr...  Colombia    Semana  \n",
       "1  El abogado califica al jefe de Estado como “ma...  Colombia    Semana  \n",
       "2  Las instalaciones del consulado de Colombia en...  Colombia    Semana  \n",
       "3  Con más de 30 partidos políticos en la contien...  Colombia    Semana  \n",
       "4  Viene un fuerte pulso dentro del Pacto Históri...  Colombia    Semana  "
      ],
      "text/html": [
       "<div>\n",
       "<style scoped>\n",
       "    .dataframe tbody tr th:only-of-type {\n",
       "        vertical-align: middle;\n",
       "    }\n",
       "\n",
       "    .dataframe tbody tr th {\n",
       "        vertical-align: top;\n",
       "    }\n",
       "\n",
       "    .dataframe thead th {\n",
       "        text-align: right;\n",
       "    }\n",
       "</style>\n",
       "<table border=\"1\" class=\"dataframe\">\n",
       "  <thead>\n",
       "    <tr style=\"text-align: right;\">\n",
       "      <th></th>\n",
       "      <th>title</th>\n",
       "      <th>category</th>\n",
       "      <th>content</th>\n",
       "      <th>country</th>\n",
       "      <th>newspaper</th>\n",
       "    </tr>\n",
       "  </thead>\n",
       "  <tbody>\n",
       "    <tr>\n",
       "      <th>0</th>\n",
       "      <td>“Una compulsa miserable por una declaración fa...</td>\n",
       "      <td>Politica</td>\n",
       "      <td>El expresidente rechazó la pesquisa que se abr...</td>\n",
       "      <td>Colombia</td>\n",
       "      <td>Semana</td>\n",
       "    </tr>\n",
       "    <tr>\n",
       "      <th>1</th>\n",
       "      <td>Enrique Vargas Lleras quiere un candidato que ...</td>\n",
       "      <td>Politica</td>\n",
       "      <td>El abogado califica al jefe de Estado como “ma...</td>\n",
       "      <td>Colombia</td>\n",
       "      <td>Semana</td>\n",
       "    </tr>\n",
       "    <tr>\n",
       "      <th>2</th>\n",
       "      <td>Denuncia: la Cancillería adquirió una sede par...</td>\n",
       "      <td>Politica</td>\n",
       "      <td>Las instalaciones del consulado de Colombia en...</td>\n",
       "      <td>Colombia</td>\n",
       "      <td>Semana</td>\n",
       "    </tr>\n",
       "    <tr>\n",
       "      <th>3</th>\n",
       "      <td>Coaliciones por supervivencia: el catálogo de ...</td>\n",
       "      <td>Politica</td>\n",
       "      <td>Con más de 30 partidos políticos en la contien...</td>\n",
       "      <td>Colombia</td>\n",
       "      <td>Semana</td>\n",
       "    </tr>\n",
       "    <tr>\n",
       "      <th>4</th>\n",
       "      <td>Daniel Quintero teje alianzas con políticos de...</td>\n",
       "      <td>Politica</td>\n",
       "      <td>Viene un fuerte pulso dentro del Pacto Históri...</td>\n",
       "      <td>Colombia</td>\n",
       "      <td>Semana</td>\n",
       "    </tr>\n",
       "  </tbody>\n",
       "</table>\n",
       "</div>"
      ]
     },
     "execution_count": 147,
     "metadata": {},
     "output_type": "execute_result"
    }
   ],
   "execution_count": 147
  },
  {
   "metadata": {
    "ExecuteTime": {
     "end_time": "2025-10-19T21:35:46.195736Z",
     "start_time": "2025-10-19T21:35:46.191229Z"
    }
   },
   "cell_type": "code",
   "source": "bronze_df_semana_standardized[\"content\"][3]",
   "id": "48aa45410560fb8c",
   "outputs": [
    {
     "data": {
      "text/plain": [
       "'Con más de 30 partidos políticos en la contienda, las colectividades están conformando alianzas para asegurarse de pasar la cifra repartidora de votos en las elecciones legislativas del próximo 8 de marzo de 2026.. Los partidos están trazando todo tipo de alianzas para las elecciones legislativas de 2026, en las que cerca de 30 colectividades estarán compitiendo con listas al Senado y a la Cámara de Representantes para conformar el nuevo Congreso.\\nLas conversaciones van en todas las direcciones. La Fuerza, el partido de Roy Barreras, se unió con el sector del expresidente Ernesto Samper para presentar una lista al Senado que promete ser un frente amplio, pero que esconde otras realidades.\\nPor un lado, el Poder Popular de Samper se quedó sin personería jurídica y las otras diez colectividades que están allí podrían desaparecer si no pasan el umbral de votos en marzo, como el Partido Comunes de los ex-Farc y el Mais. Esa alianza es un salvavidas para que los exguerrilleros puedan seguir en política.\\nEse frente amplio está convocando a figuras de todos los sectores, como la representante Érika Tatiana Sánchez, quien había pertenecido a la Liga de Gobernantes Anticorrupción, de Rodolfo Hernández, y ahora militará al lado del primer presidente descertificado de la historia de Colombia, Samper.\\nBarreras sigue estando en el sonajero de posibles precandidatos a la presidencia y, aun con lista propia al Congreso, no deja de ser una posible ficha aliada al sector del presidente Gustavo Petro para marzo de 2026, cuando se decantaría quiénes sí aspirarán a la Casa de Nariño.\\nEn teoría, las listas al Congreso que conforme el Pacto Histórico con su consulta interna del próximo 26 de octubre son inamovibles. Pese a esto, ya está claro que la senadora María José Pizarro tendría el primer puesto del catálogo de aspirantes al Senado y es probable que quien quede segundo en la consulta presidencial sea la segunda línea de esa agrupación. Esa jugada salvaría también al movimiento Progresistas, de Pizarro, que no pudo entrar en el partido único por una decisión del Consejo Nacional Electoral.\\nEn la extensa lista de 19 páginas de precandidatos al Congreso hay figuras del movimiento Independientes, de Daniel Quintero, como el representante antioqueño Alejandro Toro y el senador Álex Flórez.\\nCambio Radical y el Centro Democrático están sosteniendo reuniones semanales para alistar un encuentro de oposición que se desarrollará a mediados de este mes y a partir del cual podrían resultar alianzas para las listas a la Cámara, según el escenario político de cada departamento.\\nLos dos partidos líderes de la oposición ya están actuando en bloque y lo único claro es que cada uno tendrá su apuesta al Senado, en la que el expresidente Álvaro Uribe Vélez ocupará el puesto 25 en la lista para intentar arrastrar una fuerza mayoritaria para 2026.\\nDignidad y Compromiso, el Nuevo Liberalismo y el Mira anunciaron una alianza política para enfrentar las elecciones de Congreso porque tienen la certeza de que en solitario es complicado conseguir el umbral. Juan Manuel Galán, Sergio Fajardo y Jorge Robledo sellaron la coalición denominada Ahora Colombia.\\nEntre los tradicionales, el Conservador, el Liberal y La U estuvieron reuniéndose en la casa del expresidente César Gaviria. No obstante, esos encuentros se pausaron antes de la elección de Carlos Camargo como magistrado de la Corte Constitucional y estos esperarán nuevas mediciones del termómetro político para determinar posibles alianzas departamentales.\\nHay otra asociación en curso: la Alianza Verde se unirá a En Marcha, de Juan Fernando Cristo, y ese sector podría terminar en la misma coalición que lideran Roy Barreras y Ernesto Samper para las elecciones legislativas, lo que vaticina una tormenta política entre los verdes.'"
      ]
     },
     "execution_count": 201,
     "metadata": {},
     "output_type": "execute_result"
    }
   ],
   "execution_count": 201
  },
  {
   "metadata": {},
   "cell_type": "markdown",
   "source": "## 4.8 The media framing dataset",
   "id": "92dd8b7121b2f792"
  },
  {
   "metadata": {
    "ExecuteTime": {
     "end_time": "2025-10-19T21:33:15.002799Z",
     "start_time": "2025-10-19T21:33:14.991187Z"
    }
   },
   "cell_type": "code",
   "source": "bronze_df_media_framing.head()",
   "id": "785ed5b2d261a21b",
   "outputs": [
    {
     "data": {
      "text/plain": [
       "              id                                               news  \\\n",
       "0  Noticia_1.txt  ¿Cuánto tiempo estoy autorizado a permanecer e...   \n",
       "1  Noticia_2.txt  Presidente Petro catalogó de 'invasión imperia...   \n",
       "2  Noticia_3.txt  La dura ley antiinmigración que adoptó Reino U...   \n",
       "3  Noticia_4.txt  ¿Qué le falta a Ron DeSantis para cumplir las ...   \n",
       "4  Noticia_5.txt  México: así ataja el flujo de migrantes en la ...   \n",
       "\n",
       "                                              frames      tone  \\\n",
       "0  ['external_regulation_and_reputation', 'legali...   neutral   \n",
       "1  ['policy_prescription_and_evaluation', 'politi...   neutral   \n",
       "2  ['crime_and_punishment', 'legality_constitutio...  negative   \n",
       "3  ['political', 'legality_constitutionality_and_...   neutral   \n",
       "4  ['crime_and_punishment', 'security_and_defense...  positive   \n",
       "\n",
       "                               principal_frames  economic  \\\n",
       "0  legality_constitutionality_and_jurisprudence         0   \n",
       "1                                     political         1   \n",
       "2            external_regulation_and_reputation         1   \n",
       "3                                     political         0   \n",
       "4            external_regulation_and_reputation         0   \n",
       "\n",
       "   capacity_and_resources  morality  fairness_and_equality  \\\n",
       "0                       0         0                      0   \n",
       "1                       0         1                      0   \n",
       "2                       0         0                      1   \n",
       "3                       0         0                      0   \n",
       "4                       0         0                      0   \n",
       "\n",
       "   legality_constitutionality_and_jurisprudence  ...  crime_and_punishment  \\\n",
       "0                                             1  ...                     1   \n",
       "1                                             0  ...                     0   \n",
       "2                                             1  ...                     1   \n",
       "3                                             1  ...                     0   \n",
       "4                                             0  ...                     1   \n",
       "\n",
       "   security_and_defense  health_and_safety  quality_of_life  \\\n",
       "0                     0                  0                0   \n",
       "1                     0                  0                0   \n",
       "2                     0                  0                0   \n",
       "3                     0                  0                0   \n",
       "4                     1                  0                1   \n",
       "\n",
       "   cultural_identity  public_opinion  political  \\\n",
       "0                  0               0          0   \n",
       "1                  0               1          1   \n",
       "2                  0               1          0   \n",
       "3                  0               0          1   \n",
       "4                  0               1          0   \n",
       "\n",
       "   external_regulation_and_reputation   country  newspaper  \n",
       "0                                   1  Colombia  El Tiempo  \n",
       "1                                   1  Colombia  El Tiempo  \n",
       "2                                   1  Colombia  El Tiempo  \n",
       "3                                   0  Colombia  El Tiempo  \n",
       "4                                   1  Colombia  El Tiempo  \n",
       "\n",
       "[5 rows x 21 columns]"
      ],
      "text/html": [
       "<div>\n",
       "<style scoped>\n",
       "    .dataframe tbody tr th:only-of-type {\n",
       "        vertical-align: middle;\n",
       "    }\n",
       "\n",
       "    .dataframe tbody tr th {\n",
       "        vertical-align: top;\n",
       "    }\n",
       "\n",
       "    .dataframe thead th {\n",
       "        text-align: right;\n",
       "    }\n",
       "</style>\n",
       "<table border=\"1\" class=\"dataframe\">\n",
       "  <thead>\n",
       "    <tr style=\"text-align: right;\">\n",
       "      <th></th>\n",
       "      <th>id</th>\n",
       "      <th>news</th>\n",
       "      <th>frames</th>\n",
       "      <th>tone</th>\n",
       "      <th>principal_frames</th>\n",
       "      <th>economic</th>\n",
       "      <th>capacity_and_resources</th>\n",
       "      <th>morality</th>\n",
       "      <th>fairness_and_equality</th>\n",
       "      <th>legality_constitutionality_and_jurisprudence</th>\n",
       "      <th>...</th>\n",
       "      <th>crime_and_punishment</th>\n",
       "      <th>security_and_defense</th>\n",
       "      <th>health_and_safety</th>\n",
       "      <th>quality_of_life</th>\n",
       "      <th>cultural_identity</th>\n",
       "      <th>public_opinion</th>\n",
       "      <th>political</th>\n",
       "      <th>external_regulation_and_reputation</th>\n",
       "      <th>country</th>\n",
       "      <th>newspaper</th>\n",
       "    </tr>\n",
       "  </thead>\n",
       "  <tbody>\n",
       "    <tr>\n",
       "      <th>0</th>\n",
       "      <td>Noticia_1.txt</td>\n",
       "      <td>¿Cuánto tiempo estoy autorizado a permanecer e...</td>\n",
       "      <td>['external_regulation_and_reputation', 'legali...</td>\n",
       "      <td>neutral</td>\n",
       "      <td>legality_constitutionality_and_jurisprudence</td>\n",
       "      <td>0</td>\n",
       "      <td>0</td>\n",
       "      <td>0</td>\n",
       "      <td>0</td>\n",
       "      <td>1</td>\n",
       "      <td>...</td>\n",
       "      <td>1</td>\n",
       "      <td>0</td>\n",
       "      <td>0</td>\n",
       "      <td>0</td>\n",
       "      <td>0</td>\n",
       "      <td>0</td>\n",
       "      <td>0</td>\n",
       "      <td>1</td>\n",
       "      <td>Colombia</td>\n",
       "      <td>El Tiempo</td>\n",
       "    </tr>\n",
       "    <tr>\n",
       "      <th>1</th>\n",
       "      <td>Noticia_2.txt</td>\n",
       "      <td>Presidente Petro catalogó de 'invasión imperia...</td>\n",
       "      <td>['policy_prescription_and_evaluation', 'politi...</td>\n",
       "      <td>neutral</td>\n",
       "      <td>political</td>\n",
       "      <td>1</td>\n",
       "      <td>0</td>\n",
       "      <td>1</td>\n",
       "      <td>0</td>\n",
       "      <td>0</td>\n",
       "      <td>...</td>\n",
       "      <td>0</td>\n",
       "      <td>0</td>\n",
       "      <td>0</td>\n",
       "      <td>0</td>\n",
       "      <td>0</td>\n",
       "      <td>1</td>\n",
       "      <td>1</td>\n",
       "      <td>1</td>\n",
       "      <td>Colombia</td>\n",
       "      <td>El Tiempo</td>\n",
       "    </tr>\n",
       "    <tr>\n",
       "      <th>2</th>\n",
       "      <td>Noticia_3.txt</td>\n",
       "      <td>La dura ley antiinmigración que adoptó Reino U...</td>\n",
       "      <td>['crime_and_punishment', 'legality_constitutio...</td>\n",
       "      <td>negative</td>\n",
       "      <td>external_regulation_and_reputation</td>\n",
       "      <td>1</td>\n",
       "      <td>0</td>\n",
       "      <td>0</td>\n",
       "      <td>1</td>\n",
       "      <td>1</td>\n",
       "      <td>...</td>\n",
       "      <td>1</td>\n",
       "      <td>0</td>\n",
       "      <td>0</td>\n",
       "      <td>0</td>\n",
       "      <td>0</td>\n",
       "      <td>1</td>\n",
       "      <td>0</td>\n",
       "      <td>1</td>\n",
       "      <td>Colombia</td>\n",
       "      <td>El Tiempo</td>\n",
       "    </tr>\n",
       "    <tr>\n",
       "      <th>3</th>\n",
       "      <td>Noticia_4.txt</td>\n",
       "      <td>¿Qué le falta a Ron DeSantis para cumplir las ...</td>\n",
       "      <td>['political', 'legality_constitutionality_and_...</td>\n",
       "      <td>neutral</td>\n",
       "      <td>political</td>\n",
       "      <td>0</td>\n",
       "      <td>0</td>\n",
       "      <td>0</td>\n",
       "      <td>0</td>\n",
       "      <td>1</td>\n",
       "      <td>...</td>\n",
       "      <td>0</td>\n",
       "      <td>0</td>\n",
       "      <td>0</td>\n",
       "      <td>0</td>\n",
       "      <td>0</td>\n",
       "      <td>0</td>\n",
       "      <td>1</td>\n",
       "      <td>0</td>\n",
       "      <td>Colombia</td>\n",
       "      <td>El Tiempo</td>\n",
       "    </tr>\n",
       "    <tr>\n",
       "      <th>4</th>\n",
       "      <td>Noticia_5.txt</td>\n",
       "      <td>México: así ataja el flujo de migrantes en la ...</td>\n",
       "      <td>['crime_and_punishment', 'security_and_defense...</td>\n",
       "      <td>positive</td>\n",
       "      <td>external_regulation_and_reputation</td>\n",
       "      <td>0</td>\n",
       "      <td>0</td>\n",
       "      <td>0</td>\n",
       "      <td>0</td>\n",
       "      <td>0</td>\n",
       "      <td>...</td>\n",
       "      <td>1</td>\n",
       "      <td>1</td>\n",
       "      <td>0</td>\n",
       "      <td>1</td>\n",
       "      <td>0</td>\n",
       "      <td>1</td>\n",
       "      <td>0</td>\n",
       "      <td>1</td>\n",
       "      <td>Colombia</td>\n",
       "      <td>El Tiempo</td>\n",
       "    </tr>\n",
       "  </tbody>\n",
       "</table>\n",
       "<p>5 rows × 21 columns</p>\n",
       "</div>"
      ]
     },
     "execution_count": 149,
     "metadata": {},
     "output_type": "execute_result"
    }
   ],
   "execution_count": 149
  },
  {
   "metadata": {
    "ExecuteTime": {
     "end_time": "2025-10-19T21:33:15.039452Z",
     "start_time": "2025-10-19T21:33:15.030336Z"
    }
   },
   "cell_type": "code",
   "source": [
    "bronze_df_media_framing_standardized = bronze_df_media_framing[[\"news\", \"principal_frames\", \"country\", \"newspaper\"]]\n",
    "bronze_df_media_framing_standardized.head()"
   ],
   "id": "91cf0cb73636d5bb",
   "outputs": [
    {
     "data": {
      "text/plain": [
       "                                                news  \\\n",
       "0  ¿Cuánto tiempo estoy autorizado a permanecer e...   \n",
       "1  Presidente Petro catalogó de 'invasión imperia...   \n",
       "2  La dura ley antiinmigración que adoptó Reino U...   \n",
       "3  ¿Qué le falta a Ron DeSantis para cumplir las ...   \n",
       "4  México: así ataja el flujo de migrantes en la ...   \n",
       "\n",
       "                               principal_frames   country  newspaper  \n",
       "0  legality_constitutionality_and_jurisprudence  Colombia  El Tiempo  \n",
       "1                                     political  Colombia  El Tiempo  \n",
       "2            external_regulation_and_reputation  Colombia  El Tiempo  \n",
       "3                                     political  Colombia  El Tiempo  \n",
       "4            external_regulation_and_reputation  Colombia  El Tiempo  "
      ],
      "text/html": [
       "<div>\n",
       "<style scoped>\n",
       "    .dataframe tbody tr th:only-of-type {\n",
       "        vertical-align: middle;\n",
       "    }\n",
       "\n",
       "    .dataframe tbody tr th {\n",
       "        vertical-align: top;\n",
       "    }\n",
       "\n",
       "    .dataframe thead th {\n",
       "        text-align: right;\n",
       "    }\n",
       "</style>\n",
       "<table border=\"1\" class=\"dataframe\">\n",
       "  <thead>\n",
       "    <tr style=\"text-align: right;\">\n",
       "      <th></th>\n",
       "      <th>news</th>\n",
       "      <th>principal_frames</th>\n",
       "      <th>country</th>\n",
       "      <th>newspaper</th>\n",
       "    </tr>\n",
       "  </thead>\n",
       "  <tbody>\n",
       "    <tr>\n",
       "      <th>0</th>\n",
       "      <td>¿Cuánto tiempo estoy autorizado a permanecer e...</td>\n",
       "      <td>legality_constitutionality_and_jurisprudence</td>\n",
       "      <td>Colombia</td>\n",
       "      <td>El Tiempo</td>\n",
       "    </tr>\n",
       "    <tr>\n",
       "      <th>1</th>\n",
       "      <td>Presidente Petro catalogó de 'invasión imperia...</td>\n",
       "      <td>political</td>\n",
       "      <td>Colombia</td>\n",
       "      <td>El Tiempo</td>\n",
       "    </tr>\n",
       "    <tr>\n",
       "      <th>2</th>\n",
       "      <td>La dura ley antiinmigración que adoptó Reino U...</td>\n",
       "      <td>external_regulation_and_reputation</td>\n",
       "      <td>Colombia</td>\n",
       "      <td>El Tiempo</td>\n",
       "    </tr>\n",
       "    <tr>\n",
       "      <th>3</th>\n",
       "      <td>¿Qué le falta a Ron DeSantis para cumplir las ...</td>\n",
       "      <td>political</td>\n",
       "      <td>Colombia</td>\n",
       "      <td>El Tiempo</td>\n",
       "    </tr>\n",
       "    <tr>\n",
       "      <th>4</th>\n",
       "      <td>México: así ataja el flujo de migrantes en la ...</td>\n",
       "      <td>external_regulation_and_reputation</td>\n",
       "      <td>Colombia</td>\n",
       "      <td>El Tiempo</td>\n",
       "    </tr>\n",
       "  </tbody>\n",
       "</table>\n",
       "</div>"
      ]
     },
     "execution_count": 150,
     "metadata": {},
     "output_type": "execute_result"
    }
   ],
   "execution_count": 150
  },
  {
   "metadata": {
    "ExecuteTime": {
     "end_time": "2025-10-19T21:33:15.124671Z",
     "start_time": "2025-10-19T21:33:15.120183Z"
    }
   },
   "cell_type": "code",
   "source": "bronze_df_media_framing_standardized[\"news\"][0]",
   "id": "764ce4c1a3f55317",
   "outputs": [
    {
     "data": {
      "text/plain": [
       "'¿Cuánto tiempo estoy autorizado a permanecer en los Estados Unidos?\\n\\n\\n\\n                       \\n\\n                             \\n\\n\\n\\nEs crucial tener en cuenta que una visa no garantiza automáticamente el ingreso a los Estados Unidos. Esta especifica un período de tiempo válido durante el cual el titular puede llegar a un puerto de entrada y solicitar admisión, de acuerdo con el Servicio Oficial de Citas de Visa del Departamento de Estado de la nación norteamericana.\\n\\nAl llegar a un puerto de entrada, un oficial de inmigración del Departamento de Seguridad Interna (DHS) es el encargado de decidir si se permite el ingreso y por cuánto tiempo se puede permanecer en cada visita. Solo quien ocupa este cargo tiene la autoridad para otorgar esta información.\\n\\nEn el sello de admisión o en el formulario I-94 en papel, el inspector de inmigración de EE. UU. registrará una fecha de admisión específica o \"D/S\" (duración del estado), explica el Department of State Travel en su página web.\\n\\n\\n\\nSi su sello de admisión o el documento indican una fecha específica, deberá salir del país norteamericano conforme a lo estipulado. Sin embargo, si contienen la notación \"D/S\", puede permanecer en los Estados Unidos mientras continúe con sus estudios, programa de intercambio o empleo calificado.\\n\\nEn el caso de aquellos que ingresaron a la nación con una visa de no inmigrante y desean extender su permanencia, será necesario presentar una solicitud ante el Servicio de Ciudadanía e Inmigración de los Estados Unidos (USCIS) antes de que caduque su estadía autorizada, tal como se indica en su sello de admisión o en el Formulario I-94 en papel.\\n\\n\\n\\nSe recomienda presentar la solicitud con suficiente antelación a la fecha de vencimiento. \\n\\n\\n\\nRequisitos para extender su estadía en Estados Unidos\\n\\nExtender su estadía en Estados Unidos sí es posible, de acuerdo con USCIS, pero habrá que cumplir con una serie de requisitos.\\n\\n\\n\\nHaber sido admitido legalmente en los Estados Unidos con una visa de no inmigrante.\\n\\nSu estado de visa de no inmigrante sigue siendo válido.\\n\\nNo ha cometido ningún delito que lo haga inelegible para una visa.\\n\\nNo ha violado las condiciones de tu admisión.\\n\\nSu pasaporte es válido y seguirá siendo válido durante la duración de su estadía.\\n\\n¿Qué pasa si se queda más tiempo del permitido en Estados Unidos?\\n\\n\"Permanecer más allá del período de tiempo autorizado por el Departamento de Seguridad Nacional y fuera del estatus en los Estados Unidos es una violación de las leyes de inmigración de los EE. UU. y puede hacer que no sea elegible para una visa en el futuro para viajar de regreso”, detalla el Departamento de Estado de EE.UU.\\n\\n\\n\\nSegún la agencia federal, permanecer más tiempo del establecido implica una pérdida del estatus migratorio, por lo que la persona puede ser deportada por las autoridades, sin dejar a un lado que complica cualquier trámite de inmigración futuro.\\n\\nEntre las consecuencias que puede traer esta violación de las leyes migratorias se encuentra la anulación automática de la visa y una prohibición de entrada al país que puede ser de tres años o 10, dependiendo del tiempo de permanencia ilegal. '"
      ]
     },
     "execution_count": 151,
     "metadata": {},
     "output_type": "execute_result"
    }
   ],
   "execution_count": 151
  },
  {
   "metadata": {
    "ExecuteTime": {
     "end_time": "2025-10-19T21:33:15.195436Z",
     "start_time": "2025-10-19T21:33:15.190373Z"
    }
   },
   "cell_type": "code",
   "source": "bronze_df_media_framing_standardized[\"news\"][1]",
   "id": "191f2e417007a104",
   "outputs": [
    {
     "data": {
      "text/plain": [
       "\"Presidente Petro catalogó de 'invasión imperialista' guerra en Ucrania\\n\\n\\n\\n                            \\n\\n                             \\n\\n\\n\\nEl presidente Gustavo Petro intervino en el segundo día de la Cumbre CELAC-UE. En sus cinco minutos de discurso, el mandatario reiteró sus posiciones sobre el medio ambiente e hizo duros señalamientos en contra de las potencias y su acción militar.\\n\\n\\n\\nEl primer mandatario se pronunció de forma categórica sobre la invasión de Rusia a Ucrania, pero al mismo tiempo llamó la atención frente a acciones militares llevadas a cabo por Estados Unidos y distintos países que hacen parte de la Unión Europea.\\n\\n\\n\\n“Existe una invasión imperialista en Ucrania, pero cómo se llama la que hubo en Irak, Libia o Siria. Por qué esta tuvo esta redacción y las otras no. ¿No sería mejor trabajar en un concepto general que criminalice las invasiones?”, dijo el primer mandatario, que propuso “un concepto general que criminalice la invasión de un país sobre otro”.\\n\\n\\n\\nEn otros puntos habló de la realización de la cumbre CELAC-UE en Colombia en 2025. Este aseguró que desde ya se están articulando los puntos de la agenda, que tendría un claro enfoque medio ambiental.\\n\\n\\n\\nEn este punto expuso uno de los puntos de divergencia entre el bloque de la Unión Europea y la CELAC. “Tenemos una diferencia en que se ha presentado en el lado europeo un comercio de productos que no tengan detrás deforestación. Toda agricultura ha deforestado. La de ustedes y de nosotros. El criterio de comercio debe ser la huella carbón”, dijo el mandatario colombiano.\\n\\n\\n\\nEn este sentido señaló que la Unión Europea tiene una huella tres veces mayor que la de América Latina y que para equilibrar la balanza es necesaria una descentralización de la producción, para que esta también tenga como base el continente latinoamericano.\\n\\n\\n\\n“Entre más producción descarbonizada se genere, debe haber más prosperidad social”, dijo Gustavo Petro que pidió un cambio de conceptos frente a lo que propone el capitalismo actual: “Podemos ser ricos si hay más cultura y conocimiento y otra cultura alrededor de la economía descarbonizada”.\\n\\n\\n\\nEn la última parte de su discurso volvió a criticar la forma en que se ha abordado la inmigración. Para el mandatario, el freno a esta no debe ser “campos de concentración y las barreras”, sino “llevar el bienestar al lugar geográfico del inmigrante”.\\n\\n\\n\\nAdemás, reiteró su propuesta de un “plan Marshall climático” y la tesis de cambiar deuda por acción climática. En este sentido señaló que no se trata de condonación sino de mayor emisión para cubrir la deuda.\""
      ]
     },
     "execution_count": 152,
     "metadata": {},
     "output_type": "execute_result"
    }
   ],
   "execution_count": 152
  },
  {
   "metadata": {
    "ExecuteTime": {
     "end_time": "2025-10-19T21:33:15.283680Z",
     "start_time": "2025-10-19T21:33:15.279130Z"
    }
   },
   "cell_type": "code",
   "source": "bronze_df_media_framing_standardized[\"news\"][2]",
   "id": "c77def6de23bc8cf",
   "outputs": [
    {
     "data": {
      "text/plain": [
       "'La dura ley antiinmigración que adoptó Reino Unido: ¿de qué se trata y a quién afecta?\\n\\n\\n\\n                                 \\n\\n\\n\\nEl Parlamento británico adoptó este martes una controvertida ley contra la inmigración ilegal, que restringe drásticamente el derecho al asilo y que fue criticada por la ONU, que advirtió que va en contra del derecho internacional sobre personas refugiadas.\\n\\n\\n\\nEl texto es una iniciativa clave para el primer ministro Rishi Sunak, que se impuso la prioridad de luchar contra la inmigración irregular y prometió \"detener\" las llegadas de migrantes por el canal de la Mancha.\\n\\n\\n\\nLos migrantes que lleguen de forma ilegal al territorio británico ya no podrán pedir asilo en el país, según la ley. Además, el gobierno británico quiere que estos sean rápidamente detenidos y expulsados, ya sea a su país de origen o a otro Estado como Ruanda, vengan de donde vengan.\\n\\n\\n\\nEl proyecto de ley sobre inmigración estuvo bloqueado durante semanas en el Parlamento, pues la Cámara de los Lores pidió numerosas enmiendas, para restringir las detenciones de menores y para evitar formas de esclavitud moderna.\\n\\n\\n\\nFue adoptado este martes de madrugada y tendrá que ser ratificado por el rey Carlos III, una formalidad.\\n\\n\\n\\nLa ONU condenó la ley, afirmando que entra \"en contradicción\" con las obligaciones del Reino Unido respecto al derecho internacional relativo a los derechos humanos y los refugiados.\\n\\n\\n\\nEl texto tendrá \"profundas consecuencias para las personas que necesiten protección internacional\", denunciaron en un comunicado conjunto el Alto Comisionado para los Derechos Humanos, Volker Türk, y el Alto Comisionado para los Refugiados, Filippo Grandi.\\n\\n\\n\\nLos migrantes no tendrán \"garantía alguna de poder beneficiarse de una protección en el país\" al que serán expulsados, denunció la ONU. Según Naciones Unidas, la ley \"crea nuevos poderes de detención muy extendidos, con un control judicial limitado\".\\n\\n\\n\\n¿Saltarse la fila de espera?\\n\\nEn 2022, más de 45.000 migrantes cruzaron el canal de la Mancha, sobre todo desde Francia, en pequeñas embarcaciones, un récord. En lo que va de año, lo hicieron más de 13.000. En el primer trimestre, la mayoría eran afganos.\\n\\n\\n\\nEl gobierno acusa a los migrantes irregulares de \"saltarse la fila de espera\" en detrimento de quienes llegan al país por \"vías seguras\" o legales.\\n\\n\\n\\nSin embargo, \"la mayoría de las personas que huyen de la guerra o de la persecución no tienen acceso a documentos como pasaportes o visados\", responde la ONU. \"Las vías seguras o \\'legales\\' pocas veces están disponibles para estas personas\".\\n\\n\\n\\nEl año pasado, el Reino Unido alcanzó un acuerdo con Ruanda para enviar allí a migrantes en situación irregular, pero de momento no se ha realizado ninguna expulsión.\\n\\n\\n\\nEl primer vuelo en el marco de este pacto, previsto en junio de 2022, fue cancelado a raíz de una decisión del Tribunal Europeo de Derechos Humanos (TEDH). A finales de junio, la justicia declaró ilegal ese proyecto, pero el gobierno anunció que recurrió el fallo.\\n\\n\\n\\nEl jefe espiritual de la Iglesia anglicana, el arzobispo de Canterbury Justin Welby, quien también es miembro de la Cámara de los Lores, señaló que \"no (ve) cómo\" podrá esa ley acabar con las llegadas de embarcaciones de migrantes. \"No he escuchado nada que me haya convencido\", declaró durante los debates.\\n\\n\\n\\nPor otro lado, unos 500 solicitantes de asilo serán instalados en un pontón, amarrado en un puerto inglés, para reducir costes de alojamiento en hoteles. La barcaza, llamada \"Bibby Stockholm\", llegó este martes al puerto de Portland, en el sur de Inglaterra. Fue muy criticada por oenegés, que la calificaron de \"barco-prisión\".'"
      ]
     },
     "execution_count": 153,
     "metadata": {},
     "output_type": "execute_result"
    }
   ],
   "execution_count": 153
  },
  {
   "metadata": {
    "ExecuteTime": {
     "end_time": "2025-10-19T21:33:15.368950Z",
     "start_time": "2025-10-19T21:33:15.360929Z"
    }
   },
   "cell_type": "code",
   "source": [
    "# Extract everything before the first newline as title\n",
    "bronze_df_media_framing_standardized[\"title\"] = bronze_df_media_framing_standardized[\"news\"].str.split(\"\\n\", n=1).str[0].str.strip()\n",
    "\n",
    "# Remove the first line (title) from the 'news' column\n",
    "bronze_df_media_framing_standardized[\"news\"] = bronze_df_media_framing_standardized[\"news\"].str.split(\"\\n\", n=1).str[1].fillna(\"\").str.strip()\n"
   ],
   "id": "b5761dc2180524de",
   "outputs": [
    {
     "name": "stderr",
     "output_type": "stream",
     "text": [
      "C:\\Users\\guill\\AppData\\Local\\Temp\\ipykernel_40692\\1167306108.py:2: SettingWithCopyWarning: \n",
      "A value is trying to be set on a copy of a slice from a DataFrame.\n",
      "Try using .loc[row_indexer,col_indexer] = value instead\n",
      "\n",
      "See the caveats in the documentation: https://pandas.pydata.org/pandas-docs/stable/user_guide/indexing.html#returning-a-view-versus-a-copy\n",
      "  bronze_df_media_framing_standardized[\"title\"] = bronze_df_media_framing_standardized[\"news\"].str.split(\"\\n\", n=1).str[0].str.strip()\n",
      "C:\\Users\\guill\\AppData\\Local\\Temp\\ipykernel_40692\\1167306108.py:5: SettingWithCopyWarning: \n",
      "A value is trying to be set on a copy of a slice from a DataFrame.\n",
      "Try using .loc[row_indexer,col_indexer] = value instead\n",
      "\n",
      "See the caveats in the documentation: https://pandas.pydata.org/pandas-docs/stable/user_guide/indexing.html#returning-a-view-versus-a-copy\n",
      "  bronze_df_media_framing_standardized[\"news\"] = bronze_df_media_framing_standardized[\"news\"].str.split(\"\\n\", n=1).str[1].fillna(\"\").str.strip()\n"
     ]
    }
   ],
   "execution_count": 154
  },
  {
   "metadata": {
    "ExecuteTime": {
     "end_time": "2025-10-19T21:33:15.438625Z",
     "start_time": "2025-10-19T21:33:15.430758Z"
    }
   },
   "cell_type": "code",
   "source": "bronze_df_media_framing_standardized.head()",
   "id": "13081abfa68f8f82",
   "outputs": [
    {
     "data": {
      "text/plain": [
       "                                                news  \\\n",
       "0  Es crucial tener en cuenta que una visa no gar...   \n",
       "1  El presidente Gustavo Petro intervino en el se...   \n",
       "2  El Parlamento británico adoptó este martes una...   \n",
       "3  Para la derecha estadounidense más tradicional...   \n",
       "4  CIUDAD JUÁREZ, México — Refugios para migrante...   \n",
       "\n",
       "                               principal_frames   country  newspaper  \\\n",
       "0  legality_constitutionality_and_jurisprudence  Colombia  El Tiempo   \n",
       "1                                     political  Colombia  El Tiempo   \n",
       "2            external_regulation_and_reputation  Colombia  El Tiempo   \n",
       "3                                     political  Colombia  El Tiempo   \n",
       "4            external_regulation_and_reputation  Colombia  El Tiempo   \n",
       "\n",
       "                                               title  \n",
       "0  ¿Cuánto tiempo estoy autorizado a permanecer e...  \n",
       "1  Presidente Petro catalogó de 'invasión imperia...  \n",
       "2  La dura ley antiinmigración que adoptó Reino U...  \n",
       "3  ¿Qué le falta a Ron DeSantis para cumplir las ...  \n",
       "4  México: así ataja el flujo de migrantes en la ...  "
      ],
      "text/html": [
       "<div>\n",
       "<style scoped>\n",
       "    .dataframe tbody tr th:only-of-type {\n",
       "        vertical-align: middle;\n",
       "    }\n",
       "\n",
       "    .dataframe tbody tr th {\n",
       "        vertical-align: top;\n",
       "    }\n",
       "\n",
       "    .dataframe thead th {\n",
       "        text-align: right;\n",
       "    }\n",
       "</style>\n",
       "<table border=\"1\" class=\"dataframe\">\n",
       "  <thead>\n",
       "    <tr style=\"text-align: right;\">\n",
       "      <th></th>\n",
       "      <th>news</th>\n",
       "      <th>principal_frames</th>\n",
       "      <th>country</th>\n",
       "      <th>newspaper</th>\n",
       "      <th>title</th>\n",
       "    </tr>\n",
       "  </thead>\n",
       "  <tbody>\n",
       "    <tr>\n",
       "      <th>0</th>\n",
       "      <td>Es crucial tener en cuenta que una visa no gar...</td>\n",
       "      <td>legality_constitutionality_and_jurisprudence</td>\n",
       "      <td>Colombia</td>\n",
       "      <td>El Tiempo</td>\n",
       "      <td>¿Cuánto tiempo estoy autorizado a permanecer e...</td>\n",
       "    </tr>\n",
       "    <tr>\n",
       "      <th>1</th>\n",
       "      <td>El presidente Gustavo Petro intervino en el se...</td>\n",
       "      <td>political</td>\n",
       "      <td>Colombia</td>\n",
       "      <td>El Tiempo</td>\n",
       "      <td>Presidente Petro catalogó de 'invasión imperia...</td>\n",
       "    </tr>\n",
       "    <tr>\n",
       "      <th>2</th>\n",
       "      <td>El Parlamento británico adoptó este martes una...</td>\n",
       "      <td>external_regulation_and_reputation</td>\n",
       "      <td>Colombia</td>\n",
       "      <td>El Tiempo</td>\n",
       "      <td>La dura ley antiinmigración que adoptó Reino U...</td>\n",
       "    </tr>\n",
       "    <tr>\n",
       "      <th>3</th>\n",
       "      <td>Para la derecha estadounidense más tradicional...</td>\n",
       "      <td>political</td>\n",
       "      <td>Colombia</td>\n",
       "      <td>El Tiempo</td>\n",
       "      <td>¿Qué le falta a Ron DeSantis para cumplir las ...</td>\n",
       "    </tr>\n",
       "    <tr>\n",
       "      <th>4</th>\n",
       "      <td>CIUDAD JUÁREZ, México — Refugios para migrante...</td>\n",
       "      <td>external_regulation_and_reputation</td>\n",
       "      <td>Colombia</td>\n",
       "      <td>El Tiempo</td>\n",
       "      <td>México: así ataja el flujo de migrantes en la ...</td>\n",
       "    </tr>\n",
       "  </tbody>\n",
       "</table>\n",
       "</div>"
      ]
     },
     "execution_count": 155,
     "metadata": {},
     "output_type": "execute_result"
    }
   ],
   "execution_count": 155
  },
  {
   "metadata": {
    "ExecuteTime": {
     "end_time": "2025-10-19T21:35:25.616410800Z",
     "start_time": "2025-10-19T21:33:15.499538Z"
    }
   },
   "cell_type": "code",
   "source": "bronze_df_media_framing_standardized[\"news\"][2]",
   "id": "a4d5765dc3089699",
   "outputs": [
    {
     "data": {
      "text/plain": [
       "'El Parlamento británico adoptó este martes una controvertida ley contra la inmigración ilegal, que restringe drásticamente el derecho al asilo y que fue criticada por la ONU, que advirtió que va en contra del derecho internacional sobre personas refugiadas.\\n\\n\\n\\nEl texto es una iniciativa clave para el primer ministro Rishi Sunak, que se impuso la prioridad de luchar contra la inmigración irregular y prometió \"detener\" las llegadas de migrantes por el canal de la Mancha.\\n\\n\\n\\nLos migrantes que lleguen de forma ilegal al territorio británico ya no podrán pedir asilo en el país, según la ley. Además, el gobierno británico quiere que estos sean rápidamente detenidos y expulsados, ya sea a su país de origen o a otro Estado como Ruanda, vengan de donde vengan.\\n\\n\\n\\nEl proyecto de ley sobre inmigración estuvo bloqueado durante semanas en el Parlamento, pues la Cámara de los Lores pidió numerosas enmiendas, para restringir las detenciones de menores y para evitar formas de esclavitud moderna.\\n\\n\\n\\nFue adoptado este martes de madrugada y tendrá que ser ratificado por el rey Carlos III, una formalidad.\\n\\n\\n\\nLa ONU condenó la ley, afirmando que entra \"en contradicción\" con las obligaciones del Reino Unido respecto al derecho internacional relativo a los derechos humanos y los refugiados.\\n\\n\\n\\nEl texto tendrá \"profundas consecuencias para las personas que necesiten protección internacional\", denunciaron en un comunicado conjunto el Alto Comisionado para los Derechos Humanos, Volker Türk, y el Alto Comisionado para los Refugiados, Filippo Grandi.\\n\\n\\n\\nLos migrantes no tendrán \"garantía alguna de poder beneficiarse de una protección en el país\" al que serán expulsados, denunció la ONU. Según Naciones Unidas, la ley \"crea nuevos poderes de detención muy extendidos, con un control judicial limitado\".\\n\\n\\n\\n¿Saltarse la fila de espera?\\n\\nEn 2022, más de 45.000 migrantes cruzaron el canal de la Mancha, sobre todo desde Francia, en pequeñas embarcaciones, un récord. En lo que va de año, lo hicieron más de 13.000. En el primer trimestre, la mayoría eran afganos.\\n\\n\\n\\nEl gobierno acusa a los migrantes irregulares de \"saltarse la fila de espera\" en detrimento de quienes llegan al país por \"vías seguras\" o legales.\\n\\n\\n\\nSin embargo, \"la mayoría de las personas que huyen de la guerra o de la persecución no tienen acceso a documentos como pasaportes o visados\", responde la ONU. \"Las vías seguras o \\'legales\\' pocas veces están disponibles para estas personas\".\\n\\n\\n\\nEl año pasado, el Reino Unido alcanzó un acuerdo con Ruanda para enviar allí a migrantes en situación irregular, pero de momento no se ha realizado ninguna expulsión.\\n\\n\\n\\nEl primer vuelo en el marco de este pacto, previsto en junio de 2022, fue cancelado a raíz de una decisión del Tribunal Europeo de Derechos Humanos (TEDH). A finales de junio, la justicia declaró ilegal ese proyecto, pero el gobierno anunció que recurrió el fallo.\\n\\n\\n\\nEl jefe espiritual de la Iglesia anglicana, el arzobispo de Canterbury Justin Welby, quien también es miembro de la Cámara de los Lores, señaló que \"no (ve) cómo\" podrá esa ley acabar con las llegadas de embarcaciones de migrantes. \"No he escuchado nada que me haya convencido\", declaró durante los debates.\\n\\n\\n\\nPor otro lado, unos 500 solicitantes de asilo serán instalados en un pontón, amarrado en un puerto inglés, para reducir costes de alojamiento en hoteles. La barcaza, llamada \"Bibby Stockholm\", llegó este martes al puerto de Portland, en el sur de Inglaterra. Fue muy criticada por oenegés, que la calificaron de \"barco-prisión\".'"
      ]
     },
     "execution_count": 156,
     "metadata": {},
     "output_type": "execute_result"
    }
   ],
   "execution_count": 156
  },
  {
   "metadata": {
    "ExecuteTime": {
     "end_time": "2025-10-19T21:33:15.551360Z",
     "start_time": "2025-10-19T21:33:15.544361Z"
    }
   },
   "cell_type": "code",
   "source": "bronze_df_media_framing_standardized.head()",
   "id": "1a04b8c768f147b4",
   "outputs": [
    {
     "data": {
      "text/plain": [
       "                                                news  \\\n",
       "0  Es crucial tener en cuenta que una visa no gar...   \n",
       "1  El presidente Gustavo Petro intervino en el se...   \n",
       "2  El Parlamento británico adoptó este martes una...   \n",
       "3  Para la derecha estadounidense más tradicional...   \n",
       "4  CIUDAD JUÁREZ, México — Refugios para migrante...   \n",
       "\n",
       "                               principal_frames   country  newspaper  \\\n",
       "0  legality_constitutionality_and_jurisprudence  Colombia  El Tiempo   \n",
       "1                                     political  Colombia  El Tiempo   \n",
       "2            external_regulation_and_reputation  Colombia  El Tiempo   \n",
       "3                                     political  Colombia  El Tiempo   \n",
       "4            external_regulation_and_reputation  Colombia  El Tiempo   \n",
       "\n",
       "                                               title  \n",
       "0  ¿Cuánto tiempo estoy autorizado a permanecer e...  \n",
       "1  Presidente Petro catalogó de 'invasión imperia...  \n",
       "2  La dura ley antiinmigración que adoptó Reino U...  \n",
       "3  ¿Qué le falta a Ron DeSantis para cumplir las ...  \n",
       "4  México: así ataja el flujo de migrantes en la ...  "
      ],
      "text/html": [
       "<div>\n",
       "<style scoped>\n",
       "    .dataframe tbody tr th:only-of-type {\n",
       "        vertical-align: middle;\n",
       "    }\n",
       "\n",
       "    .dataframe tbody tr th {\n",
       "        vertical-align: top;\n",
       "    }\n",
       "\n",
       "    .dataframe thead th {\n",
       "        text-align: right;\n",
       "    }\n",
       "</style>\n",
       "<table border=\"1\" class=\"dataframe\">\n",
       "  <thead>\n",
       "    <tr style=\"text-align: right;\">\n",
       "      <th></th>\n",
       "      <th>news</th>\n",
       "      <th>principal_frames</th>\n",
       "      <th>country</th>\n",
       "      <th>newspaper</th>\n",
       "      <th>title</th>\n",
       "    </tr>\n",
       "  </thead>\n",
       "  <tbody>\n",
       "    <tr>\n",
       "      <th>0</th>\n",
       "      <td>Es crucial tener en cuenta que una visa no gar...</td>\n",
       "      <td>legality_constitutionality_and_jurisprudence</td>\n",
       "      <td>Colombia</td>\n",
       "      <td>El Tiempo</td>\n",
       "      <td>¿Cuánto tiempo estoy autorizado a permanecer e...</td>\n",
       "    </tr>\n",
       "    <tr>\n",
       "      <th>1</th>\n",
       "      <td>El presidente Gustavo Petro intervino en el se...</td>\n",
       "      <td>political</td>\n",
       "      <td>Colombia</td>\n",
       "      <td>El Tiempo</td>\n",
       "      <td>Presidente Petro catalogó de 'invasión imperia...</td>\n",
       "    </tr>\n",
       "    <tr>\n",
       "      <th>2</th>\n",
       "      <td>El Parlamento británico adoptó este martes una...</td>\n",
       "      <td>external_regulation_and_reputation</td>\n",
       "      <td>Colombia</td>\n",
       "      <td>El Tiempo</td>\n",
       "      <td>La dura ley antiinmigración que adoptó Reino U...</td>\n",
       "    </tr>\n",
       "    <tr>\n",
       "      <th>3</th>\n",
       "      <td>Para la derecha estadounidense más tradicional...</td>\n",
       "      <td>political</td>\n",
       "      <td>Colombia</td>\n",
       "      <td>El Tiempo</td>\n",
       "      <td>¿Qué le falta a Ron DeSantis para cumplir las ...</td>\n",
       "    </tr>\n",
       "    <tr>\n",
       "      <th>4</th>\n",
       "      <td>CIUDAD JUÁREZ, México — Refugios para migrante...</td>\n",
       "      <td>external_regulation_and_reputation</td>\n",
       "      <td>Colombia</td>\n",
       "      <td>El Tiempo</td>\n",
       "      <td>México: así ataja el flujo de migrantes en la ...</td>\n",
       "    </tr>\n",
       "  </tbody>\n",
       "</table>\n",
       "</div>"
      ]
     },
     "execution_count": 157,
     "metadata": {},
     "output_type": "execute_result"
    }
   ],
   "execution_count": 157
  },
  {
   "metadata": {
    "ExecuteTime": {
     "end_time": "2025-10-19T21:33:15.601572Z",
     "start_time": "2025-10-19T21:33:15.594002Z"
    }
   },
   "cell_type": "code",
   "source": [
    "bronze_df_media_framing_standardized = bronze_df_media_framing_standardized[[\"title\", \"principal_frames\", \"news\", \"country\", \"newspaper\"]]\n",
    "bronze_df_media_framing_standardized.head()"
   ],
   "id": "e158981bf3854884",
   "outputs": [
    {
     "data": {
      "text/plain": [
       "                                               title  \\\n",
       "0  ¿Cuánto tiempo estoy autorizado a permanecer e...   \n",
       "1  Presidente Petro catalogó de 'invasión imperia...   \n",
       "2  La dura ley antiinmigración que adoptó Reino U...   \n",
       "3  ¿Qué le falta a Ron DeSantis para cumplir las ...   \n",
       "4  México: así ataja el flujo de migrantes en la ...   \n",
       "\n",
       "                               principal_frames  \\\n",
       "0  legality_constitutionality_and_jurisprudence   \n",
       "1                                     political   \n",
       "2            external_regulation_and_reputation   \n",
       "3                                     political   \n",
       "4            external_regulation_and_reputation   \n",
       "\n",
       "                                                news   country  newspaper  \n",
       "0  Es crucial tener en cuenta que una visa no gar...  Colombia  El Tiempo  \n",
       "1  El presidente Gustavo Petro intervino en el se...  Colombia  El Tiempo  \n",
       "2  El Parlamento británico adoptó este martes una...  Colombia  El Tiempo  \n",
       "3  Para la derecha estadounidense más tradicional...  Colombia  El Tiempo  \n",
       "4  CIUDAD JUÁREZ, México — Refugios para migrante...  Colombia  El Tiempo  "
      ],
      "text/html": [
       "<div>\n",
       "<style scoped>\n",
       "    .dataframe tbody tr th:only-of-type {\n",
       "        vertical-align: middle;\n",
       "    }\n",
       "\n",
       "    .dataframe tbody tr th {\n",
       "        vertical-align: top;\n",
       "    }\n",
       "\n",
       "    .dataframe thead th {\n",
       "        text-align: right;\n",
       "    }\n",
       "</style>\n",
       "<table border=\"1\" class=\"dataframe\">\n",
       "  <thead>\n",
       "    <tr style=\"text-align: right;\">\n",
       "      <th></th>\n",
       "      <th>title</th>\n",
       "      <th>principal_frames</th>\n",
       "      <th>news</th>\n",
       "      <th>country</th>\n",
       "      <th>newspaper</th>\n",
       "    </tr>\n",
       "  </thead>\n",
       "  <tbody>\n",
       "    <tr>\n",
       "      <th>0</th>\n",
       "      <td>¿Cuánto tiempo estoy autorizado a permanecer e...</td>\n",
       "      <td>legality_constitutionality_and_jurisprudence</td>\n",
       "      <td>Es crucial tener en cuenta que una visa no gar...</td>\n",
       "      <td>Colombia</td>\n",
       "      <td>El Tiempo</td>\n",
       "    </tr>\n",
       "    <tr>\n",
       "      <th>1</th>\n",
       "      <td>Presidente Petro catalogó de 'invasión imperia...</td>\n",
       "      <td>political</td>\n",
       "      <td>El presidente Gustavo Petro intervino en el se...</td>\n",
       "      <td>Colombia</td>\n",
       "      <td>El Tiempo</td>\n",
       "    </tr>\n",
       "    <tr>\n",
       "      <th>2</th>\n",
       "      <td>La dura ley antiinmigración que adoptó Reino U...</td>\n",
       "      <td>external_regulation_and_reputation</td>\n",
       "      <td>El Parlamento británico adoptó este martes una...</td>\n",
       "      <td>Colombia</td>\n",
       "      <td>El Tiempo</td>\n",
       "    </tr>\n",
       "    <tr>\n",
       "      <th>3</th>\n",
       "      <td>¿Qué le falta a Ron DeSantis para cumplir las ...</td>\n",
       "      <td>political</td>\n",
       "      <td>Para la derecha estadounidense más tradicional...</td>\n",
       "      <td>Colombia</td>\n",
       "      <td>El Tiempo</td>\n",
       "    </tr>\n",
       "    <tr>\n",
       "      <th>4</th>\n",
       "      <td>México: así ataja el flujo de migrantes en la ...</td>\n",
       "      <td>external_regulation_and_reputation</td>\n",
       "      <td>CIUDAD JUÁREZ, México — Refugios para migrante...</td>\n",
       "      <td>Colombia</td>\n",
       "      <td>El Tiempo</td>\n",
       "    </tr>\n",
       "  </tbody>\n",
       "</table>\n",
       "</div>"
      ]
     },
     "execution_count": 158,
     "metadata": {},
     "output_type": "execute_result"
    }
   ],
   "execution_count": 158
  },
  {
   "metadata": {
    "ExecuteTime": {
     "end_time": "2025-10-19T21:33:15.643988Z",
     "start_time": "2025-10-19T21:33:15.638294Z"
    }
   },
   "cell_type": "code",
   "source": "bronze_df_media_framing_standardized['principal_frames'].value_counts()",
   "id": "ed14fd1cf415ab8b",
   "outputs": [
    {
     "data": {
      "text/plain": [
       "principal_frames\n",
       "political                                       24\n",
       "security_and_defense                            23\n",
       "public_opinion                                  18\n",
       "economic                                        12\n",
       "crime_and_punishment                            12\n",
       "policy_prescription_and_evaluation              11\n",
       "health_and_safety                               11\n",
       "legality_constitutionality_and_jurisprudence     9\n",
       "external_regulation_and_reputation               9\n",
       "morality                                         3\n",
       "cultural_identity                                3\n",
       "quality_of_life                                  2\n",
       "capacity_and_resources                           2\n",
       "fairness_and_equality                            1\n",
       "Name: count, dtype: int64"
      ]
     },
     "execution_count": 159,
     "metadata": {},
     "output_type": "execute_result"
    }
   ],
   "execution_count": 159
  },
  {
   "metadata": {
    "ExecuteTime": {
     "end_time": "2025-10-19T21:33:15.683929Z",
     "start_time": "2025-10-19T21:33:15.679056Z"
    }
   },
   "cell_type": "code",
   "source": "bronze_df_el_tiempo_standardized[\"category\"].value_counts()",
   "id": "b44ff2c29a495863",
   "outputs": [
    {
     "data": {
      "text/plain": [
       "category\n",
       "Salud            100\n",
       "Internacional     98\n",
       "Economica         98\n",
       "Politica          92\n",
       "Cultura           92\n",
       "Name: count, dtype: int64"
      ]
     },
     "execution_count": 160,
     "metadata": {},
     "output_type": "execute_result"
    }
   ],
   "execution_count": 160
  },
  {
   "metadata": {
    "ExecuteTime": {
     "end_time": "2025-10-19T21:33:15.725105Z",
     "start_time": "2025-10-19T21:33:15.720607Z"
    }
   },
   "cell_type": "code",
   "source": [
    "categories_to_keep = [\n",
    "    \"political\",\n",
    "    \"economic\",\n",
    "    \"security_and_defense\",\n",
    "    \"health_and_safety\",\n",
    "    \"cultural_identity\"\n",
    "]\n",
    "\n",
    "bronze_df_media_framing_standardized = bronze_df_media_framing_standardized[\n",
    "    bronze_df_media_framing_standardized[\"principal_frames\"].isin(categories_to_keep)\n",
    "]"
   ],
   "id": "3d2cf42e1c120094",
   "outputs": [],
   "execution_count": 161
  },
  {
   "metadata": {
    "ExecuteTime": {
     "end_time": "2025-10-19T21:33:15.763419Z",
     "start_time": "2025-10-19T21:33:15.757694Z"
    }
   },
   "cell_type": "code",
   "source": "bronze_df_media_framing_standardized[\"principal_frames\"].value_counts()",
   "id": "ca7e5f65ccea355b",
   "outputs": [
    {
     "data": {
      "text/plain": [
       "principal_frames\n",
       "political               24\n",
       "security_and_defense    23\n",
       "economic                12\n",
       "health_and_safety       11\n",
       "cultural_identity        3\n",
       "Name: count, dtype: int64"
      ]
     },
     "execution_count": 162,
     "metadata": {},
     "output_type": "execute_result"
    }
   ],
   "execution_count": 162
  },
  {
   "metadata": {
    "ExecuteTime": {
     "end_time": "2025-10-19T21:33:15.821411Z",
     "start_time": "2025-10-19T21:33:15.816636Z"
    }
   },
   "cell_type": "code",
   "source": "bronze_df_media_framing_standardized[\"country\"].value_counts()",
   "id": "ae2bd8dc2d149cc7",
   "outputs": [
    {
     "data": {
      "text/plain": [
       "country\n",
       "Colombia    40\n",
       "Mexico      33\n",
       "Name: count, dtype: int64"
      ]
     },
     "execution_count": 163,
     "metadata": {},
     "output_type": "execute_result"
    }
   ],
   "execution_count": 163
  },
  {
   "metadata": {
    "ExecuteTime": {
     "end_time": "2025-10-19T21:33:15.876135Z",
     "start_time": "2025-10-19T21:33:15.868515Z"
    }
   },
   "cell_type": "code",
   "source": "bronze_df_el_tiempo_standardized.head()",
   "id": "9d70614164839b45",
   "outputs": [
    {
     "data": {
      "text/plain": [
       "                                               title  category  \\\n",
       "0  iTracking Digital de Guarumo en octubre: Abela...  Politica   \n",
       "1  Bruce Mac Master denuncia que 'continúa hostig...  Politica   \n",
       "2  ¿Presidente Gustavo Petro en campaña? El impac...  Politica   \n",
       "3  Tras descertificación, Cancillería refuerza po...  Politica   \n",
       "4  Críticas a Francisco Barbosa tras desaprobar c...  Politica   \n",
       "\n",
       "                                             content   country  newspaper  \n",
       "0  Vicky Dávila y Claudia López crecen en seguido...  Colombia  El Tiempo  \n",
       "1  En una entrevista concedida a EL TIEMPO, el lí...  Colombia  El Tiempo  \n",
       "2  En distintos espacios, el mandatario ha hecho ...  Colombia  El Tiempo  \n",
       "3  La Canciller inauguró en Italia la exposición ...  Colombia  El Tiempo  \n",
       "4  El exfiscal, quien anunció en EL TIEMPO el ret...  Colombia  El Tiempo  "
      ],
      "text/html": [
       "<div>\n",
       "<style scoped>\n",
       "    .dataframe tbody tr th:only-of-type {\n",
       "        vertical-align: middle;\n",
       "    }\n",
       "\n",
       "    .dataframe tbody tr th {\n",
       "        vertical-align: top;\n",
       "    }\n",
       "\n",
       "    .dataframe thead th {\n",
       "        text-align: right;\n",
       "    }\n",
       "</style>\n",
       "<table border=\"1\" class=\"dataframe\">\n",
       "  <thead>\n",
       "    <tr style=\"text-align: right;\">\n",
       "      <th></th>\n",
       "      <th>title</th>\n",
       "      <th>category</th>\n",
       "      <th>content</th>\n",
       "      <th>country</th>\n",
       "      <th>newspaper</th>\n",
       "    </tr>\n",
       "  </thead>\n",
       "  <tbody>\n",
       "    <tr>\n",
       "      <th>0</th>\n",
       "      <td>iTracking Digital de Guarumo en octubre: Abela...</td>\n",
       "      <td>Politica</td>\n",
       "      <td>Vicky Dávila y Claudia López crecen en seguido...</td>\n",
       "      <td>Colombia</td>\n",
       "      <td>El Tiempo</td>\n",
       "    </tr>\n",
       "    <tr>\n",
       "      <th>1</th>\n",
       "      <td>Bruce Mac Master denuncia que 'continúa hostig...</td>\n",
       "      <td>Politica</td>\n",
       "      <td>En una entrevista concedida a EL TIEMPO, el lí...</td>\n",
       "      <td>Colombia</td>\n",
       "      <td>El Tiempo</td>\n",
       "    </tr>\n",
       "    <tr>\n",
       "      <th>2</th>\n",
       "      <td>¿Presidente Gustavo Petro en campaña? El impac...</td>\n",
       "      <td>Politica</td>\n",
       "      <td>En distintos espacios, el mandatario ha hecho ...</td>\n",
       "      <td>Colombia</td>\n",
       "      <td>El Tiempo</td>\n",
       "    </tr>\n",
       "    <tr>\n",
       "      <th>3</th>\n",
       "      <td>Tras descertificación, Cancillería refuerza po...</td>\n",
       "      <td>Politica</td>\n",
       "      <td>La Canciller inauguró en Italia la exposición ...</td>\n",
       "      <td>Colombia</td>\n",
       "      <td>El Tiempo</td>\n",
       "    </tr>\n",
       "    <tr>\n",
       "      <th>4</th>\n",
       "      <td>Críticas a Francisco Barbosa tras desaprobar c...</td>\n",
       "      <td>Politica</td>\n",
       "      <td>El exfiscal, quien anunció en EL TIEMPO el ret...</td>\n",
       "      <td>Colombia</td>\n",
       "      <td>El Tiempo</td>\n",
       "    </tr>\n",
       "  </tbody>\n",
       "</table>\n",
       "</div>"
      ]
     },
     "execution_count": 164,
     "metadata": {},
     "output_type": "execute_result"
    }
   ],
   "execution_count": 164
  },
  {
   "metadata": {
    "ExecuteTime": {
     "end_time": "2025-10-19T21:33:15.922268Z",
     "start_time": "2025-10-19T21:33:15.915264Z"
    }
   },
   "cell_type": "code",
   "source": "bronze_df_media_framing_standardized.head()",
   "id": "9683a062970c623a",
   "outputs": [
    {
     "data": {
      "text/plain": [
       "                                                title      principal_frames  \\\n",
       "1   Presidente Petro catalogó de 'invasión imperia...             political   \n",
       "3   ¿Qué le falta a Ron DeSantis para cumplir las ...             political   \n",
       "5   Estos son algunos de los países con conflictos...  security_and_defense   \n",
       "6   Estados Unidos: la visa EB-2 a la que puede ap...             political   \n",
       "10  Gustavo Bolívar será el candidato del Pacto Hi...             political   \n",
       "\n",
       "                                                 news   country  newspaper  \n",
       "1   El presidente Gustavo Petro intervino en el se...  Colombia  El Tiempo  \n",
       "3   Para la derecha estadounidense más tradicional...  Colombia  El Tiempo  \n",
       "5   A lo largo de la historia han existido países ...  Colombia  El Tiempo  \n",
       "6   Para los inmigrantes profesionales con un títu...  Colombia  El Tiempo  \n",
       "10  Gustavo Bolívar será el candidato del Pacto Hi...  Colombia  El Tiempo  "
      ],
      "text/html": [
       "<div>\n",
       "<style scoped>\n",
       "    .dataframe tbody tr th:only-of-type {\n",
       "        vertical-align: middle;\n",
       "    }\n",
       "\n",
       "    .dataframe tbody tr th {\n",
       "        vertical-align: top;\n",
       "    }\n",
       "\n",
       "    .dataframe thead th {\n",
       "        text-align: right;\n",
       "    }\n",
       "</style>\n",
       "<table border=\"1\" class=\"dataframe\">\n",
       "  <thead>\n",
       "    <tr style=\"text-align: right;\">\n",
       "      <th></th>\n",
       "      <th>title</th>\n",
       "      <th>principal_frames</th>\n",
       "      <th>news</th>\n",
       "      <th>country</th>\n",
       "      <th>newspaper</th>\n",
       "    </tr>\n",
       "  </thead>\n",
       "  <tbody>\n",
       "    <tr>\n",
       "      <th>1</th>\n",
       "      <td>Presidente Petro catalogó de 'invasión imperia...</td>\n",
       "      <td>political</td>\n",
       "      <td>El presidente Gustavo Petro intervino en el se...</td>\n",
       "      <td>Colombia</td>\n",
       "      <td>El Tiempo</td>\n",
       "    </tr>\n",
       "    <tr>\n",
       "      <th>3</th>\n",
       "      <td>¿Qué le falta a Ron DeSantis para cumplir las ...</td>\n",
       "      <td>political</td>\n",
       "      <td>Para la derecha estadounidense más tradicional...</td>\n",
       "      <td>Colombia</td>\n",
       "      <td>El Tiempo</td>\n",
       "    </tr>\n",
       "    <tr>\n",
       "      <th>5</th>\n",
       "      <td>Estos son algunos de los países con conflictos...</td>\n",
       "      <td>security_and_defense</td>\n",
       "      <td>A lo largo de la historia han existido países ...</td>\n",
       "      <td>Colombia</td>\n",
       "      <td>El Tiempo</td>\n",
       "    </tr>\n",
       "    <tr>\n",
       "      <th>6</th>\n",
       "      <td>Estados Unidos: la visa EB-2 a la que puede ap...</td>\n",
       "      <td>political</td>\n",
       "      <td>Para los inmigrantes profesionales con un títu...</td>\n",
       "      <td>Colombia</td>\n",
       "      <td>El Tiempo</td>\n",
       "    </tr>\n",
       "    <tr>\n",
       "      <th>10</th>\n",
       "      <td>Gustavo Bolívar será el candidato del Pacto Hi...</td>\n",
       "      <td>political</td>\n",
       "      <td>Gustavo Bolívar será el candidato del Pacto Hi...</td>\n",
       "      <td>Colombia</td>\n",
       "      <td>El Tiempo</td>\n",
       "    </tr>\n",
       "  </tbody>\n",
       "</table>\n",
       "</div>"
      ]
     },
     "execution_count": 165,
     "metadata": {},
     "output_type": "execute_result"
    }
   ],
   "execution_count": 165
  },
  {
   "metadata": {
    "ExecuteTime": {
     "end_time": "2025-10-19T21:33:15.978492Z",
     "start_time": "2025-10-19T21:33:15.974479Z"
    }
   },
   "cell_type": "code",
   "source": [
    "bronze_df_media_framing_standardized = bronze_df_media_framing_standardized.rename(\n",
    "    columns={\n",
    "        \"title\": \"title\",\n",
    "        \"principal_frames\": \"category\",\n",
    "        \"news\": \"content\",\n",
    "        \"country\": \"country\"\n",
    "    }\n",
    ")"
   ],
   "id": "907398f6786bc06b",
   "outputs": [],
   "execution_count": 166
  },
  {
   "metadata": {
    "ExecuteTime": {
     "end_time": "2025-10-19T21:33:16.009017Z",
     "start_time": "2025-10-19T21:33:15.999532Z"
    }
   },
   "cell_type": "code",
   "source": "bronze_df_media_framing_standardized.head()",
   "id": "66a7e084fb6e847f",
   "outputs": [
    {
     "data": {
      "text/plain": [
       "                                                title              category  \\\n",
       "1   Presidente Petro catalogó de 'invasión imperia...             political   \n",
       "3   ¿Qué le falta a Ron DeSantis para cumplir las ...             political   \n",
       "5   Estos son algunos de los países con conflictos...  security_and_defense   \n",
       "6   Estados Unidos: la visa EB-2 a la que puede ap...             political   \n",
       "10  Gustavo Bolívar será el candidato del Pacto Hi...             political   \n",
       "\n",
       "                                              content   country  newspaper  \n",
       "1   El presidente Gustavo Petro intervino en el se...  Colombia  El Tiempo  \n",
       "3   Para la derecha estadounidense más tradicional...  Colombia  El Tiempo  \n",
       "5   A lo largo de la historia han existido países ...  Colombia  El Tiempo  \n",
       "6   Para los inmigrantes profesionales con un títu...  Colombia  El Tiempo  \n",
       "10  Gustavo Bolívar será el candidato del Pacto Hi...  Colombia  El Tiempo  "
      ],
      "text/html": [
       "<div>\n",
       "<style scoped>\n",
       "    .dataframe tbody tr th:only-of-type {\n",
       "        vertical-align: middle;\n",
       "    }\n",
       "\n",
       "    .dataframe tbody tr th {\n",
       "        vertical-align: top;\n",
       "    }\n",
       "\n",
       "    .dataframe thead th {\n",
       "        text-align: right;\n",
       "    }\n",
       "</style>\n",
       "<table border=\"1\" class=\"dataframe\">\n",
       "  <thead>\n",
       "    <tr style=\"text-align: right;\">\n",
       "      <th></th>\n",
       "      <th>title</th>\n",
       "      <th>category</th>\n",
       "      <th>content</th>\n",
       "      <th>country</th>\n",
       "      <th>newspaper</th>\n",
       "    </tr>\n",
       "  </thead>\n",
       "  <tbody>\n",
       "    <tr>\n",
       "      <th>1</th>\n",
       "      <td>Presidente Petro catalogó de 'invasión imperia...</td>\n",
       "      <td>political</td>\n",
       "      <td>El presidente Gustavo Petro intervino en el se...</td>\n",
       "      <td>Colombia</td>\n",
       "      <td>El Tiempo</td>\n",
       "    </tr>\n",
       "    <tr>\n",
       "      <th>3</th>\n",
       "      <td>¿Qué le falta a Ron DeSantis para cumplir las ...</td>\n",
       "      <td>political</td>\n",
       "      <td>Para la derecha estadounidense más tradicional...</td>\n",
       "      <td>Colombia</td>\n",
       "      <td>El Tiempo</td>\n",
       "    </tr>\n",
       "    <tr>\n",
       "      <th>5</th>\n",
       "      <td>Estos son algunos de los países con conflictos...</td>\n",
       "      <td>security_and_defense</td>\n",
       "      <td>A lo largo de la historia han existido países ...</td>\n",
       "      <td>Colombia</td>\n",
       "      <td>El Tiempo</td>\n",
       "    </tr>\n",
       "    <tr>\n",
       "      <th>6</th>\n",
       "      <td>Estados Unidos: la visa EB-2 a la que puede ap...</td>\n",
       "      <td>political</td>\n",
       "      <td>Para los inmigrantes profesionales con un títu...</td>\n",
       "      <td>Colombia</td>\n",
       "      <td>El Tiempo</td>\n",
       "    </tr>\n",
       "    <tr>\n",
       "      <th>10</th>\n",
       "      <td>Gustavo Bolívar será el candidato del Pacto Hi...</td>\n",
       "      <td>political</td>\n",
       "      <td>Gustavo Bolívar será el candidato del Pacto Hi...</td>\n",
       "      <td>Colombia</td>\n",
       "      <td>El Tiempo</td>\n",
       "    </tr>\n",
       "  </tbody>\n",
       "</table>\n",
       "</div>"
      ]
     },
     "execution_count": 167,
     "metadata": {},
     "output_type": "execute_result"
    }
   ],
   "execution_count": 167
  },
  {
   "metadata": {
    "ExecuteTime": {
     "end_time": "2025-10-19T21:33:16.097898Z",
     "start_time": "2025-10-19T21:33:16.091553Z"
    }
   },
   "cell_type": "code",
   "source": "bronze_df_media_framing_standardized[\"category\"].value_counts()",
   "id": "e5c6ed57b902ccec",
   "outputs": [
    {
     "data": {
      "text/plain": [
       "category\n",
       "political               24\n",
       "security_and_defense    23\n",
       "economic                12\n",
       "health_and_safety       11\n",
       "cultural_identity        3\n",
       "Name: count, dtype: int64"
      ]
     },
     "execution_count": 168,
     "metadata": {},
     "output_type": "execute_result"
    }
   ],
   "execution_count": 168
  },
  {
   "metadata": {
    "ExecuteTime": {
     "end_time": "2025-10-19T21:33:16.168566Z",
     "start_time": "2025-10-19T21:33:16.164568Z"
    }
   },
   "cell_type": "code",
   "source": [
    "bronze_df_media_framing_standardized[\"category\"] = bronze_df_media_framing_standardized[\"category\"].replace({\n",
    "    \"political\": \"Politica\",\n",
    "    \"economic\": \"Economica\",\n",
    "    \"security_and_defense\": \"Seguridad\",\n",
    "    \"health_and_safety\": \"Salud\",\n",
    "    \"cultural_identity\": \"Cultura\"\n",
    "})"
   ],
   "id": "5b8720b2fa10084f",
   "outputs": [],
   "execution_count": 169
  },
  {
   "metadata": {
    "ExecuteTime": {
     "end_time": "2025-10-19T21:33:16.208536Z",
     "start_time": "2025-10-19T21:33:16.201132Z"
    }
   },
   "cell_type": "code",
   "source": "bronze_df_media_framing_standardized.head()",
   "id": "eb4fe250ff5f3e61",
   "outputs": [
    {
     "data": {
      "text/plain": [
       "                                                title   category  \\\n",
       "1   Presidente Petro catalogó de 'invasión imperia...   Politica   \n",
       "3   ¿Qué le falta a Ron DeSantis para cumplir las ...   Politica   \n",
       "5   Estos son algunos de los países con conflictos...  Seguridad   \n",
       "6   Estados Unidos: la visa EB-2 a la que puede ap...   Politica   \n",
       "10  Gustavo Bolívar será el candidato del Pacto Hi...   Politica   \n",
       "\n",
       "                                              content   country  newspaper  \n",
       "1   El presidente Gustavo Petro intervino en el se...  Colombia  El Tiempo  \n",
       "3   Para la derecha estadounidense más tradicional...  Colombia  El Tiempo  \n",
       "5   A lo largo de la historia han existido países ...  Colombia  El Tiempo  \n",
       "6   Para los inmigrantes profesionales con un títu...  Colombia  El Tiempo  \n",
       "10  Gustavo Bolívar será el candidato del Pacto Hi...  Colombia  El Tiempo  "
      ],
      "text/html": [
       "<div>\n",
       "<style scoped>\n",
       "    .dataframe tbody tr th:only-of-type {\n",
       "        vertical-align: middle;\n",
       "    }\n",
       "\n",
       "    .dataframe tbody tr th {\n",
       "        vertical-align: top;\n",
       "    }\n",
       "\n",
       "    .dataframe thead th {\n",
       "        text-align: right;\n",
       "    }\n",
       "</style>\n",
       "<table border=\"1\" class=\"dataframe\">\n",
       "  <thead>\n",
       "    <tr style=\"text-align: right;\">\n",
       "      <th></th>\n",
       "      <th>title</th>\n",
       "      <th>category</th>\n",
       "      <th>content</th>\n",
       "      <th>country</th>\n",
       "      <th>newspaper</th>\n",
       "    </tr>\n",
       "  </thead>\n",
       "  <tbody>\n",
       "    <tr>\n",
       "      <th>1</th>\n",
       "      <td>Presidente Petro catalogó de 'invasión imperia...</td>\n",
       "      <td>Politica</td>\n",
       "      <td>El presidente Gustavo Petro intervino en el se...</td>\n",
       "      <td>Colombia</td>\n",
       "      <td>El Tiempo</td>\n",
       "    </tr>\n",
       "    <tr>\n",
       "      <th>3</th>\n",
       "      <td>¿Qué le falta a Ron DeSantis para cumplir las ...</td>\n",
       "      <td>Politica</td>\n",
       "      <td>Para la derecha estadounidense más tradicional...</td>\n",
       "      <td>Colombia</td>\n",
       "      <td>El Tiempo</td>\n",
       "    </tr>\n",
       "    <tr>\n",
       "      <th>5</th>\n",
       "      <td>Estos son algunos de los países con conflictos...</td>\n",
       "      <td>Seguridad</td>\n",
       "      <td>A lo largo de la historia han existido países ...</td>\n",
       "      <td>Colombia</td>\n",
       "      <td>El Tiempo</td>\n",
       "    </tr>\n",
       "    <tr>\n",
       "      <th>6</th>\n",
       "      <td>Estados Unidos: la visa EB-2 a la que puede ap...</td>\n",
       "      <td>Politica</td>\n",
       "      <td>Para los inmigrantes profesionales con un títu...</td>\n",
       "      <td>Colombia</td>\n",
       "      <td>El Tiempo</td>\n",
       "    </tr>\n",
       "    <tr>\n",
       "      <th>10</th>\n",
       "      <td>Gustavo Bolívar será el candidato del Pacto Hi...</td>\n",
       "      <td>Politica</td>\n",
       "      <td>Gustavo Bolívar será el candidato del Pacto Hi...</td>\n",
       "      <td>Colombia</td>\n",
       "      <td>El Tiempo</td>\n",
       "    </tr>\n",
       "  </tbody>\n",
       "</table>\n",
       "</div>"
      ]
     },
     "execution_count": 170,
     "metadata": {},
     "output_type": "execute_result"
    }
   ],
   "execution_count": 170
  },
  {
   "metadata": {},
   "cell_type": "markdown",
   "source": "## 4.8 Unificar los archivos",
   "id": "f34c9b78b8f842b8"
  },
  {
   "metadata": {
    "ExecuteTime": {
     "end_time": "2025-10-19T21:33:16.268790Z",
     "start_time": "2025-10-19T21:33:16.264729Z"
    }
   },
   "cell_type": "code",
   "source": "bronze_df_animal_politico_standardized.shape",
   "id": "447a63ba7be5ee53",
   "outputs": [
    {
     "data": {
      "text/plain": [
       "(574, 5)"
      ]
     },
     "execution_count": 171,
     "metadata": {},
     "output_type": "execute_result"
    }
   ],
   "execution_count": 171
  },
  {
   "metadata": {
    "ExecuteTime": {
     "end_time": "2025-10-19T21:33:16.340650Z",
     "start_time": "2025-10-19T21:33:16.336652Z"
    }
   },
   "cell_type": "code",
   "source": "bronze_df_el_colombiano_standardized.shape",
   "id": "ac2bc26d1c7eade6",
   "outputs": [
    {
     "data": {
      "text/plain": [
       "(1083, 5)"
      ]
     },
     "execution_count": 172,
     "metadata": {},
     "output_type": "execute_result"
    }
   ],
   "execution_count": 172
  },
  {
   "metadata": {
    "ExecuteTime": {
     "end_time": "2025-10-19T21:33:16.407319Z",
     "start_time": "2025-10-19T21:33:16.403182Z"
    }
   },
   "cell_type": "code",
   "source": "bronze_df_el_espectador_standardized.shape",
   "id": "12ae0e4078bfbd20",
   "outputs": [
    {
     "data": {
      "text/plain": [
       "(767, 5)"
      ]
     },
     "execution_count": 173,
     "metadata": {},
     "output_type": "execute_result"
    }
   ],
   "execution_count": 173
  },
  {
   "metadata": {
    "ExecuteTime": {
     "end_time": "2025-10-19T21:33:16.452927Z",
     "start_time": "2025-10-19T21:33:16.448897Z"
    }
   },
   "cell_type": "code",
   "source": "bronze_df_el_excelsior_standardized.shape",
   "id": "61f54355823efc4d",
   "outputs": [
    {
     "data": {
      "text/plain": [
       "(656, 5)"
      ]
     },
     "execution_count": 174,
     "metadata": {},
     "output_type": "execute_result"
    }
   ],
   "execution_count": 174
  },
  {
   "metadata": {
    "ExecuteTime": {
     "end_time": "2025-10-19T21:33:16.486010Z",
     "start_time": "2025-10-19T21:33:16.481633Z"
    }
   },
   "cell_type": "code",
   "source": "bronze_df_el_tiempo_standardized.shape",
   "id": "55c10394822057d8",
   "outputs": [
    {
     "data": {
      "text/plain": [
       "(480, 5)"
      ]
     },
     "execution_count": 175,
     "metadata": {},
     "output_type": "execute_result"
    }
   ],
   "execution_count": 175
  },
  {
   "metadata": {
    "ExecuteTime": {
     "end_time": "2025-10-19T21:33:16.522666Z",
     "start_time": "2025-10-19T21:33:16.517666Z"
    }
   },
   "cell_type": "code",
   "source": "bronze_df_la_jornada_standardized.shape",
   "id": "97120cd7d517285a",
   "outputs": [
    {
     "data": {
      "text/plain": [
       "(392, 5)"
      ]
     },
     "execution_count": 176,
     "metadata": {},
     "output_type": "execute_result"
    }
   ],
   "execution_count": 176
  },
  {
   "metadata": {
    "ExecuteTime": {
     "end_time": "2025-10-19T21:33:16.563873Z",
     "start_time": "2025-10-19T21:33:16.559741Z"
    }
   },
   "cell_type": "code",
   "source": "bronze_df_semana_standardized.shape",
   "id": "b700632dfe439a17",
   "outputs": [
    {
     "data": {
      "text/plain": [
       "(1610, 5)"
      ]
     },
     "execution_count": 177,
     "metadata": {},
     "output_type": "execute_result"
    }
   ],
   "execution_count": 177
  },
  {
   "metadata": {
    "ExecuteTime": {
     "end_time": "2025-10-19T21:33:16.599512Z",
     "start_time": "2025-10-19T21:33:16.594512Z"
    }
   },
   "cell_type": "code",
   "source": "bronze_df_media_framing_standardized.shape",
   "id": "a2c6392f0ba6f320",
   "outputs": [
    {
     "data": {
      "text/plain": [
       "(73, 5)"
      ]
     },
     "execution_count": 178,
     "metadata": {},
     "output_type": "execute_result"
    }
   ],
   "execution_count": 178
  },
  {
   "metadata": {
    "ExecuteTime": {
     "end_time": "2025-10-19T21:33:16.640585Z",
     "start_time": "2025-10-19T21:33:16.635583Z"
    }
   },
   "cell_type": "code",
   "source": [
    "silver_df_news = pd.concat([\n",
    "    bronze_df_animal_politico_standardized,\n",
    "    bronze_df_el_colombiano_standardized,\n",
    "    bronze_df_el_espectador_standardized,\n",
    "    bronze_df_el_excelsior_standardized,\n",
    "    bronze_df_el_tiempo_standardized,\n",
    "    bronze_df_la_jornada_standardized,\n",
    "    bronze_df_semana_standardized,\n",
    "    bronze_df_media_framing_standardized\n",
    "], ignore_index=True)"
   ],
   "id": "1e63ae6214ecf364",
   "outputs": [],
   "execution_count": 179
  },
  {
   "metadata": {
    "ExecuteTime": {
     "end_time": "2025-10-19T21:33:16.684681Z",
     "start_time": "2025-10-19T21:33:16.677572Z"
    }
   },
   "cell_type": "code",
   "source": "bronze_df_el_tiempo_standardized",
   "id": "a30b4b6ccba0028a",
   "outputs": [
    {
     "data": {
      "text/plain": [
       "                                                 title   category  \\\n",
       "0    iTracking Digital de Guarumo en octubre: Abela...   Politica   \n",
       "1    Bruce Mac Master denuncia que 'continúa hostig...   Politica   \n",
       "2    ¿Presidente Gustavo Petro en campaña? El impac...   Politica   \n",
       "3    Tras descertificación, Cancillería refuerza po...   Politica   \n",
       "4    Críticas a Francisco Barbosa tras desaprobar c...   Politica   \n",
       "..                                                 ...        ...   \n",
       "475  Billeteras digitales impulsan la inclusión fin...  Economica   \n",
       "476  ¿Qué es un ‘arconte’? Así le llamó Gustavo Pet...   Politica   \n",
       "477  Jorge Enrique Robledo anuncia candidatura al S...   Politica   \n",
       "478  Colombianas detenidas en Israel serán liberada...   Politica   \n",
       "479  Ministro Armando Benedetti responde al llamado...   Politica   \n",
       "\n",
       "                                               content   country  newspaper  \n",
       "0    Vicky Dávila y Claudia López crecen en seguido...  Colombia  El Tiempo  \n",
       "1    En una entrevista concedida a EL TIEMPO, el lí...  Colombia  El Tiempo  \n",
       "2    En distintos espacios, el mandatario ha hecho ...  Colombia  El Tiempo  \n",
       "3    La Canciller inauguró en Italia la exposición ...  Colombia  El Tiempo  \n",
       "4    El exfiscal, quien anunció en EL TIEMPO el ret...  Colombia  El Tiempo  \n",
       "..                                                 ...       ...        ...  \n",
       "475  El 97,7 % de los colombianos percibe que el fr...  Colombia  El Tiempo  \n",
       "476  El jefe de Estado también llamó así a exmandat...  Colombia  El Tiempo  \n",
       "477  El excongresista explicó que su decisión respo...  Colombia  El Tiempo  \n",
       "478  Manuela Bedoya y Luna Barreto hacían parte de ...  Colombia  El Tiempo  \n",
       "479  El ministro aseguró que el presidente Gustavo ...  Colombia  El Tiempo  \n",
       "\n",
       "[480 rows x 5 columns]"
      ],
      "text/html": [
       "<div>\n",
       "<style scoped>\n",
       "    .dataframe tbody tr th:only-of-type {\n",
       "        vertical-align: middle;\n",
       "    }\n",
       "\n",
       "    .dataframe tbody tr th {\n",
       "        vertical-align: top;\n",
       "    }\n",
       "\n",
       "    .dataframe thead th {\n",
       "        text-align: right;\n",
       "    }\n",
       "</style>\n",
       "<table border=\"1\" class=\"dataframe\">\n",
       "  <thead>\n",
       "    <tr style=\"text-align: right;\">\n",
       "      <th></th>\n",
       "      <th>title</th>\n",
       "      <th>category</th>\n",
       "      <th>content</th>\n",
       "      <th>country</th>\n",
       "      <th>newspaper</th>\n",
       "    </tr>\n",
       "  </thead>\n",
       "  <tbody>\n",
       "    <tr>\n",
       "      <th>0</th>\n",
       "      <td>iTracking Digital de Guarumo en octubre: Abela...</td>\n",
       "      <td>Politica</td>\n",
       "      <td>Vicky Dávila y Claudia López crecen en seguido...</td>\n",
       "      <td>Colombia</td>\n",
       "      <td>El Tiempo</td>\n",
       "    </tr>\n",
       "    <tr>\n",
       "      <th>1</th>\n",
       "      <td>Bruce Mac Master denuncia que 'continúa hostig...</td>\n",
       "      <td>Politica</td>\n",
       "      <td>En una entrevista concedida a EL TIEMPO, el lí...</td>\n",
       "      <td>Colombia</td>\n",
       "      <td>El Tiempo</td>\n",
       "    </tr>\n",
       "    <tr>\n",
       "      <th>2</th>\n",
       "      <td>¿Presidente Gustavo Petro en campaña? El impac...</td>\n",
       "      <td>Politica</td>\n",
       "      <td>En distintos espacios, el mandatario ha hecho ...</td>\n",
       "      <td>Colombia</td>\n",
       "      <td>El Tiempo</td>\n",
       "    </tr>\n",
       "    <tr>\n",
       "      <th>3</th>\n",
       "      <td>Tras descertificación, Cancillería refuerza po...</td>\n",
       "      <td>Politica</td>\n",
       "      <td>La Canciller inauguró en Italia la exposición ...</td>\n",
       "      <td>Colombia</td>\n",
       "      <td>El Tiempo</td>\n",
       "    </tr>\n",
       "    <tr>\n",
       "      <th>4</th>\n",
       "      <td>Críticas a Francisco Barbosa tras desaprobar c...</td>\n",
       "      <td>Politica</td>\n",
       "      <td>El exfiscal, quien anunció en EL TIEMPO el ret...</td>\n",
       "      <td>Colombia</td>\n",
       "      <td>El Tiempo</td>\n",
       "    </tr>\n",
       "    <tr>\n",
       "      <th>...</th>\n",
       "      <td>...</td>\n",
       "      <td>...</td>\n",
       "      <td>...</td>\n",
       "      <td>...</td>\n",
       "      <td>...</td>\n",
       "    </tr>\n",
       "    <tr>\n",
       "      <th>475</th>\n",
       "      <td>Billeteras digitales impulsan la inclusión fin...</td>\n",
       "      <td>Economica</td>\n",
       "      <td>El 97,7 % de los colombianos percibe que el fr...</td>\n",
       "      <td>Colombia</td>\n",
       "      <td>El Tiempo</td>\n",
       "    </tr>\n",
       "    <tr>\n",
       "      <th>476</th>\n",
       "      <td>¿Qué es un ‘arconte’? Así le llamó Gustavo Pet...</td>\n",
       "      <td>Politica</td>\n",
       "      <td>El jefe de Estado también llamó así a exmandat...</td>\n",
       "      <td>Colombia</td>\n",
       "      <td>El Tiempo</td>\n",
       "    </tr>\n",
       "    <tr>\n",
       "      <th>477</th>\n",
       "      <td>Jorge Enrique Robledo anuncia candidatura al S...</td>\n",
       "      <td>Politica</td>\n",
       "      <td>El excongresista explicó que su decisión respo...</td>\n",
       "      <td>Colombia</td>\n",
       "      <td>El Tiempo</td>\n",
       "    </tr>\n",
       "    <tr>\n",
       "      <th>478</th>\n",
       "      <td>Colombianas detenidas en Israel serán liberada...</td>\n",
       "      <td>Politica</td>\n",
       "      <td>Manuela Bedoya y Luna Barreto hacían parte de ...</td>\n",
       "      <td>Colombia</td>\n",
       "      <td>El Tiempo</td>\n",
       "    </tr>\n",
       "    <tr>\n",
       "      <th>479</th>\n",
       "      <td>Ministro Armando Benedetti responde al llamado...</td>\n",
       "      <td>Politica</td>\n",
       "      <td>El ministro aseguró que el presidente Gustavo ...</td>\n",
       "      <td>Colombia</td>\n",
       "      <td>El Tiempo</td>\n",
       "    </tr>\n",
       "  </tbody>\n",
       "</table>\n",
       "<p>480 rows × 5 columns</p>\n",
       "</div>"
      ]
     },
     "execution_count": 180,
     "metadata": {},
     "output_type": "execute_result"
    }
   ],
   "execution_count": 180
  },
  {
   "metadata": {
    "ExecuteTime": {
     "end_time": "2025-10-19T21:33:16.715079Z",
     "start_time": "2025-10-19T21:33:16.706746Z"
    }
   },
   "cell_type": "code",
   "source": "bronze_df_el_excelsior_standardized",
   "id": "c497c9263360720",
   "outputs": [
    {
     "data": {
      "text/plain": [
       "                                                 title  category  \\\n",
       "0    Grupo de exmandatarios regionales convocó a pr...  politica   \n",
       "1    ¿Consulta 2.0? Gobierno Petro analiza vías par...  politica   \n",
       "2    Galán, Peñalosa, Oviedo y Luna continúan acerc...  politica   \n",
       "3    Senado no sesionará esta semana y Cámara manti...  politica   \n",
       "4    Identifican al soldado muerto en ataque del El...  judicial   \n",
       "..                                                 ...       ...   \n",
       "651  Cómo mejorar su puntaje crediticio: siga estas...  economia   \n",
       "652  Ecopetrol recibió permiso clave para importar ...  economia   \n",
       "653  Las exportaciones colombianas cayeron ligerame...  economia   \n",
       "654  Mindefensa ofrece COP 200 millones de recompen...  judicial   \n",
       "655  ELN ataca otra vez a Arauca, pese a su propues...  judicial   \n",
       "\n",
       "                                               content country     newspaper  \n",
       "0    Los integrantes de Fuerza de las Regiones envi...  Mexico  El Excelsior  \n",
       "1    El ministro del Interior, Armando Benedetti, a...  Mexico  El Excelsior  \n",
       "2    Los precandidatos “independientes” se encontra...  Mexico  El Excelsior  \n",
       "3    Varios proyectos están pendientes de debate, e...  Mexico  El Excelsior  \n",
       "4    El hecho ocurrió en horas de la tarde de este ...  Mexico  El Excelsior  \n",
       "..                                                 ...     ...           ...  \n",
       "651  Tener un buen score no solo aumenta las posibi...  Mexico  El Excelsior  \n",
       "652  La empresa destacó que usar la infraestructura...  Mexico  El Excelsior  \n",
       "653  Solo las ventas externas de productos agropecu...  Mexico  El Excelsior  \n",
       "654  El hecho ocurrió el pasado 5 de octubre y cobr...  Mexico  El Excelsior  \n",
       "655  El atentado con explosivos que dejó un soldado...  Mexico  El Excelsior  \n",
       "\n",
       "[656 rows x 5 columns]"
      ],
      "text/html": [
       "<div>\n",
       "<style scoped>\n",
       "    .dataframe tbody tr th:only-of-type {\n",
       "        vertical-align: middle;\n",
       "    }\n",
       "\n",
       "    .dataframe tbody tr th {\n",
       "        vertical-align: top;\n",
       "    }\n",
       "\n",
       "    .dataframe thead th {\n",
       "        text-align: right;\n",
       "    }\n",
       "</style>\n",
       "<table border=\"1\" class=\"dataframe\">\n",
       "  <thead>\n",
       "    <tr style=\"text-align: right;\">\n",
       "      <th></th>\n",
       "      <th>title</th>\n",
       "      <th>category</th>\n",
       "      <th>content</th>\n",
       "      <th>country</th>\n",
       "      <th>newspaper</th>\n",
       "    </tr>\n",
       "  </thead>\n",
       "  <tbody>\n",
       "    <tr>\n",
       "      <th>0</th>\n",
       "      <td>Grupo de exmandatarios regionales convocó a pr...</td>\n",
       "      <td>politica</td>\n",
       "      <td>Los integrantes de Fuerza de las Regiones envi...</td>\n",
       "      <td>Mexico</td>\n",
       "      <td>El Excelsior</td>\n",
       "    </tr>\n",
       "    <tr>\n",
       "      <th>1</th>\n",
       "      <td>¿Consulta 2.0? Gobierno Petro analiza vías par...</td>\n",
       "      <td>politica</td>\n",
       "      <td>El ministro del Interior, Armando Benedetti, a...</td>\n",
       "      <td>Mexico</td>\n",
       "      <td>El Excelsior</td>\n",
       "    </tr>\n",
       "    <tr>\n",
       "      <th>2</th>\n",
       "      <td>Galán, Peñalosa, Oviedo y Luna continúan acerc...</td>\n",
       "      <td>politica</td>\n",
       "      <td>Los precandidatos “independientes” se encontra...</td>\n",
       "      <td>Mexico</td>\n",
       "      <td>El Excelsior</td>\n",
       "    </tr>\n",
       "    <tr>\n",
       "      <th>3</th>\n",
       "      <td>Senado no sesionará esta semana y Cámara manti...</td>\n",
       "      <td>politica</td>\n",
       "      <td>Varios proyectos están pendientes de debate, e...</td>\n",
       "      <td>Mexico</td>\n",
       "      <td>El Excelsior</td>\n",
       "    </tr>\n",
       "    <tr>\n",
       "      <th>4</th>\n",
       "      <td>Identifican al soldado muerto en ataque del El...</td>\n",
       "      <td>judicial</td>\n",
       "      <td>El hecho ocurrió en horas de la tarde de este ...</td>\n",
       "      <td>Mexico</td>\n",
       "      <td>El Excelsior</td>\n",
       "    </tr>\n",
       "    <tr>\n",
       "      <th>...</th>\n",
       "      <td>...</td>\n",
       "      <td>...</td>\n",
       "      <td>...</td>\n",
       "      <td>...</td>\n",
       "      <td>...</td>\n",
       "    </tr>\n",
       "    <tr>\n",
       "      <th>651</th>\n",
       "      <td>Cómo mejorar su puntaje crediticio: siga estas...</td>\n",
       "      <td>economia</td>\n",
       "      <td>Tener un buen score no solo aumenta las posibi...</td>\n",
       "      <td>Mexico</td>\n",
       "      <td>El Excelsior</td>\n",
       "    </tr>\n",
       "    <tr>\n",
       "      <th>652</th>\n",
       "      <td>Ecopetrol recibió permiso clave para importar ...</td>\n",
       "      <td>economia</td>\n",
       "      <td>La empresa destacó que usar la infraestructura...</td>\n",
       "      <td>Mexico</td>\n",
       "      <td>El Excelsior</td>\n",
       "    </tr>\n",
       "    <tr>\n",
       "      <th>653</th>\n",
       "      <td>Las exportaciones colombianas cayeron ligerame...</td>\n",
       "      <td>economia</td>\n",
       "      <td>Solo las ventas externas de productos agropecu...</td>\n",
       "      <td>Mexico</td>\n",
       "      <td>El Excelsior</td>\n",
       "    </tr>\n",
       "    <tr>\n",
       "      <th>654</th>\n",
       "      <td>Mindefensa ofrece COP 200 millones de recompen...</td>\n",
       "      <td>judicial</td>\n",
       "      <td>El hecho ocurrió el pasado 5 de octubre y cobr...</td>\n",
       "      <td>Mexico</td>\n",
       "      <td>El Excelsior</td>\n",
       "    </tr>\n",
       "    <tr>\n",
       "      <th>655</th>\n",
       "      <td>ELN ataca otra vez a Arauca, pese a su propues...</td>\n",
       "      <td>judicial</td>\n",
       "      <td>El atentado con explosivos que dejó un soldado...</td>\n",
       "      <td>Mexico</td>\n",
       "      <td>El Excelsior</td>\n",
       "    </tr>\n",
       "  </tbody>\n",
       "</table>\n",
       "<p>656 rows × 5 columns</p>\n",
       "</div>"
      ]
     },
     "execution_count": 181,
     "metadata": {},
     "output_type": "execute_result"
    }
   ],
   "execution_count": 181
  },
  {
   "metadata": {
    "ExecuteTime": {
     "end_time": "2025-10-19T21:33:16.746433Z",
     "start_time": "2025-10-19T21:33:16.742193Z"
    }
   },
   "cell_type": "code",
   "source": "silver_df_news.shape",
   "id": "368896a3c756d25a",
   "outputs": [
    {
     "data": {
      "text/plain": [
       "(5635, 5)"
      ]
     },
     "execution_count": 182,
     "metadata": {},
     "output_type": "execute_result"
    }
   ],
   "execution_count": 182
  },
  {
   "metadata": {
    "ExecuteTime": {
     "end_time": "2025-10-19T21:33:16.786230Z",
     "start_time": "2025-10-19T21:33:16.779748Z"
    }
   },
   "cell_type": "code",
   "source": "silver_df_news.head()",
   "id": "9ced5674a0e42056",
   "outputs": [
    {
     "data": {
      "text/plain": [
       "                                               title       category  \\\n",
       "0  Hamás pide un intercambio “inmediato” de rehen...  internacional   \n",
       "1  Ali Akbar, el último vendedor de periódicos am...  internacional   \n",
       "2  Cancillería revisa rutas para el “retorno segu...  internacional   \n",
       "3  “Nos trataron como animales”, activistas depor...  internacional   \n",
       "4  “Estamos más cerca que nunca de una paz durade...  internacional   \n",
       "\n",
       "                                             content country        newspaper  \n",
       "0  Israel continúa con intensos bombardeos en con...  Mexico  Animal Politico  \n",
       "1  \"¡Mientras tenga energía, seguiré, trabajaré h...  Mexico  Animal Politico  \n",
       "2  La Embajada de México en Israel se mantiene en...  Mexico  Animal Politico  \n",
       "3  Israel detuvo a más de 400 personas y deportó ...  Mexico  Animal Politico  \n",
       "4  La propuesta de paz de Trump contempla, entre ...  Mexico  Animal Politico  "
      ],
      "text/html": [
       "<div>\n",
       "<style scoped>\n",
       "    .dataframe tbody tr th:only-of-type {\n",
       "        vertical-align: middle;\n",
       "    }\n",
       "\n",
       "    .dataframe tbody tr th {\n",
       "        vertical-align: top;\n",
       "    }\n",
       "\n",
       "    .dataframe thead th {\n",
       "        text-align: right;\n",
       "    }\n",
       "</style>\n",
       "<table border=\"1\" class=\"dataframe\">\n",
       "  <thead>\n",
       "    <tr style=\"text-align: right;\">\n",
       "      <th></th>\n",
       "      <th>title</th>\n",
       "      <th>category</th>\n",
       "      <th>content</th>\n",
       "      <th>country</th>\n",
       "      <th>newspaper</th>\n",
       "    </tr>\n",
       "  </thead>\n",
       "  <tbody>\n",
       "    <tr>\n",
       "      <th>0</th>\n",
       "      <td>Hamás pide un intercambio “inmediato” de rehen...</td>\n",
       "      <td>internacional</td>\n",
       "      <td>Israel continúa con intensos bombardeos en con...</td>\n",
       "      <td>Mexico</td>\n",
       "      <td>Animal Politico</td>\n",
       "    </tr>\n",
       "    <tr>\n",
       "      <th>1</th>\n",
       "      <td>Ali Akbar, el último vendedor de periódicos am...</td>\n",
       "      <td>internacional</td>\n",
       "      <td>\"¡Mientras tenga energía, seguiré, trabajaré h...</td>\n",
       "      <td>Mexico</td>\n",
       "      <td>Animal Politico</td>\n",
       "    </tr>\n",
       "    <tr>\n",
       "      <th>2</th>\n",
       "      <td>Cancillería revisa rutas para el “retorno segu...</td>\n",
       "      <td>internacional</td>\n",
       "      <td>La Embajada de México en Israel se mantiene en...</td>\n",
       "      <td>Mexico</td>\n",
       "      <td>Animal Politico</td>\n",
       "    </tr>\n",
       "    <tr>\n",
       "      <th>3</th>\n",
       "      <td>“Nos trataron como animales”, activistas depor...</td>\n",
       "      <td>internacional</td>\n",
       "      <td>Israel detuvo a más de 400 personas y deportó ...</td>\n",
       "      <td>Mexico</td>\n",
       "      <td>Animal Politico</td>\n",
       "    </tr>\n",
       "    <tr>\n",
       "      <th>4</th>\n",
       "      <td>“Estamos más cerca que nunca de una paz durade...</td>\n",
       "      <td>internacional</td>\n",
       "      <td>La propuesta de paz de Trump contempla, entre ...</td>\n",
       "      <td>Mexico</td>\n",
       "      <td>Animal Politico</td>\n",
       "    </tr>\n",
       "  </tbody>\n",
       "</table>\n",
       "</div>"
      ]
     },
     "execution_count": 183,
     "metadata": {},
     "output_type": "execute_result"
    }
   ],
   "execution_count": 183
  },
  {
   "metadata": {},
   "cell_type": "markdown",
   "source": "## 4.9 Limpiar Textos",
   "id": "9f2e07c632ecfae2"
  },
  {
   "metadata": {},
   "cell_type": "markdown",
   "source": "### 4.9.1 Descargar tokenizador",
   "id": "e791722891e60aa7"
  },
  {
   "metadata": {
    "ExecuteTime": {
     "end_time": "2025-10-19T21:33:17.317357Z",
     "start_time": "2025-10-19T21:33:16.814417Z"
    }
   },
   "cell_type": "code",
   "source": "nlp_spacy = spacy.load(\"es_core_news_sm\")",
   "id": "e5804a180772c040",
   "outputs": [],
   "execution_count": 184
  },
  {
   "metadata": {},
   "cell_type": "markdown",
   "source": "### 4.9.2 Eliminación de elementos no deseados",
   "id": "a9c6f3ec6f56603b"
  },
  {
   "metadata": {
    "ExecuteTime": {
     "end_time": "2025-10-19T21:33:17.335894Z",
     "start_time": "2025-10-19T21:33:17.327880Z"
    }
   },
   "cell_type": "code",
   "source": [
    "import re\n",
    "import unicodedata\n",
    "\n",
    "def remove_si_tiene_interes_block(text, domains=None):\n",
    "    \"\"\"Remove the 'Si tiene interés...' block robustly, even with malformed emails.\"\"\"\n",
    "    if domains is None:\n",
    "        domains = [\"elespectador.com\"]\n",
    "\n",
    "    start_match = re.search(r\"Si\\s+tiene\\s+inter[eé]s\", text, flags=re.IGNORECASE)\n",
    "    if not start_match:\n",
    "        return text  # nothing to remove\n",
    "\n",
    "    start_idx = start_match.start()\n",
    "\n",
    "    last_domain_pos = -1\n",
    "    last_domain_len = 0\n",
    "    for d in domains:\n",
    "        for m in re.finditer(re.escape(d), text[start_idx:], flags=re.IGNORECASE):\n",
    "            pos = start_idx + m.start()\n",
    "            if pos > last_domain_pos:\n",
    "                last_domain_pos = pos\n",
    "                last_domain_len = len(d)\n",
    "\n",
    "    if last_domain_pos != -1:\n",
    "        search_start = last_domain_pos + last_domain_len\n",
    "        period_match = re.search(r\"\\.\", text[search_start:])\n",
    "        end_idx = search_start + period_match.end() if period_match else len(text)\n",
    "    else:\n",
    "        period_match = re.search(r\"\\.\", text[start_idx:])\n",
    "        end_idx = start_idx + period_match.end() if period_match else len(text)\n",
    "\n",
    "    cleaned = text[:start_idx] + \" \" + text[end_idx:]\n",
    "    cleaned = re.sub(r\"\\s+\", \" \", cleaned).strip()\n",
    "    return cleaned\n",
    "\n",
    "\n",
    "def extract_text_without_unwanted_elements(text):\n",
    "    \"\"\"\n",
    "    Cleans text:\n",
    "    - Removes AI audio text and timestamps\n",
    "    - Removes 'Lea más sobre...' and 'Si tiene interés...' blocks\n",
    "    - Removes URLs, emojis, non-breaking spaces\n",
    "    - Keeps punctuation\n",
    "    - Removes Spanish accents at the end\n",
    "    \"\"\"\n",
    "\n",
    "    # 1️⃣ Remove audio fragments and timestamps\n",
    "    text = re.sub(\n",
    "        r\"(?:Audio\\s+generado\\s+con\\s+IA\\s+de\\s+Google[\\s\\S]{0,200}?(?:\\d{1,2}:\\d{2}\\s*(?:/|\\n/\\n|\\u2215)\\s*\\d{1,2}:\\d{2})?)\",\n",
    "        \" \",\n",
    "        text,\n",
    "        flags=re.IGNORECASE,\n",
    "    )\n",
    "    text = re.sub(r\"\\d{1,2}:\\d{2}\\s*(?:/|\\n/\\n|\\u2215)\\s*\\d{1,2}:\\d{2}\", \" \", text)\n",
    "\n",
    "    # 2️⃣ Remove non-breaking spaces\n",
    "    text = text.replace(\"\\xa0\", \" \")\n",
    "\n",
    "    # 3️⃣ Remove “Lea más sobre ...” sentences\n",
    "    text = re.sub(r\"Lea\\s+m[aá]s\\s+sobre[^.]*\\.\", \" \", text, flags=re.IGNORECASE)\n",
    "\n",
    "    # 4️⃣ Remove URLs\n",
    "    text = re.sub(r\"http\\S+|www\\S+\", \" \", text)\n",
    "\n",
    "    # 5️⃣ Remove the “Si tiene interés…” block\n",
    "    text = remove_si_tiene_interes_block(text, domains=[\"elespectador.com\"])\n",
    "\n",
    "    # 6️⃣ Remove unwanted characters but keep punctuation\n",
    "    text = re.sub(r\"[^A-Za-zÁÉÍÓÚáéíóúÑñÜü0-9\\s.,;:!?¿¡\\\"'()\\-]\", \"\", text)\n",
    "\n",
    "    # 7️⃣ Normalize whitespace\n",
    "    text = re.sub(r\"\\s+\", \" \", text).strip()\n",
    "\n",
    "    # 8️⃣ Remove accents\n",
    "    text = ''.join(\n",
    "        c for c in unicodedata.normalize('NFD', text)\n",
    "        if unicodedata.category(c) != 'Mn'\n",
    "    )\n",
    "\n",
    "    return text\n"
   ],
   "id": "b77c685a250d1e8c",
   "outputs": [],
   "execution_count": 185
  },
  {
   "metadata": {
    "ExecuteTime": {
     "end_time": "2025-10-19T21:33:17.350656Z",
     "start_time": "2025-10-19T21:33:17.344418Z"
    }
   },
   "cell_type": "code",
   "source": [
    "# --- TEST INPUT ---\n",
    "sample_text = \"\"\"Audio generado con IA de Google\\n0:00\\n/\\n0:00\\nEntre las reuniones que se están concretando desde varias orillas políticas para llegar unidos a las elecciones de 2026, habrá una este lunes entre quienes se definen como “independientes”. El encuentro reunirá a varios precandidatos que están recogiendo firmas, así como quienes ya contarían con el aval de un partido político.\\nAllí estarían el exalcalde de Bogotá Enrique Peñalosa, el exconcejal Juan Daniel Oviedo, el exministro Daniel Palacios y los exsenadores David Luna y Juan Manuel Galán, el único entre estos en tener el respaldo de un partido, el Nuevo Liberalismo. El resto están en el proceso de sumar apoyos para ratificar sus aspiraciones, algo que, según han dicho varias campañas, no ha sido nada fácil.\\nSugerimos: ¿Consulta 2.0? Gobierno Petro analiza vías para destrabar la reforma a la salud\\nEl encuentro ocurre, además, después de una invitación que llegó a varios de ellos por parte de Fuerza de las Regiones. La propuesta que se hizo desde el movimiento de exmandatarios regionales es la de una consulta conjunta el 8 de marzo entre candidatos independientes para lograr la unidad.\\nAsí, entre Aníbal Gaviria, Juan Guillermo Zuluaga, Héctor Olimpo Espinosa y Juan Carlos Cárdenas se escogería un precandidato antes del próximo 30 de noviembre para que compita contra el resto de aspirantes presidenciales.\\nLe puede interesar: Grupo de exmandatarios regionales convocó a precandidatos “independientes” a una consulta\\nDesde marzo se ha hablado de los acercamientos que tienen en curso Peñalosa, Oviedo, Luna y Galán, que ya se han reunido para construir una coalición que represente una alternativa política independiente para el país. Aunque todavía no se ha llegado a acuerdos definitivos, la idea sí fue, desde ese entonces, tener un candidato único.\\nEn todo caso, quienes están en proceso de recolección de firmas deberán presentarlas ante la Registraduría para el 17 de diciembre, cuando vence el plazo. A partir de esa fecha comenzará la “depuración” de la lista de precandidatos que ya superó las 100 personas.\\n👁\\u200d🗨 Conozca cómo votan los senadores y representantes a la Cámara en ‘Congreso a la mano’.\\n👉 Lea más sobre el Congreso, el gobierno Petro y otras noticias del mundo político.\\n✉️ Si tiene interés en los temas políticos o información que considere oportuno compartirnos, por favor, escríbanos a cualquiera de estos correos: hvalero@elespectador.com; aosorio@elespectador.com; dortega@elespectador.com; dcristancho@elespectador.com; mbarrios@elespectador.com ; lbotero@elespectador.com o lperalta@elespectador.com.\n",
    "\"\"\"\n",
    "\n",
    "# --- RUN TEST ---\n",
    "clean_text = extract_text_without_unwanted_elements(sample_text)\n",
    "print(clean_text)\n"
   ],
   "id": "fcec3ed7a83437d7",
   "outputs": [
    {
     "name": "stdout",
     "output_type": "stream",
     "text": [
      "Entre las reuniones que se estan concretando desde varias orillas politicas para llegar unidos a las elecciones de 2026, habra una este lunes entre quienes se definen como independientes. El encuentro reunira a varios precandidatos que estan recogiendo firmas, asi como quienes ya contarian con el aval de un partido politico. Alli estarian el exalcalde de Bogota Enrique Penalosa, el exconcejal Juan Daniel Oviedo, el exministro Daniel Palacios y los exsenadores David Luna y Juan Manuel Galan, el unico entre estos en tener el respaldo de un partido, el Nuevo Liberalismo. El resto estan en el proceso de sumar apoyos para ratificar sus aspiraciones, algo que, segun han dicho varias campanas, no ha sido nada facil. Sugerimos: ¿Consulta 2.0? Gobierno Petro analiza vias para destrabar la reforma a la salud El encuentro ocurre, ademas, despues de una invitacion que llego a varios de ellos por parte de Fuerza de las Regiones. La propuesta que se hizo desde el movimiento de exmandatarios regionales es la de una consulta conjunta el 8 de marzo entre candidatos independientes para lograr la unidad. Asi, entre Anibal Gaviria, Juan Guillermo Zuluaga, Hector Olimpo Espinosa y Juan Carlos Cardenas se escogeria un precandidato antes del proximo 30 de noviembre para que compita contra el resto de aspirantes presidenciales. Le puede interesar: Grupo de exmandatarios regionales convoco a precandidatos independientes a una consulta Desde marzo se ha hablado de los acercamientos que tienen en curso Penalosa, Oviedo, Luna y Galan, que ya se han reunido para construir una coalicion que represente una alternativa politica independiente para el pais. Aunque todavia no se ha llegado a acuerdos definitivos, la idea si fue, desde ese entonces, tener un candidato unico. En todo caso, quienes estan en proceso de recoleccion de firmas deberan presentarlas ante la Registraduria para el 17 de diciembre, cuando vence el plazo. A partir de esa fecha comenzara la depuracion de la lista de precandidatos que ya supero las 100 personas. Conozca como votan los senadores y representantes a la Camara en Congreso a la mano.\n"
     ]
    }
   ],
   "execution_count": 186
  },
  {
   "metadata": {
    "ExecuteTime": {
     "end_time": "2025-10-19T21:33:17.392314Z",
     "start_time": "2025-10-19T21:33:17.387809Z"
    }
   },
   "cell_type": "code",
   "source": [
    "def remove_punctuation(text):\n",
    "    \"\"\"\n",
    "    Removes punctuation characters from text.\n",
    "    \"\"\"\n",
    "    translator = str.maketrans('', '', string.punctuation)\n",
    "    return text.translate(translator)"
   ],
   "id": "d69aed23bb633e13",
   "outputs": [],
   "execution_count": 187
  },
  {
   "metadata": {},
   "cell_type": "markdown",
   "source": "### 4.9.3 Conversión a minúsculas",
   "id": "b5ad8bbc861cb341"
  },
  {
   "metadata": {
    "ExecuteTime": {
     "end_time": "2025-10-19T21:33:17.427918Z",
     "start_time": "2025-10-19T21:33:17.423912Z"
    }
   },
   "cell_type": "code",
   "source": [
    "def convertToLowerCase(text):\n",
    "    return text.lower()"
   ],
   "id": "5be9c5c7bfb7bd4a",
   "outputs": [],
   "execution_count": 188
  },
  {
   "metadata": {},
   "cell_type": "markdown",
   "source": "### 4.9.4 Transformación UNICODE",
   "id": "c56a04069653b017"
  },
  {
   "metadata": {
    "ExecuteTime": {
     "end_time": "2025-10-19T21:33:17.447533Z",
     "start_time": "2025-10-19T21:33:17.443501Z"
    }
   },
   "cell_type": "code",
   "source": [
    "def unicodeTransformation(text, method=\"NFD\"):\n",
    "    return unicodedata.normalize(method, text)"
   ],
   "id": "5a34e37dcb7f6d52",
   "outputs": [],
   "execution_count": 189
  },
  {
   "metadata": {},
   "cell_type": "markdown",
   "source": "### 4.9.5 Tokenización",
   "id": "373e40e5b3f972c8"
  },
  {
   "metadata": {
    "ExecuteTime": {
     "end_time": "2025-10-19T21:33:17.474525Z",
     "start_time": "2025-10-19T21:33:17.470726Z"
    }
   },
   "cell_type": "code",
   "source": [
    "def spacy_tokenization(text):\n",
    "    tokens = [token.text for token in nlp_spacy(text)]\n",
    "    return \" \".join(tokens)"
   ],
   "id": "922a0949c41fd39a",
   "outputs": [],
   "execution_count": 190
  },
  {
   "metadata": {
    "ExecuteTime": {
     "end_time": "2025-10-19T21:33:17.492309Z",
     "start_time": "2025-10-19T21:33:17.488695Z"
    }
   },
   "cell_type": "code",
   "source": [
    "def spacy_sentence_tokenization(text):\n",
    "    doc = nlp_spacy(text)\n",
    "    sentences = [sent.text.strip() for sent in doc.sents]\n",
    "    return sentences\n"
   ],
   "id": "aa949e7c53b95ec9",
   "outputs": [],
   "execution_count": 191
  },
  {
   "metadata": {},
   "cell_type": "markdown",
   "source": "### 4.9.6 Eliminación de Stop Words",
   "id": "f7a368c336e5f7e8"
  },
  {
   "metadata": {
    "ExecuteTime": {
     "end_time": "2025-10-19T21:33:17.507513Z",
     "start_time": "2025-10-19T21:33:17.503349Z"
    }
   },
   "cell_type": "code",
   "source": [
    "def remove_stopwords_spacy(text):\n",
    "    \"\"\"\n",
    "    Return Spanish text without stop words using spaCy\n",
    "    \"\"\"\n",
    "    nlp = spacy.load(\"es_core_news_sm\")\n",
    "    doc = nlp(text)\n",
    "    filtered = [token.text for token in doc if not token.is_stop]\n",
    "    return \" \".join(filtered)"
   ],
   "id": "88464f077e8c5c95",
   "outputs": [],
   "execution_count": 192
  },
  {
   "metadata": {
    "ExecuteTime": {
     "end_time": "2025-10-19T21:33:17.523918Z",
     "start_time": "2025-10-19T21:33:17.520032Z"
    }
   },
   "cell_type": "code",
   "source": [
    "def get_stopwords_spacy(text):\n",
    "    \"\"\"\n",
    "    Return stop words from Spanish text using spaCy\n",
    "    \"\"\"\n",
    "    nlp = spacy.load(\"es_core_news_sm\")\n",
    "    doc = nlp(text)\n",
    "    text_stopwords = [token.text for token in doc if token.is_stop]\n",
    "    return \" \".join(text_stopwords)"
   ],
   "id": "e05c8aeae2251601",
   "outputs": [],
   "execution_count": 193
  },
  {
   "metadata": {},
   "cell_type": "markdown",
   "source": "### Paso 4.9.7 Lematización",
   "id": "b0c75562a066d83"
  },
  {
   "metadata": {
    "ExecuteTime": {
     "end_time": "2025-10-19T21:33:17.538411Z",
     "start_time": "2025-10-19T21:33:17.534439Z"
    }
   },
   "cell_type": "code",
   "source": [
    "def lemmatize_with_flair(text):\n",
    "    \"\"\"Lematizar texto usando Flair\"\"\"\n",
    "    tagger = SequenceTagger.load('pos-fast')\n",
    "    sentence = Sentence(text)\n",
    "    tagger.predict(sentence)\n",
    "    lemmas = [token.text for token in sentence.tokens]\n",
    "    return \" \".join(lemmas)"
   ],
   "id": "b432a930484cbb61",
   "outputs": [],
   "execution_count": 194
  },
  {
   "metadata": {
    "ExecuteTime": {
     "end_time": "2025-10-19T21:33:17.554716Z",
     "start_time": "2025-10-19T21:33:17.550917Z"
    }
   },
   "cell_type": "code",
   "source": [
    "# --- Function 1: Lemmatization with spaCy ---\n",
    "def lemmatize_spanish(text):\n",
    "    \"\"\"\n",
    "    Lemmatize Spanish text (no stopword removal)\n",
    "    \"\"\"\n",
    "    doc = nlp_spacy(text)\n",
    "    lemmas = [token.lemma_ for token in doc if token.is_alpha]\n",
    "    return lemmas"
   ],
   "id": "2ff95ad15ef9470",
   "outputs": [],
   "execution_count": 195
  },
  {
   "metadata": {},
   "cell_type": "markdown",
   "source": "### Paso 4.9.8 Procedimiento de Textos",
   "id": "7ac22d5fb706fdc1"
  },
  {
   "metadata": {
    "ExecuteTime": {
     "end_time": "2025-10-19T21:33:17.573318Z",
     "start_time": "2025-10-19T21:33:17.566744Z"
    }
   },
   "cell_type": "code",
   "source": "silver_df_news.head()",
   "id": "b6c7a481b3ead09c",
   "outputs": [
    {
     "data": {
      "text/plain": [
       "                                               title       category  \\\n",
       "0  Hamás pide un intercambio “inmediato” de rehen...  internacional   \n",
       "1  Ali Akbar, el último vendedor de periódicos am...  internacional   \n",
       "2  Cancillería revisa rutas para el “retorno segu...  internacional   \n",
       "3  “Nos trataron como animales”, activistas depor...  internacional   \n",
       "4  “Estamos más cerca que nunca de una paz durade...  internacional   \n",
       "\n",
       "                                             content country        newspaper  \n",
       "0  Israel continúa con intensos bombardeos en con...  Mexico  Animal Politico  \n",
       "1  \"¡Mientras tenga energía, seguiré, trabajaré h...  Mexico  Animal Politico  \n",
       "2  La Embajada de México en Israel se mantiene en...  Mexico  Animal Politico  \n",
       "3  Israel detuvo a más de 400 personas y deportó ...  Mexico  Animal Politico  \n",
       "4  La propuesta de paz de Trump contempla, entre ...  Mexico  Animal Politico  "
      ],
      "text/html": [
       "<div>\n",
       "<style scoped>\n",
       "    .dataframe tbody tr th:only-of-type {\n",
       "        vertical-align: middle;\n",
       "    }\n",
       "\n",
       "    .dataframe tbody tr th {\n",
       "        vertical-align: top;\n",
       "    }\n",
       "\n",
       "    .dataframe thead th {\n",
       "        text-align: right;\n",
       "    }\n",
       "</style>\n",
       "<table border=\"1\" class=\"dataframe\">\n",
       "  <thead>\n",
       "    <tr style=\"text-align: right;\">\n",
       "      <th></th>\n",
       "      <th>title</th>\n",
       "      <th>category</th>\n",
       "      <th>content</th>\n",
       "      <th>country</th>\n",
       "      <th>newspaper</th>\n",
       "    </tr>\n",
       "  </thead>\n",
       "  <tbody>\n",
       "    <tr>\n",
       "      <th>0</th>\n",
       "      <td>Hamás pide un intercambio “inmediato” de rehen...</td>\n",
       "      <td>internacional</td>\n",
       "      <td>Israel continúa con intensos bombardeos en con...</td>\n",
       "      <td>Mexico</td>\n",
       "      <td>Animal Politico</td>\n",
       "    </tr>\n",
       "    <tr>\n",
       "      <th>1</th>\n",
       "      <td>Ali Akbar, el último vendedor de periódicos am...</td>\n",
       "      <td>internacional</td>\n",
       "      <td>\"¡Mientras tenga energía, seguiré, trabajaré h...</td>\n",
       "      <td>Mexico</td>\n",
       "      <td>Animal Politico</td>\n",
       "    </tr>\n",
       "    <tr>\n",
       "      <th>2</th>\n",
       "      <td>Cancillería revisa rutas para el “retorno segu...</td>\n",
       "      <td>internacional</td>\n",
       "      <td>La Embajada de México en Israel se mantiene en...</td>\n",
       "      <td>Mexico</td>\n",
       "      <td>Animal Politico</td>\n",
       "    </tr>\n",
       "    <tr>\n",
       "      <th>3</th>\n",
       "      <td>“Nos trataron como animales”, activistas depor...</td>\n",
       "      <td>internacional</td>\n",
       "      <td>Israel detuvo a más de 400 personas y deportó ...</td>\n",
       "      <td>Mexico</td>\n",
       "      <td>Animal Politico</td>\n",
       "    </tr>\n",
       "    <tr>\n",
       "      <th>4</th>\n",
       "      <td>“Estamos más cerca que nunca de una paz durade...</td>\n",
       "      <td>internacional</td>\n",
       "      <td>La propuesta de paz de Trump contempla, entre ...</td>\n",
       "      <td>Mexico</td>\n",
       "      <td>Animal Politico</td>\n",
       "    </tr>\n",
       "  </tbody>\n",
       "</table>\n",
       "</div>"
      ]
     },
     "execution_count": 196,
     "metadata": {},
     "output_type": "execute_result"
    }
   ],
   "execution_count": 196
  },
  {
   "metadata": {
    "ExecuteTime": {
     "end_time": "2025-10-19T21:33:17.747705Z",
     "start_time": "2025-10-19T21:33:17.612440Z"
    }
   },
   "cell_type": "code",
   "source": "silver_df_news[\"content_unicode\"] = silver_df_news[\"content\"].apply(unicodeTransformation)",
   "id": "5008f8afbebc9307",
   "outputs": [],
   "execution_count": 197
  },
  {
   "metadata": {
    "ExecuteTime": {
     "end_time": "2025-10-19T21:33:21.247907Z",
     "start_time": "2025-10-19T21:33:17.760580Z"
    }
   },
   "cell_type": "code",
   "source": "silver_df_news[\"content_removed_unwanted_elements\"] = silver_df_news[\"content_unicode\"].apply(extract_text_without_unwanted_elements)",
   "id": "7f5aacdb95688b8c",
   "outputs": [],
   "execution_count": 198
  },
  {
   "metadata": {
    "ExecuteTime": {
     "end_time": "2025-10-19T21:33:21.311684Z",
     "start_time": "2025-10-19T21:33:21.257933Z"
    }
   },
   "cell_type": "code",
   "source": "silver_df_news[\"content_lowercase\"] = silver_df_news[\"content_removed_unwanted_elements\"].apply(convertToLowerCase)",
   "id": "7b6a120d9032b098",
   "outputs": [],
   "execution_count": 199
  },
  {
   "metadata": {
    "ExecuteTime": {
     "end_time": "2025-10-19T21:35:25.516561Z",
     "start_time": "2025-10-19T21:33:21.321731Z"
    }
   },
   "cell_type": "code",
   "source": "silver_df_news[\"content_sentence_tokenization\"] = silver_df_news[\"content_lowercase\"].apply(spacy_sentence_tokenization)",
   "id": "78e20aaf1fa48fbf",
   "outputs": [
    {
     "name": "stderr",
     "output_type": "stream",
     "text": [
      "Exception ignored in: <bound method IPythonKernel._clean_thread_parent_frames of <ipykernel.ipkernel.IPythonKernel object at 0x000002146078A710>>\n",
      "Traceback (most recent call last):\n",
      "  File \"C:\\Users\\guill\\Documents\\GitHub\\tesis-optimizacion-de-modelos-de-question-answering\\.venv\\Lib\\site-packages\\ipykernel\\ipkernel.py\", line 775, in _clean_thread_parent_frames\n",
      "    def _clean_thread_parent_frames(\n",
      "\n",
      "KeyboardInterrupt: \n"
     ]
    },
    {
     "ename": "KeyboardInterrupt",
     "evalue": "",
     "output_type": "error",
     "traceback": [
      "\u001B[31m---------------------------------------------------------------------------\u001B[39m",
      "\u001B[31mKeyboardInterrupt\u001B[39m                         Traceback (most recent call last)",
      "\u001B[36mCell\u001B[39m\u001B[36m \u001B[39m\u001B[32mIn[200]\u001B[39m\u001B[32m, line 1\u001B[39m\n\u001B[32m----> \u001B[39m\u001B[32m1\u001B[39m silver_df_news[\u001B[33m\"\u001B[39m\u001B[33mcontent_sentence_tokenization\u001B[39m\u001B[33m\"\u001B[39m] = \u001B[43msilver_df_news\u001B[49m\u001B[43m[\u001B[49m\u001B[33;43m\"\u001B[39;49m\u001B[33;43mcontent_lowercase\u001B[39;49m\u001B[33;43m\"\u001B[39;49m\u001B[43m]\u001B[49m\u001B[43m.\u001B[49m\u001B[43mapply\u001B[49m\u001B[43m(\u001B[49m\u001B[43mspacy_sentence_tokenization\u001B[49m\u001B[43m)\u001B[49m\n",
      "\u001B[36mFile \u001B[39m\u001B[32m~\\Documents\\GitHub\\tesis-optimizacion-de-modelos-de-question-answering\\.venv\\Lib\\site-packages\\pandas\\core\\series.py:4935\u001B[39m, in \u001B[36mSeries.apply\u001B[39m\u001B[34m(self, func, convert_dtype, args, by_row, **kwargs)\u001B[39m\n\u001B[32m   4800\u001B[39m \u001B[38;5;28;01mdef\u001B[39;00m\u001B[38;5;250m \u001B[39m\u001B[34mapply\u001B[39m(\n\u001B[32m   4801\u001B[39m     \u001B[38;5;28mself\u001B[39m,\n\u001B[32m   4802\u001B[39m     func: AggFuncType,\n\u001B[32m   (...)\u001B[39m\u001B[32m   4807\u001B[39m     **kwargs,\n\u001B[32m   4808\u001B[39m ) -> DataFrame | Series:\n\u001B[32m   4809\u001B[39m \u001B[38;5;250m    \u001B[39m\u001B[33;03m\"\"\"\u001B[39;00m\n\u001B[32m   4810\u001B[39m \u001B[33;03m    Invoke function on values of Series.\u001B[39;00m\n\u001B[32m   4811\u001B[39m \n\u001B[32m   (...)\u001B[39m\u001B[32m   4926\u001B[39m \u001B[33;03m    dtype: float64\u001B[39;00m\n\u001B[32m   4927\u001B[39m \u001B[33;03m    \"\"\"\u001B[39;00m\n\u001B[32m   4928\u001B[39m     \u001B[38;5;28;01mreturn\u001B[39;00m \u001B[43mSeriesApply\u001B[49m\u001B[43m(\u001B[49m\n\u001B[32m   4929\u001B[39m \u001B[43m        \u001B[49m\u001B[38;5;28;43mself\u001B[39;49m\u001B[43m,\u001B[49m\n\u001B[32m   4930\u001B[39m \u001B[43m        \u001B[49m\u001B[43mfunc\u001B[49m\u001B[43m,\u001B[49m\n\u001B[32m   4931\u001B[39m \u001B[43m        \u001B[49m\u001B[43mconvert_dtype\u001B[49m\u001B[43m=\u001B[49m\u001B[43mconvert_dtype\u001B[49m\u001B[43m,\u001B[49m\n\u001B[32m   4932\u001B[39m \u001B[43m        \u001B[49m\u001B[43mby_row\u001B[49m\u001B[43m=\u001B[49m\u001B[43mby_row\u001B[49m\u001B[43m,\u001B[49m\n\u001B[32m   4933\u001B[39m \u001B[43m        \u001B[49m\u001B[43margs\u001B[49m\u001B[43m=\u001B[49m\u001B[43margs\u001B[49m\u001B[43m,\u001B[49m\n\u001B[32m   4934\u001B[39m \u001B[43m        \u001B[49m\u001B[43mkwargs\u001B[49m\u001B[43m=\u001B[49m\u001B[43mkwargs\u001B[49m\u001B[43m,\u001B[49m\n\u001B[32m-> \u001B[39m\u001B[32m4935\u001B[39m \u001B[43m    \u001B[49m\u001B[43m)\u001B[49m\u001B[43m.\u001B[49m\u001B[43mapply\u001B[49m\u001B[43m(\u001B[49m\u001B[43m)\u001B[49m\n",
      "\u001B[36mFile \u001B[39m\u001B[32m~\\Documents\\GitHub\\tesis-optimizacion-de-modelos-de-question-answering\\.venv\\Lib\\site-packages\\pandas\\core\\apply.py:1422\u001B[39m, in \u001B[36mSeriesApply.apply\u001B[39m\u001B[34m(self)\u001B[39m\n\u001B[32m   1419\u001B[39m     \u001B[38;5;28;01mreturn\u001B[39;00m \u001B[38;5;28mself\u001B[39m.apply_compat()\n\u001B[32m   1421\u001B[39m \u001B[38;5;66;03m# self.func is Callable\u001B[39;00m\n\u001B[32m-> \u001B[39m\u001B[32m1422\u001B[39m \u001B[38;5;28;01mreturn\u001B[39;00m \u001B[38;5;28;43mself\u001B[39;49m\u001B[43m.\u001B[49m\u001B[43mapply_standard\u001B[49m\u001B[43m(\u001B[49m\u001B[43m)\u001B[49m\n",
      "\u001B[36mFile \u001B[39m\u001B[32m~\\Documents\\GitHub\\tesis-optimizacion-de-modelos-de-question-answering\\.venv\\Lib\\site-packages\\pandas\\core\\apply.py:1502\u001B[39m, in \u001B[36mSeriesApply.apply_standard\u001B[39m\u001B[34m(self)\u001B[39m\n\u001B[32m   1496\u001B[39m \u001B[38;5;66;03m# row-wise access\u001B[39;00m\n\u001B[32m   1497\u001B[39m \u001B[38;5;66;03m# apply doesn't have a `na_action` keyword and for backward compat reasons\u001B[39;00m\n\u001B[32m   1498\u001B[39m \u001B[38;5;66;03m# we need to give `na_action=\"ignore\"` for categorical data.\u001B[39;00m\n\u001B[32m   1499\u001B[39m \u001B[38;5;66;03m# TODO: remove the `na_action=\"ignore\"` when that default has been changed in\u001B[39;00m\n\u001B[32m   1500\u001B[39m \u001B[38;5;66;03m#  Categorical (GH51645).\u001B[39;00m\n\u001B[32m   1501\u001B[39m action = \u001B[33m\"\u001B[39m\u001B[33mignore\u001B[39m\u001B[33m\"\u001B[39m \u001B[38;5;28;01mif\u001B[39;00m \u001B[38;5;28misinstance\u001B[39m(obj.dtype, CategoricalDtype) \u001B[38;5;28;01melse\u001B[39;00m \u001B[38;5;28;01mNone\u001B[39;00m\n\u001B[32m-> \u001B[39m\u001B[32m1502\u001B[39m mapped = \u001B[43mobj\u001B[49m\u001B[43m.\u001B[49m\u001B[43m_map_values\u001B[49m\u001B[43m(\u001B[49m\n\u001B[32m   1503\u001B[39m \u001B[43m    \u001B[49m\u001B[43mmapper\u001B[49m\u001B[43m=\u001B[49m\u001B[43mcurried\u001B[49m\u001B[43m,\u001B[49m\u001B[43m \u001B[49m\u001B[43mna_action\u001B[49m\u001B[43m=\u001B[49m\u001B[43maction\u001B[49m\u001B[43m,\u001B[49m\u001B[43m \u001B[49m\u001B[43mconvert\u001B[49m\u001B[43m=\u001B[49m\u001B[38;5;28;43mself\u001B[39;49m\u001B[43m.\u001B[49m\u001B[43mconvert_dtype\u001B[49m\n\u001B[32m   1504\u001B[39m \u001B[43m\u001B[49m\u001B[43m)\u001B[49m\n\u001B[32m   1506\u001B[39m \u001B[38;5;28;01mif\u001B[39;00m \u001B[38;5;28mlen\u001B[39m(mapped) \u001B[38;5;129;01mand\u001B[39;00m \u001B[38;5;28misinstance\u001B[39m(mapped[\u001B[32m0\u001B[39m], ABCSeries):\n\u001B[32m   1507\u001B[39m     \u001B[38;5;66;03m# GH#43986 Need to do list(mapped) in order to get treated as nested\u001B[39;00m\n\u001B[32m   1508\u001B[39m     \u001B[38;5;66;03m#  See also GH#25959 regarding EA support\u001B[39;00m\n\u001B[32m   1509\u001B[39m     \u001B[38;5;28;01mreturn\u001B[39;00m obj._constructor_expanddim(\u001B[38;5;28mlist\u001B[39m(mapped), index=obj.index)\n",
      "\u001B[36mFile \u001B[39m\u001B[32m~\\Documents\\GitHub\\tesis-optimizacion-de-modelos-de-question-answering\\.venv\\Lib\\site-packages\\pandas\\core\\base.py:925\u001B[39m, in \u001B[36mIndexOpsMixin._map_values\u001B[39m\u001B[34m(self, mapper, na_action, convert)\u001B[39m\n\u001B[32m    922\u001B[39m \u001B[38;5;28;01mif\u001B[39;00m \u001B[38;5;28misinstance\u001B[39m(arr, ExtensionArray):\n\u001B[32m    923\u001B[39m     \u001B[38;5;28;01mreturn\u001B[39;00m arr.map(mapper, na_action=na_action)\n\u001B[32m--> \u001B[39m\u001B[32m925\u001B[39m \u001B[38;5;28;01mreturn\u001B[39;00m \u001B[43malgorithms\u001B[49m\u001B[43m.\u001B[49m\u001B[43mmap_array\u001B[49m\u001B[43m(\u001B[49m\u001B[43marr\u001B[49m\u001B[43m,\u001B[49m\u001B[43m \u001B[49m\u001B[43mmapper\u001B[49m\u001B[43m,\u001B[49m\u001B[43m \u001B[49m\u001B[43mna_action\u001B[49m\u001B[43m=\u001B[49m\u001B[43mna_action\u001B[49m\u001B[43m,\u001B[49m\u001B[43m \u001B[49m\u001B[43mconvert\u001B[49m\u001B[43m=\u001B[49m\u001B[43mconvert\u001B[49m\u001B[43m)\u001B[49m\n",
      "\u001B[36mFile \u001B[39m\u001B[32m~\\Documents\\GitHub\\tesis-optimizacion-de-modelos-de-question-answering\\.venv\\Lib\\site-packages\\pandas\\core\\algorithms.py:1743\u001B[39m, in \u001B[36mmap_array\u001B[39m\u001B[34m(arr, mapper, na_action, convert)\u001B[39m\n\u001B[32m   1741\u001B[39m values = arr.astype(\u001B[38;5;28mobject\u001B[39m, copy=\u001B[38;5;28;01mFalse\u001B[39;00m)\n\u001B[32m   1742\u001B[39m \u001B[38;5;28;01mif\u001B[39;00m na_action \u001B[38;5;129;01mis\u001B[39;00m \u001B[38;5;28;01mNone\u001B[39;00m:\n\u001B[32m-> \u001B[39m\u001B[32m1743\u001B[39m     \u001B[38;5;28;01mreturn\u001B[39;00m \u001B[43mlib\u001B[49m\u001B[43m.\u001B[49m\u001B[43mmap_infer\u001B[49m\u001B[43m(\u001B[49m\u001B[43mvalues\u001B[49m\u001B[43m,\u001B[49m\u001B[43m \u001B[49m\u001B[43mmapper\u001B[49m\u001B[43m,\u001B[49m\u001B[43m \u001B[49m\u001B[43mconvert\u001B[49m\u001B[43m=\u001B[49m\u001B[43mconvert\u001B[49m\u001B[43m)\u001B[49m\n\u001B[32m   1744\u001B[39m \u001B[38;5;28;01melse\u001B[39;00m:\n\u001B[32m   1745\u001B[39m     \u001B[38;5;28;01mreturn\u001B[39;00m lib.map_infer_mask(\n\u001B[32m   1746\u001B[39m         values, mapper, mask=isna(values).view(np.uint8), convert=convert\n\u001B[32m   1747\u001B[39m     )\n",
      "\u001B[36mFile \u001B[39m\u001B[32mpandas/_libs/lib.pyx:2999\u001B[39m, in \u001B[36mpandas._libs.lib.map_infer\u001B[39m\u001B[34m()\u001B[39m\n",
      "\u001B[36mCell\u001B[39m\u001B[36m \u001B[39m\u001B[32mIn[191]\u001B[39m\u001B[32m, line 2\u001B[39m, in \u001B[36mspacy_sentence_tokenization\u001B[39m\u001B[34m(text)\u001B[39m\n\u001B[32m      1\u001B[39m \u001B[38;5;28;01mdef\u001B[39;00m\u001B[38;5;250m \u001B[39m\u001B[34mspacy_sentence_tokenization\u001B[39m(text):\n\u001B[32m----> \u001B[39m\u001B[32m2\u001B[39m     doc = \u001B[43mnlp_spacy\u001B[49m\u001B[43m(\u001B[49m\u001B[43mtext\u001B[49m\u001B[43m)\u001B[49m\n\u001B[32m      3\u001B[39m     sentences = [sent.text.strip() \u001B[38;5;28;01mfor\u001B[39;00m sent \u001B[38;5;129;01min\u001B[39;00m doc.sents]\n\u001B[32m      4\u001B[39m     \u001B[38;5;28;01mreturn\u001B[39;00m sentences\n",
      "\u001B[36mFile \u001B[39m\u001B[32m~\\Documents\\GitHub\\tesis-optimizacion-de-modelos-de-question-answering\\.venv\\Lib\\site-packages\\spacy\\language.py:1053\u001B[39m, in \u001B[36mLanguage.__call__\u001B[39m\u001B[34m(self, text, disable, component_cfg)\u001B[39m\n\u001B[32m   1051\u001B[39m     error_handler = proc.get_error_handler()\n\u001B[32m   1052\u001B[39m \u001B[38;5;28;01mtry\u001B[39;00m:\n\u001B[32m-> \u001B[39m\u001B[32m1053\u001B[39m     doc = \u001B[43mproc\u001B[49m\u001B[43m(\u001B[49m\u001B[43mdoc\u001B[49m\u001B[43m,\u001B[49m\u001B[43m \u001B[49m\u001B[43m*\u001B[49m\u001B[43m*\u001B[49m\u001B[43mcomponent_cfg\u001B[49m\u001B[43m.\u001B[49m\u001B[43mget\u001B[49m\u001B[43m(\u001B[49m\u001B[43mname\u001B[49m\u001B[43m,\u001B[49m\u001B[43m \u001B[49m\u001B[43m{\u001B[49m\u001B[43m}\u001B[49m\u001B[43m)\u001B[49m\u001B[43m)\u001B[49m  \u001B[38;5;66;03m# type: ignore[call-arg]\u001B[39;00m\n\u001B[32m   1054\u001B[39m \u001B[38;5;28;01mexcept\u001B[39;00m \u001B[38;5;167;01mKeyError\u001B[39;00m \u001B[38;5;28;01mas\u001B[39;00m e:\n\u001B[32m   1055\u001B[39m     \u001B[38;5;66;03m# This typically happens if a component is not initialized\u001B[39;00m\n\u001B[32m   1056\u001B[39m     \u001B[38;5;28;01mraise\u001B[39;00m \u001B[38;5;167;01mValueError\u001B[39;00m(Errors.E109.format(name=name)) \u001B[38;5;28;01mfrom\u001B[39;00m\u001B[38;5;250m \u001B[39m\u001B[34;01me\u001B[39;00m\n",
      "\u001B[36mFile \u001B[39m\u001B[32m~\\Documents\\GitHub\\tesis-optimizacion-de-modelos-de-question-answering\\.venv\\Lib\\site-packages\\spacy\\pipeline\\trainable_pipe.pyx:52\u001B[39m, in \u001B[36mspacy.pipeline.trainable_pipe.TrainablePipe.__call__\u001B[39m\u001B[34m()\u001B[39m\n",
      "\u001B[36mFile \u001B[39m\u001B[32m~\\Documents\\GitHub\\tesis-optimizacion-de-modelos-de-question-answering\\.venv\\Lib\\site-packages\\spacy\\pipeline\\transition_parser.pyx:264\u001B[39m, in \u001B[36mspacy.pipeline.transition_parser.Parser.predict\u001B[39m\u001B[34m()\u001B[39m\n",
      "\u001B[36mFile \u001B[39m\u001B[32m~\\Documents\\GitHub\\tesis-optimizacion-de-modelos-de-question-answering\\.venv\\Lib\\site-packages\\spacy\\pipeline\\transition_parser.pyx:285\u001B[39m, in \u001B[36mspacy.pipeline.transition_parser.Parser.greedy_parse\u001B[39m\u001B[34m()\u001B[39m\n",
      "\u001B[36mFile \u001B[39m\u001B[32m~\\Documents\\GitHub\\tesis-optimizacion-de-modelos-de-question-answering\\.venv\\Lib\\site-packages\\thinc\\model.py:334\u001B[39m, in \u001B[36mModel.predict\u001B[39m\u001B[34m(self, X)\u001B[39m\n\u001B[32m    330\u001B[39m \u001B[38;5;28;01mdef\u001B[39;00m\u001B[38;5;250m \u001B[39m\u001B[34mpredict\u001B[39m(\u001B[38;5;28mself\u001B[39m, X: InT) -> OutT:\n\u001B[32m    331\u001B[39m \u001B[38;5;250m    \u001B[39m\u001B[33;03m\"\"\"Call the model's `forward` function with `is_train=False`, and return\u001B[39;00m\n\u001B[32m    332\u001B[39m \u001B[33;03m    only the output, instead of the `(output, callback)` tuple.\u001B[39;00m\n\u001B[32m    333\u001B[39m \u001B[33;03m    \"\"\"\u001B[39;00m\n\u001B[32m--> \u001B[39m\u001B[32m334\u001B[39m     \u001B[38;5;28;01mreturn\u001B[39;00m \u001B[38;5;28;43mself\u001B[39;49m\u001B[43m.\u001B[49m\u001B[43m_func\u001B[49m\u001B[43m(\u001B[49m\u001B[38;5;28;43mself\u001B[39;49m\u001B[43m,\u001B[49m\u001B[43m \u001B[49m\u001B[43mX\u001B[49m\u001B[43m,\u001B[49m\u001B[43m \u001B[49m\u001B[43mis_train\u001B[49m\u001B[43m=\u001B[49m\u001B[38;5;28;43;01mFalse\u001B[39;49;00m\u001B[43m)\u001B[49m[\u001B[32m0\u001B[39m]\n",
      "\u001B[36mFile \u001B[39m\u001B[32m~\\Documents\\GitHub\\tesis-optimizacion-de-modelos-de-question-answering\\.venv\\Lib\\site-packages\\spacy\\ml\\tb_framework.py:33\u001B[39m, in \u001B[36mforward\u001B[39m\u001B[34m(model, X, is_train)\u001B[39m\n\u001B[32m     32\u001B[39m \u001B[38;5;28;01mdef\u001B[39;00m\u001B[38;5;250m \u001B[39m\u001B[34mforward\u001B[39m(model, X, is_train):\n\u001B[32m---> \u001B[39m\u001B[32m33\u001B[39m     step_model = \u001B[43mParserStepModel\u001B[49m\u001B[43m(\u001B[49m\n\u001B[32m     34\u001B[39m \u001B[43m        \u001B[49m\u001B[43mX\u001B[49m\u001B[43m,\u001B[49m\n\u001B[32m     35\u001B[39m \u001B[43m        \u001B[49m\u001B[43mmodel\u001B[49m\u001B[43m.\u001B[49m\u001B[43mlayers\u001B[49m\u001B[43m,\u001B[49m\n\u001B[32m     36\u001B[39m \u001B[43m        \u001B[49m\u001B[43munseen_classes\u001B[49m\u001B[43m=\u001B[49m\u001B[43mmodel\u001B[49m\u001B[43m.\u001B[49m\u001B[43mattrs\u001B[49m\u001B[43m[\u001B[49m\u001B[33;43m\"\u001B[39;49m\u001B[33;43munseen_classes\u001B[39;49m\u001B[33;43m\"\u001B[39;49m\u001B[43m]\u001B[49m\u001B[43m,\u001B[49m\n\u001B[32m     37\u001B[39m \u001B[43m        \u001B[49m\u001B[43mtrain\u001B[49m\u001B[43m=\u001B[49m\u001B[43mis_train\u001B[49m\u001B[43m,\u001B[49m\n\u001B[32m     38\u001B[39m \u001B[43m        \u001B[49m\u001B[43mhas_upper\u001B[49m\u001B[43m=\u001B[49m\u001B[43mmodel\u001B[49m\u001B[43m.\u001B[49m\u001B[43mattrs\u001B[49m\u001B[43m[\u001B[49m\u001B[33;43m\"\u001B[39;49m\u001B[33;43mhas_upper\u001B[39;49m\u001B[33;43m\"\u001B[39;49m\u001B[43m]\u001B[49m\u001B[43m,\u001B[49m\n\u001B[32m     39\u001B[39m \u001B[43m    \u001B[49m\u001B[43m)\u001B[49m\n\u001B[32m     41\u001B[39m     \u001B[38;5;28;01mreturn\u001B[39;00m step_model, step_model.finish_steps\n",
      "\u001B[36mFile \u001B[39m\u001B[32m~\\Documents\\GitHub\\tesis-optimizacion-de-modelos-de-question-answering\\.venv\\Lib\\site-packages\\spacy\\ml\\parser_model.pyx:250\u001B[39m, in \u001B[36mspacy.ml.parser_model.ParserStepModel.__init__\u001B[39m\u001B[34m()\u001B[39m\n",
      "\u001B[36mFile \u001B[39m\u001B[32m~\\Documents\\GitHub\\tesis-optimizacion-de-modelos-de-question-answering\\.venv\\Lib\\site-packages\\thinc\\model.py:310\u001B[39m, in \u001B[36mModel.__call__\u001B[39m\u001B[34m(self, X, is_train)\u001B[39m\n\u001B[32m    307\u001B[39m \u001B[38;5;28;01mdef\u001B[39;00m\u001B[38;5;250m \u001B[39m\u001B[34m__call__\u001B[39m(\u001B[38;5;28mself\u001B[39m, X: InT, is_train: \u001B[38;5;28mbool\u001B[39m) -> Tuple[OutT, Callable]:\n\u001B[32m    308\u001B[39m \u001B[38;5;250m    \u001B[39m\u001B[33;03m\"\"\"Call the model's `forward` function, returning the output and a\u001B[39;00m\n\u001B[32m    309\u001B[39m \u001B[33;03m    callback to compute the gradients via backpropagation.\"\"\"\u001B[39;00m\n\u001B[32m--> \u001B[39m\u001B[32m310\u001B[39m     \u001B[38;5;28;01mreturn\u001B[39;00m \u001B[38;5;28;43mself\u001B[39;49m\u001B[43m.\u001B[49m\u001B[43m_func\u001B[49m\u001B[43m(\u001B[49m\u001B[38;5;28;43mself\u001B[39;49m\u001B[43m,\u001B[49m\u001B[43m \u001B[49m\u001B[43mX\u001B[49m\u001B[43m,\u001B[49m\u001B[43m \u001B[49m\u001B[43mis_train\u001B[49m\u001B[43m=\u001B[49m\u001B[43mis_train\u001B[49m\u001B[43m)\u001B[49m\n",
      "\u001B[36mFile \u001B[39m\u001B[32m~\\Documents\\GitHub\\tesis-optimizacion-de-modelos-de-question-answering\\.venv\\Lib\\site-packages\\thinc\\layers\\chain.py:54\u001B[39m, in \u001B[36mforward\u001B[39m\u001B[34m(model, X, is_train)\u001B[39m\n\u001B[32m     52\u001B[39m callbacks = []\n\u001B[32m     53\u001B[39m \u001B[38;5;28;01mfor\u001B[39;00m layer \u001B[38;5;129;01min\u001B[39;00m model.layers:\n\u001B[32m---> \u001B[39m\u001B[32m54\u001B[39m     Y, inc_layer_grad = \u001B[43mlayer\u001B[49m\u001B[43m(\u001B[49m\u001B[43mX\u001B[49m\u001B[43m,\u001B[49m\u001B[43m \u001B[49m\u001B[43mis_train\u001B[49m\u001B[43m=\u001B[49m\u001B[43mis_train\u001B[49m\u001B[43m)\u001B[49m\n\u001B[32m     55\u001B[39m     callbacks.append(inc_layer_grad)\n\u001B[32m     56\u001B[39m     X = Y\n",
      "\u001B[36mFile \u001B[39m\u001B[32m~\\Documents\\GitHub\\tesis-optimizacion-de-modelos-de-question-answering\\.venv\\Lib\\site-packages\\thinc\\model.py:310\u001B[39m, in \u001B[36mModel.__call__\u001B[39m\u001B[34m(self, X, is_train)\u001B[39m\n\u001B[32m    307\u001B[39m \u001B[38;5;28;01mdef\u001B[39;00m\u001B[38;5;250m \u001B[39m\u001B[34m__call__\u001B[39m(\u001B[38;5;28mself\u001B[39m, X: InT, is_train: \u001B[38;5;28mbool\u001B[39m) -> Tuple[OutT, Callable]:\n\u001B[32m    308\u001B[39m \u001B[38;5;250m    \u001B[39m\u001B[33;03m\"\"\"Call the model's `forward` function, returning the output and a\u001B[39;00m\n\u001B[32m    309\u001B[39m \u001B[33;03m    callback to compute the gradients via backpropagation.\"\"\"\u001B[39;00m\n\u001B[32m--> \u001B[39m\u001B[32m310\u001B[39m     \u001B[38;5;28;01mreturn\u001B[39;00m \u001B[38;5;28;43mself\u001B[39;49m\u001B[43m.\u001B[49m\u001B[43m_func\u001B[49m\u001B[43m(\u001B[49m\u001B[38;5;28;43mself\u001B[39;49m\u001B[43m,\u001B[49m\u001B[43m \u001B[49m\u001B[43mX\u001B[49m\u001B[43m,\u001B[49m\u001B[43m \u001B[49m\u001B[43mis_train\u001B[49m\u001B[43m=\u001B[49m\u001B[43mis_train\u001B[49m\u001B[43m)\u001B[49m\n",
      "\u001B[36mFile \u001B[39m\u001B[32m~\\Documents\\GitHub\\tesis-optimizacion-de-modelos-de-question-answering\\.venv\\Lib\\site-packages\\thinc\\layers\\chain.py:54\u001B[39m, in \u001B[36mforward\u001B[39m\u001B[34m(model, X, is_train)\u001B[39m\n\u001B[32m     52\u001B[39m callbacks = []\n\u001B[32m     53\u001B[39m \u001B[38;5;28;01mfor\u001B[39;00m layer \u001B[38;5;129;01min\u001B[39;00m model.layers:\n\u001B[32m---> \u001B[39m\u001B[32m54\u001B[39m     Y, inc_layer_grad = \u001B[43mlayer\u001B[49m\u001B[43m(\u001B[49m\u001B[43mX\u001B[49m\u001B[43m,\u001B[49m\u001B[43m \u001B[49m\u001B[43mis_train\u001B[49m\u001B[43m=\u001B[49m\u001B[43mis_train\u001B[49m\u001B[43m)\u001B[49m\n\u001B[32m     55\u001B[39m     callbacks.append(inc_layer_grad)\n\u001B[32m     56\u001B[39m     X = Y\n",
      "\u001B[36mFile \u001B[39m\u001B[32m~\\Documents\\GitHub\\tesis-optimizacion-de-modelos-de-question-answering\\.venv\\Lib\\site-packages\\thinc\\model.py:310\u001B[39m, in \u001B[36mModel.__call__\u001B[39m\u001B[34m(self, X, is_train)\u001B[39m\n\u001B[32m    307\u001B[39m \u001B[38;5;28;01mdef\u001B[39;00m\u001B[38;5;250m \u001B[39m\u001B[34m__call__\u001B[39m(\u001B[38;5;28mself\u001B[39m, X: InT, is_train: \u001B[38;5;28mbool\u001B[39m) -> Tuple[OutT, Callable]:\n\u001B[32m    308\u001B[39m \u001B[38;5;250m    \u001B[39m\u001B[33;03m\"\"\"Call the model's `forward` function, returning the output and a\u001B[39;00m\n\u001B[32m    309\u001B[39m \u001B[33;03m    callback to compute the gradients via backpropagation.\"\"\"\u001B[39;00m\n\u001B[32m--> \u001B[39m\u001B[32m310\u001B[39m     \u001B[38;5;28;01mreturn\u001B[39;00m \u001B[38;5;28;43mself\u001B[39;49m\u001B[43m.\u001B[49m\u001B[43m_func\u001B[49m\u001B[43m(\u001B[49m\u001B[38;5;28;43mself\u001B[39;49m\u001B[43m,\u001B[49m\u001B[43m \u001B[49m\u001B[43mX\u001B[49m\u001B[43m,\u001B[49m\u001B[43m \u001B[49m\u001B[43mis_train\u001B[49m\u001B[43m=\u001B[49m\u001B[43mis_train\u001B[49m\u001B[43m)\u001B[49m\n",
      "\u001B[36mFile \u001B[39m\u001B[32m~\\Documents\\GitHub\\tesis-optimizacion-de-modelos-de-question-answering\\.venv\\Lib\\site-packages\\thinc\\layers\\with_array.py:42\u001B[39m, in \u001B[36mforward\u001B[39m\u001B[34m(model, Xseq, is_train)\u001B[39m\n\u001B[32m     40\u001B[39m     \u001B[38;5;28;01mreturn\u001B[39;00m model.layers[\u001B[32m0\u001B[39m](Xseq, is_train)\n\u001B[32m     41\u001B[39m \u001B[38;5;28;01melse\u001B[39;00m:\n\u001B[32m---> \u001B[39m\u001B[32m42\u001B[39m     \u001B[38;5;28;01mreturn\u001B[39;00m cast(Tuple[SeqT, Callable], \u001B[43m_list_forward\u001B[49m\u001B[43m(\u001B[49m\u001B[43mmodel\u001B[49m\u001B[43m,\u001B[49m\u001B[43m \u001B[49m\u001B[43mXseq\u001B[49m\u001B[43m,\u001B[49m\u001B[43m \u001B[49m\u001B[43mis_train\u001B[49m\u001B[43m)\u001B[49m)\n",
      "\u001B[36mFile \u001B[39m\u001B[32m~\\Documents\\GitHub\\tesis-optimizacion-de-modelos-de-question-answering\\.venv\\Lib\\site-packages\\thinc\\layers\\with_array.py:77\u001B[39m, in \u001B[36m_list_forward\u001B[39m\u001B[34m(model, Xs, is_train)\u001B[39m\n\u001B[32m     75\u001B[39m lengths = NUMPY_OPS.asarray1i([\u001B[38;5;28mlen\u001B[39m(seq) \u001B[38;5;28;01mfor\u001B[39;00m seq \u001B[38;5;129;01min\u001B[39;00m Xs])\n\u001B[32m     76\u001B[39m Xf = layer.ops.flatten(Xs, pad=pad)\n\u001B[32m---> \u001B[39m\u001B[32m77\u001B[39m Yf, get_dXf = \u001B[43mlayer\u001B[49m\u001B[43m(\u001B[49m\u001B[43mXf\u001B[49m\u001B[43m,\u001B[49m\u001B[43m \u001B[49m\u001B[43mis_train\u001B[49m\u001B[43m)\u001B[49m\n\u001B[32m     79\u001B[39m \u001B[38;5;28;01mdef\u001B[39;00m\u001B[38;5;250m \u001B[39m\u001B[34mbackprop\u001B[39m(dYs: ListXd) -> ListXd:\n\u001B[32m     80\u001B[39m     dYf = layer.ops.flatten(dYs, pad=pad)\n",
      "\u001B[36mFile \u001B[39m\u001B[32m~\\Documents\\GitHub\\tesis-optimizacion-de-modelos-de-question-answering\\.venv\\Lib\\site-packages\\thinc\\model.py:310\u001B[39m, in \u001B[36mModel.__call__\u001B[39m\u001B[34m(self, X, is_train)\u001B[39m\n\u001B[32m    307\u001B[39m \u001B[38;5;28;01mdef\u001B[39;00m\u001B[38;5;250m \u001B[39m\u001B[34m__call__\u001B[39m(\u001B[38;5;28mself\u001B[39m, X: InT, is_train: \u001B[38;5;28mbool\u001B[39m) -> Tuple[OutT, Callable]:\n\u001B[32m    308\u001B[39m \u001B[38;5;250m    \u001B[39m\u001B[33;03m\"\"\"Call the model's `forward` function, returning the output and a\u001B[39;00m\n\u001B[32m    309\u001B[39m \u001B[33;03m    callback to compute the gradients via backpropagation.\"\"\"\u001B[39;00m\n\u001B[32m--> \u001B[39m\u001B[32m310\u001B[39m     \u001B[38;5;28;01mreturn\u001B[39;00m \u001B[38;5;28;43mself\u001B[39;49m\u001B[43m.\u001B[49m\u001B[43m_func\u001B[49m\u001B[43m(\u001B[49m\u001B[38;5;28;43mself\u001B[39;49m\u001B[43m,\u001B[49m\u001B[43m \u001B[49m\u001B[43mX\u001B[49m\u001B[43m,\u001B[49m\u001B[43m \u001B[49m\u001B[43mis_train\u001B[49m\u001B[43m=\u001B[49m\u001B[43mis_train\u001B[49m\u001B[43m)\u001B[49m\n",
      "\u001B[36mFile \u001B[39m\u001B[32m~\\Documents\\GitHub\\tesis-optimizacion-de-modelos-de-question-answering\\.venv\\Lib\\site-packages\\thinc\\layers\\chain.py:54\u001B[39m, in \u001B[36mforward\u001B[39m\u001B[34m(model, X, is_train)\u001B[39m\n\u001B[32m     52\u001B[39m callbacks = []\n\u001B[32m     53\u001B[39m \u001B[38;5;28;01mfor\u001B[39;00m layer \u001B[38;5;129;01min\u001B[39;00m model.layers:\n\u001B[32m---> \u001B[39m\u001B[32m54\u001B[39m     Y, inc_layer_grad = \u001B[43mlayer\u001B[49m\u001B[43m(\u001B[49m\u001B[43mX\u001B[49m\u001B[43m,\u001B[49m\u001B[43m \u001B[49m\u001B[43mis_train\u001B[49m\u001B[43m=\u001B[49m\u001B[43mis_train\u001B[49m\u001B[43m)\u001B[49m\n\u001B[32m     55\u001B[39m     callbacks.append(inc_layer_grad)\n\u001B[32m     56\u001B[39m     X = Y\n",
      "\u001B[36mFile \u001B[39m\u001B[32m~\\Documents\\GitHub\\tesis-optimizacion-de-modelos-de-question-answering\\.venv\\Lib\\site-packages\\thinc\\model.py:310\u001B[39m, in \u001B[36mModel.__call__\u001B[39m\u001B[34m(self, X, is_train)\u001B[39m\n\u001B[32m    307\u001B[39m \u001B[38;5;28;01mdef\u001B[39;00m\u001B[38;5;250m \u001B[39m\u001B[34m__call__\u001B[39m(\u001B[38;5;28mself\u001B[39m, X: InT, is_train: \u001B[38;5;28mbool\u001B[39m) -> Tuple[OutT, Callable]:\n\u001B[32m    308\u001B[39m \u001B[38;5;250m    \u001B[39m\u001B[33;03m\"\"\"Call the model's `forward` function, returning the output and a\u001B[39;00m\n\u001B[32m    309\u001B[39m \u001B[33;03m    callback to compute the gradients via backpropagation.\"\"\"\u001B[39;00m\n\u001B[32m--> \u001B[39m\u001B[32m310\u001B[39m     \u001B[38;5;28;01mreturn\u001B[39;00m \u001B[38;5;28;43mself\u001B[39;49m\u001B[43m.\u001B[49m\u001B[43m_func\u001B[49m\u001B[43m(\u001B[49m\u001B[38;5;28;43mself\u001B[39;49m\u001B[43m,\u001B[49m\u001B[43m \u001B[49m\u001B[43mX\u001B[49m\u001B[43m,\u001B[49m\u001B[43m \u001B[49m\u001B[43mis_train\u001B[49m\u001B[43m=\u001B[49m\u001B[43mis_train\u001B[49m\u001B[43m)\u001B[49m\n",
      "\u001B[36mFile \u001B[39m\u001B[32m~\\Documents\\GitHub\\tesis-optimizacion-de-modelos-de-question-answering\\.venv\\Lib\\site-packages\\thinc\\layers\\residual.py:41\u001B[39m, in \u001B[36mforward\u001B[39m\u001B[34m(model, X, is_train)\u001B[39m\n\u001B[32m     38\u001B[39m     \u001B[38;5;28;01melse\u001B[39;00m:\n\u001B[32m     39\u001B[39m         \u001B[38;5;28;01mreturn\u001B[39;00m d_output + dX\n\u001B[32m---> \u001B[39m\u001B[32m41\u001B[39m Y, backprop_layer = \u001B[43mmodel\u001B[49m\u001B[43m.\u001B[49m\u001B[43mlayers\u001B[49m\u001B[43m[\u001B[49m\u001B[32;43m0\u001B[39;49m\u001B[43m]\u001B[49m\u001B[43m(\u001B[49m\u001B[43mX\u001B[49m\u001B[43m,\u001B[49m\u001B[43m \u001B[49m\u001B[43mis_train\u001B[49m\u001B[43m)\u001B[49m\n\u001B[32m     42\u001B[39m \u001B[38;5;28;01mif\u001B[39;00m \u001B[38;5;28misinstance\u001B[39m(X, \u001B[38;5;28mlist\u001B[39m):\n\u001B[32m     43\u001B[39m     \u001B[38;5;28;01mreturn\u001B[39;00m [X[i] + Y[i] \u001B[38;5;28;01mfor\u001B[39;00m i \u001B[38;5;129;01min\u001B[39;00m \u001B[38;5;28mrange\u001B[39m(\u001B[38;5;28mlen\u001B[39m(X))], backprop\n",
      "\u001B[36mFile \u001B[39m\u001B[32m~\\Documents\\GitHub\\tesis-optimizacion-de-modelos-de-question-answering\\.venv\\Lib\\site-packages\\thinc\\model.py:310\u001B[39m, in \u001B[36mModel.__call__\u001B[39m\u001B[34m(self, X, is_train)\u001B[39m\n\u001B[32m    307\u001B[39m \u001B[38;5;28;01mdef\u001B[39;00m\u001B[38;5;250m \u001B[39m\u001B[34m__call__\u001B[39m(\u001B[38;5;28mself\u001B[39m, X: InT, is_train: \u001B[38;5;28mbool\u001B[39m) -> Tuple[OutT, Callable]:\n\u001B[32m    308\u001B[39m \u001B[38;5;250m    \u001B[39m\u001B[33;03m\"\"\"Call the model's `forward` function, returning the output and a\u001B[39;00m\n\u001B[32m    309\u001B[39m \u001B[33;03m    callback to compute the gradients via backpropagation.\"\"\"\u001B[39;00m\n\u001B[32m--> \u001B[39m\u001B[32m310\u001B[39m     \u001B[38;5;28;01mreturn\u001B[39;00m \u001B[38;5;28;43mself\u001B[39;49m\u001B[43m.\u001B[49m\u001B[43m_func\u001B[49m\u001B[43m(\u001B[49m\u001B[38;5;28;43mself\u001B[39;49m\u001B[43m,\u001B[49m\u001B[43m \u001B[49m\u001B[43mX\u001B[49m\u001B[43m,\u001B[49m\u001B[43m \u001B[49m\u001B[43mis_train\u001B[49m\u001B[43m=\u001B[49m\u001B[43mis_train\u001B[49m\u001B[43m)\u001B[49m\n",
      "\u001B[36mFile \u001B[39m\u001B[32m~\\Documents\\GitHub\\tesis-optimizacion-de-modelos-de-question-answering\\.venv\\Lib\\site-packages\\thinc\\layers\\chain.py:54\u001B[39m, in \u001B[36mforward\u001B[39m\u001B[34m(model, X, is_train)\u001B[39m\n\u001B[32m     52\u001B[39m callbacks = []\n\u001B[32m     53\u001B[39m \u001B[38;5;28;01mfor\u001B[39;00m layer \u001B[38;5;129;01min\u001B[39;00m model.layers:\n\u001B[32m---> \u001B[39m\u001B[32m54\u001B[39m     Y, inc_layer_grad = \u001B[43mlayer\u001B[49m\u001B[43m(\u001B[49m\u001B[43mX\u001B[49m\u001B[43m,\u001B[49m\u001B[43m \u001B[49m\u001B[43mis_train\u001B[49m\u001B[43m=\u001B[49m\u001B[43mis_train\u001B[49m\u001B[43m)\u001B[49m\n\u001B[32m     55\u001B[39m     callbacks.append(inc_layer_grad)\n\u001B[32m     56\u001B[39m     X = Y\n",
      "\u001B[36mFile \u001B[39m\u001B[32m~\\Documents\\GitHub\\tesis-optimizacion-de-modelos-de-question-answering\\.venv\\Lib\\site-packages\\thinc\\model.py:310\u001B[39m, in \u001B[36mModel.__call__\u001B[39m\u001B[34m(self, X, is_train)\u001B[39m\n\u001B[32m    307\u001B[39m \u001B[38;5;28;01mdef\u001B[39;00m\u001B[38;5;250m \u001B[39m\u001B[34m__call__\u001B[39m(\u001B[38;5;28mself\u001B[39m, X: InT, is_train: \u001B[38;5;28mbool\u001B[39m) -> Tuple[OutT, Callable]:\n\u001B[32m    308\u001B[39m \u001B[38;5;250m    \u001B[39m\u001B[33;03m\"\"\"Call the model's `forward` function, returning the output and a\u001B[39;00m\n\u001B[32m    309\u001B[39m \u001B[33;03m    callback to compute the gradients via backpropagation.\"\"\"\u001B[39;00m\n\u001B[32m--> \u001B[39m\u001B[32m310\u001B[39m     \u001B[38;5;28;01mreturn\u001B[39;00m \u001B[38;5;28;43mself\u001B[39;49m\u001B[43m.\u001B[49m\u001B[43m_func\u001B[49m\u001B[43m(\u001B[49m\u001B[38;5;28;43mself\u001B[39;49m\u001B[43m,\u001B[49m\u001B[43m \u001B[49m\u001B[43mX\u001B[49m\u001B[43m,\u001B[49m\u001B[43m \u001B[49m\u001B[43mis_train\u001B[49m\u001B[43m=\u001B[49m\u001B[43mis_train\u001B[49m\u001B[43m)\u001B[49m\n",
      "\u001B[36mFile \u001B[39m\u001B[32m~\\Documents\\GitHub\\tesis-optimizacion-de-modelos-de-question-answering\\.venv\\Lib\\site-packages\\thinc\\layers\\chain.py:54\u001B[39m, in \u001B[36mforward\u001B[39m\u001B[34m(model, X, is_train)\u001B[39m\n\u001B[32m     52\u001B[39m callbacks = []\n\u001B[32m     53\u001B[39m \u001B[38;5;28;01mfor\u001B[39;00m layer \u001B[38;5;129;01min\u001B[39;00m model.layers:\n\u001B[32m---> \u001B[39m\u001B[32m54\u001B[39m     Y, inc_layer_grad = \u001B[43mlayer\u001B[49m\u001B[43m(\u001B[49m\u001B[43mX\u001B[49m\u001B[43m,\u001B[49m\u001B[43m \u001B[49m\u001B[43mis_train\u001B[49m\u001B[43m=\u001B[49m\u001B[43mis_train\u001B[49m\u001B[43m)\u001B[49m\n\u001B[32m     55\u001B[39m     callbacks.append(inc_layer_grad)\n\u001B[32m     56\u001B[39m     X = Y\n",
      "    \u001B[31m[... skipping similar frames: Model.__call__ at line 310 (1 times)]\u001B[39m\n",
      "\u001B[36mFile \u001B[39m\u001B[32m~\\Documents\\GitHub\\tesis-optimizacion-de-modelos-de-question-answering\\.venv\\Lib\\site-packages\\thinc\\layers\\chain.py:54\u001B[39m, in \u001B[36mforward\u001B[39m\u001B[34m(model, X, is_train)\u001B[39m\n\u001B[32m     52\u001B[39m callbacks = []\n\u001B[32m     53\u001B[39m \u001B[38;5;28;01mfor\u001B[39;00m layer \u001B[38;5;129;01min\u001B[39;00m model.layers:\n\u001B[32m---> \u001B[39m\u001B[32m54\u001B[39m     Y, inc_layer_grad = \u001B[43mlayer\u001B[49m\u001B[43m(\u001B[49m\u001B[43mX\u001B[49m\u001B[43m,\u001B[49m\u001B[43m \u001B[49m\u001B[43mis_train\u001B[49m\u001B[43m=\u001B[49m\u001B[43mis_train\u001B[49m\u001B[43m)\u001B[49m\n\u001B[32m     55\u001B[39m     callbacks.append(inc_layer_grad)\n\u001B[32m     56\u001B[39m     X = Y\n",
      "\u001B[36mFile \u001B[39m\u001B[32m~\\Documents\\GitHub\\tesis-optimizacion-de-modelos-de-question-answering\\.venv\\Lib\\site-packages\\thinc\\model.py:310\u001B[39m, in \u001B[36mModel.__call__\u001B[39m\u001B[34m(self, X, is_train)\u001B[39m\n\u001B[32m    307\u001B[39m \u001B[38;5;28;01mdef\u001B[39;00m\u001B[38;5;250m \u001B[39m\u001B[34m__call__\u001B[39m(\u001B[38;5;28mself\u001B[39m, X: InT, is_train: \u001B[38;5;28mbool\u001B[39m) -> Tuple[OutT, Callable]:\n\u001B[32m    308\u001B[39m \u001B[38;5;250m    \u001B[39m\u001B[33;03m\"\"\"Call the model's `forward` function, returning the output and a\u001B[39;00m\n\u001B[32m    309\u001B[39m \u001B[33;03m    callback to compute the gradients via backpropagation.\"\"\"\u001B[39;00m\n\u001B[32m--> \u001B[39m\u001B[32m310\u001B[39m     \u001B[38;5;28;01mreturn\u001B[39;00m \u001B[38;5;28;43mself\u001B[39;49m\u001B[43m.\u001B[49m\u001B[43m_func\u001B[49m\u001B[43m(\u001B[49m\u001B[38;5;28;43mself\u001B[39;49m\u001B[43m,\u001B[49m\u001B[43m \u001B[49m\u001B[43mX\u001B[49m\u001B[43m,\u001B[49m\u001B[43m \u001B[49m\u001B[43mis_train\u001B[49m\u001B[43m=\u001B[49m\u001B[43mis_train\u001B[49m\u001B[43m)\u001B[49m\n",
      "\u001B[36mFile \u001B[39m\u001B[32m~\\Documents\\GitHub\\tesis-optimizacion-de-modelos-de-question-answering\\.venv\\Lib\\site-packages\\thinc\\layers\\maxout.py:52\u001B[39m, in \u001B[36mforward\u001B[39m\u001B[34m(model, X, is_train)\u001B[39m\n\u001B[32m     50\u001B[39m W = model.get_param(\u001B[33m\"\u001B[39m\u001B[33mW\u001B[39m\u001B[33m\"\u001B[39m)\n\u001B[32m     51\u001B[39m W = model.ops.reshape2f(W, nO * nP, nI)\n\u001B[32m---> \u001B[39m\u001B[32m52\u001B[39m Y = \u001B[43mmodel\u001B[49m\u001B[43m.\u001B[49m\u001B[43mops\u001B[49m\u001B[43m.\u001B[49m\u001B[43mgemm\u001B[49m\u001B[43m(\u001B[49m\u001B[43mX\u001B[49m\u001B[43m,\u001B[49m\u001B[43m \u001B[49m\u001B[43mW\u001B[49m\u001B[43m,\u001B[49m\u001B[43m \u001B[49m\u001B[43mtrans2\u001B[49m\u001B[43m=\u001B[49m\u001B[38;5;28;43;01mTrue\u001B[39;49;00m\u001B[43m)\u001B[49m\n\u001B[32m     53\u001B[39m Y += model.ops.reshape1f(b, nO * nP)\n\u001B[32m     54\u001B[39m Z = model.ops.reshape3f(Y, Y.shape[\u001B[32m0\u001B[39m], nO, nP)\n",
      "\u001B[31mKeyboardInterrupt\u001B[39m: "
     ]
    }
   ],
   "execution_count": 200
  },
  {
   "metadata": {
    "ExecuteTime": {
     "end_time": "2025-10-19T21:35:25.548160700Z",
     "start_time": "2025-10-13T02:48:09.480687Z"
    }
   },
   "cell_type": "code",
   "source": "silver_df_news[\"content_lowercase_with_no_punctuation\"] = silver_df_news[\"content_lowercase\"].apply(remove_punctuation)",
   "id": "b0d8d563e1fd9b1c",
   "outputs": [],
   "execution_count": 816
  },
  {
   "metadata": {
    "ExecuteTime": {
     "end_time": "2025-10-19T21:35:25.555668300Z",
     "start_time": "2025-10-13T02:48:09.970028Z"
    }
   },
   "cell_type": "code",
   "source": "silver_df_news[\"content_without_stopwords\"] = silver_df_news[\"content_lowercase_with_no_punctuation\"].apply(remove_stopwords_spacy)",
   "id": "e9c3a891243d17e9",
   "outputs": [],
   "execution_count": 817
  },
  {
   "metadata": {
    "ExecuteTime": {
     "end_time": "2025-10-19T21:35:25.560677Z",
     "start_time": "2025-10-13T03:28:26.359730Z"
    }
   },
   "cell_type": "code",
   "source": "silver_df_news[\"content_tokens\"] = silver_df_news[\"content_without_stopwords\"].apply(spacy_tokenization)",
   "id": "397f63dab8daef5c",
   "outputs": [],
   "execution_count": 818
  },
  {
   "metadata": {
    "ExecuteTime": {
     "end_time": "2025-10-19T21:35:25.598284500Z",
     "start_time": "2025-10-13T03:33:28.526829Z"
    }
   },
   "cell_type": "code",
   "source": "silver_df_news[\"content_lemmes\"] = silver_df_news[\"content_tokens\"].apply(lemmatize_spanish)",
   "id": "760d4a5778f1d5eb",
   "outputs": [],
   "execution_count": 819
  },
  {
   "metadata": {
    "ExecuteTime": {
     "end_time": "2025-10-21T05:27:12.924288Z",
     "start_time": "2025-10-21T05:27:11.682960Z"
    }
   },
   "cell_type": "code",
   "source": "silver_df_news = pd.read_json(\"../datasets/exploration_datasets/silver/silver_df_news.json\", lines=True)",
   "id": "87f4279805046abb",
   "outputs": [],
   "execution_count": 3
  },
  {
   "metadata": {
    "ExecuteTime": {
     "end_time": "2025-10-21T05:27:16.687489Z",
     "start_time": "2025-10-21T05:27:16.679066Z"
    }
   },
   "cell_type": "code",
   "source": "silver_df_news[\"newspaper\"].value_counts()",
   "id": "bbeba818fee5f2d0",
   "outputs": [
    {
     "data": {
      "text/plain": [
       "newspaper\n",
       "Semana              1610\n",
       "La El Colombiano    1083\n",
       "La El Espectador     767\n",
       "El Excelsior         656\n",
       "Animal Politico      574\n",
       "El Tiempo            520\n",
       "La Jornada           392\n",
       "El Universal          33\n",
       "Name: count, dtype: int64"
      ]
     },
     "execution_count": 4,
     "metadata": {},
     "output_type": "execute_result"
    }
   ],
   "execution_count": 4
  },
  {
   "metadata": {
    "ExecuteTime": {
     "end_time": "2025-10-21T05:27:18.475470Z",
     "start_time": "2025-10-21T05:27:18.469414Z"
    }
   },
   "cell_type": "code",
   "source": "silver_df_news[silver_df_news[\"newspaper\"] == \"El Excelsior\"][\"content_tokens\"].iloc[250]",
   "id": "8562ba1a95b1b84b",
   "outputs": [
    {
     "data": {
      "text/plain": [
       "'lider chavista adelanto celebracion 1 octubre capital venezolana comenzaron decorar zonas criticas declaratoria conmocion externa frente acciones militares estadounidenses gobierno reitero navidad arranca miercoles    chavismo recordo 1 octubre comienza navidad venezuela adelanto anos anteriores decreto nicolas maduro contexto marcado despliegue militar unidos aguas cercanas nacion suramericana respuesta caracas amenaza miercoles arranca navidad amargados habra pais entero expreso secretario general gobernante partido socialista unido venezuela diosdado cabello alusion sector mayoritario opositor'"
      ]
     },
     "execution_count": 5,
     "metadata": {},
     "output_type": "execute_result"
    }
   ],
   "execution_count": 5
  },
  {
   "metadata": {
    "ExecuteTime": {
     "end_time": "2025-10-21T05:27:22.782383Z",
     "start_time": "2025-10-21T05:27:22.763855Z"
    }
   },
   "cell_type": "code",
   "source": "silver_df_news[silver_df_news[\"content_tokens\"].str.contains(\"##\", na=False)]",
   "id": "d3f1c1dfbc7e80e9",
   "outputs": [
    {
     "data": {
      "text/plain": [
       "Empty DataFrame\n",
       "Columns: [title, category, content, country, newspaper, content_unicode, content_removed_unwanted_elements, content_lowercase, content_sentence_tokenization, content_lowercase_with_no_punctuation, content_without_stopwords, content_tokens, content_lemmes]\n",
       "Index: []"
      ],
      "text/html": [
       "<div>\n",
       "<style scoped>\n",
       "    .dataframe tbody tr th:only-of-type {\n",
       "        vertical-align: middle;\n",
       "    }\n",
       "\n",
       "    .dataframe tbody tr th {\n",
       "        vertical-align: top;\n",
       "    }\n",
       "\n",
       "    .dataframe thead th {\n",
       "        text-align: right;\n",
       "    }\n",
       "</style>\n",
       "<table border=\"1\" class=\"dataframe\">\n",
       "  <thead>\n",
       "    <tr style=\"text-align: right;\">\n",
       "      <th></th>\n",
       "      <th>title</th>\n",
       "      <th>category</th>\n",
       "      <th>content</th>\n",
       "      <th>country</th>\n",
       "      <th>newspaper</th>\n",
       "      <th>content_unicode</th>\n",
       "      <th>content_removed_unwanted_elements</th>\n",
       "      <th>content_lowercase</th>\n",
       "      <th>content_sentence_tokenization</th>\n",
       "      <th>content_lowercase_with_no_punctuation</th>\n",
       "      <th>content_without_stopwords</th>\n",
       "      <th>content_tokens</th>\n",
       "      <th>content_lemmes</th>\n",
       "    </tr>\n",
       "  </thead>\n",
       "  <tbody>\n",
       "  </tbody>\n",
       "</table>\n",
       "</div>"
      ]
     },
     "execution_count": 6,
     "metadata": {},
     "output_type": "execute_result"
    }
   ],
   "execution_count": 6
  },
  {
   "metadata": {
    "ExecuteTime": {
     "end_time": "2025-10-21T05:27:27.477733Z",
     "start_time": "2025-10-21T05:27:27.471246Z"
    }
   },
   "cell_type": "code",
   "source": "silver_df_news[\"category\"].value_counts()",
   "id": "5804227ada069f2e",
   "outputs": [
    {
     "data": {
      "text/plain": [
       "category\n",
       "cultura          1305\n",
       "politica         1263\n",
       "economica        1210\n",
       "internacional    1005\n",
       "salud             603\n",
       "judicial          208\n",
       "seguridad          41\n",
       "Name: count, dtype: int64"
      ]
     },
     "execution_count": 7,
     "metadata": {},
     "output_type": "execute_result"
    }
   ],
   "execution_count": 7
  },
  {
   "metadata": {
    "ExecuteTime": {
     "end_time": "2025-10-21T05:27:31.045711Z",
     "start_time": "2025-10-21T05:27:31.032907Z"
    }
   },
   "cell_type": "code",
   "source": [
    "# Step 1: Normalize to lowercase and strip spaces\n",
    "silver_df_news['category'] = silver_df_news['category'].str.lower().str.strip()\n",
    "\n",
    "# Step 2: Map similar values to a unified label\n",
    "category_mapping = {\n",
    "    'economia': 'economica',\n",
    "    'politica': 'politica',\n",
    "    'internacional': 'internacional',\n",
    "    'mundo': 'internacional',\n",
    "    'salud': 'salud',\n",
    "    'judicial': 'judicial',\n",
    "    'bogota': 'politica',\n",
    "    'el-magazin-cultural': 'cultura',\n",
    "    'seguridad': 'seguridad'\n",
    "}\n",
    "\n",
    "# Apply mapping — any unmatched values keep their current label\n",
    "silver_df_news['category'] = silver_df_news['category'].replace(category_mapping)"
   ],
   "id": "ff9b0aed3add6461",
   "outputs": [],
   "execution_count": 8
  },
  {
   "metadata": {
    "ExecuteTime": {
     "end_time": "2025-10-21T05:27:33.939748Z",
     "start_time": "2025-10-21T05:27:33.933459Z"
    }
   },
   "cell_type": "code",
   "source": "silver_df_news[\"category\"].value_counts()",
   "id": "10c86665f3f27297",
   "outputs": [
    {
     "data": {
      "text/plain": [
       "category\n",
       "cultura          1305\n",
       "politica         1263\n",
       "economica        1210\n",
       "internacional    1005\n",
       "salud             603\n",
       "judicial          208\n",
       "seguridad          41\n",
       "Name: count, dtype: int64"
      ]
     },
     "execution_count": 9,
     "metadata": {},
     "output_type": "execute_result"
    }
   ],
   "execution_count": 9
  },
  {
   "metadata": {
    "ExecuteTime": {
     "end_time": "2025-10-21T05:30:28.639242Z",
     "start_time": "2025-10-21T05:30:28.459594Z"
    }
   },
   "cell_type": "code",
   "source": [
    "import numpy as np\n",
    "import pandas as pd\n",
    "\n",
    "cols = [\n",
    "    \"title\", \"category\", \"content\", \"country\", \"newspaper\",\n",
    "    \"content_unicode\", \"content_removed_unwanted_elements\",\n",
    "    \"content_lowercase\", \"content_sentence_tokenization\",\n",
    "    \"content_lowercase_with_no_punctuation\",\n",
    "    \"content_without_stopwords\", \"content_tokens\", \"content_lemmes\"\n",
    "]\n",
    "\n",
    "def is_invalid(x):\n",
    "    # Handle numpy arrays safely\n",
    "    if isinstance(x, np.ndarray):\n",
    "        if x.size == 0:\n",
    "            return True\n",
    "        # Check if all elements are NaN or empty\n",
    "        return all(is_invalid(el) for el in x)\n",
    "\n",
    "    # Handle None / NaN\n",
    "    if x is None:\n",
    "        return True\n",
    "    try:\n",
    "        if pd.isna(x):\n",
    "            return True\n",
    "    except Exception:\n",
    "        pass\n",
    "\n",
    "    # Handle strings\n",
    "    if isinstance(x, str):\n",
    "        return x.strip() == \"\"\n",
    "\n",
    "    # Handle empty lists, tuples, sets, dicts\n",
    "    if isinstance(x, (list, tuple, set, dict)):\n",
    "        return len(x) == 0\n",
    "\n",
    "    return False\n",
    "\n",
    "# Apply and count\n",
    "invalid_counts = {}\n",
    "for col in cols:\n",
    "    invalid_counts[col] = silver_df_news[col].apply(is_invalid).sum()\n",
    "\n",
    "# Build summary table\n",
    "invalid_df = pd.DataFrame.from_dict(invalid_counts, orient=\"index\", columns=[\"Invalid_Count\"])\n",
    "invalid_df[\"Total_Rows\"] = len(silver_df_news)\n",
    "invalid_df[\"% Invalid\"] = (invalid_df[\"Invalid_Count\"] / invalid_df[\"Total_Rows\"]) * 100\n",
    "\n",
    "print(invalid_df.sort_values(\"% Invalid\", ascending=False))\n"
   ],
   "id": "aeb67b65c804f8c4",
   "outputs": [
    {
     "name": "stdout",
     "output_type": "stream",
     "text": [
      "                                       Invalid_Count  Total_Rows  % Invalid\n",
      "content_lemmes                                   107        5635   1.898846\n",
      "content_lowercase_with_no_punctuation            107        5635   1.898846\n",
      "content_without_stopwords                        107        5635   1.898846\n",
      "content_tokens                                   107        5635   1.898846\n",
      "title                                             13        5635   0.230701\n",
      "newspaper                                          0        5635   0.000000\n",
      "country                                            0        5635   0.000000\n",
      "content                                            0        5635   0.000000\n",
      "category                                           0        5635   0.000000\n",
      "content_sentence_tokenization                      0        5635   0.000000\n",
      "content_lowercase                                  0        5635   0.000000\n",
      "content_removed_unwanted_elements                  0        5635   0.000000\n",
      "content_unicode                                    0        5635   0.000000\n"
     ]
    }
   ],
   "execution_count": 15
  },
  {
   "metadata": {
    "ExecuteTime": {
     "end_time": "2025-10-21T05:27:36.828512Z",
     "start_time": "2025-10-21T05:27:36.477609Z"
    }
   },
   "cell_type": "code",
   "source": [
    "# Save as JSON\n",
    "silver_df_news.to_json(os.path.join(SILVER_PATH, \"silver_df_news.json\"), orient=\"records\", lines=True)"
   ],
   "id": "2143bb145965c128",
   "outputs": [
    {
     "ename": "NameError",
     "evalue": "name 'SILVER_PATH' is not defined",
     "output_type": "error",
     "traceback": [
      "\u001B[31m---------------------------------------------------------------------------\u001B[39m",
      "\u001B[31mNameError\u001B[39m                                 Traceback (most recent call last)",
      "\u001B[36mCell\u001B[39m\u001B[36m \u001B[39m\u001B[32mIn[10]\u001B[39m\u001B[32m, line 2\u001B[39m\n\u001B[32m      1\u001B[39m \u001B[38;5;66;03m# Save as JSON\u001B[39;00m\n\u001B[32m----> \u001B[39m\u001B[32m2\u001B[39m silver_df_news.to_json(os.path.join(\u001B[43mSILVER_PATH\u001B[49m, \u001B[33m\"\u001B[39m\u001B[33msilver_df_news.json\u001B[39m\u001B[33m\"\u001B[39m), orient=\u001B[33m\"\u001B[39m\u001B[33mrecords\u001B[39m\u001B[33m\"\u001B[39m, lines=\u001B[38;5;28;01mTrue\u001B[39;00m)\n",
      "\u001B[31mNameError\u001B[39m: name 'SILVER_PATH' is not defined"
     ]
    }
   ],
   "execution_count": 10
  },
  {
   "metadata": {
    "ExecuteTime": {
     "end_time": "2025-10-20T02:13:15.057720Z",
     "start_time": "2025-10-20T02:13:06.547550Z"
    }
   },
   "cell_type": "code",
   "source": [
    "# Save as Excel\n",
    "silver_df_news.to_excel(os.path.join(SILVER_PATH, \"silver_df_news.xlsx\"), index=False)"
   ],
   "id": "3ced4dbbe659b94e",
   "outputs": [],
   "execution_count": 211
  },
  {
   "metadata": {
    "ExecuteTime": {
     "end_time": "2025-10-20T02:13:16.513828Z",
     "start_time": "2025-10-20T02:13:15.791108Z"
    }
   },
   "cell_type": "code",
   "source": [
    "\n",
    "silver_df_news.to_parquet(os.path.join(SILVER_PATH, \"silver_df_news.parquet\"), index=False)"
   ],
   "id": "80efe1fff38edaf3",
   "outputs": [],
   "execution_count": 212
  },
  {
   "metadata": {
    "ExecuteTime": {
     "end_time": "2025-10-21T05:32:14.213322Z",
     "start_time": "2025-10-21T05:32:13.951305Z"
    }
   },
   "cell_type": "code",
   "source": [
    "# Columns to validate\n",
    "cols = [\n",
    "    \"title\", \"category\", \"content\", \"country\", \"newspaper\",\n",
    "    \"content_unicode\", \"content_removed_unwanted_elements\",\n",
    "    \"content_lowercase\", \"content_sentence_tokenization\",\n",
    "    \"content_lowercase_with_no_punctuation\",\n",
    "    \"content_without_stopwords\", \"content_tokens\", \"content_lemmes\"\n",
    "]\n",
    "\n",
    "# Function to detect invalid values safely\n",
    "def is_invalid(x):\n",
    "    # Handle numpy arrays\n",
    "    if isinstance(x, np.ndarray):\n",
    "        if x.size == 0:\n",
    "            return True\n",
    "        return all(is_invalid(el) for el in x)\n",
    "\n",
    "    # Handle None or NaN\n",
    "    if x is None:\n",
    "        return True\n",
    "    try:\n",
    "        if pd.isna(x):\n",
    "            return True\n",
    "    except Exception:\n",
    "        pass\n",
    "\n",
    "    # Empty strings\n",
    "    if isinstance(x, str) and x.strip() == \"\":\n",
    "        return True\n",
    "\n",
    "    # Empty containers\n",
    "    if isinstance(x, (list, tuple, set, dict)) and len(x) == 0:\n",
    "        return True\n",
    "\n",
    "    return False\n",
    "\n",
    "# Create a mask where any column is invalid\n",
    "invalid_mask = silver_df_news[cols].applymap(is_invalid).any(axis=1)\n",
    "\n",
    "# Remove invalid rows\n",
    "before = len(silver_df_news)\n",
    "silver_df_news = silver_df_news[~invalid_mask].reset_index(drop=True)\n",
    "after = len(silver_df_news)\n",
    "\n",
    "print(f\"✅ Removed {before - after} invalid rows. Remaining: {after}\")\n"
   ],
   "id": "22475bcb27e62883",
   "outputs": [
    {
     "name": "stderr",
     "output_type": "stream",
     "text": [
      "C:\\Users\\guill\\AppData\\Local\\Temp\\ipykernel_29432\\209280422.py:38: FutureWarning: DataFrame.applymap has been deprecated. Use DataFrame.map instead.\n",
      "  invalid_mask = silver_df_news[cols].applymap(is_invalid).any(axis=1)\n"
     ]
    },
    {
     "name": "stdout",
     "output_type": "stream",
     "text": [
      "✅ Removed 108 invalid rows. Remaining: 5527\n"
     ]
    }
   ],
   "execution_count": 16
  },
  {
   "metadata": {
    "ExecuteTime": {
     "end_time": "2025-10-21T05:32:21.253852Z",
     "start_time": "2025-10-21T05:32:21.199828Z"
    }
   },
   "cell_type": "code",
   "source": [
    "# Step 1: Get counts per (country, category)\n",
    "counts = silver_df_news.groupby(['country', 'category']).size().reset_index(name='count')\n",
    "\n",
    "# Step 2: Compute within-country proportions\n",
    "counts['prop'] = counts.groupby('country')['count'].transform(lambda x: x / x.sum())\n",
    "\n",
    "# Step 3: Find the *minimum feasible proportion* for each category across countries\n",
    "min_props = counts.groupby('category')['prop'].min().reset_index(name='min_prop')\n",
    "\n",
    "# Step 4: Merge to know target proportions per category\n",
    "merged = counts.merge(min_props, on='category')\n",
    "\n",
    "# Step 5: Find the limiting total sample size per country\n",
    "# For each country, the number of samples must be small enough so that\n",
    "# all categories can keep the same proportions without exceeding their available counts.\n",
    "max_country_sizes = []\n",
    "for country in merged['country'].unique():\n",
    "    sub = merged[merged['country'] == country]\n",
    "    # For each category, compute the largest total possible so that:\n",
    "    # total * min_prop <= available count\n",
    "    limits = sub['count'] / sub['min_prop']\n",
    "    max_country_sizes.append({'country': country, 'max_total': limits.min()})\n",
    "\n",
    "max_sizes = pd.DataFrame(max_country_sizes)\n",
    "\n",
    "# Step 6: Sample each (country, category) according to min_prop × country_total\n",
    "balanced_samples = []\n",
    "for _, row in max_sizes.iterrows():\n",
    "    country = row['country']\n",
    "    total = int(row['max_total'])\n",
    "    sub = merged[merged['country'] == country]\n",
    "\n",
    "    for _, r in sub.iterrows():\n",
    "        category = r['category']\n",
    "        n = int(total * r['min_prop'])\n",
    "        data_sub = silver_df_news[(silver_df_news['country'] == country) & (silver_df_news['category'] == category)]\n",
    "        n = min(n, len(data_sub))  # just in case rounding exceeds\n",
    "        balanced_samples.append(data_sub.sample(n=n, random_state=42))\n",
    "\n",
    "silver_df_news_balanced_df = pd.concat(balanced_samples).reset_index(drop=True)\n",
    "\n",
    "# Step 7: Verify balance\n",
    "print(\n",
    "    silver_df_news_balanced_df.groupby(['country', 'category'])\n",
    "    .size()\n",
    "    .groupby(level=0)\n",
    "    .apply(lambda x: round(100 * x / x.sum(), 1))\n",
    "    .unstack(fill_value=0)\n",
    ")"
   ],
   "id": "1a2ef812ca4cec22",
   "outputs": [
    {
     "name": "stdout",
     "output_type": "stream",
     "text": [
      "category           cultura  economica  internacional  judicial  politica  \\\n",
      "country  country                                                           \n",
      "Colombia Colombia     15.3       17.3           21.3       4.3      27.6   \n",
      "Mexico   Mexico       15.3       17.4           21.3       4.3      27.6   \n",
      "\n",
      "category           salud  seguridad  \n",
      "country  country                     \n",
      "Colombia Colombia   13.8        0.3  \n",
      "Mexico   Mexico     13.8        0.2  \n"
     ]
    }
   ],
   "execution_count": 17
  },
  {
   "metadata": {
    "ExecuteTime": {
     "end_time": "2025-10-21T05:32:24.944191Z",
     "start_time": "2025-10-21T05:32:24.933162Z"
    }
   },
   "cell_type": "code",
   "source": [
    "# Total number of samples\n",
    "total_samples = len(silver_df_news_balanced_df)\n",
    "print(f\"✅ Total balanced samples: {total_samples}\\n\")\n",
    "\n",
    "# Count per (country, category)\n",
    "summary = (\n",
    "    silver_df_news_balanced_df.groupby(['country', 'category'])\n",
    "    .size()\n",
    "    .reset_index(name='count')\n",
    ")\n",
    "\n",
    "# Add percentage within each country\n",
    "summary['percentage'] = (\n",
    "    summary.groupby('country')['count']\n",
    "    .transform(lambda x: 100 * x / x.sum())\n",
    ")\n",
    "\n",
    "print(\"📊 Counts and percentages by country and category:\\n\")\n",
    "print(summary.sort_values(['country', 'category']).to_string(index=False))\n"
   ],
   "id": "740565d6ff7a135d",
   "outputs": [
    {
     "name": "stdout",
     "output_type": "stream",
     "text": [
      "✅ Total balanced samples: 3589\n",
      "\n",
      "📊 Counts and percentages by country and category:\n",
      "\n",
      " country      category  count  percentage\n",
      "Colombia       cultura    394   15.289096\n",
      "Colombia     economica    447   17.345751\n",
      "Colombia internacional    550   21.342646\n",
      "Colombia      judicial    112    4.346139\n",
      "Colombia      politica    711   27.590221\n",
      "Colombia         salud    356   13.814513\n",
      "Colombia     seguridad      7    0.271634\n",
      "  Mexico       cultura    155   15.316206\n",
      "  Mexico     economica    176   17.391304\n",
      "  Mexico internacional    216   21.343874\n",
      "  Mexico      judicial     44    4.347826\n",
      "  Mexico      politica    279   27.569170\n",
      "  Mexico         salud    140   13.833992\n",
      "  Mexico     seguridad      2    0.197628\n"
     ]
    }
   ],
   "execution_count": 18
  },
  {
   "metadata": {
    "ExecuteTime": {
     "end_time": "2025-10-21T05:32:27.128046Z",
     "start_time": "2025-10-21T05:32:27.123696Z"
    }
   },
   "cell_type": "code",
   "source": [
    "total_samples = len(silver_df_news_balanced_df)\n",
    "print(f\"✅ Total balanced samples: {total_samples}\")"
   ],
   "id": "e6a91c17a84192ac",
   "outputs": [
    {
     "name": "stdout",
     "output_type": "stream",
     "text": [
      "✅ Total balanced samples: 3589\n"
     ]
    }
   ],
   "execution_count": 19
  },
  {
   "metadata": {
    "ExecuteTime": {
     "end_time": "2025-10-21T05:32:28.080465Z",
     "start_time": "2025-10-21T05:32:28.073557Z"
    }
   },
   "cell_type": "code",
   "source": "print(silver_df_news_balanced_df.head())",
   "id": "785f38e5813a2e8e",
   "outputs": [
    {
     "name": "stdout",
     "output_type": "stream",
     "text": [
      "                                               title category  \\\n",
      "0  ¿Qué enfermedad sufrió Gabriel García Márquez ...  cultura   \n",
      "1  “Tiburón: la historia de un clásico”, el docum...  cultura   \n",
      "2  El “boom” de la literatura latinoamericana rev...  cultura   \n",
      "3  Colombia brilló en Cannes: ‘Un Poeta’ ganó el ...  cultura   \n",
      "4  Este domingo en la FILBo habrá taller familiar...  cultura   \n",
      "\n",
      "                                             content   country  \\\n",
      "0  Se cumplen 10 años desde que ‘Gabo’ falleció.....  Colombia   \n",
      "1  A medio siglo de su estreno, Tiburón vuelve a ...  Colombia   \n",
      "2  Décadas después del movimiento que convirtió a...  Colombia   \n",
      "3  La película de Simón Mesa Soto fue galardonada...  Colombia   \n",
      "4  Será un espacio para leer, soñar, reír y refle...  Colombia   \n",
      "\n",
      "          newspaper                                    content_unicode  \\\n",
      "0            Semana  Se cumplen 10 años desde que ‘Gabo’ falleció...   \n",
      "1  La El Colombiano  A medio siglo de su estreno, Tiburón vuelve a...   \n",
      "2            Semana  Décadas después del movimiento que convirtio...   \n",
      "3            Semana  La película de Simón Mesa Soto fue galardona...   \n",
      "4            Semana  Será un espacio para leer, soñar, reír y re...   \n",
      "\n",
      "                   content_removed_unwanted_elements  \\\n",
      "0  Se cumplen 10 anos desde que Gabo fallecio.. E...   \n",
      "1  A medio siglo de su estreno, Tiburon vuelve a ...   \n",
      "2  Decadas despues del movimiento que convirtio a...   \n",
      "3  La pelicula de Simon Mesa Soto fue galardonada...   \n",
      "4  Sera un espacio para leer, sonar, reir y refle...   \n",
      "\n",
      "                                   content_lowercase  \\\n",
      "0  se cumplen 10 anos desde que gabo fallecio.. e...   \n",
      "1  a medio siglo de su estreno, tiburon vuelve a ...   \n",
      "2  decadas despues del movimiento que convirtio a...   \n",
      "3  la pelicula de simon mesa soto fue galardonada...   \n",
      "4  sera un espacio para leer, sonar, reir y refle...   \n",
      "\n",
      "                       content_sentence_tokenization  \\\n",
      "0  [se cumplen 10 anos desde que gabo fallecio..,...   \n",
      "1  [a medio siglo de su estreno, tiburon vuelve a...   \n",
      "2  [decadas despues del movimiento que convirtio ...   \n",
      "3  [la pelicula de simon mesa soto fue galardonad...   \n",
      "4  [sera un espacio para leer, sonar, reir y refl...   \n",
      "\n",
      "               content_lowercase_with_no_punctuation  \\\n",
      "0  se cumplen 10 anos desde que gabo fallecio el ...   \n",
      "1  a medio siglo de su estreno tiburon vuelve a e...   \n",
      "2  decadas despues del movimiento que convirtio a...   \n",
      "3  la pelicula de simon mesa soto fue galardonada...   \n",
      "4  sera un espacio para leer sonar reir y reflexi...   \n",
      "\n",
      "                           content_without_stopwords  \\\n",
      "0  cumplen 10 anos gabo fallecio mundo letras vis...   \n",
      "1  siglo estreno tiburon vuelve escena documental...   \n",
      "2  decadas movimiento convirtio realismo magico s...   \n",
      "3  pelicula simon mesa soto galardonada seccion m...   \n",
      "4  espacio leer sonar reir reflexionar respeto em...   \n",
      "\n",
      "                                      content_tokens  \\\n",
      "0  cumplen 10 anos gabo fallecio mundo letras vis...   \n",
      "1  siglo estreno tiburon vuelve escena documental...   \n",
      "2  decadas movimiento convirtio realismo magico s...   \n",
      "3  pelicula simon mesa soto galardonada seccion m...   \n",
      "4  espacio leer sonar reir reflexionar respeto em...   \n",
      "\n",
      "                                      content_lemmes  \n",
      "0  [cumplir, ano, gabo, fallecio, mundo, letra, v...  \n",
      "1  [siglo, estreno, tiburon, vuelve, escena, docu...  \n",
      "2  [decada, movimiento, convirtio, realismo, magi...  \n",
      "3  [pelicula, simon, mesa, soto, galardonado, sec...  \n",
      "4  [espacio, leer, sonar, reir, reflexionar, resp...  \n"
     ]
    }
   ],
   "execution_count": 20
  },
  {
   "metadata": {
    "ExecuteTime": {
     "end_time": "2025-10-21T05:32:54.819062Z",
     "start_time": "2025-10-21T05:32:49.723143Z"
    }
   },
   "cell_type": "code",
   "source": "silver_df_news_balanced_df.to_excel(os.path.join(SILVER_PATH, \"silver_df_news_balanced_df.xlsx\"), index=False)",
   "id": "d4aaaabbb825d39a",
   "outputs": [],
   "execution_count": 23
  },
  {
   "metadata": {},
   "cell_type": "markdown",
   "source": "# 5. Gold",
   "id": "d3a24cf100f988b5"
  },
  {
   "metadata": {},
   "cell_type": "markdown",
   "source": "# 6. Resumen",
   "id": "fac200d1b85e8b8"
  }
 ],
 "metadata": {
  "kernelspec": {
   "display_name": "Python 3",
   "language": "python",
   "name": "python3"
  },
  "language_info": {
   "codemirror_mode": {
    "name": "ipython",
    "version": 2
   },
   "file_extension": ".py",
   "mimetype": "text/x-python",
   "name": "python",
   "nbconvert_exporter": "python",
   "pygments_lexer": "ipython2",
   "version": "2.7.6"
  }
 },
 "nbformat": 4,
 "nbformat_minor": 5
}
