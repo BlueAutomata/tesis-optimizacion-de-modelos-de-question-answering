{
 "cells": [
  {
   "metadata": {},
   "cell_type": "markdown",
   "source": "# 1. Descripción general",
   "id": "6b3cba9b959d95ce"
  },
  {
   "metadata": {},
   "cell_type": "markdown",
   "source": "# 2. Configuración",
   "id": "9246e724842aaf99"
  },
  {
   "metadata": {},
   "cell_type": "markdown",
   "source": "## 2.1 Importar librerías",
   "id": "90726760f1c1e5ee"
  },
  {
   "cell_type": "code",
   "id": "initial_id",
   "metadata": {
    "collapsed": true,
    "ExecuteTime": {
     "end_time": "2025-10-09T04:54:40.203080Z",
     "start_time": "2025-10-09T04:54:40.199575Z"
    }
   },
   "source": [
    "import pandas as pd\n",
    "import numpy as np\n",
    "import os"
   ],
   "outputs": [],
   "execution_count": 31
  },
  {
   "metadata": {},
   "cell_type": "markdown",
   "source": "## 2.2 Rutas de datos",
   "id": "a0981e7a6659f090"
  },
  {
   "metadata": {
    "ExecuteTime": {
     "end_time": "2025-10-09T04:31:15.210497Z",
     "start_time": "2025-10-09T04:31:15.207584Z"
    }
   },
   "cell_type": "code",
   "source": [
    "BRONZE_PATH = \"../datasets/exploration_datasets/bronze/\"\n",
    "SILVER_PATH = \"../datasets/exploration_datasets/silver/\"\n",
    "GOLD_PATH   = \"../datasets/exploration_datasets/gold/\""
   ],
   "id": "65588ecb59889644",
   "outputs": [],
   "execution_count": 8
  },
  {
   "metadata": {},
   "cell_type": "markdown",
   "source": "# 3. Bronze",
   "id": "33865dabb599b47e"
  },
  {
   "metadata": {},
   "cell_type": "markdown",
   "source": "## 3.1. Cargar los datos",
   "id": "a7fc49e1e5cdc332"
  },
  {
   "metadata": {},
   "cell_type": "markdown",
   "source": "### 3.1.1 Cargar los datos de Animal Político",
   "id": "efe990f1af414f7e"
  },
  {
   "metadata": {
    "ExecuteTime": {
     "end_time": "2025-10-09T04:31:17.161648Z",
     "start_time": "2025-10-09T04:31:17.119971Z"
    }
   },
   "cell_type": "code",
   "source": "bronze_df_animal_politico_internacional = pd.read_json(BRONZE_PATH + \"animal_politico_url_internacional.json\")",
   "id": "ba546f215dc432e",
   "outputs": [],
   "execution_count": 9
  },
  {
   "metadata": {
    "ExecuteTime": {
     "end_time": "2025-10-09T04:35:43.721969Z",
     "start_time": "2025-10-09T04:35:43.702240Z"
    }
   },
   "cell_type": "code",
   "source": "bronze_df_animal_politico_politica = pd.read_json(BRONZE_PATH + \"animal_politico_url_politica.json\")",
   "id": "8b24bb1ff3c13d0e",
   "outputs": [],
   "execution_count": 12
  },
  {
   "metadata": {
    "ExecuteTime": {
     "end_time": "2025-10-09T04:35:44.618617Z",
     "start_time": "2025-10-09T04:35:44.603067Z"
    }
   },
   "cell_type": "code",
   "source": "bronze_df_animal_politico_salud = pd.read_json(BRONZE_PATH + \"animal_politico_url_salud.json\")",
   "id": "9f92601e786c99aa",
   "outputs": [],
   "execution_count": 13
  },
  {
   "metadata": {
    "ExecuteTime": {
     "end_time": "2025-10-09T04:35:45.676013Z",
     "start_time": "2025-10-09T04:35:45.637576Z"
    }
   },
   "cell_type": "code",
   "source": "bronze_df_animal_politico_seguridad = pd.read_json(BRONZE_PATH + \"animal_politico_url_seguridad.json\")",
   "id": "1dfe18489f927bc9",
   "outputs": [],
   "execution_count": 14
  },
  {
   "metadata": {
    "ExecuteTime": {
     "end_time": "2025-10-09T04:33:18.109007Z",
     "start_time": "2025-10-09T04:33:18.097943Z"
    }
   },
   "cell_type": "code",
   "source": "bronze_df_animal_politico_internacional.head()",
   "id": "86276cf66b2bf36e",
   "outputs": [
    {
     "data": {
      "text/plain": [
       "        category sub_category subcription  \\\n",
       "0  internacional                            \n",
       "1  internacional                            \n",
       "2  internacional                            \n",
       "3  internacional                            \n",
       "4  internacional                            \n",
       "\n",
       "                                                 url             date_raw  \\\n",
       "0  https://www.animalpolitico.com/internacional/h...  05 de octubre, 2025   \n",
       "1  https://www.animalpolitico.com/internacional/u...  05 de octubre, 2025   \n",
       "2  https://www.animalpolitico.com/internacional/c...  04 de octubre, 2025   \n",
       "3  https://www.animalpolitico.com/internacional/a...  04 de octubre, 2025   \n",
       "4  https://www.animalpolitico.com/internacional/t...  03 de octubre, 2025   \n",
       "\n",
       "  date_parsed                     author  \\\n",
       "0  2025-10-06                        AFP   \n",
       "1  2025-10-06                        AFP   \n",
       "2  2025-10-06  Redacción Animal Político   \n",
       "3  2025-10-06                        AFP   \n",
       "4  2025-10-06  Redacción Animal Político   \n",
       "\n",
       "                                               title  \\\n",
       "0  Hamás pide un intercambio “inmediato” de rehen...   \n",
       "1  Ali Akbar, el último vendedor de periódicos am...   \n",
       "2  Cancillería revisa rutas para el “retorno segu...   \n",
       "3  “Nos trataron como animales”, activistas depor...   \n",
       "4  “Estamos más cerca que nunca de una paz durade...   \n",
       "\n",
       "                                      article_header  \\\n",
       "0  Israel continúa con intensos bombardeos en con...   \n",
       "1  \"¡Mientras tenga energía, seguiré, trabajaré h...   \n",
       "2  La Embajada de México en Israel se mantiene en...   \n",
       "3  Israel detuvo a más de 400 personas y deportó ...   \n",
       "4  La propuesta de paz de Trump contempla, entre ...   \n",
       "\n",
       "                                             content  \n",
       "0  Hamás  pidió este domingo un  acuerdo “inmedia...  \n",
       "1  Todo el mundo lo conoce y él conoce a todo el ...  \n",
       "2  La Secretaría de Relaciones Exteriores mantien...  \n",
       "3  Activistas internacionales que fueron deportad...  \n",
       "4  El presidente de Estados Unidos,  Donald Trump...  "
      ],
      "text/html": [
       "<div>\n",
       "<style scoped>\n",
       "    .dataframe tbody tr th:only-of-type {\n",
       "        vertical-align: middle;\n",
       "    }\n",
       "\n",
       "    .dataframe tbody tr th {\n",
       "        vertical-align: top;\n",
       "    }\n",
       "\n",
       "    .dataframe thead th {\n",
       "        text-align: right;\n",
       "    }\n",
       "</style>\n",
       "<table border=\"1\" class=\"dataframe\">\n",
       "  <thead>\n",
       "    <tr style=\"text-align: right;\">\n",
       "      <th></th>\n",
       "      <th>category</th>\n",
       "      <th>sub_category</th>\n",
       "      <th>subcription</th>\n",
       "      <th>url</th>\n",
       "      <th>date_raw</th>\n",
       "      <th>date_parsed</th>\n",
       "      <th>author</th>\n",
       "      <th>title</th>\n",
       "      <th>article_header</th>\n",
       "      <th>content</th>\n",
       "    </tr>\n",
       "  </thead>\n",
       "  <tbody>\n",
       "    <tr>\n",
       "      <th>0</th>\n",
       "      <td>internacional</td>\n",
       "      <td></td>\n",
       "      <td></td>\n",
       "      <td>https://www.animalpolitico.com/internacional/h...</td>\n",
       "      <td>05 de octubre, 2025</td>\n",
       "      <td>2025-10-06</td>\n",
       "      <td>AFP</td>\n",
       "      <td>Hamás pide un intercambio “inmediato” de rehen...</td>\n",
       "      <td>Israel continúa con intensos bombardeos en con...</td>\n",
       "      <td>Hamás  pidió este domingo un  acuerdo “inmedia...</td>\n",
       "    </tr>\n",
       "    <tr>\n",
       "      <th>1</th>\n",
       "      <td>internacional</td>\n",
       "      <td></td>\n",
       "      <td></td>\n",
       "      <td>https://www.animalpolitico.com/internacional/u...</td>\n",
       "      <td>05 de octubre, 2025</td>\n",
       "      <td>2025-10-06</td>\n",
       "      <td>AFP</td>\n",
       "      <td>Ali Akbar, el último vendedor de periódicos am...</td>\n",
       "      <td>\"¡Mientras tenga energía, seguiré, trabajaré h...</td>\n",
       "      <td>Todo el mundo lo conoce y él conoce a todo el ...</td>\n",
       "    </tr>\n",
       "    <tr>\n",
       "      <th>2</th>\n",
       "      <td>internacional</td>\n",
       "      <td></td>\n",
       "      <td></td>\n",
       "      <td>https://www.animalpolitico.com/internacional/c...</td>\n",
       "      <td>04 de octubre, 2025</td>\n",
       "      <td>2025-10-06</td>\n",
       "      <td>Redacción Animal Político</td>\n",
       "      <td>Cancillería revisa rutas para el “retorno segu...</td>\n",
       "      <td>La Embajada de México en Israel se mantiene en...</td>\n",
       "      <td>La Secretaría de Relaciones Exteriores mantien...</td>\n",
       "    </tr>\n",
       "    <tr>\n",
       "      <th>3</th>\n",
       "      <td>internacional</td>\n",
       "      <td></td>\n",
       "      <td></td>\n",
       "      <td>https://www.animalpolitico.com/internacional/a...</td>\n",
       "      <td>04 de octubre, 2025</td>\n",
       "      <td>2025-10-06</td>\n",
       "      <td>AFP</td>\n",
       "      <td>“Nos trataron como animales”, activistas depor...</td>\n",
       "      <td>Israel detuvo a más de 400 personas y deportó ...</td>\n",
       "      <td>Activistas internacionales que fueron deportad...</td>\n",
       "    </tr>\n",
       "    <tr>\n",
       "      <th>4</th>\n",
       "      <td>internacional</td>\n",
       "      <td></td>\n",
       "      <td></td>\n",
       "      <td>https://www.animalpolitico.com/internacional/t...</td>\n",
       "      <td>03 de octubre, 2025</td>\n",
       "      <td>2025-10-06</td>\n",
       "      <td>Redacción Animal Político</td>\n",
       "      <td>“Estamos más cerca que nunca de una paz durade...</td>\n",
       "      <td>La propuesta de paz de Trump contempla, entre ...</td>\n",
       "      <td>El presidente de Estados Unidos,  Donald Trump...</td>\n",
       "    </tr>\n",
       "  </tbody>\n",
       "</table>\n",
       "</div>"
      ]
     },
     "execution_count": 11,
     "metadata": {},
     "output_type": "execute_result"
    }
   ],
   "execution_count": 11
  },
  {
   "metadata": {
    "ExecuteTime": {
     "end_time": "2025-10-09T04:35:58.227687Z",
     "start_time": "2025-10-09T04:35:58.218461Z"
    }
   },
   "cell_type": "code",
   "source": "bronze_df_animal_politico_politica.head()",
   "id": "640e6c642f77f380",
   "outputs": [
    {
     "data": {
      "text/plain": [
       "   category sub_category subcription  \\\n",
       "0  politica                            \n",
       "1  politica                            \n",
       "2  politica                            \n",
       "3  politica                            \n",
       "4  politica                            \n",
       "\n",
       "                                                 url                date_raw  \\\n",
       "0  https://www.animalpolitico.com/politica/congre...  25 de septiembre, 2025   \n",
       "1  https://www.animalpolitico.com/politica/organo...  25 de septiembre, 2025   \n",
       "2  https://www.animalpolitico.com/politica/salina...  25 de septiembre, 2025   \n",
       "3  https://www.animalpolitico.com/politica/congre...  25 de septiembre, 2025   \n",
       "4  https://www.animalpolitico.com/politica/sat-re...  25 de septiembre, 2025   \n",
       "\n",
       "  date_parsed                     author  \\\n",
       "0  2025-09-26               Alexis Ortiz   \n",
       "1  2025-09-26               Alfredo Maza   \n",
       "2  2025-09-26  Redacción Animal Político   \n",
       "3  2025-09-26  Redacción Animal Político   \n",
       "4  2025-09-26  Redacción Animal Político   \n",
       "\n",
       "                                               title  \\\n",
       "0  Congreso recibe reforma de Sheinbaum: sanciona...   \n",
       "1  Órgano de Administración Judicial informa que ...   \n",
       "2  Salinas Pliego pide mesa de negociación con Sh...   \n",
       "3  Cinco congresos estatales aprueban reforma par...   \n",
       "4  SAT reconoce 109 expedientes de corrupción en ...   \n",
       "\n",
       "                                      article_header  \\\n",
       "0  La presidenta Claudia Sheinbaum envió a la Cám...   \n",
       "1  El Órgano de Administración Judicial detalló q...   \n",
       "2  Ricardo Salinas Pliego dijo que en la mesa de ...   \n",
       "3  Hasta el momento, los congresos del estado de ...   \n",
       "4  Autoridades del Servicio de Administración Tri...   \n",
       "\n",
       "                                             content  \n",
       "0  La Cámara de Diputados recibió una iniciativa ...  \n",
       "1  El nuevo Órgano de Administración Judicial (OA...  \n",
       "2  El empresario  Ricardo Salinas Pliego pidió a ...  \n",
       "3  El Senado concretó la reforma constitucional q...  \n",
       "4  Existen  109 expedientes de casos de corrupció...  "
      ],
      "text/html": [
       "<div>\n",
       "<style scoped>\n",
       "    .dataframe tbody tr th:only-of-type {\n",
       "        vertical-align: middle;\n",
       "    }\n",
       "\n",
       "    .dataframe tbody tr th {\n",
       "        vertical-align: top;\n",
       "    }\n",
       "\n",
       "    .dataframe thead th {\n",
       "        text-align: right;\n",
       "    }\n",
       "</style>\n",
       "<table border=\"1\" class=\"dataframe\">\n",
       "  <thead>\n",
       "    <tr style=\"text-align: right;\">\n",
       "      <th></th>\n",
       "      <th>category</th>\n",
       "      <th>sub_category</th>\n",
       "      <th>subcription</th>\n",
       "      <th>url</th>\n",
       "      <th>date_raw</th>\n",
       "      <th>date_parsed</th>\n",
       "      <th>author</th>\n",
       "      <th>title</th>\n",
       "      <th>article_header</th>\n",
       "      <th>content</th>\n",
       "    </tr>\n",
       "  </thead>\n",
       "  <tbody>\n",
       "    <tr>\n",
       "      <th>0</th>\n",
       "      <td>politica</td>\n",
       "      <td></td>\n",
       "      <td></td>\n",
       "      <td>https://www.animalpolitico.com/politica/congre...</td>\n",
       "      <td>25 de septiembre, 2025</td>\n",
       "      <td>2025-09-26</td>\n",
       "      <td>Alexis Ortiz</td>\n",
       "      <td>Congreso recibe reforma de Sheinbaum: sanciona...</td>\n",
       "      <td>La presidenta Claudia Sheinbaum envió a la Cám...</td>\n",
       "      <td>La Cámara de Diputados recibió una iniciativa ...</td>\n",
       "    </tr>\n",
       "    <tr>\n",
       "      <th>1</th>\n",
       "      <td>politica</td>\n",
       "      <td></td>\n",
       "      <td></td>\n",
       "      <td>https://www.animalpolitico.com/politica/organo...</td>\n",
       "      <td>25 de septiembre, 2025</td>\n",
       "      <td>2025-09-26</td>\n",
       "      <td>Alfredo Maza</td>\n",
       "      <td>Órgano de Administración Judicial informa que ...</td>\n",
       "      <td>El Órgano de Administración Judicial detalló q...</td>\n",
       "      <td>El nuevo Órgano de Administración Judicial (OA...</td>\n",
       "    </tr>\n",
       "    <tr>\n",
       "      <th>2</th>\n",
       "      <td>politica</td>\n",
       "      <td></td>\n",
       "      <td></td>\n",
       "      <td>https://www.animalpolitico.com/politica/salina...</td>\n",
       "      <td>25 de septiembre, 2025</td>\n",
       "      <td>2025-09-26</td>\n",
       "      <td>Redacción Animal Político</td>\n",
       "      <td>Salinas Pliego pide mesa de negociación con Sh...</td>\n",
       "      <td>Ricardo Salinas Pliego dijo que en la mesa de ...</td>\n",
       "      <td>El empresario  Ricardo Salinas Pliego pidió a ...</td>\n",
       "    </tr>\n",
       "    <tr>\n",
       "      <th>3</th>\n",
       "      <td>politica</td>\n",
       "      <td></td>\n",
       "      <td></td>\n",
       "      <td>https://www.animalpolitico.com/politica/congre...</td>\n",
       "      <td>25 de septiembre, 2025</td>\n",
       "      <td>2025-09-26</td>\n",
       "      <td>Redacción Animal Político</td>\n",
       "      <td>Cinco congresos estatales aprueban reforma par...</td>\n",
       "      <td>Hasta el momento, los congresos del estado de ...</td>\n",
       "      <td>El Senado concretó la reforma constitucional q...</td>\n",
       "    </tr>\n",
       "    <tr>\n",
       "      <th>4</th>\n",
       "      <td>politica</td>\n",
       "      <td></td>\n",
       "      <td></td>\n",
       "      <td>https://www.animalpolitico.com/politica/sat-re...</td>\n",
       "      <td>25 de septiembre, 2025</td>\n",
       "      <td>2025-09-26</td>\n",
       "      <td>Redacción Animal Político</td>\n",
       "      <td>SAT reconoce 109 expedientes de corrupción en ...</td>\n",
       "      <td>Autoridades del Servicio de Administración Tri...</td>\n",
       "      <td>Existen  109 expedientes de casos de corrupció...</td>\n",
       "    </tr>\n",
       "  </tbody>\n",
       "</table>\n",
       "</div>"
      ]
     },
     "execution_count": 15,
     "metadata": {},
     "output_type": "execute_result"
    }
   ],
   "execution_count": 15
  },
  {
   "metadata": {
    "ExecuteTime": {
     "end_time": "2025-10-09T04:36:12.333590Z",
     "start_time": "2025-10-09T04:36:12.324062Z"
    }
   },
   "cell_type": "code",
   "source": "bronze_df_animal_politico_salud.head()",
   "id": "1b566103230835f",
   "outputs": [
    {
     "data": {
      "text/plain": [
       "  category sub_category subcription  \\\n",
       "0    salud                            \n",
       "1    salud                            \n",
       "2    salud                            \n",
       "3    salud                            \n",
       "4    salud                            \n",
       "\n",
       "                                                 url                date_raw  \\\n",
       "0  https://www.animalpolitico.com/salud/vacunacio...  23 de septiembre, 2025   \n",
       "1  https://www.animalpolitico.com/salud/secretari...  18 de septiembre, 2025   \n",
       "2  https://www.animalpolitico.com/salud/alertan-f...  16 de septiembre, 2025   \n",
       "3  https://www.animalpolitico.com/salud/presupues...  15 de septiembre, 2025   \n",
       "4  https://www.animalpolitico.com/salud/impuesto-...  11 de septiembre, 2025   \n",
       "\n",
       "  date_parsed                           author  \\\n",
       "0  2025-09-25        Redacción Animal Político   \n",
       "1  2025-09-25  Frasua Esquerra y Nayeli Roldán   \n",
       "2  2025-09-25        Redacción Animal Político   \n",
       "3  2025-09-25               Marcela Nochebuena   \n",
       "4  2025-09-25        Redacción Animal Político   \n",
       "\n",
       "                                               title  \\\n",
       "0  Vacunación contra sarampión bajó por pandemia ...   \n",
       "1  Secretaría de Salud CDMX, con recorte de 13% e...   \n",
       "2  Sindicato de Trabajadores de la Salud en Morel...   \n",
       "3  Presupuesto 2026 prevé recorte a salud; arbitr...   \n",
       "4  Impuesto al refresco: buscan reducción del 7 %...   \n",
       "\n",
       "                                      article_header  \\\n",
       "0  El secretario de Salud dijo que se ha logrado ...   \n",
       "1  Tres de los hospitales donde se atendió a víct...   \n",
       "2  El sindicato alertó que se retiró el personal ...   \n",
       "3  El proyecto de Presupuesto de Egresos de la Fe...   \n",
       "4  El subsecretario Eduardo Clark afirmó que con ...   \n",
       "\n",
       "                                             content  \n",
       "0  La Secretaría de Salud atribuyó la baja en la ...  \n",
       "1  Entre los hospitales que han atendido a  herid...  \n",
       "2  El Sindicato Nacional de los Trabajadores de l...  \n",
       "3  El  proyecto de Presupuesto de Egresos de la F...  \n",
       "4  El subsecretario de Integración y Desarrollo d...  "
      ],
      "text/html": [
       "<div>\n",
       "<style scoped>\n",
       "    .dataframe tbody tr th:only-of-type {\n",
       "        vertical-align: middle;\n",
       "    }\n",
       "\n",
       "    .dataframe tbody tr th {\n",
       "        vertical-align: top;\n",
       "    }\n",
       "\n",
       "    .dataframe thead th {\n",
       "        text-align: right;\n",
       "    }\n",
       "</style>\n",
       "<table border=\"1\" class=\"dataframe\">\n",
       "  <thead>\n",
       "    <tr style=\"text-align: right;\">\n",
       "      <th></th>\n",
       "      <th>category</th>\n",
       "      <th>sub_category</th>\n",
       "      <th>subcription</th>\n",
       "      <th>url</th>\n",
       "      <th>date_raw</th>\n",
       "      <th>date_parsed</th>\n",
       "      <th>author</th>\n",
       "      <th>title</th>\n",
       "      <th>article_header</th>\n",
       "      <th>content</th>\n",
       "    </tr>\n",
       "  </thead>\n",
       "  <tbody>\n",
       "    <tr>\n",
       "      <th>0</th>\n",
       "      <td>salud</td>\n",
       "      <td></td>\n",
       "      <td></td>\n",
       "      <td>https://www.animalpolitico.com/salud/vacunacio...</td>\n",
       "      <td>23 de septiembre, 2025</td>\n",
       "      <td>2025-09-25</td>\n",
       "      <td>Redacción Animal Político</td>\n",
       "      <td>Vacunación contra sarampión bajó por pandemia ...</td>\n",
       "      <td>El secretario de Salud dijo que se ha logrado ...</td>\n",
       "      <td>La Secretaría de Salud atribuyó la baja en la ...</td>\n",
       "    </tr>\n",
       "    <tr>\n",
       "      <th>1</th>\n",
       "      <td>salud</td>\n",
       "      <td></td>\n",
       "      <td></td>\n",
       "      <td>https://www.animalpolitico.com/salud/secretari...</td>\n",
       "      <td>18 de septiembre, 2025</td>\n",
       "      <td>2025-09-25</td>\n",
       "      <td>Frasua Esquerra y Nayeli Roldán</td>\n",
       "      <td>Secretaría de Salud CDMX, con recorte de 13% e...</td>\n",
       "      <td>Tres de los hospitales donde se atendió a víct...</td>\n",
       "      <td>Entre los hospitales que han atendido a  herid...</td>\n",
       "    </tr>\n",
       "    <tr>\n",
       "      <th>2</th>\n",
       "      <td>salud</td>\n",
       "      <td></td>\n",
       "      <td></td>\n",
       "      <td>https://www.animalpolitico.com/salud/alertan-f...</td>\n",
       "      <td>16 de septiembre, 2025</td>\n",
       "      <td>2025-09-25</td>\n",
       "      <td>Redacción Animal Político</td>\n",
       "      <td>Sindicato de Trabajadores de la Salud en Morel...</td>\n",
       "      <td>El sindicato alertó que se retiró el personal ...</td>\n",
       "      <td>El Sindicato Nacional de los Trabajadores de l...</td>\n",
       "    </tr>\n",
       "    <tr>\n",
       "      <th>3</th>\n",
       "      <td>salud</td>\n",
       "      <td></td>\n",
       "      <td></td>\n",
       "      <td>https://www.animalpolitico.com/salud/presupues...</td>\n",
       "      <td>15 de septiembre, 2025</td>\n",
       "      <td>2025-09-25</td>\n",
       "      <td>Marcela Nochebuena</td>\n",
       "      <td>Presupuesto 2026 prevé recorte a salud; arbitr...</td>\n",
       "      <td>El proyecto de Presupuesto de Egresos de la Fe...</td>\n",
       "      <td>El  proyecto de Presupuesto de Egresos de la F...</td>\n",
       "    </tr>\n",
       "    <tr>\n",
       "      <th>4</th>\n",
       "      <td>salud</td>\n",
       "      <td></td>\n",
       "      <td></td>\n",
       "      <td>https://www.animalpolitico.com/salud/impuesto-...</td>\n",
       "      <td>11 de septiembre, 2025</td>\n",
       "      <td>2025-09-25</td>\n",
       "      <td>Redacción Animal Político</td>\n",
       "      <td>Impuesto al refresco: buscan reducción del 7 %...</td>\n",
       "      <td>El subsecretario Eduardo Clark afirmó que con ...</td>\n",
       "      <td>El subsecretario de Integración y Desarrollo d...</td>\n",
       "    </tr>\n",
       "  </tbody>\n",
       "</table>\n",
       "</div>"
      ]
     },
     "execution_count": 16,
     "metadata": {},
     "output_type": "execute_result"
    }
   ],
   "execution_count": 16
  },
  {
   "metadata": {
    "ExecuteTime": {
     "end_time": "2025-10-09T04:37:54.558946Z",
     "start_time": "2025-10-09T04:37:54.549925Z"
    }
   },
   "cell_type": "code",
   "source": "bronze_df_animal_politico_seguridad.head()",
   "id": "d61d4994388e0e05",
   "outputs": [
    {
     "data": {
      "text/plain": [
       "    category sub_category subcription  \\\n",
       "0  seguridad                            \n",
       "1  seguridad                            \n",
       "2  seguridad                            \n",
       "3  seguridad                            \n",
       "4  seguridad                            \n",
       "\n",
       "                                                 url                date_raw  \\\n",
       "0  https://www.animalpolitico.com/seguridad/detie...  24 de septiembre, 2025   \n",
       "1  https://www.animalpolitico.com/seguridad/mayo-...  24 de septiembre, 2025   \n",
       "2  https://www.animalpolitico.com/seguridad/huach...  24 de septiembre, 2025   \n",
       "3  https://www.animalpolitico.com/seguridad/vincu...  23 de septiembre, 2025   \n",
       "4  https://www.animalpolitico.com/seguridad/no-de...  23 de septiembre, 2025   \n",
       "\n",
       "  date_parsed                     author  \\\n",
       "0  2025-09-25  Redacción Animal Político   \n",
       "1  2025-09-25                   Noroeste   \n",
       "2  2025-09-25              Nayeli Roldán   \n",
       "3  2025-09-25  Redacción Animal Político   \n",
       "4  2025-09-25  Redacción Animal Político   \n",
       "\n",
       "                                               title  \\\n",
       "0  Detienen a “El Silencio” en Guanajuato, relaci...   \n",
       "1  “El Mayo” Zambada quiere morir en México; le d...   \n",
       "2  Ecocarburante, acusada de huachicol fiscal, ob...   \n",
       "3  Vinculan a proceso a Hernán Bermúdez, exsecret...   \n",
       "4  “No voy a debatir con Petro”: Sheinbaum pide i...   \n",
       "\n",
       "                                      article_header  \\\n",
       "0  A Genaro \"N\" , alias \"El Silencio\",  se le vin...   \n",
       "1  El abogado del \"Mayo\" señaló a Milenio que las...   \n",
       "2  Constituida en 2017, Ecocarburante obtuvo un p...   \n",
       "3  Un juez determinó un plazo de 3 meses para el ...   \n",
       "4  El gabinete de Seguridad informó que colabora ...   \n",
       "\n",
       "                                             content  \n",
       "0  Fue detenido Genaro “N”, alias “El Silencio”, ...  \n",
       "1  El capo sinaloense  Ismael “El Mayo” Zambada ,...  \n",
       "2  Ecocarburante, S. A. de C. V., una de las empr...  \n",
       "3  El exsecretario de Seguridad Pública de Tabasc...  \n",
       "4  La presidenta de México, Claudia Sheinbaum, di...  "
      ],
      "text/html": [
       "<div>\n",
       "<style scoped>\n",
       "    .dataframe tbody tr th:only-of-type {\n",
       "        vertical-align: middle;\n",
       "    }\n",
       "\n",
       "    .dataframe tbody tr th {\n",
       "        vertical-align: top;\n",
       "    }\n",
       "\n",
       "    .dataframe thead th {\n",
       "        text-align: right;\n",
       "    }\n",
       "</style>\n",
       "<table border=\"1\" class=\"dataframe\">\n",
       "  <thead>\n",
       "    <tr style=\"text-align: right;\">\n",
       "      <th></th>\n",
       "      <th>category</th>\n",
       "      <th>sub_category</th>\n",
       "      <th>subcription</th>\n",
       "      <th>url</th>\n",
       "      <th>date_raw</th>\n",
       "      <th>date_parsed</th>\n",
       "      <th>author</th>\n",
       "      <th>title</th>\n",
       "      <th>article_header</th>\n",
       "      <th>content</th>\n",
       "    </tr>\n",
       "  </thead>\n",
       "  <tbody>\n",
       "    <tr>\n",
       "      <th>0</th>\n",
       "      <td>seguridad</td>\n",
       "      <td></td>\n",
       "      <td></td>\n",
       "      <td>https://www.animalpolitico.com/seguridad/detie...</td>\n",
       "      <td>24 de septiembre, 2025</td>\n",
       "      <td>2025-09-25</td>\n",
       "      <td>Redacción Animal Político</td>\n",
       "      <td>Detienen a “El Silencio” en Guanajuato, relaci...</td>\n",
       "      <td>A Genaro \"N\" , alias \"El Silencio\",  se le vin...</td>\n",
       "      <td>Fue detenido Genaro “N”, alias “El Silencio”, ...</td>\n",
       "    </tr>\n",
       "    <tr>\n",
       "      <th>1</th>\n",
       "      <td>seguridad</td>\n",
       "      <td></td>\n",
       "      <td></td>\n",
       "      <td>https://www.animalpolitico.com/seguridad/mayo-...</td>\n",
       "      <td>24 de septiembre, 2025</td>\n",
       "      <td>2025-09-25</td>\n",
       "      <td>Noroeste</td>\n",
       "      <td>“El Mayo” Zambada quiere morir en México; le d...</td>\n",
       "      <td>El abogado del \"Mayo\" señaló a Milenio que las...</td>\n",
       "      <td>El capo sinaloense  Ismael “El Mayo” Zambada ,...</td>\n",
       "    </tr>\n",
       "    <tr>\n",
       "      <th>2</th>\n",
       "      <td>seguridad</td>\n",
       "      <td></td>\n",
       "      <td></td>\n",
       "      <td>https://www.animalpolitico.com/seguridad/huach...</td>\n",
       "      <td>24 de septiembre, 2025</td>\n",
       "      <td>2025-09-25</td>\n",
       "      <td>Nayeli Roldán</td>\n",
       "      <td>Ecocarburante, acusada de huachicol fiscal, ob...</td>\n",
       "      <td>Constituida en 2017, Ecocarburante obtuvo un p...</td>\n",
       "      <td>Ecocarburante, S. A. de C. V., una de las empr...</td>\n",
       "    </tr>\n",
       "    <tr>\n",
       "      <th>3</th>\n",
       "      <td>seguridad</td>\n",
       "      <td></td>\n",
       "      <td></td>\n",
       "      <td>https://www.animalpolitico.com/seguridad/vincu...</td>\n",
       "      <td>23 de septiembre, 2025</td>\n",
       "      <td>2025-09-25</td>\n",
       "      <td>Redacción Animal Político</td>\n",
       "      <td>Vinculan a proceso a Hernán Bermúdez, exsecret...</td>\n",
       "      <td>Un juez determinó un plazo de 3 meses para el ...</td>\n",
       "      <td>El exsecretario de Seguridad Pública de Tabasc...</td>\n",
       "    </tr>\n",
       "    <tr>\n",
       "      <th>4</th>\n",
       "      <td>seguridad</td>\n",
       "      <td></td>\n",
       "      <td></td>\n",
       "      <td>https://www.animalpolitico.com/seguridad/no-de...</td>\n",
       "      <td>23 de septiembre, 2025</td>\n",
       "      <td>2025-09-25</td>\n",
       "      <td>Redacción Animal Político</td>\n",
       "      <td>“No voy a debatir con Petro”: Sheinbaum pide i...</td>\n",
       "      <td>El gabinete de Seguridad informó que colabora ...</td>\n",
       "      <td>La presidenta de México, Claudia Sheinbaum, di...</td>\n",
       "    </tr>\n",
       "  </tbody>\n",
       "</table>\n",
       "</div>"
      ]
     },
     "execution_count": 17,
     "metadata": {},
     "output_type": "execute_result"
    }
   ],
   "execution_count": 17
  },
  {
   "metadata": {},
   "cell_type": "markdown",
   "source": "### 3.1.2 Cargar los datos de El Excélsior",
   "id": "80f2d7e81695ef04"
  },
  {
   "metadata": {
    "ExecuteTime": {
     "end_time": "2025-10-09T04:39:51.472419Z",
     "start_time": "2025-10-09T04:39:51.451830Z"
    }
   },
   "cell_type": "code",
   "source": "bronze_df_el_excelsior = pd.read_json(BRONZE_PATH + \"el_espectador.json\")",
   "id": "bd46d45cab79ca0b",
   "outputs": [],
   "execution_count": 18
  },
  {
   "metadata": {
    "ExecuteTime": {
     "end_time": "2025-10-09T04:40:04.014744Z",
     "start_time": "2025-10-09T04:40:04.006113Z"
    }
   },
   "cell_type": "code",
   "source": "bronze_df_el_excelsior.head()",
   "id": "1bda408a0056b29c",
   "outputs": [
    {
     "data": {
      "text/plain": [
       "   category         sub_category   subcription  \\\n",
       "0  politica      Elecciones 2026          None   \n",
       "1  politica      Elecciones 2026  Suscriptores   \n",
       "2  politica             Política          None   \n",
       "3  politica      Elecciones 2026          None   \n",
       "4  politica  El Magazín Cultural  Suscriptores   \n",
       "\n",
       "                                                 url     date_raw date_parsed  \\\n",
       "0  https://www.elespectador.com/politica/eleccion...   06-10-2025  06-10-2025   \n",
       "1  https://www.elespectador.com/politica/eleccion...   06-10-2025  06-10-2025   \n",
       "2  https://www.elespectador.com/politica/reforma-...  08:10 a. m.  06-10-2025   \n",
       "3  https://www.elespectador.com/politica/eleccion...  09:28 a. m.  06-10-2025   \n",
       "4  https://www.elespectador.com/el-magazin-cultur...  10:00 a. m.  06-10-2025   \n",
       "\n",
       "                                              author  \\\n",
       "0                                 Redacción Política   \n",
       "1                                 Redacción Política   \n",
       "2                                 Redacción Política   \n",
       "3                                 Redacción Política   \n",
       "4  Santiago Muñoz Machado * / Especial para El Es...   \n",
       "\n",
       "                                               title  \\\n",
       "0  Grupo de exmandatarios regionales convocó a pr...   \n",
       "1  De la Espriella sacude campaña de la derecha y...   \n",
       "2  ¿Consulta 2.0? Gobierno Petro analiza vías par...   \n",
       "3  Galán, Peñalosa, Oviedo y Luna continúan acerc...   \n",
       "4  “Se ha puesto de moda renegar de la democracia...   \n",
       "\n",
       "                                      article_header  \\\n",
       "0  Los integrantes de Fuerza de las Regiones envi...   \n",
       "1  El precandidato Abelardo De la Espriella busca...   \n",
       "2  El ministro del Interior, Armando Benedetti, a...   \n",
       "3  Los precandidatos “independientes” se encontra...   \n",
       "4  Fragmento de “De la democracia en Hispanoaméri...   \n",
       "\n",
       "                                             content  \n",
       "0  El grupo de exmandatarios regionales conocido ...  \n",
       "1  En medio de las divisiones de la derecha por e...  \n",
       "2  Audio generado con IA de Google\\n0:00\\n/\\n0:00...  \n",
       "3  Audio generado con IA de Google\\n0:00\\n/\\n0:00...  \n",
       "4  PRÓLOGO\\nLa democracia es una forma de gobiern...  "
      ],
      "text/html": [
       "<div>\n",
       "<style scoped>\n",
       "    .dataframe tbody tr th:only-of-type {\n",
       "        vertical-align: middle;\n",
       "    }\n",
       "\n",
       "    .dataframe tbody tr th {\n",
       "        vertical-align: top;\n",
       "    }\n",
       "\n",
       "    .dataframe thead th {\n",
       "        text-align: right;\n",
       "    }\n",
       "</style>\n",
       "<table border=\"1\" class=\"dataframe\">\n",
       "  <thead>\n",
       "    <tr style=\"text-align: right;\">\n",
       "      <th></th>\n",
       "      <th>category</th>\n",
       "      <th>sub_category</th>\n",
       "      <th>subcription</th>\n",
       "      <th>url</th>\n",
       "      <th>date_raw</th>\n",
       "      <th>date_parsed</th>\n",
       "      <th>author</th>\n",
       "      <th>title</th>\n",
       "      <th>article_header</th>\n",
       "      <th>content</th>\n",
       "    </tr>\n",
       "  </thead>\n",
       "  <tbody>\n",
       "    <tr>\n",
       "      <th>0</th>\n",
       "      <td>politica</td>\n",
       "      <td>Elecciones 2026</td>\n",
       "      <td>None</td>\n",
       "      <td>https://www.elespectador.com/politica/eleccion...</td>\n",
       "      <td>06-10-2025</td>\n",
       "      <td>06-10-2025</td>\n",
       "      <td>Redacción Política</td>\n",
       "      <td>Grupo de exmandatarios regionales convocó a pr...</td>\n",
       "      <td>Los integrantes de Fuerza de las Regiones envi...</td>\n",
       "      <td>El grupo de exmandatarios regionales conocido ...</td>\n",
       "    </tr>\n",
       "    <tr>\n",
       "      <th>1</th>\n",
       "      <td>politica</td>\n",
       "      <td>Elecciones 2026</td>\n",
       "      <td>Suscriptores</td>\n",
       "      <td>https://www.elespectador.com/politica/eleccion...</td>\n",
       "      <td>06-10-2025</td>\n",
       "      <td>06-10-2025</td>\n",
       "      <td>Redacción Política</td>\n",
       "      <td>De la Espriella sacude campaña de la derecha y...</td>\n",
       "      <td>El precandidato Abelardo De la Espriella busca...</td>\n",
       "      <td>En medio de las divisiones de la derecha por e...</td>\n",
       "    </tr>\n",
       "    <tr>\n",
       "      <th>2</th>\n",
       "      <td>politica</td>\n",
       "      <td>Política</td>\n",
       "      <td>None</td>\n",
       "      <td>https://www.elespectador.com/politica/reforma-...</td>\n",
       "      <td>08:10 a. m.</td>\n",
       "      <td>06-10-2025</td>\n",
       "      <td>Redacción Política</td>\n",
       "      <td>¿Consulta 2.0? Gobierno Petro analiza vías par...</td>\n",
       "      <td>El ministro del Interior, Armando Benedetti, a...</td>\n",
       "      <td>Audio generado con IA de Google\\n0:00\\n/\\n0:00...</td>\n",
       "    </tr>\n",
       "    <tr>\n",
       "      <th>3</th>\n",
       "      <td>politica</td>\n",
       "      <td>Elecciones 2026</td>\n",
       "      <td>None</td>\n",
       "      <td>https://www.elespectador.com/politica/eleccion...</td>\n",
       "      <td>09:28 a. m.</td>\n",
       "      <td>06-10-2025</td>\n",
       "      <td>Redacción Política</td>\n",
       "      <td>Galán, Peñalosa, Oviedo y Luna continúan acerc...</td>\n",
       "      <td>Los precandidatos “independientes” se encontra...</td>\n",
       "      <td>Audio generado con IA de Google\\n0:00\\n/\\n0:00...</td>\n",
       "    </tr>\n",
       "    <tr>\n",
       "      <th>4</th>\n",
       "      <td>politica</td>\n",
       "      <td>El Magazín Cultural</td>\n",
       "      <td>Suscriptores</td>\n",
       "      <td>https://www.elespectador.com/el-magazin-cultur...</td>\n",
       "      <td>10:00 a. m.</td>\n",
       "      <td>06-10-2025</td>\n",
       "      <td>Santiago Muñoz Machado * / Especial para El Es...</td>\n",
       "      <td>“Se ha puesto de moda renegar de la democracia...</td>\n",
       "      <td>Fragmento de “De la democracia en Hispanoaméri...</td>\n",
       "      <td>PRÓLOGO\\nLa democracia es una forma de gobiern...</td>\n",
       "    </tr>\n",
       "  </tbody>\n",
       "</table>\n",
       "</div>"
      ]
     },
     "execution_count": 19,
     "metadata": {},
     "output_type": "execute_result"
    }
   ],
   "execution_count": 19
  },
  {
   "metadata": {},
   "cell_type": "markdown",
   "source": "### 3.1.3 Cargar los datos de La Jornada",
   "id": "f7f864d335e7f43b"
  },
  {
   "metadata": {
    "ExecuteTime": {
     "end_time": "2025-10-09T04:41:15.093097Z",
     "start_time": "2025-10-09T04:41:15.077763Z"
    }
   },
   "cell_type": "code",
   "source": "bronze_df_el_excelsior = pd.read_json(BRONZE_PATH + \"la_jornada.json\")",
   "id": "8c5488ec30bc0e65",
   "outputs": [],
   "execution_count": 22
  },
  {
   "metadata": {},
   "cell_type": "markdown",
   "source": "### 3.1.4 Cargar los datos de El Colombiano",
   "id": "5c2dce046d135948"
  },
  {
   "metadata": {
    "ExecuteTime": {
     "end_time": "2025-10-09T04:41:25.788908Z",
     "start_time": "2025-10-09T04:41:25.709610Z"
    }
   },
   "cell_type": "code",
   "source": "bronze_df_el_colombiano = pd.read_json(BRONZE_PATH + \"el_colombiano.json\")",
   "id": "60c9d1bf7e60dacf",
   "outputs": [],
   "execution_count": 23
  },
  {
   "metadata": {},
   "cell_type": "markdown",
   "source": "### 3.1.5 Cargar los datos de El Espectador",
   "id": "61322d46410e87f8"
  },
  {
   "metadata": {
    "ExecuteTime": {
     "end_time": "2025-10-09T04:43:43.291001Z",
     "start_time": "2025-10-09T04:43:43.270887Z"
    }
   },
   "cell_type": "code",
   "source": "bronze_df_el_espectador= pd.read_json(BRONZE_PATH + \"el_espectador.json\")",
   "id": "b8f2e3426e285c3",
   "outputs": [],
   "execution_count": 24
  },
  {
   "metadata": {},
   "cell_type": "markdown",
   "source": "### 3.1.6 Cargar los datos de El Tiempo",
   "id": "3be69426f0a3c9d2"
  },
  {
   "metadata": {
    "ExecuteTime": {
     "end_time": "2025-10-09T04:44:10.276123Z",
     "start_time": "2025-10-09T04:44:10.254469Z"
    }
   },
   "cell_type": "code",
   "source": "bronze_df_el_tiempo = pd.read_json(BRONZE_PATH + \"el_tiempo.json\")",
   "id": "c12deb4a71db099",
   "outputs": [],
   "execution_count": 25
  },
  {
   "metadata": {},
   "cell_type": "markdown",
   "source": "### 3.1.7 Cargar los datos de Semana",
   "id": "91832bdb19290853"
  },
  {
   "metadata": {
    "ExecuteTime": {
     "end_time": "2025-10-09T04:44:34.023299Z",
     "start_time": "2025-10-09T04:44:33.943069Z"
    }
   },
   "cell_type": "code",
   "source": "bronze_df_semana = pd.read_json(BRONZE_PATH + \"semana_general.json\")",
   "id": "3e7b73dc9dc91a62",
   "outputs": [],
   "execution_count": 26
  },
  {
   "metadata": {},
   "cell_type": "markdown",
   "source": "### 3.1.8 Cargar los datos de The Media Framing Dataset",
   "id": "7c354c08a0040460"
  },
  {
   "metadata": {
    "ExecuteTime": {
     "end_time": "2025-10-09T04:51:10.444718Z",
     "start_time": "2025-10-09T04:51:10.438851Z"
    }
   },
   "cell_type": "code",
   "source": "bronze_df_media_framing = pd.read_csv(BRONZE_PATH + \"the_media_framing_dataset/labels.csv\")",
   "id": "4310681686f45be2",
   "outputs": [],
   "execution_count": 28
  },
  {
   "metadata": {
    "ExecuteTime": {
     "end_time": "2025-10-09T04:53:18.860370Z",
     "start_time": "2025-10-09T04:53:18.856859Z"
    }
   },
   "cell_type": "code",
   "source": "media_framing_folder_path = BRONZE_PATH + \"the_media_framing_dataset/articles/\"",
   "id": "9b59cdc726f38141",
   "outputs": [],
   "execution_count": 29
  },
  {
   "metadata": {
    "ExecuteTime": {
     "end_time": "2025-10-09T04:55:00.974148Z",
     "start_time": "2025-10-09T04:55:00.969133Z"
    }
   },
   "cell_type": "code",
   "source": "media_framing_files = [f for f in os.listdir(media_framing_folder_path) if f.endswith(\".txt\")]",
   "id": "2f9ca5636e54dd14",
   "outputs": [],
   "execution_count": 32
  },
  {
   "metadata": {
    "ExecuteTime": {
     "end_time": "2025-10-09T04:56:02.962763Z",
     "start_time": "2025-10-09T04:56:02.935330Z"
    }
   },
   "cell_type": "code",
   "source": [
    "media_framing_article_data = []\n",
    "for file in media_framing_files:\n",
    "    with open(os.path.join(media_framing_folder_path, file), \"r\", encoding=\"utf-8\") as f:\n",
    "        content = f.read()\n",
    "        media_framing_article_data.append(content)"
   ],
   "id": "fef83563e5f495fc",
   "outputs": [],
   "execution_count": 33
  },
  {
   "metadata": {
    "ExecuteTime": {
     "end_time": "2025-10-09T05:05:21.448033Z",
     "start_time": "2025-10-09T05:05:21.442388Z"
    }
   },
   "cell_type": "code",
   "source": "bronze_df_media_framing.insert(1, \"news\", media_framing_article_data)",
   "id": "6a30f24de8a6e386",
   "outputs": [],
   "execution_count": 34
  },
  {
   "metadata": {
    "ExecuteTime": {
     "end_time": "2025-10-09T05:05:22.156935Z",
     "start_time": "2025-10-09T05:05:22.152420Z"
    }
   },
   "cell_type": "code",
   "source": [
    "bronze_df_media_framing[\"country\"] = \"Mexico\"\n",
    "bronze_df_media_framing.loc[:71, \"country\"] = \"Colombia\""
   ],
   "id": "5043874c224ec579",
   "outputs": [],
   "execution_count": 35
  },
  {
   "metadata": {
    "ExecuteTime": {
     "end_time": "2025-10-09T05:06:09.630688Z",
     "start_time": "2025-10-09T05:06:09.625776Z"
    }
   },
   "cell_type": "code",
   "source": "bronze_df_media_framing.loc[bronze_df_media_framing[\"principal_frames\"] == \"other\", \"principal_frames\"] = \"public_opinion\"",
   "id": "a2f508acf34f5a67",
   "outputs": [],
   "execution_count": 38
  },
  {
   "metadata": {},
   "cell_type": "markdown",
   "source": "# 4. Silver",
   "id": "c38d81710a82e13f"
  },
  {
   "metadata": {},
   "cell_type": "markdown",
   "source": "# 5. Gold",
   "id": "d3a24cf100f988b5"
  },
  {
   "metadata": {},
   "cell_type": "markdown",
   "source": "# 6. Resumen",
   "id": "fac200d1b85e8b8"
  }
 ],
 "metadata": {
  "kernelspec": {
   "display_name": "Python 3",
   "language": "python",
   "name": "python3"
  },
  "language_info": {
   "codemirror_mode": {
    "name": "ipython",
    "version": 2
   },
   "file_extension": ".py",
   "mimetype": "text/x-python",
   "name": "python",
   "nbconvert_exporter": "python",
   "pygments_lexer": "ipython2",
   "version": "2.7.6"
  }
 },
 "nbformat": 4,
 "nbformat_minor": 5
}
