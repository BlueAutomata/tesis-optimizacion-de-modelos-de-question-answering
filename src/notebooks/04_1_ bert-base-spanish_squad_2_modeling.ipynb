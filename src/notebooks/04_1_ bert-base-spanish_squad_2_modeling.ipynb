{
  "cells": [
    {
      "metadata": {
        "id": "3a56ed1359728ece"
      },
      "cell_type": "markdown",
      "source": [
        "# Modelado de DistilBERT base"
      ],
      "id": "3a56ed1359728ece"
    },
    {
      "cell_type": "code",
      "execution_count": 1,
      "id": "initial_id",
      "metadata": {
        "collapsed": true,
        "colab": {
          "base_uri": "https://localhost:8080/"
        },
        "id": "initial_id",
        "outputId": "bc3e1124-1bc0-45b4-c26e-28ccf212932f"
      },
      "outputs": [
        {
          "output_type": "stream",
          "name": "stdout",
          "text": [
            "Requirement already satisfied: transformers in /usr/local/lib/python3.12/dist-packages (4.57.1)\n",
            "Requirement already satisfied: datasets in /usr/local/lib/python3.12/dist-packages (4.0.0)\n",
            "Requirement already satisfied: evaluate in /usr/local/lib/python3.12/dist-packages (0.4.6)\n",
            "Requirement already satisfied: tokenizers in /usr/local/lib/python3.12/dist-packages (0.22.1)\n",
            "Requirement already satisfied: accelerate in /usr/local/lib/python3.12/dist-packages (1.11.0)\n",
            "Requirement already satisfied: filelock in /usr/local/lib/python3.12/dist-packages (from transformers) (3.20.0)\n",
            "Requirement already satisfied: huggingface-hub<1.0,>=0.34.0 in /usr/local/lib/python3.12/dist-packages (from transformers) (0.35.3)\n",
            "Requirement already satisfied: numpy>=1.17 in /usr/local/lib/python3.12/dist-packages (from transformers) (2.0.2)\n",
            "Requirement already satisfied: packaging>=20.0 in /usr/local/lib/python3.12/dist-packages (from transformers) (25.0)\n",
            "Requirement already satisfied: pyyaml>=5.1 in /usr/local/lib/python3.12/dist-packages (from transformers) (6.0.3)\n",
            "Requirement already satisfied: regex!=2019.12.17 in /usr/local/lib/python3.12/dist-packages (from transformers) (2024.11.6)\n",
            "Requirement already satisfied: requests in /usr/local/lib/python3.12/dist-packages (from transformers) (2.32.4)\n",
            "Requirement already satisfied: safetensors>=0.4.3 in /usr/local/lib/python3.12/dist-packages (from transformers) (0.6.2)\n",
            "Requirement already satisfied: tqdm>=4.27 in /usr/local/lib/python3.12/dist-packages (from transformers) (4.67.1)\n",
            "Requirement already satisfied: pyarrow>=15.0.0 in /usr/local/lib/python3.12/dist-packages (from datasets) (18.1.0)\n",
            "Requirement already satisfied: dill<0.3.9,>=0.3.0 in /usr/local/lib/python3.12/dist-packages (from datasets) (0.3.8)\n",
            "Requirement already satisfied: pandas in /usr/local/lib/python3.12/dist-packages (from datasets) (2.2.2)\n",
            "Requirement already satisfied: xxhash in /usr/local/lib/python3.12/dist-packages (from datasets) (3.6.0)\n",
            "Requirement already satisfied: multiprocess<0.70.17 in /usr/local/lib/python3.12/dist-packages (from datasets) (0.70.16)\n",
            "Requirement already satisfied: fsspec<=2025.3.0,>=2023.1.0 in /usr/local/lib/python3.12/dist-packages (from fsspec[http]<=2025.3.0,>=2023.1.0->datasets) (2025.3.0)\n",
            "Requirement already satisfied: psutil in /usr/local/lib/python3.12/dist-packages (from accelerate) (5.9.5)\n",
            "Requirement already satisfied: torch>=2.0.0 in /usr/local/lib/python3.12/dist-packages (from accelerate) (2.8.0+cu126)\n",
            "Requirement already satisfied: aiohttp!=4.0.0a0,!=4.0.0a1 in /usr/local/lib/python3.12/dist-packages (from fsspec[http]<=2025.3.0,>=2023.1.0->datasets) (3.13.1)\n",
            "Requirement already satisfied: typing-extensions>=3.7.4.3 in /usr/local/lib/python3.12/dist-packages (from huggingface-hub<1.0,>=0.34.0->transformers) (4.15.0)\n",
            "Requirement already satisfied: hf-xet<2.0.0,>=1.1.3 in /usr/local/lib/python3.12/dist-packages (from huggingface-hub<1.0,>=0.34.0->transformers) (1.1.10)\n",
            "Requirement already satisfied: charset_normalizer<4,>=2 in /usr/local/lib/python3.12/dist-packages (from requests->transformers) (3.4.4)\n",
            "Requirement already satisfied: idna<4,>=2.5 in /usr/local/lib/python3.12/dist-packages (from requests->transformers) (3.11)\n",
            "Requirement already satisfied: urllib3<3,>=1.21.1 in /usr/local/lib/python3.12/dist-packages (from requests->transformers) (2.5.0)\n",
            "Requirement already satisfied: certifi>=2017.4.17 in /usr/local/lib/python3.12/dist-packages (from requests->transformers) (2025.10.5)\n",
            "Requirement already satisfied: setuptools in /usr/local/lib/python3.12/dist-packages (from torch>=2.0.0->accelerate) (75.2.0)\n",
            "Requirement already satisfied: sympy>=1.13.3 in /usr/local/lib/python3.12/dist-packages (from torch>=2.0.0->accelerate) (1.13.3)\n",
            "Requirement already satisfied: networkx in /usr/local/lib/python3.12/dist-packages (from torch>=2.0.0->accelerate) (3.5)\n",
            "Requirement already satisfied: jinja2 in /usr/local/lib/python3.12/dist-packages (from torch>=2.0.0->accelerate) (3.1.6)\n",
            "Requirement already satisfied: nvidia-cuda-nvrtc-cu12==12.6.77 in /usr/local/lib/python3.12/dist-packages (from torch>=2.0.0->accelerate) (12.6.77)\n",
            "Requirement already satisfied: nvidia-cuda-runtime-cu12==12.6.77 in /usr/local/lib/python3.12/dist-packages (from torch>=2.0.0->accelerate) (12.6.77)\n",
            "Requirement already satisfied: nvidia-cuda-cupti-cu12==12.6.80 in /usr/local/lib/python3.12/dist-packages (from torch>=2.0.0->accelerate) (12.6.80)\n",
            "Requirement already satisfied: nvidia-cudnn-cu12==9.10.2.21 in /usr/local/lib/python3.12/dist-packages (from torch>=2.0.0->accelerate) (9.10.2.21)\n",
            "Requirement already satisfied: nvidia-cublas-cu12==12.6.4.1 in /usr/local/lib/python3.12/dist-packages (from torch>=2.0.0->accelerate) (12.6.4.1)\n",
            "Requirement already satisfied: nvidia-cufft-cu12==11.3.0.4 in /usr/local/lib/python3.12/dist-packages (from torch>=2.0.0->accelerate) (11.3.0.4)\n",
            "Requirement already satisfied: nvidia-curand-cu12==10.3.7.77 in /usr/local/lib/python3.12/dist-packages (from torch>=2.0.0->accelerate) (10.3.7.77)\n",
            "Requirement already satisfied: nvidia-cusolver-cu12==11.7.1.2 in /usr/local/lib/python3.12/dist-packages (from torch>=2.0.0->accelerate) (11.7.1.2)\n",
            "Requirement already satisfied: nvidia-cusparse-cu12==12.5.4.2 in /usr/local/lib/python3.12/dist-packages (from torch>=2.0.0->accelerate) (12.5.4.2)\n",
            "Requirement already satisfied: nvidia-cusparselt-cu12==0.7.1 in /usr/local/lib/python3.12/dist-packages (from torch>=2.0.0->accelerate) (0.7.1)\n",
            "Requirement already satisfied: nvidia-nccl-cu12==2.27.3 in /usr/local/lib/python3.12/dist-packages (from torch>=2.0.0->accelerate) (2.27.3)\n",
            "Requirement already satisfied: nvidia-nvtx-cu12==12.6.77 in /usr/local/lib/python3.12/dist-packages (from torch>=2.0.0->accelerate) (12.6.77)\n",
            "Requirement already satisfied: nvidia-nvjitlink-cu12==12.6.85 in /usr/local/lib/python3.12/dist-packages (from torch>=2.0.0->accelerate) (12.6.85)\n",
            "Requirement already satisfied: nvidia-cufile-cu12==1.11.1.6 in /usr/local/lib/python3.12/dist-packages (from torch>=2.0.0->accelerate) (1.11.1.6)\n",
            "Requirement already satisfied: triton==3.4.0 in /usr/local/lib/python3.12/dist-packages (from torch>=2.0.0->accelerate) (3.4.0)\n",
            "Requirement already satisfied: python-dateutil>=2.8.2 in /usr/local/lib/python3.12/dist-packages (from pandas->datasets) (2.9.0.post0)\n",
            "Requirement already satisfied: pytz>=2020.1 in /usr/local/lib/python3.12/dist-packages (from pandas->datasets) (2025.2)\n",
            "Requirement already satisfied: tzdata>=2022.7 in /usr/local/lib/python3.12/dist-packages (from pandas->datasets) (2025.2)\n",
            "Requirement already satisfied: aiohappyeyeballs>=2.5.0 in /usr/local/lib/python3.12/dist-packages (from aiohttp!=4.0.0a0,!=4.0.0a1->fsspec[http]<=2025.3.0,>=2023.1.0->datasets) (2.6.1)\n",
            "Requirement already satisfied: aiosignal>=1.4.0 in /usr/local/lib/python3.12/dist-packages (from aiohttp!=4.0.0a0,!=4.0.0a1->fsspec[http]<=2025.3.0,>=2023.1.0->datasets) (1.4.0)\n",
            "Requirement already satisfied: attrs>=17.3.0 in /usr/local/lib/python3.12/dist-packages (from aiohttp!=4.0.0a0,!=4.0.0a1->fsspec[http]<=2025.3.0,>=2023.1.0->datasets) (25.4.0)\n",
            "Requirement already satisfied: frozenlist>=1.1.1 in /usr/local/lib/python3.12/dist-packages (from aiohttp!=4.0.0a0,!=4.0.0a1->fsspec[http]<=2025.3.0,>=2023.1.0->datasets) (1.8.0)\n",
            "Requirement already satisfied: multidict<7.0,>=4.5 in /usr/local/lib/python3.12/dist-packages (from aiohttp!=4.0.0a0,!=4.0.0a1->fsspec[http]<=2025.3.0,>=2023.1.0->datasets) (6.7.0)\n",
            "Requirement already satisfied: propcache>=0.2.0 in /usr/local/lib/python3.12/dist-packages (from aiohttp!=4.0.0a0,!=4.0.0a1->fsspec[http]<=2025.3.0,>=2023.1.0->datasets) (0.4.1)\n",
            "Requirement already satisfied: yarl<2.0,>=1.17.0 in /usr/local/lib/python3.12/dist-packages (from aiohttp!=4.0.0a0,!=4.0.0a1->fsspec[http]<=2025.3.0,>=2023.1.0->datasets) (1.22.0)\n",
            "Requirement already satisfied: six>=1.5 in /usr/local/lib/python3.12/dist-packages (from python-dateutil>=2.8.2->pandas->datasets) (1.17.0)\n",
            "Requirement already satisfied: mpmath<1.4,>=1.1.0 in /usr/local/lib/python3.12/dist-packages (from sympy>=1.13.3->torch>=2.0.0->accelerate) (1.3.0)\n",
            "Requirement already satisfied: MarkupSafe>=2.0 in /usr/local/lib/python3.12/dist-packages (from jinja2->torch>=2.0.0->accelerate) (3.0.3)\n",
            "Requirement already satisfied: torch in /usr/local/lib/python3.12/dist-packages (2.8.0+cu126)\n",
            "Requirement already satisfied: filelock in /usr/local/lib/python3.12/dist-packages (from torch) (3.20.0)\n",
            "Requirement already satisfied: typing-extensions>=4.10.0 in /usr/local/lib/python3.12/dist-packages (from torch) (4.15.0)\n",
            "Requirement already satisfied: setuptools in /usr/local/lib/python3.12/dist-packages (from torch) (75.2.0)\n",
            "Requirement already satisfied: sympy>=1.13.3 in /usr/local/lib/python3.12/dist-packages (from torch) (1.13.3)\n",
            "Requirement already satisfied: networkx in /usr/local/lib/python3.12/dist-packages (from torch) (3.5)\n",
            "Requirement already satisfied: jinja2 in /usr/local/lib/python3.12/dist-packages (from torch) (3.1.6)\n",
            "Requirement already satisfied: fsspec in /usr/local/lib/python3.12/dist-packages (from torch) (2025.3.0)\n",
            "Requirement already satisfied: nvidia-cuda-nvrtc-cu12==12.6.77 in /usr/local/lib/python3.12/dist-packages (from torch) (12.6.77)\n",
            "Requirement already satisfied: nvidia-cuda-runtime-cu12==12.6.77 in /usr/local/lib/python3.12/dist-packages (from torch) (12.6.77)\n",
            "Requirement already satisfied: nvidia-cuda-cupti-cu12==12.6.80 in /usr/local/lib/python3.12/dist-packages (from torch) (12.6.80)\n",
            "Requirement already satisfied: nvidia-cudnn-cu12==9.10.2.21 in /usr/local/lib/python3.12/dist-packages (from torch) (9.10.2.21)\n",
            "Requirement already satisfied: nvidia-cublas-cu12==12.6.4.1 in /usr/local/lib/python3.12/dist-packages (from torch) (12.6.4.1)\n",
            "Requirement already satisfied: nvidia-cufft-cu12==11.3.0.4 in /usr/local/lib/python3.12/dist-packages (from torch) (11.3.0.4)\n",
            "Requirement already satisfied: nvidia-curand-cu12==10.3.7.77 in /usr/local/lib/python3.12/dist-packages (from torch) (10.3.7.77)\n",
            "Requirement already satisfied: nvidia-cusolver-cu12==11.7.1.2 in /usr/local/lib/python3.12/dist-packages (from torch) (11.7.1.2)\n",
            "Requirement already satisfied: nvidia-cusparse-cu12==12.5.4.2 in /usr/local/lib/python3.12/dist-packages (from torch) (12.5.4.2)\n",
            "Requirement already satisfied: nvidia-cusparselt-cu12==0.7.1 in /usr/local/lib/python3.12/dist-packages (from torch) (0.7.1)\n",
            "Requirement already satisfied: nvidia-nccl-cu12==2.27.3 in /usr/local/lib/python3.12/dist-packages (from torch) (2.27.3)\n",
            "Requirement already satisfied: nvidia-nvtx-cu12==12.6.77 in /usr/local/lib/python3.12/dist-packages (from torch) (12.6.77)\n",
            "Requirement already satisfied: nvidia-nvjitlink-cu12==12.6.85 in /usr/local/lib/python3.12/dist-packages (from torch) (12.6.85)\n",
            "Requirement already satisfied: nvidia-cufile-cu12==1.11.1.6 in /usr/local/lib/python3.12/dist-packages (from torch) (1.11.1.6)\n",
            "Requirement already satisfied: triton==3.4.0 in /usr/local/lib/python3.12/dist-packages (from torch) (3.4.0)\n",
            "Requirement already satisfied: mpmath<1.4,>=1.1.0 in /usr/local/lib/python3.12/dist-packages (from sympy>=1.13.3->torch) (1.3.0)\n",
            "Requirement already satisfied: MarkupSafe>=2.0 in /usr/local/lib/python3.12/dist-packages (from jinja2->torch) (3.0.3)\n",
            "Requirement already satisfied: evaluate in /usr/local/lib/python3.12/dist-packages (0.4.6)\n",
            "Requirement already satisfied: datasets>=2.0.0 in /usr/local/lib/python3.12/dist-packages (from evaluate) (4.0.0)\n",
            "Requirement already satisfied: numpy>=1.17 in /usr/local/lib/python3.12/dist-packages (from evaluate) (2.0.2)\n",
            "Requirement already satisfied: dill in /usr/local/lib/python3.12/dist-packages (from evaluate) (0.3.8)\n",
            "Requirement already satisfied: pandas in /usr/local/lib/python3.12/dist-packages (from evaluate) (2.2.2)\n",
            "Requirement already satisfied: requests>=2.19.0 in /usr/local/lib/python3.12/dist-packages (from evaluate) (2.32.4)\n",
            "Requirement already satisfied: tqdm>=4.62.1 in /usr/local/lib/python3.12/dist-packages (from evaluate) (4.67.1)\n",
            "Requirement already satisfied: xxhash in /usr/local/lib/python3.12/dist-packages (from evaluate) (3.6.0)\n",
            "Requirement already satisfied: multiprocess in /usr/local/lib/python3.12/dist-packages (from evaluate) (0.70.16)\n",
            "Requirement already satisfied: fsspec>=2021.05.0 in /usr/local/lib/python3.12/dist-packages (from fsspec[http]>=2021.05.0->evaluate) (2025.3.0)\n",
            "Requirement already satisfied: huggingface-hub>=0.7.0 in /usr/local/lib/python3.12/dist-packages (from evaluate) (0.35.3)\n",
            "Requirement already satisfied: packaging in /usr/local/lib/python3.12/dist-packages (from evaluate) (25.0)\n",
            "Requirement already satisfied: filelock in /usr/local/lib/python3.12/dist-packages (from datasets>=2.0.0->evaluate) (3.20.0)\n",
            "Requirement already satisfied: pyarrow>=15.0.0 in /usr/local/lib/python3.12/dist-packages (from datasets>=2.0.0->evaluate) (18.1.0)\n",
            "Requirement already satisfied: pyyaml>=5.1 in /usr/local/lib/python3.12/dist-packages (from datasets>=2.0.0->evaluate) (6.0.3)\n",
            "Requirement already satisfied: aiohttp!=4.0.0a0,!=4.0.0a1 in /usr/local/lib/python3.12/dist-packages (from fsspec[http]>=2021.05.0->evaluate) (3.13.1)\n",
            "Requirement already satisfied: typing-extensions>=3.7.4.3 in /usr/local/lib/python3.12/dist-packages (from huggingface-hub>=0.7.0->evaluate) (4.15.0)\n",
            "Requirement already satisfied: hf-xet<2.0.0,>=1.1.3 in /usr/local/lib/python3.12/dist-packages (from huggingface-hub>=0.7.0->evaluate) (1.1.10)\n",
            "Requirement already satisfied: charset_normalizer<4,>=2 in /usr/local/lib/python3.12/dist-packages (from requests>=2.19.0->evaluate) (3.4.4)\n",
            "Requirement already satisfied: idna<4,>=2.5 in /usr/local/lib/python3.12/dist-packages (from requests>=2.19.0->evaluate) (3.11)\n",
            "Requirement already satisfied: urllib3<3,>=1.21.1 in /usr/local/lib/python3.12/dist-packages (from requests>=2.19.0->evaluate) (2.5.0)\n",
            "Requirement already satisfied: certifi>=2017.4.17 in /usr/local/lib/python3.12/dist-packages (from requests>=2.19.0->evaluate) (2025.10.5)\n",
            "Requirement already satisfied: python-dateutil>=2.8.2 in /usr/local/lib/python3.12/dist-packages (from pandas->evaluate) (2.9.0.post0)\n",
            "Requirement already satisfied: pytz>=2020.1 in /usr/local/lib/python3.12/dist-packages (from pandas->evaluate) (2025.2)\n",
            "Requirement already satisfied: tzdata>=2022.7 in /usr/local/lib/python3.12/dist-packages (from pandas->evaluate) (2025.2)\n",
            "Requirement already satisfied: aiohappyeyeballs>=2.5.0 in /usr/local/lib/python3.12/dist-packages (from aiohttp!=4.0.0a0,!=4.0.0a1->fsspec[http]>=2021.05.0->evaluate) (2.6.1)\n",
            "Requirement already satisfied: aiosignal>=1.4.0 in /usr/local/lib/python3.12/dist-packages (from aiohttp!=4.0.0a0,!=4.0.0a1->fsspec[http]>=2021.05.0->evaluate) (1.4.0)\n",
            "Requirement already satisfied: attrs>=17.3.0 in /usr/local/lib/python3.12/dist-packages (from aiohttp!=4.0.0a0,!=4.0.0a1->fsspec[http]>=2021.05.0->evaluate) (25.4.0)\n",
            "Requirement already satisfied: frozenlist>=1.1.1 in /usr/local/lib/python3.12/dist-packages (from aiohttp!=4.0.0a0,!=4.0.0a1->fsspec[http]>=2021.05.0->evaluate) (1.8.0)\n",
            "Requirement already satisfied: multidict<7.0,>=4.5 in /usr/local/lib/python3.12/dist-packages (from aiohttp!=4.0.0a0,!=4.0.0a1->fsspec[http]>=2021.05.0->evaluate) (6.7.0)\n",
            "Requirement already satisfied: propcache>=0.2.0 in /usr/local/lib/python3.12/dist-packages (from aiohttp!=4.0.0a0,!=4.0.0a1->fsspec[http]>=2021.05.0->evaluate) (0.4.1)\n",
            "Requirement already satisfied: yarl<2.0,>=1.17.0 in /usr/local/lib/python3.12/dist-packages (from aiohttp!=4.0.0a0,!=4.0.0a1->fsspec[http]>=2021.05.0->evaluate) (1.22.0)\n",
            "Requirement already satisfied: six>=1.5 in /usr/local/lib/python3.12/dist-packages (from python-dateutil>=2.8.2->pandas->evaluate) (1.17.0)\n"
          ]
        }
      ],
      "source": [
        "# Install libraries\n",
        "!pip install transformers datasets evaluate tokenizers accelerate\n",
        "!pip install torch # or torch with GPU support if you have CUDA\n",
        "!pip install evaluate"
      ]
    },
    {
      "metadata": {
        "id": "a78ead49245bba83"
      },
      "cell_type": "markdown",
      "source": [
        "## Paso 1: Cargar las librerías"
      ],
      "id": "a78ead49245bba83"
    },
    {
      "metadata": {
        "id": "18009bc468d25c1c"
      },
      "cell_type": "code",
      "outputs": [],
      "execution_count": 2,
      "source": [
        "import numpy as np\n",
        "import evaluate\n",
        "import requests\n",
        "import json\n",
        "\n",
        "\n",
        "from transformers import AutoTokenizer, AutoModelForQuestionAnswering\n",
        "from transformers import Trainer, TrainingArguments\n",
        "from datasets import load_dataset, Dataset\n",
        "from huggingface_hub import notebook_login\n",
        "from datasets import Dataset"
      ],
      "id": "18009bc468d25c1c"
    },
    {
      "cell_type": "code",
      "source": [
        "import torch\n",
        "\n",
        "if torch.cuda.is_available():\n",
        "    print(\"✅ GPU is available!\")\n",
        "    print(\"GPU name:\", torch.cuda.get_device_name(0))\n",
        "else:\n",
        "    print(\"❌ GPU is not available.\")\n"
      ],
      "metadata": {
        "colab": {
          "base_uri": "https://localhost:8080/"
        },
        "id": "krPxmAY0KLRw",
        "outputId": "4690a600-5ce6-4717-e450-fe018695561a"
      },
      "id": "krPxmAY0KLRw",
      "execution_count": 3,
      "outputs": [
        {
          "output_type": "stream",
          "name": "stdout",
          "text": [
            "✅ GPU is available!\n",
            "GPU name: NVIDIA A100-SXM4-80GB\n"
          ]
        }
      ]
    },
    {
      "metadata": {
        "colab": {
          "base_uri": "https://localhost:8080/",
          "height": 331,
          "referenced_widgets": [
            "a0ae739f533f44ac9c705705815532d4",
            "681cc1030ce843e79faace2e4f0effb2",
            "9e67c067a4f544a6a2f351bdbad9dfc4",
            "4d03b4caa5224e64be179b22d5ca27d6",
            "989746d779c44b268d0d2e5acba9cdb8",
            "42c80498923945658df590960fb9ab7f",
            "51cbc0b85bb049b69ace6176fb62c7be",
            "fe8e8b538beb49a286d1778156b0cfe1",
            "d37569c7cfd2457391a15be2d3d05d99",
            "2eaa98ff392c45d9b2c25b7eb602c37c",
            "28e98ea7c0ec4ea2b95aef5ddb2e9f9d",
            "2ad270d1e5b44c1bb1ec6d561b017ac4",
            "c7ab24e2c30c419f96a932790f10dc9f",
            "8b911802f4c74337af9306e7b8139135",
            "d96e5731a01143828cab91b6396cfcfe",
            "d3736c1f74294ceaa26397ee7ead5190",
            "5a37279b60c640c5b56aa09ee5a8fb00"
          ]
        },
        "id": "aabf2e592efa5eb1",
        "outputId": "3a73ad29-6140-495b-fa64-ecf17a7d7228"
      },
      "cell_type": "code",
      "outputs": [
        {
          "output_type": "display_data",
          "data": {
            "text/plain": [
              "VBox(children=(HTML(value='<center> <img\\nsrc=https://huggingface.co/front/assets/huggingface_logo-noborder.sv…"
            ],
            "application/vnd.jupyter.widget-view+json": {
              "version_major": 2,
              "version_minor": 0,
              "model_id": "a0ae739f533f44ac9c705705815532d4"
            }
          },
          "metadata": {}
        }
      ],
      "execution_count": 4,
      "source": [
        "notebook_login()"
      ],
      "id": "aabf2e592efa5eb1"
    },
    {
      "metadata": {
        "id": "6b7af70018100388"
      },
      "cell_type": "markdown",
      "source": [
        "## Paso 2: Cargar los datos"
      ],
      "id": "6b7af70018100388"
    },
    {
      "cell_type": "code",
      "source": [
        "# URLs of the files\n",
        "urls = {\n",
        "    \"eval_colombia_mexico_dataset.json\": \"https://github.com/BlueAutomata/tesis-optimizacion-de-modelos-de-question-answering/raw/refs/heads/master/src/datasets/exploration_datasets/gold/eval_colombia_mexico_dataset.json\",\n",
        "    \"train_colombia_mexico_dataset.json\": \"https://github.com/BlueAutomata/tesis-optimizacion-de-modelos-de-question-answering/raw/refs/heads/master/src/datasets/exploration_datasets/gold/train_colombia_mexico_dataset.json\"\n",
        "}\n",
        "\n",
        "# Dictionary to store the loaded JSON data\n",
        "datasets = {}\n",
        "\n",
        "for filename, url in urls.items():\n",
        "    # Download the file\n",
        "    response = requests.get(url)\n",
        "    if response.status_code == 200:\n",
        "        # Save locally\n",
        "        with open(filename, \"wb\") as f:\n",
        "            f.write(response.content)\n",
        "        # Load JSON into Python\n",
        "        datasets[filename] = response.json()\n",
        "        print(f\"{filename} downloaded and loaded successfully!\")\n",
        "    else:\n",
        "        print(f\"Failed to download {filename}. Status code: {response.status_code}\")"
      ],
      "metadata": {
        "colab": {
          "base_uri": "https://localhost:8080/"
        },
        "id": "uUkTprjt-Olw",
        "outputId": "28241db3-0b07-4323-e5ec-71717f5875be"
      },
      "id": "uUkTprjt-Olw",
      "execution_count": 5,
      "outputs": [
        {
          "output_type": "stream",
          "name": "stdout",
          "text": [
            "eval_colombia_mexico_dataset.json downloaded and loaded successfully!\n",
            "train_colombia_mexico_dataset.json downloaded and loaded successfully!\n"
          ]
        }
      ]
    },
    {
      "cell_type": "code",
      "source": [
        "def flatten_squad_json(json_data):\n",
        "    flat_data = {\n",
        "        \"context\": [],\n",
        "        \"question\": [],\n",
        "        \"answers\": [],\n",
        "        \"id\": [],\n",
        "        \"is_impossible\": []\n",
        "    }\n",
        "    for article in json_data[\"data\"]:\n",
        "        for para in article[\"paragraphs\"]:\n",
        "            context = para[\"context\"]\n",
        "            for qa in para[\"qas\"]:\n",
        "                flat_data[\"context\"].append(context)\n",
        "                flat_data[\"question\"].append(qa[\"question\"])\n",
        "                flat_data[\"answers\"].append(qa[\"answers\"])\n",
        "                flat_data[\"id\"].append(qa[\"id\"])\n",
        "                flat_data[\"is_impossible\"].append(qa.get(\"is_impossible\", False))\n",
        "    return flat_data"
      ],
      "metadata": {
        "id": "paGBjyfO_env"
      },
      "id": "paGBjyfO_env",
      "execution_count": 6,
      "outputs": []
    },
    {
      "metadata": {
        "id": "c5f3fe120964c885"
      },
      "cell_type": "code",
      "outputs": [],
      "execution_count": 7,
      "source": [
        "# Example: load local dataset\n",
        "import json\n",
        "\n",
        "# Load local JSON files\n",
        "with open(\"train_colombia_mexico_dataset.json\") as f:\n",
        "    train_data = json.load(f)\n",
        "\n",
        "with open(\"eval_colombia_mexico_dataset.json\") as f:\n",
        "    eval_data = json.load(f)\n",
        "\n",
        "# Apply flattening\n",
        "train_flat = flatten_squad_json(train_data)\n",
        "eval_flat = flatten_squad_json(eval_data)\n",
        "\n",
        "\n",
        "train_dataset = Dataset.from_dict(train_flat)\n",
        "eval_dataset = Dataset.from_dict(eval_flat)\n"
      ],
      "id": "c5f3fe120964c885"
    },
    {
      "cell_type": "code",
      "source": [
        "train_dataset[1]"
      ],
      "metadata": {
        "colab": {
          "base_uri": "https://localhost:8080/"
        },
        "id": "09zFtbvMGOx3",
        "outputId": "a4374471-0882-446f-80b0-62aaa2474025"
      },
      "id": "09zFtbvMGOx3",
      "execution_count": 8,
      "outputs": [
        {
          "output_type": "execute_result",
          "data": {
            "text/plain": [
              "{'context': '. Este espíritu se inclinó por el camino de la luz difundida en el metauniverso sonoro. Tras pasar los primeros años de su adolescencia en la capital de Illinois, se mudó a San Francisco para perfeccionar sus estudios musicales. Ahí conoció a Blaine L. Reininger con quien creó Tuxedomoon, conjunto de experimentadores que en su tiempo fueron considerados como vanguardistas. Dejó Estados Unidos a principios de la década de 1980. Viró a Europa y se estableció en Bruselas (Bélgica) por 12 años. Luego de un viaje a México y tras degustar la naturaleza de nuestro país, pareció recordar su raíz real y decidió no dejarla. Era 1993. Primero estuvo en la Ciudad de México y luego se trasladó a Oaxaca (de donde sabía, sólo era tierra de artistas plásticos), pero la conoció y decidió ser parte de ella. Esteban Café o, Steven Brown es un hombre con la capacidad de ser invisible a través de la acústica (en sentido figurado), que hizo de estos terruños un laboratorio de creación. Ha formado grupos con ecléctica propuesta. Infinidad de proyectos: desde la musicalización de películas mudas clásicas hasta piezas para montajes de danza, teatro y moda. Creaciones en solitario con la ayuda de amigos, y colaboraciones con otros artistas sin parar desde 1983. En México formó Nine Rain, que hacía fusiones entre el jazz, el son jarocho, diversos ritmos latinos y el rock experimental. Ensamble Kafka y su música oaxaqueña actual (como la ha calificado). Cinema Domingo Orchestra, que musicaliza en vivo películas mudas y clásicas. También ha producido discos y se ha ido de gira con la Banda Regional Mixe de Oaxaca, una de las representaciones musicales de los sonidos de esa entidad. Llegué en julio de 1993 para quedarme, remarca a La Jornada el señor Café, creativo, activista conectado con la conciencia colectiva. Extiende algunos de sus recuerdos inolvidables: Llegar a México y quedarme en la casa de Illy Keller (uno de los originadores del punk en este país) a unas calles de la casa de Luis Buñuel. Llenar la Sala Nezahualcóyotl, una de las mejores de Latinoamérica, tocando con Blaine Reininger y Tuxedomoon. Ir con los zapatistas en Chiapas. Actuar en una película ( Salón México , versión de José Luis García Agraz) junto con grandes talentos. Cursar un diplomado de plantas medicinales en Cuernavaca. Ser víctima de un secuestro exprés. Estar en Oaxaca durante la rebelión social de 2006, como un remake de la comuna de París de 1871. Hacer una gira tocando música original para la película Qué Viva México , de Sergei Eisenstein. Continúa: Trabajar con la Banda Regional Mixe de Tlahuitoltepec haciendo discos, giras nacionales, europeas y en Rusia. Ir a Tlacotalpan (Veracruz) para la fiesta de la Candelaria y el festival de jaraneros Como tomas que se vuelven secuencias cinematográficas, Esteban, se hizo especialista en sonorizar filmes y hasta aparecer en ellos, despliega los acontecimientos que lo cimentaron en lares mexicanos. Rememora que en octubre de 93 vino su ex compañero Blaine para hacer un concierto en la sala Neza. Tuxedomoon nunca había tocado en México; se agotaron las entradas. Ese año, probó como actor en el remake del clásico del Indio Fernández de 1949, Salón México , donde aparecieron Blanca Guerra, Edith González y Demián Bichir entre otros. En 1994, celebrando con su familia en Estados Unidos, decide regresar a México luego del surgimiento del movimiento zapatista. Vino a participar en la primera Convención Nacional Democrática en la que se presentó el EZLN (Ejército Zapatista de Liberación Nacional). Dos años después, junto con dos compañeros de Nine Rain, hicimos una gira por Italia en beneficio del EZLN; con el dinero que mandamos, se apoyó la construcción de un hospital en la zona . La historia de activismo social de Steven se remonta a los años 70 como compartió cuando un grupo de indígenas en Chicago ocuparon un laboratorio gubernamental como protesta; él tenía 18 años y se fue con su cámara formato super 8 en mano para hacer entrevistas con los que protestaban; por esas mismas fechas asistí también al memorial para Fred Hampton, jefe local del Partido de las Panteras Negras que fue asesinado por policías en Chicago. En 1995, se acuerda Steven, entró en la Escuela Nacional de Antropología e Historia (ENAH) a tomar clases de náhuatl, y talleres de chamanismo y hongos, por si hacía falta. ¿Por qué estudiar náhuatl? , se pregunta Steven. Sabía que esta lengua era la lengua franca del México prehispánico; que la mayoría de los pueblos y ciudades del centro y sur del país tenían nombres en este idioma sin mencionar que millones de mexicanos aún lo hablan; cuando llegué a vivir en Bélgica, hice el esfuerzo por aprender francés, luego, trabajando cada año en Italia con Tuxedomoon, tomé clases de italiano. Es muy importante aprender la lengua de donde uno reside, es lo menos que se puede hacer para integrarse y agradecer a quienes nos reciben y permiten formar parte de su día a día . En los años noventa, de total aprendizaje, se adentró en un diplomado de plantas medicinales, tema que siempre me interesó y finalmente México, en este caso, Cuernavaca, me dio la oportunidad de entrar en este mundo de conocimiento. Otro hecho transcendental para mí , resaltó. Años más tarde, ya establecido y natural en México, Steven no se detuvo por ventarrón alguno y su esencia hiperactiva lo ha mantenido latente: muchos álbumes bajo su nombre y moviéndose. En 2009 obtuvo una nominación por parte de la academia mexicana de cine para el premio Ariel como mejor música por el documental El informe Toledo , sobre el recordado artista juchiteco. También participó en la creación de la banda sonora de Blue Velvet Revisited , documental sobre la realización de la película de David Lynch. Pero sin duda lo que más ama, como lo ha reafirmado en estas páginas, es Oaxaca, su paisaje y los inevitables encuentros diarios con los lados brillantes y oscuros de la historia y la cultura de México . Celebra 30 años de vivir aquí y va a festejarlo con un concierto junto con otros músicos como José Manuel Aguilera, quien perteneció a Nine Rain. Ha sido algo extraordinario , manifiestó. La cita es a las 20 horas el 25 de octubre en Eligio Ancona 145. Boletos en el Alicia, en Venas Rotas Discos, Animal Records y Marabunta Café.',\n",
              " 'question': '¿En qué año llegó Steven Brown a México?',\n",
              " 'answers': [{'answer_start': 626, 'text': '1993'}],\n",
              " 'id': 'qa-15743',\n",
              " 'is_impossible': False}"
            ]
          },
          "metadata": {},
          "execution_count": 8
        }
      ]
    },
    {
      "cell_type": "code",
      "source": [
        "for i in range(3):\n",
        "    print(\"ID:\", train_dataset[i][\"id\"])\n",
        "    print(\"Question:\", train_dataset[i][\"question\"])\n",
        "    print(\"Context snippet:\", train_dataset[i][\"context\"][:200], \"...\")\n",
        "    print(\"Answers:\", train_dataset[i][\"answers\"])\n",
        "    print(\"Is impossible:\", train_dataset[i][\"is_impossible\"])\n",
        "    print(\"-\" * 50)"
      ],
      "metadata": {
        "colab": {
          "base_uri": "https://localhost:8080/"
        },
        "id": "WvvJHgnHEsEy",
        "outputId": "09876e7b-e0c7-4274-d1b3-c6647dc5e738"
      },
      "id": "WvvJHgnHEsEy",
      "execution_count": 9,
      "outputs": [
        {
          "output_type": "stream",
          "name": "stdout",
          "text": [
            "ID: qa-15742\n",
            "Question: ¿Qué película musicalizó Steven Brown junto con la Banda Regional Mixe de Oaxaca?\n",
            "Context snippet: . Este espíritu se inclinó por el camino de la luz difundida en el metauniverso sonoro. Tras pasar los primeros años de su adolescencia en la capital de Illinois, se mudó a San Francisco para perfecci ...\n",
            "Answers: [{'answer_start': 2502, 'text': 'Qué Viva México'}]\n",
            "Is impossible: False\n",
            "--------------------------------------------------\n",
            "ID: qa-15743\n",
            "Question: ¿En qué año llegó Steven Brown a México?\n",
            "Context snippet: . Este espíritu se inclinó por el camino de la luz difundida en el metauniverso sonoro. Tras pasar los primeros años de su adolescencia en la capital de Illinois, se mudó a San Francisco para perfecci ...\n",
            "Answers: [{'answer_start': 626, 'text': '1993'}]\n",
            "Is impossible: False\n",
            "--------------------------------------------------\n",
            "ID: qa-15741\n",
            "Question: ¿Cuál es el nombre del conjunto que Steven Brown creó junto a Blaine L. Reininger?\n",
            "Context snippet: . Este espíritu se inclinó por el camino de la luz difundida en el metauniverso sonoro. Tras pasar los primeros años de su adolescencia en la capital de Illinois, se mudó a San Francisco para perfecci ...\n",
            "Answers: [{'answer_start': 278, 'text': 'Tuxedomoon'}]\n",
            "Is impossible: False\n",
            "--------------------------------------------------\n"
          ]
        }
      ]
    },
    {
      "metadata": {
        "id": "a983f292a24d5730"
      },
      "cell_type": "markdown",
      "source": [
        "## Paso 3: Cargar el tokenizador y el modelo"
      ],
      "id": "a983f292a24d5730"
    },
    {
      "metadata": {
        "colab": {
          "base_uri": "https://localhost:8080/"
        },
        "id": "981a79a81348aaf7",
        "outputId": "6fe04d9a-2140-48bf-8803-bcb5fbc71e9a"
      },
      "cell_type": "code",
      "outputs": [
        {
          "output_type": "stream",
          "name": "stderr",
          "text": [
            "Some weights of the model checkpoint at mrm8488/bert-base-spanish-wwm-cased-finetuned-spa-squad2-es were not used when initializing BertForQuestionAnswering: ['bert.pooler.dense.bias', 'bert.pooler.dense.weight']\n",
            "- This IS expected if you are initializing BertForQuestionAnswering from the checkpoint of a model trained on another task or with another architecture (e.g. initializing a BertForSequenceClassification model from a BertForPreTraining model).\n",
            "- This IS NOT expected if you are initializing BertForQuestionAnswering from the checkpoint of a model that you expect to be exactly identical (initializing a BertForSequenceClassification model from a BertForSequenceClassification model).\n"
          ]
        }
      ],
      "execution_count": 10,
      "source": [
        "model_name = \"mrm8488/bert-base-spanish-wwm-cased-finetuned-spa-squad2-es\"\n",
        "\n",
        "tokenizer = AutoTokenizer.from_pretrained(model_name)\n",
        "model = AutoModelForQuestionAnswering.from_pretrained(model_name)"
      ],
      "id": "981a79a81348aaf7"
    },
    {
      "metadata": {
        "id": "2a7b5a79e0c2086d"
      },
      "cell_type": "markdown",
      "source": [
        "## Paso 4: Preprocesar el conjunto de datos"
      ],
      "id": "2a7b5a79e0c2086d"
    },
    {
      "metadata": {
        "id": "dd6a0c58caad12cf"
      },
      "cell_type": "code",
      "outputs": [],
      "execution_count": 15,
      "source": [
        "def preprocess_function(examples):\n",
        "    tokenized_inputs = tokenizer(\n",
        "        examples[\"question\"],\n",
        "        examples[\"context\"],\n",
        "        max_length=384,\n",
        "        truncation=True,\n",
        "        padding=\"max_length\",\n",
        "    )\n",
        "\n",
        "    start_positions = []\n",
        "    end_positions = []\n",
        "\n",
        "    # Handle the first (and only) answer\n",
        "    answer = examples[\"answers\"][0] if len(examples[\"answers\"]) > 0 else {\"text\": [], \"answer_start\": 0}\n",
        "\n",
        "    if len(answer[\"text\"]) == 0:\n",
        "        start_positions.append(0)\n",
        "        end_positions.append(0)\n",
        "    else:\n",
        "        answer_start = answer[\"answer_start\"]\n",
        "        if isinstance(answer_start, list):  # in case it's a list\n",
        "            answer_start = answer_start[0]\n",
        "\n",
        "        answer_text = answer[\"text\"]\n",
        "        if isinstance(answer_text, list):\n",
        "            answer_text = answer_text[0]\n",
        "\n",
        "        answer_end = answer_start + len(answer_text)\n",
        "\n",
        "        offsets = tokenized_inputs.get(\"offset_mapping\", [(0, 0)] * len(tokenized_inputs[\"input_ids\"]))\n",
        "\n",
        "        # Find start token\n",
        "        token_start_index = 0\n",
        "        for idx, (start, end) in enumerate(offsets):\n",
        "            if start <= answer_start < end:\n",
        "                token_start_index = idx\n",
        "                break\n",
        "\n",
        "        # Find end token\n",
        "        token_end_index = len(offsets) - 1\n",
        "        for idx, (start, end) in enumerate(offsets):\n",
        "            if start < answer_end <= end:\n",
        "                token_end_index = idx\n",
        "                break\n",
        "\n",
        "        start_positions.append(token_start_index)\n",
        "        end_positions.append(token_end_index)\n",
        "\n",
        "    tokenized_inputs[\"start_positions\"] = start_positions\n",
        "    tokenized_inputs[\"end_positions\"] = end_positions\n",
        "\n",
        "    # Remove offsets to save memory\n",
        "    tokenized_inputs.pop(\"offset_mapping\", None)\n",
        "    return tokenized_inputs\n"
      ],
      "id": "dd6a0c58caad12cf"
    },
    {
      "cell_type": "code",
      "source": [
        "tokenized_train = train_dataset.map(\n",
        "    preprocess_function,\n",
        "    batched=False,  # <-- important\n",
        "    remove_columns=train_dataset.column_names\n",
        ")\n",
        "\n",
        "tokenized_eval = eval_dataset.map(\n",
        "    preprocess_function,\n",
        "    batched=False,\n",
        "    remove_columns=eval_dataset.column_names\n",
        ")\n"
      ],
      "metadata": {
        "colab": {
          "base_uri": "https://localhost:8080/",
          "height": 81,
          "referenced_widgets": [
            "a114651b34264a6c880728ee39cc58d3",
            "2e85daa05fdb4073be637bd9d1dd7b9a",
            "8bf14aa73fc440849b35e349ec196df2",
            "8b0593b868c04585ac0f6f8740d9b452",
            "a1a35654ed0b4237a1ea6be092e3601b",
            "eebcea6e02e14fd49de0763a5a960e24",
            "57fc96fdba3441d2aa9c466c30abaade",
            "02f5a0f14b45454a8846ab55014331c7",
            "3172eb1e6774435994fe49704578b4cc",
            "f8b4557e9b9b4d89a5a408e109864e55",
            "f6ce112fa6de4e2790cd40d350c3efb3",
            "6dfe42a2ab234daa8cf5fdde383db193",
            "a652438d9d234926a5cdedf088f80f39",
            "980f95a490164882bc04fb48d32f8aeb",
            "79b26bfa4b2245409abfa7744df5ac44",
            "b5e407e17ae34fa7aae1f43d39148737",
            "8d50abd544bc4c49a3c021c6c9a31868",
            "95c885bae43a450ea4b0f679591044c3",
            "9af1730c0b694c688075334a580f114c",
            "9ded5c2501d844b6a240f3e0442a9a03",
            "a08b3e2d73df476a9d6a445796aadcc1",
            "8da317b7dfc544119f193e14d0cd362d"
          ]
        },
        "id": "5OGA1TvnFdbl",
        "outputId": "75c21692-1386-4eb7-d071-715dff1bc6a6"
      },
      "id": "5OGA1TvnFdbl",
      "execution_count": 16,
      "outputs": [
        {
          "output_type": "display_data",
          "data": {
            "text/plain": [
              "Map:   0%|          | 0/14613 [00:00<?, ? examples/s]"
            ],
            "application/vnd.jupyter.widget-view+json": {
              "version_major": 2,
              "version_minor": 0,
              "model_id": "a114651b34264a6c880728ee39cc58d3"
            }
          },
          "metadata": {}
        },
        {
          "output_type": "display_data",
          "data": {
            "text/plain": [
              "Map:   0%|          | 0/6263 [00:00<?, ? examples/s]"
            ],
            "application/vnd.jupyter.widget-view+json": {
              "version_major": 2,
              "version_minor": 0,
              "model_id": "6dfe42a2ab234daa8cf5fdde383db193"
            }
          },
          "metadata": {}
        }
      ]
    },
    {
      "metadata": {
        "id": "1bf275d74f9f3d1c"
      },
      "cell_type": "markdown",
      "source": [
        "## Paso 5: Cargar las métricas de SQuAD"
      ],
      "id": "1bf275d74f9f3d1c"
    },
    {
      "metadata": {
        "id": "7dd70a92ffd8a5d9"
      },
      "cell_type": "code",
      "outputs": [],
      "execution_count": 17,
      "source": [
        "metric = evaluate.load(\"squad\")"
      ],
      "id": "7dd70a92ffd8a5d9"
    },
    {
      "metadata": {
        "id": "3e5c34ecb2cdb016"
      },
      "cell_type": "markdown",
      "source": [
        "## Paso 6: Definir una función de posprocesamiento"
      ],
      "id": "3e5c34ecb2cdb016"
    },
    {
      "metadata": {
        "id": "f37b8a22face4d2f"
      },
      "cell_type": "code",
      "outputs": [],
      "execution_count": 18,
      "source": [
        "def postprocess_qa_predictions(examples, features, raw_predictions, n_best_size=20):\n",
        "    all_start_logits, all_end_logits = raw_predictions\n",
        "    predictions = []\n",
        "\n",
        "    # For each example\n",
        "    for i, example in enumerate(examples):\n",
        "        feature = features[i]\n",
        "        start_logits = all_start_logits[i]\n",
        "        end_logits = all_end_logits[i]\n",
        "\n",
        "        # Get top start and end indexes\n",
        "        start_indexes = np.argsort(start_logits)[-n_best_size:]\n",
        "        end_indexes = np.argsort(end_logits)[-n_best_size:]\n",
        "\n",
        "        valid_answers = []\n",
        "        context = example[\"context\"]\n",
        "\n",
        "        for start_index in start_indexes:\n",
        "            for end_index in end_indexes:\n",
        "                if start_index <= end_index:\n",
        "                    start_char = feature[\"offset_mapping\"][start_index][0]\n",
        "                    end_char = feature[\"offset_mapping\"][end_index][1]\n",
        "                    valid_answers.append({\n",
        "                        \"text\": context[start_char:end_char],\n",
        "                        \"logit_score\": start_logits[start_index] + end_logits[end_index]\n",
        "                    })\n",
        "\n",
        "        if valid_answers:\n",
        "            best_answer = max(valid_answers, key=lambda x: x[\"logit_score\"])\n",
        "            predictions.append({\"id\": example[\"id\"], \"prediction_text\": best_answer[\"text\"]})\n",
        "        else:\n",
        "            predictions.append({\"id\": example[\"id\"], \"prediction_text\": \"\"})\n",
        "\n",
        "    return predictions\n"
      ],
      "id": "f37b8a22face4d2f"
    },
    {
      "metadata": {
        "id": "24bfeacc28604027"
      },
      "cell_type": "markdown",
      "source": [
        "## Paso 7: Definir la función compute_metrics para Trainer"
      ],
      "id": "24bfeacc28604027"
    },
    {
      "metadata": {
        "id": "832eeb8944a82327"
      },
      "cell_type": "code",
      "outputs": [],
      "execution_count": 19,
      "source": [
        "def compute_metrics(p):\n",
        "    predictions, labels = p\n",
        "    predictions_text = postprocess_qa_predictions(\n",
        "        eval_dataset, eval_dataset, predictions\n",
        "    )\n",
        "\n",
        "    references = [{\"id\": ex[\"id\"], \"answers\": ex[\"answers\"]} for ex in eval_dataset]\n",
        "\n",
        "    return metric.compute(predictions=predictions_text, references=references)"
      ],
      "id": "832eeb8944a82327"
    },
    {
      "metadata": {
        "id": "8372efd287bb71c5"
      },
      "cell_type": "markdown",
      "source": [
        "## Paso 5: Entrenamiento con el Trainer"
      ],
      "id": "8372efd287bb71c5"
    },
    {
      "metadata": {
        "colab": {
          "base_uri": "https://localhost:8080/"
        },
        "id": "4732d243d12833ec",
        "outputId": "d8907642-2269-48fe-b213-8110ad4b890c"
      },
      "cell_type": "code",
      "outputs": [
        {
          "output_type": "stream",
          "name": "stderr",
          "text": [
            "/tmp/ipython-input-1727467935.py:32: FutureWarning: `tokenizer` is deprecated and will be removed in version 5.0.0 for `Trainer.__init__`. Use `processing_class` instead.\n",
            "  trainer = Trainer(\n"
          ]
        }
      ],
      "execution_count": 20,
      "source": [
        "training_args = TrainingArguments(\n",
        "    output_dir=\"./bert-qa-spanish\",        # main output directory\n",
        "    overwrite_output_dir=True,             # overwrite old checkpoints\n",
        "\n",
        "    # Training\n",
        "    per_device_train_batch_size=8,         # matches previous 8\n",
        "    per_device_eval_batch_size=8,          # matches previous 8\n",
        "    gradient_accumulation_steps=1,         # can increase if VRAM limited\n",
        "    learning_rate=2e-5,                    # matches previous 2e-5\n",
        "    num_train_epochs=4,                     # matches previous 4\n",
        "    weight_decay=0.01,                     # regularization\n",
        "    warmup_steps=500,                      # optional for smoother training\n",
        "    fp16=True,                             # mixed precision for faster training\n",
        "\n",
        "    # Evaluation\n",
        "    eval_strategy=\"steps\",                 # evaluate every N steps\n",
        "    eval_steps=500,                        # same as previous\n",
        "    save_strategy=\"steps\",                 # save every N steps\n",
        "    save_steps=500,                        # save every 500 steps\n",
        "    save_total_limit=2,                    # keep last 2 checkpoints\n",
        "\n",
        "    # Best model\n",
        "    load_best_model_at_end=True,           # load best model after training\n",
        "    metric_for_best_model=\"f1\",            # use F1 to select best\n",
        "    greater_is_better=True,                # higher F1 is better\n",
        "    # Optional: log metrics for monitoring\n",
        "    logging_dir=\"./logs\",\n",
        "    logging_steps=100,\n",
        "    push_to_hub=True                        # upload to Hugging Face Hub\n",
        ")\n",
        "\n",
        "trainer = Trainer(\n",
        "    model=model,\n",
        "    args=training_args,\n",
        "    train_dataset=tokenized_train,\n",
        "    eval_dataset=tokenized_eval,\n",
        "    tokenizer=tokenizer,\n",
        "    compute_metrics=compute_metrics\n",
        ")"
      ],
      "id": "4732d243d12833ec"
    },
    {
      "metadata": {
        "colab": {
          "base_uri": "https://localhost:8080/",
          "height": 203
        },
        "id": "132cfa2a03cbeaeb",
        "outputId": "b70d8cbf-a91d-4c0d-95d3-34f4bc81c190"
      },
      "cell_type": "code",
      "outputs": [
        {
          "output_type": "stream",
          "name": "stderr",
          "text": [
            "\u001b[34m\u001b[1mwandb\u001b[0m: Currently logged in as: \u001b[33mguillermo-luigui-nieto\u001b[0m (\u001b[33mluigui\u001b[0m) to \u001b[32mhttps://api.wandb.ai\u001b[0m. Use \u001b[1m`wandb login --relogin`\u001b[0m to force relogin\n"
          ]
        },
        {
          "output_type": "display_data",
          "data": {
            "text/plain": [
              "<IPython.core.display.HTML object>"
            ],
            "text/html": []
          },
          "metadata": {}
        },
        {
          "output_type": "display_data",
          "data": {
            "text/plain": [
              "<IPython.core.display.HTML object>"
            ],
            "text/html": [
              "Tracking run with wandb version 0.22.2"
            ]
          },
          "metadata": {}
        },
        {
          "output_type": "display_data",
          "data": {
            "text/plain": [
              "<IPython.core.display.HTML object>"
            ],
            "text/html": [
              "Run data is saved locally in <code>/content/wandb/run-20251026_202338-gmucg3ou</code>"
            ]
          },
          "metadata": {}
        },
        {
          "output_type": "display_data",
          "data": {
            "text/plain": [
              "<IPython.core.display.HTML object>"
            ],
            "text/html": [
              "Syncing run <strong><a href='https://wandb.ai/luigui/huggingface/runs/gmucg3ou' target=\"_blank\">resilient-voice-2</a></strong> to <a href='https://wandb.ai/luigui/huggingface' target=\"_blank\">Weights & Biases</a> (<a href='https://wandb.me/developer-guide' target=\"_blank\">docs</a>)<br>"
            ]
          },
          "metadata": {}
        },
        {
          "output_type": "display_data",
          "data": {
            "text/plain": [
              "<IPython.core.display.HTML object>"
            ],
            "text/html": [
              " View project at <a href='https://wandb.ai/luigui/huggingface' target=\"_blank\">https://wandb.ai/luigui/huggingface</a>"
            ]
          },
          "metadata": {}
        },
        {
          "output_type": "display_data",
          "data": {
            "text/plain": [
              "<IPython.core.display.HTML object>"
            ],
            "text/html": [
              " View run at <a href='https://wandb.ai/luigui/huggingface/runs/gmucg3ou' target=\"_blank\">https://wandb.ai/luigui/huggingface/runs/gmucg3ou</a>"
            ]
          },
          "metadata": {}
        },
        {
          "output_type": "display_data",
          "data": {
            "text/plain": [
              "<IPython.core.display.HTML object>"
            ],
            "text/html": [
              "\n",
              "    <div>\n",
              "      \n",
              "      <progress value='501' max='7308' style='width:300px; height:20px; vertical-align: middle;'></progress>\n",
              "      [ 499/7308 00:25 < 05:53, 19.27 it/s, Epoch 0.27/4]\n",
              "    </div>\n",
              "    <table border=\"1\" class=\"dataframe\">\n",
              "  <thead>\n",
              " <tr style=\"text-align: left;\">\n",
              "      <th>Step</th>\n",
              "      <th>Training Loss</th>\n",
              "      <th>Validation Loss</th>\n",
              "    </tr>\n",
              "  </thead>\n",
              "  <tbody>\n",
              "  </tbody>\n",
              "</table><p>\n",
              "    <div>\n",
              "      \n",
              "      <progress value='365' max='783' style='width:300px; height:20px; vertical-align: middle;'></progress>\n",
              "      [365/783 00:07 < 00:08, 46.60 it/s]\n",
              "    </div>\n",
              "    "
            ]
          },
          "metadata": {}
        }
      ],
      "execution_count": null,
      "source": [
        "trainer.train()"
      ],
      "id": "132cfa2a03cbeaeb"
    },
    {
      "metadata": {
        "id": "75e97190703eab26"
      },
      "cell_type": "markdown",
      "source": [
        "## Paso 6: Subir al Hub de Hugging Face"
      ],
      "id": "75e97190703eab26"
    },
    {
      "metadata": {
        "id": "a6c410570a78285a"
      },
      "cell_type": "code",
      "outputs": [],
      "execution_count": null,
      "source": [
        "trainer.push_to_hub(\n",
        "    \"luigui/bert-base-spanish-wwm-cased-news-qa-colombia-mexico\",\n",
        "    description=\"BERT-base Spanish WWM cased model fine-tuned for extractive QA on news articles from Colombia and Mexico.\",\n",
        "    tags=[\"spanish\", \"qa\", \"news\", \"colombia\", \"mexico\", \"bert-base\", \"wwm\", \"cased\"]\n",
        ")"
      ],
      "id": "a6c410570a78285a"
    }
  ],
  "metadata": {
    "kernelspec": {
      "display_name": "Python 3",
      "name": "python3"
    },
    "language_info": {
      "codemirror_mode": {
        "name": "ipython",
        "version": 2
      },
      "file_extension": ".py",
      "mimetype": "text/x-python",
      "name": "python",
      "nbconvert_exporter": "python",
      "pygments_lexer": "ipython2",
      "version": "2.7.6"
    },
    "colab": {
      "provenance": [],
      "machine_shape": "hm",
      "gpuType": "A100"
    },
    "accelerator": "GPU",
    "widgets": {
      "application/vnd.jupyter.widget-state+json": {
        "a0ae739f533f44ac9c705705815532d4": {
          "model_module": "@jupyter-widgets/controls",
          "model_name": "VBoxModel",
          "model_module_version": "1.5.0",
          "state": {
            "_dom_classes": [],
            "_model_module": "@jupyter-widgets/controls",
            "_model_module_version": "1.5.0",
            "_model_name": "VBoxModel",
            "_view_count": null,
            "_view_module": "@jupyter-widgets/controls",
            "_view_module_version": "1.5.0",
            "_view_name": "VBoxView",
            "box_style": "",
            "children": [
              "IPY_MODEL_681cc1030ce843e79faace2e4f0effb2",
              "IPY_MODEL_9e67c067a4f544a6a2f351bdbad9dfc4",
              "IPY_MODEL_4d03b4caa5224e64be179b22d5ca27d6",
              "IPY_MODEL_989746d779c44b268d0d2e5acba9cdb8",
              "IPY_MODEL_42c80498923945658df590960fb9ab7f"
            ],
            "layout": "IPY_MODEL_51cbc0b85bb049b69ace6176fb62c7be"
          }
        },
        "681cc1030ce843e79faace2e4f0effb2": {
          "model_module": "@jupyter-widgets/controls",
          "model_name": "HTMLModel",
          "model_module_version": "1.5.0",
          "state": {
            "_dom_classes": [],
            "_model_module": "@jupyter-widgets/controls",
            "_model_module_version": "1.5.0",
            "_model_name": "HTMLModel",
            "_view_count": null,
            "_view_module": "@jupyter-widgets/controls",
            "_view_module_version": "1.5.0",
            "_view_name": "HTMLView",
            "description": "",
            "description_tooltip": null,
            "layout": "IPY_MODEL_fe8e8b538beb49a286d1778156b0cfe1",
            "placeholder": "​",
            "style": "IPY_MODEL_d37569c7cfd2457391a15be2d3d05d99",
            "value": "<center> <img\nsrc=https://huggingface.co/front/assets/huggingface_logo-noborder.svg\nalt='Hugging Face'> <br> Copy a token from <a\nhref=\"https://huggingface.co/settings/tokens\" target=\"_blank\">your Hugging Face\ntokens page</a> and paste it below. <br> Immediately click login after copying\nyour token or it might be stored in plain text in this notebook file. </center>"
          }
        },
        "9e67c067a4f544a6a2f351bdbad9dfc4": {
          "model_module": "@jupyter-widgets/controls",
          "model_name": "PasswordModel",
          "model_module_version": "1.5.0",
          "state": {
            "_dom_classes": [],
            "_model_module": "@jupyter-widgets/controls",
            "_model_module_version": "1.5.0",
            "_model_name": "PasswordModel",
            "_view_count": null,
            "_view_module": "@jupyter-widgets/controls",
            "_view_module_version": "1.5.0",
            "_view_name": "PasswordView",
            "continuous_update": true,
            "description": "Token:",
            "description_tooltip": null,
            "disabled": false,
            "layout": "IPY_MODEL_2eaa98ff392c45d9b2c25b7eb602c37c",
            "placeholder": "​",
            "style": "IPY_MODEL_28e98ea7c0ec4ea2b95aef5ddb2e9f9d",
            "value": ""
          }
        },
        "4d03b4caa5224e64be179b22d5ca27d6": {
          "model_module": "@jupyter-widgets/controls",
          "model_name": "CheckboxModel",
          "model_module_version": "1.5.0",
          "state": {
            "_dom_classes": [],
            "_model_module": "@jupyter-widgets/controls",
            "_model_module_version": "1.5.0",
            "_model_name": "CheckboxModel",
            "_view_count": null,
            "_view_module": "@jupyter-widgets/controls",
            "_view_module_version": "1.5.0",
            "_view_name": "CheckboxView",
            "description": "Add token as git credential?",
            "description_tooltip": null,
            "disabled": false,
            "indent": true,
            "layout": "IPY_MODEL_2ad270d1e5b44c1bb1ec6d561b017ac4",
            "style": "IPY_MODEL_c7ab24e2c30c419f96a932790f10dc9f",
            "value": true
          }
        },
        "989746d779c44b268d0d2e5acba9cdb8": {
          "model_module": "@jupyter-widgets/controls",
          "model_name": "ButtonModel",
          "model_module_version": "1.5.0",
          "state": {
            "_dom_classes": [],
            "_model_module": "@jupyter-widgets/controls",
            "_model_module_version": "1.5.0",
            "_model_name": "ButtonModel",
            "_view_count": null,
            "_view_module": "@jupyter-widgets/controls",
            "_view_module_version": "1.5.0",
            "_view_name": "ButtonView",
            "button_style": "",
            "description": "Login",
            "disabled": false,
            "icon": "",
            "layout": "IPY_MODEL_8b911802f4c74337af9306e7b8139135",
            "style": "IPY_MODEL_d96e5731a01143828cab91b6396cfcfe",
            "tooltip": ""
          }
        },
        "42c80498923945658df590960fb9ab7f": {
          "model_module": "@jupyter-widgets/controls",
          "model_name": "HTMLModel",
          "model_module_version": "1.5.0",
          "state": {
            "_dom_classes": [],
            "_model_module": "@jupyter-widgets/controls",
            "_model_module_version": "1.5.0",
            "_model_name": "HTMLModel",
            "_view_count": null,
            "_view_module": "@jupyter-widgets/controls",
            "_view_module_version": "1.5.0",
            "_view_name": "HTMLView",
            "description": "",
            "description_tooltip": null,
            "layout": "IPY_MODEL_d3736c1f74294ceaa26397ee7ead5190",
            "placeholder": "​",
            "style": "IPY_MODEL_5a37279b60c640c5b56aa09ee5a8fb00",
            "value": "\n<b>Pro Tip:</b> If you don't already have one, you can create a dedicated\n'notebooks' token with 'write' access, that you can then easily reuse for all\nnotebooks. </center>"
          }
        },
        "51cbc0b85bb049b69ace6176fb62c7be": {
          "model_module": "@jupyter-widgets/base",
          "model_name": "LayoutModel",
          "model_module_version": "1.2.0",
          "state": {
            "_model_module": "@jupyter-widgets/base",
            "_model_module_version": "1.2.0",
            "_model_name": "LayoutModel",
            "_view_count": null,
            "_view_module": "@jupyter-widgets/base",
            "_view_module_version": "1.2.0",
            "_view_name": "LayoutView",
            "align_content": null,
            "align_items": "center",
            "align_self": null,
            "border": null,
            "bottom": null,
            "display": "flex",
            "flex": null,
            "flex_flow": "column",
            "grid_area": null,
            "grid_auto_columns": null,
            "grid_auto_flow": null,
            "grid_auto_rows": null,
            "grid_column": null,
            "grid_gap": null,
            "grid_row": null,
            "grid_template_areas": null,
            "grid_template_columns": null,
            "grid_template_rows": null,
            "height": null,
            "justify_content": null,
            "justify_items": null,
            "left": null,
            "margin": null,
            "max_height": null,
            "max_width": null,
            "min_height": null,
            "min_width": null,
            "object_fit": null,
            "object_position": null,
            "order": null,
            "overflow": null,
            "overflow_x": null,
            "overflow_y": null,
            "padding": null,
            "right": null,
            "top": null,
            "visibility": null,
            "width": "50%"
          }
        },
        "fe8e8b538beb49a286d1778156b0cfe1": {
          "model_module": "@jupyter-widgets/base",
          "model_name": "LayoutModel",
          "model_module_version": "1.2.0",
          "state": {
            "_model_module": "@jupyter-widgets/base",
            "_model_module_version": "1.2.0",
            "_model_name": "LayoutModel",
            "_view_count": null,
            "_view_module": "@jupyter-widgets/base",
            "_view_module_version": "1.2.0",
            "_view_name": "LayoutView",
            "align_content": null,
            "align_items": null,
            "align_self": null,
            "border": null,
            "bottom": null,
            "display": null,
            "flex": null,
            "flex_flow": null,
            "grid_area": null,
            "grid_auto_columns": null,
            "grid_auto_flow": null,
            "grid_auto_rows": null,
            "grid_column": null,
            "grid_gap": null,
            "grid_row": null,
            "grid_template_areas": null,
            "grid_template_columns": null,
            "grid_template_rows": null,
            "height": null,
            "justify_content": null,
            "justify_items": null,
            "left": null,
            "margin": null,
            "max_height": null,
            "max_width": null,
            "min_height": null,
            "min_width": null,
            "object_fit": null,
            "object_position": null,
            "order": null,
            "overflow": null,
            "overflow_x": null,
            "overflow_y": null,
            "padding": null,
            "right": null,
            "top": null,
            "visibility": null,
            "width": null
          }
        },
        "d37569c7cfd2457391a15be2d3d05d99": {
          "model_module": "@jupyter-widgets/controls",
          "model_name": "DescriptionStyleModel",
          "model_module_version": "1.5.0",
          "state": {
            "_model_module": "@jupyter-widgets/controls",
            "_model_module_version": "1.5.0",
            "_model_name": "DescriptionStyleModel",
            "_view_count": null,
            "_view_module": "@jupyter-widgets/base",
            "_view_module_version": "1.2.0",
            "_view_name": "StyleView",
            "description_width": ""
          }
        },
        "2eaa98ff392c45d9b2c25b7eb602c37c": {
          "model_module": "@jupyter-widgets/base",
          "model_name": "LayoutModel",
          "model_module_version": "1.2.0",
          "state": {
            "_model_module": "@jupyter-widgets/base",
            "_model_module_version": "1.2.0",
            "_model_name": "LayoutModel",
            "_view_count": null,
            "_view_module": "@jupyter-widgets/base",
            "_view_module_version": "1.2.0",
            "_view_name": "LayoutView",
            "align_content": null,
            "align_items": null,
            "align_self": null,
            "border": null,
            "bottom": null,
            "display": null,
            "flex": null,
            "flex_flow": null,
            "grid_area": null,
            "grid_auto_columns": null,
            "grid_auto_flow": null,
            "grid_auto_rows": null,
            "grid_column": null,
            "grid_gap": null,
            "grid_row": null,
            "grid_template_areas": null,
            "grid_template_columns": null,
            "grid_template_rows": null,
            "height": null,
            "justify_content": null,
            "justify_items": null,
            "left": null,
            "margin": null,
            "max_height": null,
            "max_width": null,
            "min_height": null,
            "min_width": null,
            "object_fit": null,
            "object_position": null,
            "order": null,
            "overflow": null,
            "overflow_x": null,
            "overflow_y": null,
            "padding": null,
            "right": null,
            "top": null,
            "visibility": null,
            "width": null
          }
        },
        "28e98ea7c0ec4ea2b95aef5ddb2e9f9d": {
          "model_module": "@jupyter-widgets/controls",
          "model_name": "DescriptionStyleModel",
          "model_module_version": "1.5.0",
          "state": {
            "_model_module": "@jupyter-widgets/controls",
            "_model_module_version": "1.5.0",
            "_model_name": "DescriptionStyleModel",
            "_view_count": null,
            "_view_module": "@jupyter-widgets/base",
            "_view_module_version": "1.2.0",
            "_view_name": "StyleView",
            "description_width": ""
          }
        },
        "2ad270d1e5b44c1bb1ec6d561b017ac4": {
          "model_module": "@jupyter-widgets/base",
          "model_name": "LayoutModel",
          "model_module_version": "1.2.0",
          "state": {
            "_model_module": "@jupyter-widgets/base",
            "_model_module_version": "1.2.0",
            "_model_name": "LayoutModel",
            "_view_count": null,
            "_view_module": "@jupyter-widgets/base",
            "_view_module_version": "1.2.0",
            "_view_name": "LayoutView",
            "align_content": null,
            "align_items": null,
            "align_self": null,
            "border": null,
            "bottom": null,
            "display": null,
            "flex": null,
            "flex_flow": null,
            "grid_area": null,
            "grid_auto_columns": null,
            "grid_auto_flow": null,
            "grid_auto_rows": null,
            "grid_column": null,
            "grid_gap": null,
            "grid_row": null,
            "grid_template_areas": null,
            "grid_template_columns": null,
            "grid_template_rows": null,
            "height": null,
            "justify_content": null,
            "justify_items": null,
            "left": null,
            "margin": null,
            "max_height": null,
            "max_width": null,
            "min_height": null,
            "min_width": null,
            "object_fit": null,
            "object_position": null,
            "order": null,
            "overflow": null,
            "overflow_x": null,
            "overflow_y": null,
            "padding": null,
            "right": null,
            "top": null,
            "visibility": null,
            "width": null
          }
        },
        "c7ab24e2c30c419f96a932790f10dc9f": {
          "model_module": "@jupyter-widgets/controls",
          "model_name": "DescriptionStyleModel",
          "model_module_version": "1.5.0",
          "state": {
            "_model_module": "@jupyter-widgets/controls",
            "_model_module_version": "1.5.0",
            "_model_name": "DescriptionStyleModel",
            "_view_count": null,
            "_view_module": "@jupyter-widgets/base",
            "_view_module_version": "1.2.0",
            "_view_name": "StyleView",
            "description_width": ""
          }
        },
        "8b911802f4c74337af9306e7b8139135": {
          "model_module": "@jupyter-widgets/base",
          "model_name": "LayoutModel",
          "model_module_version": "1.2.0",
          "state": {
            "_model_module": "@jupyter-widgets/base",
            "_model_module_version": "1.2.0",
            "_model_name": "LayoutModel",
            "_view_count": null,
            "_view_module": "@jupyter-widgets/base",
            "_view_module_version": "1.2.0",
            "_view_name": "LayoutView",
            "align_content": null,
            "align_items": null,
            "align_self": null,
            "border": null,
            "bottom": null,
            "display": null,
            "flex": null,
            "flex_flow": null,
            "grid_area": null,
            "grid_auto_columns": null,
            "grid_auto_flow": null,
            "grid_auto_rows": null,
            "grid_column": null,
            "grid_gap": null,
            "grid_row": null,
            "grid_template_areas": null,
            "grid_template_columns": null,
            "grid_template_rows": null,
            "height": null,
            "justify_content": null,
            "justify_items": null,
            "left": null,
            "margin": null,
            "max_height": null,
            "max_width": null,
            "min_height": null,
            "min_width": null,
            "object_fit": null,
            "object_position": null,
            "order": null,
            "overflow": null,
            "overflow_x": null,
            "overflow_y": null,
            "padding": null,
            "right": null,
            "top": null,
            "visibility": null,
            "width": null
          }
        },
        "d96e5731a01143828cab91b6396cfcfe": {
          "model_module": "@jupyter-widgets/controls",
          "model_name": "ButtonStyleModel",
          "model_module_version": "1.5.0",
          "state": {
            "_model_module": "@jupyter-widgets/controls",
            "_model_module_version": "1.5.0",
            "_model_name": "ButtonStyleModel",
            "_view_count": null,
            "_view_module": "@jupyter-widgets/base",
            "_view_module_version": "1.2.0",
            "_view_name": "StyleView",
            "button_color": null,
            "font_weight": ""
          }
        },
        "d3736c1f74294ceaa26397ee7ead5190": {
          "model_module": "@jupyter-widgets/base",
          "model_name": "LayoutModel",
          "model_module_version": "1.2.0",
          "state": {
            "_model_module": "@jupyter-widgets/base",
            "_model_module_version": "1.2.0",
            "_model_name": "LayoutModel",
            "_view_count": null,
            "_view_module": "@jupyter-widgets/base",
            "_view_module_version": "1.2.0",
            "_view_name": "LayoutView",
            "align_content": null,
            "align_items": null,
            "align_self": null,
            "border": null,
            "bottom": null,
            "display": null,
            "flex": null,
            "flex_flow": null,
            "grid_area": null,
            "grid_auto_columns": null,
            "grid_auto_flow": null,
            "grid_auto_rows": null,
            "grid_column": null,
            "grid_gap": null,
            "grid_row": null,
            "grid_template_areas": null,
            "grid_template_columns": null,
            "grid_template_rows": null,
            "height": null,
            "justify_content": null,
            "justify_items": null,
            "left": null,
            "margin": null,
            "max_height": null,
            "max_width": null,
            "min_height": null,
            "min_width": null,
            "object_fit": null,
            "object_position": null,
            "order": null,
            "overflow": null,
            "overflow_x": null,
            "overflow_y": null,
            "padding": null,
            "right": null,
            "top": null,
            "visibility": null,
            "width": null
          }
        },
        "5a37279b60c640c5b56aa09ee5a8fb00": {
          "model_module": "@jupyter-widgets/controls",
          "model_name": "DescriptionStyleModel",
          "model_module_version": "1.5.0",
          "state": {
            "_model_module": "@jupyter-widgets/controls",
            "_model_module_version": "1.5.0",
            "_model_name": "DescriptionStyleModel",
            "_view_count": null,
            "_view_module": "@jupyter-widgets/base",
            "_view_module_version": "1.2.0",
            "_view_name": "StyleView",
            "description_width": ""
          }
        },
        "a114651b34264a6c880728ee39cc58d3": {
          "model_module": "@jupyter-widgets/controls",
          "model_name": "HBoxModel",
          "model_module_version": "1.5.0",
          "state": {
            "_dom_classes": [],
            "_model_module": "@jupyter-widgets/controls",
            "_model_module_version": "1.5.0",
            "_model_name": "HBoxModel",
            "_view_count": null,
            "_view_module": "@jupyter-widgets/controls",
            "_view_module_version": "1.5.0",
            "_view_name": "HBoxView",
            "box_style": "",
            "children": [
              "IPY_MODEL_2e85daa05fdb4073be637bd9d1dd7b9a",
              "IPY_MODEL_8bf14aa73fc440849b35e349ec196df2",
              "IPY_MODEL_8b0593b868c04585ac0f6f8740d9b452"
            ],
            "layout": "IPY_MODEL_a1a35654ed0b4237a1ea6be092e3601b"
          }
        },
        "2e85daa05fdb4073be637bd9d1dd7b9a": {
          "model_module": "@jupyter-widgets/controls",
          "model_name": "HTMLModel",
          "model_module_version": "1.5.0",
          "state": {
            "_dom_classes": [],
            "_model_module": "@jupyter-widgets/controls",
            "_model_module_version": "1.5.0",
            "_model_name": "HTMLModel",
            "_view_count": null,
            "_view_module": "@jupyter-widgets/controls",
            "_view_module_version": "1.5.0",
            "_view_name": "HTMLView",
            "description": "",
            "description_tooltip": null,
            "layout": "IPY_MODEL_eebcea6e02e14fd49de0763a5a960e24",
            "placeholder": "​",
            "style": "IPY_MODEL_57fc96fdba3441d2aa9c466c30abaade",
            "value": "Map: 100%"
          }
        },
        "8bf14aa73fc440849b35e349ec196df2": {
          "model_module": "@jupyter-widgets/controls",
          "model_name": "FloatProgressModel",
          "model_module_version": "1.5.0",
          "state": {
            "_dom_classes": [],
            "_model_module": "@jupyter-widgets/controls",
            "_model_module_version": "1.5.0",
            "_model_name": "FloatProgressModel",
            "_view_count": null,
            "_view_module": "@jupyter-widgets/controls",
            "_view_module_version": "1.5.0",
            "_view_name": "ProgressView",
            "bar_style": "success",
            "description": "",
            "description_tooltip": null,
            "layout": "IPY_MODEL_02f5a0f14b45454a8846ab55014331c7",
            "max": 14613,
            "min": 0,
            "orientation": "horizontal",
            "style": "IPY_MODEL_3172eb1e6774435994fe49704578b4cc",
            "value": 14613
          }
        },
        "8b0593b868c04585ac0f6f8740d9b452": {
          "model_module": "@jupyter-widgets/controls",
          "model_name": "HTMLModel",
          "model_module_version": "1.5.0",
          "state": {
            "_dom_classes": [],
            "_model_module": "@jupyter-widgets/controls",
            "_model_module_version": "1.5.0",
            "_model_name": "HTMLModel",
            "_view_count": null,
            "_view_module": "@jupyter-widgets/controls",
            "_view_module_version": "1.5.0",
            "_view_name": "HTMLView",
            "description": "",
            "description_tooltip": null,
            "layout": "IPY_MODEL_f8b4557e9b9b4d89a5a408e109864e55",
            "placeholder": "​",
            "style": "IPY_MODEL_f6ce112fa6de4e2790cd40d350c3efb3",
            "value": " 14613/14613 [00:44&lt;00:00, 319.73 examples/s]"
          }
        },
        "a1a35654ed0b4237a1ea6be092e3601b": {
          "model_module": "@jupyter-widgets/base",
          "model_name": "LayoutModel",
          "model_module_version": "1.2.0",
          "state": {
            "_model_module": "@jupyter-widgets/base",
            "_model_module_version": "1.2.0",
            "_model_name": "LayoutModel",
            "_view_count": null,
            "_view_module": "@jupyter-widgets/base",
            "_view_module_version": "1.2.0",
            "_view_name": "LayoutView",
            "align_content": null,
            "align_items": null,
            "align_self": null,
            "border": null,
            "bottom": null,
            "display": null,
            "flex": null,
            "flex_flow": null,
            "grid_area": null,
            "grid_auto_columns": null,
            "grid_auto_flow": null,
            "grid_auto_rows": null,
            "grid_column": null,
            "grid_gap": null,
            "grid_row": null,
            "grid_template_areas": null,
            "grid_template_columns": null,
            "grid_template_rows": null,
            "height": null,
            "justify_content": null,
            "justify_items": null,
            "left": null,
            "margin": null,
            "max_height": null,
            "max_width": null,
            "min_height": null,
            "min_width": null,
            "object_fit": null,
            "object_position": null,
            "order": null,
            "overflow": null,
            "overflow_x": null,
            "overflow_y": null,
            "padding": null,
            "right": null,
            "top": null,
            "visibility": null,
            "width": null
          }
        },
        "eebcea6e02e14fd49de0763a5a960e24": {
          "model_module": "@jupyter-widgets/base",
          "model_name": "LayoutModel",
          "model_module_version": "1.2.0",
          "state": {
            "_model_module": "@jupyter-widgets/base",
            "_model_module_version": "1.2.0",
            "_model_name": "LayoutModel",
            "_view_count": null,
            "_view_module": "@jupyter-widgets/base",
            "_view_module_version": "1.2.0",
            "_view_name": "LayoutView",
            "align_content": null,
            "align_items": null,
            "align_self": null,
            "border": null,
            "bottom": null,
            "display": null,
            "flex": null,
            "flex_flow": null,
            "grid_area": null,
            "grid_auto_columns": null,
            "grid_auto_flow": null,
            "grid_auto_rows": null,
            "grid_column": null,
            "grid_gap": null,
            "grid_row": null,
            "grid_template_areas": null,
            "grid_template_columns": null,
            "grid_template_rows": null,
            "height": null,
            "justify_content": null,
            "justify_items": null,
            "left": null,
            "margin": null,
            "max_height": null,
            "max_width": null,
            "min_height": null,
            "min_width": null,
            "object_fit": null,
            "object_position": null,
            "order": null,
            "overflow": null,
            "overflow_x": null,
            "overflow_y": null,
            "padding": null,
            "right": null,
            "top": null,
            "visibility": null,
            "width": null
          }
        },
        "57fc96fdba3441d2aa9c466c30abaade": {
          "model_module": "@jupyter-widgets/controls",
          "model_name": "DescriptionStyleModel",
          "model_module_version": "1.5.0",
          "state": {
            "_model_module": "@jupyter-widgets/controls",
            "_model_module_version": "1.5.0",
            "_model_name": "DescriptionStyleModel",
            "_view_count": null,
            "_view_module": "@jupyter-widgets/base",
            "_view_module_version": "1.2.0",
            "_view_name": "StyleView",
            "description_width": ""
          }
        },
        "02f5a0f14b45454a8846ab55014331c7": {
          "model_module": "@jupyter-widgets/base",
          "model_name": "LayoutModel",
          "model_module_version": "1.2.0",
          "state": {
            "_model_module": "@jupyter-widgets/base",
            "_model_module_version": "1.2.0",
            "_model_name": "LayoutModel",
            "_view_count": null,
            "_view_module": "@jupyter-widgets/base",
            "_view_module_version": "1.2.0",
            "_view_name": "LayoutView",
            "align_content": null,
            "align_items": null,
            "align_self": null,
            "border": null,
            "bottom": null,
            "display": null,
            "flex": null,
            "flex_flow": null,
            "grid_area": null,
            "grid_auto_columns": null,
            "grid_auto_flow": null,
            "grid_auto_rows": null,
            "grid_column": null,
            "grid_gap": null,
            "grid_row": null,
            "grid_template_areas": null,
            "grid_template_columns": null,
            "grid_template_rows": null,
            "height": null,
            "justify_content": null,
            "justify_items": null,
            "left": null,
            "margin": null,
            "max_height": null,
            "max_width": null,
            "min_height": null,
            "min_width": null,
            "object_fit": null,
            "object_position": null,
            "order": null,
            "overflow": null,
            "overflow_x": null,
            "overflow_y": null,
            "padding": null,
            "right": null,
            "top": null,
            "visibility": null,
            "width": null
          }
        },
        "3172eb1e6774435994fe49704578b4cc": {
          "model_module": "@jupyter-widgets/controls",
          "model_name": "ProgressStyleModel",
          "model_module_version": "1.5.0",
          "state": {
            "_model_module": "@jupyter-widgets/controls",
            "_model_module_version": "1.5.0",
            "_model_name": "ProgressStyleModel",
            "_view_count": null,
            "_view_module": "@jupyter-widgets/base",
            "_view_module_version": "1.2.0",
            "_view_name": "StyleView",
            "bar_color": null,
            "description_width": ""
          }
        },
        "f8b4557e9b9b4d89a5a408e109864e55": {
          "model_module": "@jupyter-widgets/base",
          "model_name": "LayoutModel",
          "model_module_version": "1.2.0",
          "state": {
            "_model_module": "@jupyter-widgets/base",
            "_model_module_version": "1.2.0",
            "_model_name": "LayoutModel",
            "_view_count": null,
            "_view_module": "@jupyter-widgets/base",
            "_view_module_version": "1.2.0",
            "_view_name": "LayoutView",
            "align_content": null,
            "align_items": null,
            "align_self": null,
            "border": null,
            "bottom": null,
            "display": null,
            "flex": null,
            "flex_flow": null,
            "grid_area": null,
            "grid_auto_columns": null,
            "grid_auto_flow": null,
            "grid_auto_rows": null,
            "grid_column": null,
            "grid_gap": null,
            "grid_row": null,
            "grid_template_areas": null,
            "grid_template_columns": null,
            "grid_template_rows": null,
            "height": null,
            "justify_content": null,
            "justify_items": null,
            "left": null,
            "margin": null,
            "max_height": null,
            "max_width": null,
            "min_height": null,
            "min_width": null,
            "object_fit": null,
            "object_position": null,
            "order": null,
            "overflow": null,
            "overflow_x": null,
            "overflow_y": null,
            "padding": null,
            "right": null,
            "top": null,
            "visibility": null,
            "width": null
          }
        },
        "f6ce112fa6de4e2790cd40d350c3efb3": {
          "model_module": "@jupyter-widgets/controls",
          "model_name": "DescriptionStyleModel",
          "model_module_version": "1.5.0",
          "state": {
            "_model_module": "@jupyter-widgets/controls",
            "_model_module_version": "1.5.0",
            "_model_name": "DescriptionStyleModel",
            "_view_count": null,
            "_view_module": "@jupyter-widgets/base",
            "_view_module_version": "1.2.0",
            "_view_name": "StyleView",
            "description_width": ""
          }
        },
        "6dfe42a2ab234daa8cf5fdde383db193": {
          "model_module": "@jupyter-widgets/controls",
          "model_name": "HBoxModel",
          "model_module_version": "1.5.0",
          "state": {
            "_dom_classes": [],
            "_model_module": "@jupyter-widgets/controls",
            "_model_module_version": "1.5.0",
            "_model_name": "HBoxModel",
            "_view_count": null,
            "_view_module": "@jupyter-widgets/controls",
            "_view_module_version": "1.5.0",
            "_view_name": "HBoxView",
            "box_style": "",
            "children": [
              "IPY_MODEL_a652438d9d234926a5cdedf088f80f39",
              "IPY_MODEL_980f95a490164882bc04fb48d32f8aeb",
              "IPY_MODEL_79b26bfa4b2245409abfa7744df5ac44"
            ],
            "layout": "IPY_MODEL_b5e407e17ae34fa7aae1f43d39148737"
          }
        },
        "a652438d9d234926a5cdedf088f80f39": {
          "model_module": "@jupyter-widgets/controls",
          "model_name": "HTMLModel",
          "model_module_version": "1.5.0",
          "state": {
            "_dom_classes": [],
            "_model_module": "@jupyter-widgets/controls",
            "_model_module_version": "1.5.0",
            "_model_name": "HTMLModel",
            "_view_count": null,
            "_view_module": "@jupyter-widgets/controls",
            "_view_module_version": "1.5.0",
            "_view_name": "HTMLView",
            "description": "",
            "description_tooltip": null,
            "layout": "IPY_MODEL_8d50abd544bc4c49a3c021c6c9a31868",
            "placeholder": "​",
            "style": "IPY_MODEL_95c885bae43a450ea4b0f679591044c3",
            "value": "Map: 100%"
          }
        },
        "980f95a490164882bc04fb48d32f8aeb": {
          "model_module": "@jupyter-widgets/controls",
          "model_name": "FloatProgressModel",
          "model_module_version": "1.5.0",
          "state": {
            "_dom_classes": [],
            "_model_module": "@jupyter-widgets/controls",
            "_model_module_version": "1.5.0",
            "_model_name": "FloatProgressModel",
            "_view_count": null,
            "_view_module": "@jupyter-widgets/controls",
            "_view_module_version": "1.5.0",
            "_view_name": "ProgressView",
            "bar_style": "success",
            "description": "",
            "description_tooltip": null,
            "layout": "IPY_MODEL_9af1730c0b694c688075334a580f114c",
            "max": 6263,
            "min": 0,
            "orientation": "horizontal",
            "style": "IPY_MODEL_9ded5c2501d844b6a240f3e0442a9a03",
            "value": 6263
          }
        },
        "79b26bfa4b2245409abfa7744df5ac44": {
          "model_module": "@jupyter-widgets/controls",
          "model_name": "HTMLModel",
          "model_module_version": "1.5.0",
          "state": {
            "_dom_classes": [],
            "_model_module": "@jupyter-widgets/controls",
            "_model_module_version": "1.5.0",
            "_model_name": "HTMLModel",
            "_view_count": null,
            "_view_module": "@jupyter-widgets/controls",
            "_view_module_version": "1.5.0",
            "_view_name": "HTMLView",
            "description": "",
            "description_tooltip": null,
            "layout": "IPY_MODEL_a08b3e2d73df476a9d6a445796aadcc1",
            "placeholder": "​",
            "style": "IPY_MODEL_8da317b7dfc544119f193e14d0cd362d",
            "value": " 6263/6263 [00:19&lt;00:00, 269.23 examples/s]"
          }
        },
        "b5e407e17ae34fa7aae1f43d39148737": {
          "model_module": "@jupyter-widgets/base",
          "model_name": "LayoutModel",
          "model_module_version": "1.2.0",
          "state": {
            "_model_module": "@jupyter-widgets/base",
            "_model_module_version": "1.2.0",
            "_model_name": "LayoutModel",
            "_view_count": null,
            "_view_module": "@jupyter-widgets/base",
            "_view_module_version": "1.2.0",
            "_view_name": "LayoutView",
            "align_content": null,
            "align_items": null,
            "align_self": null,
            "border": null,
            "bottom": null,
            "display": null,
            "flex": null,
            "flex_flow": null,
            "grid_area": null,
            "grid_auto_columns": null,
            "grid_auto_flow": null,
            "grid_auto_rows": null,
            "grid_column": null,
            "grid_gap": null,
            "grid_row": null,
            "grid_template_areas": null,
            "grid_template_columns": null,
            "grid_template_rows": null,
            "height": null,
            "justify_content": null,
            "justify_items": null,
            "left": null,
            "margin": null,
            "max_height": null,
            "max_width": null,
            "min_height": null,
            "min_width": null,
            "object_fit": null,
            "object_position": null,
            "order": null,
            "overflow": null,
            "overflow_x": null,
            "overflow_y": null,
            "padding": null,
            "right": null,
            "top": null,
            "visibility": null,
            "width": null
          }
        },
        "8d50abd544bc4c49a3c021c6c9a31868": {
          "model_module": "@jupyter-widgets/base",
          "model_name": "LayoutModel",
          "model_module_version": "1.2.0",
          "state": {
            "_model_module": "@jupyter-widgets/base",
            "_model_module_version": "1.2.0",
            "_model_name": "LayoutModel",
            "_view_count": null,
            "_view_module": "@jupyter-widgets/base",
            "_view_module_version": "1.2.0",
            "_view_name": "LayoutView",
            "align_content": null,
            "align_items": null,
            "align_self": null,
            "border": null,
            "bottom": null,
            "display": null,
            "flex": null,
            "flex_flow": null,
            "grid_area": null,
            "grid_auto_columns": null,
            "grid_auto_flow": null,
            "grid_auto_rows": null,
            "grid_column": null,
            "grid_gap": null,
            "grid_row": null,
            "grid_template_areas": null,
            "grid_template_columns": null,
            "grid_template_rows": null,
            "height": null,
            "justify_content": null,
            "justify_items": null,
            "left": null,
            "margin": null,
            "max_height": null,
            "max_width": null,
            "min_height": null,
            "min_width": null,
            "object_fit": null,
            "object_position": null,
            "order": null,
            "overflow": null,
            "overflow_x": null,
            "overflow_y": null,
            "padding": null,
            "right": null,
            "top": null,
            "visibility": null,
            "width": null
          }
        },
        "95c885bae43a450ea4b0f679591044c3": {
          "model_module": "@jupyter-widgets/controls",
          "model_name": "DescriptionStyleModel",
          "model_module_version": "1.5.0",
          "state": {
            "_model_module": "@jupyter-widgets/controls",
            "_model_module_version": "1.5.0",
            "_model_name": "DescriptionStyleModel",
            "_view_count": null,
            "_view_module": "@jupyter-widgets/base",
            "_view_module_version": "1.2.0",
            "_view_name": "StyleView",
            "description_width": ""
          }
        },
        "9af1730c0b694c688075334a580f114c": {
          "model_module": "@jupyter-widgets/base",
          "model_name": "LayoutModel",
          "model_module_version": "1.2.0",
          "state": {
            "_model_module": "@jupyter-widgets/base",
            "_model_module_version": "1.2.0",
            "_model_name": "LayoutModel",
            "_view_count": null,
            "_view_module": "@jupyter-widgets/base",
            "_view_module_version": "1.2.0",
            "_view_name": "LayoutView",
            "align_content": null,
            "align_items": null,
            "align_self": null,
            "border": null,
            "bottom": null,
            "display": null,
            "flex": null,
            "flex_flow": null,
            "grid_area": null,
            "grid_auto_columns": null,
            "grid_auto_flow": null,
            "grid_auto_rows": null,
            "grid_column": null,
            "grid_gap": null,
            "grid_row": null,
            "grid_template_areas": null,
            "grid_template_columns": null,
            "grid_template_rows": null,
            "height": null,
            "justify_content": null,
            "justify_items": null,
            "left": null,
            "margin": null,
            "max_height": null,
            "max_width": null,
            "min_height": null,
            "min_width": null,
            "object_fit": null,
            "object_position": null,
            "order": null,
            "overflow": null,
            "overflow_x": null,
            "overflow_y": null,
            "padding": null,
            "right": null,
            "top": null,
            "visibility": null,
            "width": null
          }
        },
        "9ded5c2501d844b6a240f3e0442a9a03": {
          "model_module": "@jupyter-widgets/controls",
          "model_name": "ProgressStyleModel",
          "model_module_version": "1.5.0",
          "state": {
            "_model_module": "@jupyter-widgets/controls",
            "_model_module_version": "1.5.0",
            "_model_name": "ProgressStyleModel",
            "_view_count": null,
            "_view_module": "@jupyter-widgets/base",
            "_view_module_version": "1.2.0",
            "_view_name": "StyleView",
            "bar_color": null,
            "description_width": ""
          }
        },
        "a08b3e2d73df476a9d6a445796aadcc1": {
          "model_module": "@jupyter-widgets/base",
          "model_name": "LayoutModel",
          "model_module_version": "1.2.0",
          "state": {
            "_model_module": "@jupyter-widgets/base",
            "_model_module_version": "1.2.0",
            "_model_name": "LayoutModel",
            "_view_count": null,
            "_view_module": "@jupyter-widgets/base",
            "_view_module_version": "1.2.0",
            "_view_name": "LayoutView",
            "align_content": null,
            "align_items": null,
            "align_self": null,
            "border": null,
            "bottom": null,
            "display": null,
            "flex": null,
            "flex_flow": null,
            "grid_area": null,
            "grid_auto_columns": null,
            "grid_auto_flow": null,
            "grid_auto_rows": null,
            "grid_column": null,
            "grid_gap": null,
            "grid_row": null,
            "grid_template_areas": null,
            "grid_template_columns": null,
            "grid_template_rows": null,
            "height": null,
            "justify_content": null,
            "justify_items": null,
            "left": null,
            "margin": null,
            "max_height": null,
            "max_width": null,
            "min_height": null,
            "min_width": null,
            "object_fit": null,
            "object_position": null,
            "order": null,
            "overflow": null,
            "overflow_x": null,
            "overflow_y": null,
            "padding": null,
            "right": null,
            "top": null,
            "visibility": null,
            "width": null
          }
        },
        "8da317b7dfc544119f193e14d0cd362d": {
          "model_module": "@jupyter-widgets/controls",
          "model_name": "DescriptionStyleModel",
          "model_module_version": "1.5.0",
          "state": {
            "_model_module": "@jupyter-widgets/controls",
            "_model_module_version": "1.5.0",
            "_model_name": "DescriptionStyleModel",
            "_view_count": null,
            "_view_module": "@jupyter-widgets/base",
            "_view_module_version": "1.2.0",
            "_view_name": "StyleView",
            "description_width": ""
          }
        }
      }
    }
  },
  "nbformat": 4,
  "nbformat_minor": 5
}