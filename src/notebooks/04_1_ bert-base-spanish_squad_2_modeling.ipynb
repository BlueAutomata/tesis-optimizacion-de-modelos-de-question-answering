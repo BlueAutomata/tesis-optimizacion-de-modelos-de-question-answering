{
 "cells": [
  {
   "metadata": {},
   "cell_type": "markdown",
   "source": "# Modelado de DistilBERT base",
   "id": "3a56ed1359728ece"
  },
  {
   "cell_type": "code",
   "execution_count": null,
   "id": "initial_id",
   "metadata": {
    "collapsed": true
   },
   "outputs": [],
   "source": [
    "# Install libraries\n",
    "!pip install transformers datasets evaluate tokenizers accelerate\n",
    "!pip install torch # or torch with GPU support if you have CUDA\n",
    "!pip install evaluate"
   ]
  },
  {
   "metadata": {},
   "cell_type": "markdown",
   "source": "## Paso 1: Cargar las librerías",
   "id": "a78ead49245bba83"
  },
  {
   "metadata": {},
   "cell_type": "code",
   "outputs": [],
   "execution_count": null,
   "source": [
    "import numpy as np\n",
    "import evaluate\n",
    "\n",
    "from transformers import AutoTokenizer, AutoModelForQuestionAnswering\n",
    "from transformers import Trainer, TrainingArguments\n",
    "from datasets import load_dataset, Dataset\n",
    "from huggingface_hub import notebook_login"
   ],
   "id": "18009bc468d25c1c"
  },
  {
   "metadata": {},
   "cell_type": "code",
   "outputs": [],
   "execution_count": null,
   "source": "notebook_login()",
   "id": "aabf2e592efa5eb1"
  },
  {
   "metadata": {},
   "cell_type": "markdown",
   "source": "## Paso 2: Cargar los datos",
   "id": "6b7af70018100388"
  },
  {
   "metadata": {},
   "cell_type": "code",
   "outputs": [],
   "execution_count": null,
   "source": [
    "# Example: load local dataset\n",
    "import json\n",
    "\n",
    "with open(\"train.json\") as f:\n",
    "    train_data = json.load(f)\n",
    "\n",
    "with open(\"valid.json\") as f:\n",
    "    valid_data = json.load(f)\n",
    "\n",
    "train_dataset = Dataset.from_list(train_data)\n",
    "valid_dataset = Dataset.from_list(valid_data)"
   ],
   "id": "c5f3fe120964c885"
  },
  {
   "metadata": {},
   "cell_type": "markdown",
   "source": "## Paso 3: Cargar el tokenizador y el modelo",
   "id": "a983f292a24d5730"
  },
  {
   "metadata": {},
   "cell_type": "code",
   "outputs": [],
   "execution_count": null,
   "source": [
    "model_name = \"mrm8488/bert-base-spanish-wwm-cased-finetuned-spa-squad2-es\"\n",
    "\n",
    "tokenizer = AutoTokenizer.from_pretrained(model_name)\n",
    "model = AutoModelForQuestionAnswering.from_pretrained(model_name)"
   ],
   "id": "981a79a81348aaf7"
  },
  {
   "metadata": {},
   "cell_type": "markdown",
   "source": "## Paso 4: Preprocesar el conjunto de datos",
   "id": "2a7b5a79e0c2086d"
  },
  {
   "metadata": {},
   "cell_type": "code",
   "outputs": [],
   "execution_count": null,
   "source": [
    "def preprocess_function(examples):\n",
    "    questions = [q.strip() for q in examples[\"question\"]]\n",
    "    contexts = examples[\"context\"]\n",
    "    answers = examples[\"answers\"]\n",
    "\n",
    "    inputs = tokenizer(\n",
    "        questions,\n",
    "        contexts,\n",
    "        max_length=384,\n",
    "        truncation=\"only_second\",\n",
    "        stride=128,\n",
    "        return_overflowing_tokens=True,\n",
    "        return_offsets_mapping=True,\n",
    "        padding=\"max_length\",\n",
    "    )\n",
    "\n",
    "    # Map start/end positions\n",
    "    start_positions = []\n",
    "    end_positions = []\n",
    "\n",
    "    for i, offsets in enumerate(inputs[\"offset_mapping\"]):\n",
    "        answer = answers[i]\n",
    "        answer_text = answer[\"text\"][0] if len(answer[\"text\"]) > 0 else \"\"\n",
    "        answer_start = answer[\"answer_start\"][0] if len(answer[\"answer_start\"]) > 0 else 0\n",
    "        answer_end = answer_start + len(answer_text)\n",
    "\n",
    "        # Find token start/end\n",
    "        token_start_index = 0\n",
    "        token_end_index = 0\n",
    "        for idx, (start, end) in enumerate(offsets):\n",
    "            if start <= answer_start < end:\n",
    "                token_start_index = idx\n",
    "            if start < answer_end <= end:\n",
    "                token_end_index = idx\n",
    "        start_positions.append(token_start_index)\n",
    "        end_positions.append(token_end_index)\n",
    "\n",
    "    inputs[\"start_positions\"] = start_positions\n",
    "    inputs[\"end_positions\"] = end_positions\n",
    "    return inputs"
   ],
   "id": "dd6a0c58caad12cf"
  },
  {
   "metadata": {},
   "cell_type": "markdown",
   "source": "## Paso 5: Cargar las métricas de SQuAD",
   "id": "1bf275d74f9f3d1c"
  },
  {
   "metadata": {},
   "cell_type": "code",
   "outputs": [],
   "execution_count": null,
   "source": "metric = evaluate.load(\"squad\")",
   "id": "7dd70a92ffd8a5d9"
  },
  {
   "metadata": {},
   "cell_type": "markdown",
   "source": "## Paso 6: Definir una función de posprocesamiento",
   "id": "3e5c34ecb2cdb016"
  },
  {
   "metadata": {},
   "cell_type": "code",
   "outputs": [],
   "execution_count": null,
   "source": [
    "def postprocess_qa_predictions(examples, features, raw_predictions, n_best_size=20):\n",
    "    all_start_logits, all_end_logits = raw_predictions\n",
    "    predictions = []\n",
    "\n",
    "    # For each example\n",
    "    for i, example in enumerate(examples):\n",
    "        feature = features[i]\n",
    "        start_logits = all_start_logits[i]\n",
    "        end_logits = all_end_logits[i]\n",
    "\n",
    "        # Get top start and end indexes\n",
    "        start_indexes = np.argsort(start_logits)[-n_best_size:]\n",
    "        end_indexes = np.argsort(end_logits)[-n_best_size:]\n",
    "\n",
    "        valid_answers = []\n",
    "        context = example[\"context\"]\n",
    "\n",
    "        for start_index in start_indexes:\n",
    "            for end_index in end_indexes:\n",
    "                if start_index <= end_index:\n",
    "                    start_char = feature[\"offset_mapping\"][start_index][0]\n",
    "                    end_char = feature[\"offset_mapping\"][end_index][1]\n",
    "                    valid_answers.append({\n",
    "                        \"text\": context[start_char:end_char],\n",
    "                        \"logit_score\": start_logits[start_index] + end_logits[end_index]\n",
    "                    })\n",
    "\n",
    "        if valid_answers:\n",
    "            best_answer = max(valid_answers, key=lambda x: x[\"logit_score\"])\n",
    "            predictions.append({\"id\": example[\"id\"], \"prediction_text\": best_answer[\"text\"]})\n",
    "        else:\n",
    "            predictions.append({\"id\": example[\"id\"], \"prediction_text\": \"\"})\n",
    "\n",
    "    return predictions\n"
   ],
   "id": "f37b8a22face4d2f"
  },
  {
   "metadata": {},
   "cell_type": "markdown",
   "source": "## Paso 7: Definir la función compute_metrics para Trainer",
   "id": "24bfeacc28604027"
  },
  {
   "metadata": {},
   "cell_type": "code",
   "outputs": [],
   "execution_count": null,
   "source": [
    "def compute_metrics(p):\n",
    "    predictions, labels = p\n",
    "    predictions_text = postprocess_qa_predictions(\n",
    "        valid_dataset, valid_dataset, predictions\n",
    "    )\n",
    "\n",
    "    references = [{\"id\": ex[\"id\"], \"answers\": ex[\"answers\"]} for ex in valid_dataset]\n",
    "\n",
    "    return metric.compute(predictions=predictions_text, references=references)"
   ],
   "id": "832eeb8944a82327"
  },
  {
   "metadata": {},
   "cell_type": "markdown",
   "source": "## Paso 5: Entrenamiento con el Trainer",
   "id": "8372efd287bb71c5"
  },
  {
   "metadata": {},
   "cell_type": "code",
   "outputs": [],
   "execution_count": null,
   "source": [
    "training_args = TrainingArguments(\n",
    "    output_dir=\"./bert-qa-spanish\",        # main output directory\n",
    "    overwrite_output_dir=True,             # overwrite old checkpoints\n",
    "\n",
    "    # Training\n",
    "    per_device_train_batch_size=8,         # matches previous 8\n",
    "    per_device_eval_batch_size=8,          # matches previous 8\n",
    "    gradient_accumulation_steps=1,         # can increase if VRAM limited\n",
    "    learning_rate=2e-5,                    # matches previous 2e-5\n",
    "    num_train_epochs=4,                     # matches previous 4\n",
    "    weight_decay=0.01,                     # regularization\n",
    "    warmup_steps=500,                      # optional for smoother training\n",
    "    fp16=True,                             # mixed precision for faster training\n",
    "\n",
    "    # Evaluation\n",
    "    eval_strategy=\"steps\",                 # evaluate every N steps\n",
    "    eval_steps=500,                        # same as previous\n",
    "    save_strategy=\"steps\",                 # save every N steps\n",
    "    save_steps=500,                        # save every 500 steps\n",
    "    save_total_limit=2,                    # keep last 2 checkpoints\n",
    "\n",
    "    # Best model\n",
    "    load_best_model_at_end=True,           # load best model after training\n",
    "    metric_for_best_model=\"f1\",            # use F1 to select best\n",
    "    greater_is_better=True,                # higher F1 is better\n",
    "    # Optional: log metrics for monitoring\n",
    "    logging_dir=\"./logs\",\n",
    "    logging_steps=100,\n",
    "    push_to_hub=True                        # upload to Hugging Face Hub\n",
    ")\n",
    "\n",
    "trainer = Trainer(\n",
    "    model=model,\n",
    "    args=training_args,\n",
    "    train_dataset=train_dataset,\n",
    "    eval_dataset=valid_dataset,\n",
    "    tokenizer=tokenizer,\n",
    "    compute_metrics=compute_metrics\n",
    ")"
   ],
   "id": "4732d243d12833ec"
  },
  {
   "metadata": {},
   "cell_type": "code",
   "outputs": [],
   "execution_count": null,
   "source": "trainer.train()",
   "id": "132cfa2a03cbeaeb"
  },
  {
   "metadata": {},
   "cell_type": "markdown",
   "source": "## Paso 6: Subir al Hub de Hugging Face",
   "id": "75e97190703eab26"
  },
  {
   "metadata": {},
   "cell_type": "code",
   "outputs": [],
   "execution_count": null,
   "source": [
    "trainer.push_to_hub(\n",
    "    \"luigui/bert-base-spanish-wwm-cased-news-qa-colombia-mexico\",\n",
    "    description=\"BERT-base Spanish WWM cased model fine-tuned for extractive QA on news articles from Colombia and Mexico.\",\n",
    "    tags=[\"spanish\", \"qa\", \"news\", \"colombia\", \"mexico\", \"bert-base\", \"wwm\", \"cased\"]\n",
    ")"
   ],
   "id": "a6c410570a78285a"
  }
 ],
 "metadata": {
  "kernelspec": {
   "display_name": "Python 3",
   "language": "python",
   "name": "python3"
  },
  "language_info": {
   "codemirror_mode": {
    "name": "ipython",
    "version": 2
   },
   "file_extension": ".py",
   "mimetype": "text/x-python",
   "name": "python",
   "nbconvert_exporter": "python",
   "pygments_lexer": "ipython2",
   "version": "2.7.6"
  }
 },
 "nbformat": 4,
 "nbformat_minor": 5
}
