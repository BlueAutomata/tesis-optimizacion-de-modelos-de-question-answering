{
 "cells": [
  {
   "cell_type": "markdown",
   "id": "685092ff6d0ec3c1",
   "metadata": {},
   "source": [
    "# Análisis Exploratorio de Datos"
   ]
  },
  {
   "cell_type": "markdown",
   "id": "bfbc8323f49a0536",
   "metadata": {},
   "source": [
    "Guillermo Luigui Ubaldo Nieto Angarita 1"
   ]
  },
  {
   "cell_type": "markdown",
   "id": "c8a5c94d176ce2d9",
   "metadata": {},
   "source": [
    "## Guia"
   ]
  },
  {
   "cell_type": "markdown",
   "id": "af81c301fa40dba2",
   "metadata": {},
   "source": [
    "https://spotintelligence.com/2023/09/15/exploratory-data-analysis-nlp/"
   ]
  },
  {
   "cell_type": "markdown",
   "id": "8622b83ef642c23b",
   "metadata": {},
   "source": [
    "Datos tomados de: https://www.sciencedirect.com/science/article/pii/S2352340925000162"
   ]
  },
  {
   "cell_type": "markdown",
   "id": "a606cf03e0599057",
   "metadata": {},
   "source": [
    "## Categorías y Descripciones\n",
    "\n",
    "1. **Economic**\n",
    "- **Descripción**: Costos, beneficios u otras implicaciones financieras.\n",
    "- **Ejemplo**: Artículos que analizan el impacto económico de las políticas de inmigración.\n",
    "\n",
    "2. **Capacity and Resources**\n",
    "- **Descripción**: Disponibilidad de recursos físicos, humanos o financieros, y la capacidad de los sistemas actuales.\n",
    "- **Ejemplo**: Cobertura sobre la capacidad del sistema de salud durante una pandemia.\n",
    "\n",
    "3. **Morality**\n",
    "- **Descripción**: Implicaciones religiosas o éticas.\n",
    "- **Ejemplo**: Debates sobre las leyes del aborto.\n",
    "\n",
    "4. **Fairness and Equality**\n",
    "- **Descripción**: Equilibrio o distribución de derechos, responsabilidades y recursos.\n",
    "- **Ejemplo**: Discusiones sobre la desigualdad de ingresos y la justicia social.\n",
    "\n",
    "5. **Legality, Constitutionality, and Jurisprudence**\n",
    "- **Descripción**: Derechos, libertades y autoridad de individuos, corporaciones y el gobierno.\n",
    "- **Ejemplo**: Análisis legales sobre nuevas legislaciones que afectan las libertades civiles.\n",
    "\n",
    "6. **Policy Prescription and Evaluation**\n",
    "- **Descripción**: Discusión sobre políticas específicas dirigidas a abordar problemas.\n",
    "- **Ejemplo**: Opiniones sobre estrategias de mitigación del cambio climático.\n",
    "\n",
    "7. **Crime and Punishment**\n",
    "- **Descripción**: Efectividad e implicaciones de las leyes y su aplicación.\n",
    "- **Ejemplo**: Informes sobre los esfuerzos de reforma del sistema de justicia penal.\n",
    "\n",
    "8. **Security and Defense**\n",
    "- **Descripción**: Amenazas al bienestar del individuo, la comunidad o la nación.\n",
    "- **Ejemplo**: Preocupaciones sobre la seguridad nacional relacionadas con el control fronterizo.\n",
    "\n",
    "9. **Health and Safety**\n",
    "- **Descripción**: Atención médica, saneamiento y seguridad pública.\n",
    "- **Ejemplo**: Medidas para combatir la propagación de enfermedades infecciosas.\n",
    "\n",
    "10. **Quality of Life**\n",
    "- **Descripción**: Amenazas y oportunidades para la riqueza, felicidad y bienestar del individuo.\n",
    "- **Ejemplo**: El impacto del desarrollo urbano en el bienestar de los residentes.\n",
    "\n",
    "11. **Cultural Identity**\n",
    "- **Descripción**: Tradiciones, costumbres o valores de un grupo social en relación con un tema político.\n",
    "- **Ejemplo**: Preservación de los idiomas y culturas indígenas.\n",
    "\n",
    "12. **Public Opinion**\n",
    "- **Descripción**: Actitudes y opiniones del público en general, incluidas encuestas y demografía.\n",
    "- **Ejemplo**: Encuestas sobre el apoyo público a las fuentes de energía renovable.\n",
    "\n",
    "13. **Political**\n",
    "- **Descripción**: Consideraciones relacionadas con la política y los políticos, incluidas actividades de cabildeo, elecciones e intentos de influir en los votantes.\n",
    "- **Ejemplo**: Estrategias de campaña electoral y esfuerzos de movilización de votantes.\n",
    "\n",
    "14. **External Regulation and Reputation**\n",
    "- **Descripción**: Reputación internacional o política exterior.\n",
    "- **Ejemplo**: Relaciones diplomáticas y acuerdos internacionales.\n",
    "\n",
    "15. **Other**\n",
    "- **Descripción**: Cualquier grupo coherente de marcos no cubierto por las categorías anteriores.\n",
    "- **Ejemplo**: Marcos únicos o emergentes específicos de problemas contemporáneos.\n",
    "\n"
   ]
  },
  {
   "cell_type": "markdown",
   "id": "ff30c83dac6e53a7",
   "metadata": {},
   "source": [
    "## Problema de Investigación"
   ]
  },
  {
   "cell_type": "markdown",
   "id": "504dd100ee5a71d4",
   "metadata": {},
   "source": [
    "La mayoría de los modelos propuestos de QA, están enfocados en el idioma inglés (Upadhyay et al., 2024). A pesar de que el español es una de las lenguas más habladas en el mundo, la escasez de recursos en este idioma crea un desafío para el entrenamiento y evaluación de los modelos de Procesamiento de Lenguaje Natural (PLN) (Padilla Cuevas et al., 2024). Algunos de los conjuntos de datos utilizados para el español han sido traducidos automáticamente por una máquina y son usados en otros idiomas lo que produce riesgo de imprecisiones, anomalías e incapacidad de identificar aspectos sutiles en cada contexto cultural, expresiones idiomáticas y matices lingüísticos que pueden ser necesarios para generar preguntas coherentes y contextualmente relevantes (de-Fitero-Dominguez et al., 2024). Los modelos multilingües están diseñados para ser generalizados en varios idiomas, pero tienen la dificultad de no capturar todos los aspectos lingüísticos de una lengua específica (de-Fitero-Dominguez et al., 2024). Como consecuencia, se observa una desigualdad en el rendimiento de inteligencias artificiales en distintas lenguas al inglés (de-Fitero-Dominguez et al., 2024). La meta de esta investigación es buscar disminuir la brecha de la falta de datos en español para entrenar los modelos, construyendo un sistema QA utilizando un conjunto de datos en español."
   ]
  },
  {
   "cell_type": "markdown",
   "id": "13717af47922d56a",
   "metadata": {},
   "source": [
    "## Planteamiento del problema"
   ]
  },
  {
   "cell_type": "markdown",
   "id": "a5f660edf0c26",
   "metadata": {},
   "source": [
    "El desarrollo y entrenamiento de modelos de PLN en el idioma español está muy limitado y está afectando el rendimiento de los sistemas QA, reduciendo su capacidad de comprensión y generación de respuestas. Este estudio busca investigar cómo optimizar los modelos QA para el análisis periodístico aplicando el fine-tuning con un conjunto de datos de las noticias en Colombia y México."
   ]
  },
  {
   "cell_type": "markdown",
   "id": "b52ea29ac5598d2",
   "metadata": {},
   "source": [
    "## Pregunta de investigación"
   ]
  },
  {
   "cell_type": "markdown",
   "id": "136272fc75176018",
   "metadata": {},
   "source": [
    "¿Cómo mejorar el rendimiento de los sistemas question answering en español, mediante el procesamiento de lenguaje natural (PLN) y un conjunto de datos de artículos de noticias de Colombia y México entre mayo de 2022 y agosto de 2023, que permita responder consultas sobre su contenido?"
   ]
  },
  {
   "cell_type": "markdown",
   "id": "21434c3941d9ad89",
   "metadata": {},
   "source": [
    "## Objetivo General"
   ]
  },
  {
   "cell_type": "markdown",
   "id": "6640f972a69b8a34",
   "metadata": {},
   "source": [
    "Mejorar el rendimiento de los sistemas de question answering en español, mediante el procesamiento de lenguaje natural (PLN) y un conjunto de datos de artículos de noticias de Colombia y México entre mayo de 2022 y agosto de 2023, que permita responder consultas sobre su contenido."
   ]
  },
  {
   "cell_type": "markdown",
   "id": "6c9739765ace31d9",
   "metadata": {},
   "source": [
    "## Objetivos Específicos"
   ]
  },
  {
   "cell_type": "markdown",
   "id": "6b1a12001f5a4e30",
   "metadata": {},
   "source": [
    "1. Explorar el corpus de noticias en español de Colombia y México para identificar características lingüísticas relevantes para la generación de preguntas y respuestas.\n",
    "2. Implementar mejoras en diferentes modelos de question-answering para contestar consultas sobre un conjunto de datos de noticias de Colombia y México.\n",
    "3. Evaluar el rendimiento de los modelos implementados utilizando métricas como Exact Match (EM), F1-score, Accuracy, Precision, Recall, BLEU y ROUGE.\n"
   ]
  },
  {
   "cell_type": "markdown",
   "id": "b46707221f6e643b",
   "metadata": {},
   "source": [
    "## Paso 1: Cargar Librerías"
   ]
  },
  {
   "cell_type": "code",
   "execution_count": 38,
   "id": "887b85ea8ce4ea1b",
   "metadata": {
    "ExecuteTime": {
     "end_time": "2025-08-22T04:17:38.651136Z",
     "start_time": "2025-08-22T04:17:28.417002Z"
    }
   },
   "outputs": [
    {
     "name": "stdout",
     "output_type": "stream",
     "text": [
      "Collecting es-core-news-sm==3.8.0\n",
      "  Downloading https://github.com/explosion/spacy-models/releases/download/es_core_news_sm-3.8.0/es_core_news_sm-3.8.0-py3-none-any.whl (12.9 MB)\n",
      "     ---------------------------------------- 0.0/12.9 MB ? eta -:--:--\n",
      "     --- ------------------------------------ 1.0/12.9 MB 12.5 MB/s eta 0:00:01\n",
      "     -------- ------------------------------- 2.6/12.9 MB 8.9 MB/s eta 0:00:02\n",
      "     --------- ------------------------------ 3.1/12.9 MB 6.8 MB/s eta 0:00:02\n",
      "     ----------- ---------------------------- 3.7/12.9 MB 5.2 MB/s eta 0:00:02\n",
      "     ------------ --------------------------- 3.9/12.9 MB 4.1 MB/s eta 0:00:03\n",
      "     ------------ --------------------------- 3.9/12.9 MB 4.1 MB/s eta 0:00:03\n",
      "     ------------- -------------------------- 4.2/12.9 MB 3.1 MB/s eta 0:00:03\n",
      "     ------------- -------------------------- 4.2/12.9 MB 3.1 MB/s eta 0:00:03\n",
      "     ------------- -------------------------- 4.5/12.9 MB 2.5 MB/s eta 0:00:04\n",
      "     ------------- -------------------------- 4.5/12.9 MB 2.5 MB/s eta 0:00:04\n",
      "     -------------- ------------------------- 4.7/12.9 MB 2.3 MB/s eta 0:00:04\n",
      "     --------------- ------------------------ 5.0/12.9 MB 2.1 MB/s eta 0:00:04\n",
      "     --------------- ------------------------ 5.0/12.9 MB 2.1 MB/s eta 0:00:04\n",
      "     ---------------- ----------------------- 5.2/12.9 MB 2.0 MB/s eta 0:00:04\n",
      "     ----------------- ---------------------- 5.8/12.9 MB 1.9 MB/s eta 0:00:04\n",
      "     ------------------- -------------------- 6.3/12.9 MB 1.9 MB/s eta 0:00:04\n",
      "     --------------------- ------------------ 6.8/12.9 MB 2.0 MB/s eta 0:00:04\n",
      "     ---------------------- ----------------- 7.3/12.9 MB 2.0 MB/s eta 0:00:03\n",
      "     ------------------------- -------------- 8.1/12.9 MB 2.1 MB/s eta 0:00:03\n",
      "     ---------------------------- ----------- 9.2/12.9 MB 2.2 MB/s eta 0:00:02\n",
      "     -------------------------------- ------- 10.5/12.9 MB 2.4 MB/s eta 0:00:01\n",
      "     ----------------------------------- ---- 11.5/12.9 MB 2.6 MB/s eta 0:00:01\n",
      "     -------------------------------------- - 12.3/12.9 MB 2.6 MB/s eta 0:00:01\n",
      "     ---------------------------------------- 12.9/12.9 MB 2.6 MB/s eta 0:00:00\n",
      "\u001b[38;5;2m✔ Download and installation successful\u001b[0m\n",
      "You can now load the package via spacy.load('es_core_news_sm')\n"
     ]
    },
    {
     "name": "stderr",
     "output_type": "stream",
     "text": [
      "\n",
      "[notice] A new release of pip is available: 25.1 -> 25.2\n",
      "[notice] To update, run: python.exe -m pip install --upgrade pip\n"
     ]
    }
   ],
   "source": [
    "!python -m spacy download es_core_news_sm"
   ]
  },
  {
   "cell_type": "code",
   "execution_count": 1,
   "id": "81229520e38a7ecc",
   "metadata": {
    "ExecuteTime": {
     "end_time": "2025-08-22T04:17:38.666329Z",
     "start_time": "2025-08-22T04:17:38.661146Z"
    }
   },
   "outputs": [
    {
     "name": "stderr",
     "output_type": "stream",
     "text": [
      "c:\\QA\\tesis-optimizacion-de-modelos-de-question-answering\\.venv\\Lib\\site-packages\\tqdm\\auto.py:21: TqdmWarning: IProgress not found. Please update jupyter and ipywidgets. See https://ipywidgets.readthedocs.io/en/stable/user_install.html\n",
      "  from .autonotebook import tqdm as notebook_tqdm\n"
     ]
    }
   ],
   "source": [
    "import pandas as pd\n",
    "import numpy as np\n",
    "import matplotlib.pyplot as plt\n",
    "import seaborn as sns\n",
    "import nltk\n",
    "import re\n",
    "import os\n",
    "import string\n",
    "import spacy\n",
    "import math\n",
    "import networkx as nx\n",
    "import unicodedata\n",
    "\n",
    "from nltk.tokenize import word_tokenize, sent_tokenize\n",
    "from nltk.corpus import stopwords\n",
    "from nltk.util import ngrams\n",
    "from collections import Counter\n",
    "from wordcloud import WordCloud\n",
    "from itertools import combinations\n",
    "from scipy import stats\n",
    "from collections import defaultdict\n",
    "from flair.data import Sentence\n",
    "from flair.models import SequenceTagger"
   ]
  },
  {
   "cell_type": "code",
   "execution_count": 2,
   "id": "d6c97484af08ba14",
   "metadata": {
    "ExecuteTime": {
     "end_time": "2025-08-22T04:17:38.694632Z",
     "start_time": "2025-08-22T04:17:38.688839Z"
    }
   },
   "outputs": [
    {
     "name": "stderr",
     "output_type": "stream",
     "text": [
      "[nltk_data] Downloading package punkt to\n",
      "[nltk_data]     C:\\Users\\usuario\\AppData\\Roaming\\nltk_data...\n",
      "[nltk_data]   Package punkt is already up-to-date!\n",
      "[nltk_data] Downloading package punkt_tab to\n",
      "[nltk_data]     C:\\Users\\usuario\\AppData\\Roaming\\nltk_data...\n",
      "[nltk_data]   Package punkt_tab is already up-to-date!\n",
      "[nltk_data] Downloading package stopwords to\n",
      "[nltk_data]     C:\\Users\\usuario\\AppData\\Roaming\\nltk_data...\n",
      "[nltk_data]   Package stopwords is already up-to-date!\n"
     ]
    },
    {
     "data": {
      "text/plain": [
       "True"
      ]
     },
     "execution_count": 2,
     "metadata": {},
     "output_type": "execute_result"
    }
   ],
   "source": [
    "nltk.download('punkt')\n",
    "nltk.download('punkt_tab')\n",
    "nltk.download('stopwords')"
   ]
  },
  {
   "cell_type": "markdown",
   "id": "2815ab6ce5b0aa41",
   "metadata": {},
   "source": [
    "## Paso 2: Cargar Datos"
   ]
  },
  {
   "cell_type": "code",
   "execution_count": 3,
   "id": "7aa5bfef0f12a2a2",
   "metadata": {
    "ExecuteTime": {
     "end_time": "2025-08-22T04:17:38.727535Z",
     "start_time": "2025-08-22T04:17:38.718638Z"
    }
   },
   "outputs": [],
   "source": [
    "df = pd.read_csv(\"../data/labels.csv\")"
   ]
  },
  {
   "cell_type": "code",
   "execution_count": 4,
   "id": "c93889eec9d3ae65",
   "metadata": {
    "ExecuteTime": {
     "end_time": "2025-08-22T04:17:38.748395Z",
     "start_time": "2025-08-22T04:17:38.745058Z"
    }
   },
   "outputs": [],
   "source": [
    "folder_path = \"../data/articles/\""
   ]
  },
  {
   "cell_type": "code",
   "execution_count": 5,
   "id": "ccc10c583d50f43c",
   "metadata": {
    "ExecuteTime": {
     "end_time": "2025-08-22T04:17:38.771425Z",
     "start_time": "2025-08-22T04:17:38.766424Z"
    }
   },
   "outputs": [],
   "source": [
    "files = [f for f in os.listdir(folder_path) if f.endswith(\".txt\")]"
   ]
  },
  {
   "cell_type": "code",
   "execution_count": 6,
   "id": "c4291e299448a3ed",
   "metadata": {
    "ExecuteTime": {
     "end_time": "2025-08-22T04:17:38.801948Z",
     "start_time": "2025-08-22T04:17:38.780435Z"
    }
   },
   "outputs": [],
   "source": [
    "article_data = []\n",
    "for file in files:\n",
    "    with open(os.path.join(folder_path, file), \"r\", encoding=\"utf-8\") as f:\n",
    "        content = f.read()\n",
    "        article_data.append(content)"
   ]
  },
  {
   "cell_type": "code",
   "execution_count": 7,
   "id": "3557669271e1afe3",
   "metadata": {
    "ExecuteTime": {
     "end_time": "2025-08-22T04:17:38.812269Z",
     "start_time": "2025-08-22T04:17:38.808103Z"
    }
   },
   "outputs": [],
   "source": [
    "df.insert(1, \"news\", article_data)"
   ]
  },
  {
   "cell_type": "code",
   "execution_count": 8,
   "id": "cdc390f8d4cd8454",
   "metadata": {
    "ExecuteTime": {
     "end_time": "2025-08-22T04:17:38.822189Z",
     "start_time": "2025-08-22T04:17:38.817788Z"
    }
   },
   "outputs": [],
   "source": [
    "df[\"country\"] = \"Mexico\"\n",
    "df.loc[:71, \"country\"] = \"Colombia\""
   ]
  },
  {
   "cell_type": "code",
   "execution_count": 9,
   "id": "153fd44495d853b",
   "metadata": {
    "ExecuteTime": {
     "end_time": "2025-08-22T04:17:38.858988Z",
     "start_time": "2025-08-22T04:17:38.847752Z"
    }
   },
   "outputs": [
    {
     "data": {
      "text/html": [
       "<div>\n",
       "<style scoped>\n",
       "    .dataframe tbody tr th:only-of-type {\n",
       "        vertical-align: middle;\n",
       "    }\n",
       "\n",
       "    .dataframe tbody tr th {\n",
       "        vertical-align: top;\n",
       "    }\n",
       "\n",
       "    .dataframe thead th {\n",
       "        text-align: right;\n",
       "    }\n",
       "</style>\n",
       "<table border=\"1\" class=\"dataframe\">\n",
       "  <thead>\n",
       "    <tr style=\"text-align: right;\">\n",
       "      <th></th>\n",
       "      <th>id</th>\n",
       "      <th>news</th>\n",
       "      <th>frames</th>\n",
       "      <th>tone</th>\n",
       "      <th>principal_frames</th>\n",
       "      <th>economic</th>\n",
       "      <th>capacity_and_resources</th>\n",
       "      <th>morality</th>\n",
       "      <th>fairness_and_equality</th>\n",
       "      <th>legality_constitutionality_and_jurisprudence</th>\n",
       "      <th>policy_prescription_and_evaluation</th>\n",
       "      <th>crime_and_punishment</th>\n",
       "      <th>security_and_defense</th>\n",
       "      <th>health_and_safety</th>\n",
       "      <th>quality_of_life</th>\n",
       "      <th>cultural_identity</th>\n",
       "      <th>public_opinion</th>\n",
       "      <th>political</th>\n",
       "      <th>external_regulation_and_reputation</th>\n",
       "      <th>country</th>\n",
       "    </tr>\n",
       "  </thead>\n",
       "  <tbody>\n",
       "    <tr>\n",
       "      <th>19</th>\n",
       "      <td>Noticia_71.txt</td>\n",
       "      <td>Congreso realiza conversatorio sobre reforma c...</td>\n",
       "      <td>['public_opinion']</td>\n",
       "      <td>neutral</td>\n",
       "      <td>other</td>\n",
       "      <td>0</td>\n",
       "      <td>0</td>\n",
       "      <td>0</td>\n",
       "      <td>0</td>\n",
       "      <td>0</td>\n",
       "      <td>0</td>\n",
       "      <td>0</td>\n",
       "      <td>0</td>\n",
       "      <td>0</td>\n",
       "      <td>0</td>\n",
       "      <td>0</td>\n",
       "      <td>1</td>\n",
       "      <td>0</td>\n",
       "      <td>0</td>\n",
       "      <td>Colombia</td>\n",
       "    </tr>\n",
       "  </tbody>\n",
       "</table>\n",
       "</div>"
      ],
      "text/plain": [
       "                id                                               news  \\\n",
       "19  Noticia_71.txt  Congreso realiza conversatorio sobre reforma c...   \n",
       "\n",
       "                frames     tone principal_frames  economic  \\\n",
       "19  ['public_opinion']  neutral            other         0   \n",
       "\n",
       "    capacity_and_resources  morality  fairness_and_equality  \\\n",
       "19                       0         0                      0   \n",
       "\n",
       "    legality_constitutionality_and_jurisprudence  \\\n",
       "19                                             0   \n",
       "\n",
       "    policy_prescription_and_evaluation  crime_and_punishment  \\\n",
       "19                                   0                     0   \n",
       "\n",
       "    security_and_defense  health_and_safety  quality_of_life  \\\n",
       "19                     0                  0                0   \n",
       "\n",
       "    cultural_identity  public_opinion  political  \\\n",
       "19                  0               1          0   \n",
       "\n",
       "    external_regulation_and_reputation   country  \n",
       "19                                   0  Colombia  "
      ]
     },
     "execution_count": 9,
     "metadata": {},
     "output_type": "execute_result"
    }
   ],
   "source": [
    "df[df[\"principal_frames\"] == \"other\"]"
   ]
  },
  {
   "cell_type": "code",
   "execution_count": 10,
   "id": "3d265c00cb831d5",
   "metadata": {
    "ExecuteTime": {
     "end_time": "2025-08-22T04:17:38.884643Z",
     "start_time": "2025-08-22T04:17:38.880507Z"
    }
   },
   "outputs": [],
   "source": [
    "df.loc[df[\"principal_frames\"] == \"other\", \"principal_frames\"] = \"public_opinion\""
   ]
  },
  {
   "cell_type": "code",
   "execution_count": 11,
   "id": "f05cd72f07760215",
   "metadata": {
    "ExecuteTime": {
     "end_time": "2025-08-22T04:17:38.906159Z",
     "start_time": "2025-08-22T04:17:38.894649Z"
    }
   },
   "outputs": [
    {
     "data": {
      "text/html": [
       "<div>\n",
       "<style scoped>\n",
       "    .dataframe tbody tr th:only-of-type {\n",
       "        vertical-align: middle;\n",
       "    }\n",
       "\n",
       "    .dataframe tbody tr th {\n",
       "        vertical-align: top;\n",
       "    }\n",
       "\n",
       "    .dataframe thead th {\n",
       "        text-align: right;\n",
       "    }\n",
       "</style>\n",
       "<table border=\"1\" class=\"dataframe\">\n",
       "  <thead>\n",
       "    <tr style=\"text-align: right;\">\n",
       "      <th></th>\n",
       "      <th>id</th>\n",
       "      <th>news</th>\n",
       "      <th>frames</th>\n",
       "      <th>tone</th>\n",
       "      <th>principal_frames</th>\n",
       "      <th>economic</th>\n",
       "      <th>capacity_and_resources</th>\n",
       "      <th>morality</th>\n",
       "      <th>fairness_and_equality</th>\n",
       "      <th>legality_constitutionality_and_jurisprudence</th>\n",
       "      <th>policy_prescription_and_evaluation</th>\n",
       "      <th>crime_and_punishment</th>\n",
       "      <th>security_and_defense</th>\n",
       "      <th>health_and_safety</th>\n",
       "      <th>quality_of_life</th>\n",
       "      <th>cultural_identity</th>\n",
       "      <th>public_opinion</th>\n",
       "      <th>political</th>\n",
       "      <th>external_regulation_and_reputation</th>\n",
       "      <th>country</th>\n",
       "    </tr>\n",
       "  </thead>\n",
       "  <tbody>\n",
       "    <tr>\n",
       "      <th>0</th>\n",
       "      <td>Noticia_1.txt</td>\n",
       "      <td>¿Cuánto tiempo estoy autorizado a permanecer e...</td>\n",
       "      <td>['external_regulation_and_reputation', 'legali...</td>\n",
       "      <td>neutral</td>\n",
       "      <td>legality_constitutionality_and_jurisprudence</td>\n",
       "      <td>0</td>\n",
       "      <td>0</td>\n",
       "      <td>0</td>\n",
       "      <td>0</td>\n",
       "      <td>1</td>\n",
       "      <td>1</td>\n",
       "      <td>1</td>\n",
       "      <td>0</td>\n",
       "      <td>0</td>\n",
       "      <td>0</td>\n",
       "      <td>0</td>\n",
       "      <td>0</td>\n",
       "      <td>0</td>\n",
       "      <td>1</td>\n",
       "      <td>Colombia</td>\n",
       "    </tr>\n",
       "    <tr>\n",
       "      <th>1</th>\n",
       "      <td>Noticia_2.txt</td>\n",
       "      <td>Colombia y Venezuela instalaron comisión de ve...</td>\n",
       "      <td>['policy_prescription_and_evaluation', 'politi...</td>\n",
       "      <td>neutral</td>\n",
       "      <td>political</td>\n",
       "      <td>1</td>\n",
       "      <td>0</td>\n",
       "      <td>1</td>\n",
       "      <td>0</td>\n",
       "      <td>0</td>\n",
       "      <td>1</td>\n",
       "      <td>0</td>\n",
       "      <td>0</td>\n",
       "      <td>0</td>\n",
       "      <td>0</td>\n",
       "      <td>0</td>\n",
       "      <td>1</td>\n",
       "      <td>1</td>\n",
       "      <td>1</td>\n",
       "      <td>Colombia</td>\n",
       "    </tr>\n",
       "    <tr>\n",
       "      <th>2</th>\n",
       "      <td>Noticia_7.txt</td>\n",
       "      <td>Atrasar proceso electoral hasta enero de 2024,...</td>\n",
       "      <td>['political', 'quality_of_life', 'public_opini...</td>\n",
       "      <td>neutral</td>\n",
       "      <td>political</td>\n",
       "      <td>0</td>\n",
       "      <td>0</td>\n",
       "      <td>0</td>\n",
       "      <td>0</td>\n",
       "      <td>0</td>\n",
       "      <td>0</td>\n",
       "      <td>0</td>\n",
       "      <td>0</td>\n",
       "      <td>0</td>\n",
       "      <td>1</td>\n",
       "      <td>0</td>\n",
       "      <td>1</td>\n",
       "      <td>1</td>\n",
       "      <td>0</td>\n",
       "      <td>Colombia</td>\n",
       "    </tr>\n",
       "    <tr>\n",
       "      <th>3</th>\n",
       "      <td>Noticia_8.txt</td>\n",
       "      <td>Avanza SLP en cuanto a transparencia presupues...</td>\n",
       "      <td>['policy_prescription_and_evaluation', 'public...</td>\n",
       "      <td>neutral</td>\n",
       "      <td>policy_prescription_and_evaluation</td>\n",
       "      <td>0</td>\n",
       "      <td>0</td>\n",
       "      <td>0</td>\n",
       "      <td>0</td>\n",
       "      <td>0</td>\n",
       "      <td>1</td>\n",
       "      <td>0</td>\n",
       "      <td>0</td>\n",
       "      <td>0</td>\n",
       "      <td>0</td>\n",
       "      <td>0</td>\n",
       "      <td>1</td>\n",
       "      <td>0</td>\n",
       "      <td>1</td>\n",
       "      <td>Colombia</td>\n",
       "    </tr>\n",
       "    <tr>\n",
       "      <th>4</th>\n",
       "      <td>Noticia_9.txt</td>\n",
       "      <td>Confía dirigente del PT en mantener el registr...</td>\n",
       "      <td>['external_regulation_and_reputation', 'qualit...</td>\n",
       "      <td>negative</td>\n",
       "      <td>fairness_and_equality</td>\n",
       "      <td>0</td>\n",
       "      <td>1</td>\n",
       "      <td>0</td>\n",
       "      <td>1</td>\n",
       "      <td>0</td>\n",
       "      <td>1</td>\n",
       "      <td>0</td>\n",
       "      <td>0</td>\n",
       "      <td>0</td>\n",
       "      <td>1</td>\n",
       "      <td>0</td>\n",
       "      <td>1</td>\n",
       "      <td>0</td>\n",
       "      <td>1</td>\n",
       "      <td>Colombia</td>\n",
       "    </tr>\n",
       "  </tbody>\n",
       "</table>\n",
       "</div>"
      ],
      "text/plain": [
       "              id                                               news  \\\n",
       "0  Noticia_1.txt  ¿Cuánto tiempo estoy autorizado a permanecer e...   \n",
       "1  Noticia_2.txt  Colombia y Venezuela instalaron comisión de ve...   \n",
       "2  Noticia_7.txt  Atrasar proceso electoral hasta enero de 2024,...   \n",
       "3  Noticia_8.txt  Avanza SLP en cuanto a transparencia presupues...   \n",
       "4  Noticia_9.txt  Confía dirigente del PT en mantener el registr...   \n",
       "\n",
       "                                              frames      tone  \\\n",
       "0  ['external_regulation_and_reputation', 'legali...   neutral   \n",
       "1  ['policy_prescription_and_evaluation', 'politi...   neutral   \n",
       "2  ['political', 'quality_of_life', 'public_opini...   neutral   \n",
       "3  ['policy_prescription_and_evaluation', 'public...   neutral   \n",
       "4  ['external_regulation_and_reputation', 'qualit...  negative   \n",
       "\n",
       "                               principal_frames  economic  \\\n",
       "0  legality_constitutionality_and_jurisprudence         0   \n",
       "1                                     political         1   \n",
       "2                                     political         0   \n",
       "3            policy_prescription_and_evaluation         0   \n",
       "4                         fairness_and_equality         0   \n",
       "\n",
       "   capacity_and_resources  morality  fairness_and_equality  \\\n",
       "0                       0         0                      0   \n",
       "1                       0         1                      0   \n",
       "2                       0         0                      0   \n",
       "3                       0         0                      0   \n",
       "4                       1         0                      1   \n",
       "\n",
       "   legality_constitutionality_and_jurisprudence  \\\n",
       "0                                             1   \n",
       "1                                             0   \n",
       "2                                             0   \n",
       "3                                             0   \n",
       "4                                             0   \n",
       "\n",
       "   policy_prescription_and_evaluation  crime_and_punishment  \\\n",
       "0                                   1                     1   \n",
       "1                                   1                     0   \n",
       "2                                   0                     0   \n",
       "3                                   1                     0   \n",
       "4                                   1                     0   \n",
       "\n",
       "   security_and_defense  health_and_safety  quality_of_life  \\\n",
       "0                     0                  0                0   \n",
       "1                     0                  0                0   \n",
       "2                     0                  0                1   \n",
       "3                     0                  0                0   \n",
       "4                     0                  0                1   \n",
       "\n",
       "   cultural_identity  public_opinion  political  \\\n",
       "0                  0               0          0   \n",
       "1                  0               1          1   \n",
       "2                  0               1          1   \n",
       "3                  0               1          0   \n",
       "4                  0               1          0   \n",
       "\n",
       "   external_regulation_and_reputation   country  \n",
       "0                                   1  Colombia  \n",
       "1                                   1  Colombia  \n",
       "2                                   0  Colombia  \n",
       "3                                   1  Colombia  \n",
       "4                                   1  Colombia  "
      ]
     },
     "execution_count": 11,
     "metadata": {},
     "output_type": "execute_result"
    }
   ],
   "source": [
    "df.head()"
   ]
  },
  {
   "cell_type": "code",
   "execution_count": 12,
   "id": "3dcc8196a099690c",
   "metadata": {
    "ExecuteTime": {
     "end_time": "2025-08-22T04:17:38.928866Z",
     "start_time": "2025-08-22T04:17:38.919679Z"
    }
   },
   "outputs": [
    {
     "data": {
      "text/html": [
       "<div>\n",
       "<style scoped>\n",
       "    .dataframe tbody tr th:only-of-type {\n",
       "        vertical-align: middle;\n",
       "    }\n",
       "\n",
       "    .dataframe tbody tr th {\n",
       "        vertical-align: top;\n",
       "    }\n",
       "\n",
       "    .dataframe thead th {\n",
       "        text-align: right;\n",
       "    }\n",
       "</style>\n",
       "<table border=\"1\" class=\"dataframe\">\n",
       "  <thead>\n",
       "    <tr style=\"text-align: right;\">\n",
       "      <th></th>\n",
       "      <th>id</th>\n",
       "      <th>news</th>\n",
       "      <th>frames</th>\n",
       "      <th>tone</th>\n",
       "      <th>principal_frames</th>\n",
       "      <th>economic</th>\n",
       "      <th>capacity_and_resources</th>\n",
       "      <th>morality</th>\n",
       "      <th>fairness_and_equality</th>\n",
       "      <th>legality_constitutionality_and_jurisprudence</th>\n",
       "      <th>policy_prescription_and_evaluation</th>\n",
       "      <th>crime_and_punishment</th>\n",
       "      <th>security_and_defense</th>\n",
       "      <th>health_and_safety</th>\n",
       "      <th>quality_of_life</th>\n",
       "      <th>cultural_identity</th>\n",
       "      <th>public_opinion</th>\n",
       "      <th>political</th>\n",
       "      <th>external_regulation_and_reputation</th>\n",
       "      <th>country</th>\n",
       "    </tr>\n",
       "  </thead>\n",
       "  <tbody>\n",
       "    <tr>\n",
       "      <th>135</th>\n",
       "      <td>Noticia_120.txt</td>\n",
       "      <td>Vacaciones de terror: agencia de viajes poblan...</td>\n",
       "      <td>['public_opinion', 'political', 'quality_of_li...</td>\n",
       "      <td>neutral</td>\n",
       "      <td>political</td>\n",
       "      <td>0</td>\n",
       "      <td>0</td>\n",
       "      <td>0</td>\n",
       "      <td>0</td>\n",
       "      <td>0</td>\n",
       "      <td>0</td>\n",
       "      <td>0</td>\n",
       "      <td>0</td>\n",
       "      <td>0</td>\n",
       "      <td>1</td>\n",
       "      <td>0</td>\n",
       "      <td>1</td>\n",
       "      <td>1</td>\n",
       "      <td>0</td>\n",
       "      <td>Mexico</td>\n",
       "    </tr>\n",
       "    <tr>\n",
       "      <th>136</th>\n",
       "      <td>Noticia_119.txt</td>\n",
       "      <td>En SLP, la gasolina más barata se vende por de...</td>\n",
       "      <td>['capacity_and_resources', 'economic', 'politi...</td>\n",
       "      <td>neutral</td>\n",
       "      <td>economic</td>\n",
       "      <td>1</td>\n",
       "      <td>1</td>\n",
       "      <td>0</td>\n",
       "      <td>0</td>\n",
       "      <td>0</td>\n",
       "      <td>0</td>\n",
       "      <td>0</td>\n",
       "      <td>0</td>\n",
       "      <td>0</td>\n",
       "      <td>0</td>\n",
       "      <td>0</td>\n",
       "      <td>1</td>\n",
       "      <td>1</td>\n",
       "      <td>0</td>\n",
       "      <td>Mexico</td>\n",
       "    </tr>\n",
       "    <tr>\n",
       "      <th>137</th>\n",
       "      <td>Noticia_118.txt</td>\n",
       "      <td>Inflación baja a 4.79% en la primera mitad de ...</td>\n",
       "      <td>['security_and_defense', 'political']</td>\n",
       "      <td>positive</td>\n",
       "      <td>security_and_defense</td>\n",
       "      <td>0</td>\n",
       "      <td>0</td>\n",
       "      <td>0</td>\n",
       "      <td>0</td>\n",
       "      <td>0</td>\n",
       "      <td>0</td>\n",
       "      <td>0</td>\n",
       "      <td>1</td>\n",
       "      <td>0</td>\n",
       "      <td>0</td>\n",
       "      <td>0</td>\n",
       "      <td>0</td>\n",
       "      <td>1</td>\n",
       "      <td>0</td>\n",
       "      <td>Mexico</td>\n",
       "    </tr>\n",
       "    <tr>\n",
       "      <th>138</th>\n",
       "      <td>Noticia_117.txt</td>\n",
       "      <td>Reducción de jornada laboral provocará un desp...</td>\n",
       "      <td>['security_and_defense', 'morality', 'public_o...</td>\n",
       "      <td>neutral</td>\n",
       "      <td>security_and_defense</td>\n",
       "      <td>0</td>\n",
       "      <td>0</td>\n",
       "      <td>1</td>\n",
       "      <td>0</td>\n",
       "      <td>1</td>\n",
       "      <td>0</td>\n",
       "      <td>0</td>\n",
       "      <td>1</td>\n",
       "      <td>0</td>\n",
       "      <td>1</td>\n",
       "      <td>0</td>\n",
       "      <td>1</td>\n",
       "      <td>1</td>\n",
       "      <td>0</td>\n",
       "      <td>Mexico</td>\n",
       "    </tr>\n",
       "    <tr>\n",
       "      <th>139</th>\n",
       "      <td>Noticia_116.txt</td>\n",
       "      <td>Advierte Ricardo Gallardo más cambios en su ga...</td>\n",
       "      <td>['policy_prescription_and_evaluation', 'public...</td>\n",
       "      <td>positive</td>\n",
       "      <td>policy_prescription_and_evaluation</td>\n",
       "      <td>0</td>\n",
       "      <td>0</td>\n",
       "      <td>0</td>\n",
       "      <td>1</td>\n",
       "      <td>0</td>\n",
       "      <td>1</td>\n",
       "      <td>0</td>\n",
       "      <td>0</td>\n",
       "      <td>0</td>\n",
       "      <td>0</td>\n",
       "      <td>0</td>\n",
       "      <td>1</td>\n",
       "      <td>1</td>\n",
       "      <td>0</td>\n",
       "      <td>Mexico</td>\n",
       "    </tr>\n",
       "  </tbody>\n",
       "</table>\n",
       "</div>"
      ],
      "text/plain": [
       "                  id                                               news  \\\n",
       "135  Noticia_120.txt  Vacaciones de terror: agencia de viajes poblan...   \n",
       "136  Noticia_119.txt  En SLP, la gasolina más barata se vende por de...   \n",
       "137  Noticia_118.txt  Inflación baja a 4.79% en la primera mitad de ...   \n",
       "138  Noticia_117.txt  Reducción de jornada laboral provocará un desp...   \n",
       "139  Noticia_116.txt  Advierte Ricardo Gallardo más cambios en su ga...   \n",
       "\n",
       "                                                frames      tone  \\\n",
       "135  ['public_opinion', 'political', 'quality_of_li...   neutral   \n",
       "136  ['capacity_and_resources', 'economic', 'politi...   neutral   \n",
       "137              ['security_and_defense', 'political']  positive   \n",
       "138  ['security_and_defense', 'morality', 'public_o...   neutral   \n",
       "139  ['policy_prescription_and_evaluation', 'public...  positive   \n",
       "\n",
       "                       principal_frames  economic  capacity_and_resources  \\\n",
       "135                           political         0                       0   \n",
       "136                            economic         1                       1   \n",
       "137                security_and_defense         0                       0   \n",
       "138                security_and_defense         0                       0   \n",
       "139  policy_prescription_and_evaluation         0                       0   \n",
       "\n",
       "     morality  fairness_and_equality  \\\n",
       "135         0                      0   \n",
       "136         0                      0   \n",
       "137         0                      0   \n",
       "138         1                      0   \n",
       "139         0                      1   \n",
       "\n",
       "     legality_constitutionality_and_jurisprudence  \\\n",
       "135                                             0   \n",
       "136                                             0   \n",
       "137                                             0   \n",
       "138                                             1   \n",
       "139                                             0   \n",
       "\n",
       "     policy_prescription_and_evaluation  crime_and_punishment  \\\n",
       "135                                   0                     0   \n",
       "136                                   0                     0   \n",
       "137                                   0                     0   \n",
       "138                                   0                     0   \n",
       "139                                   1                     0   \n",
       "\n",
       "     security_and_defense  health_and_safety  quality_of_life  \\\n",
       "135                     0                  0                1   \n",
       "136                     0                  0                0   \n",
       "137                     1                  0                0   \n",
       "138                     1                  0                1   \n",
       "139                     0                  0                0   \n",
       "\n",
       "     cultural_identity  public_opinion  political  \\\n",
       "135                  0               1          1   \n",
       "136                  0               1          1   \n",
       "137                  0               0          1   \n",
       "138                  0               1          1   \n",
       "139                  0               1          1   \n",
       "\n",
       "     external_regulation_and_reputation country  \n",
       "135                                   0  Mexico  \n",
       "136                                   0  Mexico  \n",
       "137                                   0  Mexico  \n",
       "138                                   0  Mexico  \n",
       "139                                   0  Mexico  "
      ]
     },
     "execution_count": 12,
     "metadata": {},
     "output_type": "execute_result"
    }
   ],
   "source": [
    "df.tail()"
   ]
  },
  {
   "cell_type": "markdown",
   "id": "981fd269d1d87c1b",
   "metadata": {},
   "source": [
    "## Paso 1: Preprocesamiento de los textos"
   ]
  },
  {
   "cell_type": "markdown",
   "id": "38db304eb043ab5f",
   "metadata": {},
   "source": [
    "### Paso 1.1: Descargar tokenizador"
   ]
  },
  {
   "cell_type": "code",
   "execution_count": 13,
   "id": "10584af01c1b8a8c",
   "metadata": {
    "ExecuteTime": {
     "end_time": "2025-08-22T04:17:39.286034Z",
     "start_time": "2025-08-22T04:17:38.947897Z"
    }
   },
   "outputs": [
    {
     "ename": "OSError",
     "evalue": "[E050] Can't find model 'es_core_news_sm'. It doesn't seem to be a Python package or a valid path to a data directory.",
     "output_type": "error",
     "traceback": [
      "\u001b[31m---------------------------------------------------------------------------\u001b[39m",
      "\u001b[31mOSError\u001b[39m                                   Traceback (most recent call last)",
      "\u001b[36mCell\u001b[39m\u001b[36m \u001b[39m\u001b[32mIn[13]\u001b[39m\u001b[32m, line 1\u001b[39m\n\u001b[32m----> \u001b[39m\u001b[32m1\u001b[39m nlp_spacy = \u001b[43mspacy\u001b[49m\u001b[43m.\u001b[49m\u001b[43mload\u001b[49m\u001b[43m(\u001b[49m\u001b[33;43m\"\u001b[39;49m\u001b[33;43mes_core_news_sm\u001b[39;49m\u001b[33;43m\"\u001b[39;49m\u001b[43m)\u001b[49m\n",
      "\u001b[36mFile \u001b[39m\u001b[32mc:\\QA\\tesis-optimizacion-de-modelos-de-question-answering\\.venv\\Lib\\site-packages\\spacy\\__init__.py:52\u001b[39m, in \u001b[36mload\u001b[39m\u001b[34m(name, vocab, disable, enable, exclude, config)\u001b[39m\n\u001b[32m     28\u001b[39m \u001b[38;5;28;01mdef\u001b[39;00m\u001b[38;5;250m \u001b[39m\u001b[34mload\u001b[39m(\n\u001b[32m     29\u001b[39m     name: Union[\u001b[38;5;28mstr\u001b[39m, Path],\n\u001b[32m     30\u001b[39m     *,\n\u001b[32m   (...)\u001b[39m\u001b[32m     35\u001b[39m     config: Union[Dict[\u001b[38;5;28mstr\u001b[39m, Any], Config] = util.SimpleFrozenDict(),\n\u001b[32m     36\u001b[39m ) -> Language:\n\u001b[32m     37\u001b[39m \u001b[38;5;250m    \u001b[39m\u001b[33;03m\"\"\"Load a spaCy model from an installed package or a local path.\u001b[39;00m\n\u001b[32m     38\u001b[39m \n\u001b[32m     39\u001b[39m \u001b[33;03m    name (str): Package name or model path.\u001b[39;00m\n\u001b[32m   (...)\u001b[39m\u001b[32m     50\u001b[39m \u001b[33;03m    RETURNS (Language): The loaded nlp object.\u001b[39;00m\n\u001b[32m     51\u001b[39m \u001b[33;03m    \"\"\"\u001b[39;00m\n\u001b[32m---> \u001b[39m\u001b[32m52\u001b[39m     \u001b[38;5;28;01mreturn\u001b[39;00m \u001b[43mutil\u001b[49m\u001b[43m.\u001b[49m\u001b[43mload_model\u001b[49m\u001b[43m(\u001b[49m\n\u001b[32m     53\u001b[39m \u001b[43m        \u001b[49m\u001b[43mname\u001b[49m\u001b[43m,\u001b[49m\n\u001b[32m     54\u001b[39m \u001b[43m        \u001b[49m\u001b[43mvocab\u001b[49m\u001b[43m=\u001b[49m\u001b[43mvocab\u001b[49m\u001b[43m,\u001b[49m\n\u001b[32m     55\u001b[39m \u001b[43m        \u001b[49m\u001b[43mdisable\u001b[49m\u001b[43m=\u001b[49m\u001b[43mdisable\u001b[49m\u001b[43m,\u001b[49m\n\u001b[32m     56\u001b[39m \u001b[43m        \u001b[49m\u001b[43menable\u001b[49m\u001b[43m=\u001b[49m\u001b[43menable\u001b[49m\u001b[43m,\u001b[49m\n\u001b[32m     57\u001b[39m \u001b[43m        \u001b[49m\u001b[43mexclude\u001b[49m\u001b[43m=\u001b[49m\u001b[43mexclude\u001b[49m\u001b[43m,\u001b[49m\n\u001b[32m     58\u001b[39m \u001b[43m        \u001b[49m\u001b[43mconfig\u001b[49m\u001b[43m=\u001b[49m\u001b[43mconfig\u001b[49m\u001b[43m,\u001b[49m\n\u001b[32m     59\u001b[39m \u001b[43m    \u001b[49m\u001b[43m)\u001b[49m\n",
      "\u001b[36mFile \u001b[39m\u001b[32mc:\\QA\\tesis-optimizacion-de-modelos-de-question-answering\\.venv\\Lib\\site-packages\\spacy\\util.py:484\u001b[39m, in \u001b[36mload_model\u001b[39m\u001b[34m(name, vocab, disable, enable, exclude, config)\u001b[39m\n\u001b[32m    482\u001b[39m \u001b[38;5;28;01mif\u001b[39;00m name \u001b[38;5;129;01min\u001b[39;00m OLD_MODEL_SHORTCUTS:\n\u001b[32m    483\u001b[39m     \u001b[38;5;28;01mraise\u001b[39;00m \u001b[38;5;167;01mIOError\u001b[39;00m(Errors.E941.format(name=name, full=OLD_MODEL_SHORTCUTS[name]))  \u001b[38;5;66;03m# type: ignore[index]\u001b[39;00m\n\u001b[32m--> \u001b[39m\u001b[32m484\u001b[39m \u001b[38;5;28;01mraise\u001b[39;00m \u001b[38;5;167;01mIOError\u001b[39;00m(Errors.E050.format(name=name))\n",
      "\u001b[31mOSError\u001b[39m: [E050] Can't find model 'es_core_news_sm'. It doesn't seem to be a Python package or a valid path to a data directory."
     ]
    }
   ],
   "source": [
    "nlp_spacy = spacy.load(\"es_core_news_sm\")"
   ]
  },
  {
   "cell_type": "markdown",
   "id": "8fdbab01e0229a4e",
   "metadata": {},
   "source": [
    "### Paso 1.2: Guardar los datos originales"
   ]
  },
  {
   "cell_type": "code",
   "execution_count": 52,
   "id": "c69462a9bf76e861",
   "metadata": {
    "ExecuteTime": {
     "end_time": "2025-08-22T04:17:39.300062Z",
     "start_time": "2025-08-22T04:17:39.296557Z"
    }
   },
   "outputs": [],
   "source": [
    "df_original = df.copy()"
   ]
  },
  {
   "cell_type": "markdown",
   "id": "7755422a6026aeee",
   "metadata": {},
   "source": [
    "### Paso 1.3: Eliminación de elementos no deseados"
   ]
  },
  {
   "cell_type": "code",
   "execution_count": 53,
   "id": "6536928efd00d77",
   "metadata": {
    "ExecuteTime": {
     "end_time": "2025-08-22T04:17:39.317005Z",
     "start_time": "2025-08-22T04:17:39.313591Z"
    }
   },
   "outputs": [],
   "source": [
    "def extract_text_without_unwanted_elements(text):\n",
    "    text = re.sub(r'[^\\w\\s]', '', text)\n",
    "    return text"
   ]
  },
  {
   "cell_type": "markdown",
   "id": "7f6feb87c94d7824",
   "metadata": {},
   "source": [
    "### Paso 1.4: Conversión a minúsculas"
   ]
  },
  {
   "cell_type": "code",
   "execution_count": 54,
   "id": "e96fb1e3e64e18a6",
   "metadata": {
    "ExecuteTime": {
     "end_time": "2025-08-22T04:17:39.333455Z",
     "start_time": "2025-08-22T04:17:39.330184Z"
    }
   },
   "outputs": [],
   "source": [
    "def convertToLowerCase(text):\n",
    "    return text.lower()"
   ]
  },
  {
   "cell_type": "markdown",
   "id": "b8be8c60c3698bfa",
   "metadata": {},
   "source": [
    "### Paso 1.5: Transformación UNICODE"
   ]
  },
  {
   "cell_type": "code",
   "execution_count": 55,
   "id": "e9ea9a833abe537b",
   "metadata": {
    "ExecuteTime": {
     "end_time": "2025-08-22T04:17:39.350482Z",
     "start_time": "2025-08-22T04:17:39.346993Z"
    }
   },
   "outputs": [],
   "source": [
    "def unicodeTransformation(text, method=\"NFKD\"):\n",
    "    return unicodedata.normalize(method, text)"
   ]
  },
  {
   "cell_type": "markdown",
   "id": "e9e9f129c9de079c",
   "metadata": {},
   "source": [
    "### Paso 1.6 Tokenización"
   ]
  },
  {
   "cell_type": "code",
   "execution_count": 56,
   "id": "8a080b15538d3e3a",
   "metadata": {
    "ExecuteTime": {
     "end_time": "2025-08-22T04:17:39.368050Z",
     "start_time": "2025-08-22T04:17:39.364544Z"
    }
   },
   "outputs": [],
   "source": [
    "def spacy_tokenization(text):\n",
    "    tokens = [token.text for token in nlp_spacy(text)]\n",
    "    return \" \".join(tokens)"
   ]
  },
  {
   "cell_type": "markdown",
   "id": "325bdf6e9fb55734",
   "metadata": {},
   "source": [
    "### Paso 1.7 Eliminación de Stop Words"
   ]
  },
  {
   "cell_type": "code",
   "execution_count": 57,
   "id": "fab27b89af277bf7",
   "metadata": {
    "ExecuteTime": {
     "end_time": "2025-08-22T04:17:39.379057Z",
     "start_time": "2025-08-22T04:17:39.375063Z"
    }
   },
   "outputs": [],
   "source": [
    "def remove_stopwords_spacy(text):\n",
    "    \"\"\"\n",
    "    Return Spanish text without stop words using spaCy\n",
    "    \"\"\"\n",
    "    nlp = spacy.load(\"es_core_news_sm\")\n",
    "    doc = nlp(text)\n",
    "    filtered = [token.text for token in doc if not token.is_stop]\n",
    "    return \" \".join(filtered)"
   ]
  },
  {
   "cell_type": "code",
   "execution_count": 101,
   "id": "184ddf2c10fb7371",
   "metadata": {
    "ExecuteTime": {
     "end_time": "2025-08-22T04:25:22.790395Z",
     "start_time": "2025-08-22T04:25:22.786430Z"
    }
   },
   "outputs": [],
   "source": [
    "def get_stopwords_spacy(text):\n",
    "    \"\"\"\n",
    "    Return stop words from Spanish text using spaCy\n",
    "    \"\"\"\n",
    "    nlp = spacy.load(\"es_core_news_sm\")\n",
    "    doc = nlp(text)\n",
    "    text_stopwords = [token.text for token in doc if token.is_stop]\n",
    "    return \" \".join(text_stopwords)"
   ]
  },
  {
   "cell_type": "markdown",
   "id": "7f1dda7bfdf47371",
   "metadata": {},
   "source": [
    "### Paso 1.8 Lematización"
   ]
  },
  {
   "cell_type": "code",
   "execution_count": 59,
   "id": "8c94242a9d35dc56",
   "metadata": {
    "ExecuteTime": {
     "end_time": "2025-08-22T04:17:39.405762Z",
     "start_time": "2025-08-22T04:17:39.401760Z"
    }
   },
   "outputs": [],
   "source": [
    "def lemmatize_with_flair(text):\n",
    "    \"\"\"Lematizar texto usando Flair\"\"\"\n",
    "    tagger = SequenceTagger.load('pos-fast')\n",
    "    sentence = Sentence(text)\n",
    "    tagger.predict(sentence)\n",
    "    lemmas = [token.text for token in sentence.tokens]\n",
    "    return \" \".join(lemmas)"
   ]
  },
  {
   "cell_type": "markdown",
   "id": "e7b19ca800852e61",
   "metadata": {},
   "source": [
    "### 1.13 Procedimiento de Textos"
   ]
  },
  {
   "cell_type": "code",
   "execution_count": 60,
   "id": "b6632b7e633a4a07",
   "metadata": {
    "ExecuteTime": {
     "end_time": "2025-08-22T04:17:39.425302Z",
     "start_time": "2025-08-22T04:17:39.414837Z"
    }
   },
   "outputs": [],
   "source": [
    "df[\"news_cleaned\"] = df[\"news\"].apply(extract_text_without_unwanted_elements)"
   ]
  },
  {
   "cell_type": "code",
   "execution_count": 61,
   "id": "7e3653e276808e3",
   "metadata": {
    "ExecuteTime": {
     "end_time": "2025-08-22T04:17:39.438315Z",
     "start_time": "2025-08-22T04:17:39.431313Z"
    }
   },
   "outputs": [],
   "source": [
    "df[\"news_cleaned\"] = df[\"news_cleaned\"].apply(convertToLowerCase)"
   ]
  },
  {
   "cell_type": "code",
   "execution_count": 62,
   "id": "af747d54de04e66f",
   "metadata": {
    "ExecuteTime": {
     "end_time": "2025-08-22T04:17:39.450883Z",
     "start_time": "2025-08-22T04:17:39.443883Z"
    }
   },
   "outputs": [],
   "source": [
    "df[\"news_cleaned\"] = df[\"news_cleaned\"].apply(unicodeTransformation)"
   ]
  },
  {
   "cell_type": "code",
   "execution_count": 102,
   "id": "534d55fbbcdcce37",
   "metadata": {
    "ExecuteTime": {
     "end_time": "2025-08-22T04:26:24.204398Z",
     "start_time": "2025-08-22T04:25:32.167402Z"
    }
   },
   "outputs": [],
   "source": [
    "df[\"news_stopwords\"] = df[\"news_cleaned\"].apply(get_stopwords_spacy)"
   ]
  },
  {
   "cell_type": "code",
   "execution_count": 63,
   "id": "860a861f8c07c9a0",
   "metadata": {
    "ExecuteTime": {
     "end_time": "2025-08-22T04:18:30.146158Z",
     "start_time": "2025-08-22T04:17:39.457018Z"
    }
   },
   "outputs": [],
   "source": [
    "df[\"news_cleaned_without_stopwords\"] = df[\"news_cleaned\"].apply(remove_stopwords_spacy)"
   ]
  },
  {
   "cell_type": "code",
   "execution_count": 64,
   "id": "6d100c22bfb958d",
   "metadata": {
    "ExecuteTime": {
     "end_time": "2025-08-22T04:18:36.841650Z",
     "start_time": "2025-08-22T04:18:30.154165Z"
    }
   },
   "outputs": [],
   "source": [
    "df[\"news_tokens\"] = df[\"news_cleaned_without_stopwords\"].apply(spacy_tokenization)"
   ]
  },
  {
   "cell_type": "code",
   "execution_count": 65,
   "id": "b4369afcc82002fc",
   "metadata": {
    "ExecuteTime": {
     "end_time": "2025-08-22T04:20:53.916667Z",
     "start_time": "2025-08-22T04:18:36.849655Z"
    }
   },
   "outputs": [
    {
     "name": "stdout",
     "output_type": "stream",
     "text": [
      "2025-08-21 23:18:37,434 SequenceTagger predicts: Dictionary with 53 tags: <unk>, O, UH, ,, VBD, PRP, VB, PRP$, NN, RB, ., DT, JJ, VBP, VBG, IN, CD, NNS, NNP, WRB, VBZ, WDT, CC, TO, MD, VBN, WP, :, RP, EX, JJR, FW, XX, HYPH, POS, RBR, JJS, PDT, NNPS, RBS, AFX, WP$, -LRB-, -RRB-, ``, '', LS, $, SYM, ADD\n",
      "2025-08-21 23:18:38,302 SequenceTagger predicts: Dictionary with 53 tags: <unk>, O, UH, ,, VBD, PRP, VB, PRP$, NN, RB, ., DT, JJ, VBP, VBG, IN, CD, NNS, NNP, WRB, VBZ, WDT, CC, TO, MD, VBN, WP, :, RP, EX, JJR, FW, XX, HYPH, POS, RBR, JJS, PDT, NNPS, RBS, AFX, WP$, -LRB-, -RRB-, ``, '', LS, $, SYM, ADD\n",
      "2025-08-21 23:18:39,142 SequenceTagger predicts: Dictionary with 53 tags: <unk>, O, UH, ,, VBD, PRP, VB, PRP$, NN, RB, ., DT, JJ, VBP, VBG, IN, CD, NNS, NNP, WRB, VBZ, WDT, CC, TO, MD, VBN, WP, :, RP, EX, JJR, FW, XX, HYPH, POS, RBR, JJS, PDT, NNPS, RBS, AFX, WP$, -LRB-, -RRB-, ``, '', LS, $, SYM, ADD\n",
      "2025-08-21 23:18:39,762 SequenceTagger predicts: Dictionary with 53 tags: <unk>, O, UH, ,, VBD, PRP, VB, PRP$, NN, RB, ., DT, JJ, VBP, VBG, IN, CD, NNS, NNP, WRB, VBZ, WDT, CC, TO, MD, VBN, WP, :, RP, EX, JJR, FW, XX, HYPH, POS, RBR, JJS, PDT, NNPS, RBS, AFX, WP$, -LRB-, -RRB-, ``, '', LS, $, SYM, ADD\n",
      "2025-08-21 23:18:40,407 SequenceTagger predicts: Dictionary with 53 tags: <unk>, O, UH, ,, VBD, PRP, VB, PRP$, NN, RB, ., DT, JJ, VBP, VBG, IN, CD, NNS, NNP, WRB, VBZ, WDT, CC, TO, MD, VBN, WP, :, RP, EX, JJR, FW, XX, HYPH, POS, RBR, JJS, PDT, NNPS, RBS, AFX, WP$, -LRB-, -RRB-, ``, '', LS, $, SYM, ADD\n",
      "2025-08-21 23:18:41,058 SequenceTagger predicts: Dictionary with 53 tags: <unk>, O, UH, ,, VBD, PRP, VB, PRP$, NN, RB, ., DT, JJ, VBP, VBG, IN, CD, NNS, NNP, WRB, VBZ, WDT, CC, TO, MD, VBN, WP, :, RP, EX, JJR, FW, XX, HYPH, POS, RBR, JJS, PDT, NNPS, RBS, AFX, WP$, -LRB-, -RRB-, ``, '', LS, $, SYM, ADD\n",
      "2025-08-21 23:18:41,638 SequenceTagger predicts: Dictionary with 53 tags: <unk>, O, UH, ,, VBD, PRP, VB, PRP$, NN, RB, ., DT, JJ, VBP, VBG, IN, CD, NNS, NNP, WRB, VBZ, WDT, CC, TO, MD, VBN, WP, :, RP, EX, JJR, FW, XX, HYPH, POS, RBR, JJS, PDT, NNPS, RBS, AFX, WP$, -LRB-, -RRB-, ``, '', LS, $, SYM, ADD\n",
      "2025-08-21 23:18:42,485 SequenceTagger predicts: Dictionary with 53 tags: <unk>, O, UH, ,, VBD, PRP, VB, PRP$, NN, RB, ., DT, JJ, VBP, VBG, IN, CD, NNS, NNP, WRB, VBZ, WDT, CC, TO, MD, VBN, WP, :, RP, EX, JJR, FW, XX, HYPH, POS, RBR, JJS, PDT, NNPS, RBS, AFX, WP$, -LRB-, -RRB-, ``, '', LS, $, SYM, ADD\n",
      "2025-08-21 23:18:43,289 SequenceTagger predicts: Dictionary with 53 tags: <unk>, O, UH, ,, VBD, PRP, VB, PRP$, NN, RB, ., DT, JJ, VBP, VBG, IN, CD, NNS, NNP, WRB, VBZ, WDT, CC, TO, MD, VBN, WP, :, RP, EX, JJR, FW, XX, HYPH, POS, RBR, JJS, PDT, NNPS, RBS, AFX, WP$, -LRB-, -RRB-, ``, '', LS, $, SYM, ADD\n",
      "2025-08-21 23:18:43,861 SequenceTagger predicts: Dictionary with 53 tags: <unk>, O, UH, ,, VBD, PRP, VB, PRP$, NN, RB, ., DT, JJ, VBP, VBG, IN, CD, NNS, NNP, WRB, VBZ, WDT, CC, TO, MD, VBN, WP, :, RP, EX, JJR, FW, XX, HYPH, POS, RBR, JJS, PDT, NNPS, RBS, AFX, WP$, -LRB-, -RRB-, ``, '', LS, $, SYM, ADD\n",
      "2025-08-21 23:18:44,528 SequenceTagger predicts: Dictionary with 53 tags: <unk>, O, UH, ,, VBD, PRP, VB, PRP$, NN, RB, ., DT, JJ, VBP, VBG, IN, CD, NNS, NNP, WRB, VBZ, WDT, CC, TO, MD, VBN, WP, :, RP, EX, JJR, FW, XX, HYPH, POS, RBR, JJS, PDT, NNPS, RBS, AFX, WP$, -LRB-, -RRB-, ``, '', LS, $, SYM, ADD\n",
      "2025-08-21 23:18:45,187 SequenceTagger predicts: Dictionary with 53 tags: <unk>, O, UH, ,, VBD, PRP, VB, PRP$, NN, RB, ., DT, JJ, VBP, VBG, IN, CD, NNS, NNP, WRB, VBZ, WDT, CC, TO, MD, VBN, WP, :, RP, EX, JJR, FW, XX, HYPH, POS, RBR, JJS, PDT, NNPS, RBS, AFX, WP$, -LRB-, -RRB-, ``, '', LS, $, SYM, ADD\n",
      "2025-08-21 23:18:45,668 SequenceTagger predicts: Dictionary with 53 tags: <unk>, O, UH, ,, VBD, PRP, VB, PRP$, NN, RB, ., DT, JJ, VBP, VBG, IN, CD, NNS, NNP, WRB, VBZ, WDT, CC, TO, MD, VBN, WP, :, RP, EX, JJR, FW, XX, HYPH, POS, RBR, JJS, PDT, NNPS, RBS, AFX, WP$, -LRB-, -RRB-, ``, '', LS, $, SYM, ADD\n",
      "2025-08-21 23:18:46,325 SequenceTagger predicts: Dictionary with 53 tags: <unk>, O, UH, ,, VBD, PRP, VB, PRP$, NN, RB, ., DT, JJ, VBP, VBG, IN, CD, NNS, NNP, WRB, VBZ, WDT, CC, TO, MD, VBN, WP, :, RP, EX, JJR, FW, XX, HYPH, POS, RBR, JJS, PDT, NNPS, RBS, AFX, WP$, -LRB-, -RRB-, ``, '', LS, $, SYM, ADD\n",
      "2025-08-21 23:18:46,870 SequenceTagger predicts: Dictionary with 53 tags: <unk>, O, UH, ,, VBD, PRP, VB, PRP$, NN, RB, ., DT, JJ, VBP, VBG, IN, CD, NNS, NNP, WRB, VBZ, WDT, CC, TO, MD, VBN, WP, :, RP, EX, JJR, FW, XX, HYPH, POS, RBR, JJS, PDT, NNPS, RBS, AFX, WP$, -LRB-, -RRB-, ``, '', LS, $, SYM, ADD\n",
      "2025-08-21 23:18:47,738 SequenceTagger predicts: Dictionary with 53 tags: <unk>, O, UH, ,, VBD, PRP, VB, PRP$, NN, RB, ., DT, JJ, VBP, VBG, IN, CD, NNS, NNP, WRB, VBZ, WDT, CC, TO, MD, VBN, WP, :, RP, EX, JJR, FW, XX, HYPH, POS, RBR, JJS, PDT, NNPS, RBS, AFX, WP$, -LRB-, -RRB-, ``, '', LS, $, SYM, ADD\n",
      "2025-08-21 23:18:48,364 SequenceTagger predicts: Dictionary with 53 tags: <unk>, O, UH, ,, VBD, PRP, VB, PRP$, NN, RB, ., DT, JJ, VBP, VBG, IN, CD, NNS, NNP, WRB, VBZ, WDT, CC, TO, MD, VBN, WP, :, RP, EX, JJR, FW, XX, HYPH, POS, RBR, JJS, PDT, NNPS, RBS, AFX, WP$, -LRB-, -RRB-, ``, '', LS, $, SYM, ADD\n",
      "2025-08-21 23:18:48,907 SequenceTagger predicts: Dictionary with 53 tags: <unk>, O, UH, ,, VBD, PRP, VB, PRP$, NN, RB, ., DT, JJ, VBP, VBG, IN, CD, NNS, NNP, WRB, VBZ, WDT, CC, TO, MD, VBN, WP, :, RP, EX, JJR, FW, XX, HYPH, POS, RBR, JJS, PDT, NNPS, RBS, AFX, WP$, -LRB-, -RRB-, ``, '', LS, $, SYM, ADD\n",
      "2025-08-21 23:18:49,831 SequenceTagger predicts: Dictionary with 53 tags: <unk>, O, UH, ,, VBD, PRP, VB, PRP$, NN, RB, ., DT, JJ, VBP, VBG, IN, CD, NNS, NNP, WRB, VBZ, WDT, CC, TO, MD, VBN, WP, :, RP, EX, JJR, FW, XX, HYPH, POS, RBR, JJS, PDT, NNPS, RBS, AFX, WP$, -LRB-, -RRB-, ``, '', LS, $, SYM, ADD\n",
      "2025-08-21 23:18:50,499 SequenceTagger predicts: Dictionary with 53 tags: <unk>, O, UH, ,, VBD, PRP, VB, PRP$, NN, RB, ., DT, JJ, VBP, VBG, IN, CD, NNS, NNP, WRB, VBZ, WDT, CC, TO, MD, VBN, WP, :, RP, EX, JJR, FW, XX, HYPH, POS, RBR, JJS, PDT, NNPS, RBS, AFX, WP$, -LRB-, -RRB-, ``, '', LS, $, SYM, ADD\n",
      "2025-08-21 23:18:51,367 SequenceTagger predicts: Dictionary with 53 tags: <unk>, O, UH, ,, VBD, PRP, VB, PRP$, NN, RB, ., DT, JJ, VBP, VBG, IN, CD, NNS, NNP, WRB, VBZ, WDT, CC, TO, MD, VBN, WP, :, RP, EX, JJR, FW, XX, HYPH, POS, RBR, JJS, PDT, NNPS, RBS, AFX, WP$, -LRB-, -RRB-, ``, '', LS, $, SYM, ADD\n",
      "2025-08-21 23:18:52,284 SequenceTagger predicts: Dictionary with 53 tags: <unk>, O, UH, ,, VBD, PRP, VB, PRP$, NN, RB, ., DT, JJ, VBP, VBG, IN, CD, NNS, NNP, WRB, VBZ, WDT, CC, TO, MD, VBN, WP, :, RP, EX, JJR, FW, XX, HYPH, POS, RBR, JJS, PDT, NNPS, RBS, AFX, WP$, -LRB-, -RRB-, ``, '', LS, $, SYM, ADD\n",
      "2025-08-21 23:18:52,911 SequenceTagger predicts: Dictionary with 53 tags: <unk>, O, UH, ,, VBD, PRP, VB, PRP$, NN, RB, ., DT, JJ, VBP, VBG, IN, CD, NNS, NNP, WRB, VBZ, WDT, CC, TO, MD, VBN, WP, :, RP, EX, JJR, FW, XX, HYPH, POS, RBR, JJS, PDT, NNPS, RBS, AFX, WP$, -LRB-, -RRB-, ``, '', LS, $, SYM, ADD\n",
      "2025-08-21 23:18:53,671 SequenceTagger predicts: Dictionary with 53 tags: <unk>, O, UH, ,, VBD, PRP, VB, PRP$, NN, RB, ., DT, JJ, VBP, VBG, IN, CD, NNS, NNP, WRB, VBZ, WDT, CC, TO, MD, VBN, WP, :, RP, EX, JJR, FW, XX, HYPH, POS, RBR, JJS, PDT, NNPS, RBS, AFX, WP$, -LRB-, -RRB-, ``, '', LS, $, SYM, ADD\n",
      "2025-08-21 23:18:54,610 SequenceTagger predicts: Dictionary with 53 tags: <unk>, O, UH, ,, VBD, PRP, VB, PRP$, NN, RB, ., DT, JJ, VBP, VBG, IN, CD, NNS, NNP, WRB, VBZ, WDT, CC, TO, MD, VBN, WP, :, RP, EX, JJR, FW, XX, HYPH, POS, RBR, JJS, PDT, NNPS, RBS, AFX, WP$, -LRB-, -RRB-, ``, '', LS, $, SYM, ADD\n",
      "2025-08-21 23:18:55,471 SequenceTagger predicts: Dictionary with 53 tags: <unk>, O, UH, ,, VBD, PRP, VB, PRP$, NN, RB, ., DT, JJ, VBP, VBG, IN, CD, NNS, NNP, WRB, VBZ, WDT, CC, TO, MD, VBN, WP, :, RP, EX, JJR, FW, XX, HYPH, POS, RBR, JJS, PDT, NNPS, RBS, AFX, WP$, -LRB-, -RRB-, ``, '', LS, $, SYM, ADD\n",
      "2025-08-21 23:18:55,958 SequenceTagger predicts: Dictionary with 53 tags: <unk>, O, UH, ,, VBD, PRP, VB, PRP$, NN, RB, ., DT, JJ, VBP, VBG, IN, CD, NNS, NNP, WRB, VBZ, WDT, CC, TO, MD, VBN, WP, :, RP, EX, JJR, FW, XX, HYPH, POS, RBR, JJS, PDT, NNPS, RBS, AFX, WP$, -LRB-, -RRB-, ``, '', LS, $, SYM, ADD\n",
      "2025-08-21 23:18:56,682 SequenceTagger predicts: Dictionary with 53 tags: <unk>, O, UH, ,, VBD, PRP, VB, PRP$, NN, RB, ., DT, JJ, VBP, VBG, IN, CD, NNS, NNP, WRB, VBZ, WDT, CC, TO, MD, VBN, WP, :, RP, EX, JJR, FW, XX, HYPH, POS, RBR, JJS, PDT, NNPS, RBS, AFX, WP$, -LRB-, -RRB-, ``, '', LS, $, SYM, ADD\n",
      "2025-08-21 23:18:57,623 SequenceTagger predicts: Dictionary with 53 tags: <unk>, O, UH, ,, VBD, PRP, VB, PRP$, NN, RB, ., DT, JJ, VBP, VBG, IN, CD, NNS, NNP, WRB, VBZ, WDT, CC, TO, MD, VBN, WP, :, RP, EX, JJR, FW, XX, HYPH, POS, RBR, JJS, PDT, NNPS, RBS, AFX, WP$, -LRB-, -RRB-, ``, '', LS, $, SYM, ADD\n",
      "2025-08-21 23:18:58,626 SequenceTagger predicts: Dictionary with 53 tags: <unk>, O, UH, ,, VBD, PRP, VB, PRP$, NN, RB, ., DT, JJ, VBP, VBG, IN, CD, NNS, NNP, WRB, VBZ, WDT, CC, TO, MD, VBN, WP, :, RP, EX, JJR, FW, XX, HYPH, POS, RBR, JJS, PDT, NNPS, RBS, AFX, WP$, -LRB-, -RRB-, ``, '', LS, $, SYM, ADD\n",
      "2025-08-21 23:18:59,630 SequenceTagger predicts: Dictionary with 53 tags: <unk>, O, UH, ,, VBD, PRP, VB, PRP$, NN, RB, ., DT, JJ, VBP, VBG, IN, CD, NNS, NNP, WRB, VBZ, WDT, CC, TO, MD, VBN, WP, :, RP, EX, JJR, FW, XX, HYPH, POS, RBR, JJS, PDT, NNPS, RBS, AFX, WP$, -LRB-, -RRB-, ``, '', LS, $, SYM, ADD\n",
      "2025-08-21 23:19:00,134 SequenceTagger predicts: Dictionary with 53 tags: <unk>, O, UH, ,, VBD, PRP, VB, PRP$, NN, RB, ., DT, JJ, VBP, VBG, IN, CD, NNS, NNP, WRB, VBZ, WDT, CC, TO, MD, VBN, WP, :, RP, EX, JJR, FW, XX, HYPH, POS, RBR, JJS, PDT, NNPS, RBS, AFX, WP$, -LRB-, -RRB-, ``, '', LS, $, SYM, ADD\n",
      "2025-08-21 23:19:00,674 SequenceTagger predicts: Dictionary with 53 tags: <unk>, O, UH, ,, VBD, PRP, VB, PRP$, NN, RB, ., DT, JJ, VBP, VBG, IN, CD, NNS, NNP, WRB, VBZ, WDT, CC, TO, MD, VBN, WP, :, RP, EX, JJR, FW, XX, HYPH, POS, RBR, JJS, PDT, NNPS, RBS, AFX, WP$, -LRB-, -RRB-, ``, '', LS, $, SYM, ADD\n",
      "2025-08-21 23:19:01,185 SequenceTagger predicts: Dictionary with 53 tags: <unk>, O, UH, ,, VBD, PRP, VB, PRP$, NN, RB, ., DT, JJ, VBP, VBG, IN, CD, NNS, NNP, WRB, VBZ, WDT, CC, TO, MD, VBN, WP, :, RP, EX, JJR, FW, XX, HYPH, POS, RBR, JJS, PDT, NNPS, RBS, AFX, WP$, -LRB-, -RRB-, ``, '', LS, $, SYM, ADD\n",
      "2025-08-21 23:19:01,992 SequenceTagger predicts: Dictionary with 53 tags: <unk>, O, UH, ,, VBD, PRP, VB, PRP$, NN, RB, ., DT, JJ, VBP, VBG, IN, CD, NNS, NNP, WRB, VBZ, WDT, CC, TO, MD, VBN, WP, :, RP, EX, JJR, FW, XX, HYPH, POS, RBR, JJS, PDT, NNPS, RBS, AFX, WP$, -LRB-, -RRB-, ``, '', LS, $, SYM, ADD\n",
      "2025-08-21 23:19:04,545 SequenceTagger predicts: Dictionary with 53 tags: <unk>, O, UH, ,, VBD, PRP, VB, PRP$, NN, RB, ., DT, JJ, VBP, VBG, IN, CD, NNS, NNP, WRB, VBZ, WDT, CC, TO, MD, VBN, WP, :, RP, EX, JJR, FW, XX, HYPH, POS, RBR, JJS, PDT, NNPS, RBS, AFX, WP$, -LRB-, -RRB-, ``, '', LS, $, SYM, ADD\n",
      "2025-08-21 23:19:05,210 SequenceTagger predicts: Dictionary with 53 tags: <unk>, O, UH, ,, VBD, PRP, VB, PRP$, NN, RB, ., DT, JJ, VBP, VBG, IN, CD, NNS, NNP, WRB, VBZ, WDT, CC, TO, MD, VBN, WP, :, RP, EX, JJR, FW, XX, HYPH, POS, RBR, JJS, PDT, NNPS, RBS, AFX, WP$, -LRB-, -RRB-, ``, '', LS, $, SYM, ADD\n",
      "2025-08-21 23:19:05,769 SequenceTagger predicts: Dictionary with 53 tags: <unk>, O, UH, ,, VBD, PRP, VB, PRP$, NN, RB, ., DT, JJ, VBP, VBG, IN, CD, NNS, NNP, WRB, VBZ, WDT, CC, TO, MD, VBN, WP, :, RP, EX, JJR, FW, XX, HYPH, POS, RBR, JJS, PDT, NNPS, RBS, AFX, WP$, -LRB-, -RRB-, ``, '', LS, $, SYM, ADD\n",
      "2025-08-21 23:19:06,561 SequenceTagger predicts: Dictionary with 53 tags: <unk>, O, UH, ,, VBD, PRP, VB, PRP$, NN, RB, ., DT, JJ, VBP, VBG, IN, CD, NNS, NNP, WRB, VBZ, WDT, CC, TO, MD, VBN, WP, :, RP, EX, JJR, FW, XX, HYPH, POS, RBR, JJS, PDT, NNPS, RBS, AFX, WP$, -LRB-, -RRB-, ``, '', LS, $, SYM, ADD\n",
      "2025-08-21 23:19:07,176 SequenceTagger predicts: Dictionary with 53 tags: <unk>, O, UH, ,, VBD, PRP, VB, PRP$, NN, RB, ., DT, JJ, VBP, VBG, IN, CD, NNS, NNP, WRB, VBZ, WDT, CC, TO, MD, VBN, WP, :, RP, EX, JJR, FW, XX, HYPH, POS, RBR, JJS, PDT, NNPS, RBS, AFX, WP$, -LRB-, -RRB-, ``, '', LS, $, SYM, ADD\n",
      "2025-08-21 23:19:07,857 SequenceTagger predicts: Dictionary with 53 tags: <unk>, O, UH, ,, VBD, PRP, VB, PRP$, NN, RB, ., DT, JJ, VBP, VBG, IN, CD, NNS, NNP, WRB, VBZ, WDT, CC, TO, MD, VBN, WP, :, RP, EX, JJR, FW, XX, HYPH, POS, RBR, JJS, PDT, NNPS, RBS, AFX, WP$, -LRB-, -RRB-, ``, '', LS, $, SYM, ADD\n",
      "2025-08-21 23:19:08,858 SequenceTagger predicts: Dictionary with 53 tags: <unk>, O, UH, ,, VBD, PRP, VB, PRP$, NN, RB, ., DT, JJ, VBP, VBG, IN, CD, NNS, NNP, WRB, VBZ, WDT, CC, TO, MD, VBN, WP, :, RP, EX, JJR, FW, XX, HYPH, POS, RBR, JJS, PDT, NNPS, RBS, AFX, WP$, -LRB-, -RRB-, ``, '', LS, $, SYM, ADD\n",
      "2025-08-21 23:19:09,320 SequenceTagger predicts: Dictionary with 53 tags: <unk>, O, UH, ,, VBD, PRP, VB, PRP$, NN, RB, ., DT, JJ, VBP, VBG, IN, CD, NNS, NNP, WRB, VBZ, WDT, CC, TO, MD, VBN, WP, :, RP, EX, JJR, FW, XX, HYPH, POS, RBR, JJS, PDT, NNPS, RBS, AFX, WP$, -LRB-, -RRB-, ``, '', LS, $, SYM, ADD\n",
      "2025-08-21 23:19:10,255 SequenceTagger predicts: Dictionary with 53 tags: <unk>, O, UH, ,, VBD, PRP, VB, PRP$, NN, RB, ., DT, JJ, VBP, VBG, IN, CD, NNS, NNP, WRB, VBZ, WDT, CC, TO, MD, VBN, WP, :, RP, EX, JJR, FW, XX, HYPH, POS, RBR, JJS, PDT, NNPS, RBS, AFX, WP$, -LRB-, -RRB-, ``, '', LS, $, SYM, ADD\n",
      "2025-08-21 23:19:11,074 SequenceTagger predicts: Dictionary with 53 tags: <unk>, O, UH, ,, VBD, PRP, VB, PRP$, NN, RB, ., DT, JJ, VBP, VBG, IN, CD, NNS, NNP, WRB, VBZ, WDT, CC, TO, MD, VBN, WP, :, RP, EX, JJR, FW, XX, HYPH, POS, RBR, JJS, PDT, NNPS, RBS, AFX, WP$, -LRB-, -RRB-, ``, '', LS, $, SYM, ADD\n",
      "2025-08-21 23:19:12,283 SequenceTagger predicts: Dictionary with 53 tags: <unk>, O, UH, ,, VBD, PRP, VB, PRP$, NN, RB, ., DT, JJ, VBP, VBG, IN, CD, NNS, NNP, WRB, VBZ, WDT, CC, TO, MD, VBN, WP, :, RP, EX, JJR, FW, XX, HYPH, POS, RBR, JJS, PDT, NNPS, RBS, AFX, WP$, -LRB-, -RRB-, ``, '', LS, $, SYM, ADD\n",
      "2025-08-21 23:19:12,967 SequenceTagger predicts: Dictionary with 53 tags: <unk>, O, UH, ,, VBD, PRP, VB, PRP$, NN, RB, ., DT, JJ, VBP, VBG, IN, CD, NNS, NNP, WRB, VBZ, WDT, CC, TO, MD, VBN, WP, :, RP, EX, JJR, FW, XX, HYPH, POS, RBR, JJS, PDT, NNPS, RBS, AFX, WP$, -LRB-, -RRB-, ``, '', LS, $, SYM, ADD\n",
      "2025-08-21 23:19:13,525 SequenceTagger predicts: Dictionary with 53 tags: <unk>, O, UH, ,, VBD, PRP, VB, PRP$, NN, RB, ., DT, JJ, VBP, VBG, IN, CD, NNS, NNP, WRB, VBZ, WDT, CC, TO, MD, VBN, WP, :, RP, EX, JJR, FW, XX, HYPH, POS, RBR, JJS, PDT, NNPS, RBS, AFX, WP$, -LRB-, -RRB-, ``, '', LS, $, SYM, ADD\n",
      "2025-08-21 23:19:14,967 SequenceTagger predicts: Dictionary with 53 tags: <unk>, O, UH, ,, VBD, PRP, VB, PRP$, NN, RB, ., DT, JJ, VBP, VBG, IN, CD, NNS, NNP, WRB, VBZ, WDT, CC, TO, MD, VBN, WP, :, RP, EX, JJR, FW, XX, HYPH, POS, RBR, JJS, PDT, NNPS, RBS, AFX, WP$, -LRB-, -RRB-, ``, '', LS, $, SYM, ADD\n",
      "2025-08-21 23:19:15,372 SequenceTagger predicts: Dictionary with 53 tags: <unk>, O, UH, ,, VBD, PRP, VB, PRP$, NN, RB, ., DT, JJ, VBP, VBG, IN, CD, NNS, NNP, WRB, VBZ, WDT, CC, TO, MD, VBN, WP, :, RP, EX, JJR, FW, XX, HYPH, POS, RBR, JJS, PDT, NNPS, RBS, AFX, WP$, -LRB-, -RRB-, ``, '', LS, $, SYM, ADD\n",
      "2025-08-21 23:19:17,458 SequenceTagger predicts: Dictionary with 53 tags: <unk>, O, UH, ,, VBD, PRP, VB, PRP$, NN, RB, ., DT, JJ, VBP, VBG, IN, CD, NNS, NNP, WRB, VBZ, WDT, CC, TO, MD, VBN, WP, :, RP, EX, JJR, FW, XX, HYPH, POS, RBR, JJS, PDT, NNPS, RBS, AFX, WP$, -LRB-, -RRB-, ``, '', LS, $, SYM, ADD\n",
      "2025-08-21 23:19:18,086 SequenceTagger predicts: Dictionary with 53 tags: <unk>, O, UH, ,, VBD, PRP, VB, PRP$, NN, RB, ., DT, JJ, VBP, VBG, IN, CD, NNS, NNP, WRB, VBZ, WDT, CC, TO, MD, VBN, WP, :, RP, EX, JJR, FW, XX, HYPH, POS, RBR, JJS, PDT, NNPS, RBS, AFX, WP$, -LRB-, -RRB-, ``, '', LS, $, SYM, ADD\n",
      "2025-08-21 23:19:18,742 SequenceTagger predicts: Dictionary with 53 tags: <unk>, O, UH, ,, VBD, PRP, VB, PRP$, NN, RB, ., DT, JJ, VBP, VBG, IN, CD, NNS, NNP, WRB, VBZ, WDT, CC, TO, MD, VBN, WP, :, RP, EX, JJR, FW, XX, HYPH, POS, RBR, JJS, PDT, NNPS, RBS, AFX, WP$, -LRB-, -RRB-, ``, '', LS, $, SYM, ADD\n",
      "2025-08-21 23:19:19,643 SequenceTagger predicts: Dictionary with 53 tags: <unk>, O, UH, ,, VBD, PRP, VB, PRP$, NN, RB, ., DT, JJ, VBP, VBG, IN, CD, NNS, NNP, WRB, VBZ, WDT, CC, TO, MD, VBN, WP, :, RP, EX, JJR, FW, XX, HYPH, POS, RBR, JJS, PDT, NNPS, RBS, AFX, WP$, -LRB-, -RRB-, ``, '', LS, $, SYM, ADD\n",
      "2025-08-21 23:19:20,413 SequenceTagger predicts: Dictionary with 53 tags: <unk>, O, UH, ,, VBD, PRP, VB, PRP$, NN, RB, ., DT, JJ, VBP, VBG, IN, CD, NNS, NNP, WRB, VBZ, WDT, CC, TO, MD, VBN, WP, :, RP, EX, JJR, FW, XX, HYPH, POS, RBR, JJS, PDT, NNPS, RBS, AFX, WP$, -LRB-, -RRB-, ``, '', LS, $, SYM, ADD\n",
      "2025-08-21 23:19:21,191 SequenceTagger predicts: Dictionary with 53 tags: <unk>, O, UH, ,, VBD, PRP, VB, PRP$, NN, RB, ., DT, JJ, VBP, VBG, IN, CD, NNS, NNP, WRB, VBZ, WDT, CC, TO, MD, VBN, WP, :, RP, EX, JJR, FW, XX, HYPH, POS, RBR, JJS, PDT, NNPS, RBS, AFX, WP$, -LRB-, -RRB-, ``, '', LS, $, SYM, ADD\n",
      "2025-08-21 23:19:21,755 SequenceTagger predicts: Dictionary with 53 tags: <unk>, O, UH, ,, VBD, PRP, VB, PRP$, NN, RB, ., DT, JJ, VBP, VBG, IN, CD, NNS, NNP, WRB, VBZ, WDT, CC, TO, MD, VBN, WP, :, RP, EX, JJR, FW, XX, HYPH, POS, RBR, JJS, PDT, NNPS, RBS, AFX, WP$, -LRB-, -RRB-, ``, '', LS, $, SYM, ADD\n",
      "2025-08-21 23:19:22,690 SequenceTagger predicts: Dictionary with 53 tags: <unk>, O, UH, ,, VBD, PRP, VB, PRP$, NN, RB, ., DT, JJ, VBP, VBG, IN, CD, NNS, NNP, WRB, VBZ, WDT, CC, TO, MD, VBN, WP, :, RP, EX, JJR, FW, XX, HYPH, POS, RBR, JJS, PDT, NNPS, RBS, AFX, WP$, -LRB-, -RRB-, ``, '', LS, $, SYM, ADD\n",
      "2025-08-21 23:19:23,420 SequenceTagger predicts: Dictionary with 53 tags: <unk>, O, UH, ,, VBD, PRP, VB, PRP$, NN, RB, ., DT, JJ, VBP, VBG, IN, CD, NNS, NNP, WRB, VBZ, WDT, CC, TO, MD, VBN, WP, :, RP, EX, JJR, FW, XX, HYPH, POS, RBR, JJS, PDT, NNPS, RBS, AFX, WP$, -LRB-, -RRB-, ``, '', LS, $, SYM, ADD\n",
      "2025-08-21 23:19:24,213 SequenceTagger predicts: Dictionary with 53 tags: <unk>, O, UH, ,, VBD, PRP, VB, PRP$, NN, RB, ., DT, JJ, VBP, VBG, IN, CD, NNS, NNP, WRB, VBZ, WDT, CC, TO, MD, VBN, WP, :, RP, EX, JJR, FW, XX, HYPH, POS, RBR, JJS, PDT, NNPS, RBS, AFX, WP$, -LRB-, -RRB-, ``, '', LS, $, SYM, ADD\n",
      "2025-08-21 23:19:25,182 SequenceTagger predicts: Dictionary with 53 tags: <unk>, O, UH, ,, VBD, PRP, VB, PRP$, NN, RB, ., DT, JJ, VBP, VBG, IN, CD, NNS, NNP, WRB, VBZ, WDT, CC, TO, MD, VBN, WP, :, RP, EX, JJR, FW, XX, HYPH, POS, RBR, JJS, PDT, NNPS, RBS, AFX, WP$, -LRB-, -RRB-, ``, '', LS, $, SYM, ADD\n",
      "2025-08-21 23:19:26,451 SequenceTagger predicts: Dictionary with 53 tags: <unk>, O, UH, ,, VBD, PRP, VB, PRP$, NN, RB, ., DT, JJ, VBP, VBG, IN, CD, NNS, NNP, WRB, VBZ, WDT, CC, TO, MD, VBN, WP, :, RP, EX, JJR, FW, XX, HYPH, POS, RBR, JJS, PDT, NNPS, RBS, AFX, WP$, -LRB-, -RRB-, ``, '', LS, $, SYM, ADD\n",
      "2025-08-21 23:19:27,460 SequenceTagger predicts: Dictionary with 53 tags: <unk>, O, UH, ,, VBD, PRP, VB, PRP$, NN, RB, ., DT, JJ, VBP, VBG, IN, CD, NNS, NNP, WRB, VBZ, WDT, CC, TO, MD, VBN, WP, :, RP, EX, JJR, FW, XX, HYPH, POS, RBR, JJS, PDT, NNPS, RBS, AFX, WP$, -LRB-, -RRB-, ``, '', LS, $, SYM, ADD\n",
      "2025-08-21 23:19:28,413 SequenceTagger predicts: Dictionary with 53 tags: <unk>, O, UH, ,, VBD, PRP, VB, PRP$, NN, RB, ., DT, JJ, VBP, VBG, IN, CD, NNS, NNP, WRB, VBZ, WDT, CC, TO, MD, VBN, WP, :, RP, EX, JJR, FW, XX, HYPH, POS, RBR, JJS, PDT, NNPS, RBS, AFX, WP$, -LRB-, -RRB-, ``, '', LS, $, SYM, ADD\n",
      "2025-08-21 23:19:28,866 SequenceTagger predicts: Dictionary with 53 tags: <unk>, O, UH, ,, VBD, PRP, VB, PRP$, NN, RB, ., DT, JJ, VBP, VBG, IN, CD, NNS, NNP, WRB, VBZ, WDT, CC, TO, MD, VBN, WP, :, RP, EX, JJR, FW, XX, HYPH, POS, RBR, JJS, PDT, NNPS, RBS, AFX, WP$, -LRB-, -RRB-, ``, '', LS, $, SYM, ADD\n",
      "2025-08-21 23:19:29,800 SequenceTagger predicts: Dictionary with 53 tags: <unk>, O, UH, ,, VBD, PRP, VB, PRP$, NN, RB, ., DT, JJ, VBP, VBG, IN, CD, NNS, NNP, WRB, VBZ, WDT, CC, TO, MD, VBN, WP, :, RP, EX, JJR, FW, XX, HYPH, POS, RBR, JJS, PDT, NNPS, RBS, AFX, WP$, -LRB-, -RRB-, ``, '', LS, $, SYM, ADD\n",
      "2025-08-21 23:19:30,429 SequenceTagger predicts: Dictionary with 53 tags: <unk>, O, UH, ,, VBD, PRP, VB, PRP$, NN, RB, ., DT, JJ, VBP, VBG, IN, CD, NNS, NNP, WRB, VBZ, WDT, CC, TO, MD, VBN, WP, :, RP, EX, JJR, FW, XX, HYPH, POS, RBR, JJS, PDT, NNPS, RBS, AFX, WP$, -LRB-, -RRB-, ``, '', LS, $, SYM, ADD\n",
      "2025-08-21 23:19:31,170 SequenceTagger predicts: Dictionary with 53 tags: <unk>, O, UH, ,, VBD, PRP, VB, PRP$, NN, RB, ., DT, JJ, VBP, VBG, IN, CD, NNS, NNP, WRB, VBZ, WDT, CC, TO, MD, VBN, WP, :, RP, EX, JJR, FW, XX, HYPH, POS, RBR, JJS, PDT, NNPS, RBS, AFX, WP$, -LRB-, -RRB-, ``, '', LS, $, SYM, ADD\n",
      "2025-08-21 23:19:32,934 SequenceTagger predicts: Dictionary with 53 tags: <unk>, O, UH, ,, VBD, PRP, VB, PRP$, NN, RB, ., DT, JJ, VBP, VBG, IN, CD, NNS, NNP, WRB, VBZ, WDT, CC, TO, MD, VBN, WP, :, RP, EX, JJR, FW, XX, HYPH, POS, RBR, JJS, PDT, NNPS, RBS, AFX, WP$, -LRB-, -RRB-, ``, '', LS, $, SYM, ADD\n",
      "2025-08-21 23:19:33,634 SequenceTagger predicts: Dictionary with 53 tags: <unk>, O, UH, ,, VBD, PRP, VB, PRP$, NN, RB, ., DT, JJ, VBP, VBG, IN, CD, NNS, NNP, WRB, VBZ, WDT, CC, TO, MD, VBN, WP, :, RP, EX, JJR, FW, XX, HYPH, POS, RBR, JJS, PDT, NNPS, RBS, AFX, WP$, -LRB-, -RRB-, ``, '', LS, $, SYM, ADD\n",
      "2025-08-21 23:19:40,925 SequenceTagger predicts: Dictionary with 53 tags: <unk>, O, UH, ,, VBD, PRP, VB, PRP$, NN, RB, ., DT, JJ, VBP, VBG, IN, CD, NNS, NNP, WRB, VBZ, WDT, CC, TO, MD, VBN, WP, :, RP, EX, JJR, FW, XX, HYPH, POS, RBR, JJS, PDT, NNPS, RBS, AFX, WP$, -LRB-, -RRB-, ``, '', LS, $, SYM, ADD\n",
      "2025-08-21 23:19:41,589 SequenceTagger predicts: Dictionary with 53 tags: <unk>, O, UH, ,, VBD, PRP, VB, PRP$, NN, RB, ., DT, JJ, VBP, VBG, IN, CD, NNS, NNP, WRB, VBZ, WDT, CC, TO, MD, VBN, WP, :, RP, EX, JJR, FW, XX, HYPH, POS, RBR, JJS, PDT, NNPS, RBS, AFX, WP$, -LRB-, -RRB-, ``, '', LS, $, SYM, ADD\n",
      "2025-08-21 23:19:42,655 SequenceTagger predicts: Dictionary with 53 tags: <unk>, O, UH, ,, VBD, PRP, VB, PRP$, NN, RB, ., DT, JJ, VBP, VBG, IN, CD, NNS, NNP, WRB, VBZ, WDT, CC, TO, MD, VBN, WP, :, RP, EX, JJR, FW, XX, HYPH, POS, RBR, JJS, PDT, NNPS, RBS, AFX, WP$, -LRB-, -RRB-, ``, '', LS, $, SYM, ADD\n",
      "2025-08-21 23:19:43,585 SequenceTagger predicts: Dictionary with 53 tags: <unk>, O, UH, ,, VBD, PRP, VB, PRP$, NN, RB, ., DT, JJ, VBP, VBG, IN, CD, NNS, NNP, WRB, VBZ, WDT, CC, TO, MD, VBN, WP, :, RP, EX, JJR, FW, XX, HYPH, POS, RBR, JJS, PDT, NNPS, RBS, AFX, WP$, -LRB-, -RRB-, ``, '', LS, $, SYM, ADD\n",
      "2025-08-21 23:19:44,869 SequenceTagger predicts: Dictionary with 53 tags: <unk>, O, UH, ,, VBD, PRP, VB, PRP$, NN, RB, ., DT, JJ, VBP, VBG, IN, CD, NNS, NNP, WRB, VBZ, WDT, CC, TO, MD, VBN, WP, :, RP, EX, JJR, FW, XX, HYPH, POS, RBR, JJS, PDT, NNPS, RBS, AFX, WP$, -LRB-, -RRB-, ``, '', LS, $, SYM, ADD\n",
      "2025-08-21 23:19:45,802 SequenceTagger predicts: Dictionary with 53 tags: <unk>, O, UH, ,, VBD, PRP, VB, PRP$, NN, RB, ., DT, JJ, VBP, VBG, IN, CD, NNS, NNP, WRB, VBZ, WDT, CC, TO, MD, VBN, WP, :, RP, EX, JJR, FW, XX, HYPH, POS, RBR, JJS, PDT, NNPS, RBS, AFX, WP$, -LRB-, -RRB-, ``, '', LS, $, SYM, ADD\n",
      "2025-08-21 23:19:46,679 SequenceTagger predicts: Dictionary with 53 tags: <unk>, O, UH, ,, VBD, PRP, VB, PRP$, NN, RB, ., DT, JJ, VBP, VBG, IN, CD, NNS, NNP, WRB, VBZ, WDT, CC, TO, MD, VBN, WP, :, RP, EX, JJR, FW, XX, HYPH, POS, RBR, JJS, PDT, NNPS, RBS, AFX, WP$, -LRB-, -RRB-, ``, '', LS, $, SYM, ADD\n",
      "2025-08-21 23:19:47,687 SequenceTagger predicts: Dictionary with 53 tags: <unk>, O, UH, ,, VBD, PRP, VB, PRP$, NN, RB, ., DT, JJ, VBP, VBG, IN, CD, NNS, NNP, WRB, VBZ, WDT, CC, TO, MD, VBN, WP, :, RP, EX, JJR, FW, XX, HYPH, POS, RBR, JJS, PDT, NNPS, RBS, AFX, WP$, -LRB-, -RRB-, ``, '', LS, $, SYM, ADD\n",
      "2025-08-21 23:19:48,689 SequenceTagger predicts: Dictionary with 53 tags: <unk>, O, UH, ,, VBD, PRP, VB, PRP$, NN, RB, ., DT, JJ, VBP, VBG, IN, CD, NNS, NNP, WRB, VBZ, WDT, CC, TO, MD, VBN, WP, :, RP, EX, JJR, FW, XX, HYPH, POS, RBR, JJS, PDT, NNPS, RBS, AFX, WP$, -LRB-, -RRB-, ``, '', LS, $, SYM, ADD\n",
      "2025-08-21 23:19:50,036 SequenceTagger predicts: Dictionary with 53 tags: <unk>, O, UH, ,, VBD, PRP, VB, PRP$, NN, RB, ., DT, JJ, VBP, VBG, IN, CD, NNS, NNP, WRB, VBZ, WDT, CC, TO, MD, VBN, WP, :, RP, EX, JJR, FW, XX, HYPH, POS, RBR, JJS, PDT, NNPS, RBS, AFX, WP$, -LRB-, -RRB-, ``, '', LS, $, SYM, ADD\n",
      "2025-08-21 23:19:51,568 SequenceTagger predicts: Dictionary with 53 tags: <unk>, O, UH, ,, VBD, PRP, VB, PRP$, NN, RB, ., DT, JJ, VBP, VBG, IN, CD, NNS, NNP, WRB, VBZ, WDT, CC, TO, MD, VBN, WP, :, RP, EX, JJR, FW, XX, HYPH, POS, RBR, JJS, PDT, NNPS, RBS, AFX, WP$, -LRB-, -RRB-, ``, '', LS, $, SYM, ADD\n",
      "2025-08-21 23:19:52,747 SequenceTagger predicts: Dictionary with 53 tags: <unk>, O, UH, ,, VBD, PRP, VB, PRP$, NN, RB, ., DT, JJ, VBP, VBG, IN, CD, NNS, NNP, WRB, VBZ, WDT, CC, TO, MD, VBN, WP, :, RP, EX, JJR, FW, XX, HYPH, POS, RBR, JJS, PDT, NNPS, RBS, AFX, WP$, -LRB-, -RRB-, ``, '', LS, $, SYM, ADD\n",
      "2025-08-21 23:19:53,630 SequenceTagger predicts: Dictionary with 53 tags: <unk>, O, UH, ,, VBD, PRP, VB, PRP$, NN, RB, ., DT, JJ, VBP, VBG, IN, CD, NNS, NNP, WRB, VBZ, WDT, CC, TO, MD, VBN, WP, :, RP, EX, JJR, FW, XX, HYPH, POS, RBR, JJS, PDT, NNPS, RBS, AFX, WP$, -LRB-, -RRB-, ``, '', LS, $, SYM, ADD\n",
      "2025-08-21 23:19:54,251 SequenceTagger predicts: Dictionary with 53 tags: <unk>, O, UH, ,, VBD, PRP, VB, PRP$, NN, RB, ., DT, JJ, VBP, VBG, IN, CD, NNS, NNP, WRB, VBZ, WDT, CC, TO, MD, VBN, WP, :, RP, EX, JJR, FW, XX, HYPH, POS, RBR, JJS, PDT, NNPS, RBS, AFX, WP$, -LRB-, -RRB-, ``, '', LS, $, SYM, ADD\n",
      "2025-08-21 23:19:55,937 SequenceTagger predicts: Dictionary with 53 tags: <unk>, O, UH, ,, VBD, PRP, VB, PRP$, NN, RB, ., DT, JJ, VBP, VBG, IN, CD, NNS, NNP, WRB, VBZ, WDT, CC, TO, MD, VBN, WP, :, RP, EX, JJR, FW, XX, HYPH, POS, RBR, JJS, PDT, NNPS, RBS, AFX, WP$, -LRB-, -RRB-, ``, '', LS, $, SYM, ADD\n",
      "2025-08-21 23:19:57,141 SequenceTagger predicts: Dictionary with 53 tags: <unk>, O, UH, ,, VBD, PRP, VB, PRP$, NN, RB, ., DT, JJ, VBP, VBG, IN, CD, NNS, NNP, WRB, VBZ, WDT, CC, TO, MD, VBN, WP, :, RP, EX, JJR, FW, XX, HYPH, POS, RBR, JJS, PDT, NNPS, RBS, AFX, WP$, -LRB-, -RRB-, ``, '', LS, $, SYM, ADD\n",
      "2025-08-21 23:19:57,756 SequenceTagger predicts: Dictionary with 53 tags: <unk>, O, UH, ,, VBD, PRP, VB, PRP$, NN, RB, ., DT, JJ, VBP, VBG, IN, CD, NNS, NNP, WRB, VBZ, WDT, CC, TO, MD, VBN, WP, :, RP, EX, JJR, FW, XX, HYPH, POS, RBR, JJS, PDT, NNPS, RBS, AFX, WP$, -LRB-, -RRB-, ``, '', LS, $, SYM, ADD\n",
      "2025-08-21 23:19:58,650 SequenceTagger predicts: Dictionary with 53 tags: <unk>, O, UH, ,, VBD, PRP, VB, PRP$, NN, RB, ., DT, JJ, VBP, VBG, IN, CD, NNS, NNP, WRB, VBZ, WDT, CC, TO, MD, VBN, WP, :, RP, EX, JJR, FW, XX, HYPH, POS, RBR, JJS, PDT, NNPS, RBS, AFX, WP$, -LRB-, -RRB-, ``, '', LS, $, SYM, ADD\n",
      "2025-08-21 23:19:59,273 SequenceTagger predicts: Dictionary with 53 tags: <unk>, O, UH, ,, VBD, PRP, VB, PRP$, NN, RB, ., DT, JJ, VBP, VBG, IN, CD, NNS, NNP, WRB, VBZ, WDT, CC, TO, MD, VBN, WP, :, RP, EX, JJR, FW, XX, HYPH, POS, RBR, JJS, PDT, NNPS, RBS, AFX, WP$, -LRB-, -RRB-, ``, '', LS, $, SYM, ADD\n",
      "2025-08-21 23:20:00,230 SequenceTagger predicts: Dictionary with 53 tags: <unk>, O, UH, ,, VBD, PRP, VB, PRP$, NN, RB, ., DT, JJ, VBP, VBG, IN, CD, NNS, NNP, WRB, VBZ, WDT, CC, TO, MD, VBN, WP, :, RP, EX, JJR, FW, XX, HYPH, POS, RBR, JJS, PDT, NNPS, RBS, AFX, WP$, -LRB-, -RRB-, ``, '', LS, $, SYM, ADD\n",
      "2025-08-21 23:20:00,794 SequenceTagger predicts: Dictionary with 53 tags: <unk>, O, UH, ,, VBD, PRP, VB, PRP$, NN, RB, ., DT, JJ, VBP, VBG, IN, CD, NNS, NNP, WRB, VBZ, WDT, CC, TO, MD, VBN, WP, :, RP, EX, JJR, FW, XX, HYPH, POS, RBR, JJS, PDT, NNPS, RBS, AFX, WP$, -LRB-, -RRB-, ``, '', LS, $, SYM, ADD\n",
      "2025-08-21 23:20:01,428 SequenceTagger predicts: Dictionary with 53 tags: <unk>, O, UH, ,, VBD, PRP, VB, PRP$, NN, RB, ., DT, JJ, VBP, VBG, IN, CD, NNS, NNP, WRB, VBZ, WDT, CC, TO, MD, VBN, WP, :, RP, EX, JJR, FW, XX, HYPH, POS, RBR, JJS, PDT, NNPS, RBS, AFX, WP$, -LRB-, -RRB-, ``, '', LS, $, SYM, ADD\n",
      "2025-08-21 23:20:02,445 SequenceTagger predicts: Dictionary with 53 tags: <unk>, O, UH, ,, VBD, PRP, VB, PRP$, NN, RB, ., DT, JJ, VBP, VBG, IN, CD, NNS, NNP, WRB, VBZ, WDT, CC, TO, MD, VBN, WP, :, RP, EX, JJR, FW, XX, HYPH, POS, RBR, JJS, PDT, NNPS, RBS, AFX, WP$, -LRB-, -RRB-, ``, '', LS, $, SYM, ADD\n",
      "2025-08-21 23:20:03,133 SequenceTagger predicts: Dictionary with 53 tags: <unk>, O, UH, ,, VBD, PRP, VB, PRP$, NN, RB, ., DT, JJ, VBP, VBG, IN, CD, NNS, NNP, WRB, VBZ, WDT, CC, TO, MD, VBN, WP, :, RP, EX, JJR, FW, XX, HYPH, POS, RBR, JJS, PDT, NNPS, RBS, AFX, WP$, -LRB-, -RRB-, ``, '', LS, $, SYM, ADD\n",
      "2025-08-21 23:20:04,114 SequenceTagger predicts: Dictionary with 53 tags: <unk>, O, UH, ,, VBD, PRP, VB, PRP$, NN, RB, ., DT, JJ, VBP, VBG, IN, CD, NNS, NNP, WRB, VBZ, WDT, CC, TO, MD, VBN, WP, :, RP, EX, JJR, FW, XX, HYPH, POS, RBR, JJS, PDT, NNPS, RBS, AFX, WP$, -LRB-, -RRB-, ``, '', LS, $, SYM, ADD\n",
      "2025-08-21 23:20:05,135 SequenceTagger predicts: Dictionary with 53 tags: <unk>, O, UH, ,, VBD, PRP, VB, PRP$, NN, RB, ., DT, JJ, VBP, VBG, IN, CD, NNS, NNP, WRB, VBZ, WDT, CC, TO, MD, VBN, WP, :, RP, EX, JJR, FW, XX, HYPH, POS, RBR, JJS, PDT, NNPS, RBS, AFX, WP$, -LRB-, -RRB-, ``, '', LS, $, SYM, ADD\n",
      "2025-08-21 23:20:07,637 SequenceTagger predicts: Dictionary with 53 tags: <unk>, O, UH, ,, VBD, PRP, VB, PRP$, NN, RB, ., DT, JJ, VBP, VBG, IN, CD, NNS, NNP, WRB, VBZ, WDT, CC, TO, MD, VBN, WP, :, RP, EX, JJR, FW, XX, HYPH, POS, RBR, JJS, PDT, NNPS, RBS, AFX, WP$, -LRB-, -RRB-, ``, '', LS, $, SYM, ADD\n",
      "2025-08-21 23:20:08,320 SequenceTagger predicts: Dictionary with 53 tags: <unk>, O, UH, ,, VBD, PRP, VB, PRP$, NN, RB, ., DT, JJ, VBP, VBG, IN, CD, NNS, NNP, WRB, VBZ, WDT, CC, TO, MD, VBN, WP, :, RP, EX, JJR, FW, XX, HYPH, POS, RBR, JJS, PDT, NNPS, RBS, AFX, WP$, -LRB-, -RRB-, ``, '', LS, $, SYM, ADD\n",
      "2025-08-21 23:20:08,832 SequenceTagger predicts: Dictionary with 53 tags: <unk>, O, UH, ,, VBD, PRP, VB, PRP$, NN, RB, ., DT, JJ, VBP, VBG, IN, CD, NNS, NNP, WRB, VBZ, WDT, CC, TO, MD, VBN, WP, :, RP, EX, JJR, FW, XX, HYPH, POS, RBR, JJS, PDT, NNPS, RBS, AFX, WP$, -LRB-, -RRB-, ``, '', LS, $, SYM, ADD\n",
      "2025-08-21 23:20:11,011 SequenceTagger predicts: Dictionary with 53 tags: <unk>, O, UH, ,, VBD, PRP, VB, PRP$, NN, RB, ., DT, JJ, VBP, VBG, IN, CD, NNS, NNP, WRB, VBZ, WDT, CC, TO, MD, VBN, WP, :, RP, EX, JJR, FW, XX, HYPH, POS, RBR, JJS, PDT, NNPS, RBS, AFX, WP$, -LRB-, -RRB-, ``, '', LS, $, SYM, ADD\n",
      "2025-08-21 23:20:12,549 SequenceTagger predicts: Dictionary with 53 tags: <unk>, O, UH, ,, VBD, PRP, VB, PRP$, NN, RB, ., DT, JJ, VBP, VBG, IN, CD, NNS, NNP, WRB, VBZ, WDT, CC, TO, MD, VBN, WP, :, RP, EX, JJR, FW, XX, HYPH, POS, RBR, JJS, PDT, NNPS, RBS, AFX, WP$, -LRB-, -RRB-, ``, '', LS, $, SYM, ADD\n",
      "2025-08-21 23:20:13,340 SequenceTagger predicts: Dictionary with 53 tags: <unk>, O, UH, ,, VBD, PRP, VB, PRP$, NN, RB, ., DT, JJ, VBP, VBG, IN, CD, NNS, NNP, WRB, VBZ, WDT, CC, TO, MD, VBN, WP, :, RP, EX, JJR, FW, XX, HYPH, POS, RBR, JJS, PDT, NNPS, RBS, AFX, WP$, -LRB-, -RRB-, ``, '', LS, $, SYM, ADD\n",
      "2025-08-21 23:20:14,257 SequenceTagger predicts: Dictionary with 53 tags: <unk>, O, UH, ,, VBD, PRP, VB, PRP$, NN, RB, ., DT, JJ, VBP, VBG, IN, CD, NNS, NNP, WRB, VBZ, WDT, CC, TO, MD, VBN, WP, :, RP, EX, JJR, FW, XX, HYPH, POS, RBR, JJS, PDT, NNPS, RBS, AFX, WP$, -LRB-, -RRB-, ``, '', LS, $, SYM, ADD\n",
      "2025-08-21 23:20:14,879 SequenceTagger predicts: Dictionary with 53 tags: <unk>, O, UH, ,, VBD, PRP, VB, PRP$, NN, RB, ., DT, JJ, VBP, VBG, IN, CD, NNS, NNP, WRB, VBZ, WDT, CC, TO, MD, VBN, WP, :, RP, EX, JJR, FW, XX, HYPH, POS, RBR, JJS, PDT, NNPS, RBS, AFX, WP$, -LRB-, -RRB-, ``, '', LS, $, SYM, ADD\n",
      "2025-08-21 23:20:16,010 SequenceTagger predicts: Dictionary with 53 tags: <unk>, O, UH, ,, VBD, PRP, VB, PRP$, NN, RB, ., DT, JJ, VBP, VBG, IN, CD, NNS, NNP, WRB, VBZ, WDT, CC, TO, MD, VBN, WP, :, RP, EX, JJR, FW, XX, HYPH, POS, RBR, JJS, PDT, NNPS, RBS, AFX, WP$, -LRB-, -RRB-, ``, '', LS, $, SYM, ADD\n",
      "2025-08-21 23:20:17,337 SequenceTagger predicts: Dictionary with 53 tags: <unk>, O, UH, ,, VBD, PRP, VB, PRP$, NN, RB, ., DT, JJ, VBP, VBG, IN, CD, NNS, NNP, WRB, VBZ, WDT, CC, TO, MD, VBN, WP, :, RP, EX, JJR, FW, XX, HYPH, POS, RBR, JJS, PDT, NNPS, RBS, AFX, WP$, -LRB-, -RRB-, ``, '', LS, $, SYM, ADD\n",
      "2025-08-21 23:20:18,165 SequenceTagger predicts: Dictionary with 53 tags: <unk>, O, UH, ,, VBD, PRP, VB, PRP$, NN, RB, ., DT, JJ, VBP, VBG, IN, CD, NNS, NNP, WRB, VBZ, WDT, CC, TO, MD, VBN, WP, :, RP, EX, JJR, FW, XX, HYPH, POS, RBR, JJS, PDT, NNPS, RBS, AFX, WP$, -LRB-, -RRB-, ``, '', LS, $, SYM, ADD\n",
      "2025-08-21 23:20:19,496 SequenceTagger predicts: Dictionary with 53 tags: <unk>, O, UH, ,, VBD, PRP, VB, PRP$, NN, RB, ., DT, JJ, VBP, VBG, IN, CD, NNS, NNP, WRB, VBZ, WDT, CC, TO, MD, VBN, WP, :, RP, EX, JJR, FW, XX, HYPH, POS, RBR, JJS, PDT, NNPS, RBS, AFX, WP$, -LRB-, -RRB-, ``, '', LS, $, SYM, ADD\n",
      "2025-08-21 23:20:20,181 SequenceTagger predicts: Dictionary with 53 tags: <unk>, O, UH, ,, VBD, PRP, VB, PRP$, NN, RB, ., DT, JJ, VBP, VBG, IN, CD, NNS, NNP, WRB, VBZ, WDT, CC, TO, MD, VBN, WP, :, RP, EX, JJR, FW, XX, HYPH, POS, RBR, JJS, PDT, NNPS, RBS, AFX, WP$, -LRB-, -RRB-, ``, '', LS, $, SYM, ADD\n",
      "2025-08-21 23:20:21,890 SequenceTagger predicts: Dictionary with 53 tags: <unk>, O, UH, ,, VBD, PRP, VB, PRP$, NN, RB, ., DT, JJ, VBP, VBG, IN, CD, NNS, NNP, WRB, VBZ, WDT, CC, TO, MD, VBN, WP, :, RP, EX, JJR, FW, XX, HYPH, POS, RBR, JJS, PDT, NNPS, RBS, AFX, WP$, -LRB-, -RRB-, ``, '', LS, $, SYM, ADD\n",
      "2025-08-21 23:20:23,068 SequenceTagger predicts: Dictionary with 53 tags: <unk>, O, UH, ,, VBD, PRP, VB, PRP$, NN, RB, ., DT, JJ, VBP, VBG, IN, CD, NNS, NNP, WRB, VBZ, WDT, CC, TO, MD, VBN, WP, :, RP, EX, JJR, FW, XX, HYPH, POS, RBR, JJS, PDT, NNPS, RBS, AFX, WP$, -LRB-, -RRB-, ``, '', LS, $, SYM, ADD\n",
      "2025-08-21 23:20:25,594 SequenceTagger predicts: Dictionary with 53 tags: <unk>, O, UH, ,, VBD, PRP, VB, PRP$, NN, RB, ., DT, JJ, VBP, VBG, IN, CD, NNS, NNP, WRB, VBZ, WDT, CC, TO, MD, VBN, WP, :, RP, EX, JJR, FW, XX, HYPH, POS, RBR, JJS, PDT, NNPS, RBS, AFX, WP$, -LRB-, -RRB-, ``, '', LS, $, SYM, ADD\n",
      "2025-08-21 23:20:26,649 SequenceTagger predicts: Dictionary with 53 tags: <unk>, O, UH, ,, VBD, PRP, VB, PRP$, NN, RB, ., DT, JJ, VBP, VBG, IN, CD, NNS, NNP, WRB, VBZ, WDT, CC, TO, MD, VBN, WP, :, RP, EX, JJR, FW, XX, HYPH, POS, RBR, JJS, PDT, NNPS, RBS, AFX, WP$, -LRB-, -RRB-, ``, '', LS, $, SYM, ADD\n",
      "2025-08-21 23:20:27,675 SequenceTagger predicts: Dictionary with 53 tags: <unk>, O, UH, ,, VBD, PRP, VB, PRP$, NN, RB, ., DT, JJ, VBP, VBG, IN, CD, NNS, NNP, WRB, VBZ, WDT, CC, TO, MD, VBN, WP, :, RP, EX, JJR, FW, XX, HYPH, POS, RBR, JJS, PDT, NNPS, RBS, AFX, WP$, -LRB-, -RRB-, ``, '', LS, $, SYM, ADD\n",
      "2025-08-21 23:20:28,654 SequenceTagger predicts: Dictionary with 53 tags: <unk>, O, UH, ,, VBD, PRP, VB, PRP$, NN, RB, ., DT, JJ, VBP, VBG, IN, CD, NNS, NNP, WRB, VBZ, WDT, CC, TO, MD, VBN, WP, :, RP, EX, JJR, FW, XX, HYPH, POS, RBR, JJS, PDT, NNPS, RBS, AFX, WP$, -LRB-, -RRB-, ``, '', LS, $, SYM, ADD\n",
      "2025-08-21 23:20:29,654 SequenceTagger predicts: Dictionary with 53 tags: <unk>, O, UH, ,, VBD, PRP, VB, PRP$, NN, RB, ., DT, JJ, VBP, VBG, IN, CD, NNS, NNP, WRB, VBZ, WDT, CC, TO, MD, VBN, WP, :, RP, EX, JJR, FW, XX, HYPH, POS, RBR, JJS, PDT, NNPS, RBS, AFX, WP$, -LRB-, -RRB-, ``, '', LS, $, SYM, ADD\n",
      "2025-08-21 23:20:30,664 SequenceTagger predicts: Dictionary with 53 tags: <unk>, O, UH, ,, VBD, PRP, VB, PRP$, NN, RB, ., DT, JJ, VBP, VBG, IN, CD, NNS, NNP, WRB, VBZ, WDT, CC, TO, MD, VBN, WP, :, RP, EX, JJR, FW, XX, HYPH, POS, RBR, JJS, PDT, NNPS, RBS, AFX, WP$, -LRB-, -RRB-, ``, '', LS, $, SYM, ADD\n",
      "2025-08-21 23:20:31,663 SequenceTagger predicts: Dictionary with 53 tags: <unk>, O, UH, ,, VBD, PRP, VB, PRP$, NN, RB, ., DT, JJ, VBP, VBG, IN, CD, NNS, NNP, WRB, VBZ, WDT, CC, TO, MD, VBN, WP, :, RP, EX, JJR, FW, XX, HYPH, POS, RBR, JJS, PDT, NNPS, RBS, AFX, WP$, -LRB-, -RRB-, ``, '', LS, $, SYM, ADD\n",
      "2025-08-21 23:20:32,610 SequenceTagger predicts: Dictionary with 53 tags: <unk>, O, UH, ,, VBD, PRP, VB, PRP$, NN, RB, ., DT, JJ, VBP, VBG, IN, CD, NNS, NNP, WRB, VBZ, WDT, CC, TO, MD, VBN, WP, :, RP, EX, JJR, FW, XX, HYPH, POS, RBR, JJS, PDT, NNPS, RBS, AFX, WP$, -LRB-, -RRB-, ``, '', LS, $, SYM, ADD\n",
      "2025-08-21 23:20:33,941 SequenceTagger predicts: Dictionary with 53 tags: <unk>, O, UH, ,, VBD, PRP, VB, PRP$, NN, RB, ., DT, JJ, VBP, VBG, IN, CD, NNS, NNP, WRB, VBZ, WDT, CC, TO, MD, VBN, WP, :, RP, EX, JJR, FW, XX, HYPH, POS, RBR, JJS, PDT, NNPS, RBS, AFX, WP$, -LRB-, -RRB-, ``, '', LS, $, SYM, ADD\n",
      "2025-08-21 23:20:35,288 SequenceTagger predicts: Dictionary with 53 tags: <unk>, O, UH, ,, VBD, PRP, VB, PRP$, NN, RB, ., DT, JJ, VBP, VBG, IN, CD, NNS, NNP, WRB, VBZ, WDT, CC, TO, MD, VBN, WP, :, RP, EX, JJR, FW, XX, HYPH, POS, RBR, JJS, PDT, NNPS, RBS, AFX, WP$, -LRB-, -RRB-, ``, '', LS, $, SYM, ADD\n",
      "2025-08-21 23:20:36,389 SequenceTagger predicts: Dictionary with 53 tags: <unk>, O, UH, ,, VBD, PRP, VB, PRP$, NN, RB, ., DT, JJ, VBP, VBG, IN, CD, NNS, NNP, WRB, VBZ, WDT, CC, TO, MD, VBN, WP, :, RP, EX, JJR, FW, XX, HYPH, POS, RBR, JJS, PDT, NNPS, RBS, AFX, WP$, -LRB-, -RRB-, ``, '', LS, $, SYM, ADD\n",
      "2025-08-21 23:20:37,493 SequenceTagger predicts: Dictionary with 53 tags: <unk>, O, UH, ,, VBD, PRP, VB, PRP$, NN, RB, ., DT, JJ, VBP, VBG, IN, CD, NNS, NNP, WRB, VBZ, WDT, CC, TO, MD, VBN, WP, :, RP, EX, JJR, FW, XX, HYPH, POS, RBR, JJS, PDT, NNPS, RBS, AFX, WP$, -LRB-, -RRB-, ``, '', LS, $, SYM, ADD\n",
      "2025-08-21 23:20:38,701 SequenceTagger predicts: Dictionary with 53 tags: <unk>, O, UH, ,, VBD, PRP, VB, PRP$, NN, RB, ., DT, JJ, VBP, VBG, IN, CD, NNS, NNP, WRB, VBZ, WDT, CC, TO, MD, VBN, WP, :, RP, EX, JJR, FW, XX, HYPH, POS, RBR, JJS, PDT, NNPS, RBS, AFX, WP$, -LRB-, -RRB-, ``, '', LS, $, SYM, ADD\n",
      "2025-08-21 23:20:39,711 SequenceTagger predicts: Dictionary with 53 tags: <unk>, O, UH, ,, VBD, PRP, VB, PRP$, NN, RB, ., DT, JJ, VBP, VBG, IN, CD, NNS, NNP, WRB, VBZ, WDT, CC, TO, MD, VBN, WP, :, RP, EX, JJR, FW, XX, HYPH, POS, RBR, JJS, PDT, NNPS, RBS, AFX, WP$, -LRB-, -RRB-, ``, '', LS, $, SYM, ADD\n",
      "2025-08-21 23:20:40,107 SequenceTagger predicts: Dictionary with 53 tags: <unk>, O, UH, ,, VBD, PRP, VB, PRP$, NN, RB, ., DT, JJ, VBP, VBG, IN, CD, NNS, NNP, WRB, VBZ, WDT, CC, TO, MD, VBN, WP, :, RP, EX, JJR, FW, XX, HYPH, POS, RBR, JJS, PDT, NNPS, RBS, AFX, WP$, -LRB-, -RRB-, ``, '', LS, $, SYM, ADD\n",
      "2025-08-21 23:20:42,321 SequenceTagger predicts: Dictionary with 53 tags: <unk>, O, UH, ,, VBD, PRP, VB, PRP$, NN, RB, ., DT, JJ, VBP, VBG, IN, CD, NNS, NNP, WRB, VBZ, WDT, CC, TO, MD, VBN, WP, :, RP, EX, JJR, FW, XX, HYPH, POS, RBR, JJS, PDT, NNPS, RBS, AFX, WP$, -LRB-, -RRB-, ``, '', LS, $, SYM, ADD\n",
      "2025-08-21 23:20:42,974 SequenceTagger predicts: Dictionary with 53 tags: <unk>, O, UH, ,, VBD, PRP, VB, PRP$, NN, RB, ., DT, JJ, VBP, VBG, IN, CD, NNS, NNP, WRB, VBZ, WDT, CC, TO, MD, VBN, WP, :, RP, EX, JJR, FW, XX, HYPH, POS, RBR, JJS, PDT, NNPS, RBS, AFX, WP$, -LRB-, -RRB-, ``, '', LS, $, SYM, ADD\n",
      "2025-08-21 23:20:43,932 SequenceTagger predicts: Dictionary with 53 tags: <unk>, O, UH, ,, VBD, PRP, VB, PRP$, NN, RB, ., DT, JJ, VBP, VBG, IN, CD, NNS, NNP, WRB, VBZ, WDT, CC, TO, MD, VBN, WP, :, RP, EX, JJR, FW, XX, HYPH, POS, RBR, JJS, PDT, NNPS, RBS, AFX, WP$, -LRB-, -RRB-, ``, '', LS, $, SYM, ADD\n",
      "2025-08-21 23:20:44,754 SequenceTagger predicts: Dictionary with 53 tags: <unk>, O, UH, ,, VBD, PRP, VB, PRP$, NN, RB, ., DT, JJ, VBP, VBG, IN, CD, NNS, NNP, WRB, VBZ, WDT, CC, TO, MD, VBN, WP, :, RP, EX, JJR, FW, XX, HYPH, POS, RBR, JJS, PDT, NNPS, RBS, AFX, WP$, -LRB-, -RRB-, ``, '', LS, $, SYM, ADD\n",
      "2025-08-21 23:20:46,719 SequenceTagger predicts: Dictionary with 53 tags: <unk>, O, UH, ,, VBD, PRP, VB, PRP$, NN, RB, ., DT, JJ, VBP, VBG, IN, CD, NNS, NNP, WRB, VBZ, WDT, CC, TO, MD, VBN, WP, :, RP, EX, JJR, FW, XX, HYPH, POS, RBR, JJS, PDT, NNPS, RBS, AFX, WP$, -LRB-, -RRB-, ``, '', LS, $, SYM, ADD\n",
      "2025-08-21 23:20:47,449 SequenceTagger predicts: Dictionary with 53 tags: <unk>, O, UH, ,, VBD, PRP, VB, PRP$, NN, RB, ., DT, JJ, VBP, VBG, IN, CD, NNS, NNP, WRB, VBZ, WDT, CC, TO, MD, VBN, WP, :, RP, EX, JJR, FW, XX, HYPH, POS, RBR, JJS, PDT, NNPS, RBS, AFX, WP$, -LRB-, -RRB-, ``, '', LS, $, SYM, ADD\n",
      "2025-08-21 23:20:48,424 SequenceTagger predicts: Dictionary with 53 tags: <unk>, O, UH, ,, VBD, PRP, VB, PRP$, NN, RB, ., DT, JJ, VBP, VBG, IN, CD, NNS, NNP, WRB, VBZ, WDT, CC, TO, MD, VBN, WP, :, RP, EX, JJR, FW, XX, HYPH, POS, RBR, JJS, PDT, NNPS, RBS, AFX, WP$, -LRB-, -RRB-, ``, '', LS, $, SYM, ADD\n",
      "2025-08-21 23:20:48,910 SequenceTagger predicts: Dictionary with 53 tags: <unk>, O, UH, ,, VBD, PRP, VB, PRP$, NN, RB, ., DT, JJ, VBP, VBG, IN, CD, NNS, NNP, WRB, VBZ, WDT, CC, TO, MD, VBN, WP, :, RP, EX, JJR, FW, XX, HYPH, POS, RBR, JJS, PDT, NNPS, RBS, AFX, WP$, -LRB-, -RRB-, ``, '', LS, $, SYM, ADD\n",
      "2025-08-21 23:20:49,744 SequenceTagger predicts: Dictionary with 53 tags: <unk>, O, UH, ,, VBD, PRP, VB, PRP$, NN, RB, ., DT, JJ, VBP, VBG, IN, CD, NNS, NNP, WRB, VBZ, WDT, CC, TO, MD, VBN, WP, :, RP, EX, JJR, FW, XX, HYPH, POS, RBR, JJS, PDT, NNPS, RBS, AFX, WP$, -LRB-, -RRB-, ``, '', LS, $, SYM, ADD\n",
      "2025-08-21 23:20:50,367 SequenceTagger predicts: Dictionary with 53 tags: <unk>, O, UH, ,, VBD, PRP, VB, PRP$, NN, RB, ., DT, JJ, VBP, VBG, IN, CD, NNS, NNP, WRB, VBZ, WDT, CC, TO, MD, VBN, WP, :, RP, EX, JJR, FW, XX, HYPH, POS, RBR, JJS, PDT, NNPS, RBS, AFX, WP$, -LRB-, -RRB-, ``, '', LS, $, SYM, ADD\n",
      "2025-08-21 23:20:51,195 SequenceTagger predicts: Dictionary with 53 tags: <unk>, O, UH, ,, VBD, PRP, VB, PRP$, NN, RB, ., DT, JJ, VBP, VBG, IN, CD, NNS, NNP, WRB, VBZ, WDT, CC, TO, MD, VBN, WP, :, RP, EX, JJR, FW, XX, HYPH, POS, RBR, JJS, PDT, NNPS, RBS, AFX, WP$, -LRB-, -RRB-, ``, '', LS, $, SYM, ADD\n",
      "2025-08-21 23:20:51,704 SequenceTagger predicts: Dictionary with 53 tags: <unk>, O, UH, ,, VBD, PRP, VB, PRP$, NN, RB, ., DT, JJ, VBP, VBG, IN, CD, NNS, NNP, WRB, VBZ, WDT, CC, TO, MD, VBN, WP, :, RP, EX, JJR, FW, XX, HYPH, POS, RBR, JJS, PDT, NNPS, RBS, AFX, WP$, -LRB-, -RRB-, ``, '', LS, $, SYM, ADD\n",
      "2025-08-21 23:20:52,408 SequenceTagger predicts: Dictionary with 53 tags: <unk>, O, UH, ,, VBD, PRP, VB, PRP$, NN, RB, ., DT, JJ, VBP, VBG, IN, CD, NNS, NNP, WRB, VBZ, WDT, CC, TO, MD, VBN, WP, :, RP, EX, JJR, FW, XX, HYPH, POS, RBR, JJS, PDT, NNPS, RBS, AFX, WP$, -LRB-, -RRB-, ``, '', LS, $, SYM, ADD\n",
      "2025-08-21 23:20:53,557 SequenceTagger predicts: Dictionary with 53 tags: <unk>, O, UH, ,, VBD, PRP, VB, PRP$, NN, RB, ., DT, JJ, VBP, VBG, IN, CD, NNS, NNP, WRB, VBZ, WDT, CC, TO, MD, VBN, WP, :, RP, EX, JJR, FW, XX, HYPH, POS, RBR, JJS, PDT, NNPS, RBS, AFX, WP$, -LRB-, -RRB-, ``, '', LS, $, SYM, ADD\n"
     ]
    }
   ],
   "source": [
    "df[\"news_lemmes\"] = df[\"news_tokens\"].apply(lemmatize_with_flair)"
   ]
  },
  {
   "cell_type": "code",
   "execution_count": 105,
   "id": "8b896c834dca8fc2",
   "metadata": {
    "ExecuteTime": {
     "end_time": "2025-08-22T04:32:53.417125Z",
     "start_time": "2025-08-22T04:32:53.413612Z"
    }
   },
   "outputs": [],
   "source": [
    "corpus = df[\"news\"].tolist()"
   ]
  },
  {
   "cell_type": "code",
   "execution_count": 104,
   "id": "2259aa38651a3d49",
   "metadata": {
    "ExecuteTime": {
     "end_time": "2025-08-22T04:29:57.143504Z",
     "start_time": "2025-08-22T04:29:57.140299Z"
    }
   },
   "outputs": [],
   "source": [
    "corpus_tokens = df[\"news_tokens\"].tolist()"
   ]
  },
  {
   "cell_type": "markdown",
   "id": "cb5583a34a26cf5a",
   "metadata": {},
   "source": [
    "## Paso 2: Estadísticas básicas"
   ]
  },
  {
   "cell_type": "code",
   "execution_count": 106,
   "id": "dd14a6fa3b6cd024",
   "metadata": {
    "ExecuteTime": {
     "end_time": "2025-08-22T04:36:49.922074Z",
     "start_time": "2025-08-22T04:36:49.917072Z"
    }
   },
   "outputs": [],
   "source": [
    "def compute_statistics(text):\n",
    "    word_count = len(text.split())  # Number of words\n",
    "    char_count = len(text)  # Number of characters\n",
    "    sentence_count = len(re.split(r'[.!?]', text)) - 1  # Number of sentences\n",
    "    avg_word_length = sum(len(word) for word in text.split()) / word_count if word_count > 0 else 0  # Average word length\n",
    "    return pd.Series([word_count, char_count, sentence_count, avg_word_length],\n",
    "                     index=['word_count', 'character_count', 'sentence_count', 'average_word_length'])"
   ]
  },
  {
   "cell_type": "markdown",
   "id": "2e142cdd0eb89232",
   "metadata": {},
   "source": [
    "### Paso 2.1 Conteo de Palabras"
   ]
  },
  {
   "cell_type": "markdown",
   "id": "353ded895562a78e",
   "metadata": {},
   "source": [
    "#### Paso 2.1.1 Conteo de Palabras Originales"
   ]
  },
  {
   "cell_type": "code",
   "execution_count": 107,
   "id": "5bbff06abe5d1386",
   "metadata": {
    "ExecuteTime": {
     "end_time": "2025-08-22T04:49:19.725109Z",
     "start_time": "2025-08-22T04:49:19.717903Z"
    }
   },
   "outputs": [
    {
     "name": "stdout",
     "output_type": "stream",
     "text": [
      "Número total de palabras en el corpus: 69644\n"
     ]
    }
   ],
   "source": [
    "total_words = sum(len(doc.split()) for doc in corpus)\n",
    "print(\"Número total de palabras en el corpus:\", total_words)"
   ]
  },
  {
   "cell_type": "markdown",
   "id": "232126d18fb5b4fb",
   "metadata": {},
   "source": [
    "#### Paso 2.1.2 Conteo de Palabras Texto Limpio"
   ]
  },
  {
   "cell_type": "code",
   "execution_count": 108,
   "id": "5803f268ab9926e1",
   "metadata": {
    "ExecuteTime": {
     "end_time": "2025-08-22T04:50:05.529041Z",
     "start_time": "2025-08-22T04:50:05.523040Z"
    }
   },
   "outputs": [
    {
     "name": "stdout",
     "output_type": "stream",
     "text": [
      "Número total de palabras en el corpus de tokens limpio: 33433\n"
     ]
    }
   ],
   "source": [
    "total_words_tokens = sum(len(doc.split()) for doc in corpus_tokens)\n",
    "print(\"Número total de palabras en el corpus de tokens limpio:\", total_words_tokens)"
   ]
  },
  {
   "cell_type": "markdown",
   "id": "b17ab678580e36b4",
   "metadata": {},
   "source": [
    "#### Paso 2.1.3 Conteo de Palabras por Tono"
   ]
  },
  {
   "cell_type": "code",
   "execution_count": 113,
   "id": "6d0ecb4a160b9f78",
   "metadata": {
    "ExecuteTime": {
     "end_time": "2025-08-22T05:00:33.300749Z",
     "start_time": "2025-08-22T05:00:33.290768Z"
    }
   },
   "outputs": [
    {
     "name": "stdout",
     "output_type": "stream",
     "text": [
      "Número total de palabras agrupadas por tono en las noticias (ordenado):\n",
      "       tone  word_count\n",
      "1   neutral       28329\n",
      "0  negative       26501\n",
      "2  positive       14814\n"
     ]
    }
   ],
   "source": [
    "df[\"word_count\"] = df[\"news\"].apply(lambda x: len(str(x).split()))\n",
    "\n",
    "words_per_tone = (\n",
    "    df.groupby(\"tone\")[\"word_count\"]\n",
    "      .sum()\n",
    "      .reset_index()\n",
    "      .sort_values(by=\"word_count\", ascending=False)  # ordenar de mayor a menor\n",
    ")\n",
    "\n",
    "print(\"Número total de palabras agrupadas por tono en las noticias (ordenado):\")\n",
    "print(words_per_tone)\n"
   ]
  },
  {
   "cell_type": "markdown",
   "id": "49ad09733b441e15",
   "metadata": {},
   "source": [
    "#### Paso 2.1.4 Conteo de Palabras por Sesgo"
   ]
  },
  {
   "cell_type": "code",
   "execution_count": 111,
   "id": "7d9d117be76f87d3",
   "metadata": {
    "ExecuteTime": {
     "end_time": "2025-08-22T04:57:33.332763Z",
     "start_time": "2025-08-22T04:57:33.321732Z"
    }
   },
   "outputs": [
    {
     "name": "stdout",
     "output_type": "stream",
     "text": [
      "Número total de palabras agrupadas por marco principal en las noticias (ordenado):\n",
      "                                principal_frames  word_count\n",
      "13                          security_and_defense       13648\n",
      "10                                     political       11630\n",
      "11                                public_opinion        8145\n",
      "3                                       economic        6956\n",
      "1                           crime_and_punishment        6336\n",
      "7   legality_constitutionality_and_jurisprudence        4751\n",
      "6                              health_and_safety        4526\n",
      "9             policy_prescription_and_evaluation        4321\n",
      "4             external_regulation_and_reputation        3313\n",
      "8                                       morality        2198\n",
      "12                               quality_of_life        1385\n",
      "2                              cultural_identity        1122\n",
      "0                         capacity_and_resources         990\n",
      "5                          fairness_and_equality         323\n"
     ]
    }
   ],
   "source": [
    "# Contar palabras por fila\n",
    "df[\"word_count\"] = df[\"news\"].apply(lambda x: len(str(x).split()))\n",
    "\n",
    "# Agrupar por principal_frames y sumar palabras\n",
    "words_per_frame = (\n",
    "    df.groupby(\"principal_frames\")[\"word_count\"]\n",
    "      .sum()\n",
    "      .reset_index()\n",
    "      .sort_values(by=\"word_count\", ascending=False)\n",
    ")\n",
    "\n",
    "print(\"Número total de palabras agrupadas por marco principal en las noticias (ordenado):\")\n",
    "print(words_per_frame)\n"
   ]
  },
  {
   "cell_type": "markdown",
   "id": "f709b9155df827a3",
   "metadata": {},
   "source": [
    "#### Paso 2.1.5 Conteo de Palabras por Country"
   ]
  },
  {
   "cell_type": "code",
   "execution_count": 112,
   "id": "2be6a4707e18d70a",
   "metadata": {
    "ExecuteTime": {
     "end_time": "2025-08-22T04:59:56.792445Z",
     "start_time": "2025-08-22T04:59:56.781934Z"
    }
   },
   "outputs": [
    {
     "name": "stdout",
     "output_type": "stream",
     "text": [
      "Número total de palabras agrupadas por país en las noticias (ordenado):\n",
      "    country  word_count\n",
      "1    Mexico       39369\n",
      "0  Colombia       30275\n"
     ]
    }
   ],
   "source": [
    "df[\"word_count\"] = df[\"news\"].apply(lambda x: len(str(x).split()))\n",
    "\n",
    "words_per_country = (\n",
    "    df.groupby(\"country\")[\"word_count\"]\n",
    "      .sum()\n",
    "      .reset_index()\n",
    "      .sort_values(by=\"word_count\", ascending=False)\n",
    ")\n",
    "\n",
    "print(\"Número total de palabras agrupadas por país en las noticias (ordenado):\")\n",
    "print(words_per_country)\n"
   ]
  },
  {
   "cell_type": "markdown",
   "id": "ca86c8f37133b863",
   "metadata": {},
   "source": [
    "### Paso 2.2 Conteo de caracteres"
   ]
  },
  {
   "cell_type": "markdown",
   "id": "e7434af02e9f4c0f",
   "metadata": {},
   "source": [
    "#### Paso 2.2.1 Conteo de Caracteres Originales"
   ]
  },
  {
   "cell_type": "code",
   "execution_count": 114,
   "id": "663b5904ec49eebc",
   "metadata": {
    "ExecuteTime": {
     "end_time": "2025-08-22T05:02:51.715229Z",
     "start_time": "2025-08-22T05:02:51.710232Z"
    }
   },
   "outputs": [
    {
     "name": "stdout",
     "output_type": "stream",
     "text": [
      "Número total de caracteres en el corpus: 428800\n"
     ]
    }
   ],
   "source": [
    "# Total de caracteres en el corpus\n",
    "total_characters = sum(len(doc) for doc in corpus)\n",
    "print(\"Número total de caracteres en el corpus:\", total_characters)"
   ]
  },
  {
   "cell_type": "markdown",
   "id": "c144a254e7ea8bd7",
   "metadata": {},
   "source": [
    "#### Paso 2.2.2 Conteo de Caracteres Texto Limpio"
   ]
  },
  {
   "cell_type": "code",
   "execution_count": 116,
   "id": "b5b36961361566ba",
   "metadata": {
    "ExecuteTime": {
     "end_time": "2025-08-22T05:05:42.646111Z",
     "start_time": "2025-08-22T05:05:42.630109Z"
    }
   },
   "outputs": [
    {
     "name": "stdout",
     "output_type": "stream",
     "text": [
      "Número total de caracteres en el corpus de tokens limpio: 295955\n"
     ]
    }
   ],
   "source": [
    "total_characters_tokens = sum(len(token) for doc in corpus_tokens for token in doc)\n",
    "print(\"Número total de caracteres en el corpus de tokens limpio:\", total_characters_tokens)"
   ]
  },
  {
   "cell_type": "markdown",
   "id": "21643492472580d1",
   "metadata": {},
   "source": [
    "#### Paso 2.2.3 Conteo de Caracteres por Tono"
   ]
  },
  {
   "cell_type": "code",
   "execution_count": 117,
   "id": "49ae3be7177b74ee",
   "metadata": {
    "ExecuteTime": {
     "end_time": "2025-08-22T05:08:52.620523Z",
     "start_time": "2025-08-22T05:08:52.612011Z"
    }
   },
   "outputs": [
    {
     "name": "stdout",
     "output_type": "stream",
     "text": [
      "Número total de caracteres agrupados por tono en las noticias (ordenado):\n",
      "       tone  char_count\n",
      "1   neutral      172930\n",
      "0  negative      165648\n",
      "2  positive       90222\n"
     ]
    }
   ],
   "source": [
    "# Contar caracteres por fila\n",
    "df[\"char_count\"] = df[\"news\"].apply(lambda x: len(str(x)))\n",
    "\n",
    "# Agrupar por tono y sumar caracteres\n",
    "chars_per_tone = (\n",
    "    df.groupby(\"tone\")[\"char_count\"]\n",
    "      .sum()\n",
    "      .reset_index()\n",
    "      .sort_values(by=\"char_count\", ascending=False)  # ordenar de mayor a menor\n",
    ")\n",
    "\n",
    "print(\"Número total de caracteres agrupados por tono en las noticias (ordenado):\")\n",
    "print(chars_per_tone)"
   ]
  },
  {
   "cell_type": "markdown",
   "id": "751e63e4c3bc7ef1",
   "metadata": {},
   "source": [
    "#### Paso 2.2.4 Conteo de Caracteres por Sesgo"
   ]
  },
  {
   "cell_type": "code",
   "execution_count": 119,
   "id": "883c2ba44cebd831",
   "metadata": {
    "ExecuteTime": {
     "end_time": "2025-08-22T05:12:20.193306Z",
     "start_time": "2025-08-22T05:12:20.186910Z"
    }
   },
   "outputs": [
    {
     "name": "stdout",
     "output_type": "stream",
     "text": [
      "Número total de caracteres agrupados por marco principal en las noticias (ordenado):\n",
      "                                principal_frames  char_count\n",
      "13                          security_and_defense       84880\n",
      "10                                     political       70732\n",
      "11                                public_opinion       50277\n",
      "3                                       economic       41959\n",
      "1                           crime_and_punishment       38805\n",
      "7   legality_constitutionality_and_jurisprudence       29241\n",
      "6                              health_and_safety       28509\n",
      "9             policy_prescription_and_evaluation       26436\n",
      "4             external_regulation_and_reputation       20340\n",
      "8                                       morality       14041\n",
      "12                               quality_of_life        8674\n",
      "2                              cultural_identity        6908\n",
      "0                         capacity_and_resources        6108\n",
      "5                          fairness_and_equality        1890\n"
     ]
    }
   ],
   "source": [
    "# Contar caracteres por fila\n",
    "df[\"char_count\"] = df[\"news\"].apply(lambda x: len(str(x)))\n",
    "\n",
    "# Agrupar por principal_frames y sumar caracteres\n",
    "chars_per_frame = (\n",
    "    df.groupby(\"principal_frames\")[\"char_count\"]\n",
    "      .sum()\n",
    "      .reset_index()\n",
    "      .sort_values(by=\"char_count\", ascending=False)\n",
    ")\n",
    "\n",
    "print(\"Número total de caracteres agrupados por marco principal en las noticias (ordenado):\")\n",
    "print(chars_per_frame)"
   ]
  },
  {
   "cell_type": "markdown",
   "id": "2fb44c01c30a78fe",
   "metadata": {},
   "source": [
    "#### Paso 2.2.5 Conteo de Palabras por Country"
   ]
  },
  {
   "cell_type": "code",
   "execution_count": 120,
   "id": "228bd28f1095fe20",
   "metadata": {
    "ExecuteTime": {
     "end_time": "2025-08-22T05:15:05.114059Z",
     "start_time": "2025-08-22T05:15:05.107082Z"
    }
   },
   "outputs": [
    {
     "name": "stdout",
     "output_type": "stream",
     "text": [
      "Número total de caracteres agrupados por país en las noticias (ordenado):\n",
      "    country  char_count\n",
      "1    Mexico      243010\n",
      "0  Colombia      185790\n"
     ]
    }
   ],
   "source": [
    "# Contar caracteres por fila\n",
    "df[\"char_count\"] = df[\"news\"].apply(lambda x: len(str(x)))\n",
    "\n",
    "# Agrupar por país y sumar caracteres\n",
    "chars_per_country = (\n",
    "    df.groupby(\"country\")[\"char_count\"]\n",
    "      .sum()\n",
    "      .reset_index()\n",
    "      .sort_values(by=\"char_count\", ascending=False)\n",
    ")\n",
    "\n",
    "print(\"Número total de caracteres agrupados por país en las noticias (ordenado):\")\n",
    "print(chars_per_country)"
   ]
  },
  {
   "cell_type": "markdown",
   "id": "891f38416ca7f67a",
   "metadata": {},
   "source": [
    "### Paso 2.3: Conteo de oraciones"
   ]
  },
  {
   "cell_type": "markdown",
   "id": "d249e6ba0fea99f2",
   "metadata": {},
   "source": [
    "#### Paso 2.3.1 Conteo de Oraciones Originales"
   ]
  },
  {
   "cell_type": "code",
   "execution_count": 121,
   "id": "d3e238ed01aabe99",
   "metadata": {
    "ExecuteTime": {
     "end_time": "2025-08-22T05:19:00.817920Z",
     "start_time": "2025-08-22T05:19:00.809101Z"
    }
   },
   "outputs": [
    {
     "name": "stdout",
     "output_type": "stream",
     "text": [
      "Número total de oraciones en el corpus: 2622\n"
     ]
    }
   ],
   "source": [
    "import re\n",
    "total_sentences = sum(len(re.split(r'[.!?]+', doc)) - 1 for doc in corpus)\n",
    "print(\"Número total de oraciones en el corpus:\", total_sentences)"
   ]
  },
  {
   "cell_type": "markdown",
   "id": "3e9ba89f261e2230",
   "metadata": {},
   "source": [
    "#### Paso 2.3.2 Conteo de Oraciones por Tono"
   ]
  },
  {
   "cell_type": "code",
   "execution_count": 123,
   "id": "4a3438c11a56cdea",
   "metadata": {
    "ExecuteTime": {
     "end_time": "2025-08-22T05:23:14.254736Z",
     "start_time": "2025-08-22T05:23:14.241812Z"
    }
   },
   "outputs": [
    {
     "name": "stdout",
     "output_type": "stream",
     "text": [
      "Número total de oraciones agrupadas por tono en las noticias (ordenado):\n",
      "       tone  sentence_count\n",
      "0  negative            1050\n",
      "1   neutral            1038\n",
      "2  positive             534\n"
     ]
    }
   ],
   "source": [
    "import re\n",
    "\n",
    "# Contar oraciones por fila\n",
    "df[\"sentence_count\"] = df[\"news\"].apply(lambda x: len(re.split(r'[.!?]+', str(x))) - 1)\n",
    "\n",
    "# Agrupar por tono y sumar oraciones\n",
    "sentences_per_tone = (\n",
    "    df.groupby(\"tone\")[\"sentence_count\"]\n",
    "      .sum()\n",
    "      .reset_index()\n",
    "      .sort_values(by=\"sentence_count\", ascending=False)  # ordenar de mayor a menor\n",
    ")\n",
    "\n",
    "print(\"Número total de oraciones agrupadas por tono en las noticias (ordenado):\")\n",
    "print(sentences_per_tone)"
   ]
  },
  {
   "cell_type": "markdown",
   "id": "a7ec8c4d28f2eb45",
   "metadata": {},
   "source": [
    "#### Paso 2.3.3 Conteo de Oraciones por Sesgo"
   ]
  },
  {
   "cell_type": "code",
   "execution_count": 124,
   "id": "fd083c7ed74aadef",
   "metadata": {
    "ExecuteTime": {
     "end_time": "2025-08-22T05:24:49.733779Z",
     "start_time": "2025-08-22T05:24:49.715762Z"
    }
   },
   "outputs": [
    {
     "name": "stdout",
     "output_type": "stream",
     "text": [
      "Número total de oraciones agrupadas por marco principal en las noticias (ordenado):\n",
      "                                principal_frames  sentence_count\n",
      "13                          security_and_defense             514\n",
      "10                                     political             410\n",
      "11                                public_opinion             344\n",
      "3                                       economic             272\n",
      "1                           crime_and_punishment             224\n",
      "7   legality_constitutionality_and_jurisprudence             213\n",
      "6                              health_and_safety             165\n",
      "9             policy_prescription_and_evaluation             145\n",
      "4             external_regulation_and_reputation             100\n",
      "8                                       morality              85\n",
      "12                               quality_of_life              57\n",
      "0                         capacity_and_resources              51\n",
      "2                              cultural_identity              38\n",
      "5                          fairness_and_equality               4\n"
     ]
    }
   ],
   "source": [
    "import re\n",
    "\n",
    "# Contar oraciones por fila\n",
    "df[\"sentence_count\"] = df[\"news\"].apply(lambda x: len(re.split(r'[.!?]+', str(x))) - 1)\n",
    "\n",
    "# Agrupar por principal_frames y sumar oraciones\n",
    "sentences_per_frame = (\n",
    "    df.groupby(\"principal_frames\")[\"sentence_count\"]\n",
    "      .sum()\n",
    "      .reset_index()\n",
    "      .sort_values(by=\"sentence_count\", ascending=False)\n",
    ")\n",
    "\n",
    "print(\"Número total de oraciones agrupadas por marco principal en las noticias (ordenado):\")\n",
    "print(sentences_per_frame)"
   ]
  },
  {
   "cell_type": "markdown",
   "id": "b82762935dfb7102",
   "metadata": {},
   "source": [
    "#### Paso 2.3.4 Conteo de Palabras por Country"
   ]
  },
  {
   "cell_type": "code",
   "execution_count": 126,
   "id": "5494fefb85f073ef",
   "metadata": {
    "ExecuteTime": {
     "end_time": "2025-08-22T05:26:14.353945Z",
     "start_time": "2025-08-22T05:26:14.342729Z"
    }
   },
   "outputs": [
    {
     "name": "stdout",
     "output_type": "stream",
     "text": [
      "Número total de oraciones agrupadas por país en las noticias (ordenado):\n",
      "    country  sentence_count\n",
      "1    Mexico            1612\n",
      "0  Colombia            1010\n"
     ]
    }
   ],
   "source": [
    "import re\n",
    "\n",
    "# Contar oraciones por fila\n",
    "df[\"sentence_count\"] = df[\"news\"].apply(lambda x: len(re.split(r'[.!?]+', str(x))) - 1)\n",
    "\n",
    "# Agrupar por país y sumar oraciones\n",
    "sentences_per_country = (\n",
    "    df.groupby(\"country\")[\"sentence_count\"]\n",
    "      .sum()\n",
    "      .reset_index()\n",
    "      .sort_values(by=\"sentence_count\", ascending=False)\n",
    ")\n",
    "\n",
    "print(\"Número total de oraciones agrupadas por país en las noticias (ordenado):\")\n",
    "print(sentences_per_country)"
   ]
  },
  {
   "cell_type": "markdown",
   "id": "407c909dddead332",
   "metadata": {},
   "source": [
    "### Paso 2.4: longitud promedio de palabra"
   ]
  },
  {
   "cell_type": "markdown",
   "id": "2d0213582e926798",
   "metadata": {},
   "source": [
    "#### Paso 2.4.1 Longitud Promedio de Palabras Originales"
   ]
  },
  {
   "cell_type": "code",
   "execution_count": 127,
   "id": "9d9236030e62e491",
   "metadata": {
    "ExecuteTime": {
     "end_time": "2025-08-22T05:32:21.490863Z",
     "start_time": "2025-08-22T05:32:21.476029Z"
    }
   },
   "outputs": [
    {
     "name": "stdout",
     "output_type": "stream",
     "text": [
      "Longitud promedio de palabra en el corpus: 5.089971856872093\n"
     ]
    }
   ],
   "source": [
    "# Calcular el promedio de longitud de palabra en el corpus\n",
    "total_words = sum(len(doc.split()) for doc in corpus)\n",
    "total_characters = sum(len(word) for doc in corpus for word in doc.split())\n",
    "\n",
    "avg_word_length = total_characters / total_words if total_words > 0 else 0\n",
    "\n",
    "print(\"Longitud promedio de palabra en el corpus:\", avg_word_length)"
   ]
  },
  {
   "cell_type": "markdown",
   "id": "22f9481929c0f263",
   "metadata": {},
   "source": [
    "#### Paso 2.4.2 Longitud Promedio de Palabras por Tono"
   ]
  },
  {
   "cell_type": "code",
   "execution_count": 128,
   "id": "fc0b430ea20558cc",
   "metadata": {
    "ExecuteTime": {
     "end_time": "2025-08-22T05:34:26.679613Z",
     "start_time": "2025-08-22T05:34:26.661120Z"
    }
   },
   "outputs": [
    {
     "name": "stdout",
     "output_type": "stream",
     "text": [
      "Longitud promedio de palabra agrupada por tono en las noticias (ordenado):\n",
      "       tone  avg_word_length\n",
      "0  negative         5.147187\n",
      "2  positive         5.045108\n",
      "1   neutral         5.035655\n"
     ]
    }
   ],
   "source": [
    "import re\n",
    "\n",
    "# Calcular total de caracteres y total de palabras por fila\n",
    "df[\"word_count\"] = df[\"news\"].apply(lambda x: len(str(x).split()))\n",
    "df[\"char_count\"] = df[\"news\"].apply(lambda x: sum(len(word) for word in str(x).split()))\n",
    "\n",
    "# Calcular longitud promedio de palabra por fila\n",
    "df[\"avg_word_length\"] = df[\"char_count\"] / df[\"word_count\"]\n",
    "\n",
    "# Agrupar por tono y calcular el promedio de longitudes\n",
    "avg_word_length_per_tone = (\n",
    "    df.groupby(\"tone\")[\"avg_word_length\"]\n",
    "      .mean()\n",
    "      .reset_index()\n",
    "      .sort_values(by=\"avg_word_length\", ascending=False)\n",
    ")\n",
    "\n",
    "print(\"Longitud promedio de palabra agrupada por tono en las noticias (ordenado):\")\n",
    "print(avg_word_length_per_tone)"
   ]
  },
  {
   "cell_type": "markdown",
   "id": "96dd5d1a42109487",
   "metadata": {},
   "source": [
    "#### Paso 2.4.3 Longitud Promedio de Palabras por Sesgo"
   ]
  },
  {
   "cell_type": "code",
   "execution_count": 129,
   "id": "60411d915b8c9471",
   "metadata": {
    "ExecuteTime": {
     "end_time": "2025-08-22T05:36:39.220980Z",
     "start_time": "2025-08-22T05:36:39.203694Z"
    }
   },
   "outputs": [
    {
     "name": "stdout",
     "output_type": "stream",
     "text": [
      "Longitud promedio de palabra agrupada por marco principal en las noticias (ordenado):\n",
      "                                principal_frames  avg_word_length\n",
      "6                              health_and_safety         5.270859\n",
      "12                               quality_of_life         5.202690\n",
      "8                                       morality         5.176713\n",
      "4             external_regulation_and_reputation         5.120270\n",
      "11                                public_opinion         5.118465\n",
      "13                          security_and_defense         5.105418\n",
      "0                         capacity_and_resources         5.083759\n",
      "2                              cultural_identity         5.057877\n",
      "10                                     political         5.057523\n",
      "1                           crime_and_punishment         5.049150\n",
      "7   legality_constitutionality_and_jurisprudence         5.037178\n",
      "9             policy_prescription_and_evaluation         5.030421\n",
      "3                                       economic         4.919631\n",
      "5                          fairness_and_equality         4.848297\n"
     ]
    }
   ],
   "source": [
    "import re\n",
    "\n",
    "# Calcular total de palabras y caracteres por fila\n",
    "df[\"word_count\"] = df[\"news\"].apply(lambda x: len(str(x).split()))\n",
    "df[\"char_count\"] = df[\"news\"].apply(lambda x: sum(len(word) for word in str(x).split()))\n",
    "\n",
    "# Longitud promedio de palabra por fila\n",
    "df[\"avg_word_length\"] = df[\"char_count\"] / df[\"word_count\"]\n",
    "\n",
    "# Agrupar por principal_frames y calcular promedio de longitudes\n",
    "avg_word_length_per_frame = (\n",
    "    df.groupby(\"principal_frames\")[\"avg_word_length\"]\n",
    "      .mean()\n",
    "      .reset_index()\n",
    "      .sort_values(by=\"avg_word_length\", ascending=False)\n",
    ")\n",
    "\n",
    "print(\"Longitud promedio de palabra agrupada por marco principal en las noticias (ordenado):\")\n",
    "print(avg_word_length_per_frame)"
   ]
  },
  {
   "cell_type": "markdown",
   "id": "1630e1d42b8215ef",
   "metadata": {},
   "source": [
    "#### Paso 2.4.4 Longitud Promedio de Palabras por Country"
   ]
  },
  {
   "cell_type": "code",
   "execution_count": 132,
   "id": "cbf8edd427b150f2",
   "metadata": {
    "ExecuteTime": {
     "end_time": "2025-08-22T05:40:20.420105Z",
     "start_time": "2025-08-22T05:40:20.402105Z"
    }
   },
   "outputs": [
    {
     "name": "stdout",
     "output_type": "stream",
     "text": [
      "Longitud promedio de palabra agrupada por país en las noticias (ordenado):\n",
      "    country  avg_word_length\n",
      "0  Colombia         5.096557\n",
      "1    Mexico         5.065690\n"
     ]
    }
   ],
   "source": [
    "import re\n",
    "\n",
    "# Calcular total de palabras y caracteres por fila\n",
    "df[\"word_count\"] = df[\"news\"].apply(lambda x: len(str(x).split()))\n",
    "df[\"char_count\"] = df[\"news\"].apply(lambda x: sum(len(word) for word in str(x).split()))\n",
    "\n",
    "# Longitud promedio de palabra por fila\n",
    "df[\"avg_word_length\"] = df[\"char_count\"] / df[\"word_count\"]\n",
    "\n",
    "# Agrupar por país y calcular promedio de longitudes\n",
    "avg_word_length_per_country = (\n",
    "    df.groupby(\"country\")[\"avg_word_length\"]\n",
    "      .mean()\n",
    "      .reset_index()\n",
    "      .sort_values(by=\"avg_word_length\", ascending=False)\n",
    ")\n",
    "\n",
    "print(\"Longitud promedio de palabra agrupada por país en las noticias (ordenado):\")\n",
    "print(avg_word_length_per_country)"
   ]
  },
  {
   "cell_type": "markdown",
   "id": "447cb1e452fb411b",
   "metadata": {},
   "source": [
    "## Paso 3: Tokenización"
   ]
  },
  {
   "cell_type": "markdown",
   "id": "2df4588ad9d04d93",
   "metadata": {},
   "source": []
  },
  {
   "cell_type": "code",
   "execution_count": 69,
   "id": "88d3d9f4e153032f",
   "metadata": {
    "ExecuteTime": {
     "end_time": "2025-08-22T04:20:55.806748Z",
     "start_time": "2025-08-22T04:20:54.077172Z"
    }
   },
   "outputs": [],
   "source": [
    "import pandas as pd\n",
    "from sklearn.preprocessing import StandardScaler\n",
    "from sklearn.cluster import KMeans\n",
    "\n",
    "numeric_cols = [\n",
    "    \"economic\", \"capacity_and_resources\", \"morality\",\n",
    "    \"fairness_and_equality\", \"legality_constitutionality_and_jurisprudence\",\n",
    "    \"policy_prescription_and_evaluation\", \"crime_and_punishment\",\n",
    "    \"security_and_defense\", \"health_and_safety\", \"quality_of_life\",\n",
    "    \"cultural_identity\", \"public_opinion\", \"political\",\n",
    "    \"external_regulation_and_reputation\"\n",
    "]\n",
    "\n",
    "scaler = StandardScaler()\n",
    "X_scaled = scaler.fit_transform(df[numeric_cols])\n",
    "\n",
    "kmeans = KMeans(n_clusters=4, random_state=42, n_init=10)\n",
    "df[\"frames_reduced\"] = kmeans.fit_predict(X_scaled)"
   ]
  },
  {
   "cell_type": "code",
   "execution_count": 70,
   "id": "de16bfb686425fe2",
   "metadata": {
    "ExecuteTime": {
     "end_time": "2025-08-22T04:20:55.834700Z",
     "start_time": "2025-08-22T04:20:55.814255Z"
    }
   },
   "outputs": [
    {
     "name": "stdout",
     "output_type": "stream",
     "text": [
      "frames\n",
      "['capacity_and_resources', 'economic', 'political', 'public_opinion']                                                                                                                                         2\n",
      "['capacity_and_resources', 'morality', 'health_and_safety', 'quality_of_life', 'public_opinion', 'security_and_defense']                                                                                      1\n",
      "['capacity_and_resources', 'policy_prescription_and_evaluation', 'cultural_identity', 'political', 'external_regulation_and_reputation', 'legality_constitutionality_and_jurisprudence', 'public_opinion']    0\n",
      "['crime_and_punishment', 'external_regulation_and_reputation']                                                                                                                                                2\n",
      "['crime_and_punishment', 'legality_constitutionality_and_jurisprudence', 'fairness_and_equality', 'economic', 'public_opinion', 'external_regulation_and_reputation']                                         2\n",
      "                                                                                                                                                                                                             ..\n",
      "['security_and_defense', 'public_opinion', 'economic', 'external_regulation_and_reputation']                                                                                                                  3\n",
      "['security_and_defense', 'public_opinion', 'fairness_and_equality', 'health_and_safety']                                                                                                                      1\n",
      "['security_and_defense', 'public_opinion', 'legality_constitutionality_and_jurisprudence']                                                                                                                    3\n",
      "['security_and_defense', 'public_opinion']                                                                                                                                                                    3\n",
      "['security_and_defense']                                                                                                                                                                                      3\n",
      "Name: frames_reduced, Length: 114, dtype: int32\n"
     ]
    }
   ],
   "source": [
    "cluster_map = df.groupby(\"frames\")[\"frames_reduced\"].agg(lambda x: x.mode()[0])\n",
    "print(cluster_map)"
   ]
  },
  {
   "cell_type": "code",
   "execution_count": 71,
   "id": "68336c0a673ae418",
   "metadata": {
    "ExecuteTime": {
     "end_time": "2025-08-22T04:20:55.853806Z",
     "start_time": "2025-08-22T04:20:55.847705Z"
    }
   },
   "outputs": [
    {
     "data": {
      "text/plain": [
       "0      2\n",
       "1      2\n",
       "2      2\n",
       "3      2\n",
       "4      2\n",
       "      ..\n",
       "135    2\n",
       "136    2\n",
       "137    3\n",
       "138    3\n",
       "139    2\n",
       "Name: frames_reduced, Length: 140, dtype: int32"
      ]
     },
     "execution_count": 71,
     "metadata": {},
     "output_type": "execute_result"
    }
   ],
   "source": [
    "df[\"frames_reduced\"]"
   ]
  },
  {
   "cell_type": "code",
   "execution_count": 72,
   "id": "b3316368962a0816",
   "metadata": {
    "ExecuteTime": {
     "end_time": "2025-08-22T04:20:55.882066Z",
     "start_time": "2025-08-22T04:20:55.876323Z"
    }
   },
   "outputs": [
    {
     "name": "stderr",
     "output_type": "stream",
     "text": [
      "[nltk_data] Downloading package stopwords to\n",
      "[nltk_data]     C:\\Users\\guill\\AppData\\Roaming\\nltk_data...\n",
      "[nltk_data]   Package stopwords is already up-to-date!\n"
     ]
    }
   ],
   "source": [
    "import nltk\n",
    "from nltk.corpus import stopwords\n",
    "\n",
    "# Download stopwords (only need to run once)\n",
    "nltk.download(\"stopwords\")\n",
    "\n",
    "# Load Spanish stopwords\n",
    "spanish_stopwords = stopwords.words(\"spanish\")"
   ]
  },
  {
   "cell_type": "code",
   "execution_count": 73,
   "id": "ffded17df036d221",
   "metadata": {
    "ExecuteTime": {
     "end_time": "2025-08-22T04:20:56.093669Z",
     "start_time": "2025-08-22T04:20:55.899587Z"
    }
   },
   "outputs": [],
   "source": [
    "from sklearn.feature_extraction.text import TfidfVectorizer\n",
    "from sklearn.decomposition import TruncatedSVD\n",
    "\n",
    "vectorizer = TfidfVectorizer(\n",
    "    max_features=5000,\n",
    "    stop_words=spanish_stopwords   # <-- important\n",
    ")\n",
    "X_text = vectorizer.fit_transform(df[\"news\"])\n",
    "\n",
    "# Reduce dimensionality (optional)\n",
    "svd = TruncatedSVD(n_components=100, random_state=42)\n",
    "X_text_reduced = svd.fit_transform(X_text)\n"
   ]
  },
  {
   "cell_type": "code",
   "execution_count": 74,
   "id": "360e6548fd78fcfb",
   "metadata": {
    "ExecuteTime": {
     "end_time": "2025-08-22T04:21:03.580573Z",
     "start_time": "2025-08-22T04:20:56.105195Z"
    }
   },
   "outputs": [
    {
     "name": "stderr",
     "output_type": "stream",
     "text": [
      "Batches: 100%|██████████| 5/5 [00:03<00:00,  1.48it/s]\n"
     ]
    }
   ],
   "source": [
    "from sentence_transformers import SentenceTransformer\n",
    "\n",
    "# Good multilingual models for Spanish:\n",
    "model = SentenceTransformer(\"sentence-transformers/paraphrase-multilingual-MiniLM-L12-v2\")\n",
    "\n",
    "X_text = model.encode(df[\"news\"].tolist(), show_progress_bar=True)\n"
   ]
  },
  {
   "cell_type": "code",
   "execution_count": 75,
   "id": "cea9671988a2190c",
   "metadata": {
    "ExecuteTime": {
     "end_time": "2025-08-22T04:21:03.635679Z",
     "start_time": "2025-08-22T04:21:03.596599Z"
    }
   },
   "outputs": [],
   "source": [
    "import numpy as np\n",
    "from sklearn.preprocessing import StandardScaler\n",
    "from sklearn.cluster import KMeans\n",
    "\n",
    "# scale numeric features\n",
    "scaler = StandardScaler()\n",
    "X_scaled = scaler.fit_transform(df[numeric_cols])\n",
    "\n",
    "# combine numeric + text features\n",
    "X_combined = np.hstack([X_scaled, X_text])\n",
    "\n",
    "# cluster\n",
    "kmeans = KMeans(n_clusters=4, random_state=42, n_init=10)\n",
    "df[\"combined_clusters\"] = kmeans.fit_predict(X_combined)"
   ]
  },
  {
   "cell_type": "code",
   "execution_count": 76,
   "id": "362fe5fa5e1d37ff",
   "metadata": {
    "ExecuteTime": {
     "end_time": "2025-08-22T04:21:03.652373Z",
     "start_time": "2025-08-22T04:21:03.644525Z"
    }
   },
   "outputs": [
    {
     "name": "stdout",
     "output_type": "stream",
     "text": [
      "Silhouette Score: 0.07158963478314159\n"
     ]
    }
   ],
   "source": [
    "from sklearn.metrics import silhouette_score\n",
    "\n",
    "score = silhouette_score(X_combined, df[\"combined_clusters\"])\n",
    "print(\"Silhouette Score:\", score)\n"
   ]
  },
  {
   "cell_type": "code",
   "execution_count": 77,
   "id": "f73b8f41e6c245db",
   "metadata": {
    "ExecuteTime": {
     "end_time": "2025-08-22T04:21:03.676859Z",
     "start_time": "2025-08-22T04:21:03.671146Z"
    }
   },
   "outputs": [
    {
     "name": "stdout",
     "output_type": "stream",
     "text": [
      "Calinski-Harabasz: 9.300873770520065\n"
     ]
    }
   ],
   "source": [
    "from sklearn.metrics import calinski_harabasz_score\n",
    "ch_score = calinski_harabasz_score(X_combined, df[\"combined_clusters\"])\n",
    "print(\"Calinski-Harabasz:\", ch_score)\n"
   ]
  },
  {
   "cell_type": "code",
   "execution_count": 78,
   "id": "b131b0e7a8ef470",
   "metadata": {
    "ExecuteTime": {
     "end_time": "2025-08-22T04:21:03.700367Z",
     "start_time": "2025-08-22T04:21:03.693362Z"
    }
   },
   "outputs": [
    {
     "name": "stdout",
     "output_type": "stream",
     "text": [
      "Davies-Bouldin: 2.8444039868197333\n"
     ]
    }
   ],
   "source": [
    "from sklearn.metrics import davies_bouldin_score\n",
    "db_score = davies_bouldin_score(X_combined, df[\"combined_clusters\"])\n",
    "print(\"Davies-Bouldin:\", db_score)"
   ]
  },
  {
   "cell_type": "code",
   "execution_count": 79,
   "id": "15a3d980ba42b6cc",
   "metadata": {
    "ExecuteTime": {
     "end_time": "2025-08-22T04:21:03.938366Z",
     "start_time": "2025-08-22T04:21:03.715379Z"
    }
   },
   "outputs": [
    {
     "data": {
      "image/png": "[encoded data removed]",
      "text/plain": [
       "<Figure size 640x480 with 1 Axes>"
      ]
     },
     "metadata": {},
     "output_type": "display_data"
    }
   ],
   "source": [
    "from sklearn.decomposition import PCA\n",
    "import matplotlib.pyplot as plt\n",
    "\n",
    "pca = PCA(n_components=2)\n",
    "X_2d = pca.fit_transform(X_combined)\n",
    "\n",
    "plt.scatter(X_2d[:,0], X_2d[:,1], c=df[\"combined_clusters\"], cmap=\"tab10\")\n",
    "plt.title(\"Clusters Visualization (PCA)\")\n",
    "plt.show()"
   ]
  },
  {
   "cell_type": "code",
   "execution_count": 80,
   "id": "a412f7d6b493b961",
   "metadata": {
    "ExecuteTime": {
     "end_time": "2025-08-22T04:21:06.584225Z",
     "start_time": "2025-08-22T04:21:03.945376Z"
    }
   },
   "outputs": [
    {
     "data": {
      "image/png": "[encoded data removed]",
      "text/plain": [
       "<Figure size 1200x1000 with 4 Axes>"
      ]
     },
     "metadata": {},
     "output_type": "display_data"
    },
    {
     "data": {
      "image/png": "[encoded data removed]",
      "text/plain": [
       "<Figure size 1200x1000 with 4 Axes>"
      ]
     },
     "metadata": {},
     "output_type": "display_data"
    },
    {
     "data": {
      "image/png": "[encoded data removed]",
      "text/plain": [
       "<Figure size 1200x1000 with 4 Axes>"
      ]
     },
     "metadata": {},
     "output_type": "display_data"
    }
   ],
   "source": [
    "import numpy as np\n",
    "import pandas as pd\n",
    "import matplotlib.pyplot as plt\n",
    "\n",
    "from sklearn.feature_extraction.text import CountVectorizer, TfidfVectorizer\n",
    "from sklearn.decomposition import TruncatedSVD\n",
    "from sklearn.preprocessing import StandardScaler\n",
    "from sklearn.cluster import KMeans\n",
    "from sklearn.metrics import silhouette_score, calinski_harabasz_score, davies_bouldin_score\n",
    "\n",
    "# ------------------------\n",
    "# Function to evaluate one representation\n",
    "# ------------------------\n",
    "def evaluate_text_representation(X_text_reduced, name, X_scaled, numeric_cols):\n",
    "    # Combine text + numeric\n",
    "    X_combined = np.hstack([X_scaled, X_text_reduced])\n",
    "\n",
    "    # Test different k\n",
    "    K = range(2, 11)\n",
    "    inertia, sil_scores, ch_scores, db_scores = [], [], [], []\n",
    "\n",
    "    for k in K:\n",
    "        kmeans = KMeans(n_clusters=k, random_state=42, n_init=10)\n",
    "        labels = kmeans.fit_predict(X_combined)\n",
    "\n",
    "        inertia.append(kmeans.inertia_)\n",
    "        sil_scores.append(silhouette_score(X_combined, labels))\n",
    "        ch_scores.append(calinski_harabasz_score(X_combined, labels))\n",
    "        db_scores.append(davies_bouldin_score(X_combined, labels))\n",
    "\n",
    "    # Plot metrics\n",
    "    fig, axes = plt.subplots(2, 2, figsize=(12, 10))\n",
    "    fig.suptitle(f\"Clustering Evaluation – {name}\", fontsize=14)\n",
    "\n",
    "    axes[0,0].plot(K, inertia, 'bo-')\n",
    "    axes[0,0].set_title(\"Elbow Method (Inertia)\")\n",
    "\n",
    "    axes[0,1].plot(K, sil_scores, 'ro-')\n",
    "    axes[0,1].set_title(\"Silhouette Score\")\n",
    "\n",
    "    axes[1,0].plot(K, ch_scores, 'go-')\n",
    "    axes[1,0].set_title(\"Calinski-Harabasz Index\")\n",
    "\n",
    "    axes[1,1].plot(K, db_scores, 'mo-')\n",
    "    axes[1,1].set_title(\"Davies-Bouldin Index (lower is better)\")\n",
    "\n",
    "    for ax in axes.flat:\n",
    "        ax.set_xlabel(\"k\")\n",
    "        ax.set_ylabel(\"Score\")\n",
    "\n",
    "    plt.tight_layout()\n",
    "    plt.show()\n",
    "\n",
    "# ------------------------\n",
    "# 1. Prepare numeric features\n",
    "# ------------------------\n",
    "numeric_cols = [\n",
    "    \"economic\", \"capacity_and_resources\", \"morality\",\n",
    "    \"fairness_and_equality\", \"legality_constitutionality_and_jurisprudence\",\n",
    "    \"policy_prescription_and_evaluation\", \"crime_and_punishment\",\n",
    "    \"security_and_defense\", \"health_and_safety\", \"quality_of_life\",\n",
    "    \"cultural_identity\", \"public_opinion\", \"political\",\n",
    "    \"external_regulation_and_reputation\"\n",
    "]\n",
    "\n",
    "scaler = StandardScaler()\n",
    "X_scaled = scaler.fit_transform(df[numeric_cols])\n",
    "\n",
    "# ------------------------\n",
    "# 2a. TF-IDF Representation\n",
    "# ------------------------\n",
    "tfidf = TfidfVectorizer(max_features=5000, stop_words=spanish_stopwords)\n",
    "X_tfidf = tfidf.fit_transform(df[\"news\"])\n",
    "svd = TruncatedSVD(n_components=100, random_state=42)\n",
    "X_tfidf_reduced = svd.fit_transform(X_tfidf)\n",
    "\n",
    "evaluate_text_representation(X_tfidf_reduced, \"TF-IDF\", X_scaled, numeric_cols)\n",
    "\n",
    "# ------------------------\n",
    "# 2b. Term Frequency (Count)\n",
    "# ------------------------\n",
    "count_vect = CountVectorizer(max_features=5000, stop_words=spanish_stopwords, binary=False)\n",
    "X_tf = count_vect.fit_transform(df[\"news\"])\n",
    "X_tf_reduced = svd.fit_transform(X_tf)\n",
    "\n",
    "evaluate_text_representation(X_tf_reduced, \"Term Frequency\", X_scaled, numeric_cols)\n",
    "\n",
    "# ------------------------\n",
    "# 2c. Binary Presence/Absence\n",
    "# ------------------------\n",
    "binary_vect = CountVectorizer(max_features=5000, stop_words=spanish_stopwords, binary=True)\n",
    "X_bin = binary_vect.fit_transform(df[\"news\"])\n",
    "X_bin_reduced = svd.fit_transform(X_bin)\n",
    "\n",
    "evaluate_text_representation(X_bin_reduced, \"Binary (Presence/Absence)\", X_scaled, numeric_cols)\n"
   ]
  },
  {
   "cell_type": "code",
   "execution_count": 81,
   "id": "c4808683629a9199",
   "metadata": {
    "ExecuteTime": {
     "end_time": "2025-08-22T04:21:06.618665Z",
     "start_time": "2025-08-22T04:21:06.590235Z"
    }
   },
   "outputs": [],
   "source": [
    "from sklearn.cluster import KMeans\n",
    "\n",
    "rep = \"tfidf\"\n",
    "\n",
    "if rep == \"tfidf\":\n",
    "    X_text_reduced = X_tfidf_reduced\n",
    "elif rep == \"tf\":\n",
    "    X_text_reduced = X_tf_reduced\n",
    "elif rep == \"binary\":\n",
    "    X_text_reduced = X_bin_reduced\n",
    "else:\n",
    "    raise ValueError(\"Choose one of: 'tfidf', 'tf', 'binary'\")\n",
    "\n",
    "# --- Combine with numeric features ---\n",
    "X_combined = np.hstack([X_scaled, X_text_reduced])\n",
    "\n",
    "# --- Run clustering with best k ---\n",
    "best_k = 5 # replace with the best k from your evaluation\n",
    "kmeans = KMeans(n_clusters=best_k, random_state=42, n_init=10)\n",
    "labels = kmeans.fit_predict(X_combined)\n",
    "\n",
    "df[f\"final_clusters_{rep}\"] = labels"
   ]
  },
  {
   "cell_type": "code",
   "execution_count": 82,
   "id": "bbb05d097fd25c4b",
   "metadata": {
    "ExecuteTime": {
     "end_time": "2025-08-22T04:21:06.648240Z",
     "start_time": "2025-08-22T04:21:06.626182Z"
    }
   },
   "outputs": [
    {
     "name": "stdout",
     "output_type": "stream",
     "text": [
      "    final_clusters_tfidf                              principal_frames  \\\n",
      "0                      0            external_regulation_and_reputation   \n",
      "1                      0                             health_and_safety   \n",
      "2                      0  legality_constitutionality_and_jurisprudence   \n",
      "3                      0                                      morality   \n",
      "4                      0            policy_prescription_and_evaluation   \n",
      "5                      0                                     political   \n",
      "6                      0                                public_opinion   \n",
      "7                      0                          security_and_defense   \n",
      "8                      1                        capacity_and_resources   \n",
      "9                      1                          crime_and_punishment   \n",
      "10                     1                                      economic   \n",
      "11                     1                             health_and_safety   \n",
      "12                     1                                      morality   \n",
      "13                     1            policy_prescription_and_evaluation   \n",
      "14                     1                                     political   \n",
      "15                     1                                public_opinion   \n",
      "16                     1                          security_and_defense   \n",
      "17                     2                        capacity_and_resources   \n",
      "18                     2            external_regulation_and_reputation   \n",
      "19                     2                         fairness_and_equality   \n",
      "20                     2  legality_constitutionality_and_jurisprudence   \n",
      "21                     2            policy_prescription_and_evaluation   \n",
      "22                     2                                     political   \n",
      "23                     2                                public_opinion   \n",
      "24                     2                               quality_of_life   \n",
      "25                     2                          security_and_defense   \n",
      "26                     3                             cultural_identity   \n",
      "27                     3                                      economic   \n",
      "28                     3            external_regulation_and_reputation   \n",
      "29                     3                             health_and_safety   \n",
      "30                     3                                      morality   \n",
      "31                     3                                     political   \n",
      "32                     3                                public_opinion   \n",
      "33                     3                               quality_of_life   \n",
      "34                     3                          security_and_defense   \n",
      "35                     4                          crime_and_punishment   \n",
      "36                     4            external_regulation_and_reputation   \n",
      "37                     4  legality_constitutionality_and_jurisprudence   \n",
      "38                     4                                     political   \n",
      "39                     4                                public_opinion   \n",
      "40                     4                          security_and_defense   \n",
      "\n",
      "    frequency  \n",
      "0           1  \n",
      "1           9  \n",
      "2           2  \n",
      "3           1  \n",
      "4           1  \n",
      "5           1  \n",
      "6           4  \n",
      "7           1  \n",
      "8           1  \n",
      "9           1  \n",
      "10         10  \n",
      "11          1  \n",
      "12          1  \n",
      "13          2  \n",
      "14          2  \n",
      "15          4  \n",
      "16          2  \n",
      "17          1  \n",
      "18          3  \n",
      "19          1  \n",
      "20          2  \n",
      "21          8  \n",
      "22         16  \n",
      "23          8  \n",
      "24          1  \n",
      "25         10  \n",
      "26          3  \n",
      "27          2  \n",
      "28          2  \n",
      "29          1  \n",
      "30          1  \n",
      "31          1  \n",
      "32          1  \n",
      "33          1  \n",
      "34          2  \n",
      "35         11  \n",
      "36          3  \n",
      "37          5  \n",
      "38          4  \n",
      "39          1  \n",
      "40          8  \n",
      "principal_frames      capacity_and_resources  crime_and_punishment  \\\n",
      "final_clusters_tfidf                                                 \n",
      "0                                        0.0                   0.0   \n",
      "1                                        1.0                   1.0   \n",
      "2                                        1.0                   0.0   \n",
      "3                                        0.0                   0.0   \n",
      "4                                        0.0                  11.0   \n",
      "\n",
      "principal_frames      cultural_identity  economic  \\\n",
      "final_clusters_tfidf                                \n",
      "0                                   0.0       0.0   \n",
      "1                                   0.0      10.0   \n",
      "2                                   0.0       0.0   \n",
      "3                                   3.0       2.0   \n",
      "4                                   0.0       0.0   \n",
      "\n",
      "principal_frames      external_regulation_and_reputation  \\\n",
      "final_clusters_tfidf                                       \n",
      "0                                                    1.0   \n",
      "1                                                    0.0   \n",
      "2                                                    3.0   \n",
      "3                                                    2.0   \n",
      "4                                                    3.0   \n",
      "\n",
      "principal_frames      fairness_and_equality  health_and_safety  \\\n",
      "final_clusters_tfidf                                             \n",
      "0                                       0.0                9.0   \n",
      "1                                       0.0                1.0   \n",
      "2                                       1.0                0.0   \n",
      "3                                       0.0                1.0   \n",
      "4                                       0.0                0.0   \n",
      "\n",
      "principal_frames      legality_constitutionality_and_jurisprudence  morality  \\\n",
      "final_clusters_tfidf                                                           \n",
      "0                                                              2.0       1.0   \n",
      "1                                                              0.0       1.0   \n",
      "2                                                              2.0       0.0   \n",
      "3                                                              0.0       1.0   \n",
      "4                                                              5.0       0.0   \n",
      "\n",
      "principal_frames      policy_prescription_and_evaluation  political  \\\n",
      "final_clusters_tfidf                                                  \n",
      "0                                                    1.0        1.0   \n",
      "1                                                    2.0        2.0   \n",
      "2                                                    8.0       16.0   \n",
      "3                                                    0.0        1.0   \n",
      "4                                                    0.0        4.0   \n",
      "\n",
      "principal_frames      public_opinion  quality_of_life  security_and_defense  \n",
      "final_clusters_tfidf                                                         \n",
      "0                                4.0              0.0                   1.0  \n",
      "1                                4.0              0.0                   2.0  \n",
      "2                                8.0              1.0                  10.0  \n",
      "3                                1.0              1.0                   2.0  \n",
      "4                                1.0              0.0                   8.0  \n"
     ]
    }
   ],
   "source": [
    "cluster_frame_counts = (\n",
    "    df.groupby([f\"final_clusters_{rep}\", \"principal_frames\"])\n",
    "    .size()\n",
    "    .reset_index(name=\"frequency\")\n",
    ")\n",
    "\n",
    "# Optional: pivot for easier visualization\n",
    "cluster_frame_pivot = cluster_frame_counts.pivot(\n",
    "    index=f\"final_clusters_{rep}\",\n",
    "    columns=\"principal_frames\",\n",
    "    values=\"frequency\"\n",
    ").fillna(0)\n",
    "\n",
    "print(cluster_frame_counts)\n",
    "print(cluster_frame_pivot)"
   ]
  },
  {
   "cell_type": "code",
   "execution_count": 83,
   "id": "e2872a6e8de0aed0",
   "metadata": {
    "ExecuteTime": {
     "end_time": "2025-08-22T04:21:06.762836Z",
     "start_time": "2025-08-22T04:21:06.659247Z"
    }
   },
   "outputs": [
    {
     "name": "stdout",
     "output_type": "stream",
     "text": [
      "Average Silhouette Score for k=5: 0.123\n"
     ]
    },
    {
     "data": {
      "image/png": "[encoded data removed]",
      "text/plain": [
       "<Figure size 1000x600 with 1 Axes>"
      ]
     },
     "metadata": {},
     "output_type": "display_data"
    }
   ],
   "source": [
    "import matplotlib.pyplot as plt\n",
    "import matplotlib.cm as cm\n",
    "import numpy as np\n",
    "from sklearn.metrics import silhouette_samples, silhouette_score\n",
    "\n",
    "# Compute silhouette values\n",
    "silhouette_avg = silhouette_score(X_combined, labels)\n",
    "sample_silhouette_values = silhouette_samples(X_combined, labels)\n",
    "\n",
    "print(f\"Average Silhouette Score for k={best_k}: {silhouette_avg:.3f}\")\n",
    "\n",
    "# --- Plot ---\n",
    "fig, ax = plt.subplots(figsize=(10, 6))\n",
    "y_lower = 10\n",
    "\n",
    "for i in range(best_k):\n",
    "    # Select silhouette values for cluster i\n",
    "    cluster_silhouette_values = sample_silhouette_values[labels == i]\n",
    "    cluster_silhouette_values.sort()\n",
    "\n",
    "    size_cluster_i = cluster_silhouette_values.shape[0]\n",
    "    y_upper = y_lower + size_cluster_i\n",
    "\n",
    "    color = cm.nipy_spectral(float(i) / best_k)\n",
    "    ax.fill_betweenx(\n",
    "        np.arange(y_lower, y_upper),\n",
    "        0, cluster_silhouette_values,\n",
    "        facecolor=color, edgecolor=color, alpha=0.7\n",
    "    )\n",
    "\n",
    "    # Label cluster number\n",
    "    ax.text(-0.05, y_lower + 0.5 * size_cluster_i, str(i))\n",
    "\n",
    "    y_lower = y_upper + 10  # add space between clusters\n",
    "\n",
    "ax.set_title(f\"Silhouette Plot for {best_k} Clusters\")\n",
    "ax.set_xlabel(\"Silhouette Coefficient Values\")\n",
    "ax.set_ylabel(\"Cluster\")\n",
    "\n",
    "# Average silhouette score line\n",
    "ax.axvline(x=silhouette_avg, color=\"red\", linestyle=\"--\")\n",
    "\n",
    "ax.set_yticks([])\n",
    "ax.set_xlim([-0.2, 1])\n",
    "plt.show()"
   ]
  },
  {
   "cell_type": "code",
   "execution_count": 84,
   "id": "8a5c5d1b93648513",
   "metadata": {
    "ExecuteTime": {
     "end_time": "2025-08-22T04:21:06.795415Z",
     "start_time": "2025-08-22T04:21:06.780073Z"
    }
   },
   "outputs": [
    {
     "data": {
      "text/html": [
       "<div>\n",
       "<style scoped>\n",
       "    .dataframe tbody tr th:only-of-type {\n",
       "        vertical-align: middle;\n",
       "    }\n",
       "\n",
       "    .dataframe tbody tr th {\n",
       "        vertical-align: top;\n",
       "    }\n",
       "\n",
       "    .dataframe thead th {\n",
       "        text-align: right;\n",
       "    }\n",
       "</style>\n",
       "<table border=\"1\" class=\"dataframe\">\n",
       "  <thead>\n",
       "    <tr style=\"text-align: right;\">\n",
       "      <th></th>\n",
       "      <th>id</th>\n",
       "      <th>news</th>\n",
       "      <th>frames</th>\n",
       "      <th>tone</th>\n",
       "      <th>principal_frames</th>\n",
       "      <th>economic</th>\n",
       "      <th>capacity_and_resources</th>\n",
       "      <th>morality</th>\n",
       "      <th>fairness_and_equality</th>\n",
       "      <th>legality_constitutionality_and_jurisprudence</th>\n",
       "      <th>...</th>\n",
       "      <th>political</th>\n",
       "      <th>external_regulation_and_reputation</th>\n",
       "      <th>country</th>\n",
       "      <th>news_cleaned</th>\n",
       "      <th>news_cleaned_without_stopwords</th>\n",
       "      <th>news_tokens</th>\n",
       "      <th>news_lemmes</th>\n",
       "      <th>frames_reduced</th>\n",
       "      <th>combined_clusters</th>\n",
       "      <th>final_clusters_tfidf</th>\n",
       "    </tr>\n",
       "  </thead>\n",
       "  <tbody>\n",
       "    <tr>\n",
       "      <th>0</th>\n",
       "      <td>Noticia_1.txt</td>\n",
       "      <td>¿Cuánto tiempo estoy autorizado a permanecer e...</td>\n",
       "      <td>['external_regulation_and_reputation', 'legali...</td>\n",
       "      <td>neutral</td>\n",
       "      <td>legality_constitutionality_and_jurisprudence</td>\n",
       "      <td>0</td>\n",
       "      <td>0</td>\n",
       "      <td>0</td>\n",
       "      <td>0</td>\n",
       "      <td>1</td>\n",
       "      <td>...</td>\n",
       "      <td>0</td>\n",
       "      <td>1</td>\n",
       "      <td>Colombia</td>\n",
       "      <td>cuánto tiempo estoy autorizado a permanecer e...</td>\n",
       "      <td>cuánto tiempo autorizado permanecer unidos \\n...</td>\n",
       "      <td>cuánto tiempo autorizado permanecer unidos \\n...</td>\n",
       "      <td>cua ́ nto tiempo autorizado permanecer unidos ...</td>\n",
       "      <td>2</td>\n",
       "      <td>2</td>\n",
       "      <td>4</td>\n",
       "    </tr>\n",
       "    <tr>\n",
       "      <th>1</th>\n",
       "      <td>Noticia_2.txt</td>\n",
       "      <td>Colombia y Venezuela instalaron comisión de ve...</td>\n",
       "      <td>['policy_prescription_and_evaluation', 'politi...</td>\n",
       "      <td>neutral</td>\n",
       "      <td>political</td>\n",
       "      <td>1</td>\n",
       "      <td>0</td>\n",
       "      <td>1</td>\n",
       "      <td>0</td>\n",
       "      <td>0</td>\n",
       "      <td>...</td>\n",
       "      <td>1</td>\n",
       "      <td>1</td>\n",
       "      <td>Colombia</td>\n",
       "      <td>colombia y venezuela instalaron comisión de v...</td>\n",
       "      <td>colombia venezuela instalaron comisión vecind...</td>\n",
       "      <td>colombia venezuela instalaron comisión vecind...</td>\n",
       "      <td>colombia venezuela instalaron comisio ́ n veci...</td>\n",
       "      <td>2</td>\n",
       "      <td>1</td>\n",
       "      <td>1</td>\n",
       "    </tr>\n",
       "    <tr>\n",
       "      <th>2</th>\n",
       "      <td>Noticia_7.txt</td>\n",
       "      <td>Atrasar proceso electoral hasta enero de 2024,...</td>\n",
       "      <td>['political', 'quality_of_life', 'public_opini...</td>\n",
       "      <td>neutral</td>\n",
       "      <td>political</td>\n",
       "      <td>0</td>\n",
       "      <td>0</td>\n",
       "      <td>0</td>\n",
       "      <td>0</td>\n",
       "      <td>0</td>\n",
       "      <td>...</td>\n",
       "      <td>1</td>\n",
       "      <td>0</td>\n",
       "      <td>Colombia</td>\n",
       "      <td>atrasar proceso electoral hasta enero de 2024 ...</td>\n",
       "      <td>atrasar proceso electoral enero 2024 puesto de...</td>\n",
       "      <td>atrasar proceso electoral enero 2024 puesto de...</td>\n",
       "      <td>atrasar proceso electoral enero 2024 puesto de...</td>\n",
       "      <td>2</td>\n",
       "      <td>1</td>\n",
       "      <td>2</td>\n",
       "    </tr>\n",
       "    <tr>\n",
       "      <th>3</th>\n",
       "      <td>Noticia_8.txt</td>\n",
       "      <td>Avanza SLP en cuanto a transparencia presupues...</td>\n",
       "      <td>['policy_prescription_and_evaluation', 'public...</td>\n",
       "      <td>neutral</td>\n",
       "      <td>policy_prescription_and_evaluation</td>\n",
       "      <td>0</td>\n",
       "      <td>0</td>\n",
       "      <td>0</td>\n",
       "      <td>0</td>\n",
       "      <td>0</td>\n",
       "      <td>...</td>\n",
       "      <td>0</td>\n",
       "      <td>1</td>\n",
       "      <td>Colombia</td>\n",
       "      <td>avanza slp en cuanto a transparencia presupues...</td>\n",
       "      <td>avanza slp transparencia presupuestal 2023 imc...</td>\n",
       "      <td>avanza slp transparencia presupuestal 2023 imc...</td>\n",
       "      <td>avanza slp transparencia presupuestal 2023 imc...</td>\n",
       "      <td>2</td>\n",
       "      <td>1</td>\n",
       "      <td>2</td>\n",
       "    </tr>\n",
       "    <tr>\n",
       "      <th>4</th>\n",
       "      <td>Noticia_9.txt</td>\n",
       "      <td>Confía dirigente del PT en mantener el registr...</td>\n",
       "      <td>['external_regulation_and_reputation', 'qualit...</td>\n",
       "      <td>negative</td>\n",
       "      <td>fairness_and_equality</td>\n",
       "      <td>0</td>\n",
       "      <td>1</td>\n",
       "      <td>0</td>\n",
       "      <td>1</td>\n",
       "      <td>0</td>\n",
       "      <td>...</td>\n",
       "      <td>0</td>\n",
       "      <td>1</td>\n",
       "      <td>Colombia</td>\n",
       "      <td>confía dirigente del pt en mantener el regist...</td>\n",
       "      <td>confía dirigente pt mantener registro san lui...</td>\n",
       "      <td>confía dirigente pt mantener registro san lui...</td>\n",
       "      <td>confi ́ a dirigente pt mantener registro san l...</td>\n",
       "      <td>2</td>\n",
       "      <td>0</td>\n",
       "      <td>2</td>\n",
       "    </tr>\n",
       "  </tbody>\n",
       "</table>\n",
       "<p>5 rows × 27 columns</p>\n",
       "</div>"
      ],
      "text/plain": [
       "              id                                               news  \\\n",
       "0  Noticia_1.txt  ¿Cuánto tiempo estoy autorizado a permanecer e...   \n",
       "1  Noticia_2.txt  Colombia y Venezuela instalaron comisión de ve...   \n",
       "2  Noticia_7.txt  Atrasar proceso electoral hasta enero de 2024,...   \n",
       "3  Noticia_8.txt  Avanza SLP en cuanto a transparencia presupues...   \n",
       "4  Noticia_9.txt  Confía dirigente del PT en mantener el registr...   \n",
       "\n",
       "                                              frames      tone  \\\n",
       "0  ['external_regulation_and_reputation', 'legali...   neutral   \n",
       "1  ['policy_prescription_and_evaluation', 'politi...   neutral   \n",
       "2  ['political', 'quality_of_life', 'public_opini...   neutral   \n",
       "3  ['policy_prescription_and_evaluation', 'public...   neutral   \n",
       "4  ['external_regulation_and_reputation', 'qualit...  negative   \n",
       "\n",
       "                               principal_frames  economic  \\\n",
       "0  legality_constitutionality_and_jurisprudence         0   \n",
       "1                                     political         1   \n",
       "2                                     political         0   \n",
       "3            policy_prescription_and_evaluation         0   \n",
       "4                         fairness_and_equality         0   \n",
       "\n",
       "   capacity_and_resources  morality  fairness_and_equality  \\\n",
       "0                       0         0                      0   \n",
       "1                       0         1                      0   \n",
       "2                       0         0                      0   \n",
       "3                       0         0                      0   \n",
       "4                       1         0                      1   \n",
       "\n",
       "   legality_constitutionality_and_jurisprudence  ...  political  \\\n",
       "0                                             1  ...          0   \n",
       "1                                             0  ...          1   \n",
       "2                                             0  ...          1   \n",
       "3                                             0  ...          0   \n",
       "4                                             0  ...          0   \n",
       "\n",
       "   external_regulation_and_reputation   country  \\\n",
       "0                                   1  Colombia   \n",
       "1                                   1  Colombia   \n",
       "2                                   0  Colombia   \n",
       "3                                   1  Colombia   \n",
       "4                                   1  Colombia   \n",
       "\n",
       "                                        news_cleaned  \\\n",
       "0  cuánto tiempo estoy autorizado a permanecer e...   \n",
       "1  colombia y venezuela instalaron comisión de v...   \n",
       "2  atrasar proceso electoral hasta enero de 2024 ...   \n",
       "3  avanza slp en cuanto a transparencia presupues...   \n",
       "4  confía dirigente del pt en mantener el regist...   \n",
       "\n",
       "                      news_cleaned_without_stopwords  \\\n",
       "0  cuánto tiempo autorizado permanecer unidos \\n...   \n",
       "1  colombia venezuela instalaron comisión vecind...   \n",
       "2  atrasar proceso electoral enero 2024 puesto de...   \n",
       "3  avanza slp transparencia presupuestal 2023 imc...   \n",
       "4  confía dirigente pt mantener registro san lui...   \n",
       "\n",
       "                                         news_tokens  \\\n",
       "0  cuánto tiempo autorizado permanecer unidos \\n...   \n",
       "1  colombia venezuela instalaron comisión vecind...   \n",
       "2  atrasar proceso electoral enero 2024 puesto de...   \n",
       "3  avanza slp transparencia presupuestal 2023 imc...   \n",
       "4  confía dirigente pt mantener registro san lui...   \n",
       "\n",
       "                                         news_lemmes  frames_reduced  \\\n",
       "0  cua ́ nto tiempo autorizado permanecer unidos ...               2   \n",
       "1  colombia venezuela instalaron comisio ́ n veci...               2   \n",
       "2  atrasar proceso electoral enero 2024 puesto de...               2   \n",
       "3  avanza slp transparencia presupuestal 2023 imc...               2   \n",
       "4  confi ́ a dirigente pt mantener registro san l...               2   \n",
       "\n",
       "   combined_clusters final_clusters_tfidf  \n",
       "0                  2                    4  \n",
       "1                  1                    1  \n",
       "2                  1                    2  \n",
       "3                  1                    2  \n",
       "4                  0                    2  \n",
       "\n",
       "[5 rows x 27 columns]"
      ]
     },
     "execution_count": 84,
     "metadata": {},
     "output_type": "execute_result"
    }
   ],
   "source": [
    "df.head()"
   ]
  },
  {
   "cell_type": "code",
   "execution_count": 85,
   "id": "9136d023264ff3c3",
   "metadata": {
    "ExecuteTime": {
     "end_time": "2025-08-22T04:21:06.823140Z",
     "start_time": "2025-08-22T04:21:06.813628Z"
    }
   },
   "outputs": [
    {
     "data": {
      "text/html": [
       "<div>\n",
       "<style scoped>\n",
       "    .dataframe tbody tr th:only-of-type {\n",
       "        vertical-align: middle;\n",
       "    }\n",
       "\n",
       "    .dataframe tbody tr th {\n",
       "        vertical-align: top;\n",
       "    }\n",
       "\n",
       "    .dataframe thead th {\n",
       "        text-align: right;\n",
       "    }\n",
       "</style>\n",
       "<table border=\"1\" class=\"dataframe\">\n",
       "  <thead>\n",
       "    <tr style=\"text-align: right;\">\n",
       "      <th></th>\n",
       "      <th>frames</th>\n",
       "      <th>principal_frames</th>\n",
       "      <th>final_clusters_tfidf</th>\n",
       "    </tr>\n",
       "  </thead>\n",
       "  <tbody>\n",
       "    <tr>\n",
       "      <th>2</th>\n",
       "      <td>['political', 'quality_of_life', 'public_opini...</td>\n",
       "      <td>political</td>\n",
       "      <td>2</td>\n",
       "    </tr>\n",
       "    <tr>\n",
       "      <th>3</th>\n",
       "      <td>['policy_prescription_and_evaluation', 'public...</td>\n",
       "      <td>policy_prescription_and_evaluation</td>\n",
       "      <td>2</td>\n",
       "    </tr>\n",
       "    <tr>\n",
       "      <th>4</th>\n",
       "      <td>['external_regulation_and_reputation', 'qualit...</td>\n",
       "      <td>fairness_and_equality</td>\n",
       "      <td>2</td>\n",
       "    </tr>\n",
       "    <tr>\n",
       "      <th>5</th>\n",
       "      <td>['external_regulation_and_reputation', 'politi...</td>\n",
       "      <td>external_regulation_and_reputation</td>\n",
       "      <td>2</td>\n",
       "    </tr>\n",
       "    <tr>\n",
       "      <th>6</th>\n",
       "      <td>['political', 'public_opinion']</td>\n",
       "      <td>political</td>\n",
       "      <td>2</td>\n",
       "    </tr>\n",
       "    <tr>\n",
       "      <th>11</th>\n",
       "      <td>['policy_prescription_and_evaluation', 'qualit...</td>\n",
       "      <td>policy_prescription_and_evaluation</td>\n",
       "      <td>2</td>\n",
       "    </tr>\n",
       "    <tr>\n",
       "      <th>12</th>\n",
       "      <td>['political']</td>\n",
       "      <td>political</td>\n",
       "      <td>2</td>\n",
       "    </tr>\n",
       "    <tr>\n",
       "      <th>15</th>\n",
       "      <td>['legality_constitutionality_and_jurisprudence...</td>\n",
       "      <td>policy_prescription_and_evaluation</td>\n",
       "      <td>2</td>\n",
       "    </tr>\n",
       "    <tr>\n",
       "      <th>16</th>\n",
       "      <td>['legality_constitutionality_and_jurisprudence...</td>\n",
       "      <td>policy_prescription_and_evaluation</td>\n",
       "      <td>2</td>\n",
       "    </tr>\n",
       "    <tr>\n",
       "      <th>19</th>\n",
       "      <td>['public_opinion']</td>\n",
       "      <td>public_opinion</td>\n",
       "      <td>2</td>\n",
       "    </tr>\n",
       "    <tr>\n",
       "      <th>22</th>\n",
       "      <td>['political', 'legality_constitutionality_and_...</td>\n",
       "      <td>political</td>\n",
       "      <td>2</td>\n",
       "    </tr>\n",
       "    <tr>\n",
       "      <th>24</th>\n",
       "      <td>['public_opinion', 'political', 'policy_prescr...</td>\n",
       "      <td>political</td>\n",
       "      <td>2</td>\n",
       "    </tr>\n",
       "    <tr>\n",
       "      <th>26</th>\n",
       "      <td>['political', 'legality_constitutionality_and_...</td>\n",
       "      <td>political</td>\n",
       "      <td>2</td>\n",
       "    </tr>\n",
       "    <tr>\n",
       "      <th>28</th>\n",
       "      <td>['political']</td>\n",
       "      <td>political</td>\n",
       "      <td>2</td>\n",
       "    </tr>\n",
       "    <tr>\n",
       "      <th>30</th>\n",
       "      <td>['political', 'legality_constitutionality_and_...</td>\n",
       "      <td>legality_constitutionality_and_jurisprudence</td>\n",
       "      <td>2</td>\n",
       "    </tr>\n",
       "    <tr>\n",
       "      <th>31</th>\n",
       "      <td>['legality_constitutionality_and_jurisprudence...</td>\n",
       "      <td>political</td>\n",
       "      <td>2</td>\n",
       "    </tr>\n",
       "    <tr>\n",
       "      <th>36</th>\n",
       "      <td>['political', 'quality_of_life', 'public_opini...</td>\n",
       "      <td>political</td>\n",
       "      <td>2</td>\n",
       "    </tr>\n",
       "    <tr>\n",
       "      <th>51</th>\n",
       "      <td>['security_and_defense', 'public_opinion']</td>\n",
       "      <td>security_and_defense</td>\n",
       "      <td>2</td>\n",
       "    </tr>\n",
       "    <tr>\n",
       "      <th>54</th>\n",
       "      <td>['political', 'policy_prescription_and_evaluat...</td>\n",
       "      <td>political</td>\n",
       "      <td>2</td>\n",
       "    </tr>\n",
       "    <tr>\n",
       "      <th>55</th>\n",
       "      <td>['public_opinion', 'political']</td>\n",
       "      <td>public_opinion</td>\n",
       "      <td>2</td>\n",
       "    </tr>\n",
       "    <tr>\n",
       "      <th>56</th>\n",
       "      <td>['legality_constitutionality_and_jurisprudence...</td>\n",
       "      <td>policy_prescription_and_evaluation</td>\n",
       "      <td>2</td>\n",
       "    </tr>\n",
       "    <tr>\n",
       "      <th>64</th>\n",
       "      <td>['legality_constitutionality_and_jurisprudence...</td>\n",
       "      <td>political</td>\n",
       "      <td>2</td>\n",
       "    </tr>\n",
       "    <tr>\n",
       "      <th>65</th>\n",
       "      <td>['legality_constitutionality_and_jurisprudence...</td>\n",
       "      <td>political</td>\n",
       "      <td>2</td>\n",
       "    </tr>\n",
       "    <tr>\n",
       "      <th>71</th>\n",
       "      <td>['policy_prescription_and_evaluation', 'politi...</td>\n",
       "      <td>policy_prescription_and_evaluation</td>\n",
       "      <td>2</td>\n",
       "    </tr>\n",
       "    <tr>\n",
       "      <th>73</th>\n",
       "      <td>['political', 'public_opinion', 'external_regu...</td>\n",
       "      <td>public_opinion</td>\n",
       "      <td>2</td>\n",
       "    </tr>\n",
       "    <tr>\n",
       "      <th>76</th>\n",
       "      <td>['security_and_defense', 'public_opinion']</td>\n",
       "      <td>security_and_defense</td>\n",
       "      <td>2</td>\n",
       "    </tr>\n",
       "    <tr>\n",
       "      <th>78</th>\n",
       "      <td>['public_opinion', 'political']</td>\n",
       "      <td>public_opinion</td>\n",
       "      <td>2</td>\n",
       "    </tr>\n",
       "    <tr>\n",
       "      <th>83</th>\n",
       "      <td>['political', 'public_opinion']</td>\n",
       "      <td>political</td>\n",
       "      <td>2</td>\n",
       "    </tr>\n",
       "    <tr>\n",
       "      <th>93</th>\n",
       "      <td>['external_regulation_and_reputation', 'public...</td>\n",
       "      <td>external_regulation_and_reputation</td>\n",
       "      <td>2</td>\n",
       "    </tr>\n",
       "    <tr>\n",
       "      <th>99</th>\n",
       "      <td>['legality_constitutionality_and_jurisprudence...</td>\n",
       "      <td>policy_prescription_and_evaluation</td>\n",
       "      <td>2</td>\n",
       "    </tr>\n",
       "    <tr>\n",
       "      <th>101</th>\n",
       "      <td>['public_opinion', 'security_and_defense']</td>\n",
       "      <td>security_and_defense</td>\n",
       "      <td>2</td>\n",
       "    </tr>\n",
       "    <tr>\n",
       "      <th>102</th>\n",
       "      <td>['security_and_defense', 'public_opinion']</td>\n",
       "      <td>security_and_defense</td>\n",
       "      <td>2</td>\n",
       "    </tr>\n",
       "    <tr>\n",
       "      <th>106</th>\n",
       "      <td>['public_opinion']</td>\n",
       "      <td>public_opinion</td>\n",
       "      <td>2</td>\n",
       "    </tr>\n",
       "    <tr>\n",
       "      <th>107</th>\n",
       "      <td>['political', 'public_opinion']</td>\n",
       "      <td>political</td>\n",
       "      <td>2</td>\n",
       "    </tr>\n",
       "    <tr>\n",
       "      <th>108</th>\n",
       "      <td>['policy_prescription_and_evaluation', 'legali...</td>\n",
       "      <td>quality_of_life</td>\n",
       "      <td>2</td>\n",
       "    </tr>\n",
       "    <tr>\n",
       "      <th>109</th>\n",
       "      <td>['security_and_defense']</td>\n",
       "      <td>security_and_defense</td>\n",
       "      <td>2</td>\n",
       "    </tr>\n",
       "    <tr>\n",
       "      <th>111</th>\n",
       "      <td>['legality_constitutionality_and_jurisprudence...</td>\n",
       "      <td>legality_constitutionality_and_jurisprudence</td>\n",
       "      <td>2</td>\n",
       "    </tr>\n",
       "    <tr>\n",
       "      <th>112</th>\n",
       "      <td>['political', 'public_opinion']</td>\n",
       "      <td>public_opinion</td>\n",
       "      <td>2</td>\n",
       "    </tr>\n",
       "    <tr>\n",
       "      <th>114</th>\n",
       "      <td>['political', 'public_opinion', 'capacity_and_...</td>\n",
       "      <td>capacity_and_resources</td>\n",
       "      <td>2</td>\n",
       "    </tr>\n",
       "    <tr>\n",
       "      <th>115</th>\n",
       "      <td>['political', 'public_opinion']</td>\n",
       "      <td>political</td>\n",
       "      <td>2</td>\n",
       "    </tr>\n",
       "    <tr>\n",
       "      <th>119</th>\n",
       "      <td>['security_and_defense', 'public_opinion']</td>\n",
       "      <td>security_and_defense</td>\n",
       "      <td>2</td>\n",
       "    </tr>\n",
       "    <tr>\n",
       "      <th>120</th>\n",
       "      <td>['public_opinion', 'security_and_defense']</td>\n",
       "      <td>public_opinion</td>\n",
       "      <td>2</td>\n",
       "    </tr>\n",
       "    <tr>\n",
       "      <th>121</th>\n",
       "      <td>['security_and_defense', 'public_opinion', 'le...</td>\n",
       "      <td>security_and_defense</td>\n",
       "      <td>2</td>\n",
       "    </tr>\n",
       "    <tr>\n",
       "      <th>126</th>\n",
       "      <td>['public_opinion', 'external_regulation_and_re...</td>\n",
       "      <td>public_opinion</td>\n",
       "      <td>2</td>\n",
       "    </tr>\n",
       "    <tr>\n",
       "      <th>128</th>\n",
       "      <td>['political', 'public_opinion', 'external_regu...</td>\n",
       "      <td>external_regulation_and_reputation</td>\n",
       "      <td>2</td>\n",
       "    </tr>\n",
       "    <tr>\n",
       "      <th>130</th>\n",
       "      <td>['security_and_defense', 'public_opinion']</td>\n",
       "      <td>security_and_defense</td>\n",
       "      <td>2</td>\n",
       "    </tr>\n",
       "    <tr>\n",
       "      <th>135</th>\n",
       "      <td>['public_opinion', 'political', 'quality_of_li...</td>\n",
       "      <td>political</td>\n",
       "      <td>2</td>\n",
       "    </tr>\n",
       "    <tr>\n",
       "      <th>137</th>\n",
       "      <td>['security_and_defense', 'political']</td>\n",
       "      <td>security_and_defense</td>\n",
       "      <td>2</td>\n",
       "    </tr>\n",
       "    <tr>\n",
       "      <th>138</th>\n",
       "      <td>['security_and_defense', 'morality', 'public_o...</td>\n",
       "      <td>security_and_defense</td>\n",
       "      <td>2</td>\n",
       "    </tr>\n",
       "    <tr>\n",
       "      <th>139</th>\n",
       "      <td>['policy_prescription_and_evaluation', 'public...</td>\n",
       "      <td>policy_prescription_and_evaluation</td>\n",
       "      <td>2</td>\n",
       "    </tr>\n",
       "  </tbody>\n",
       "</table>\n",
       "</div>"
      ],
      "text/plain": [
       "                                                frames  \\\n",
       "2    ['political', 'quality_of_life', 'public_opini...   \n",
       "3    ['policy_prescription_and_evaluation', 'public...   \n",
       "4    ['external_regulation_and_reputation', 'qualit...   \n",
       "5    ['external_regulation_and_reputation', 'politi...   \n",
       "6                      ['political', 'public_opinion']   \n",
       "11   ['policy_prescription_and_evaluation', 'qualit...   \n",
       "12                                       ['political']   \n",
       "15   ['legality_constitutionality_and_jurisprudence...   \n",
       "16   ['legality_constitutionality_and_jurisprudence...   \n",
       "19                                  ['public_opinion']   \n",
       "22   ['political', 'legality_constitutionality_and_...   \n",
       "24   ['public_opinion', 'political', 'policy_prescr...   \n",
       "26   ['political', 'legality_constitutionality_and_...   \n",
       "28                                       ['political']   \n",
       "30   ['political', 'legality_constitutionality_and_...   \n",
       "31   ['legality_constitutionality_and_jurisprudence...   \n",
       "36   ['political', 'quality_of_life', 'public_opini...   \n",
       "51          ['security_and_defense', 'public_opinion']   \n",
       "54   ['political', 'policy_prescription_and_evaluat...   \n",
       "55                     ['public_opinion', 'political']   \n",
       "56   ['legality_constitutionality_and_jurisprudence...   \n",
       "64   ['legality_constitutionality_and_jurisprudence...   \n",
       "65   ['legality_constitutionality_and_jurisprudence...   \n",
       "71   ['policy_prescription_and_evaluation', 'politi...   \n",
       "73   ['political', 'public_opinion', 'external_regu...   \n",
       "76          ['security_and_defense', 'public_opinion']   \n",
       "78                     ['public_opinion', 'political']   \n",
       "83                     ['political', 'public_opinion']   \n",
       "93   ['external_regulation_and_reputation', 'public...   \n",
       "99   ['legality_constitutionality_and_jurisprudence...   \n",
       "101         ['public_opinion', 'security_and_defense']   \n",
       "102         ['security_and_defense', 'public_opinion']   \n",
       "106                                 ['public_opinion']   \n",
       "107                    ['political', 'public_opinion']   \n",
       "108  ['policy_prescription_and_evaluation', 'legali...   \n",
       "109                           ['security_and_defense']   \n",
       "111  ['legality_constitutionality_and_jurisprudence...   \n",
       "112                    ['political', 'public_opinion']   \n",
       "114  ['political', 'public_opinion', 'capacity_and_...   \n",
       "115                    ['political', 'public_opinion']   \n",
       "119         ['security_and_defense', 'public_opinion']   \n",
       "120         ['public_opinion', 'security_and_defense']   \n",
       "121  ['security_and_defense', 'public_opinion', 'le...   \n",
       "126  ['public_opinion', 'external_regulation_and_re...   \n",
       "128  ['political', 'public_opinion', 'external_regu...   \n",
       "130         ['security_and_defense', 'public_opinion']   \n",
       "135  ['public_opinion', 'political', 'quality_of_li...   \n",
       "137              ['security_and_defense', 'political']   \n",
       "138  ['security_and_defense', 'morality', 'public_o...   \n",
       "139  ['policy_prescription_and_evaluation', 'public...   \n",
       "\n",
       "                                 principal_frames  final_clusters_tfidf  \n",
       "2                                       political                     2  \n",
       "3              policy_prescription_and_evaluation                     2  \n",
       "4                           fairness_and_equality                     2  \n",
       "5              external_regulation_and_reputation                     2  \n",
       "6                                       political                     2  \n",
       "11             policy_prescription_and_evaluation                     2  \n",
       "12                                      political                     2  \n",
       "15             policy_prescription_and_evaluation                     2  \n",
       "16             policy_prescription_and_evaluation                     2  \n",
       "19                                 public_opinion                     2  \n",
       "22                                      political                     2  \n",
       "24                                      political                     2  \n",
       "26                                      political                     2  \n",
       "28                                      political                     2  \n",
       "30   legality_constitutionality_and_jurisprudence                     2  \n",
       "31                                      political                     2  \n",
       "36                                      political                     2  \n",
       "51                           security_and_defense                     2  \n",
       "54                                      political                     2  \n",
       "55                                 public_opinion                     2  \n",
       "56             policy_prescription_and_evaluation                     2  \n",
       "64                                      political                     2  \n",
       "65                                      political                     2  \n",
       "71             policy_prescription_and_evaluation                     2  \n",
       "73                                 public_opinion                     2  \n",
       "76                           security_and_defense                     2  \n",
       "78                                 public_opinion                     2  \n",
       "83                                      political                     2  \n",
       "93             external_regulation_and_reputation                     2  \n",
       "99             policy_prescription_and_evaluation                     2  \n",
       "101                          security_and_defense                     2  \n",
       "102                          security_and_defense                     2  \n",
       "106                                public_opinion                     2  \n",
       "107                                     political                     2  \n",
       "108                               quality_of_life                     2  \n",
       "109                          security_and_defense                     2  \n",
       "111  legality_constitutionality_and_jurisprudence                     2  \n",
       "112                                public_opinion                     2  \n",
       "114                        capacity_and_resources                     2  \n",
       "115                                     political                     2  \n",
       "119                          security_and_defense                     2  \n",
       "120                                public_opinion                     2  \n",
       "121                          security_and_defense                     2  \n",
       "126                                public_opinion                     2  \n",
       "128            external_regulation_and_reputation                     2  \n",
       "130                          security_and_defense                     2  \n",
       "135                                     political                     2  \n",
       "137                          security_and_defense                     2  \n",
       "138                          security_and_defense                     2  \n",
       "139            policy_prescription_and_evaluation                     2  "
      ]
     },
     "execution_count": 85,
     "metadata": {},
     "output_type": "execute_result"
    }
   ],
   "source": [
    "df.loc[df[\"final_clusters_tfidf\"] == 2, [\"frames\", \"principal_frames\", \"final_clusters_tfidf\"]]\n"
   ]
  },
  {
   "cell_type": "code",
   "execution_count": 86,
   "id": "b4512b8e5ff4bf9f",
   "metadata": {
    "ExecuteTime": {
     "end_time": "2025-08-22T04:21:06.948484Z",
     "start_time": "2025-08-22T04:21:06.836599Z"
    }
   },
   "outputs": [
    {
     "name": "stdout",
     "output_type": "stream",
     "text": [
      "Combined feature matrix (frames + tone + text):\n",
      "   economic  capacity_and_resources  morality  fairness_and_equality  \\\n",
      "0         0                       0         0                      0   \n",
      "1         1                       0         1                      0   \n",
      "2         0                       0         0                      0   \n",
      "3         0                       0         0                      0   \n",
      "4         0                       1         0                      1   \n",
      "\n",
      "   legality_constitutionality_and_jurisprudence  \\\n",
      "0                                             1   \n",
      "1                                             0   \n",
      "2                                             0   \n",
      "3                                             0   \n",
      "4                                             0   \n",
      "\n",
      "   policy_prescription_and_evaluation  crime_and_punishment  \\\n",
      "0                                   1                     1   \n",
      "1                                   1                     0   \n",
      "2                                   0                     0   \n",
      "3                                   1                     0   \n",
      "4                                   1                     0   \n",
      "\n",
      "   security_and_defense  health_and_safety  quality_of_life  ...  text_490  \\\n",
      "0                     0                  0                0  ...       0.0   \n",
      "1                     0                  0                0  ...       0.0   \n",
      "2                     0                  0                1  ...       0.0   \n",
      "3                     0                  0                0  ...       0.0   \n",
      "4                     0                  0                1  ...       0.0   \n",
      "\n",
      "   text_491  text_492  text_493  text_494  text_495  text_496  text_497  \\\n",
      "0       0.0   0.00000       0.0  0.000000  0.000000  0.000000       0.0   \n",
      "1       0.0   0.00000       0.0  0.000000  0.000000  0.053963       0.0   \n",
      "2       0.0   0.00000       0.0  0.126610  0.000000  0.000000       0.0   \n",
      "3       0.0   0.00000       0.0  0.033493  0.000000  0.000000       0.0   \n",
      "4       0.0   0.15458       0.0  0.076550  0.068695  0.000000       0.0   \n",
      "\n",
      "   text_498  text_499  \n",
      "0  0.000000  0.000000  \n",
      "1  0.057889  0.000000  \n",
      "2  0.000000  0.000000  \n",
      "3  0.000000  0.054777  \n",
      "4  0.000000  0.000000  \n",
      "\n",
      "[5 rows x 517 columns]\n",
      "\n",
      "Document 0 is closest to:\n",
      "   Document 88 (dist=2.028)\n",
      "   Document 66 (dist=2.031)\n",
      "   Document 62 (dist=2.031)\n",
      "\n",
      "Document 1 is closest to:\n",
      "   Document 54 (dist=1.964)\n",
      "   Document 73 (dist=1.978)\n",
      "   Document 24 (dist=1.979)\n",
      "\n",
      "Document 2 is closest to:\n",
      "   Document 36 (dist=1.116)\n",
      "   Document 135 (dist=1.138)\n",
      "   Document 83 (dist=1.435)\n",
      "\n",
      "Document 3 is closest to:\n",
      "   Document 73 (dist=1.759)\n",
      "   Document 54 (dist=1.785)\n",
      "   Document 24 (dist=1.833)\n",
      "\n",
      "Document 4 is closest to:\n",
      "   Document 39 (dist=2.199)\n",
      "   Document 126 (dist=2.252)\n",
      "   Document 49 (dist=2.436)\n",
      "\n",
      "Document 5 is closest to:\n",
      "   Document 112 (dist=1.767)\n",
      "   Document 103 (dist=1.779)\n",
      "   Document 93 (dist=1.841)\n",
      "\n",
      "Document 6 is closest to:\n",
      "   Document 115 (dist=0.956)\n",
      "   Document 83 (dist=0.969)\n",
      "   Document 55 (dist=1.094)\n",
      "\n",
      "Document 7 is closest to:\n",
      "   Document 56 (dist=2.021)\n",
      "   Document 52 (dist=2.246)\n",
      "   Document 88 (dist=2.305)\n",
      "\n",
      "Document 8 is closest to:\n",
      "   Document 20 (dist=2.015)\n",
      "   Document 82 (dist=2.045)\n",
      "   Document 52 (dist=2.046)\n",
      "\n",
      "Document 9 is closest to:\n",
      "   Document 96 (dist=1.504)\n",
      "   Document 47 (dist=1.651)\n",
      "   Document 94 (dist=1.724)\n",
      "\n",
      "Document 10 is closest to:\n",
      "   Document 118 (dist=1.469)\n",
      "   Document 34 (dist=1.697)\n",
      "   Document 105 (dist=1.755)\n",
      "\n",
      "Document 11 is closest to:\n",
      "   Document 108 (dist=1.799)\n",
      "   Document 131 (dist=1.806)\n",
      "   Document 47 (dist=2.031)\n",
      "\n",
      "Document 12 is closest to:\n",
      "   Document 28 (dist=1.006)\n",
      "   Document 83 (dist=1.354)\n",
      "   Document 63 (dist=1.469)\n",
      "\n",
      "Document 13 is closest to:\n",
      "   Document 117 (dist=1.301)\n",
      "   Document 47 (dist=1.512)\n",
      "   Document 94 (dist=1.576)\n",
      "\n",
      "Document 14 is closest to:\n",
      "   Document 33 (dist=1.257)\n",
      "   Document 117 (dist=1.888)\n",
      "   Document 13 (dist=1.889)\n",
      "\n",
      "Document 15 is closest to:\n",
      "   Document 16 (dist=1.431)\n",
      "   Document 99 (dist=1.480)\n",
      "   Document 30 (dist=1.524)\n",
      "\n",
      "Document 16 is closest to:\n",
      "   Document 15 (dist=1.431)\n",
      "   Document 81 (dist=1.447)\n",
      "   Document 54 (dist=1.487)\n",
      "\n",
      "Document 17 is closest to:\n",
      "   Document 67 (dist=2.045)\n",
      "   Document 43 (dist=2.252)\n",
      "   Document 138 (dist=2.290)\n",
      "\n",
      "Document 18 is closest to:\n",
      "   Document 9 (dist=1.993)\n",
      "   Document 47 (dist=1.995)\n",
      "   Document 67 (dist=2.228)\n",
      "\n",
      "Document 19 is closest to:\n",
      "   Document 83 (dist=1.435)\n",
      "   Document 115 (dist=1.456)\n",
      "   Document 6 (dist=1.459)\n",
      "\n",
      "Document 20 is closest to:\n",
      "   Document 87 (dist=0.997)\n",
      "   Document 59 (dist=1.036)\n",
      "   Document 60 (dist=1.396)\n",
      "\n",
      "Document 21 is closest to:\n",
      "   Document 72 (dist=1.888)\n",
      "   Document 41 (dist=2.026)\n",
      "   Document 88 (dist=2.050)\n",
      "\n",
      "Document 22 is closest to:\n",
      "   Document 30 (dist=1.154)\n",
      "   Document 26 (dist=1.170)\n",
      "   Document 28 (dist=1.450)\n",
      "\n",
      "Document 23 is closest to:\n",
      "   Document 109 (dist=1.652)\n",
      "   Document 92 (dist=1.758)\n",
      "   Document 101 (dist=1.938)\n",
      "\n",
      "Document 24 is closest to:\n",
      "   Document 54 (dist=1.022)\n",
      "   Document 83 (dist=1.410)\n",
      "   Document 115 (dist=1.443)\n",
      "\n",
      "Document 25 is closest to:\n",
      "   Document 112 (dist=2.040)\n",
      "   Document 94 (dist=2.064)\n",
      "   Document 5 (dist=2.084)\n",
      "\n",
      "Document 26 is closest to:\n",
      "   Document 22 (dist=1.170)\n",
      "   Document 30 (dist=1.197)\n",
      "   Document 28 (dist=1.460)\n",
      "\n",
      "Document 27 is closest to:\n",
      "   Document 83 (dist=1.719)\n",
      "   Document 100 (dist=1.733)\n",
      "   Document 6 (dist=1.746)\n",
      "\n",
      "Document 28 is closest to:\n",
      "   Document 12 (dist=1.006)\n",
      "   Document 83 (dist=1.272)\n",
      "   Document 115 (dist=1.366)\n",
      "\n",
      "Document 29 is closest to:\n",
      "   Document 94 (dist=2.050)\n",
      "   Document 137 (dist=2.063)\n",
      "   Document 51 (dist=2.069)\n",
      "\n",
      "Document 30 is closest to:\n",
      "   Document 22 (dist=1.154)\n",
      "   Document 26 (dist=1.197)\n",
      "   Document 35 (dist=1.445)\n",
      "\n",
      "Document 31 is closest to:\n",
      "   Document 112 (dist=1.809)\n",
      "   Document 114 (dist=2.060)\n",
      "   Document 64 (dist=2.067)\n",
      "\n",
      "Document 32 is closest to:\n",
      "   Document 82 (dist=1.793)\n",
      "   Document 80 (dist=1.798)\n",
      "   Document 106 (dist=1.813)\n",
      "\n",
      "Document 33 is closest to:\n",
      "   Document 14 (dist=1.257)\n",
      "   Document 13 (dist=1.905)\n",
      "   Document 117 (dist=1.917)\n",
      "\n",
      "Document 34 is closest to:\n",
      "   Document 118 (dist=1.332)\n",
      "   Document 35 (dist=1.423)\n",
      "   Document 105 (dist=1.666)\n",
      "\n",
      "Document 35 is closest to:\n",
      "   Document 34 (dist=1.423)\n",
      "   Document 30 (dist=1.445)\n",
      "   Document 22 (dist=1.473)\n",
      "\n",
      "Document 36 is closest to:\n",
      "   Document 2 (dist=1.116)\n",
      "   Document 135 (dist=1.121)\n",
      "   Document 83 (dist=1.428)\n",
      "\n",
      "Document 37 is closest to:\n",
      "   Document 116 (dist=2.089)\n",
      "   Document 114 (dist=2.333)\n",
      "   Document 40 (dist=2.335)\n",
      "\n",
      "Document 38 is closest to:\n",
      "   Document 87 (dist=1.440)\n",
      "   Document 20 (dist=1.440)\n",
      "   Document 123 (dist=1.469)\n",
      "\n",
      "Document 39 is closest to:\n",
      "   Document 126 (dist=1.778)\n",
      "   Document 106 (dist=1.997)\n",
      "   Document 52 (dist=2.000)\n",
      "\n",
      "Document 40 is closest to:\n",
      "   Document 39 (dist=2.081)\n",
      "   Document 52 (dist=2.294)\n",
      "   Document 42 (dist=2.298)\n",
      "\n",
      "Document 41 is closest to:\n",
      "   Document 106 (dist=1.781)\n",
      "   Document 20 (dist=1.794)\n",
      "   Document 87 (dist=1.795)\n",
      "\n",
      "Document 42 is closest to:\n",
      "   Document 79 (dist=1.741)\n",
      "   Document 133 (dist=1.745)\n",
      "   Document 120 (dist=1.960)\n",
      "\n",
      "Document 43 is closest to:\n",
      "   Document 50 (dist=1.031)\n",
      "   Document 132 (dist=1.159)\n",
      "   Document 67 (dist=1.420)\n",
      "\n",
      "Document 44 is closest to:\n",
      "   Document 122 (dist=1.516)\n",
      "   Document 75 (dist=1.624)\n",
      "   Document 107 (dist=1.757)\n",
      "\n",
      "Document 45 is closest to:\n",
      "   Document 125 (dist=2.362)\n",
      "   Document 4 (dist=2.471)\n",
      "   Document 21 (dist=2.479)\n",
      "\n",
      "Document 46 is closest to:\n",
      "   Document 129 (dist=1.562)\n",
      "   Document 103 (dist=2.017)\n",
      "   Document 51 (dist=2.024)\n",
      "\n",
      "Document 47 is closest to:\n",
      "   Document 131 (dist=1.371)\n",
      "   Document 13 (dist=1.512)\n",
      "   Document 117 (dist=1.559)\n",
      "\n",
      "Document 48 is closest to:\n",
      "   Document 105 (dist=2.074)\n",
      "   Document 136 (dist=2.081)\n",
      "   Document 134 (dist=2.131)\n",
      "\n",
      "Document 49 is closest to:\n",
      "   Document 105 (dist=2.015)\n",
      "   Document 10 (dist=2.038)\n",
      "   Document 136 (dist=2.055)\n",
      "\n",
      "Document 50 is closest to:\n",
      "   Document 43 (dist=1.031)\n",
      "   Document 132 (dist=1.079)\n",
      "   Document 67 (dist=1.416)\n",
      "\n",
      "Document 51 is closest to:\n",
      "   Document 47 (dist=1.696)\n",
      "   Document 70 (dist=1.701)\n",
      "   Document 112 (dist=1.709)\n",
      "\n",
      "Document 52 is closest to:\n",
      "   Document 107 (dist=1.383)\n",
      "   Document 78 (dist=1.476)\n",
      "   Document 106 (dist=1.762)\n",
      "\n",
      "Document 53 is closest to:\n",
      "   Document 84 (dist=1.779)\n",
      "   Document 67 (dist=1.782)\n",
      "   Document 82 (dist=1.803)\n",
      "\n",
      "Document 54 is closest to:\n",
      "   Document 24 (dist=1.022)\n",
      "   Document 115 (dist=1.335)\n",
      "   Document 83 (dist=1.342)\n",
      "\n",
      "Document 55 is closest to:\n",
      "   Document 83 (dist=1.014)\n",
      "   Document 115 (dist=1.046)\n",
      "   Document 6 (dist=1.094)\n",
      "\n",
      "Document 56 is closest to:\n",
      "   Document 65 (dist=1.732)\n",
      "   Document 80 (dist=1.945)\n",
      "   Document 88 (dist=1.951)\n",
      "\n",
      "Document 57 is closest to:\n",
      "   Document 60 (dist=1.420)\n",
      "   Document 124 (dist=1.513)\n",
      "   Document 59 (dist=1.723)\n",
      "\n",
      "Document 58 is closest to:\n",
      "   Document 57 (dist=1.775)\n",
      "   Document 56 (dist=2.010)\n",
      "   Document 65 (dist=2.053)\n",
      "\n",
      "Document 59 is closest to:\n",
      "   Document 87 (dist=1.031)\n",
      "   Document 20 (dist=1.036)\n",
      "   Document 60 (dist=1.193)\n",
      "\n",
      "Document 60 is closest to:\n",
      "   Document 59 (dist=1.193)\n",
      "   Document 124 (dist=1.203)\n",
      "   Document 20 (dist=1.396)\n",
      "\n",
      "Document 61 is closest to:\n",
      "   Document 100 (dist=1.424)\n",
      "   Document 135 (dist=1.751)\n",
      "   Document 2 (dist=1.789)\n",
      "\n",
      "Document 62 is closest to:\n",
      "   Document 22 (dist=1.451)\n",
      "   Document 63 (dist=1.454)\n",
      "   Document 30 (dist=1.481)\n",
      "\n",
      "Document 63 is closest to:\n",
      "   Document 28 (dist=1.446)\n",
      "   Document 62 (dist=1.454)\n",
      "   Document 12 (dist=1.469)\n",
      "\n",
      "Document 64 is closest to:\n",
      "   Document 16 (dist=1.536)\n",
      "   Document 54 (dist=1.760)\n",
      "   Document 24 (dist=1.765)\n",
      "\n",
      "Document 65 is closest to:\n",
      "   Document 107 (dist=1.731)\n",
      "   Document 56 (dist=1.732)\n",
      "   Document 78 (dist=1.738)\n",
      "\n",
      "Document 66 is closest to:\n",
      "   Document 62 (dist=1.668)\n",
      "   Document 19 (dist=1.752)\n",
      "   Document 34 (dist=1.924)\n",
      "\n",
      "Document 67 is closest to:\n",
      "   Document 50 (dist=1.416)\n",
      "   Document 43 (dist=1.420)\n",
      "   Document 132 (dist=1.484)\n",
      "\n",
      "Document 68 is closest to:\n",
      "   Document 69 (dist=1.924)\n",
      "   Document 114 (dist=2.114)\n",
      "   Document 72 (dist=2.226)\n",
      "\n",
      "Document 69 is closest to:\n",
      "   Document 107 (dist=1.564)\n",
      "   Document 78 (dist=1.617)\n",
      "   Document 52 (dist=1.838)\n",
      "\n",
      "Document 70 is closest to:\n",
      "   Document 47 (dist=1.685)\n",
      "   Document 51 (dist=1.701)\n",
      "   Document 129 (dist=1.786)\n",
      "\n",
      "Document 71 is closest to:\n",
      "   Document 138 (dist=2.046)\n",
      "   Document 99 (dist=2.054)\n",
      "   Document 16 (dist=2.060)\n",
      "\n",
      "Document 72 is closest to:\n",
      "   Document 60 (dist=1.850)\n",
      "   Document 124 (dist=1.859)\n",
      "   Document 21 (dist=1.888)\n",
      "\n",
      "Document 73 is closest to:\n",
      "   Document 128 (dist=1.060)\n",
      "   Document 83 (dist=1.351)\n",
      "   Document 115 (dist=1.379)\n",
      "\n",
      "Document 74 is closest to:\n",
      "   Document 27 (dist=1.775)\n",
      "   Document 16 (dist=1.811)\n",
      "   Document 62 (dist=1.997)\n",
      "\n",
      "Document 75 is closest to:\n",
      "   Document 122 (dist=1.288)\n",
      "   Document 120 (dist=1.603)\n",
      "   Document 77 (dist=1.616)\n",
      "\n",
      "Document 76 is closest to:\n",
      "   Document 120 (dist=1.069)\n",
      "   Document 102 (dist=1.091)\n",
      "   Document 130 (dist=1.114)\n",
      "\n",
      "Document 77 is closest to:\n",
      "   Document 122 (dist=1.512)\n",
      "   Document 75 (dist=1.616)\n",
      "   Document 130 (dist=1.701)\n",
      "\n",
      "Document 78 is closest to:\n",
      "   Document 107 (dist=1.019)\n",
      "   Document 52 (dist=1.476)\n",
      "   Document 106 (dist=1.517)\n",
      "\n",
      "Document 79 is closest to:\n",
      "   Document 120 (dist=1.425)\n",
      "   Document 102 (dist=1.469)\n",
      "   Document 76 (dist=1.474)\n",
      "\n",
      "Document 80 is closest to:\n",
      "   Document 32 (dist=1.798)\n",
      "   Document 69 (dist=1.857)\n",
      "   Document 56 (dist=1.945)\n",
      "\n",
      "Document 81 is closest to:\n",
      "   Document 16 (dist=1.447)\n",
      "   Document 95 (dist=1.493)\n",
      "   Document 54 (dist=1.748)\n",
      "\n",
      "Document 82 is closest to:\n",
      "   Document 84 (dist=1.749)\n",
      "   Document 106 (dist=1.756)\n",
      "   Document 32 (dist=1.793)\n",
      "\n",
      "Document 83 is closest to:\n",
      "   Document 115 (dist=0.919)\n",
      "   Document 6 (dist=0.969)\n",
      "   Document 55 (dist=1.014)\n",
      "\n",
      "Document 84 is closest to:\n",
      "   Document 82 (dist=1.749)\n",
      "   Document 53 (dist=1.779)\n",
      "   Document 32 (dist=1.826)\n",
      "\n",
      "Document 85 is closest to:\n",
      "   Document 38 (dist=2.021)\n",
      "   Document 120 (dist=2.025)\n",
      "   Document 102 (dist=2.025)\n",
      "\n",
      "Document 86 is closest to:\n",
      "   Document 98 (dist=1.474)\n",
      "   Document 103 (dist=1.789)\n",
      "   Document 51 (dist=1.806)\n",
      "\n",
      "Document 87 is closest to:\n",
      "   Document 20 (dist=0.997)\n",
      "   Document 59 (dist=1.031)\n",
      "   Document 60 (dist=1.433)\n",
      "\n",
      "Document 88 is closest to:\n",
      "   Document 57 (dist=1.773)\n",
      "   Document 125 (dist=1.869)\n",
      "   Document 56 (dist=1.951)\n",
      "\n",
      "Document 89 is closest to:\n",
      "   Document 113 (dist=1.443)\n",
      "   Document 13 (dist=1.602)\n",
      "   Document 117 (dist=1.616)\n",
      "\n",
      "Document 90 is closest to:\n",
      "   Document 131 (dist=1.380)\n",
      "   Document 117 (dist=1.575)\n",
      "   Document 13 (dist=1.578)\n",
      "\n",
      "Document 91 is closest to:\n",
      "   Document 122 (dist=1.547)\n",
      "   Document 75 (dist=1.645)\n",
      "   Document 77 (dist=1.758)\n",
      "\n",
      "Document 92 is closest to:\n",
      "   Document 23 (dist=1.758)\n",
      "   Document 28 (dist=1.784)\n",
      "   Document 109 (dist=1.796)\n",
      "\n",
      "Document 93 is closest to:\n",
      "   Document 103 (dist=1.769)\n",
      "   Document 47 (dist=1.775)\n",
      "   Document 112 (dist=1.782)\n",
      "\n",
      "Document 94 is closest to:\n",
      "   Document 117 (dist=1.567)\n",
      "   Document 13 (dist=1.576)\n",
      "   Document 47 (dist=1.686)\n",
      "\n",
      "Document 95 is closest to:\n",
      "   Document 81 (dist=1.493)\n",
      "   Document 6 (dist=1.748)\n",
      "   Document 83 (dist=1.752)\n",
      "\n",
      "Document 96 is closest to:\n",
      "   Document 9 (dist=1.504)\n",
      "   Document 127 (dist=1.798)\n",
      "   Document 51 (dist=2.029)\n",
      "\n",
      "Document 97 is closest to:\n",
      "   Document 85 (dist=2.091)\n",
      "   Document 53 (dist=2.093)\n",
      "   Document 39 (dist=2.310)\n",
      "\n",
      "Document 98 is closest to:\n",
      "   Document 103 (dist=1.298)\n",
      "   Document 86 (dist=1.474)\n",
      "   Document 20 (dist=1.678)\n",
      "\n",
      "Document 99 is closest to:\n",
      "   Document 15 (dist=1.480)\n",
      "   Document 111 (dist=1.761)\n",
      "   Document 30 (dist=1.773)\n",
      "\n",
      "Document 100 is closest to:\n",
      "   Document 61 (dist=1.424)\n",
      "   Document 83 (dist=1.612)\n",
      "   Document 6 (dist=1.713)\n",
      "\n",
      "Document 101 is closest to:\n",
      "   Document 109 (dist=1.401)\n",
      "   Document 19 (dist=1.468)\n",
      "   Document 83 (dist=1.687)\n",
      "\n",
      "Document 102 is closest to:\n",
      "   Document 120 (dist=1.011)\n",
      "   Document 76 (dist=1.091)\n",
      "   Document 130 (dist=1.096)\n",
      "\n",
      "Document 103 is closest to:\n",
      "   Document 98 (dist=1.298)\n",
      "   Document 93 (dist=1.769)\n",
      "   Document 5 (dist=1.779)\n",
      "\n",
      "Document 104 is closest to:\n",
      "   Document 102 (dist=1.726)\n",
      "   Document 76 (dist=1.786)\n",
      "   Document 120 (dist=1.811)\n",
      "\n",
      "Document 105 is closest to:\n",
      "   Document 118 (dist=1.403)\n",
      "   Document 34 (dist=1.666)\n",
      "   Document 136 (dist=1.752)\n",
      "\n",
      "Document 106 is closest to:\n",
      "   Document 107 (dist=1.405)\n",
      "   Document 102 (dist=1.426)\n",
      "   Document 120 (dist=1.481)\n",
      "\n",
      "Document 107 is closest to:\n",
      "   Document 78 (dist=1.019)\n",
      "   Document 52 (dist=1.383)\n",
      "   Document 106 (dist=1.405)\n",
      "\n",
      "Document 108 is closest to:\n",
      "   Document 11 (dist=1.799)\n",
      "   Document 90 (dist=2.002)\n",
      "   Document 89 (dist=2.037)\n",
      "\n",
      "Document 109 is closest to:\n",
      "   Document 111 (dist=1.353)\n",
      "   Document 101 (dist=1.401)\n",
      "   Document 28 (dist=1.641)\n",
      "\n",
      "Document 110 is closest to:\n",
      "   Document 106 (dist=1.795)\n",
      "   Document 53 (dist=1.834)\n",
      "   Document 107 (dist=1.997)\n",
      "\n",
      "Document 111 is closest to:\n",
      "   Document 109 (dist=1.353)\n",
      "   Document 34 (dist=1.689)\n",
      "   Document 99 (dist=1.761)\n",
      "\n",
      "Document 112 is closest to:\n",
      "   Document 127 (dist=1.461)\n",
      "   Document 6 (dist=1.663)\n",
      "   Document 107 (dist=1.676)\n",
      "\n",
      "Document 113 is closest to:\n",
      "   Document 89 (dist=1.443)\n",
      "   Document 117 (dist=1.836)\n",
      "   Document 13 (dist=1.867)\n",
      "\n",
      "Document 114 is closest to:\n",
      "   Document 107 (dist=1.447)\n",
      "   Document 78 (dist=1.520)\n",
      "   Document 52 (dist=1.787)\n",
      "\n",
      "Document 115 is closest to:\n",
      "   Document 83 (dist=0.919)\n",
      "   Document 6 (dist=0.956)\n",
      "   Document 55 (dist=1.046)\n",
      "\n",
      "Document 116 is closest to:\n",
      "   Document 80 (dist=2.003)\n",
      "   Document 58 (dist=2.061)\n",
      "   Document 37 (dist=2.089)\n",
      "\n",
      "Document 117 is closest to:\n",
      "   Document 13 (dist=1.301)\n",
      "   Document 47 (dist=1.559)\n",
      "   Document 94 (dist=1.567)\n",
      "\n",
      "Document 118 is closest to:\n",
      "   Document 34 (dist=1.332)\n",
      "   Document 105 (dist=1.403)\n",
      "   Document 134 (dist=1.463)\n",
      "\n",
      "Document 119 is closest to:\n",
      "   Document 120 (dist=1.153)\n",
      "   Document 102 (dist=1.187)\n",
      "   Document 76 (dist=1.220)\n",
      "\n",
      "Document 120 is closest to:\n",
      "   Document 130 (dist=1.008)\n",
      "   Document 102 (dist=1.011)\n",
      "   Document 76 (dist=1.069)\n",
      "\n",
      "Document 121 is closest to:\n",
      "   Document 102 (dist=1.567)\n",
      "   Document 120 (dist=1.575)\n",
      "   Document 76 (dist=1.581)\n",
      "\n",
      "Document 122 is closest to:\n",
      "   Document 75 (dist=1.288)\n",
      "   Document 120 (dist=1.474)\n",
      "   Document 77 (dist=1.512)\n",
      "\n",
      "Document 123 is closest to:\n",
      "   Document 60 (dist=1.415)\n",
      "   Document 124 (dist=1.444)\n",
      "   Document 38 (dist=1.469)\n",
      "\n",
      "Document 124 is closest to:\n",
      "   Document 60 (dist=1.203)\n",
      "   Document 123 (dist=1.444)\n",
      "   Document 87 (dist=1.502)\n",
      "\n",
      "Document 125 is closest to:\n",
      "   Document 121 (dist=1.864)\n",
      "   Document 88 (dist=1.869)\n",
      "   Document 123 (dist=1.876)\n",
      "\n",
      "Document 126 is closest to:\n",
      "   Document 106 (dist=1.491)\n",
      "   Document 133 (dist=1.521)\n",
      "   Document 107 (dist=1.721)\n",
      "\n",
      "Document 127 is closest to:\n",
      "   Document 112 (dist=1.461)\n",
      "   Document 96 (dist=1.798)\n",
      "   Document 69 (dist=1.879)\n",
      "\n",
      "Document 128 is closest to:\n",
      "   Document 73 (dist=1.060)\n",
      "   Document 83 (dist=1.442)\n",
      "   Document 6 (dist=1.450)\n",
      "\n",
      "Document 129 is closest to:\n",
      "   Document 46 (dist=1.562)\n",
      "   Document 70 (dist=1.786)\n",
      "   Document 103 (dist=1.814)\n",
      "\n",
      "Document 130 is closest to:\n",
      "   Document 120 (dist=1.008)\n",
      "   Document 102 (dist=1.096)\n",
      "   Document 76 (dist=1.114)\n",
      "\n",
      "Document 131 is closest to:\n",
      "   Document 47 (dist=1.371)\n",
      "   Document 90 (dist=1.380)\n",
      "   Document 11 (dist=1.806)\n",
      "\n",
      "Document 132 is closest to:\n",
      "   Document 50 (dist=1.079)\n",
      "   Document 43 (dist=1.159)\n",
      "   Document 67 (dist=1.484)\n",
      "\n",
      "Document 133 is closest to:\n",
      "   Document 126 (dist=1.521)\n",
      "   Document 42 (dist=1.745)\n",
      "   Document 41 (dist=1.822)\n",
      "\n",
      "Document 134 is closest to:\n",
      "   Document 118 (dist=1.463)\n",
      "   Document 19 (dist=1.502)\n",
      "   Document 132 (dist=1.708)\n",
      "\n",
      "Document 135 is closest to:\n",
      "   Document 36 (dist=1.121)\n",
      "   Document 2 (dist=1.138)\n",
      "   Document 83 (dist=1.391)\n",
      "\n",
      "Document 136 is closest to:\n",
      "   Document 83 (dist=1.721)\n",
      "   Document 115 (dist=1.732)\n",
      "   Document 105 (dist=1.752)\n",
      "\n",
      "Document 137 is closest to:\n",
      "   Document 51 (dist=1.808)\n",
      "   Document 112 (dist=1.809)\n",
      "   Document 86 (dist=1.828)\n",
      "\n",
      "Document 138 is closest to:\n",
      "   Document 135 (dist=2.005)\n",
      "   Document 61 (dist=2.022)\n",
      "   Document 71 (dist=2.046)\n",
      "\n",
      "Document 139 is closest to:\n",
      "   Document 112 (dist=1.754)\n",
      "   Document 24 (dist=2.025)\n",
      "   Document 54 (dist=2.042)\n",
      "\n",
      "Document → Cluster mapping:\n",
      "                                                 news  \\\n",
      "0   ¿Cuánto tiempo estoy autorizado a permanecer e...   \n",
      "1   Colombia y Venezuela instalaron comisión de ve...   \n",
      "2   Atrasar proceso electoral hasta enero de 2024,...   \n",
      "3   Avanza SLP en cuanto a transparencia presupues...   \n",
      "4   Confía dirigente del PT en mantener el registr...   \n",
      "5   Congreso de SLP llamará a Gabino Morales a ren...   \n",
      "6   Denuncian a antro Fabrik en SLP por supuesta d...   \n",
      "7   En 2023 han sido rescatados casi 900 migrantes...   \n",
      "8   Mediante programa Familias de Acogida, se proc...   \n",
      "9   Noroña se compara con Gallardo y asegura que c...   \n",
      "10  Percepción de inseguridad en SLP está influenc...   \n",
      "11  Real de Catorce anuncia cierre de túnel Ogarri...   \n",
      "12  Gustavo Bolívar será el candidato del Pacto Hi...   \n",
      "13  Reportan la cifra más alta por violencia de gé...   \n",
      "14  Rescatan a 13 migrantes que viajaban ocultos e...   \n",
      "15  Señala Ricardo Gallardo a 10 municipios potosi...   \n",
      "16  Tras asegurar pipas de hidrocarburos en SLP, P...   \n",
      "17  Acusan comerciantes hostigamiento y extorsión ...   \n",
      "18  Atenderá Ayuntamiento de SLP problema de caler...   \n",
      "19  Congreso realiza conversatorio sobre reforma c...   \n",
      "\n",
      "                                principal_frames      tone  cluster  \n",
      "0   legality_constitutionality_and_jurisprudence   neutral        1  \n",
      "1                                      political   neutral        1  \n",
      "2                                      political   neutral        1  \n",
      "3             policy_prescription_and_evaluation   neutral        1  \n",
      "4                          fairness_and_equality  negative        0  \n",
      "5             external_regulation_and_reputation  positive        2  \n",
      "6                                      political   neutral        1  \n",
      "7             external_regulation_and_reputation  negative        0  \n",
      "8                              health_and_safety  negative        0  \n",
      "9                                       economic  positive        2  \n",
      "10            policy_prescription_and_evaluation   neutral        1  \n",
      "11            policy_prescription_and_evaluation  positive        2  \n",
      "12                                     political   neutral        1  \n",
      "13                                      economic  positive        2  \n",
      "14                             health_and_safety  positive        2  \n",
      "15            policy_prescription_and_evaluation   neutral        1  \n",
      "16            policy_prescription_and_evaluation   neutral        1  \n",
      "17                             health_and_safety   neutral        1  \n",
      "18                             health_and_safety  positive        2  \n",
      "19                                public_opinion   neutral        1  \n",
      "\n",
      "Cluster frequencies (number of news articles):\n",
      "   cluster  num_documents\n",
      "0        1             54\n",
      "1        3             31\n",
      "2        2             29\n",
      "3        0             26\n"
     ]
    }
   ],
   "source": [
    "import pandas as pd\n",
    "import numpy as np\n",
    "from sklearn.cluster import KMeans\n",
    "from sklearn.neighbors import NearestNeighbors\n",
    "from sklearn.feature_extraction.text import TfidfVectorizer\n",
    "\n",
    "frames = [\n",
    "    \"economic\", \"capacity_and_resources\", \"morality\",\n",
    "    \"fairness_and_equality\", \"legality_constitutionality_and_jurisprudence\",\n",
    "    \"policy_prescription_and_evaluation\", \"crime_and_punishment\",\n",
    "    \"security_and_defense\", \"health_and_safety\", \"quality_of_life\",\n",
    "    \"cultural_identity\", \"public_opinion\", \"political\",\n",
    "    \"external_regulation_and_reputation\"\n",
    "]\n",
    "\n",
    "# -----------------------------\n",
    "# 1. Encode tone\n",
    "# -----------------------------\n",
    "tone_dummies = pd.get_dummies(df[\"tone\"], prefix=\"tone\")\n",
    "\n",
    "# -----------------------------\n",
    "# 2. Text features (TF-IDF)\n",
    "# -----------------------------\n",
    "vectorizer = TfidfVectorizer(max_features=500, stop_words=\"english\")  # cap at 500 to keep it manageable\n",
    "text_features = vectorizer.fit_transform(df[\"news\"]).toarray()\n",
    "text_df = pd.DataFrame(text_features, columns=[f\"text_{i}\" for i in range(text_features.shape[1])])\n",
    "\n",
    "# -----------------------------\n",
    "# 3. Combine (frames + tone + text)\n",
    "# -----------------------------\n",
    "X = pd.concat([df[frames].reset_index(drop=True), tone_dummies.reset_index(drop=True), text_df.reset_index(drop=True)], axis=1)\n",
    "\n",
    "print(\"Combined feature matrix (frames + tone + text):\")\n",
    "print(X.head())\n",
    "\n",
    "# -----------------------------\n",
    "# 4. Nearest Neighbors (documents now, not just frames)\n",
    "# -----------------------------\n",
    "nbrs = NearestNeighbors(n_neighbors=4, metric=\"euclidean\").fit(X)\n",
    "distances, indices = nbrs.kneighbors(X)\n",
    "\n",
    "for i in range(len(X)):\n",
    "    print(f\"\\nDocument {i} is closest to:\")\n",
    "    for j, idx in enumerate(indices[i][1:]):\n",
    "        print(f\"   Document {idx} (dist={distances[i][j+1]:.3f})\")\n",
    "\n",
    "# -----------------------------\n",
    "# 5. KMeans clustering (documents)\n",
    "# -----------------------------\n",
    "kmeans = KMeans(n_clusters=4, random_state=42, n_init=10)\n",
    "clusters = kmeans.fit_predict(X)\n",
    "\n",
    "df_clusters = df.copy()\n",
    "df_clusters[\"cluster\"] = clusters\n",
    "\n",
    "print(\"\\nDocument → Cluster mapping:\")\n",
    "print(df_clusters[[\"news\", \"principal_frames\", \"tone\", \"cluster\"]].head(20))\n",
    "\n",
    "# -----------------------------\n",
    "# 6. Cluster frequency\n",
    "# -----------------------------\n",
    "cluster_counts = df_clusters[\"cluster\"].value_counts().reset_index()\n",
    "cluster_counts.columns = [\"cluster\", \"num_documents\"]\n",
    "\n",
    "print(\"\\nCluster frequencies (number of news articles):\")\n",
    "print(cluster_counts)\n"
   ]
  },
  {
   "cell_type": "code",
   "execution_count": null,
   "id": "288f19845f6a76d6",
   "metadata": {
    "ExecuteTime": {
     "end_time": "2025-08-22T04:21:06.981516Z",
     "start_time": "2025-08-22T04:21:06.978515Z"
    }
   },
   "outputs": [],
   "source": []
  },
  {
   "cell_type": "code",
   "execution_count": 87,
   "id": "901eea3ed2cf0bca",
   "metadata": {
    "ExecuteTime": {
     "end_time": "2025-08-22T04:21:07.029939Z",
     "start_time": "2025-08-22T04:21:06.996547Z"
    }
   },
   "outputs": [
    {
     "name": "stdout",
     "output_type": "stream",
     "text": [
      "\n",
      "Unique frame → cluster mapping:\n",
      "                                           frame  cluster\n",
      "5             policy_prescription_and_evaluation        0\n",
      "4   legality_constitutionality_and_jurisprudence        0\n",
      "11                                public_opinion        1\n",
      "0                                       economic        2\n",
      "3                          fairness_and_equality        2\n",
      "2                                       morality        2\n",
      "6                           crime_and_punishment        2\n",
      "1                         capacity_and_resources        2\n",
      "7                           security_and_defense        2\n",
      "8                              health_and_safety        2\n",
      "9                                quality_of_life        2\n",
      "10                             cultural_identity        2\n",
      "13            external_regulation_and_reputation        2\n",
      "12                                     political        3\n",
      "\n",
      "Documents with mapped clusters (no duplicates per frame):\n",
      "                                principal_frames  frame_cluster\n",
      "0   legality_constitutionality_and_jurisprudence              0\n",
      "1                                      political              3\n",
      "2                                      political              3\n",
      "3             policy_prescription_and_evaluation              0\n",
      "4                          fairness_and_equality              2\n",
      "5             external_regulation_and_reputation              2\n",
      "6                                      political              3\n",
      "7             external_regulation_and_reputation              2\n",
      "8                              health_and_safety              2\n",
      "9                                       economic              2\n",
      "10            policy_prescription_and_evaluation              0\n",
      "11            policy_prescription_and_evaluation              0\n",
      "12                                     political              3\n",
      "13                                      economic              2\n",
      "14                             health_and_safety              2\n",
      "15            policy_prescription_and_evaluation              0\n",
      "16            policy_prescription_and_evaluation              0\n",
      "17                             health_and_safety              2\n",
      "18                             health_and_safety              2\n",
      "19                                public_opinion              1\n"
     ]
    }
   ],
   "source": [
    "import pandas as pd\n",
    "import numpy as np\n",
    "from sklearn.cluster import KMeans\n",
    "\n",
    "frames = [\n",
    "    \"economic\", \"capacity_and_resources\", \"morality\",\n",
    "    \"fairness_and_equality\", \"legality_constitutionality_and_jurisprudence\",\n",
    "    \"policy_prescription_and_evaluation\", \"crime_and_punishment\",\n",
    "    \"security_and_defense\", \"health_and_safety\", \"quality_of_life\",\n",
    "    \"cultural_identity\", \"public_opinion\", \"political\",\n",
    "    \"external_regulation_and_reputation\"\n",
    "]\n",
    "\n",
    "# -----------------------------\n",
    "# 1. Build frame profiles\n",
    "# -----------------------------\n",
    "frame_profiles = df[frames].T   # rows = frames, columns = docs\n",
    "\n",
    "# -----------------------------\n",
    "# 2. Cluster unique frames\n",
    "# -----------------------------\n",
    "kmeans = KMeans(n_clusters=4, random_state=42, n_init=10)\n",
    "frame_clusters = kmeans.fit_predict(frame_profiles)\n",
    "\n",
    "\n",
    "frame_cluster_map = pd.DataFrame({\n",
    "    \"frame\": frames,\n",
    "    \"cluster\": frame_clusters\n",
    "})\n",
    "\n",
    "print(\"\\nUnique frame → cluster mapping:\")\n",
    "print(frame_cluster_map.sort_values(\"cluster\"))\n",
    "\n",
    "# -----------------------------\n",
    "# 3. Map each document’s frame to its cluster\n",
    "# -----------------------------\n",
    "frame_to_cluster = dict(zip(frame_cluster_map[\"frame\"], frame_cluster_map[\"cluster\"]))\n",
    "\n",
    "df[\"frame_cluster\"] = df[\"principal_frames\"].map(frame_to_cluster)\n",
    "\n",
    "print(\"\\nDocuments with mapped clusters (no duplicates per frame):\")\n",
    "print(df[[\"principal_frames\", \"frame_cluster\"]].head(20))"
   ]
  },
  {
   "cell_type": "code",
   "execution_count": 88,
   "id": "ac127c88b9176a1e",
   "metadata": {
    "ExecuteTime": {
     "end_time": "2025-08-22T04:21:07.043439Z",
     "start_time": "2025-08-22T04:21:07.039945Z"
    }
   },
   "outputs": [],
   "source": [
    "order  = df[\"frame_cluster\"].value_counts().index"
   ]
  },
  {
   "cell_type": "code",
   "execution_count": 89,
   "id": "edce38e70e6bd103",
   "metadata": {
    "ExecuteTime": {
     "end_time": "2025-08-22T04:21:07.176165Z",
     "start_time": "2025-08-22T04:21:07.064463Z"
    }
   },
   "outputs": [
    {
     "data": {
      "image/png": "[encoded data removed]",
      "text/plain": [
       "<Figure size 1000x2000 with 1 Axes>"
      ]
     },
     "metadata": {},
     "output_type": "display_data"
    }
   ],
   "source": [
    "plt.figure(figsize=(10, 20))\n",
    "sns.countplot(data=df, y=\"frame_cluster\", order=order)\n",
    "plt.show()"
   ]
  },
  {
   "cell_type": "code",
   "execution_count": 90,
   "id": "f346e0ae474ad8cc",
   "metadata": {
    "ExecuteTime": {
     "end_time": "2025-08-22T04:21:07.187266Z",
     "start_time": "2025-08-22T04:21:07.182173Z"
    }
   },
   "outputs": [
    {
     "data": {
      "text/plain": [
       "array(['legality_constitutionality_and_jurisprudence', 'political',\n",
       "       'policy_prescription_and_evaluation', 'fairness_and_equality',\n",
       "       'external_regulation_and_reputation', 'health_and_safety',\n",
       "       'economic', 'public_opinion', 'crime_and_punishment',\n",
       "       'security_and_defense', 'morality', 'cultural_identity',\n",
       "       'quality_of_life', 'capacity_and_resources'], dtype=object)"
      ]
     },
     "execution_count": 90,
     "metadata": {},
     "output_type": "execute_result"
    }
   ],
   "source": [
    "df[\"principal_frames\"].unique()"
   ]
  },
  {
   "cell_type": "code",
   "execution_count": 91,
   "id": "e983402bcb7669b0",
   "metadata": {
    "ExecuteTime": {
     "end_time": "2025-08-22T04:21:07.205309Z",
     "start_time": "2025-08-22T04:21:07.201280Z"
    }
   },
   "outputs": [],
   "source": [
    "frame_groups = {\n",
    "    \"legality_constitutionality_and_jurisprudence\": \"institutional_governance\",\n",
    "    \"political\": \"institutional_governance\",\n",
    "    \"policy_prescription_and_evaluation\": \"institutional_governance\",\n",
    "    \"external_regulation_and_reputation\": \"institutional_governance\",\n",
    "    \"public_opinion\": \"institutional_governance\",\n",
    "\n",
    "    \"fairness_and_equality\": \"justice_ethics_values\",\n",
    "    \"morality\": \"justice_ethics_values\",\n",
    "    \"cultural_identity\": \"justice_ethics_values\",\n",
    "\n",
    "    \"crime_and_punishment\": \"security_order\",\n",
    "    \"security_and_defense\": \"security_order\",\n",
    "\n",
    "    \"economic\": \"socioeconomic_wellbeing\",\n",
    "    \"capacity_and_resources\": \"socioeconomic_wellbeing\",\n",
    "    \"quality_of_life\": \"socioeconomic_wellbeing\",\n",
    "    \"health_and_safety\": \"socioeconomic_wellbeing\"\n",
    "}\n"
   ]
  },
  {
   "cell_type": "code",
   "execution_count": 92,
   "id": "13851563e99f8686",
   "metadata": {
    "ExecuteTime": {
     "end_time": "2025-08-22T04:21:07.220565Z",
     "start_time": "2025-08-22T04:21:07.216343Z"
    }
   },
   "outputs": [],
   "source": [
    "df[\"frame_group\"] = df[\"principal_frames\"].map(frame_groups)"
   ]
  },
  {
   "cell_type": "code",
   "execution_count": 93,
   "id": "25a84bb840ece833",
   "metadata": {
    "ExecuteTime": {
     "end_time": "2025-08-22T04:21:07.240599Z",
     "start_time": "2025-08-22T04:21:07.228089Z"
    }
   },
   "outputs": [
    {
     "data": {
      "text/html": [
       "<div>\n",
       "<style scoped>\n",
       "    .dataframe tbody tr th:only-of-type {\n",
       "        vertical-align: middle;\n",
       "    }\n",
       "\n",
       "    .dataframe tbody tr th {\n",
       "        vertical-align: top;\n",
       "    }\n",
       "\n",
       "    .dataframe thead th {\n",
       "        text-align: right;\n",
       "    }\n",
       "</style>\n",
       "<table border=\"1\" class=\"dataframe\">\n",
       "  <thead>\n",
       "    <tr style=\"text-align: right;\">\n",
       "      <th></th>\n",
       "      <th>id</th>\n",
       "      <th>news</th>\n",
       "      <th>frames</th>\n",
       "      <th>tone</th>\n",
       "      <th>principal_frames</th>\n",
       "      <th>economic</th>\n",
       "      <th>capacity_and_resources</th>\n",
       "      <th>morality</th>\n",
       "      <th>fairness_and_equality</th>\n",
       "      <th>legality_constitutionality_and_jurisprudence</th>\n",
       "      <th>...</th>\n",
       "      <th>country</th>\n",
       "      <th>news_cleaned</th>\n",
       "      <th>news_cleaned_without_stopwords</th>\n",
       "      <th>news_tokens</th>\n",
       "      <th>news_lemmes</th>\n",
       "      <th>frames_reduced</th>\n",
       "      <th>combined_clusters</th>\n",
       "      <th>final_clusters_tfidf</th>\n",
       "      <th>frame_cluster</th>\n",
       "      <th>frame_group</th>\n",
       "    </tr>\n",
       "  </thead>\n",
       "  <tbody>\n",
       "    <tr>\n",
       "      <th>0</th>\n",
       "      <td>Noticia_1.txt</td>\n",
       "      <td>¿Cuánto tiempo estoy autorizado a permanecer e...</td>\n",
       "      <td>['external_regulation_and_reputation', 'legali...</td>\n",
       "      <td>neutral</td>\n",
       "      <td>legality_constitutionality_and_jurisprudence</td>\n",
       "      <td>0</td>\n",
       "      <td>0</td>\n",
       "      <td>0</td>\n",
       "      <td>0</td>\n",
       "      <td>1</td>\n",
       "      <td>...</td>\n",
       "      <td>Colombia</td>\n",
       "      <td>cuánto tiempo estoy autorizado a permanecer e...</td>\n",
       "      <td>cuánto tiempo autorizado permanecer unidos \\n...</td>\n",
       "      <td>cuánto tiempo autorizado permanecer unidos \\n...</td>\n",
       "      <td>cua ́ nto tiempo autorizado permanecer unidos ...</td>\n",
       "      <td>2</td>\n",
       "      <td>2</td>\n",
       "      <td>4</td>\n",
       "      <td>0</td>\n",
       "      <td>institutional_governance</td>\n",
       "    </tr>\n",
       "    <tr>\n",
       "      <th>1</th>\n",
       "      <td>Noticia_2.txt</td>\n",
       "      <td>Colombia y Venezuela instalaron comisión de ve...</td>\n",
       "      <td>['policy_prescription_and_evaluation', 'politi...</td>\n",
       "      <td>neutral</td>\n",
       "      <td>political</td>\n",
       "      <td>1</td>\n",
       "      <td>0</td>\n",
       "      <td>1</td>\n",
       "      <td>0</td>\n",
       "      <td>0</td>\n",
       "      <td>...</td>\n",
       "      <td>Colombia</td>\n",
       "      <td>colombia y venezuela instalaron comisión de v...</td>\n",
       "      <td>colombia venezuela instalaron comisión vecind...</td>\n",
       "      <td>colombia venezuela instalaron comisión vecind...</td>\n",
       "      <td>colombia venezuela instalaron comisio ́ n veci...</td>\n",
       "      <td>2</td>\n",
       "      <td>1</td>\n",
       "      <td>1</td>\n",
       "      <td>3</td>\n",
       "      <td>institutional_governance</td>\n",
       "    </tr>\n",
       "    <tr>\n",
       "      <th>2</th>\n",
       "      <td>Noticia_7.txt</td>\n",
       "      <td>Atrasar proceso electoral hasta enero de 2024,...</td>\n",
       "      <td>['political', 'quality_of_life', 'public_opini...</td>\n",
       "      <td>neutral</td>\n",
       "      <td>political</td>\n",
       "      <td>0</td>\n",
       "      <td>0</td>\n",
       "      <td>0</td>\n",
       "      <td>0</td>\n",
       "      <td>0</td>\n",
       "      <td>...</td>\n",
       "      <td>Colombia</td>\n",
       "      <td>atrasar proceso electoral hasta enero de 2024 ...</td>\n",
       "      <td>atrasar proceso electoral enero 2024 puesto de...</td>\n",
       "      <td>atrasar proceso electoral enero 2024 puesto de...</td>\n",
       "      <td>atrasar proceso electoral enero 2024 puesto de...</td>\n",
       "      <td>2</td>\n",
       "      <td>1</td>\n",
       "      <td>2</td>\n",
       "      <td>3</td>\n",
       "      <td>institutional_governance</td>\n",
       "    </tr>\n",
       "    <tr>\n",
       "      <th>3</th>\n",
       "      <td>Noticia_8.txt</td>\n",
       "      <td>Avanza SLP en cuanto a transparencia presupues...</td>\n",
       "      <td>['policy_prescription_and_evaluation', 'public...</td>\n",
       "      <td>neutral</td>\n",
       "      <td>policy_prescription_and_evaluation</td>\n",
       "      <td>0</td>\n",
       "      <td>0</td>\n",
       "      <td>0</td>\n",
       "      <td>0</td>\n",
       "      <td>0</td>\n",
       "      <td>...</td>\n",
       "      <td>Colombia</td>\n",
       "      <td>avanza slp en cuanto a transparencia presupues...</td>\n",
       "      <td>avanza slp transparencia presupuestal 2023 imc...</td>\n",
       "      <td>avanza slp transparencia presupuestal 2023 imc...</td>\n",
       "      <td>avanza slp transparencia presupuestal 2023 imc...</td>\n",
       "      <td>2</td>\n",
       "      <td>1</td>\n",
       "      <td>2</td>\n",
       "      <td>0</td>\n",
       "      <td>institutional_governance</td>\n",
       "    </tr>\n",
       "    <tr>\n",
       "      <th>4</th>\n",
       "      <td>Noticia_9.txt</td>\n",
       "      <td>Confía dirigente del PT en mantener el registr...</td>\n",
       "      <td>['external_regulation_and_reputation', 'qualit...</td>\n",
       "      <td>negative</td>\n",
       "      <td>fairness_and_equality</td>\n",
       "      <td>0</td>\n",
       "      <td>1</td>\n",
       "      <td>0</td>\n",
       "      <td>1</td>\n",
       "      <td>0</td>\n",
       "      <td>...</td>\n",
       "      <td>Colombia</td>\n",
       "      <td>confía dirigente del pt en mantener el regist...</td>\n",
       "      <td>confía dirigente pt mantener registro san lui...</td>\n",
       "      <td>confía dirigente pt mantener registro san lui...</td>\n",
       "      <td>confi ́ a dirigente pt mantener registro san l...</td>\n",
       "      <td>2</td>\n",
       "      <td>0</td>\n",
       "      <td>2</td>\n",
       "      <td>2</td>\n",
       "      <td>justice_ethics_values</td>\n",
       "    </tr>\n",
       "  </tbody>\n",
       "</table>\n",
       "<p>5 rows × 29 columns</p>\n",
       "</div>"
      ],
      "text/plain": [
       "              id                                               news  \\\n",
       "0  Noticia_1.txt  ¿Cuánto tiempo estoy autorizado a permanecer e...   \n",
       "1  Noticia_2.txt  Colombia y Venezuela instalaron comisión de ve...   \n",
       "2  Noticia_7.txt  Atrasar proceso electoral hasta enero de 2024,...   \n",
       "3  Noticia_8.txt  Avanza SLP en cuanto a transparencia presupues...   \n",
       "4  Noticia_9.txt  Confía dirigente del PT en mantener el registr...   \n",
       "\n",
       "                                              frames      tone  \\\n",
       "0  ['external_regulation_and_reputation', 'legali...   neutral   \n",
       "1  ['policy_prescription_and_evaluation', 'politi...   neutral   \n",
       "2  ['political', 'quality_of_life', 'public_opini...   neutral   \n",
       "3  ['policy_prescription_and_evaluation', 'public...   neutral   \n",
       "4  ['external_regulation_and_reputation', 'qualit...  negative   \n",
       "\n",
       "                               principal_frames  economic  \\\n",
       "0  legality_constitutionality_and_jurisprudence         0   \n",
       "1                                     political         1   \n",
       "2                                     political         0   \n",
       "3            policy_prescription_and_evaluation         0   \n",
       "4                         fairness_and_equality         0   \n",
       "\n",
       "   capacity_and_resources  morality  fairness_and_equality  \\\n",
       "0                       0         0                      0   \n",
       "1                       0         1                      0   \n",
       "2                       0         0                      0   \n",
       "3                       0         0                      0   \n",
       "4                       1         0                      1   \n",
       "\n",
       "   legality_constitutionality_and_jurisprudence  ...   country  \\\n",
       "0                                             1  ...  Colombia   \n",
       "1                                             0  ...  Colombia   \n",
       "2                                             0  ...  Colombia   \n",
       "3                                             0  ...  Colombia   \n",
       "4                                             0  ...  Colombia   \n",
       "\n",
       "                                        news_cleaned  \\\n",
       "0  cuánto tiempo estoy autorizado a permanecer e...   \n",
       "1  colombia y venezuela instalaron comisión de v...   \n",
       "2  atrasar proceso electoral hasta enero de 2024 ...   \n",
       "3  avanza slp en cuanto a transparencia presupues...   \n",
       "4  confía dirigente del pt en mantener el regist...   \n",
       "\n",
       "                      news_cleaned_without_stopwords  \\\n",
       "0  cuánto tiempo autorizado permanecer unidos \\n...   \n",
       "1  colombia venezuela instalaron comisión vecind...   \n",
       "2  atrasar proceso electoral enero 2024 puesto de...   \n",
       "3  avanza slp transparencia presupuestal 2023 imc...   \n",
       "4  confía dirigente pt mantener registro san lui...   \n",
       "\n",
       "                                         news_tokens  \\\n",
       "0  cuánto tiempo autorizado permanecer unidos \\n...   \n",
       "1  colombia venezuela instalaron comisión vecind...   \n",
       "2  atrasar proceso electoral enero 2024 puesto de...   \n",
       "3  avanza slp transparencia presupuestal 2023 imc...   \n",
       "4  confía dirigente pt mantener registro san lui...   \n",
       "\n",
       "                                         news_lemmes  frames_reduced  \\\n",
       "0  cua ́ nto tiempo autorizado permanecer unidos ...               2   \n",
       "1  colombia venezuela instalaron comisio ́ n veci...               2   \n",
       "2  atrasar proceso electoral enero 2024 puesto de...               2   \n",
       "3  avanza slp transparencia presupuestal 2023 imc...               2   \n",
       "4  confi ́ a dirigente pt mantener registro san l...               2   \n",
       "\n",
       "   combined_clusters  final_clusters_tfidf  frame_cluster  \\\n",
       "0                  2                     4              0   \n",
       "1                  1                     1              3   \n",
       "2                  1                     2              3   \n",
       "3                  1                     2              0   \n",
       "4                  0                     2              2   \n",
       "\n",
       "                frame_group  \n",
       "0  institutional_governance  \n",
       "1  institutional_governance  \n",
       "2  institutional_governance  \n",
       "3  institutional_governance  \n",
       "4     justice_ethics_values  \n",
       "\n",
       "[5 rows x 29 columns]"
      ]
     },
     "execution_count": 93,
     "metadata": {},
     "output_type": "execute_result"
    }
   ],
   "source": [
    "df.head()"
   ]
  },
  {
   "cell_type": "code",
   "execution_count": 94,
   "id": "de5c0e5e44ae39b0",
   "metadata": {
    "ExecuteTime": {
     "end_time": "2025-08-22T04:21:07.444270Z",
     "start_time": "2025-08-22T04:21:07.314237Z"
    }
   },
   "outputs": [
    {
     "data": {
      "image/png": "[encoded data removed]",
      "text/plain": [
       "<Figure size 1000x2000 with 1 Axes>"
      ]
     },
     "metadata": {},
     "output_type": "display_data"
    }
   ],
   "source": [
    "order  = df[\"frame_group\"].value_counts().index\n",
    "plt.figure(figsize=(10, 20))\n",
    "sns.countplot(data=df, y=\"frame_group\", order=order)\n",
    "plt.show()"
   ]
  },
  {
   "cell_type": "code",
   "execution_count": 95,
   "id": "77d1986b81bcf593",
   "metadata": {
    "ExecuteTime": {
     "end_time": "2025-08-22T04:21:07.561383Z",
     "start_time": "2025-08-22T04:21:07.458278Z"
    }
   },
   "outputs": [
    {
     "data": {
      "image/png": "[encoded data removed]",
      "text/plain": [
       "<Figure size 1000x2000 with 1 Axes>"
      ]
     },
     "metadata": {},
     "output_type": "display_data"
    }
   ],
   "source": [
    "order  = df[\"country\"].value_counts().index\n",
    "plt.figure(figsize=(10, 20))\n",
    "sns.countplot(data=df, y=\"country\", order=order)\n",
    "plt.show()"
   ]
  },
  {
   "cell_type": "code",
   "execution_count": null,
   "id": "6c6061bbe5bb4bd9",
   "metadata": {
    "ExecuteTime": {
     "end_time": "2025-08-22T04:21:07.570393Z",
     "start_time": "2025-08-22T04:21:07.567390Z"
    }
   },
   "outputs": [],
   "source": []
  }
 ],
 "metadata": {
  "kernelspec": {
   "display_name": ".venv (3.11.3)",
   "language": "python",
   "name": "python3"
  },
  "language_info": {
   "codemirror_mode": {
    "name": "ipython",
    "version": 3
   },
   "file_extension": ".py",
   "mimetype": "text/x-python",
   "name": "python",
   "nbconvert_exporter": "python",
   "pygments_lexer": "ipython3",
   "version": "3.11.3"
  }
 },
 "nbformat": 4,
 "nbformat_minor": 5
}
